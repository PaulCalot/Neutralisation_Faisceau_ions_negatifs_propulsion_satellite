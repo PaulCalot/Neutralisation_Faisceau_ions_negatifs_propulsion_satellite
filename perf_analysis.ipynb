{
 "cells": [
  {
   "cell_type": "code",
   "execution_count": 1,
   "id": "personal-withdrawal",
   "metadata": {},
   "outputs": [],
   "source": [
    "from handler_collision_with_wall import handler_wall_collision as handler_wall_collision_cy\n",
    "from data_structures.vector import MyVector\n",
    "import numpy as np"
   ]
  },
  {
   "cell_type": "code",
   "execution_count": 2,
   "id": "mathematical-wonder",
   "metadata": {},
   "outputs": [],
   "source": [
    "def handler_wall_collision(position, speed, radius, wall_directing_vector, wall):\n",
    "    # p index of the part\n",
    "    x1, y1, x2, y2 = wall # x1<=x2 etc.\n",
    "\n",
    "    # angle\n",
    "    theta = np.sign(wall_directing_vector.y)*np.arccos(wall_directing_vector.x)\n",
    "\n",
    "    # A and B\n",
    "    sTheta, cTheta = np.sin(theta), np.cos(theta)\n",
    "    B = -speed.x*sTheta+speed.y*cTheta\n",
    "    if B == 0.0 : \n",
    "        return np.nan, None # TODO : should we add a tolerance ? It will never be equals to zero exactly...\n",
    "    A = -position.x*sTheta+position.y*cTheta\n",
    "\n",
    "    # new position of the wall in the new base\n",
    "    y1_new_base = -x1*sTheta+y1*cTheta\n",
    "    A_prime = A-y1_new_base\n",
    "    # possible collision time :\n",
    "    t_coll_1 = (-A_prime-radius)/B\n",
    "    t_coll_2 = (-A_prime+radius)/B\n",
    "\n",
    "    t_intersect = max(t_coll_1, t_coll_2)\n",
    "\n",
    "    if(t_intersect > 0):\n",
    "        # t_intersect = max(t_coll_1, t_coll_2) # because we are not anticipating them anymore\n",
    "        # t_intersect = -A_prime/B # the time at which the disk crosses the line if its radius were radius=0.\n",
    "        pos_intersect = position + t_intersect * speed\n",
    "\n",
    "        wall_extrimity1_coordinates = MyVector(x1,y1)\n",
    "        wall_extrimity2_coordinates = MyVector(x2,y2)\n",
    "        # the reason why were are not using pos_intersect.norm is that it should be a 3D vector.\n",
    "        dP1, dP2, dP3 = wall_extrimity2_coordinates-wall_extrimity1_coordinates, \\\n",
    "            pos_intersect-wall_extrimity1_coordinates, wall_extrimity2_coordinates-pos_intersect \n",
    "        norm_1 = dP1.norm()\n",
    "        norm_2 = dP2.norm()\n",
    "        # norm_3 = dP3.norm()\n",
    "        qty=dP1.inner(dP2)/(norm_1*norm_1) # norm_1 cant be 0 because wall segments are not on same points.\n",
    "        if(qty < 1 and qty > 0):\n",
    "            return t_intersect, pos_intersect\n",
    "    return np.nan, None"
   ]
  },
  {
   "cell_type": "code",
   "execution_count": 23,
   "id": "choice-place",
   "metadata": {},
   "outputs": [],
   "source": [
    "def wrapper(position, speed, radius, wall_directing_vector, wall):\n",
    "    return handler_wall_collision_cy(position.x, position.y, speed.x, speed.y, radius, wall[0], wall[1], wall[2], wall[3], wall_directing_vector.x, wall_directing_vector.y)"
   ]
  },
  {
   "cell_type": "code",
   "execution_count": 24,
   "id": "suspected-virus",
   "metadata": {},
   "outputs": [
    {
     "name": "stdout",
     "output_type": "stream",
     "text": [
      "30.8 µs ± 1.06 µs per loop (mean ± std. dev. of 7 runs, 10000 loops each)\n"
     ]
    }
   ],
   "source": [
    "%timeit handler_wall_collision(MyVector(0,0), MyVector(1,0), 0.1, MyVector(0,1), [1,-1, 1, 1]) "
   ]
  },
  {
   "cell_type": "code",
   "execution_count": 25,
   "id": "every-slave",
   "metadata": {},
   "outputs": [
    {
     "name": "stdout",
     "output_type": "stream",
     "text": [
      "1.89 µs ± 45.2 ns per loop (mean ± std. dev. of 7 runs, 1000000 loops each)\n"
     ]
    }
   ],
   "source": [
    "%timeit wrapper(MyVector(0,0), MyVector(1,0), 0.1, MyVector(0,1), [1.,-1., 1., 1.]) "
   ]
  },
  {
   "cell_type": "code",
   "execution_count": 26,
   "id": "negative-isaac",
   "metadata": {},
   "outputs": [
    {
     "name": "stdout",
     "output_type": "stream",
     "text": [
      "130 ns ± 4.95 ns per loop (mean ± std. dev. of 7 runs, 10000000 loops each)\n"
     ]
    }
   ],
   "source": [
    "%timeit handler_wall_collision_cy(0.,0., 1., 0., 0.1, 1., -1., 1., 1., 1., 0.)\n"
   ]
  },
  {
   "cell_type": "markdown",
   "id": "fluid-scientist",
   "metadata": {},
   "source": [
    "~250 improvements which does not show when there are too much particles I think. "
   ]
  },
  {
   "cell_type": "code",
   "execution_count": 36,
   "id": "willing-attraction",
   "metadata": {},
   "outputs": [
    {
     "name": "stdout",
     "output_type": "stream",
     "text": [
      "(nan, None)\n",
      "(1000000000000000.0, None, None)\n",
      "(1.1, 1.1, 0.0)\n"
     ]
    }
   ],
   "source": [
    "print(handler_wall_collision(MyVector(1,1), MyVector(1,0), 0.1, MyVector(0,1), [1,-1, 1, 1]))\n",
    "print(handler_wall_collision_cy(1.,1., 1., 0., 0.1, 1., -1., 1., 1., 0., 1.))\n",
    "print(wrapper(MyVector(0,0), MyVector(1,0), 0.1, MyVector(0.,1.), [1.,-1., 1., 1.]))"
   ]
  },
  {
   "cell_type": "code",
   "execution_count": 33,
   "id": "positive-latitude",
   "metadata": {},
   "outputs": [
    {
     "name": "stdout",
     "output_type": "stream",
     "text": [
      "Time : 0.18272995948791504\n"
     ]
    }
   ],
   "source": [
    "from time import time\n",
    "N = 100000\n",
    "t1 = time()\n",
    "for k in range(N):\n",
    "    wrapper(MyVector(0,0), MyVector(1,0), 0.1, MyVector(0.,1.), [1.,-1., 1., 1.])\n",
    "t2 = time()\n",
    "t_wrapper = "
   ]
  },
  {
   "cell_type": "code",
   "execution_count": 34,
   "id": "sophisticated-guidance",
   "metadata": {},
   "outputs": [
    {
     "name": "stdout",
     "output_type": "stream",
     "text": [
      "Time : 3.056593418121338\n"
     ]
    }
   ],
   "source": [
    "N = 100000\n",
    "t1 = time()\n",
    "for k in range(N):\n",
    "    handler_wall_collision(MyVector(0,0), MyVector(1,0), 0.1, MyVector(0,1), [1,-1, 1, 1])\n",
    "t2 = time()\n",
    "print(f\"Time : {t2-t1}\")"
   ]
  },
  {
   "cell_type": "code",
   "execution_count": 35,
   "id": "composite-enzyme",
   "metadata": {},
   "outputs": [
    {
     "name": "stdout",
     "output_type": "stream",
     "text": [
      "Time : 0.01764225959777832\n"
     ]
    }
   ],
   "source": [
    "from time import time\n",
    "N = 100000\n",
    "t1 = time()\n",
    "for k in range(N):\n",
    "    handler_wall_collision_cy(0.,0., 1., 0., 0.1, 1., -1., 1., 1., 0., 1.)\n",
    "t2 = time()\n",
    "print(f\"Time : {t2-t1}\")"
   ]
  },
  {
   "cell_type": "code",
   "execution_count": null,
   "id": "antique-portuguese",
   "metadata": {},
   "outputs": [],
   "source": []
  }
 ],
 "metadata": {
  "kernelspec": {
   "display_name": "Python 3",
   "language": "python",
   "name": "python3"
  },
  "language_info": {
   "codemirror_mode": {
    "name": "ipython",
    "version": 3
   },
   "file_extension": ".py",
   "mimetype": "text/x-python",
   "name": "python",
   "nbconvert_exporter": "python",
   "pygments_lexer": "ipython3",
   "version": "3.7.9"
  }
 },
 "nbformat": 4,
 "nbformat_minor": 5
}
