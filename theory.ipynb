{
 "cells": [
  {
   "cell_type": "markdown",
   "metadata": {
    "slideshow": {
     "slide_type": "slide"
    }
   },
   "source": [
    "<div style=\"text-align: center; font-weight: bold; font-size: 200%\"> Negative ions ray neutralization for satellite propulsion</div>                                                        <br />      \n",
    "<div style=\"text-align: center; font-size: 150%\">Laboratoire de Physique des Plasmas - Ecole polytechnique</div><br />  \n",
    "\n",
    "\n",
    "<table><tr>\n",
    "<td> <img src=\"https://www.lpp.polytechnique.fr/IMG/logo_LPP.png\" alt=\"Drawing\" style=\"width: 30%;\"/> </td>\n",
    "</tr></table>"
   ]
  },
  {
   "cell_type": "markdown",
   "metadata": {},
   "source": [
    "# Probability of collision\n",
    "\n",
    "For a given cell containing $N_c$ particles, the number of pairs selected is :\n",
    "\n",
    "$$M_{cand} = \\frac{ \\pi N_c \\bar{N_c} \\sigma^2 v_{r,max} N_e}{2V_c} dt$$ \n",
    "\n",
    "Where : \n",
    "* $\\bar{N_c}$ is, for now, set at the start of the simulation and equals to : $\\frac{\\text{number of particles}}{\\text{number of cells}}$ ;\n",
    "* $\\sigma$ is the effective diameter (here : $4\\times10^{-10}$ m) ;\n",
    "* $v_{r,max}$ is the estimation of the maximum relative norm speed, here $600$ $m.s^{-1}$;\n",
    "* $N_e$ is the number of real particles a simulated particle represents, here roughly $2 \\times 10^{14}$ ;\n",
    "* $V_c$ is the volume of the cell. \n",
    "\n",
    "The probability of collision for a given pair $(i,j)$ is then equals to : $\\frac{v_{r, norm}}{v_{r,max}}$ where : $v_{r, norm} = \\|v_j - v_i\\|$.\n"
   ]
  },
  {
   "cell_type": "markdown",
   "metadata": {},
   "source": [
    "# Simulation parameters\n",
    "* $[I] = 10^{20}$\n",
    "* $ \\sigma = 4\\times10^{-10}$ m\n",
    "* $v_{max} = 3\\times 10^2$ and $v_{r,max} = 2v_{max}$\n",
    "\n",
    "This allows to compute the **mean free time** and the **mean free path**.\n",
    "\n",
    "\n",
    "* $dt = 0.25 \\times MeanFreeTime$\n",
    "* Mean number of particles per cell : $50$, $100$ or $200$.\n",
    "* Number of cells : $N_{c,x} = 10$ ; $N_{c,y} = 10$ which makes $100$ cells. The size of the grid is then computed using the **mean free path** $\\lambda$: $(\\lambda N_{c,x},\\lambda N_{c,y}, l_z)$ where $l_z = 0.1$ m. \n",
    "* Number of integration steps : $500$\n",
    "\n",
    "## Two types of initializations for speed :\n",
    "* Uniform  : each $v_x$, $v_y$ and $v_z$ is choosen uniform on $[-m,M]$, $m=M$. The law of  $V = \\sqrt{{v_x}^2+{v_y}^2+{v_z}^2}$ can be obtained with geometric arguments (more below).\n",
    "* Gaussian : each $v_x$, $v_y$ and $v_z$ is choosen along a gaussian distribution with $\\sigma = \\sqrt{\\frac{k_bT}{m_i}}$ (where $m_i$ is the mass of the particle, here they are all the same) and $\\mu = 0$. The law of  $V = \\sqrt{{v_x}^2+{v_y}^2+{v_z}^2}$ is a maxwellian.\n",
    "\n",
    "For instance, \n",
    "* $\\mathbb{P}(V < v) = 0$ for $v<0$.  \n",
    "* $\\mathbb{P}(V < v) = \\frac{\\text{Volume of the sphere of radius }v \\text{ centered in }0}{m^3} = \\frac{\\frac{4}{3}\\pi v^3}{m^3}$ for $0 \\leq v \\leq m$. \n",
    "* $\\mathbb{P}(V < v) = ...  $ for $\\sqrt{3}m > v > m$.\n",
    "* $\\mathbb{P}(V < v) = 1$ for $\\sqrt{3}m < v$.\n",
    "\n",
    "This yields : $\\mathbb{E}(V)=$\n"
   ]
  },
  {
   "cell_type": "markdown",
   "metadata": {},
   "source": [
    "## Principles\n",
    "\n",
    "- Choose $\\Delta t$ so that it is a fraction of the **mean free time**.\n",
    "- Choose $\\Delta x = \\Delta y$ (for square cells here) so that is is less that the **mean free path** $\\lambda$.\n",
    "\n",
    "### Calculating $\\lambda$ \n",
    "By definition : \n",
    "$\\lambda = \\frac{1}{\\sqrt{2}{} \\pi \\sigma^2n}$\n",
    "\n",
    "With : \n",
    "- $\\sigma$ : effective diameter of the particule. We choose : $\\sigma \\approx 4 \\times 10^{-10} \\space m$ which is the diameter of $I_2$.\n",
    "- $n$ : density of particules. We choose : $n = [I] \\approx 10^{20} \\space m^{-3}$.\n",
    "\n",
    "That yields : $\\lambda \\approx 0.01 \\space m$."
   ]
  },
  {
   "cell_type": "markdown",
   "metadata": {},
   "source": [
    " **Note** : \n",
    "- $L \\approx 0.005 \\space m$.\n",
    "- We can then compute the **Knudsen** number : $K_n = \\frac{\\lambda}{L} \\approx 2$. It is considered that a continumm description is not accurate when $K_n > 0.1$.\n",
    "\n",
    "The speed of $I^-$ is roughly $v=3 \\times 10^3 \\space m.s^{-1}$. Using the mean free path, that yields : $MeanFreeTime \\approx 3 \\times 10^{-6} \\space s$ requiring $\\Delta t \\leq 3 \\times 10^{-7} \\space s$."
   ]
  },
  {
   "cell_type": "markdown",
   "metadata": {},
   "source": [
    "## Algorithm\n",
    "\n",
    "For each time step $\\Delta t$, 2 phases :\n",
    "#### Advection phase : \n",
    "Particles are moved as if they did not interact. Particles that reach a boundary are processed accordingly.\n",
    "#### Collision phase : \n",
    "For each cell, we compute a given number of collision $M_{coll}$.\n",
    "1. Choose two particles $i$ and $j$, in the cell, randomly.\n",
    "2. Compute the collision probability which is proportional to their relative speed and depends on the **maximum relative speed** in the cell which for computational reasons should be estimated.\n",
    "3. If the pair is accepted, the collision is processed with new velocities depending on the previous one and some randomness.\n",
    "4. If the pair is rejected, the routine moves again to step 1, until $M_{coll}$ is reached."
   ]
  },
  {
   "cell_type": "markdown",
   "metadata": {
    "slideshow": {
     "slide_type": "slide"
    }
   },
   "source": [
    "\n",
    "## Tentative de modélisation de l'évolution de la température\n",
    "\n",
    "On cherche à modélisation par la relation suivant:\n",
    "\n",
    "$$T(t) = (T_0 - T_{eq})e^{-t/\\tau}+T_{eq}$$\n",
    "\n",
    "Evolution de la température dans l'expérience, à chaque temps $n$: \n",
    "1. On définit $w_n = v_n - <v_n>$\n",
    "2. Puis on calcule : $<w_n^2>$ qui est une approximation de la variance de la variable aléatoire $V_n$ par définition.\n",
    "3. Et enfin : $T_{n} = \\frac{m}{3k}<w_n^2>$.\n",
    "\n",
    "Etant donné que le système est conservatif, on calcule $T_{eq} = \\frac{m}{3k}<v_{0}^2>$ où $<v_{0}^2>$ est une approximation du moment d'ordre 2 de la variable aléatoire $V_0$ (par définition).\n",
    "\n",
    "Puis on minimise $|T_{exp,n}-\\big[(T_0 - T_{eq})e^{-t/\\tau}+T_{eq}\\big]|$ par rapport à $\\tau$."
   ]
  },
  {
   "cell_type": "markdown",
   "metadata": {},
   "source": [
    "## Remarks :\n",
    "- It is necessary to have enough particles (at least $20$) per cell for the validity of the algorithm.\n",
    "- One of the key point  is estimating the **maximum relative speed** in each cell.\n",
    "- A simulated particle represents much more physical particles allowing a simulation to take place with roughly $10^4$ particles (not clear how we choose that number yet)."
   ]
  },
  {
   "cell_type": "markdown",
   "metadata": {},
   "source": [
    "# Ce que j'ai fait\n",
    "\n",
    "On cherche à modélisation par la relation suivant:\n",
    "\n",
    "$$\\sigma^2(t) = (\\sigma^2(0) - \\sigma^2_{eq})e^{-t/\\tau}+\\sigma^2_{eq}$$\n",
    "\n",
    "Evolution de la température dans l'expérience, à chaque temps $n$: \n",
    "1. On définit $w_n = v_n - <v_n>$\n",
    "2. Puis on calcule : $\\sigma^2_n = <w_n^2>$ qui est une approximation de la variance de la variable aléatoire $V_n$ par définition.\n",
    "\n",
    "Etant donné que le système est conservatif, on calcule $<v_{0}^2>$, une approximation du moment d'ordre 2 de la variable aléatoire $V_0$ (par définition). Puis, en supposant l'équilibre thermique, on calcule le *paramètre d'échelle* apparaissant dans la distribution de Maxwell : $a = \\sqrt{\\frac{kT}{m}} =  \\sqrt{\\frac{<v_{0}^2>}{3}}$ en dimension trois.  On en déduit la variance:  $\\sigma_{eq} = \\frac{a^2(3\\pi-8)}{\\pi}$.\n",
    "\n",
    "Puis on minimise $|\\sigma^2_n -\\big[(\\sigma^2(0) - \\sigma^2_{eq})e^{-t/\\tau}+\\sigma^2_{eq}\\big]|$ par rapport à $\\tau$."
   ]
  },
  {
   "cell_type": "markdown",
   "metadata": {
    "slideshow": {
     "slide_type": "slide"
    }
   },
   "source": [
    "## Sources \n",
    "* https://mathworld.wolfram.com/MaxwellDistribution.html\n",
    "* Francis J. Alexander and Alejandro L. Garcia (1997). The Direct Simulation Monte Carlo Method.\n",
    "* Bird, G. (1994). Molecular Gas Dynamics and the Direct Simulation of Gas Flows.\n",
    "* https://scicomp.stackexchange.com/questions/19969/how-do-i-generate-maxwell-boltzmann-variates-using-a-uniform-distribution-random"
   ]
  },
  {
   "cell_type": "code",
   "execution_count": null,
   "metadata": {},
   "outputs": [],
   "source": []
  }
 ],
 "metadata": {
  "celltoolbar": "Slideshow",
  "kernelspec": {
   "display_name": "Python 3",
   "language": "python",
   "name": "python3"
  },
  "language_info": {
   "codemirror_mode": {
    "name": "ipython",
    "version": 3
   },
   "file_extension": ".py",
   "mimetype": "text/x-python",
   "name": "python",
   "nbconvert_exporter": "python",
   "pygments_lexer": "ipython3",
   "version": "3.7.9"
  }
 },
 "nbformat": 4,
 "nbformat_minor": 4
}
