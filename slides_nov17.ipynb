{
 "cells": [
  {
   "cell_type": "markdown",
   "metadata": {
    "slideshow": {
     "slide_type": "slide"
    }
   },
   "source": [
    "<div style=\"text-align: center; font-weight: bold; font-size: 200%\"> Negative ions ray neutralization for satellite propulsion</div>                                                        <br />      \n",
    "<div style=\"text-align: center; font-size: 150%\">Laboratoire de Physique des Plasmas - Ecole polytechnique</div><br />  \n",
    "\n",
    "\n",
    "<table><tr>\n",
    "<td> <img src=\"https://www.lpp.polytechnique.fr/IMG/logo_LPP.png\" alt=\"Drawing\" style=\"width: 30%;\"/> </td>\n",
    "</tr></table>"
   ]
  },
  {
   "cell_type": "markdown",
   "metadata": {
    "slideshow": {
     "slide_type": "slide"
    }
   },
   "source": [
    "<div style=\"text-align: center; font-size: 120%\"> Weekly report </div>\n",
    "<div style=\"text-align: center; font-size: 120%\">November 17, 2020</div>\n",
    "\n",
    "### Plan : \n",
    "- Particles collisions probability\n",
    "- Simulation parameters\n",
    "- First results"
   ]
  },
  {
   "cell_type": "markdown",
   "metadata": {
    "slideshow": {
     "slide_type": "slide"
    }
   },
   "source": [
    "# Probability of collision\n",
    "\n",
    "For a given cell containing $N_c$ particles, the number of pairs selected is :\n",
    "\n",
    "$$M_{cand} = \\frac{ \\pi {N_c}^2 \\sigma^2 v_{r,max} N_e}{2V_c}$$ \n",
    "\n",
    "Where : \n",
    "* $\\sigma$ is the effective diameter (here : $4\\times10^{-10}$ m) ;\n",
    "* $v_{r,max}$ is the estimation of the maximum relative norm speed, here $4\\times 10^4$ $m.s^{-1}$;\n",
    "* $N_e$ is the number of real particles a simulated particle represents, here roughly $10^{13}$ ;\n",
    "* $V_c$ is the volume of the cell. \n",
    "\n",
    "The probability of collision for a given pair $(i,j)$ is then equals to : $\\frac{v_{r, norm}}{v_{r,max}}$ where : $v_{r, norm} = \\|v_j - v_i\\|$.\n"
   ]
  },
  {
   "cell_type": "markdown",
   "metadata": {
    "slideshow": {
     "slide_type": "slide"
    }
   },
   "source": [
    "# Simulation parameters\n",
    "* $[I] = 10^{20}$\n",
    "* $ \\sigma = 4\\times10^{-10}$ m\n",
    "* $v_{max} = 2\\times 10^4$ and $v_{r,max} = 2v_{max}$\n",
    "\n",
    "This allows to compute the **mean free time** and the **mean free path**.\n",
    "\n",
    "\n",
    "* $dt = 0.25 \\times MeanFreeTime$\n",
    "* Mean number of particles per cell : $50$, $100$ or $200$.\n",
    "* Number of cells : $N_{c,x} = 10$ ; $N_{c,y} = 10$ which makes $100$ cells. The size of the grid is then computed using the **mean free path** $\\lambda$: $(\\lambda N_{c,x},\\lambda N_{c,y}, l_z)$ where $l_z = 0.1$ m. \n",
    "* Number of integration steps : $500$\n",
    "\n",
    "\n",
    "\n",
    "* Initialization : uniform on $[2500,3500]$ $m.s^{-1}$ or maxwellian with $\\sigma = 300$ $m.s^{-1}$ and $\\mu = 3000$ $m.s^{-1}$.\n"
   ]
  },
  {
   "cell_type": "markdown",
   "metadata": {
    "slideshow": {
     "slide_type": "slide"
    }
   },
   "source": [
    "# Simulation ..."
   ]
  },
  {
   "cell_type": "markdown",
   "metadata": {
    "slideshow": {
     "slide_type": "slide"
    }
   },
   "source": [
    "# DSMC : Direct Simulation Monte Carlo"
   ]
  },
  {
   "cell_type": "markdown",
   "metadata": {
    "slideshow": {
     "slide_type": "slide"
    }
   },
   "source": [
    "## Principles\n",
    "\n",
    "- Choose $\\Delta t$ so that it is a fraction of the **mean free time**.\n",
    "- Choose $\\Delta x = \\Delta y$ (for square cells here) so that is is less that the **mean free path** $\\lambda$.\n",
    "\n",
    "### Calculating $\\lambda$ \n",
    "By definition : \n",
    "$\\lambda = \\frac{1}{\\sqrt{2}{} \\pi \\sigma^2n}$\n",
    "\n",
    "With : \n",
    "- $\\sigma$ : effective diameter of the particule. We choose : $\\sigma \\approx 4 \\times 10^{-10} \\space m$ which is the diameter of $I_2$.\n",
    "- $n$ : density of particules. We choose : $n = [I] \\approx 10^{20} \\space m^{-3}$.\n",
    "\n",
    "That yields : $\\lambda \\approx 0.01 \\space m$.\n"
   ]
  },
  {
   "cell_type": "markdown",
   "metadata": {
    "slideshow": {
     "slide_type": "slide"
    }
   },
   "source": [
    " **Note** : \n",
    "- $L \\approx 0.005 \\space m$.\n",
    "- We can then compute the **Knudsen** number : $K_n = \\frac{\\lambda}{L} \\approx 2$. It is considered that a continumm description is not accurate when $K_n > 0.1$.\n",
    "\n",
    "The speed of $I^-$ is roughly $v=3 \\times 10^3 \\space m.s^{-1}$. Using the mean free path, that yields : $MeanFreeTime \\approx 3 \\times 10^{-6} \\space s$ requiring $\\Delta t \\leq 3 \\times 10^{-7} \\space s$."
   ]
  },
  {
   "cell_type": "markdown",
   "metadata": {
    "slideshow": {
     "slide_type": "slide"
    }
   },
   "source": [
    "## Algorithm\n",
    "\n",
    "For each time step $\\Delta t$, 2 phases :\n",
    "#### Advection phase : \n",
    "Particles are moved as if they did not interact. Particles that reach a boundary are processed accordingly.\n",
    "#### Collision phase : \n",
    "For each cell, we compute a given number of collision $M_{coll}$.\n",
    "1. Choose two particles $i$ and $j$, in the cell, randomly.\n",
    "2. Compute the collision probability which is proportional to their relative speed and depends on the **maximum relative speed** in the cell which for computational reasons should be estimated.\n",
    "3. If the pair is accepted, the collision is processed with new velocities depending on the previous one and some randomness.\n",
    "4. If the pair is rejected, the routine moves again to step 1, until $M_{coll}$ is reached."
   ]
  },
  {
   "cell_type": "markdown",
   "metadata": {
    "slideshow": {
     "slide_type": "slide"
    }
   },
   "source": [
    "## Remarks :\n",
    "- It is necessary to have enough particles (at least $20$) per cell for the validity of the algorithm.\n",
    "- One of the key point  is estimating the **maximum relative speed** in each cell.\n",
    "- A simulated particle represents much more physical particles allowing a simulation to take place with roughly $10^4$ particles (not clear how we choose that number yet)."
   ]
  },
  {
   "cell_type": "markdown",
   "metadata": {
    "slideshow": {
     "slide_type": "slide"
    }
   },
   "source": [
    "## Sources\n",
    "\n",
    "- Francis J. Alexander and Alejandro L. Garcia (1997). The Direct Simulation Monte Carlo Method.\n",
    "- Bird, G. (1994). Molecular Gas Dynamics and the Direct Simulation of Gas Flows."
   ]
  }
 ],
 "metadata": {
  "celltoolbar": "Slideshow",
  "kernelspec": {
   "display_name": "Python 3",
   "language": "python",
   "name": "python3"
  },
  "language_info": {
   "codemirror_mode": {
    "name": "ipython",
    "version": 3
   },
   "file_extension": ".py",
   "mimetype": "text/x-python",
   "name": "python",
   "nbconvert_exporter": "python",
   "pygments_lexer": "ipython3",
   "version": "3.7.8"
  }
 },
 "nbformat": 4,
 "nbformat_minor": 4
}
