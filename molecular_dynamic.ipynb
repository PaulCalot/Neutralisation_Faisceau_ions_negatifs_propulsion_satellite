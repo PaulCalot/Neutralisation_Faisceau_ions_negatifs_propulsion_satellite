{
 "cells": [
  {
   "cell_type": "code",
   "execution_count": 1,
   "id": "e3716809-fb8c-4cc9-ab49-9dca254b6fe8",
   "metadata": {},
   "outputs": [],
   "source": [
    "import numpy as np\n",
    "import os\n",
    "from pathlib import Path\n",
    "import matplotlib.pyplot as plt\n",
    "import pandas as pd\n",
    "import seaborn as sns\n",
    "\n",
    "from modules.md_c_interface import launch_simulation, launch_on_doe\n",
    "\n",
    "from time import time, sleep\n",
    "\n",
    "from modules.md_utils import complementaire # utils\n",
    "from modules.md_utils import plot_crystal, plot_2d_simu # plotting\n",
    "from modules.md_utils import process_results"
   ]
  },
  {
   "cell_type": "markdown",
   "id": "38d7cef0-cc68-478a-b94c-a372b20138e0",
   "metadata": {},
   "source": [
    "## Introduction \n",
    "Ions should be selected amongst the ones available [here](../md2_notebook_resources/available_ion.png).\n",
    "\n",
    "As for the parameters, a lots of them are available. You can see them all in [1](../md2_notebook_resources/table_key_description_1.png), [2](../md2_notebook_resources/table_key_description_2.png) and [3](../md2_notebook_resources/table_key_description_3.png).\n",
    "\n",
    "For simplicity reasons, only a few are available in the following algorithms : ion, ionE, Tset, ionT, ionP, tau, n, dt, dtv and i1.\n",
    "\n",
    "Which should be given for example like :\n"
   ]
  },
  {
   "cell_type": "markdown",
   "id": "9824b4fc-7802-4193-99c6-73f44f42e4a5",
   "metadata": {},
   "source": [
    "## Interest\n",
    "\n",
    "Understanding how energy absorption, reaction probability and output angle $\\phi$ and $\\theta$,change with:\n",
    "- incoming energy;\n",
    "- collision angle.\n",
    "\n",
    "In the end, it would be necessary to compare it for various particle types (mass, charge, size, degrees of freedom etc.) in order to have a comprehensive approach of the issue. \n",
    "\n",
    "Also, the **type of the surface** we collide with can change. The MD-code already proposes a *SI* surface (which is the most common one). However, in the end, it would be good to be able to add *Al*.\n",
    "\n",
    "Eventually a study of the **evolution of the surface** could be done : the law governing the output energy, angle and reaction probability ought to change with the **state of the surface**."
   ]
  },
  {
   "cell_type": "markdown",
   "id": "cac83ed4-ab35-4080-88ed-22b59f15f207",
   "metadata": {},
   "source": [
    "## Experience plan\n",
    "\n",
    "Draw a 3D-plan of experience (on *ionE*, *ionT*). Everything else is kept equals. The thermostat temperature is choosen to be $300$ K (temperature of the neutral gas in the chamber). The azimutal angle is for a first study kept equal to 0.\n",
    "\n",
    "Note : the simulation in the DSMC code are 2D. The azimutal angle does not make sense in regards to this code. However, it is important to either verify that is does not change the dynamic of the ion or average over many azimutal angle (which would be the most rigorous approach but also the longer one).\n",
    "\n",
    "For each of those values, we will compute the output polar angle and the ouput energy. \n",
    "\n",
    "Also, we are interested in the ionization energy (cf. [wiki - Iodine](https://en.wikipedia.org/wiki/Iodine)). Let's say we launch a ion $[I^-]$. We want to know the probability for it to lose its additional electron and exits the crystal as a neutral atom. \n",
    "\n",
    "We see for example, that the first ionization energy for iodine is for an energy of **1008.4** kJ/mol (I did not find for $[I^-]$, but let's say for now it is the same, even though it is not). This amounts to an external energy of :  .\n",
    "\n",
    "So if the external potential energy grows higher than this number, we can consider the ion lost it electron.\n",
    "\n",
    "Issue one : we can not simulate $[I]$ apparenty - it does not work (like the particle goes trough the crystal and that's it)."
   ]
  },
  {
   "cell_type": "markdown",
   "id": "e91fcf85-30a9-4ccf-9176-ec61b59c917f",
   "metadata": {},
   "source": [
    "### Notice\n",
    "\n",
    "One of the issue we have is that Iodine is very massive (127u) while Si is only 28u. Thus, Iodine manages to come in the crystal and never leaves. \n",
    "\n",
    "What should be done instead is having Molybdene (95u). However, we can not really change it in the code as it is hard coded and all.\n",
    "\n",
    "Thus, what we we'll do is maintain the \"ratio\" :\n",
    "- Ratio $m_{molyb}/m_{si} = 3.4$\n",
    "- Ratio $m_{I}/m_{Ar, simu} = 3.4$\n",
    "\n",
    "Thus, $m_{Ar, simu}  = 37$ u roughly."
   ]
  },
  {
   "cell_type": "code",
   "execution_count": 2,
   "id": "a3eebd9d-03ad-43ae-afb3-ec3236ae1f99",
   "metadata": {},
   "outputs": [],
   "source": [
    "speed_range = [0, 25000]# possible speed range that we are interested into\n",
    "polar_angle_range = [0, 90] # in degree\n",
    "\n",
    "# converting \n",
    "\n",
    "def convert_to_ev(energy_per_mol): # from J/mol -> energy for one particle \n",
    "    return energy_per_mol/(1.6e-19*6.02e23)\n",
    "\n",
    "energy_first_ionization = convert_to_ev(1008.4e3)"
   ]
  },
  {
   "cell_type": "markdown",
   "id": "d79403f9-41fe-4101-9ac5-a880f6aee432",
   "metadata": {},
   "source": [
    "### Available particles"
   ]
  },
  {
   "cell_type": "code",
   "execution_count": 3,
   "id": "6ee20f55-d013-42c8-a28e-7073b92c6f2d",
   "metadata": {},
   "outputs": [],
   "source": [
    "colors = {\n",
    "    'Si':'gray',\n",
    "    'Ar':'darkviolet',\n",
    "    'I':'violet',\n",
    "    'Kr':'lightskyblue',\n",
    "    'Xe':'dodgerblue',\n",
    "    'CF3':'red'\n",
    "}\n",
    "radii = {\n",
    "    'Si': 1.11, # Angstrom\n",
    "    'Ar' : 1.06,\n",
    "    'I' : 1.98,\n",
    "    'Kr': 2.02,\n",
    "    'Xe': 2.17,\n",
    "    'CF3': 1\n",
    "}"
   ]
  },
  {
   "cell_type": "markdown",
   "id": "59fe7731-bf3f-4866-99f5-da0e911e88fd",
   "metadata": {},
   "source": [
    "### Simulations parameters\n",
    "\n",
    "- We start with *Argon* $[Ar]$, which was modified in the code to behave like *Iodine* $[I]$. "
   ]
  },
  {
   "cell_type": "code",
   "execution_count": 4,
   "id": "2ecc7c7a-2eec-4d6a-be80-bfdeb602016b",
   "metadata": {},
   "outputs": [],
   "source": [
    "ion = 'Ar'\n",
    "test_id = 'doe_1'\n",
    "name = '../md2_results/test_{}_{}'.format(ion, test_id)\n",
    "    \n",
    "params = {\n",
    "    '-ion' : ion,\n",
    "    '-ionE' : 10, # eV - input energy for the ion\n",
    "    '-Tset' : 300, # K - thermostat temp\n",
    "    '-ionT' : 20, # Degree - phi incident - polar angle\n",
    "    '-ionP' : 0, # Degree - theta incident - azimutal angle\n",
    "    '-tau' : 0.01, # s3\n",
    "    '-n' : 5000, # nb time steps\n",
    "    '-dt' : 1.e-3, # time step, in ps\n",
    "    '-i1' : 1, # number of ions launched\n",
    "    '-ionCOMr' : '0.0 0.0 14.0', # ion center of mass\n",
    "    # '-iui' : 1.e-3, # ion update interval\n",
    "}\n",
    "\n",
    "flags = ['+dtv']"
   ]
  },
  {
   "cell_type": "markdown",
   "id": "ce71e086-d3dd-4941-8ffa-69782d4f93fe",
   "metadata": {},
   "source": [
    "### DOE"
   ]
  },
  {
   "cell_type": "code",
   "execution_count": 5,
   "id": "d495195d-26bc-499d-9900-801acead9d78",
   "metadata": {},
   "outputs": [],
   "source": [
    "from SALib.sample import saltelli\n",
    "from SALib.analyze import sobol\n",
    "from SALib.test_functions import Ishigami\n",
    "import numpy as np\n"
   ]
  },
  {
   "cell_type": "code",
   "execution_count": 6,
   "id": "2fd4912b-b455-4f66-8717-64152b38d2ed",
   "metadata": {},
   "outputs": [],
   "source": [
    "keys = ['-ionE', '-ionT', '-ionP']\n",
    "\n",
    "e = 1.6e-19\n",
    "mass = 127*1.6e-27 # Iodine roughly\n",
    "ratio_mass = 3.4\n",
    "v_min, v_max = 10, 3e4 # from 1 to 30k m/s\n",
    "nrj_ev_min, nrj_ev_max = 0.5*mass*v_min**2/(e*ratio_mass), 0.5*mass*v_max**2/(e*ratio_mass)\n",
    "print(nrj_ev_min, nrj_ev_max)"
   ]
  },
  {
   "cell_type": "code",
   "execution_count": 7,
   "id": "86543413-eb89-417c-a719-709de6e3d5b0",
   "metadata": {},
   "outputs": [],
   "source": [
    "problem = {\n",
    "    'num_vars': 3,\n",
    "    'names': ['Ei', 'Ti','Pi'],\n",
    "    'bounds': [[nrj_ev_min, nrj_ev_max], # eV\n",
    "                [-85, 85],\n",
    "                [-85, 85]]\n",
    "}"
   ]
  },
  {
   "cell_type": "code",
   "execution_count": 8,
   "id": "22e77e0a-133d-4a26-aa04-b9711bf3c1d8",
   "metadata": {},
   "outputs": [
    {
     "data": {
      "text/plain": [
       "array([[ 144.03808287,   38.49372589,   89.26118607],\n",
       "       [   3.25266099,  -61.20590964,  163.35703776],\n",
       "       [  73.08744629,  -39.58678326,    1.74355228],\n",
       "       [ 108.20164083,   30.99568716,  -64.7283291 ],\n",
       "       [  58.21288691,   82.5093106 , -143.29132903],\n",
       "       [ 165.99194755,  -31.90132632, -147.56747297],\n",
       "       [  31.11617373,   59.22922287,  122.25779251],\n",
       "       [  38.81178466,  -13.6966236 ,  -77.0711782 ],\n",
       "       [  93.82217125,  -75.55453894,   -3.35980348],\n",
       "       [ 123.13994053,    5.74177588,   42.66642953]])"
      ]
     },
     "execution_count": 8,
     "metadata": {},
     "output_type": "execute_result"
    }
   ],
   "source": [
    "param_values = saltelli.sample(problem, 100) # 60, 2\n",
    "print(param_values.shape)"
   ]
  },
  {
   "cell_type": "code",
   "execution_count": null,
   "id": "72dd3427-c52c-4e9d-9331-e702d41c8811",
   "metadata": {},
   "outputs": [],
   "source": [
    "np.save('param_values_analysis.npy',param_values)"
   ]
  },
  {
   "cell_type": "markdown",
   "id": "13f76d71-1671-4d68-a694-895ea3b013ef",
   "metadata": {},
   "source": [
    "### Launching simulation"
   ]
  },
  {
   "cell_type": "code",
   "execution_count": null,
   "id": "3e71ac72-0eff-47d4-816c-377d04312299",
   "metadata": {
    "tags": []
   },
   "outputs": [],
   "source": [
    "# launch_simulation(name, params, flags, launches = 1, verbose = True)\n",
    "launch_on_doe(name, params, flags, keys = keys, design_of_experiments = doe, clean = True) # actually we are only interested in ionE and ionT"
   ]
  },
  {
   "cell_type": "markdown",
   "id": "199d9e76-cd43-450e-8e49-1fa9342f9c77",
   "metadata": {
    "tags": []
   },
   "source": [
    "## Processing results \n",
    "The simulation can take a little time even though the previous cell is marked as completed. You should wait one or two minutes (and reload *results* if you see that all data was not yet written to disk)."
   ]
  },
  {
   "cell_type": "code",
   "execution_count": null,
   "id": "4ee9fb52-0617-476d-9257-f47cd0a353b2",
   "metadata": {},
   "outputs": [],
   "source": [
    "ions_dict = {\n",
    "    'low_memory' : True,\n",
    "    'crystal_height' : 12, # Angstrom\n",
    "}\n",
    "\n",
    "results = process_results(Path.cwd()/'md2_sources'/name, process_log = False, args_ions = ions_dict) # 10 ~ angstrom"
   ]
  },
  {
   "cell_type": "code",
   "execution_count": null,
   "id": "e127bd26-5ed5-4a5f-8b62-d47e856d8fff",
   "metadata": {
    "tags": []
   },
   "outputs": [],
   "source": [
    "ions_dict = {\n",
    "    'low_memory' : True,\n",
    "    'crystal_height' : 12, # Angstrom\n",
    "}\n",
    "\n",
    "results = process_results(Path.cwd()/'md2_sources'/name, process_log = False, args_ions = ions_dict) # 10 ~ angstrom"
   ]
  },
  {
   "cell_type": "code",
   "execution_count": null,
   "id": "d7ee4069-5281-4c46-af45-4601b34fc2e7",
   "metadata": {},
   "outputs": [],
   "source": [
    "angles, energies = get_ground_truth(results.ion.angles, results.ion.nrjs, list_names)"
   ]
  },
  {
   "cell_type": "code",
   "execution_count": null,
   "id": "47e8ee2d-e45f-4652-80cc-da1b40cf9976",
   "metadata": {},
   "outputs": [],
   "source": [
    "results.ion.get_output_angles()"
   ]
  },
  {
   "cell_type": "code",
   "execution_count": null,
   "id": "9a746f98-aa61-4025-9203-812b55c21be1",
   "metadata": {},
   "outputs": [],
   "source": [
    "np.save('angles_analysis.npy',angles);\n",
    "np.save('ratio_energies_analysis.npy', energies);"
   ]
  },
  {
   "cell_type": "markdown",
   "id": "b8dd3ea9-c19f-40fe-bd68-e9d6643a8198",
   "metadata": {},
   "source": [
    "## Plotting"
   ]
  },
  {
   "cell_type": "code",
   "execution_count": null,
   "id": "ec8e93a3-6a9f-421b-b73f-840d2160e916",
   "metadata": {},
   "outputs": [],
   "source": [
    "results.ion.load('0001.ion')\n",
    "plot_2d_simu(ion, results.ion.current_df, results.crystal.dataframes['0000.cfg'], radii, colors, start = True, xlim = (-20, 20), ylim = (-15, 30))"
   ]
  },
  {
   "cell_type": "code",
   "execution_count": null,
   "id": "aa2ea380-c9b5-4f2d-94d5-5d07c1fbe0b5",
   "metadata": {},
   "outputs": [],
   "source": [
    "df = results.ion.current_df"
   ]
  },
  {
   "cell_type": "code",
   "execution_count": null,
   "id": "0df9f12e-17f8-4e29-84d3-7f03da34db97",
   "metadata": {},
   "outputs": [],
   "source": [
    "sns.lineplot(data = df, x = 't', y = 'ke/E_i')"
   ]
  },
  {
   "cell_type": "code",
   "execution_count": null,
   "id": "b8da8884-3c9e-4861-8bfb-f4d3ff2ec7c4",
   "metadata": {},
   "outputs": [],
   "source": [
    "sns.lineplot(data = df, x = 't', y = 'ipe')"
   ]
  },
  {
   "cell_type": "code",
   "execution_count": null,
   "id": "d9f12495-0806-4499-8a8b-4ab9b2c03453",
   "metadata": {},
   "outputs": [],
   "source": [
    "sns.lineplot(data = df, x = 't', y = 'epe') # external potential energy"
   ]
  }
 ],
 "metadata": {
  "kernelspec": {
   "display_name": "Python 3",
   "language": "python",
   "name": "python3"
  },
  "language_info": {
   "codemirror_mode": {
    "name": "ipython",
    "version": 3
   },
   "file_extension": ".py",
   "mimetype": "text/x-python",
   "name": "python",
   "nbconvert_exporter": "python",
   "pygments_lexer": "ipython3",
   "version": "3.7.10"
  }
 },
 "nbformat": 4,
 "nbformat_minor": 5
}
