{
 "cells": [
  {
   "cell_type": "code",
   "execution_count": 1,
   "metadata": {},
   "outputs": [],
   "source": [
    "import numpy as np\n",
    "import pickle\n",
    "import os\n",
    "from pathlib import Path\n",
    "import matplotlib.pyplot as plt\n",
    "import plotly.graph_objects as go\n",
    "import pandas as pd\n",
    "from modules.md_utils import coord_initiales_ion, complementaire, longueur_file, longueur_intro\n",
    "\n",
    "from modules.md_c_interface import launch_simulation\n",
    "\n",
    "from time import time, sleep\n",
    "from icecream import ic # pretty print but even better\n",
    "\n",
    "from modules.md_utils import extract_data_df, extract_angles, get_df_crystal, plot_crystal, plot_2D_simu"
   ]
  },
  {
   "cell_type": "code",
   "execution_count": 2,
   "metadata": {},
   "outputs": [],
   "source": [
    "# liste de paramètres que nous allons tester\n",
    "liste_theta_incidence=[85, 80, 75, 70, 60, 45, 30, 15, 0] #degree\n",
    "liste_E_incidence=[25, 50, 100, 200] #eV"
   ]
  },
  {
   "cell_type": "code",
   "execution_count": 3,
   "metadata": {},
   "outputs": [],
   "source": [
    "ion=\"Ar\"\n",
    "\n",
    "params = {\n",
    "    '-ion' : ion,\n",
    "    '-ionE' : 50, # eV - E incident\n",
    "    '-Tset' : 300, # K \n",
    "    '-ionT' : 0, # Degree - phi incident - polar angle\n",
    "    '-ionP' : 0, # Degree - theta incident - azimutal angle\n",
    "    '-tau' : 0.01, # s\n",
    "    '-n' : 1000, # nb time steps\n",
    "    '-dt' : 1.e-3, # time step, s\n",
    "    '-i1' : 200, # N_simu\n",
    "}\n",
    "\n",
    "flags = ['+dtv']\n"
   ]
  },
  {
   "cell_type": "code",
   "execution_count": 4,
   "metadata": {},
   "outputs": [],
   "source": [
    "first_computation = True"
   ]
  },
  {
   "cell_type": "code",
   "execution_count": 5,
   "metadata": {},
   "outputs": [],
   "source": [
    "path_current = Path.cwd()\n",
    "path_to_stat = path_current/'md2_sources/{}_stat'.format(ion)\n",
    "\n",
    "if(first_computation):\n",
    "    if os.path.exists(path_to_stat):\n",
    "        os.system('rm -r {}'.format(path_to_stat))\n",
    "    liste_configs_finies=[]\n",
    "else: # reprise du calcul\n",
    "    with open(path_current/\"MD_liste_configs_finies.txt\", \"rb\") as fp:\n",
    "        liste_configs_finies = pickle.load(fp)"
   ]
  },
  {
   "cell_type": "code",
   "execution_count": null,
   "metadata": {},
   "outputs": [
    {
     "name": "stdout",
     "output_type": "stream",
     "text": [
      "./md2 -oc cfg/####.cfg -ion Ar -ionE 25 -Tset 300 -ionT 0 -ionP 85 -tau 0.01 -n 1000 -dt 0.001 -i1 200 +dtv  > log &\n",
      "Combinaison ['Ar', 25, 85] testée\n",
      "./md2 -oc cfg/####.cfg -ion Ar -ionE 25 -Tset 300 -ionT 0 -ionP 80 -tau 0.01 -n 1000 -dt 0.001 -i1 200 +dtv  > log &\n",
      "Combinaison ['Ar', 25, 80] testée\n",
      "./md2 -oc cfg/####.cfg -ion Ar -ionE 25 -Tset 300 -ionT 0 -ionP 75 -tau 0.01 -n 1000 -dt 0.001 -i1 200 +dtv  > log &\n",
      "Combinaison ['Ar', 25, 75] testée\n",
      "./md2 -oc cfg/####.cfg -ion Ar -ionE 25 -Tset 300 -ionT 0 -ionP 70 -tau 0.01 -n 1000 -dt 0.001 -i1 200 +dtv  > log &\n",
      "Combinaison ['Ar', 25, 70] testée\n",
      "./md2 -oc cfg/####.cfg -ion Ar -ionE 25 -Tset 300 -ionT 0 -ionP 60 -tau 0.01 -n 1000 -dt 0.001 -i1 200 +dtv  > log &\n",
      "Combinaison ['Ar', 25, 60] testée\n",
      "./md2 -oc cfg/####.cfg -ion Ar -ionE 25 -Tset 300 -ionT 0 -ionP 45 -tau 0.01 -n 1000 -dt 0.001 -i1 200 +dtv  > log &\n",
      "Combinaison ['Ar', 25, 45] testée\n",
      "./md2 -oc cfg/####.cfg -ion Ar -ionE 25 -Tset 300 -ionT 0 -ionP 30 -tau 0.01 -n 1000 -dt 0.001 -i1 200 +dtv  > log &\n",
      "Combinaison ['Ar', 25, 30] testée\n",
      "./md2 -oc cfg/####.cfg -ion Ar -ionE 25 -Tset 300 -ionT 0 -ionP 15 -tau 0.01 -n 1000 -dt 0.001 -i1 200 +dtv  > log &\n",
      "Combinaison ['Ar', 25, 15] testée\n",
      "./md2 -oc cfg/####.cfg -ion Ar -ionE 25 -Tset 300 -ionT 0 -ionP 0 -tau 0.01 -n 1000 -dt 0.001 -i1 200 +dtv  > log &\n",
      "Combinaison ['Ar', 25, 0] testée\n",
      "./md2 -oc cfg/####.cfg -ion Ar -ionE 50 -Tset 300 -ionT 0 -ionP 85 -tau 0.01 -n 1000 -dt 0.001 -i1 200 +dtv  > log &\n",
      "Combinaison ['Ar', 50, 85] testée\n",
      "./md2 -oc cfg/####.cfg -ion Ar -ionE 50 -Tset 300 -ionT 0 -ionP 80 -tau 0.01 -n 1000 -dt 0.001 -i1 200 +dtv  > log &\n",
      "Combinaison ['Ar', 50, 80] testée\n",
      "./md2 -oc cfg/####.cfg -ion Ar -ionE 50 -Tset 300 -ionT 0 -ionP 75 -tau 0.01 -n 1000 -dt 0.001 -i1 200 +dtv  > log &\n",
      "Combinaison ['Ar', 50, 75] testée\n"
     ]
    }
   ],
   "source": [
    "if not os.path.exists(path_to_stat):\n",
    "    os.makedirs(path_to_stat)\n",
    "\n",
    "for E_incident in liste_E_incidence:\n",
    "    for theta_incident in liste_theta_incidence:\n",
    "        params['-ionE'] = E_incident\n",
    "        params['-ionP'] = theta_incident\n",
    "        name='Ei_'+str(E_incident)+'_thetai_'+str(theta_incident)\n",
    "        param=[params['-ion'], E_incident, theta_incident]\n",
    "        if param in liste_configs_finies:\n",
    "            print('/!\\ Combinaison {} déjà testée'.format(param))\n",
    "        else:\n",
    "            # Préparation de la config\n",
    "            \n",
    "            launch_simulation(name, params, flags)\n",
    "                \n",
    "            liste_configs_finies.append(param)\n",
    "            \n",
    "            with open(path_current/\"MD_liste_configs_finies.txt\", \"wb\") as fp:\n",
    "                pickle.dump(liste_configs_finies, fp)\n",
    "            \n",
    "            print('Combinaison {} testée'.format(param))"
   ]
  },
  {
   "cell_type": "markdown",
   "metadata": {},
   "source": [
    "# Plot1"
   ]
  },
  {
   "cell_type": "code",
   "execution_count": null,
   "metadata": {},
   "outputs": [],
   "source": [
    "E_incident=200\n",
    "theta_incident=15\n",
    "critere_out=-2 #d.z>=critere_out\n",
    "name='Ei_'+str(E_incident)+'_thetai_'+str(theta_incident)\n",
    "\n",
    "for i in range(N_simu):\n",
    "    path = r\"/Users/edouardroger/Documents/Cours/X/Projet spatial/Code_MD/md2_sources/\"+ion+'_stat/'+name+\"/ion/\"+complementaire(i)+\".ion\"\n",
    "    long=longueur_file(path)\n",
    "    \n",
    "    df_intermediaire=pd.read_csv(path, header=None,usecols=np.arange(0,10).tolist(), skiprows=long-2, names=['Time step','Integration time','KE/TE_i','internal PE','external PE','d.x','d.y','d.z','norm(d)','#b','imp?'],sep=\"[:,; ]\",engine='python')\n",
    "    dx=df_intermediaire['d.x'].values[-1]-df_intermediaire['d.x'].values[-2]\n",
    "    dy=df_intermediaire['d.y'].values[-1]-df_intermediaire['d.y'].values[-2]\n",
    "    dz=df_intermediaire['d.z'].values[-1]-df_intermediaire['d.z'].values[-2]\n",
    "    dr=np.sqrt(dx**2+dy**2+dz**2)\n",
    "    theta_sortie=np.arccos(dz/dr)*180/np.pi\n",
    "    phi_sortie=np.arctan(dy/dx)*180/np.pi\n",
    "    out=(df_intermediaire['d.z']>=critere_out)\n",
    "    \n",
    "    if i==0:\n",
    "        df=pd.read_csv(path, header=None,usecols=np.arange(0,10).tolist(), skiprows=long-1, names=['Time step','Integration time','KE/TE_i','internal PE','external PE','d.x','d.y','d.z','norm(d)','#b','imp?'],sep=\"[:,; ]\",engine='python')\n",
    "        df['theta_f']=theta_sortie\n",
    "        df['Out?']=out\n",
    "    else:\n",
    "        line=pd.read_csv(path, header=None,usecols=np.arange(0,10).tolist(), skiprows=long-1, names=['Time step','Integration time','KE/TE_i','internal PE','external PE','d.x','d.y','d.z','norm(d)','#b','imp?'],sep=\"[:,; ]\",engine='python')\n",
    "        line['theta_f']=theta_sortie\n",
    "        line['Out?']=out\n",
    "        frames = [df, line]\n",
    "        df = pd.concat(frames)\n",
    "        \n",
    "df=df.reset_index()\n",
    "df.drop(['index','Time step', 'Integration time', '#b', 'd.x', 'd.y', 'd.z', 'norm(d)'], axis='columns', inplace=True)\n",
    "indexNames = df[ df['Out?'] == False ].index\n",
    "df.drop(indexNames , inplace=True)\n",
    "print(df)"
   ]
  },
  {
   "cell_type": "code",
   "execution_count": null,
   "metadata": {},
   "outputs": [],
   "source": [
    "fig = plt.figure(figsize=(20,10))\n",
    "ax1 = fig.add_subplot(1,2,1)\n",
    "\n",
    "ax1.hist(df['KE/TE_i'], density=False, histtype='step')\n",
    "ax1.set_xlabel('KE/TE_i',size=20)\n",
    "ax1.set_ylabel('effectif',size=20)\n",
    "\n",
    "ax2 = fig.add_subplot(1,2,2)\n",
    "\n",
    "ax2.hist(df['theta_f'], density=False, histtype='step')\n",
    "ax2.set_xlabel('theta_f [degre]',size=20)\n",
    "ax2.set_ylabel('effectif',size=20)\n",
    "ax2.axvline(x=theta_incident, linestyle='--')\n",
    "\n",
    "fig.suptitle('impacts de '+str(N_simu)+ion+', Ei='+str(E_incident)+'eV, theta_i='+str(theta_incident)+'degre', fontsize=16)\n",
    "fig.show()"
   ]
  },
  {
   "cell_type": "markdown",
   "metadata": {},
   "source": [
    "# Plot 2"
   ]
  },
  {
   "cell_type": "code",
   "execution_count": 8,
   "metadata": {},
   "outputs": [
    {
     "name": "stderr",
     "output_type": "stream",
     "text": [
      "/Users/edouardroger/opt/anaconda3/lib/python3.7/site-packages/ipykernel_launcher.py:64: UserWarning: Matplotlib is currently using module://ipykernel.pylab.backend_inline, which is a non-GUI backend, so cannot show the figure.\n"
     ]
    },
    {
     "name": "stdout",
     "output_type": "stream",
     "text": [
      "proportion_out= [0.53  0.31  0.145 0.065]\n"
     ]
    },
    {
     "data": {
      "image/png": "[encoded data removed]",
      "text/plain": [
       "<Figure size 1440x720 with 2 Axes>"
      ]
     },
     "metadata": {
      "needs_background": "light"
     },
     "output_type": "display_data"
    }
   ],
   "source": [
    "theta_incident=0\n",
    "critere_out=-2 #d.z>=critere_out\n",
    "liste_color=plt.cm.plasma(np.linspace(0,1,len(liste_E_incidence)))\n",
    "liste_nbout=[]\n",
    "\n",
    "fig = plt.figure(figsize=(20,10))\n",
    "ax1 = fig.add_subplot(1,2,1)\n",
    "ax2 = fig.add_subplot(1,2,2)\n",
    "\n",
    "for i in range(len(liste_E_incidence)):\n",
    "    c=liste_color[i]\n",
    "    E_incident=liste_E_incidence[i]\n",
    "    name='Ei_'+str(E_incident)+'_thetai_'+str(theta_incident)\n",
    "    prem=True\n",
    "    for i in range(N_simu):\n",
    "        path = r\"/Users/edouardroger/Documents/Cours/X/Projet spatial/Code_MD/md2_sources/\"+ion+'_stat/'+name+\"/ion/\"+complementaire(i)+\".ion\"\n",
    "        long=longueur_file(path)\n",
    "\n",
    "        df_intermediaire=pd.read_csv(path, header=None,usecols=np.arange(0,10).tolist(), skiprows=long-2, names=['Time step','Integration time','KE/TE_i','internal PE','external PE','d.x','d.y','d.z','norm(d)','#b','imp?'],sep=\"[:,; ]\",engine='python')\n",
    "        dx=df_intermediaire['d.x'].values[-1]-df_intermediaire['d.x'].values[-2]\n",
    "        dy=df_intermediaire['d.y'].values[-1]-df_intermediaire['d.y'].values[-2]\n",
    "        dz=df_intermediaire['d.z'].values[-1]-df_intermediaire['d.z'].values[-2]\n",
    "        dr=np.sqrt(dx**2+dy**2+dz**2)\n",
    "        theta_sortie=np.arccos(dz/dr)*180/np.pi\n",
    "        phi_sortie=np.arctan(dy/dx)*180/np.pi\n",
    "        out=(df_intermediaire['d.z']>=critere_out)\n",
    "\n",
    "        if i==0:\n",
    "            df=pd.read_csv(path, header=None,usecols=np.arange(0,10).tolist(), skiprows=long-1, names=['Time step','Integration time','KE/TE_i','internal PE','external PE','d.x','d.y','d.z','norm(d)','#b','imp?'],sep=\"[:,; ]\",engine='python')\n",
    "            df['theta_f']=theta_sortie\n",
    "            df['Out?']=out\n",
    "\n",
    "        else:\n",
    "            line=pd.read_csv(path, header=None,usecols=np.arange(0,10).tolist(), skiprows=long-1, names=['Time step','Integration time','KE/TE_i','internal PE','external PE','d.x','d.y','d.z','norm(d)','#b','imp?'],sep=\"[:,; ]\",engine='python')\n",
    "            line['theta_f']=theta_sortie\n",
    "            line['Out?']=out\n",
    "            frames = [df, line]\n",
    "            df = pd.concat(frames)\n",
    "    \n",
    "    df=df.reset_index()\n",
    "    df.drop(['index','Time step', 'Integration time', '#b', 'd.x', 'd.y', 'd.z', 'norm(d)'], axis='columns', inplace=True)\n",
    "    indexNames = df[ df['Out?'] == False ].index\n",
    "    df.drop(indexNames , inplace=True)\n",
    "    liste_nbout.append(len(df))\n",
    "    \n",
    "    ax1.hist(df['KE/TE_i'], density=False, histtype='step',color=c,label='Ei='+str(E_incident)+'eV')\n",
    "\n",
    "    ax2.hist(df['theta_f'], density=False, histtype='step',color=c,label='Ei='+str(E_incident)+'eV')\n",
    "\n",
    "\n",
    "ax1.set_xlabel('KE/TE_i',size=20)\n",
    "#ax1.axvline(x=1-0.1*np.cos(theta_incident*np.pi/180), linestyle='--',color='k')\n",
    "ax1.set_ylabel('effectif',size=20)\n",
    "ax1.legend()\n",
    "\n",
    "ax2.set_xlabel('theta_f [degre]',size=20)\n",
    "ax2.set_ylabel('effectif',size=20)\n",
    "ax2.axvline(x=theta_incident, linestyle='-',color='k')\n",
    "#ax2.axvline(x=90-(1.3*(90-theta_incident)), linestyle='--',color='k')\n",
    "#ax2.axvline(x=90-(0.7*(90-theta_incident)), linestyle='--',color='k')\n",
    "ax2.legend()\n",
    "\n",
    "fig.suptitle('impacts de '+str(N_simu)+ion+', theta_i='+str(theta_incident)+'degre', fontsize=16)\n",
    "fig.show()\n",
    "\n",
    "liste_nbout=np.array(liste_nbout)/N_simu\n",
    "print('proportion_out=',liste_nbout)"
   ]
  },
  {
   "cell_type": "code",
   "execution_count": null,
   "metadata": {},
   "outputs": [],
   "source": []
  }
 ],
 "metadata": {
  "kernelspec": {
   "display_name": "Python 3",
   "language": "python",
   "name": "python3"
  },
  "language_info": {
   "codemirror_mode": {
    "name": "ipython",
    "version": 3
   },
   "file_extension": ".py",
   "mimetype": "text/x-python",
   "name": "python",
   "nbconvert_exporter": "python",
   "pygments_lexer": "ipython3",
   "version": "3.7.9"
  }
 },
 "nbformat": 4,
 "nbformat_minor": 4
}
