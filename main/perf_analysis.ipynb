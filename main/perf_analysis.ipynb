{
 "cells": [
  {
   "cell_type": "code",
   "execution_count": 1,
   "id": "difficult-inflation",
   "metadata": {},
   "outputs": [],
   "source": [
    "from handler_collision_with_wall import handler_wall_collision as handler_wall_collision_cy\n",
    "from data_structures.vector import MyVector\n",
    "import numpy as np"
   ]
  },
  {
   "cell_type": "code",
   "execution_count": 2,
   "id": "color-manner",
   "metadata": {},
   "outputs": [],
   "source": [
    "def handler_wall_collision(position, speed, radius, wall_directing_vector, wall):\n",
    "    # p index of the part\n",
    "    x1, y1, x2, y2 = wall # x1<=x2 etc.\n",
    "\n",
    "    # angle\n",
    "    theta = np.sign(wall_directing_vector.y)*np.arccos(wall_directing_vector.x)\n",
    "\n",
    "    # A and B\n",
    "    sTheta, cTheta = np.sin(theta), np.cos(theta)\n",
    "    B = -speed.x*sTheta+speed.y*cTheta\n",
    "    if B == 0.0 : \n",
    "        return np.nan, None # TODO : should we add a tolerance ? It will never be equals to zero exactly...\n",
    "    A = -position.x*sTheta+position.y*cTheta\n",
    "\n",
    "    # new position of the wall in the new base\n",
    "    y1_new_base = -x1*sTheta+y1*cTheta\n",
    "    A_prime = A-y1_new_base\n",
    "    # possible collision time :\n",
    "    t_coll_1 = (-A_prime-radius)/B\n",
    "    t_coll_2 = (-A_prime+radius)/B\n",
    "\n",
    "    t_intersect = max(t_coll_1, t_coll_2)\n",
    "\n",
    "    if(t_intersect > 0):\n",
    "        # t_intersect = max(t_coll_1, t_coll_2) # because we are not anticipating them anymore\n",
    "        # t_intersect = -A_prime/B # the time at which the disk crosses the line if its radius were radius=0.\n",
    "        pos_intersect = position + t_intersect * speed\n",
    "\n",
    "        wall_extrimity1_coordinates = MyVector(x1,y1)\n",
    "        wall_extrimity2_coordinates = MyVector(x2,y2)\n",
    "        # the reason why were are not using pos_intersect.norm is that it should be a 3D vector.\n",
    "        dP1, dP2, dP3 = wall_extrimity2_coordinates-wall_extrimity1_coordinates, \\\n",
    "            pos_intersect-wall_extrimity1_coordinates, wall_extrimity2_coordinates-pos_intersect \n",
    "        norm_1 = dP1.norm()\n",
    "        norm_2 = dP2.norm()\n",
    "        # norm_3 = dP3.norm()\n",
    "        qty=dP1.inner(dP2)/(norm_1*norm_1) # norm_1 cant be 0 because wall segments are not on same points.\n",
    "        if(qty < 1 and qty > 0):\n",
    "            return t_intersect, pos_intersect\n",
    "    return np.nan, None"
   ]
  },
  {
   "cell_type": "code",
   "execution_count": 3,
   "id": "above-council",
   "metadata": {},
   "outputs": [],
   "source": [
    "def wrapper(position, speed, radius, wall_directing_vector, wall):\n",
    "    return handler_wall_collision_cy(position.x, position.y, speed.x, speed.y, radius, wall[0], wall[1], wall[2], wall[3], wall_directing_vector.x, wall_directing_vector.y)"
   ]
  },
  {
   "cell_type": "code",
   "execution_count": 4,
   "id": "mathematical-reverse",
   "metadata": {},
   "outputs": [
    {
     "name": "stdout",
     "output_type": "stream",
     "text": [
      "30.2 µs ± 350 ns per loop (mean ± std. dev. of 7 runs, 10000 loops each)\n"
     ]
    }
   ],
   "source": [
    "%timeit handler_wall_collision(MyVector(0,0), MyVector(1,0), 0.1, MyVector(0,1), [1,-1, 1, 1]) "
   ]
  },
  {
   "cell_type": "code",
   "execution_count": 5,
   "id": "corporate-summary",
   "metadata": {},
   "outputs": [
    {
     "name": "stdout",
     "output_type": "stream",
     "text": [
      "1.84 µs ± 13.3 ns per loop (mean ± std. dev. of 7 runs, 1000000 loops each)\n"
     ]
    }
   ],
   "source": [
    "%timeit wrapper(MyVector(0,0), MyVector(1,0), 0.1, MyVector(0,1), [1.,-1., 1., 1.]) "
   ]
  },
  {
   "cell_type": "code",
   "execution_count": 6,
   "id": "golden-cowboy",
   "metadata": {},
   "outputs": [
    {
     "name": "stdout",
     "output_type": "stream",
     "text": [
      "137 ns ± 1.13 ns per loop (mean ± std. dev. of 7 runs, 10000000 loops each)\n"
     ]
    }
   ],
   "source": [
    "%timeit handler_wall_collision_cy(0.,0., 1., 0., 0.1, 1., -1., 1., 1., 1., 0.)"
   ]
  },
  {
   "cell_type": "code",
   "execution_count": 42,
   "id": "colonial-cancellation",
   "metadata": {},
   "outputs": [
    {
     "name": "stdout",
     "output_type": "stream",
     "text": [
      "Pure C is 220.44 quicker than the naive one. However, comparing with the wrapper, we have only a 16.41 decrease in time.\n"
     ]
    }
   ],
   "source": [
    "t_naive = 30200\n",
    "t_wrapper = 1840\n",
    "t_pure_c = 137\n",
    "print(f'Pure C is {round(t_naive/t_pure_c,2)} quicker than the naive one. However, comparing with the wrapper, we have only a {round(t_naive/t_wrapper,2)} decrease in time.')"
   ]
  },
  {
   "cell_type": "code",
   "execution_count": 10,
   "id": "extended-thunder",
   "metadata": {},
   "outputs": [
    {
     "name": "stdout",
     "output_type": "stream",
     "text": [
      "(1.1, (1.1, 0.0))\n",
      "(1.1, 1.1, 0.0)\n",
      "(1.1, 1.1, 0.0)\n"
     ]
    }
   ],
   "source": [
    "print(handler_wall_collision(MyVector(0,0), MyVector(1,0), 0.1, MyVector(0,1), [1,-1, 1, 1]))\n",
    "print(handler_wall_collision_cy(0.,0., 1., 0., 0.1, 1., -1., 1., 1., 0., 1.))\n",
    "print(wrapper(MyVector(0,0), MyVector(1,0), 0.1, MyVector(0.,1.), [1.,-1., 1., 1.]))"
   ]
  },
  {
   "cell_type": "code",
   "execution_count": 16,
   "id": "worth-source",
   "metadata": {},
   "outputs": [],
   "source": [
    "from time import time\n",
    "N = 100000\n",
    "t_wrapper = 0\n",
    "for k in range(N):\n",
    "    t1 = time()\n",
    "    wrapper(MyVector(0,0), MyVector(1,0), 0.1, MyVector(0.,1.), [1.,-1., 1., 1.])\n",
    "    t2 = time()\n",
    "    t_wrapper += t2-t1"
   ]
  },
  {
   "cell_type": "code",
   "execution_count": 17,
   "id": "actual-donna",
   "metadata": {},
   "outputs": [],
   "source": [
    "N = 100000\n",
    "t_naive = 0\n",
    "for k in range(N):\n",
    "    t1 = time()\n",
    "    handler_wall_collision(MyVector(0,0), MyVector(1,0), 0.1, MyVector(0,1), [1,-1, 1, 1])\n",
    "    t2 = time()\n",
    "    t_naive += t2-t1"
   ]
  },
  {
   "cell_type": "code",
   "execution_count": 36,
   "id": "verified-fetish",
   "metadata": {},
   "outputs": [],
   "source": [
    "from time import time\n",
    "N = 100000\n",
    "t_pure_C=0\n",
    "for k in range(N):\n",
    "    t1 = time()\n",
    "    handler_wall_collision_cy(0.,0., 1., 0., 0.1, 1., -1., 1., 1., 0., 1.)\n",
    "    t2 = time()\n",
    "    t_pure_C += t2-t1"
   ]
  },
  {
   "cell_type": "code",
   "execution_count": 37,
   "id": "suspected-mambo",
   "metadata": {},
   "outputs": [
    {
     "name": "stdout",
     "output_type": "stream",
     "text": [
      "Pure C is 108.75765414741916 quicker than the naive one. However, comparing with the wrapper, we have only a 15.924406875759454 decrease in time.\n"
     ]
    }
   ],
   "source": [
    "print(f'Pure C is {t_naive/t_pure_C} quicker than the naive one. However, comparing with the wrapper, we have only a {t_naive/t_wrapper} decrease in time.')"
   ]
  },
  {
   "cell_type": "code",
   "execution_count": null,
   "id": "prescribed-merchandise",
   "metadata": {},
   "outputs": [],
   "source": []
  }
 ],
 "metadata": {
  "kernelspec": {
   "display_name": "Python 3",
   "language": "python",
   "name": "python3"
  },
  "language_info": {
   "codemirror_mode": {
    "name": "ipython",
    "version": 3
   },
   "file_extension": ".py",
   "mimetype": "text/x-python",
   "name": "python",
   "nbconvert_exporter": "python",
   "pygments_lexer": "ipython3",
   "version": "3.7.9"
  }
 },
 "nbformat": 4,
 "nbformat_minor": 5
}
