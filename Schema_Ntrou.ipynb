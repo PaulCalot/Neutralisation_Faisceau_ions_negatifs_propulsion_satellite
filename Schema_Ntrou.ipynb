{
 "cells": [
  {
   "cell_type": "code",
   "execution_count": 2,
   "metadata": {},
   "outputs": [],
   "source": [
    "from __future__ import print_function\n",
    "\n",
    "import matplotlib.pyplot as plt\n",
    "import matplotlib.ticker as mticker\n",
    "import mshr\n",
    "import numpy as np\n",
    "import scipy.integrate as integrate\n",
    "from fenics import *"
   ]
  },
  {
   "cell_type": "code",
   "execution_count": 55,
   "metadata": {},
   "outputs": [],
   "source": [
    "L_mot = .007\n",
    "l_mot = .007\n",
    "n_trou = 1\n",
    "L_1 = .003\n",
    "l_1 = .005\n",
    "L_2 = .005\n",
    "l_2 = .015\n",
    "L_3 = .000001\n",
    "l_3 = .000001\n",
    "Delta_vert_12 = .005\n",
    "Delta_vert_23 = .000001\n",
    "L_vide = .014\n",
    "l_vide = .01\n",
    "Delta_horiz_1 = L_mot/n_trou - L_1\n",
    "Delta_horiz_2 = L_mot/n_trou - L_2\n",
    "Delta_horiz_3 = L_mot/n_trou - L_3\n",
    "h_grille = l_1 + l_2 + l_3 + Delta_vert_12 + Delta_vert_23"
   ]
  },
  {
   "cell_type": "code",
   "execution_count": 56,
   "metadata": {},
   "outputs": [],
   "source": [
    "def segment(Point1,Point2):\n",
    "    \"\"\"\n",
    "    Renvoie une liste des 4 coordonnées des extrémités à partir des deux points donnés\n",
    "    [x1,y1,x2,y2]\n",
    "    \"\"\"\n",
    "    return [Point1[0],Point1[1],Point2[0],Point2[1]]\n",
    "\n",
    "def rect(Point1,Point2):\n",
    "    \"\"\"\n",
    "    Renvoie les 4 listes des coordonnées des segments construisant le rectangle issu des 2 points d'entrée\n",
    "    ([x1,y1,x2,y2], [x1,y1,x2,y2], [x1,y1,x2,y2], [x1,y1,x2,y2])\n",
    "    \"\"\"\n",
    "    s1=segment(Point1, Point(Point1[0],Point2[1]))\n",
    "    s2=segment(Point(Point1[0],Point2[1]), Point2)\n",
    "    s3=segment(Point2, Point(Point2[0],Point1[1]))\n",
    "    s4=segment(Point(Point2[0],Point1[1]), Point1)\n",
    "    return (s1,s2,s3,s4)"
   ]
  },
  {
   "cell_type": "code",
   "execution_count": 57,
   "metadata": {},
   "outputs": [],
   "source": [
    "P1 = Point(-L_mot/2, -l_mot/2)\n",
    "P2 = Point(L_mot/2, l_mot/2)\n",
    "P3 = P1 + Point(L_mot, -h_grille)\n",
    "P4 = P1 + Point(-(L_vide-L_mot)/2, -(h_grille+l_vide))\n",
    "P5 = P3 + Point((L_vide-L_mot)/2, 0)\n",
    "\n",
    "moteur = mshr.Rectangle(P1, P2)\n",
    "grille = mshr.Rectangle(P1, P3)\n",
    "vide = mshr.Rectangle(P4, P5)\n",
    "\n",
    "zone = moteur + grille + vide\n",
    "\n",
    "P6 = P1 + Point(L_1/2, -l_1)\n",
    "P7 = P6 + Point(-L_1/2 , -Delta_vert_12)\n",
    "P8 = P7 + Point(L_2/2, -l_2)\n",
    "P9 = P8 + Point(-L_2/2, -Delta_vert_23)\n",
    "P10 = P9 + Point(L_3/2, -l_3)\n",
    "P11 = P3 + Point(-L_3/2, l_3)\n",
    "P12 = P11 + Point(L_3/2, Delta_vert_23)\n",
    "P13 = P12 + Point(-L_2/2, l_2)\n",
    "P14 = P13 + Point(L_2/2, Delta_vert_12)\n",
    "P15 = P14 + Point(-L_1/2, l_1)\n",
    "\n",
    "rect_1 = mshr.Rectangle(P1, P6)\n",
    "rect_2 = mshr.Rectangle(P7, P8)\n",
    "rect_3 = mshr.Rectangle(P9, P10)\n",
    "rect_4 = mshr.Rectangle(P3, P11)\n",
    "rect_5 = mshr.Rectangle(P12, P13)\n",
    "rect_6 = mshr.Rectangle(P14, P15)\n",
    "\n",
    "zone -= (rect_1 + rect_2 + rect_3 + rect_4 + rect_5 + rect_6)\n",
    "\n",
    "liste_segment=[\n",
    "    segment(P1,P2+Point(-L_mot,l_mot)),\n",
    "    segment(P2+Point(-L_mot,l_mot),P2), \n",
    "    segment(P2, P15+Point(L_1/2,0)),\n",
    "    segment(P15+Point(L_1/2,0), P15),\n",
    "    segment(P15, P15+Point(0,-l_1)),\n",
    "    segment(P15+Point(0,-l_1), P14),\n",
    "    segment(P14, P14+Point(0,-Delta_vert_12)),\n",
    "    segment(P14+Point(0,-Delta_vert_12), P13),\n",
    "    segment(P13, P13+Point(0, -l_2)),\n",
    "    segment(P13+Point(0, -l_2), P12),\n",
    "    segment(P12, P12+Point(0,-Delta_vert_23)),\n",
    "    segment(P12+Point(0,-Delta_vert_23), P11),\n",
    "    segment(P11, P11+Point(0, -l_3)),\n",
    "    segment(P11+Point(0, -l_3), P5),\n",
    "    segment(P5, P5+Point(0,-l_vide)),\n",
    "    segment(P5+Point(0,-l_vide), P4),\n",
    "    segment(P4, P4+Point(0,l_vide)),\n",
    "    segment(P4+Point(0,l_vide), P10),\n",
    "    segment(P10, P10+Point(0,l_3)),\n",
    "    segment(P10+Point(0,l_3),P9),\n",
    "    segment(P9,P9+Point(0,Delta_vert_23)),\n",
    "    segment(P9+Point(0,Delta_vert_23),P8),\n",
    "    segment(P8, P8+Point(0, l_2)),\n",
    "    segment(P8+Point(0, l_2), P7),\n",
    "    segment(P7, P7+Point(0,Delta_vert_12)),\n",
    "    segment(P7+Point(0,Delta_vert_12), P6),\n",
    "    segment(P6, P6+Point(0,l_1)),\n",
    "    segment(P6+Point(0,l_1),P1)\n",
    "    ]"
   ]
  },
  {
   "cell_type": "code",
   "execution_count": 58,
   "metadata": {},
   "outputs": [],
   "source": [
    "for i in range (n_trou-1):\n",
    "    PN1 = P6 + Point((i+1)*Delta_horiz_1 + i*L_1, 0)\n",
    "    PN2 = PN1 + Point(L_1, l_1)\n",
    "    PN3 = P8 + Point((i+1)*Delta_horiz_2 + i*L_2, 0)\n",
    "    PN4 = PN3 + Point(L_2, l_2)\n",
    "    PN5 = P10 + Point((i+1)*Delta_horiz_3 + i*L_3, 0)\n",
    "    PN6 = PN5 + Point(L_3, l_3)\n",
    "    \n",
    "    rectN_1 = mshr.Rectangle(PN1, PN2)\n",
    "    rectN_2 = mshr.Rectangle(PN3, PN4)\n",
    "    rectN_3 = mshr.Rectangle(PN5, PN6)\n",
    "    \n",
    "    zone -= (rectN_1 + rectN_2 + rectN_3)\n",
    "    \n",
    "    s1,s2,s3,s4=rect(PN1,PN2)\n",
    "    liste_segment.append(s1)\n",
    "    liste_segment.append(s2)\n",
    "    liste_segment.append(s3)\n",
    "    liste_segment.append(s4)\n",
    "    \n",
    "    s1,s2,s3,s4=rect(PN3,PN4)\n",
    "    liste_segment.append(s1)\n",
    "    liste_segment.append(s2)\n",
    "    liste_segment.append(s3)\n",
    "    liste_segment.append(s4)\n",
    "    \n",
    "    s1,s2,s3,s4=rect(PN5,PN6)\n",
    "    liste_segment.append(s1)\n",
    "    liste_segment.append(s2)\n",
    "    liste_segment.append(s3)\n",
    "    liste_segment.append(s4)"
   ]
  },
  {
   "cell_type": "code",
   "execution_count": 60,
   "metadata": {},
   "outputs": [
    {
     "data": {
      "image/png": "[encoded data removed]",
      "text/plain": [
       "<Figure size 720x720 with 1 Axes>"
      ]
     },
     "metadata": {
      "needs_background": "light"
     },
     "output_type": "display_data"
    }
   ],
   "source": [
    "mesh=mshr.generate_mesh(zone, 100)\n",
    "\n",
    "plt.figure(figsize=(10,10))\n",
    "plot(mesh)\n",
    "plt.show()"
   ]
  },
  {
   "cell_type": "code",
   "execution_count": null,
   "metadata": {},
   "outputs": [],
   "source": []
  },
  {
   "cell_type": "code",
   "execution_count": null,
   "metadata": {},
   "outputs": [],
   "source": []
  },
  {
   "cell_type": "code",
   "execution_count": null,
   "metadata": {},
   "outputs": [],
   "source": []
  },
  {
   "cell_type": "code",
   "execution_count": null,
   "metadata": {},
   "outputs": [],
   "source": []
  }
 ],
 "metadata": {
  "celltoolbar": "Format de la Cellule Texte Brut",
  "kernelspec": {
   "display_name": "Python 3",
   "language": "python",
   "name": "python3"
  },
  "language_info": {
   "codemirror_mode": {
    "name": "ipython",
    "version": 3
   },
   "file_extension": ".py",
   "mimetype": "text/x-python",
   "name": "python",
   "nbconvert_exporter": "python",
   "pygments_lexer": "ipython3",
   "version": "3.8.3"
  }
 },
 "nbformat": 4,
 "nbformat_minor": 4
}
