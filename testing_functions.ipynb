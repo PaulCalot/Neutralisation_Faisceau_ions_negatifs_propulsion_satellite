{
 "cells": [
  {
   "cell_type": "markdown",
   "id": "yellow-smart",
   "metadata": {},
   "source": [
    "# Testing some part of my code that may not work properly. \n",
    "\n",
    "## Collision with walls :\n",
    "\n",
    "Only issue : hard to test.\n",
    "\n",
    "What I will do : I will try to make my new code while focusing on this part of making my code testable."
   ]
  },
  {
   "cell_type": "code",
   "execution_count": null,
   "id": "million-robin",
   "metadata": {},
   "outputs": [],
   "source": []
  }
 ],
 "metadata": {
  "kernelspec": {
   "display_name": "Python 3",
   "language": "python",
   "name": "python3"
  },
  "language_info": {
   "codemirror_mode": {
    "name": "ipython",
    "version": 3
   },
   "file_extension": ".py",
   "mimetype": "text/x-python",
   "name": "python",
   "nbconvert_exporter": "python",
   "pygments_lexer": "ipython3",
   "version": "3.7.9"
  }
 },
 "nbformat": 4,
 "nbformat_minor": 5
}
