{
 "cells": [
  {
   "cell_type": "markdown",
   "metadata": {
    "slideshow": {
     "slide_type": "slide"
    }
   },
   "source": [
    "<div style=\"text-align: center; font-weight: bold; font-size: 200%\"> Negative ions ray neutralization for satellite propulsion</div>                                                        <br />      \n",
    "<div style=\"text-align: center; font-size: 150%\">Laboratoire de Physique des Plasmas - Ecole polytechnique</div><br />  \n",
    "\n",
    "\n",
    "<table><tr>\n",
    "<td> <img src=\"https://www.lpp.polytechnique.fr/IMG/logo_LPP.png\" alt=\"Drawing\" style=\"width: 30%;\"/> </td>\n",
    "</tr></table>"
   ]
  },
  {
   "cell_type": "markdown",
   "metadata": {
    "slideshow": {
     "slide_type": "skip"
    }
   },
   "source": [
    "# DSMC"
   ]
  },
  {
   "cell_type": "markdown",
   "metadata": {
    "slideshow": {
     "slide_type": "skip"
    }
   },
   "source": [
    "## Algorithm\n",
    "\n",
    "For each time step $\\Delta t$, 2 phases :\n",
    "#### Advection phase : \n",
    "Particles are moved as if they did not interact. Particles that reach a boundary are processed accordingly.\n",
    "#### Collision phase : \n",
    "For each cell, we compute a given number of collisions $M_{coll}$.\n",
    "1. Choose two particles $i$ and $j$, in the cell, randomly.\n",
    "2. Compute the collision probability which is proportional to their relative speed and depends on the **maximum relative speed** in the cell which for computational reasons should be estimated.\n",
    "3. If the pair is accepted, the collision is processed with new velocities depending on the previous one and some randomness.\n",
    "4. The routine moves again to step 1, until $M_{coll}$ is reached."
   ]
  },
  {
   "cell_type": "markdown",
   "metadata": {
    "slideshow": {
     "slide_type": "skip"
    }
   },
   "source": [
    "## Remarks :\n",
    "- It is necessary to have enough particles (at least $20$ according to literature) per cell for the validity of the algorithm.\n",
    "- One of the key point  is estimating the **maximum relative speed** in each cell.\n",
    "- A simulated particle represents much more physical particles allowing a simulation to take place with roughly $10^4$ particles."
   ]
  },
  {
   "cell_type": "markdown",
   "metadata": {
    "slideshow": {
     "slide_type": "skip"
    }
   },
   "source": [
    "## Principles\n",
    "\n",
    "- Choose $\\Delta t$ so that it is a fraction of the **mean free time**.\n",
    "- Choose $\\Delta x = \\Delta y$ (for square cells here) so that it is less that the **mean free path** $\\lambda$.\n",
    "\n",
    "### Calculating $\\lambda$ - the mean free path \n",
    "By definition : \n",
    "$\\lambda = \\frac{1}{\\sqrt{2}{} \\pi d^2n}$\n",
    "\n",
    "With : \n",
    "- $d$ : effective diameter of the particle. We choose : $d \\approx 4 \\times 10^{-10} \\space m$ which is the diameter of $I_2$.\n",
    "- $n$ : density of particules. We choose : $n = [I] \\approx 10^{20} \\space m^{-3}$.\n",
    "\n",
    "That yields : $\\lambda \\approx 0.014 \\space m$."
   ]
  },
  {
   "cell_type": "markdown",
   "metadata": {
    "slideshow": {
     "slide_type": "skip"
    }
   },
   "source": [
    " **Note** : \n",
    "- $L \\approx 0.005 \\space m$.\n",
    "- We can then compute the **Knudsen** number : $K_n = \\frac{\\lambda}{L} \\approx 2$. It is considered that a continumm description is not accurate when $K_n > 0.1$.\n",
    "\n",
    "The mean speed of $I$ is roughly $v=3 \\times 10^2 \\space m.s^{-1}$. Using the mean free path, that yields : $MeanFreeTime \\approx 4.8 \\times 10^{-5} \\space s$ requiring $\\Delta t \\leq 1.2 \\times 10^{-5} \\space s$."
   ]
  },
  {
   "cell_type": "markdown",
   "metadata": {
    "slideshow": {
     "slide_type": "skip"
    }
   },
   "source": [
    "# Probability of collision\n",
    "\n",
    "For a given cell containing $N_c$ particles, the number of pairs selected is :\n",
    "\n",
    "$$M_{cand} = \\frac{ \\pi N_c \\bar{N_c} d^2 v_{r,max} N_e}{2V_c} \\Delta t$$ \n",
    "\n",
    "Where : \n",
    "* $\\bar{N_c}$ is, for now, set at the start of the simulation and equals to : $\\frac{\\text{number of particles}}{\\text{number of cells}}$ ;\n",
    "* $d$ is the effective diameter (here : $4\\times10^{-10}$ m) ;\n",
    "* $v_{r,max}$ is the estimation of the maximum relative norm speed, here $600$ $m.s^{-1}$;\n",
    "* $N_e$ is the number of real particles a simulated particle represents, here roughly $2 \\times 10^{14}$ ;\n",
    "* $V_c$ is the volume of the cell. \n",
    "* $\\Delta t$ the time step.\n",
    "\n",
    "The probability of collision for a given pair $(i,j)$ is then equals to : $\\frac{v_{r, norm}}{v_{r,max}}$ where : $v_{r, norm} = \\|v_j - v_i\\|$.\n"
   ]
  },
  {
   "cell_type": "markdown",
   "metadata": {
    "slideshow": {
     "slide_type": "skip"
    }
   },
   "source": [
    "# Simulation parameters\n",
    "* $[I] = 10^{20}$ $m^{-3}$\n",
    "* $ d = 4\\times10^{-10}$ $m$\n",
    "* $v_{mean} = 3\\times 10^2$ $m.s^{-1}$ and $v_{r,max} = 2v_{mean}$\n",
    "\n",
    "This allows to compute the **mean free time** and the **mean free path**.\n",
    "\n",
    "\n",
    "* $dt = 0.25 \\times MeanFreeTime = 1.17 \\times 10^{-5}$ $s$.\n",
    "* Mean number of particles per cell : $100$ or $200$.\n",
    "* Number of cells : $N_{c,x} = 3$ ; $N_{c,y} = 3$ which makes $9$ cells. The size of the grid is then computed using the **mean free path** $\\lambda$: $(\\lambda N_{c,x},\\lambda N_{c,y}, l_z)$ where $l_z = 0.1$ m. The total volume is thus : $0.042 \\times 0.042 \\times 0.1 = 1.7 \\times 10^{-5}$ $m^{-3}$.\n"
   ]
  },
  {
   "cell_type": "markdown",
   "metadata": {
    "slideshow": {
     "slide_type": "skip"
    }
   },
   "source": [
    "# Examples of systems after initialization\n",
    "<table><tr>\n",
    "<td> <img src=\"results_tests/gaussian_2/4_system_state_it_1.png\" alt=\"Drawing\" style=\"width: 800px;\"/> </td>\n",
    "<td> <img src=\"results_tests/uniform/2_system_state_it_1.png\" alt=\"Drawing\" style=\"width: 800px;\"/> </td>\n",
    "</tr></table>\n"
   ]
  },
  {
   "cell_type": "markdown",
   "metadata": {
    "slideshow": {
     "slide_type": "skip"
    }
   },
   "source": [
    "\n",
    "## Three types of initialization for speed :\n",
    "* Uniform  : each $v_x$, $v_y$ and $v_z$ is choosen uniform on $[-m,M]$, $m=M$. The law of  $V = \\sqrt{{v_x}^2+{v_y}^2+{v_z}^2}$ can be obtained with geometric arguments (more below).\n",
    "* Uniform on speed norm : $V = \\sqrt{{v_x}^2+{v_y}^2+{v_z}^2}$ is choosen uniformy on $[m,M]$.\n",
    "* Gaussian : each $v_x$, $v_y$ and $v_z$ is choosen along a gaussian distribution with $\\sigma = \\sqrt{\\frac{k_bT}{m_i}}$ (where $m_i$ is the mass of the particle, here they are all the same) and $\\mu = 0$. The distribution of  $V = \\sqrt{{v_x}^2+{v_y}^2+{v_z}^2}$ is a maxwellian one.\n"
   ]
  },
  {
   "cell_type": "markdown",
   "metadata": {
    "slideshow": {
     "slide_type": "skip"
    }
   },
   "source": [
    "# Explaination - law of  $V = \\sqrt{{v_x}^2+{v_y}^2+{v_z}^2}$\n",
    "\n",
    "\n",
    "For instance, \n",
    "* $\\mathbb{P}(V < v) = 0$ for $v<0$.  \n",
    "* $\\mathbb{P}(V < v) = \\frac{\\text{Volume of the sphere of radius }v \\text{ centered in }0}{m^3} = \\frac{\\frac{4}{3}\\pi v^3}{m^3}$ for $0 \\leq v \\leq m$. \n",
    "* $\\mathbb{P}(V < v) = ...  $ for $\\sqrt{3}m > v > m$.\n",
    "* $\\mathbb{P}(V < v) = 1$ for $\\sqrt{3}m < v$.\n",
    "\n",
    "This yields : $\\mathbb{E}(V)=$"
   ]
  },
  {
   "cell_type": "markdown",
   "metadata": {
    "slideshow": {
     "slide_type": "skip"
    }
   },
   "source": [
    "# Results"
   ]
  },
  {
   "cell_type": "markdown",
   "metadata": {
    "slideshow": {
     "slide_type": "skip"
    }
   },
   "source": [
    "Once the norm $V$ has been choosen, we randomly select $\\phi$ and $\\theta$ in $[0,2\\pi[$ and then :\n",
    "* $v_x = V sin(\\theta) cos(\\phi) $\n",
    "* $v_x = V sin(\\theta) sin(\\phi) $\n",
    "* $v_x = V cos(\\theta) $"
   ]
  },
  {
   "cell_type": "code",
   "execution_count": 5,
   "metadata": {
    "slideshow": {
     "slide_type": "skip"
    }
   },
   "outputs": [
    {
     "name": "stdout",
     "output_type": "stream",
     "text": [
      "3+1 = 4\n"
     ]
    }
   ],
   "source": [
    "print(\"3+1 = {}\".format(3+1))"
   ]
  },
  {
   "cell_type": "markdown",
   "metadata": {
    "slideshow": {
     "slide_type": "skip"
    }
   },
   "source": [
    "# Collision frequency\n",
    "\n",
    "* Number of collisions during simulation : $20089$ collisions ; \n",
    "* $N_e \\approx 9.9 \\times 10^{11}$ particles ;\n",
    "Which yields : $2.0 \\times 10^{17}$ 'real' collisions during the simulation.\n",
    "\n",
    "Then, the number of collisions per unit of time, per unit of volume in theory is given by : $z = \\frac{n}{2} \\frac{\\bar{v}}{\\lambda}$.\n",
    "\n",
    "We have : \n",
    "* $n = 10^{20}$ $m^{-3}$ ;\n",
    "* $\\bar{v} = 276.64$ $m.s^{-1}$ at the beginning of the simulation. It remains the same as the system is conservative ;\n",
    "* $\\lambda = 1.4 \\times 10^{-2}$ $m$ ;\n",
    "\n",
    "Which yields for a volume of $1.8 \\times 10^{-4}$ $m^3$ and a elapsed time of $3.51 \\times 10^{-3}$ $s$ to $6.2 \\times 10^{17}$ collisions."
   ]
  },
  {
   "cell_type": "markdown",
   "metadata": {
    "slideshow": {
     "slide_type": "skip"
    }
   },
   "source": [
    "\n",
    "##  Modelization of temperature evolution for non maxwellian initializations\n",
    "\n",
    "We are looking to modelize the standard deviation of the temperature distribution with the relation :\n",
    "$$\\sigma^2(t) = (\\sigma^2(0) - \\sigma^2_{eq})e^{-t/\\tau}+\\sigma^2_{eq}$$\n",
    "\n",
    "Evolution fo temperature in the simulation, for each time step $n$: \n",
    "1. We define $w_n = v_n - <v_n>$\n",
    "2. Which yields : $\\sigma^2_n = <w_n^2>$ which is an approximaton of the variance of the random variable $V_n$ by definition.\n",
    "\n",
    "Since the system is a conservative one, we can compute $<v_{0}^2>$, an approximation of the 2nd order moment of the random variable $V_0$ by definition. Then, if we suppose the thermal equilibrium, we can compute the scale parameter in the Maxwell distribution : $a = \\sqrt{\\frac{kT}{m}} =  \\sqrt{\\frac{<v_{0}^2>}{3}}$ for dimension thre. Which yields the variance :  $\\sigma_{eq} = \\frac{a^2(3\\pi-8)}{\\pi}$.\n",
    "\n",
    "Then we minimize $|\\sigma^2_n -\\big[(\\sigma^2(0) - \\sigma^2_{eq})e^{-t/\\tau}+\\sigma^2_{eq}\\big]|$ w.r.t. to $\\tau$."
   ]
  },
  {
   "cell_type": "markdown",
   "metadata": {
    "slideshow": {
     "slide_type": "skip"
    }
   },
   "source": [
    "## Flux injection\n",
    "\n",
    "### Normal distribution :\n",
    "\n",
    "\n",
    "- For the case of ions / electrons that have been accelerated using electric fields in the direction $x_1$, then $x_2$ and $x_3$ should be treated as 'normal' maxwellian distribution and $x_1$ should be "
   ]
  },
  {
   "cell_type": "markdown",
   "metadata": {
    "slideshow": {
     "slide_type": "slide"
    }
   },
   "source": [
    "## Maxwellian flux"
   ]
  },
  {
   "cell_type": "markdown",
   "metadata": {
    "slideshow": {
     "slide_type": "slide"
    }
   },
   "source": [
    "Value taken :\n",
    "* Flux speed : $v_{flux} = 50$ $m.s^{-1}$\n",
    "* Flux is computed using : $\\Gamma = \\frac{1}{4} n S_{in} \\bar{v} + n S_{in} v_{flux}$ with : $\\bar{v} = \\sqrt{\\frac{8kT}{\\pi m}}$\n",
    "* temperature : 300 K\n",
    "* $n = 3.2 \\times 10^{19}$ $m^{-3}$\n",
    "* $S_{in}$ = $l_{\\text{in-wall}} \\times l_z$ with $l_z = 1$ $mm$. \n",
    "\n",
    "For the tube system : $l_{\\text{in-wall}} = 1$ $mm$."
   ]
  },
  {
   "cell_type": "markdown",
   "metadata": {
    "slideshow": {
     "slide_type": "slide"
    }
   },
   "source": [
    "### Speed init "
   ]
  },
  {
   "cell_type": "code",
   "execution_count": 1,
   "metadata": {
    "slideshow": {
     "slide_type": "slide"
    }
   },
   "outputs": [
    {
     "data": {
      "image/png": "[encoded data removed]",
      "text/plain": [
       "<Figure size 1080x720 with 4 Axes>"
      ]
     },
     "metadata": {
      "needs_background": "light"
     },
     "output_type": "display_data"
    }
   ],
   "source": [
    "import matplotlib.pyplot as plt\n",
    "import scipy.stats as ss\n",
    "import numpy as np\n",
    "from main import get_maxwellian_mean_speed_from_temperature, get_mass_part, get_gaussian_params_maxwellian, get_maxwellian_params\n",
    "\n",
    "from scipy.stats import maxwell, norm\n",
    "from random import gauss, random\n",
    "\n",
    "n=100000\n",
    "list_vx = []\n",
    "list_vy = []\n",
    "list_vz = []\n",
    "list_vx_ = []\n",
    "drift = 0 # m/s\n",
    "T=300 # K\n",
    "v_mean = get_maxwellian_mean_speed_from_temperature(T, m = get_mass_part(53, 53, 88))\n",
    "sigma = get_gaussian_params_maxwellian(T, m = get_mass_part(53, 53, 88))\n",
    "\n",
    "list_norm = []\n",
    "for k in range(n):\n",
    "    vx = norm.rvs(drift, sigma)\n",
    "    while(vx<0):\n",
    "        vx = norm.rvs(drift, sigma)\n",
    "    vx_ = sigma * np.sqrt(-2*np.log10((1-random()))) + drift\n",
    "    vy = norm.rvs(0, sigma)\n",
    "    vz = norm.rvs(0, sigma)\n",
    "    list_vx.append(vx)\n",
    "    list_vy.append(vy)\n",
    "    list_vz.append(vz)\n",
    "    list_norm.append(np.sqrt(vx_*vx_+vy*vy+vz*vz))\n",
    "    list_vx_.append(vx_)\n",
    "\n",
    "fig, axes = plt.subplots(2,2, figsize = (15,10))\n",
    "\n",
    "axes[0,0].hist(list_vx_, bins = 'auto', density=True, range = None, color = 'r')\n",
    "axes[0,1].hist(list_vy, bins = 'auto', density=True, range = None, color = 'g')\n",
    "axes[1,0].hist(list_vz, bins = 'auto', density=True, range = None, color = 'b')\n",
    "axes[1,1].hist(list_norm, bins = 'auto', density=True, range = None, color = 'k')\n",
    "\n",
    "x = np.linspace(-1.5*sigma, 3*sigma, n)\n",
    "#axes[0,0].plot(x, norm.pdf(x, loc=drift, scale=sigma)/(1-norm.cdf(x=0, loc=drift, scale=sigma)), 'k-', lw=2, alpha=0.6, label='norm pdf')\n",
    "axes[0,1].plot(x, norm.pdf(x, loc=0, scale=sigma), 'k-', lw=2, alpha=0.6, label='norm pdf')\n",
    "axes[1,0].plot(x, norm.pdf(x, loc=0, scale=sigma), 'k-', lw=2, alpha=0.6, label='norm pdf')\n",
    "\n",
    "#rv = norm()\n",
    "#ax.plot(x, rv.pdf(x), 'k-', lw=2, label='frozen pdf')\n",
    "\n",
    "col=np.array(list_norm)\n",
    "min_ = np.min(col)\n",
    "max_ = np.max(col)\n",
    "X = np.linspace(min_, max_, 1000)\n",
    "loc, a = get_maxwellian_params(np.mean(col), np.std(col))\n",
    "Y = ss.maxwell.pdf(X, loc=loc, scale = a)\n",
    "axes[1,1].plot(X,Y, label = 'maxwellian pdf')\n",
    "\n",
    "plt.show()"
   ]
  },
  {
   "cell_type": "code",
   "execution_count": 7,
   "metadata": {
    "slideshow": {
     "slide_type": "slide"
    }
   },
   "outputs": [
    {
     "data": {
      "text/plain": [
       "[<matplotlib.lines.Line2D at 0x7f6c11c89550>]"
      ]
     },
     "execution_count": 7,
     "metadata": {},
     "output_type": "execute_result"
    },
    {
     "data": {
      "image/png": "[encoded data removed]",
      "text/plain": [
       "<Figure size 1080x504 with 2 Axes>"
      ]
     },
     "metadata": {
      "needs_background": "light"
     },
     "output_type": "display_data"
    }
   ],
   "source": [
    "fig, axes = plt.subplots(1,2, figsize = (15,7))\n",
    "\n",
    "axes[0].hist(list_vx, bins = 'auto', density=True, range = None, color = 'r')\n",
    "axes[1].hist(list_vx_, bins = 'auto', density=True, range = None, color = 'k')\n",
    "\n",
    "x = np.linspace(-1.5*sigma, 3*sigma, n)\n",
    "axes[0].plot(x, norm.pdf(x, loc=drift, scale=sigma)/(1-norm.cdf(x=0, loc=drift, scale=sigma)), 'k-', lw=2, alpha=0.6, label='norm pdf')\n",
    "#axes[1].plot(x, norm.pdf(x, loc=drift, scale=sigma)/(1-norm.cdf(x=0, loc=drift, scale=sigma)), 'b-', lw=2, alpha=0.6, label='norm pdf')\n"
   ]
  },
  {
   "cell_type": "markdown",
   "metadata": {
    "slideshow": {
     "slide_type": "skip"
    }
   },
   "source": [
    "### Injection\n",
    "\n",
    "Grosse question : pourquoi leap frog algo => je pense que je peux l'adapter à mes besoins, en réfléchissant vraiment bien (bien comprendre le principe).\n",
    "\n",
    "Concernant l'injection, l'important est d'avoir un schéma qui préserve l'ordre. Ex : j'ai un RK4 (ordre4), je voudrais une injection d'ordre 4. En pratiques, ils utilisent le leap frog algo. xn, vn-1/2...\n",
    "\n",
    "Je vais considérer ici, comme c'est ce qu'ils m'ont demandé, uniquement l'iode $[I]$, ce qui me permet de ne pas considérer de champ. Et donc de pouvoir injecter comme je le veux, quasiment : Modified fractional time step Boris push.\n",
    "\n",
    "Si un jour je rajoute les ions etc. => champ non uniforme (il devient important dans la modélisation)."
   ]
  },
  {
   "cell_type": "markdown",
   "metadata": {
    "slideshow": {
     "slide_type": "skip"
    }
   },
   "source": [
    "# Modelization results\n",
    "<table><tr>\n",
    "<td> <img src=\"results_tests/uniform/2_temperature_evolution.png\" alt=\"Drawing\" style=\"width: 400px;\"/> </td>\n",
    "<td> <img src=\"results_tests/uniform_norm/3_temperature_evolution.png\" alt=\"Drawing\" style=\"width: 400px;\"/> </td>\n",
    "</tr></table>"
   ]
  },
  {
   "cell_type": "markdown",
   "metadata": {
    "slideshow": {
     "slide_type": "skip"
    }
   },
   "source": [
    "## Sources \n",
    "* https://mathworld.wolfram.com/MaxwellDistribution.html\n",
    "* Francis J. Alexander and Alejandro L. Garcia (1997). The Direct Simulation Monte Carlo Method.\n",
    "* Bird, G. (1994). Molecular Gas Dynamics and the Direct Simulation of Gas Flows.\n",
    "* https://scicomp.stackexchange.com/questions/19969/how-do-i-generate-maxwell-boltzmann-variates-using-a-uniform-distribution-random\n",
    "\n",
    "\n",
    "Conclusion : \n",
    "* https://www.mech.kth.se/~lhs/Danielsson_Birgersson.pdf Heat Transfer Between Two Plates (boundaries conditions)\n",
    "* http://fisica.ufpr.br/sharipov/tube.html # to compare with one tube simulation and the paper : https://avs.scitation.org/doi/10.1116/1.578969 \n",
    "* https://citeseerx.ist.psu.edu/viewdoc/download?doi=10.1.1.566.8427&rep=rep1&type=pdf injection of maxwellian distribution (how to do it)\n",
    "\n",
    "TODO : \n",
    " * clean le code (cfg etc.)\n",
    " * increase by 10/100 the number of particles for the simulation and see if the error remains\n",
    " * OPT : initialisation avec deux gaussiennes / boundary conditions (comment les gérer, en fixant la température etc. voir les liens au-dessus).\n",
    " * Simulation sur le vrai système : géométrie qui fit le système, commencer par une seule grille (une tube) puis faire deux (système réel). Les liens précédents peuvent être utiles concernant cela (pour comparer mes résultats etc.). On peut seulement sauver les indices pour la deuxième grille (et du coup on va voir dans la première grille uniquement les cases qui nous intéresse).\n",
    " \n",
    "L'objectif de ce que je dois faire : comprendre et connaître la densité de neutre (le flux de neutres) dans le système réel. On simule ainsi uniquement le flux de I !! (pas de deuxième espèce nécessaire) Ensuite on utilise l'algo de Edouard.\n",
    "\n",
    "Autre : \n",
    "* OS - CYS (code pour lancer à partir de python du code en C).\n",
    " "
   ]
  },
  {
   "cell_type": "markdown",
   "metadata": {
    "slideshow": {
     "slide_type": "skip"
    }
   },
   "source": [
    "\n",
    "On cherche à modélisation par la relation suivant:\n",
    "\n",
    "$$T(t) = (T_0 - T_{eq})e^{-t/\\tau}+T_{eq}$$\n",
    "\n",
    "Evolution de la température dans l'expérience, à chaque temps $n$: \n",
    "1. On définit $w_n = v_n - <v_n>$\n",
    "2. Puis on calcule : $<w_n^2>$ qui est une approximation de la variance de la variable aléatoire $V_n$ par définition.\n",
    "3. Et enfin : $T_{n} = \\frac{m}{3k}<w_n^2>$.\n",
    "\n",
    "Etant donné que le système est conservatif, on calcule $T_{eq} = \\frac{m}{3k}<v_{0}^2>$ où $<v_{0}^2>$ est une approximation du moment d'ordre 2 de la variable aléatoire $V_0$ (par définition).\n",
    "\n",
    "Puis on minimise $|T_{exp,n}-\\big[(T_0 - T_{eq})e^{-t/\\tau}+T_{eq}\\big]|$ par rapport à $\\tau$."
   ]
  },
  {
   "cell_type": "markdown",
   "metadata": {
    "slideshow": {
     "slide_type": "skip"
    }
   },
   "source": []
  }
 ],
 "metadata": {
  "celltoolbar": "Slideshow",
  "kernelspec": {
   "display_name": "Python 3",
   "language": "python",
   "name": "python3"
  },
  "language_info": {
   "codemirror_mode": {
    "name": "ipython",
    "version": 3
   },
   "file_extension": ".py",
   "mimetype": "text/x-python",
   "name": "python",
   "nbconvert_exporter": "python",
   "pygments_lexer": "ipython3",
   "version": "3.7.9"
  }
 },
 "nbformat": 4,
 "nbformat_minor": 4
}
