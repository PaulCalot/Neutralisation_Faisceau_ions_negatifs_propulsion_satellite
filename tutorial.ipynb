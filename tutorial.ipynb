{
 "cells": [
  {
   "cell_type": "markdown",
   "metadata": {
    "slideshow": {
     "slide_type": "slide"
    }
   },
   "source": [
    "<div style=\"text-align: center; font-weight: bold; font-size: 200%\"> Negative ions ray neutralization for satellite propulsion</div><br />\n",
    "<div style=\"text-align: center; font-weight: bold; font-size: 220%\">Tutorial</div><br />\n",
    "<!--  <div style=\"text-align: center; font-size: 120%\">Laboratoire de Physique des Plasmas - Ecole polytechnique</div><br /> -->\n",
    "<div style=\"text-align: center; font-size: 150%\"><img src=\"https://www.lpp.polytechnique.fr/IMG/logo_LPP.png\" width=\"240\" height=\"240\" align=\"center\"/></div>"
   ]
  },
  {
   "cell_type": "markdown",
   "metadata": {},
   "source": [
    "# Jupyter notebooks way\n",
    "We first import the required functions :\n",
    "```python\n",
    "from main import simulate, processing_only\n",
    "```\n",
    "\n",
    "Then, we need to define the path to the configuration files. Three are needed : \n",
    "- One for the system configuration : it can be either a thruster or a 2D-square. This is also in this one that you define the partcile types, density, the speed initialization if pertinent or the injection flux in the other case. \n",
    "- One for the simulation configuration : in this one is given the *seed*, the integration scheme, the time step $dt$ and the number of integration steps.\n",
    "- Lastly, the post processing configuration files that defines which processing are done on the saved data. Indeed, at choosen time steps of the algorithms, the configuration of the system (e.g. speeds and positions of the particles) are saved in a *.csv*.\n",
    "\n",
    "Test configuration files of very simple systems are given : \n",
    "```python\n",
    "system_cfg_path = 'cfg_files/tests/tube.cfg'\n",
    "simulation_cfg_path = 'cfg_files/tests/simulation_tube.cfg'\n",
    "processing_simulation_path = 'cfg_files/tests/processing_tube.cfg'\n",
    "```\n",
    "\n",
    "To launch a simulation, once the configuration files have been choosen, you simply need to call : \n",
    "```python\n",
    "simulate(system_cfg_path, simulation_cfg_path, processing_simulation_path, verbose = False)\n",
    "```\n",
    "\n",
    "You can call ```verbose = True``` if you want to print the options and plot the system at regular interval.\n",
    "\n",
    "Once terminated, you can call \n",
    "```python\n",
    "processing_only(system_cfg_path, simulation_cfg_path, processing_simulation_path, recompute = False)\n",
    "```\n",
    "to launch to post-processing of choosen processing to do."
   ]
  },
  {
   "cell_type": "code",
   "execution_count": 1,
   "metadata": {},
   "outputs": [
    {
     "ename": "ModuleNotFoundError",
     "evalue": "No module named 'handler_collision_with_wall'",
     "output_type": "error",
     "traceback": [
      "\u001b[0;31m---------------------------------------------------------------------------\u001b[0m",
      "\u001b[0;31mModuleNotFoundError\u001b[0m                       Traceback (most recent call last)",
      "\u001b[0;32m<ipython-input-1-52c6857eddae>\u001b[0m in \u001b[0;36m<module>\u001b[0;34m\u001b[0m\n\u001b[0;32m----> 1\u001b[0;31m \u001b[0;32mfrom\u001b[0m \u001b[0mmain\u001b[0m \u001b[0;32mimport\u001b[0m \u001b[0msimulate\u001b[0m\u001b[0;34m,\u001b[0m \u001b[0mprocessing_only\u001b[0m\u001b[0;34m\u001b[0m\u001b[0;34m\u001b[0m\u001b[0m\n\u001b[0m\u001b[1;32m      2\u001b[0m \u001b[0;34m\u001b[0m\u001b[0m\n\u001b[1;32m      3\u001b[0m \u001b[0;31m# Tube\u001b[0m\u001b[0;34m\u001b[0m\u001b[0;34m\u001b[0m\u001b[0;34m\u001b[0m\u001b[0m\n\u001b[1;32m      4\u001b[0m \u001b[0msystem_cfg_path\u001b[0m \u001b[0;34m=\u001b[0m \u001b[0;34m'cfg_files/tests/tube.cfg'\u001b[0m\u001b[0;34m\u001b[0m\u001b[0;34m\u001b[0m\u001b[0m\n\u001b[1;32m      5\u001b[0m \u001b[0msimulation_cfg_path\u001b[0m \u001b[0;34m=\u001b[0m \u001b[0;34m'cfg_files/tests/simulation_tube.cfg'\u001b[0m\u001b[0;34m\u001b[0m\u001b[0;34m\u001b[0m\u001b[0m\n",
      "\u001b[0;32m~/Documents/projects/neutralisation-faisceau-ions-negatifs-propulsion-satellite/main/__init__.py\u001b[0m in \u001b[0;36m<module>\u001b[0;34m\u001b[0m\n\u001b[1;32m     25\u001b[0m \u001b[0;31m# my modules imports\u001b[0m\u001b[0;34m\u001b[0m\u001b[0;34m\u001b[0m\u001b[0;34m\u001b[0m\u001b[0m\n\u001b[1;32m     26\u001b[0m \u001b[0;32mfrom\u001b[0m \u001b[0;34m.\u001b[0m\u001b[0mcollisions_handler\u001b[0m \u001b[0;32mimport\u001b[0m \u001b[0mCollisionHandler\u001b[0m\u001b[0;34m\u001b[0m\u001b[0;34m\u001b[0m\u001b[0m\n\u001b[0;32m---> 27\u001b[0;31m \u001b[0;32mfrom\u001b[0m \u001b[0;34m.\u001b[0m\u001b[0mDSMC\u001b[0m \u001b[0;32mimport\u001b[0m \u001b[0mDSMC\u001b[0m\u001b[0;34m\u001b[0m\u001b[0;34m\u001b[0m\u001b[0m\n\u001b[0m\u001b[1;32m     28\u001b[0m \u001b[0;32mfrom\u001b[0m \u001b[0;34m.\u001b[0m\u001b[0mparticules\u001b[0m \u001b[0;32mimport\u001b[0m \u001b[0mParticule\u001b[0m\u001b[0;34m\u001b[0m\u001b[0;34m\u001b[0m\u001b[0m\n\u001b[1;32m     29\u001b[0m \u001b[0;32mfrom\u001b[0m \u001b[0;34m.\u001b[0m\u001b[0mparticles_init\u001b[0m \u001b[0;32mimport\u001b[0m \u001b[0minit_particles_in_system\u001b[0m\u001b[0;34m,\u001b[0m \u001b[0minit_particles_flux\u001b[0m\u001b[0;34m,\u001b[0m \u001b[0minit_particles_flux_naive\u001b[0m\u001b[0;34m\u001b[0m\u001b[0;34m\u001b[0m\u001b[0m\n",
      "\u001b[0;32m~/Documents/projects/neutralisation-faisceau-ions-negatifs-propulsion-satellite/main/DSMC.py\u001b[0m in \u001b[0;36m<module>\u001b[0;34m\u001b[0m\n\u001b[1;32m     13\u001b[0m \u001b[0;34m\u001b[0m\u001b[0m\n\u001b[1;32m     14\u001b[0m \u001b[0;32mfrom\u001b[0m \u001b[0;34m.\u001b[0m\u001b[0mutils\u001b[0m\u001b[0;34m.\u001b[0m\u001b[0mintegration_schemes\u001b[0m \u001b[0;32mimport\u001b[0m \u001b[0mscipy_integrate_solve_ivp\u001b[0m\u001b[0;34m,\u001b[0m \u001b[0mrk4\u001b[0m\u001b[0;34m,\u001b[0m \u001b[0meuler_explicit\u001b[0m\u001b[0;34m\u001b[0m\u001b[0;34m\u001b[0m\u001b[0m\n\u001b[0;32m---> 15\u001b[0;31m \u001b[0;32mfrom\u001b[0m \u001b[0mhandler_collision_with_wall\u001b[0m \u001b[0;32mimport\u001b[0m \u001b[0mhandler_wall_collision\u001b[0m\u001b[0;34m\u001b[0m\u001b[0;34m\u001b[0m\u001b[0m\n\u001b[0m\u001b[1;32m     16\u001b[0m \u001b[0;34m\u001b[0m\u001b[0m\n\u001b[1;32m     17\u001b[0m \u001b[0;32mclass\u001b[0m \u001b[0mDSMC\u001b[0m\u001b[0;34m(\u001b[0m\u001b[0mobject\u001b[0m\u001b[0;34m)\u001b[0m\u001b[0;34m:\u001b[0m\u001b[0;34m\u001b[0m\u001b[0;34m\u001b[0m\u001b[0m\n",
      "\u001b[0;31mModuleNotFoundError\u001b[0m: No module named 'handler_collision_with_wall'"
     ]
    }
   ],
   "source": [
    "from main import simulate, processing_only\n",
    "\n",
    "# Tube\n",
    "system_cfg_path = 'cfg_files/tests/tube.cfg'\n",
    "simulation_cfg_path = 'cfg_files/tests/simulation_tube.cfg'\n",
    "processing_simulation_path = 'cfg_files/tests/processing_tube.cfg'\n",
    "\n",
    "# Thruster\n",
    "\n",
    "# system_cfg_path = 'cfg_files/tests/thruster.cfg'\n",
    "# simulation_cfg_path = 'cfg_files/tests/simulation_thruster.cfg'\n",
    "# processing_simulation_path = 'cfg_files/tests/processing_thruster.cfg'\n"
   ]
  },
  {
   "cell_type": "code",
   "execution_count": null,
   "metadata": {},
   "outputs": [],
   "source": [
    "simulate(system_cfg_path, simulation_cfg_path, processing_simulation_path, verbose = False)"
   ]
  },
  {
   "cell_type": "code",
   "execution_count": null,
   "metadata": {},
   "outputs": [],
   "source": [
    "processing_only(system_cfg_path, simulation_cfg_path, processing_simulation_path)"
   ]
  },
  {
   "cell_type": "markdown",
   "metadata": {},
   "source": [
    "# Terminal way\n",
    "\n",
    "It is also possible to launch a test directly from a terminal. In this case, you need to call the module [tests](tests.py) from the root directory. \n",
    "\n",
    "The usage is :\n",
    "```shell\n",
    "tests.py -t <type> -a <path_to_cfg_architecture> -s <path_to_cfg_simulation> -p <path_to_cfg_processing>\n",
    "```\n",
    "\n",
    "Which yields for example for simulation part :\n",
    "```shell\n",
    "tests.py -t simulation -a cfg_files/tests/tube.cfg -s cfg_files/tests/simulation_tube.cfg -p cfg_files/tests/processing_tube.cfg\n",
    "```\n",
    "\n",
    "And for the processing part :\n",
    "```shell\n",
    "tests.py -t processing -a cfg_files/tests/tube.cfg -s cfg_files/tests/simulation_tube.cfg -p cfg_files/tests/processing_tube.cfg\n",
    "```\n"
   ]
  }
 ],
 "metadata": {
  "celltoolbar": "Slideshow",
  "kernelspec": {
   "display_name": "Python 3",
   "language": "python",
   "name": "python3"
  },
  "language_info": {
   "codemirror_mode": {
    "name": "ipython",
    "version": 3
   },
   "file_extension": ".py",
   "mimetype": "text/x-python",
   "name": "python",
   "nbconvert_exporter": "python",
   "pygments_lexer": "ipython3",
   "version": "3.7.9"
  }
 },
 "nbformat": 4,
 "nbformat_minor": 4
}
