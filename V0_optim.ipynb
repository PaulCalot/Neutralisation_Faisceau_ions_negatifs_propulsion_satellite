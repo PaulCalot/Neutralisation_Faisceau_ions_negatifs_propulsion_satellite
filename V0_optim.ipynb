{
 "cells": [
  {
   "cell_type": "code",
   "execution_count": 1,
   "metadata": {},
   "outputs": [],
   "source": [
    "from __future__ import print_function\n",
    "\n",
    "import matplotlib.pyplot as plt\n",
    "import matplotlib.ticker as mticker\n",
    "import mshr\n",
    "import numpy as np\n",
    "import scipy.integrate as integrate\n",
    "from fenics import *\n",
    "import pickle\n",
    "\n",
    "# local imports\n",
    "from modules.mesh_utils import get_mesh\n",
    "from modules.physics_utils import get_VandE, compute_trajectory, coord_impact, intersection\n",
    "#from modules.plotting_utils import ?"
   ]
  },
  {
   "cell_type": "markdown",
   "metadata": {},
   "source": [
    "# Parametres"
   ]
  },
  {
   "cell_type": "code",
   "execution_count": null,
   "metadata": {},
   "outputs": [],
   "source": [
    "mesh_dict = { # we need L < L_mot\n",
    "    'L_mot' : .005,\n",
    "    'l_mot' : .003,\n",
    "    'L_1' : .003, # dim_trou = L_mot-L = .002 ici\n",
    "    'l_1': .001,\n",
    "    'L_2' : .004, # dim_trou = .001 ici\n",
    "    'l_2' : .002,\n",
    "    'delta_vert_12' : .001,\n",
    "    'L_vacuum' : .05,\n",
    "    'l_vacuum': .02,\n",
    "    'mesh_resolution' : 100,\n",
    "    'refine_mesh' : True,\n",
    "}\n",
    "\n",
    "phi_dict = {\n",
    "    'Phi_top_mot' : 0,\n",
    "    'Phi_bord_mot': 'N',\n",
    "    'Phi_electrode1' :30,\n",
    "    'Phi_inter_electrode':'N',\n",
    "    'Phi_electrode2':300,\n",
    "    'Phi_sup_vacuum':'N',\n",
    "    'Phi_inf_vacuum':'N',\n",
    "}\n",
    "\n",
    "physics_consts_dict = {\n",
    "    'rhoelec': 0,\n",
    "    'l_rho':0, #dist between rho and 0 // <l_2 // if 0, we consider rhoelec uniform\n",
    "    'PERMITTIVITY' : 8.54e-12,\n",
    "    'CHARGE':1.6e-19, \n",
    "    'M_NUCLEON':1.7e-27,\n",
    "}\n",
    "\n",
    "integration_parameters_dict = { #Best ==> 'tmax' : .00002 and 'dt' : .00000001 and '%Nout':100\n",
    "    'tmax' : .000007,\n",
    "    'dt' : .00000005,\n",
    "    '%Nout': 95,\n",
    "}\n",
    "\n",
    "injection_dict = {\n",
    "    'Nombre de particules':300,\n",
    "    'proportion de I':0,\n",
    "    'proportion de I+':0,\n",
    "    'proportion de I-':1,\n",
    "    'débit de particule en entrée de la grille':1e12,\n",
    "    'gamma':1,\n",
    "    'Vion':2000,\n",
    "    'Vneutre':200,\n",
    "    'Sigma_Vion':500,\n",
    "    'Sigma_Vneutre':80,\n",
    "}\n",
    "\n",
    "mode_dict={\n",
    "    'Choc symétrique?':False,\n",
    "    'Contact inter particules?':False,\n",
    "    'coef inelasticite':0.1, \n",
    "    'coef scattering':0.3,\n",
    "    'proba perte q par choc':1, \n",
    "    'X0 fixe ?':False,\n",
    "}"
   ]
  },
  {
   "cell_type": "code",
   "execution_count": 7,
   "metadata": {},
   "outputs": [
    {
     "ename": "NameError",
     "evalue": "name 'inferno' is not defined",
     "output_type": "error",
     "traceback": [
      "\u001b[0;31m---------------------------------------------------------------------------\u001b[0m",
      "\u001b[0;31mNameError\u001b[0m                                 Traceback (most recent call last)",
      "\u001b[0;32m<ipython-input-7-aa77fb9040b3>\u001b[0m in \u001b[0;36m<module>\u001b[0;34m\u001b[0m\n\u001b[1;32m      1\u001b[0m \u001b[0mliste_L_2\u001b[0m\u001b[0;34m=\u001b[0m\u001b[0;34m[\u001b[0m\u001b[0;36m.0045\u001b[0m\u001b[0;34m,\u001b[0m \u001b[0;36m.0055\u001b[0m\u001b[0;34m,\u001b[0m \u001b[0;36m.0065\u001b[0m\u001b[0;34m,\u001b[0m \u001b[0;36m.0075\u001b[0m\u001b[0;34m,\u001b[0m \u001b[0;36m.0085\u001b[0m\u001b[0;34m,\u001b[0m \u001b[0;36m.0095\u001b[0m\u001b[0;34m]\u001b[0m \u001b[0;31m#6 valeurs\u001b[0m\u001b[0;34m\u001b[0m\u001b[0;34m\u001b[0m\u001b[0m\n\u001b[1;32m      2\u001b[0m \u001b[0mliste_l_2\u001b[0m\u001b[0;34m=\u001b[0m\u001b[0;34m[\u001b[0m\u001b[0;36m.005\u001b[0m\u001b[0;34m,\u001b[0m \u001b[0;36m0.015\u001b[0m\u001b[0;34m,\u001b[0m \u001b[0;36m0.03\u001b[0m\u001b[0;34m,\u001b[0m \u001b[0;36m0.045\u001b[0m\u001b[0;34m,\u001b[0m \u001b[0;36m0.065\u001b[0m\u001b[0;34m,\u001b[0m \u001b[0;36m0.085\u001b[0m\u001b[0;34m,\u001b[0m \u001b[0;36m0.11\u001b[0m\u001b[0;34m,\u001b[0m \u001b[0;36m0.15\u001b[0m\u001b[0;34m]\u001b[0m \u001b[0;31m#8 valeurs\u001b[0m\u001b[0;34m\u001b[0m\u001b[0;34m\u001b[0m\u001b[0m\n\u001b[0;32m----> 3\u001b[0;31m \u001b[0mliste_couleur\u001b[0m\u001b[0;34m=\u001b[0m\u001b[0minferno\u001b[0m\u001b[0;34m(\u001b[0m\u001b[0mnp\u001b[0m\u001b[0;34m.\u001b[0m\u001b[0mlinspace\u001b[0m\u001b[0;34m(\u001b[0m\u001b[0;36m0\u001b[0m\u001b[0;34m,\u001b[0m\u001b[0;36m1\u001b[0m\u001b[0;34m,\u001b[0m\u001b[0mlen\u001b[0m\u001b[0;34m(\u001b[0m\u001b[0mliste_l_2\u001b[0m\u001b[0;34m)\u001b[0m\u001b[0;34m)\u001b[0m\u001b[0;34m)\u001b[0m\u001b[0;34m\u001b[0m\u001b[0;34m\u001b[0m\u001b[0m\n\u001b[0m",
      "\u001b[0;31mNameError\u001b[0m: name 'inferno' is not defined"
     ]
    }
   ],
   "source": [
    "liste_L_2=[.0025, .00275, .003, .00325, .0035, .00375, .004, .00425, .0045, .0048] #liste_L_2=[.0025, .003, .0035, .004 , .0045, .0048] #6 valeurs \n",
    "liste_l_2=[.001, .0025, .004, .006, .008, .01, .02, .03, .04,   .05] #liste_l_2=[.001, .0025, .004, .006, .008, .01, 0.03, .05] #8 valeurs \n",
    "liste_couleur=plt.cm.plasma(np.linspace(0,1,len(liste_l_2)))"
   ]
  },
  {
   "cell_type": "raw",
   "metadata": {},
   "source": [
    "Dans les plots, liste_L_2 et liste_l_2 sont supposées être dans l'ordre croissant. Néanmoins, aucun ordre n'est requis pr les listes de résultats (on va chercher les indices à chaque fois) donc on peut rajouter des valeurs au milieu. \n",
    "Mais liste_L_2 et liste_l_2 doivent inclure les cas test! ie 0.003 et 0.004 // 0.001 et 0.01"
   ]
  },
  {
   "cell_type": "markdown",
   "metadata": {},
   "source": [
    "# Maj des listes "
   ]
  },
  {
   "cell_type": "raw",
   "metadata": {},
   "source": [
    "liste_param_testes contient des listes [L_2, l_2]\n",
    "\n",
    "liste_Nb_out contient les valeurs Nb_out issues de la configuration [L_2, l_2] associée\n",
    "liste_pf contient des listes [pfI, pfI+, pfI-] issues de la configuration [L_2, l_2] associée\n",
    "liste_alpha_moy contient des listes [aI, aI+, aI-] issues de la configuration [L_2, l_2] associée\n",
    "liste_alpha_sigma contient des listes [saI, saI+, saI-] issues de la configuration [L_2, l_2] associée\n",
    "liste_V_moy contient des listes [sI, sI+, sI-] issues de la configuration [L_2, l_2] associée\n",
    "liste_V_sigma contient des listes [svI, svI+, svI-] issues de la configuration [L_2, l_2] associée"
   ]
  },
  {
   "cell_type": "code",
   "execution_count": 3,
   "metadata": {},
   "outputs": [],
   "source": [
    "with open(\"OPTIM_liste_param_testes.txt\", \"rb\") as fp:\n",
    "    liste_param_testes = pickle.load(fp)\n",
    "with open(\"OPTIM_liste_Nb_out.txt\", \"rb\") as fp:\n",
    "    liste_Nb_out = pickle.load(fp)\n",
    "with open(\"OPTIM_liste_pf.txt\", \"rb\") as fp:\n",
    "    liste_pf = pickle.load(fp)\n",
    "with open(\"OPTIM_liste_alpha_moy.txt\", \"rb\") as fp:\n",
    "    liste_alpha_moy = pickle.load(fp)\n",
    "with open(\"OPTIM_liste_alpha_sigma.txt\", \"rb\") as fp:\n",
    "    liste_alpha_sigma = pickle.load(fp)\n",
    "with open(\"OPTIM_liste_V_moy.txt\", \"rb\") as fp:\n",
    "    liste_V_moy = pickle.load(fp)\n",
    "with open(\"OPTIM_liste_V_sigma.txt\", \"rb\") as fp:\n",
    "    liste_V_sigma = pickle.load(fp)"
   ]
  },
  {
   "cell_type": "code",
   "execution_count": 13,
   "metadata": {},
   "outputs": [],
   "source": [
    "'''liste_param_testes = []\n",
    "liste_Nb_out = []\n",
    "liste_pf = []\n",
    "liste_alpha_moy = []\n",
    "liste_alpha_sigma = []\n",
    "liste_V_moy = []\n",
    "liste_V_sigma = []'''"
   ]
  },
  {
   "cell_type": "code",
   "execution_count": 7,
   "metadata": {
    "scrolled": true
   },
   "outputs": [
    {
     "name": "stdout",
     "output_type": "stream",
     "text": [
      "combinaison [1, 0.005, 0.037, 0.0045, 0.003, 30, 300] déjà testée\n",
      "WARNING: user expression has not supplied value_shape method or an element. Assuming scalar element.\n",
      "début d'initialisation\n",
      "début de l'injection\n",
      "toutes les particules sont injectées\n"
     ]
    },
    {
     "ename": "KeyboardInterrupt",
     "evalue": "",
     "output_type": "error",
     "traceback": [
      "\u001b[0;31m---------------------------------------------------------------------------\u001b[0m",
      "\u001b[0;31mKeyboardInterrupt\u001b[0m                         Traceback (most recent call last)",
      "\u001b[0;32m<ipython-input-7-7dc6a0b5d99f>\u001b[0m in \u001b[0;36m<module>\u001b[0;34m\u001b[0m\n\u001b[1;32m     70\u001b[0m \u001b[0;34m\u001b[0m\u001b[0m\n\u001b[1;32m     71\u001b[0m                             \u001b[0mliste_pf\u001b[0m\u001b[0;34m,\u001b[0m \u001b[0mliste_alpha\u001b[0m\u001b[0;34m,\u001b[0m \u001b[0mliste_alpha_sigma\u001b[0m\u001b[0;34m,\u001b[0m \u001b[0mliste_V\u001b[0m\u001b[0;34m,\u001b[0m \u001b[0mliste_V_sigma\u001b[0m \u001b[0;34m=\u001b[0m\u001b[0;31m \u001b[0m\u001b[0;31m\\\u001b[0m\u001b[0;34m\u001b[0m\u001b[0;34m\u001b[0m\u001b[0m\n\u001b[0;32m---> 72\u001b[0;31m                             \u001b[0mcompute_trajectory\u001b[0m\u001b[0;34m(\u001b[0m\u001b[0mintegration_parameters_dict\u001b[0m\u001b[0;34m,\u001b[0m \u001b[0minjection_dict\u001b[0m\u001b[0;34m,\u001b[0m \u001b[0mmesh_dict\u001b[0m\u001b[0;34m,\u001b[0m \u001b[0mmode_dict\u001b[0m\u001b[0;34m,\u001b[0m \u001b[0msegments_list\u001b[0m\u001b[0;34m,\u001b[0m \u001b[0mzone\u001b[0m\u001b[0;34m,\u001b[0m\u001b[0mE\u001b[0m\u001b[0;34m,\u001b[0m \u001b[0mphysics_consts_dict\u001b[0m\u001b[0;34m,\u001b[0m \u001b[0;32mFalse\u001b[0m\u001b[0;34m)\u001b[0m\u001b[0;34m\u001b[0m\u001b[0;34m\u001b[0m\u001b[0m\n\u001b[0m\u001b[1;32m     73\u001b[0m \u001b[0;34m\u001b[0m\u001b[0m\n\u001b[1;32m     74\u001b[0m                             \u001b[0mlistes_pf\u001b[0m\u001b[0;34m.\u001b[0m\u001b[0mappend\u001b[0m\u001b[0;34m(\u001b[0m\u001b[0mliste_pf\u001b[0m\u001b[0;34m)\u001b[0m\u001b[0;34m\u001b[0m\u001b[0;34m\u001b[0m\u001b[0m\n",
      "\u001b[0;32m~/Documents/Cours/X/Projet spatial/Neutralisation_Faisceau_ions_negatifs_propulsion_satellite/modules/physics_utils.py\u001b[0m in \u001b[0;36mcompute_trajectory\u001b[0;34m(integration_parameters_dict, injection_dict, mesh_dict, mode_dict, segments_list, zone, E, physics_consts_dict, details)\u001b[0m\n\u001b[1;32m    442\u001b[0m             \u001b[0;32mif\u001b[0m \u001b[0mliste_Y\u001b[0m\u001b[0;34m[\u001b[0m\u001b[0mn\u001b[0m\u001b[0;34m]\u001b[0m\u001b[0;34m[\u001b[0m\u001b[0;36m1\u001b[0m\u001b[0;34m]\u001b[0m\u001b[0;34m!=\u001b[0m\u001b[0;36m1\u001b[0m\u001b[0;34m:\u001b[0m\u001b[0;34m\u001b[0m\u001b[0;34m\u001b[0m\u001b[0m\n\u001b[1;32m    443\u001b[0m                 \u001b[0mliste_Y\u001b[0m\u001b[0;34m[\u001b[0m\u001b[0mn\u001b[0m\u001b[0;34m]\u001b[0m\u001b[0;34m[\u001b[0m\u001b[0;36m1\u001b[0m\u001b[0;34m]\u001b[0m\u001b[0;34m=\u001b[0m\u001b[0;36m0\u001b[0m\u001b[0;34m\u001b[0m\u001b[0;34m\u001b[0m\u001b[0m\n\u001b[0;32m--> 444\u001b[0;31m                 \u001b[0mparticule\u001b[0m\u001b[0;34m=\u001b[0m\u001b[0mOne_step\u001b[0m\u001b[0;34m(\u001b[0m\u001b[0mliste_Y\u001b[0m\u001b[0;34m,\u001b[0m\u001b[0mn\u001b[0m\u001b[0;34m,\u001b[0m\u001b[0msegments_list\u001b[0m\u001b[0;34m,\u001b[0m\u001b[0mzone\u001b[0m\u001b[0;34m,\u001b[0m\u001b[0mmode_dict\u001b[0m\u001b[0;34m,\u001b[0m\u001b[0mmesh_dict\u001b[0m\u001b[0;34m,\u001b[0m\u001b[0mt\u001b[0m\u001b[0;34m,\u001b[0m\u001b[0mE\u001b[0m\u001b[0;34m,\u001b[0m\u001b[0mdt\u001b[0m\u001b[0;34m)\u001b[0m\u001b[0;34m\u001b[0m\u001b[0;34m\u001b[0m\u001b[0m\n\u001b[0m\u001b[1;32m    445\u001b[0m                 \u001b[0mliste_Y\u001b[0m\u001b[0;34m[\u001b[0m\u001b[0mn\u001b[0m\u001b[0;34m]\u001b[0m\u001b[0;34m[\u001b[0m\u001b[0;36m0\u001b[0m\u001b[0;34m]\u001b[0m\u001b[0;34m=\u001b[0m\u001b[0mparticule\u001b[0m\u001b[0;34m\u001b[0m\u001b[0;34m\u001b[0m\u001b[0m\n\u001b[1;32m    446\u001b[0m                 \u001b[0;32mif\u001b[0m \u001b[0mdetails\u001b[0m\u001b[0;34m==\u001b[0m\u001b[0;32mTrue\u001b[0m\u001b[0;34m:\u001b[0m\u001b[0;34m\u001b[0m\u001b[0;34m\u001b[0m\u001b[0m\n",
      "\u001b[0;32m~/Documents/Cours/X/Projet spatial/Neutralisation_Faisceau_ions_negatifs_propulsion_satellite/modules/physics_utils.py\u001b[0m in \u001b[0;36mOne_step\u001b[0;34m(liste_Y, n, segments_list, zone, mode_dict, mesh_dict, t, E, dt)\u001b[0m\n\u001b[1;32m    280\u001b[0m     \u001b[0mespece\u001b[0m\u001b[0;34m=\u001b[0m\u001b[0mparticule\u001b[0m\u001b[0;34m.\u001b[0m\u001b[0mespece\u001b[0m\u001b[0;34m\u001b[0m\u001b[0;34m\u001b[0m\u001b[0m\n\u001b[1;32m    281\u001b[0m     \u001b[0mY\u001b[0m\u001b[0;34m=\u001b[0m\u001b[0mnp\u001b[0m\u001b[0;34m.\u001b[0m\u001b[0marray\u001b[0m\u001b[0;34m(\u001b[0m\u001b[0;34m[\u001b[0m\u001b[0mparticule\u001b[0m\u001b[0;34m.\u001b[0m\u001b[0mx\u001b[0m\u001b[0;34m,\u001b[0m \u001b[0mparticule\u001b[0m\u001b[0;34m.\u001b[0m\u001b[0my\u001b[0m\u001b[0;34m,\u001b[0m \u001b[0mparticule\u001b[0m\u001b[0;34m.\u001b[0m\u001b[0mz\u001b[0m\u001b[0;34m,\u001b[0m \u001b[0mparticule\u001b[0m\u001b[0;34m.\u001b[0m\u001b[0mvx\u001b[0m\u001b[0;34m,\u001b[0m \u001b[0mparticule\u001b[0m\u001b[0;34m.\u001b[0m\u001b[0mvy\u001b[0m\u001b[0;34m,\u001b[0m \u001b[0mparticule\u001b[0m\u001b[0;34m.\u001b[0m\u001b[0mvz\u001b[0m\u001b[0;34m]\u001b[0m\u001b[0;34m)\u001b[0m\u001b[0;34m\u001b[0m\u001b[0;34m\u001b[0m\u001b[0m\n\u001b[0;32m--> 282\u001b[0;31m     \u001b[0mk1\u001b[0m\u001b[0;34m=\u001b[0m\u001b[0mnp\u001b[0m\u001b[0;34m.\u001b[0m\u001b[0marray\u001b[0m\u001b[0;34m(\u001b[0m\u001b[0mf\u001b[0m\u001b[0;34m(\u001b[0m\u001b[0mY\u001b[0m\u001b[0;34m,\u001b[0m\u001b[0mt\u001b[0m\u001b[0;34m,\u001b[0m\u001b[0mm\u001b[0m\u001b[0;34m,\u001b[0m\u001b[0mq\u001b[0m\u001b[0;34m,\u001b[0m\u001b[0mzone\u001b[0m\u001b[0;34m,\u001b[0m\u001b[0mE\u001b[0m\u001b[0;34m)\u001b[0m\u001b[0;34m)\u001b[0m\u001b[0;34m\u001b[0m\u001b[0;34m\u001b[0m\u001b[0m\n\u001b[0m\u001b[1;32m    283\u001b[0m     \u001b[0mk2\u001b[0m\u001b[0;34m=\u001b[0m\u001b[0mnp\u001b[0m\u001b[0;34m.\u001b[0m\u001b[0marray\u001b[0m\u001b[0;34m(\u001b[0m\u001b[0mf\u001b[0m\u001b[0;34m(\u001b[0m\u001b[0mY\u001b[0m\u001b[0;34m+\u001b[0m\u001b[0;36m.5\u001b[0m\u001b[0;34m*\u001b[0m\u001b[0mdt\u001b[0m\u001b[0;34m*\u001b[0m\u001b[0mk1\u001b[0m\u001b[0;34m,\u001b[0m \u001b[0mt\u001b[0m\u001b[0;34m+\u001b[0m\u001b[0;36m.5\u001b[0m\u001b[0;34m*\u001b[0m\u001b[0mdt\u001b[0m\u001b[0;34m,\u001b[0m\u001b[0mm\u001b[0m\u001b[0;34m,\u001b[0m\u001b[0mq\u001b[0m\u001b[0;34m,\u001b[0m\u001b[0mzone\u001b[0m\u001b[0;34m,\u001b[0m\u001b[0mE\u001b[0m\u001b[0;34m)\u001b[0m\u001b[0;34m)\u001b[0m\u001b[0;34m\u001b[0m\u001b[0;34m\u001b[0m\u001b[0m\n\u001b[1;32m    284\u001b[0m     \u001b[0mk3\u001b[0m\u001b[0;34m=\u001b[0m\u001b[0mnp\u001b[0m\u001b[0;34m.\u001b[0m\u001b[0marray\u001b[0m\u001b[0;34m(\u001b[0m\u001b[0mf\u001b[0m\u001b[0;34m(\u001b[0m\u001b[0mY\u001b[0m\u001b[0;34m+\u001b[0m\u001b[0;36m.5\u001b[0m\u001b[0;34m*\u001b[0m\u001b[0mdt\u001b[0m\u001b[0;34m*\u001b[0m\u001b[0mk2\u001b[0m\u001b[0;34m,\u001b[0m \u001b[0mt\u001b[0m\u001b[0;34m+\u001b[0m\u001b[0;36m.5\u001b[0m\u001b[0;34m*\u001b[0m\u001b[0mdt\u001b[0m\u001b[0;34m,\u001b[0m\u001b[0mm\u001b[0m\u001b[0;34m,\u001b[0m\u001b[0mq\u001b[0m\u001b[0;34m,\u001b[0m\u001b[0mzone\u001b[0m\u001b[0;34m,\u001b[0m\u001b[0mE\u001b[0m\u001b[0;34m)\u001b[0m\u001b[0;34m)\u001b[0m\u001b[0;34m\u001b[0m\u001b[0;34m\u001b[0m\u001b[0m\n",
      "\u001b[0;32m~/Documents/Cours/X/Projet spatial/Neutralisation_Faisceau_ions_negatifs_propulsion_satellite/modules/physics_utils.py\u001b[0m in \u001b[0;36mf\u001b[0;34m(Y, t, m, q, zone, E)\u001b[0m\n\u001b[1;32m    248\u001b[0m     \u001b[0mY\u001b[0m\u001b[0;34m=\u001b[0m\u001b[0;34m[\u001b[0m\u001b[0mx\u001b[0m\u001b[0;34m,\u001b[0m \u001b[0my\u001b[0m\u001b[0;34m,\u001b[0m \u001b[0mz\u001b[0m\u001b[0;34m,\u001b[0m \u001b[0mvx\u001b[0m\u001b[0;34m,\u001b[0m \u001b[0mvy\u001b[0m\u001b[0;34m,\u001b[0m \u001b[0mvz\u001b[0m\u001b[0;34m]\u001b[0m \u001b[0mce\u001b[0m \u001b[0mn\u001b[0m\u001b[0;31m'\u001b[0m\u001b[0mest\u001b[0m \u001b[0mpas\u001b[0m \u001b[0mle\u001b[0m \u001b[0mY\u001b[0m \u001b[0mde\u001b[0m \u001b[0mliste_Y\u001b[0m\u001b[0;34m\u001b[0m\u001b[0;34m\u001b[0m\u001b[0m\n\u001b[1;32m    249\u001b[0m     '''\n\u001b[0;32m--> 250\u001b[0;31m     \u001b[0mEx\u001b[0m\u001b[0;34m,\u001b[0m \u001b[0mEy\u001b[0m \u001b[0;34m=\u001b[0m \u001b[0mE\u001b[0m\u001b[0;34m.\u001b[0m\u001b[0msplit\u001b[0m\u001b[0;34m(\u001b[0m\u001b[0mdeepcopy\u001b[0m\u001b[0;34m=\u001b[0m\u001b[0;32mTrue\u001b[0m\u001b[0;34m)\u001b[0m\u001b[0;34m\u001b[0m\u001b[0;34m\u001b[0m\u001b[0m\n\u001b[0m\u001b[1;32m    251\u001b[0m     \u001b[0mvx\u001b[0m\u001b[0;34m=\u001b[0m\u001b[0mY\u001b[0m\u001b[0;34m[\u001b[0m\u001b[0;36m3\u001b[0m\u001b[0;34m]\u001b[0m\u001b[0;34m\u001b[0m\u001b[0;34m\u001b[0m\u001b[0m\n\u001b[1;32m    252\u001b[0m     \u001b[0mvy\u001b[0m\u001b[0;34m=\u001b[0m\u001b[0mY\u001b[0m\u001b[0;34m[\u001b[0m\u001b[0;36m4\u001b[0m\u001b[0;34m]\u001b[0m\u001b[0;34m\u001b[0m\u001b[0;34m\u001b[0m\u001b[0m\n",
      "\u001b[0;32m~/opt/anaconda3/envs/fenicsproject/lib/python3.8/site-packages/dolfin/function/function.py\u001b[0m in \u001b[0;36msplit\u001b[0;34m(self, deepcopy)\u001b[0m\n\u001b[1;32m    538\u001b[0m         \u001b[0;32mif\u001b[0m \u001b[0mnum_sub_spaces\u001b[0m \u001b[0;34m==\u001b[0m \u001b[0;36m1\u001b[0m\u001b[0;34m:\u001b[0m\u001b[0;34m\u001b[0m\u001b[0;34m\u001b[0m\u001b[0m\n\u001b[1;32m    539\u001b[0m             \u001b[0;32mraise\u001b[0m \u001b[0mRuntimeError\u001b[0m\u001b[0;34m(\u001b[0m\u001b[0;34m\"No subfunctions to extract\"\u001b[0m\u001b[0;34m)\u001b[0m\u001b[0;34m\u001b[0m\u001b[0;34m\u001b[0m\u001b[0m\n\u001b[0;32m--> 540\u001b[0;31m         \u001b[0;32mreturn\u001b[0m \u001b[0mtuple\u001b[0m\u001b[0;34m(\u001b[0m\u001b[0mself\u001b[0m\u001b[0;34m.\u001b[0m\u001b[0msub\u001b[0m\u001b[0;34m(\u001b[0m\u001b[0mi\u001b[0m\u001b[0;34m,\u001b[0m \u001b[0mdeepcopy\u001b[0m\u001b[0;34m)\u001b[0m \u001b[0;32mfor\u001b[0m \u001b[0mi\u001b[0m \u001b[0;32min\u001b[0m \u001b[0mrange\u001b[0m\u001b[0;34m(\u001b[0m\u001b[0mnum_sub_spaces\u001b[0m\u001b[0;34m)\u001b[0m\u001b[0;34m)\u001b[0m\u001b[0;34m\u001b[0m\u001b[0;34m\u001b[0m\u001b[0m\n\u001b[0m",
      "\u001b[0;32m~/opt/anaconda3/envs/fenicsproject/lib/python3.8/site-packages/dolfin/function/function.py\u001b[0m in \u001b[0;36m<genexpr>\u001b[0;34m(.0)\u001b[0m\n\u001b[1;32m    538\u001b[0m         \u001b[0;32mif\u001b[0m \u001b[0mnum_sub_spaces\u001b[0m \u001b[0;34m==\u001b[0m \u001b[0;36m1\u001b[0m\u001b[0;34m:\u001b[0m\u001b[0;34m\u001b[0m\u001b[0;34m\u001b[0m\u001b[0m\n\u001b[1;32m    539\u001b[0m             \u001b[0;32mraise\u001b[0m \u001b[0mRuntimeError\u001b[0m\u001b[0;34m(\u001b[0m\u001b[0;34m\"No subfunctions to extract\"\u001b[0m\u001b[0;34m)\u001b[0m\u001b[0;34m\u001b[0m\u001b[0;34m\u001b[0m\u001b[0m\n\u001b[0;32m--> 540\u001b[0;31m         \u001b[0;32mreturn\u001b[0m \u001b[0mtuple\u001b[0m\u001b[0;34m(\u001b[0m\u001b[0mself\u001b[0m\u001b[0;34m.\u001b[0m\u001b[0msub\u001b[0m\u001b[0;34m(\u001b[0m\u001b[0mi\u001b[0m\u001b[0;34m,\u001b[0m \u001b[0mdeepcopy\u001b[0m\u001b[0;34m)\u001b[0m \u001b[0;32mfor\u001b[0m \u001b[0mi\u001b[0m \u001b[0;32min\u001b[0m \u001b[0mrange\u001b[0m\u001b[0;34m(\u001b[0m\u001b[0mnum_sub_spaces\u001b[0m\u001b[0;34m)\u001b[0m\u001b[0;34m)\u001b[0m\u001b[0;34m\u001b[0m\u001b[0;34m\u001b[0m\u001b[0m\n\u001b[0m",
      "\u001b[0;32m~/opt/anaconda3/envs/fenicsproject/lib/python3.8/site-packages/dolfin/function/function.py\u001b[0m in \u001b[0;36msub\u001b[0;34m(self, i, deepcopy)\u001b[0m\n\u001b[1;32m    517\u001b[0m         \u001b[0;32mif\u001b[0m \u001b[0mdeepcopy\u001b[0m\u001b[0;34m:\u001b[0m\u001b[0;34m\u001b[0m\u001b[0;34m\u001b[0m\u001b[0m\n\u001b[1;32m    518\u001b[0m             return Function(self.function_space().sub(i),\n\u001b[0;32m--> 519\u001b[0;31m                             \u001b[0mself\u001b[0m\u001b[0;34m.\u001b[0m\u001b[0mcpp_object\u001b[0m\u001b[0;34m(\u001b[0m\u001b[0;34m)\u001b[0m\u001b[0;34m.\u001b[0m\u001b[0msub\u001b[0m\u001b[0;34m(\u001b[0m\u001b[0mi\u001b[0m\u001b[0;34m)\u001b[0m\u001b[0;34m,\u001b[0m\u001b[0;34m\u001b[0m\u001b[0;34m\u001b[0m\u001b[0m\n\u001b[0m\u001b[1;32m    520\u001b[0m                             name='%s-%d' % (str(self), i))\n\u001b[1;32m    521\u001b[0m         \u001b[0;32melse\u001b[0m\u001b[0;34m:\u001b[0m\u001b[0;34m\u001b[0m\u001b[0;34m\u001b[0m\u001b[0m\n",
      "\u001b[0;31mKeyboardInterrupt\u001b[0m: "
     ]
    }
   ],
   "source": [
    "for l_2 in liste_l_2:\n",
    "    for L_2 in liste_L_2:\n",
    "\n",
    "        param=[L_2, l_2]\n",
    "            \n",
    "        if param in liste_param_testes:\n",
    "            print('combinaison '+str(param)+' déjà testée')\n",
    "\n",
    "        else:    \n",
    "            mesh_dict['L_2'] = L_2\n",
    "            mesh_dict['l_2'] = l_2\n",
    "            \n",
    "            if L_2 >= .004 or l_2 >= .008:\n",
    "                integration_parameters_dict['tmax']=.00001\n",
    "            \n",
    "            mesh, segments_list, zone = get_mesh(mesh_dict)\n",
    "            Phi, E, f = get_VandE(mesh, mesh_dict, phi_dict, physics_consts_dict)\n",
    "\n",
    "            Nb_out, pf_3_especes, alpha_moy_3_especes, alpha_sigma_3_especes, V_moy_3_especes, V_sigma_3_especes = \\\n",
    "            compute_trajectory(integration_parameters_dict, injection_dict, mesh_dict, mode_dict, segments_list, zone,E, physics_consts_dict, False)\n",
    "\n",
    "            liste_Nb_out.append(Nb_out)\n",
    "            liste_pf.append(pf_3_especes)\n",
    "            liste_alpha_moy.append(alpha_moy_3_especes)\n",
    "            liste_alpha_sigma.append(alpha_sigma_3_especes)\n",
    "            liste_V_moy.append(V_moy_3_especes)\n",
    "            liste_V_sigma.append(V_sigma_3_especes)\n",
    "            liste_param_testes.append(param)\n",
    "\n",
    "            print('combinaison '+str(param)+' testée')\n",
    "            print('------------------------------------------------------')\n",
    "            \n",
    "            integration_parameters_dict['tmax']=.000007\n",
    "\n",
    "            with open(\"OPTIM_liste_param_testes.txt\", \"wb\") as fp:\n",
    "                pickle.dump(liste_param_testes, fp)\n",
    "            with open(\"OPTIM_liste_Nb_out.txt\", \"wb\") as fp:\n",
    "                pickle.dump(liste_Nb_out, fp)\n",
    "            with open(\"OPTIM_liste_pf.txt\", \"wb\") as fp:\n",
    "                pickle.dump(liste_pf, fp)\n",
    "            with open(\"OPTIM_liste_alpha_moy.txt\", \"wb\") as fp:\n",
    "                pickle.dump(liste_alpha_moy, fp)\n",
    "            with open(\"OPTIM_liste_alpha_sigma.txt\", \"wb\") as fp:\n",
    "                pickle.dump(liste_alpha_sigma, fp)\n",
    "            with open(\"OPTIM_liste_V_moy.txt\", \"wb\") as fp:\n",
    "                pickle.dump(liste_V_moy, fp)\n",
    "            with open(\"OPTIM_liste_V_sigma.txt\", \"wb\") as fp:\n",
    "                pickle.dump(liste_V_sigma, fp)"
   ]
  },
  {
   "cell_type": "code",
   "execution_count": null,
   "metadata": {},
   "outputs": [],
   "source": [
    "##On complete les listes en changeant les 'None' (si pas de particules du type en sortie) en 0.\n",
    "#pour les vitesses on le verra pas, pour les angles ça n'influence pas\n",
    "\n",
    "for i in range (len(liste_param_testes)):\n",
    "    if liste_V_moy[i][0] == None:\n",
    "        liste_V_moy[i][0] = 0\n",
    "        liste_alpha_moy[i][0] = 0\n",
    "        liste_V_sigma[i][0] = 0\n",
    "        liste_alpha_sigma[i][0] = 0"
   ]
  },
  {
   "cell_type": "code",
   "execution_count": null,
   "metadata": {},
   "outputs": [],
   "source": [
    "liste_param_testes = np.array(liste_param_testes)\n",
    "liste_Nb_out = np.array(liste_Nb_out)\n",
    "liste_pf = np.array(liste_pf)\n",
    "liste_alpha_moy = np.array(liste_alpha_moy)\n",
    "liste_alpha_sigma = np.array(liste_alpha_sigma)\n",
    "liste_V_moy = np.array(liste_V_moy)\n",
    "liste_V_sigma = np.array(liste_V_sigma)"
   ]
  },
  {
   "cell_type": "markdown",
   "metadata": {},
   "source": [
    "# Plot"
   ]
  },
  {
   "cell_type": "raw",
   "metadata": {},
   "source": [
    "On représente différents graphiques:\n",
    "-taux de neutre en fonction de L_2, points liés en iso_l_2.\n",
    "-vitesse moyenne et ecart type de V en sortie en fonction de L_2, à l_2 choisi. !Valeur totale (I+I-)\n",
    "-valeur moyenne et ecart type de Alpha en sortie en fonction de L_2, à l_2 choisi. !Valeur totale (I+I-)\n",
    "-colormap de pf, V, ecart type de Alpha avec L_2 et l_2 en axes. !Valeur totale (I+I-)"
   ]
  },
  {
   "cell_type": "code",
   "execution_count": null,
   "metadata": {},
   "outputs": [],
   "source": [
    "liste_indice_rslt_l_2=[] #contient des listes d'indices globaux de liste_param_testes pour lesquels \n",
    "                        #l_2 est celui de la même place que ds liste_l_2\n",
    "for l_2 in liste_l_2:\n",
    "    liste_intermediaire=[]\n",
    "    for i in range(len(liste_param_testes)):\n",
    "        if liste_param_testes[i,1]==l_2:\n",
    "            liste_intermediaire.append(i)\n",
    "    liste_indice_rslt_l_2.append(liste_intermediaire)\n",
    "    \n",
    "liste_indice_rslt_l_2=np.array(liste_indice_rslt_l_2)"
   ]
  },
  {
   "cell_type": "code",
   "execution_count": null,
   "metadata": {},
   "outputs": [],
   "source": [
    "liste_couple=[[.003,0.001],\n",
    "              [0.004,0.001],\n",
    "              [0.003,0.01],\n",
    "              [0.004,0.01]]\n",
    "liste_indice_cas_test=[None,None,None,None] #contient les indices globaux de liste_param_testes pour lesquels \n",
    "                                            #les dimensions sont celles des cas tests\n",
    "for i in range(len(liste_param_testes)):\n",
    "    param=liste_param_testes[i]\n",
    "    for j in range(4):\n",
    "        couple=liste_couple[j]\n",
    "        if (couple==param).all():\n",
    "            liste_indice_cas_test[j]=i"
   ]
  },
  {
   "cell_type": "markdown",
   "metadata": {},
   "source": [
    "# N°1"
   ]
  },
  {
   "cell_type": "code",
   "execution_count": null,
   "metadata": {},
   "outputs": [],
   "source": [
    "plt.figure(figsize=(10,10))\n",
    "\n",
    "for i in range(len(liste_l_2)):\n",
    "    liste_intermediaire = liste_indice_rslt_l_2[i]\n",
    "    abscisse = liste_param_testes[liste_intermediaire, 0]\n",
    "    ordonnee = liste_pf[liste_intermediaire,0]\n",
    "    nom = 'l_2 = ' + str(liste_l_2[i]) + 'm'\n",
    "    c = liste_couleur[i]\n",
    "    plt.plot(abscisse, ordonnee, label=nom, color=c, markersize=5, linewidth=1, marker='o')\n",
    "\n",
    "for indice in liste_indice_cas_test:\n",
    "    abscisse = liste_param_testes[indice, 0]\n",
    "    ordonnee = liste_pf[indice,0]\n",
    "    plt.scatter(abscisse, ordonnee, marker='*', s=100, color='k')\n",
    "\n",
    "plt.xlabel(\"L_2 (m)\",size=30)\n",
    "plt.ylabel(\"taux de neutralisation en sortie\",size=30)\n",
    "plt.ylim(-0.05,1)\n",
    "plt.legend()\n",
    "plt.text(.0025,-0.3,'300 particules, scattering=0.3, proba_perte_charge=1, eta=0.1, \\nchocs non symétriques, sans collision, gamma=1, rho=0', size=15)\n",
    "\n",
    "plt.show()"
   ]
  },
  {
   "cell_type": "markdown",
   "metadata": {},
   "source": [
    "# N°2"
   ]
  },
  {
   "cell_type": "code",
   "execution_count": null,
   "metadata": {},
   "outputs": [],
   "source": [
    "#rappel, liste_l_2=[.001, .0025, .004, .006, .008, .01, .02, .03, .04, .05] #10 valeurs\n",
    "indice_l_2_choisi = 5\n",
    "liste_indice_rslt_l_2_choisi = liste_indice_rslt_l_2[indice_l_2_choisi]\n",
    "\n",
    "abscisse=liste_param_testes[liste_indice_rslt_l_2_choisi, 0]\n",
    "ordonnee=liste_V_moy[liste_indice_rslt_l_2_choisi,0]*liste_pf[liste_indice_rslt_l_2_choisi,0] + liste_V_moy[liste_indice_rslt_l_2_choisi,2]*liste_pf[liste_indice_rslt_l_2_choisi,2]\n",
    "barre=liste_V_sigma[liste_indice_rslt_l_2_choisi,0]*liste_pf[liste_indice_rslt_l_2_choisi,0] + liste_V_sigma[liste_indice_rslt_l_2_choisi,2]*liste_pf[liste_indice_rslt_l_2_choisi,2]\n",
    "barre=1.96*barre*np.power(liste_Nb_out[liste_indice_rslt_l_2_choisi],-.5)\n",
    "c=liste_couleur[indice_l_2_choisi]\n",
    "\n",
    "plt.figure(figsize=(10,10))\n",
    "plt.scatter(abscisse, ordonnee, color=c)\n",
    "plt.errorbar(abscisse, ordonnee, yerr=barre, fmt = 'none', capsize = 7, elinewidth=1, ecolor='k')\n",
    "plt.xlabel('L_2 (m)',size=30)\n",
    "plt.ylabel('V (m/s) total en sortie',size=30)   \n",
    "plt.ylim(14000,20000)\n",
    "for i in range (1,4):\n",
    "    plt.axhline(y=20000*0.9**i, linestyle='--',color='grey')    \n",
    "plt.text(0.0042,19500,'l_2 fixé à '+str(liste_l_2[indice_l_2_choisi])+'m', size=15)\n",
    "plt.text(0.0025,13000,'300 particules, scattering=0.3, proba_perte_charge=1, eta=0.1, \\nchocs non symétriques, sans collision, gamma=1, rho=0', size=15)\n",
    "\n",
    "plt.show()"
   ]
  },
  {
   "cell_type": "markdown",
   "metadata": {},
   "source": [
    "# N°3"
   ]
  },
  {
   "cell_type": "code",
   "execution_count": null,
   "metadata": {},
   "outputs": [],
   "source": [
    "#rappel, liste_l_2=[.001, .0025, .004, .006, .008, .01, .02, .03, .04, .05] #10 valeurs\n",
    "indice_l_2_choisi = 8\n",
    "liste_indice_rslt_l_2_choisi = liste_indice_rslt_l_2[indice_l_2_choisi]\n",
    "\n",
    "abscisse=liste_param_testes[liste_indice_rslt_l_2_choisi, 0]\n",
    "ordonnee=liste_alpha_moy[liste_indice_rslt_l_2_choisi,0]*liste_pf[liste_indice_rslt_l_2_choisi,0] + liste_alpha_moy[liste_indice_rslt_l_2_choisi,2]*liste_pf[liste_indice_rslt_l_2_choisi,2]\n",
    "barre=liste_alpha_sigma[liste_indice_rslt_l_2_choisi,0]*liste_pf[liste_indice_rslt_l_2_choisi,0] + liste_alpha_sigma[liste_indice_rslt_l_2_choisi,2]*liste_pf[liste_indice_rslt_l_2_choisi,2]\n",
    "barre=1.96*barre*np.power(liste_Nb_out[liste_indice_rslt_l_2_choisi],-.5)\n",
    "c=liste_couleur[indice_l_2_choisi]\n",
    "\n",
    "fig = plt.figure(figsize=(10,10))\n",
    "ax  = fig.add_subplot(111)\n",
    "plt.scatter(abscisse, ordonnee, color=c)\n",
    "plt.errorbar(abscisse, ordonnee, yerr=barre, fmt = 'none', capsize = 7, elinewidth=1, ecolor='k')\n",
    "y_pi   = ordonnee/np.pi\n",
    "unit   = 0.05\n",
    "y_tick = np.arange(-0.05, 0.051, unit)\n",
    "y_label = [r\"$-\\frac{\\pi}{20}$\", r\"$0$\", r\"$+\\frac{\\pi}{20}$\"]\n",
    "ax.set_yticks(y_tick*np.pi)\n",
    "ax.set_yticklabels(y_label, fontsize=20)\n",
    "plt.xlabel('L_2 (m)',size=30)\n",
    "plt.ylabel('angle (rad) du flux total en sortie',size=30)   \n",
    "plt.ylim(-1.1*np.pi/20,1.1*np.pi/20)\n",
    "plt.axhline(y=0, linestyle='--',color='grey')  \n",
    "plt.text(0.0042,0.15,'l_2 fixé à '+str(liste_l_2[indice_l_2_choisi])+'m', size=15)\n",
    "plt.text(0.0025,-0.24,'300 particules, scattering=0.3, proba_perte_charge=1, eta=0.1, \\nchocs non symétriques, sans collision, gamma=1, rho=0', size=15)\n",
    "\n",
    "plt.show()"
   ]
  },
  {
   "cell_type": "markdown",
   "metadata": {},
   "source": [
    "# N°4"
   ]
  },
  {
   "cell_type": "code",
   "execution_count": 6,
   "metadata": {},
   "outputs": [
    {
     "ename": "TypeError",
     "evalue": "'int' object is not subscriptable",
     "output_type": "error",
     "traceback": [
      "\u001b[0;31m---------------------------------------------------------------------------\u001b[0m",
      "\u001b[0;31mTypeError\u001b[0m                                 Traceback (most recent call last)",
      "\u001b[0;32m<ipython-input-6-433e52fd1545>\u001b[0m in \u001b[0;36m<module>\u001b[0;34m\u001b[0m\n\u001b[1;32m      7\u001b[0m \u001b[0;34m\u001b[0m\u001b[0m\n\u001b[1;32m      8\u001b[0m \u001b[0;32mfor\u001b[0m \u001b[0mi\u001b[0m \u001b[0;32min\u001b[0m \u001b[0mrange\u001b[0m\u001b[0;34m(\u001b[0m\u001b[0mlen\u001b[0m\u001b[0;34m(\u001b[0m\u001b[0mtab_V\u001b[0m\u001b[0;34m)\u001b[0m\u001b[0;34m)\u001b[0m\u001b[0;34m:\u001b[0m\u001b[0;34m\u001b[0m\u001b[0;34m\u001b[0m\u001b[0m\n\u001b[0;32m----> 9\u001b[0;31m     \u001b[0;32mfor\u001b[0m \u001b[0mj\u001b[0m \u001b[0;32min\u001b[0m \u001b[0mrange\u001b[0m\u001b[0;34m(\u001b[0m\u001b[0mlen\u001b[0m\u001b[0;34m(\u001b[0m\u001b[0mtab_V\u001b[0m\u001b[0;34m)\u001b[0m\u001b[0;34m[\u001b[0m\u001b[0;36m0\u001b[0m\u001b[0;34m]\u001b[0m\u001b[0;34m)\u001b[0m\u001b[0;34m:\u001b[0m\u001b[0;34m\u001b[0m\u001b[0;34m\u001b[0m\u001b[0m\n\u001b[0m\u001b[1;32m     10\u001b[0m         \u001b[0mind\u001b[0m\u001b[0;34m=\u001b[0m\u001b[0;32mNone\u001b[0m\u001b[0;34m\u001b[0m\u001b[0;34m\u001b[0m\u001b[0m\n\u001b[1;32m     11\u001b[0m         \u001b[0;32mfor\u001b[0m \u001b[0mk\u001b[0m \u001b[0;32min\u001b[0m \u001b[0mrange\u001b[0m\u001b[0;34m(\u001b[0m\u001b[0mlen\u001b[0m\u001b[0;34m(\u001b[0m\u001b[0mliste_param_testes\u001b[0m\u001b[0;34m)\u001b[0m\u001b[0;34m)\u001b[0m\u001b[0;34m:\u001b[0m\u001b[0;34m\u001b[0m\u001b[0;34m\u001b[0m\u001b[0m\n",
      "\u001b[0;31mTypeError\u001b[0m: 'int' object is not subscriptable"
     ]
    }
   ],
   "source": [
    "X=np.array(liste_L_2)\n",
    "Y=np.array(liste_l_2)\n",
    "X,Y=np.meshgrid(X,Y)\n",
    "tab_pf=np.zeros(np.shape(X))\n",
    "tab_V_moy=np.zeros(np.shape(X))\n",
    "tab_alpha_sigma=np.zeros(np.shape(X))\n",
    "\n",
    "for i in range(len(tab_V_moy)):\n",
    "    for j in range(len(tab_V_moy[0])):\n",
    "        ind=None\n",
    "        for k in range(len(liste_param_testes)):\n",
    "            if (liste_param_testes[k] == (X[i,j],Y[i,j])).all():\n",
    "                ind = k\n",
    "                break\n",
    "        tab_pf[i,j]=liste_pf[ind,0]\n",
    "        tab_V_moy[i,j]=liste_V_moy[ind,0]*liste_pf[ind,0]+liste_V_moy[ind,2]*liste_pf[ind,2]\n",
    "        tab_alpha_sigma[i,j]=(liste_alpha_sigma[ind,0]*liste_pf[ind,0]+liste_alpha_sigma[ind,2]*liste_pf[ind,2])*1.96*liste_Nb_out[ind]**(-.5)\n",
    "        \n",
    "plt.figure(figsize=(20,7))\n",
    "\n",
    "plt.subplot(1,3,1)\n",
    "plt.pcolormesh(X,Y,tab_pf,cmap='plasma')\n",
    "plt.xlabel('L_2 (m)',size=25)\n",
    "plt.ylabel('l_2 (m)',size=25)\n",
    "plt.title('proportion de neutre',size=25)\n",
    "plt.colorbar()\n",
    "\n",
    "plt.subplot(1,3,2)\n",
    "plt.pcolormesh(X,Y,tab_V_moy,cmap='plasma')\n",
    "plt.xlabel('L_2 (m)',size=25)\n",
    "plt.ylabel('l_2 (m)',size=25)\n",
    "plt.title('vitesse moyenne (m/s)',size=25)\n",
    "plt.colorbar()\n",
    "\n",
    "plt.subplot(1,3,3)\n",
    "plt.pcolormesh(X,Y,tab_alpha_sigma,cmap='plasma')\n",
    "plt.xlabel('L_2 (m)',size=25)\n",
    "plt.ylabel('l_2 (m)',size=25)\n",
    "plt.title(\"1.96*sigma/sqrt(N) de \\nl'angle (rad) du flux\",size=25)\n",
    "plt.colorbar()\n",
    "\n",
    "plt.text(-.0034,-0.01,'300 particules, scattering=0.3, proba_perte_charge=1, eta=0.1, chocs non symétriques, sans collision, gamma=1, rho=0', size=15)\n",
    "plt.show()"
   ]
  }
 ],
 "metadata": {
  "celltoolbar": "Format de la Cellule Texte Brut",
  "kernelspec": {
   "display_name": "Python 3",
   "language": "python",
   "name": "python3"
  },
  "language_info": {
   "codemirror_mode": {
    "name": "ipython",
    "version": 3
   },
   "file_extension": ".py",
   "mimetype": "text/x-python",
   "name": "python",
   "nbconvert_exporter": "python",
   "pygments_lexer": "ipython3",
   "version": "3.7.9"
  }
 },
 "nbformat": 4,
 "nbformat_minor": 4
}
