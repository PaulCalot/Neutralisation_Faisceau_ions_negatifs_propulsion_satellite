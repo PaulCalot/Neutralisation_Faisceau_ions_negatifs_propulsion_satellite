{
 "cells": [
  {
   "cell_type": "code",
   "execution_count": 1,
   "id": "retired-industry",
   "metadata": {},
   "outputs": [
    {
     "name": "stdout",
     "output_type": "stream",
     "text": [
      "Creating data analyser from /home/paul/Documents/projects/Neutralisation_Faisceau_ions_negatifs_propulsion_satellite/results/tube_1_steady/params.csv...\t[OK]\n",
      "Loading test 1...First time test 1 is loaded. Computing speed norm and saving it back.\n",
      "Number of iterations : 12551\n",
      "\t[OK]\n",
      "\tCompute selected frames...\t[OK]\n",
      "\tCollisions...\n",
      "For test 1, N_e = 0.000000e+00 vs N_t = 3.200000e+13.\n",
      "[END COLLISIONS]\n",
      "\tCompute density...\t[OK]\n",
      "\tCompute number of particles evolution...\t[OK]\n"
     ]
    }
   ],
   "source": [
    "from main import simulate, processing_only\n",
    "\n",
    "system_cfg_path = 'results/tube_1_steady/cfg_files/tube_1.cfg'\n",
    "simulation_cfg_path = 'results/tube_1_steady/cfg_files/simulation_steady.cfg'\n",
    "processing_simulation_path = 'results/tube_1_steady/cfg_files/processing_1_steady.cfg'\n",
    "processing_only(system_cfg_path, simulation_cfg_path, processing_simulation_path, recompute = False)\n",
    "#simulate(system_cfg_path, simulation_cfg_path, processing_simulation_path, load = -2) # recompute = True)"
   ]
  },
  {
   "cell_type": "code",
   "execution_count": null,
   "id": "returning-quarterly",
   "metadata": {},
   "outputs": [],
   "source": []
  }
 ],
 "metadata": {
  "kernelspec": {
   "display_name": "Python 3",
   "language": "python",
   "name": "python3"
  },
  "language_info": {
   "codemirror_mode": {
    "name": "ipython",
    "version": 3
   },
   "file_extension": ".py",
   "mimetype": "text/x-python",
   "name": "python",
   "nbconvert_exporter": "python",
   "pygments_lexer": "ipython3",
   "version": "3.7.9"
  }
 },
 "nbformat": 4,
 "nbformat_minor": 5
}
