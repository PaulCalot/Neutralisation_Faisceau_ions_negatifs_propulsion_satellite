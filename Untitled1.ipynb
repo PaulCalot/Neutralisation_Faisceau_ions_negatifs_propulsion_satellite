{
 "cells": [
  {
   "cell_type": "code",
   "execution_count": null,
   "id": "compound-prophet",
   "metadata": {},
   "outputs": [
    {
     "name": "stderr",
     "output_type": "stream",
     "text": [
      "  0%|          | 2/3000 [00:00<06:22,  7.83it/s]"
     ]
    },
    {
     "name": "stdout",
     "output_type": "stream",
     "text": [
      "[(nan, None, [0.0, 0.0, 0.0, 0.001]),\n",
      " (nan, None, [0.0, 0.0, 0.01, 0.0]),\n",
      " (nan, None, [0.01, 0.0, 0.01, 0.001]),\n",
      " (nan, None, [0.0, 0.001, 0.01, 0.001])]\n",
      "No wall nearby.\n",
      "[(nan, None, [0.0, 0.0, 0.0, 0.001]),\n",
      " (nan, None, [0.0, 0.0, 0.01, 0.0]),\n",
      " (nan, None, [0.01, 0.0, 0.01, 0.001]),\n",
      " (nan, None, [0.0, 0.001, 0.01, 0.001])]\n",
      "No wall nearby.\n"
     ]
    },
    {
     "name": "stderr",
     "output_type": "stream",
     "text": [
      "  0%|          | 4/3000 [00:00<07:10,  6.96it/s]"
     ]
    },
    {
     "name": "stdout",
     "output_type": "stream",
     "text": [
      "[(nan, None, [0.0, 0.0, 0.0, 0.001]),\n",
      " (nan, None, [0.0, 0.0, 0.01, 0.0]),\n",
      " (nan, None, [0.01, 0.0, 0.01, 0.001]),\n",
      " (nan, None, [0.0, 0.001, 0.01, 0.001])]\n",
      "No wall nearby.\n",
      "[(nan, None, [0.0, 0.0, 0.0, 0.001]),\n",
      " (nan, None, [0.0, 0.0, 0.01, 0.0]),\n",
      " (nan, None, [0.01, 0.0, 0.01, 0.001]),\n",
      " (nan, None, [0.0, 0.001, 0.01, 0.001])]\n",
      "No wall nearby.\n"
     ]
    },
    {
     "name": "stderr",
     "output_type": "stream",
     "text": [
      "  0%|          | 6/3000 [00:00<06:57,  7.17it/s]"
     ]
    },
    {
     "name": "stdout",
     "output_type": "stream",
     "text": [
      "[(nan, None, [0.0, 0.0, 0.0, 0.001]),\n",
      " (nan, None, [0.0, 0.0, 0.01, 0.0]),\n",
      " (nan, None, [0.01, 0.0, 0.01, 0.001]),\n",
      " (nan, None, [0.0, 0.001, 0.01, 0.001])]\n",
      "No wall nearby.\n",
      "[(nan, None, [0.0, 0.0, 0.0, 0.001]),\n",
      " (nan, None, [0.0, 0.0, 0.01, 0.0]),\n",
      " (nan, None, [0.01, 0.0, 0.01, 0.001]),\n",
      " (nan, None, [0.0, 0.001, 0.01, 0.001])]\n",
      "No wall nearby.\n"
     ]
    },
    {
     "name": "stderr",
     "output_type": "stream",
     "text": [
      "  0%|          | 8/3000 [00:01<06:56,  7.19it/s]"
     ]
    },
    {
     "name": "stdout",
     "output_type": "stream",
     "text": [
      "[(nan, None, [0.0, 0.0, 0.0, 0.001]),\n",
      " (nan, None, [0.0, 0.0, 0.01, 0.0]),\n",
      " (nan, None, [0.01, 0.0, 0.01, 0.001]),\n",
      " (nan, None, [0.0, 0.001, 0.01, 0.001])]\n",
      "No wall nearby.\n",
      "[(nan, None, [0.0, 0.0, 0.0, 0.001]),\n",
      " (nan, None, [0.0, 0.0, 0.01, 0.0]),\n",
      " (nan, None, [0.01, 0.0, 0.01, 0.001]),\n",
      " (nan, None, [0.0, 0.001, 0.01, 0.001])]\n",
      "No wall nearby.\n"
     ]
    },
    {
     "name": "stderr",
     "output_type": "stream",
     "text": [
      "  0%|          | 10/3000 [00:01<07:09,  6.96it/s]"
     ]
    },
    {
     "name": "stdout",
     "output_type": "stream",
     "text": [
      "[(nan, None, [0.0, 0.0, 0.0, 0.001]),\n",
      " (nan, None, [0.0, 0.0, 0.01, 0.0]),\n",
      " (nan, None, [0.01, 0.0, 0.01, 0.001]),\n",
      " (nan, None, [0.0, 0.001, 0.01, 0.001])]\n",
      "No wall nearby.\n",
      "[(nan, None, [0.0, 0.0, 0.0, 0.001]),\n",
      " (nan, None, [0.0, 0.0, 0.01, 0.0]),\n",
      " (nan, None, [0.01, 0.0, 0.01, 0.001]),\n",
      " (nan, None, [0.0, 0.001, 0.01, 0.001])]\n",
      "No wall nearby.\n"
     ]
    },
    {
     "name": "stderr",
     "output_type": "stream",
     "text": [
      "  0%|          | 12/3000 [00:01<06:53,  7.23it/s]"
     ]
    },
    {
     "name": "stdout",
     "output_type": "stream",
     "text": [
      "[(nan, None, [0.0, 0.0, 0.0, 0.001]),\n",
      " (nan, None, [0.0, 0.0, 0.01, 0.0]),\n",
      " (nan, None, [0.01, 0.0, 0.01, 0.001]),\n",
      " (nan, None, [0.0, 0.001, 0.01, 0.001])]\n",
      "No wall nearby.\n",
      "[(nan, None, [0.0, 0.0, 0.0, 0.001]),\n",
      " (nan, None, [0.0, 0.0, 0.01, 0.0]),\n",
      " (nan, None, [0.01, 0.0, 0.01, 0.001]),\n",
      " (nan, None, [0.0, 0.001, 0.01, 0.001])]\n",
      "No wall nearby.\n"
     ]
    },
    {
     "name": "stderr",
     "output_type": "stream",
     "text": [
      "  0%|          | 14/3000 [00:01<06:48,  7.31it/s]"
     ]
    },
    {
     "name": "stdout",
     "output_type": "stream",
     "text": [
      "[(nan, None, [0.0, 0.0, 0.0, 0.001]),\n",
      " (nan, None, [0.0, 0.0, 0.01, 0.0]),\n",
      " (nan, None, [0.01, 0.0, 0.01, 0.001]),\n",
      " (nan, None, [0.0, 0.001, 0.01, 0.001])]\n",
      "No wall nearby.\n",
      "[(nan, None, [0.0, 0.0, 0.0, 0.001]),\n",
      " (nan, None, [0.0, 0.0, 0.01, 0.0]),\n",
      " (nan, None, [0.01, 0.0, 0.01, 0.001]),\n",
      " (nan, None, [0.0, 0.001, 0.01, 0.001])]\n",
      "No wall nearby.\n"
     ]
    },
    {
     "name": "stderr",
     "output_type": "stream",
     "text": [
      "  1%|          | 16/3000 [00:02<07:14,  6.86it/s]"
     ]
    },
    {
     "name": "stdout",
     "output_type": "stream",
     "text": [
      "[(nan, None, [0.0, 0.0, 0.0, 0.001]),\n",
      " (nan, None, [0.0, 0.0, 0.01, 0.0]),\n",
      " (nan, None, [0.01, 0.0, 0.01, 0.001]),\n",
      " (nan, None, [0.0, 0.001, 0.01, 0.001])]\n",
      "No wall nearby.\n",
      "[(nan, None, [0.0, 0.0, 0.0, 0.001]),\n",
      " (nan, None, [0.0, 0.0, 0.01, 0.0]),\n",
      " (nan, None, [0.01, 0.0, 0.01, 0.001]),\n",
      " (nan, None, [0.0, 0.001, 0.01, 0.001])]\n",
      "No wall nearby.\n"
     ]
    },
    {
     "name": "stderr",
     "output_type": "stream",
     "text": [
      "  1%|          | 18/3000 [00:02<06:55,  7.18it/s]"
     ]
    },
    {
     "name": "stdout",
     "output_type": "stream",
     "text": [
      "[(nan, None, [0.0, 0.0, 0.0, 0.001]),\n",
      " (nan, None, [0.0, 0.0, 0.01, 0.0]),\n",
      " (nan, None, [0.01, 0.0, 0.01, 0.001]),\n",
      " (nan, None, [0.0, 0.001, 0.01, 0.001])]\n",
      "No wall nearby.\n",
      "[(nan, None, [0.0, 0.0, 0.0, 0.001]),\n",
      " (nan, None, [0.0, 0.0, 0.01, 0.0]),\n",
      " (nan, None, [0.01, 0.0, 0.01, 0.001]),\n",
      " (nan, None, [0.0, 0.001, 0.01, 0.001])]\n",
      "No wall nearby.\n"
     ]
    },
    {
     "name": "stderr",
     "output_type": "stream",
     "text": [
      "  1%|          | 20/3000 [00:02<06:44,  7.37it/s]"
     ]
    },
    {
     "name": "stdout",
     "output_type": "stream",
     "text": [
      "[(nan, None, [0.0, 0.0, 0.0, 0.001]),\n",
      " (nan, None, [0.0, 0.0, 0.01, 0.0]),\n",
      " (nan, None, [0.01, 0.0, 0.01, 0.001]),\n",
      " (nan, None, [0.0, 0.001, 0.01, 0.001])]\n",
      "No wall nearby.\n",
      "[(nan, None, [0.0, 0.0, 0.0, 0.001]),\n",
      " (nan, None, [0.0, 0.0, 0.01, 0.0]),\n",
      " (nan, None, [0.01, 0.0, 0.01, 0.001]),\n",
      " (nan, None, [0.0, 0.001, 0.01, 0.001])]\n",
      "No wall nearby.\n"
     ]
    },
    {
     "name": "stderr",
     "output_type": "stream",
     "text": [
      "  1%|          | 22/3000 [00:03<06:37,  7.50it/s]"
     ]
    },
    {
     "name": "stdout",
     "output_type": "stream",
     "text": [
      "[(nan, None, [0.0, 0.0, 0.0, 0.001]),\n",
      " (nan, None, [0.0, 0.0, 0.01, 0.0]),\n",
      " (nan, None, [0.01, 0.0, 0.01, 0.001]),\n",
      " (nan, None, [0.0, 0.001, 0.01, 0.001])]\n",
      "No wall nearby.\n",
      "[(nan, None, [0.0, 0.0, 0.0, 0.001]),\n",
      " (nan, None, [0.0, 0.0, 0.01, 0.0]),\n",
      " (nan, None, [0.01, 0.0, 0.01, 0.001]),\n",
      " (nan, None, [0.0, 0.001, 0.01, 0.001])]\n",
      "No wall nearby.\n"
     ]
    },
    {
     "name": "stderr",
     "output_type": "stream",
     "text": [
      "  1%|          | 24/3000 [00:03<06:55,  7.16it/s]"
     ]
    },
    {
     "name": "stdout",
     "output_type": "stream",
     "text": [
      "[(nan, None, [0.0, 0.0, 0.0, 0.001]),\n",
      " (nan, None, [0.0, 0.0, 0.01, 0.0]),\n",
      " (nan, None, [0.01, 0.0, 0.01, 0.001]),\n",
      " (nan, None, [0.0, 0.001, 0.01, 0.001])]\n",
      "No wall nearby.\n",
      "[(nan, None, [0.0, 0.0, 0.0, 0.001]),\n",
      " (nan, None, [0.0, 0.0, 0.01, 0.0]),\n",
      " (nan, None, [0.01, 0.0, 0.01, 0.001]),\n",
      " (nan, None, [0.0, 0.001, 0.01, 0.001])]\n",
      "No wall nearby.\n"
     ]
    },
    {
     "name": "stderr",
     "output_type": "stream",
     "text": [
      "  1%|          | 26/3000 [00:03<06:49,  7.27it/s]"
     ]
    },
    {
     "name": "stdout",
     "output_type": "stream",
     "text": [
      "[(nan, None, [0.0, 0.0, 0.0, 0.001]),\n",
      " (nan, None, [0.0, 0.0, 0.01, 0.0]),\n",
      " (nan, None, [0.01, 0.0, 0.01, 0.001]),\n",
      " (nan, None, [0.0, 0.001, 0.01, 0.001])]\n",
      "No wall nearby.\n",
      "[(nan, None, [0.0, 0.0, 0.0, 0.001]),\n",
      " (nan, None, [0.0, 0.0, 0.01, 0.0]),\n",
      " (nan, None, [0.01, 0.0, 0.01, 0.001]),\n",
      " (nan, None, [0.0, 0.001, 0.01, 0.001])]\n",
      "No wall nearby.\n"
     ]
    },
    {
     "name": "stderr",
     "output_type": "stream",
     "text": [
      "  1%|          | 28/3000 [00:03<06:37,  7.47it/s]"
     ]
    },
    {
     "name": "stdout",
     "output_type": "stream",
     "text": [
      "[(nan, None, [0.0, 0.0, 0.0, 0.001]),\n",
      " (nan, None, [0.0, 0.0, 0.01, 0.0]),\n",
      " (nan, None, [0.01, 0.0, 0.01, 0.001]),\n",
      " (nan, None, [0.0, 0.001, 0.01, 0.001])]\n",
      "No wall nearby.\n",
      "[(nan, None, [0.0, 0.0, 0.0, 0.001]),\n",
      " (nan, None, [0.0, 0.0, 0.01, 0.0]),\n",
      " (nan, None, [0.01, 0.0, 0.01, 0.001]),\n",
      " (nan, None, [0.0, 0.001, 0.01, 0.001])]\n",
      "No wall nearby.\n"
     ]
    },
    {
     "name": "stderr",
     "output_type": "stream",
     "text": [
      "  1%|          | 30/3000 [00:04<07:10,  6.90it/s]"
     ]
    },
    {
     "name": "stdout",
     "output_type": "stream",
     "text": [
      "[(nan, None, [0.0, 0.0, 0.0, 0.001]),\n",
      " (nan, None, [0.0, 0.0, 0.01, 0.0]),\n",
      " (nan, None, [0.01, 0.0, 0.01, 0.001]),\n",
      " (nan, None, [0.0, 0.001, 0.01, 0.001])]\n",
      "No wall nearby.\n",
      "[(nan, None, [0.0, 0.0, 0.0, 0.001]),\n",
      " (nan, None, [0.0, 0.0, 0.01, 0.0]),\n",
      " (nan, None, [0.01, 0.0, 0.01, 0.001]),\n",
      " (nan, None, [0.0, 0.001, 0.01, 0.001])]\n",
      "No wall nearby.\n"
     ]
    },
    {
     "name": "stderr",
     "output_type": "stream",
     "text": [
      "  1%|          | 32/3000 [00:04<07:05,  6.97it/s]"
     ]
    },
    {
     "name": "stdout",
     "output_type": "stream",
     "text": [
      "[(nan, None, [0.0, 0.0, 0.0, 0.001]),\n",
      " (nan, None, [0.0, 0.0, 0.01, 0.0]),\n",
      " (nan, None, [0.01, 0.0, 0.01, 0.001]),\n",
      " (nan, None, [0.0, 0.001, 0.01, 0.001])]\n",
      "No wall nearby.\n",
      "[(nan, None, [0.0, 0.0, 0.0, 0.001]),\n",
      " (nan, None, [0.0, 0.0, 0.01, 0.0]),\n",
      " (nan, None, [0.01, 0.0, 0.01, 0.001]),\n",
      " (nan, None, [0.0, 0.001, 0.01, 0.001])]\n",
      "No wall nearby.\n"
     ]
    },
    {
     "name": "stderr",
     "output_type": "stream",
     "text": [
      "  1%|          | 34/3000 [00:04<07:02,  7.02it/s]"
     ]
    },
    {
     "name": "stdout",
     "output_type": "stream",
     "text": [
      "[(nan, None, [0.0, 0.0, 0.0, 0.001]),\n",
      " (nan, None, [0.0, 0.0, 0.01, 0.0]),\n",
      " (nan, None, [0.01, 0.0, 0.01, 0.001]),\n",
      " (nan, None, [0.0, 0.001, 0.01, 0.001])]\n",
      "No wall nearby.\n",
      "[(nan, None, [0.0, 0.0, 0.0, 0.001]),\n",
      " (nan, None, [0.0, 0.0, 0.01, 0.0]),\n",
      " (nan, None, [0.01, 0.0, 0.01, 0.001]),\n",
      " (nan, None, [0.0, 0.001, 0.01, 0.001])]\n",
      "No wall nearby.\n"
     ]
    },
    {
     "name": "stderr",
     "output_type": "stream",
     "text": [
      "  1%|          | 36/3000 [00:05<07:18,  6.77it/s]"
     ]
    },
    {
     "name": "stdout",
     "output_type": "stream",
     "text": [
      "[(nan, None, [0.0, 0.0, 0.0, 0.001]),\n",
      " (nan, None, [0.0, 0.0, 0.01, 0.0]),\n",
      " (nan, None, [0.01, 0.0, 0.01, 0.001]),\n",
      " (nan, None, [0.0, 0.001, 0.01, 0.001])]\n",
      "No wall nearby.\n",
      "[(nan, None, [0.0, 0.0, 0.0, 0.001]),\n",
      " (nan, None, [0.0, 0.0, 0.01, 0.0]),\n",
      " (nan, None, [0.01, 0.0, 0.01, 0.001]),\n",
      " (nan, None, [0.0, 0.001, 0.01, 0.001])]\n",
      "No wall nearby.\n"
     ]
    },
    {
     "name": "stderr",
     "output_type": "stream",
     "text": [
      "  1%|▏         | 38/3000 [00:05<06:57,  7.10it/s]"
     ]
    },
    {
     "name": "stdout",
     "output_type": "stream",
     "text": [
      "[(nan, None, [0.0, 0.0, 0.0, 0.001]),\n",
      " (nan, None, [0.0, 0.0, 0.01, 0.0]),\n",
      " (nan, None, [0.01, 0.0, 0.01, 0.001]),\n",
      " (nan, None, [0.0, 0.001, 0.01, 0.001])]\n",
      "No wall nearby.\n",
      "[(nan, None, [0.0, 0.0, 0.0, 0.001]),\n",
      " (nan, None, [0.0, 0.0, 0.01, 0.0]),\n",
      " (nan, None, [0.01, 0.0, 0.01, 0.001]),\n",
      " (nan, None, [0.0, 0.001, 0.01, 0.001])]\n",
      "No wall nearby.\n"
     ]
    },
    {
     "name": "stderr",
     "output_type": "stream",
     "text": [
      "  1%|▏         | 40/3000 [00:05<06:39,  7.41it/s]"
     ]
    },
    {
     "name": "stdout",
     "output_type": "stream",
     "text": [
      "[(nan, None, [0.0, 0.0, 0.0, 0.001]),\n",
      " (nan, None, [0.0, 0.0, 0.01, 0.0]),\n",
      " (nan, None, [0.01, 0.0, 0.01, 0.001]),\n",
      " (nan, None, [0.0, 0.001, 0.01, 0.001])]\n",
      "No wall nearby.\n",
      "[(nan, None, [0.0, 0.0, 0.0, 0.001]),\n",
      " (nan, None, [0.0, 0.0, 0.01, 0.0]),\n",
      " (nan, None, [0.01, 0.0, 0.01, 0.001]),\n",
      " (nan, None, [0.0, 0.001, 0.01, 0.001])]\n",
      "No wall nearby.\n"
     ]
    },
    {
     "name": "stderr",
     "output_type": "stream",
     "text": [
      "  1%|▏         | 42/3000 [00:05<06:58,  7.06it/s]"
     ]
    },
    {
     "name": "stdout",
     "output_type": "stream",
     "text": [
      "[(nan, None, [0.0, 0.0, 0.0, 0.001]),\n",
      " (nan, None, [0.0, 0.0, 0.01, 0.0]),\n",
      " (nan, None, [0.01, 0.0, 0.01, 0.001]),\n",
      " (nan, None, [0.0, 0.001, 0.01, 0.001])]\n",
      "No wall nearby.\n",
      "[(nan, None, [0.0, 0.0, 0.0, 0.001]),\n",
      " (nan, None, [0.0, 0.0, 0.01, 0.0]),\n",
      " (nan, None, [0.01, 0.0, 0.01, 0.001]),\n",
      " (nan, None, [0.0, 0.001, 0.01, 0.001])]\n",
      "No wall nearby.\n"
     ]
    },
    {
     "name": "stderr",
     "output_type": "stream",
     "text": [
      "  1%|▏         | 44/3000 [00:06<06:40,  7.39it/s]"
     ]
    },
    {
     "name": "stdout",
     "output_type": "stream",
     "text": [
      "[(nan, None, [0.0, 0.0, 0.0, 0.001]),\n",
      " (nan, None, [0.0, 0.0, 0.01, 0.0]),\n",
      " (nan, None, [0.01, 0.0, 0.01, 0.001]),\n",
      " (nan, None, [0.0, 0.001, 0.01, 0.001])]\n",
      "No wall nearby.\n",
      "[(nan, None, [0.0, 0.0, 0.0, 0.001]),\n",
      " (nan, None, [0.0, 0.0, 0.01, 0.0]),\n",
      " (nan, None, [0.01, 0.0, 0.01, 0.001]),\n",
      " (nan, None, [0.0, 0.001, 0.01, 0.001])]\n",
      "No wall nearby.\n"
     ]
    },
    {
     "name": "stderr",
     "output_type": "stream",
     "text": [
      "  2%|▏         | 46/3000 [00:06<06:32,  7.52it/s]"
     ]
    },
    {
     "name": "stdout",
     "output_type": "stream",
     "text": [
      "[(nan, None, [0.0, 0.0, 0.0, 0.001]),\n",
      " (nan, None, [0.0, 0.0, 0.01, 0.0]),\n",
      " (nan, None, [0.01, 0.0, 0.01, 0.001]),\n",
      " (nan, None, [0.0, 0.001, 0.01, 0.001])]\n",
      "No wall nearby.\n",
      "[(nan, None, [0.0, 0.0, 0.0, 0.001]),\n",
      " (nan, None, [0.0, 0.0, 0.01, 0.0]),\n",
      " (nan, None, [0.01, 0.0, 0.01, 0.001]),\n",
      " (nan, None, [0.0, 0.001, 0.01, 0.001])]\n",
      "No wall nearby.\n"
     ]
    },
    {
     "name": "stderr",
     "output_type": "stream",
     "text": [
      "  2%|▏         | 48/3000 [00:06<06:31,  7.54it/s]"
     ]
    },
    {
     "name": "stdout",
     "output_type": "stream",
     "text": [
      "[(nan, None, [0.0, 0.0, 0.0, 0.001]),\n",
      " (nan, None, [0.0, 0.0, 0.01, 0.0]),\n",
      " (nan, None, [0.01, 0.0, 0.01, 0.001]),\n",
      " (nan, None, [0.0, 0.001, 0.01, 0.001])]\n",
      "No wall nearby.\n",
      "[(nan, None, [0.0, 0.0, 0.0, 0.001]),\n",
      " (nan, None, [0.0, 0.0, 0.01, 0.0]),\n",
      " (nan, None, [0.01, 0.0, 0.01, 0.001]),\n",
      " (nan, None, [0.0, 0.001, 0.01, 0.001])]\n",
      "No wall nearby.\n"
     ]
    },
    {
     "name": "stderr",
     "output_type": "stream",
     "text": [
      "  2%|▏         | 50/3000 [00:06<06:53,  7.14it/s]"
     ]
    },
    {
     "name": "stdout",
     "output_type": "stream",
     "text": [
      "[(nan, None, [0.0, 0.0, 0.0, 0.001]),\n",
      " (nan, None, [0.0, 0.0, 0.01, 0.0]),\n",
      " (nan, None, [0.01, 0.0, 0.01, 0.001]),\n",
      " (nan, None, [0.0, 0.001, 0.01, 0.001])]\n",
      "No wall nearby.\n",
      "[(nan, None, [0.0, 0.0, 0.0, 0.001]),\n",
      " (nan, None, [0.0, 0.0, 0.01, 0.0]),\n",
      " (nan, None, [0.01, 0.0, 0.01, 0.001]),\n",
      " (nan, None, [0.0, 0.001, 0.01, 0.001])]\n",
      "No wall nearby.\n"
     ]
    },
    {
     "name": "stderr",
     "output_type": "stream",
     "text": [
      "  2%|▏         | 52/3000 [00:07<06:42,  7.33it/s]"
     ]
    },
    {
     "name": "stdout",
     "output_type": "stream",
     "text": [
      "[(nan, None, [0.0, 0.0, 0.0, 0.001]),\n",
      " (nan, None, [0.0, 0.0, 0.01, 0.0]),\n",
      " (nan, None, [0.01, 0.0, 0.01, 0.001]),\n",
      " (nan, None, [0.0, 0.001, 0.01, 0.001])]\n",
      "No wall nearby.\n",
      "[(nan, None, [0.0, 0.0, 0.0, 0.001]),\n",
      " (nan, None, [0.0, 0.0, 0.01, 0.0]),\n",
      " (nan, None, [0.01, 0.0, 0.01, 0.001]),\n",
      " (nan, None, [0.0, 0.001, 0.01, 0.001])]\n",
      "No wall nearby.\n"
     ]
    },
    {
     "name": "stderr",
     "output_type": "stream",
     "text": [
      "  2%|▏         | 54/3000 [00:07<06:35,  7.45it/s]"
     ]
    },
    {
     "name": "stdout",
     "output_type": "stream",
     "text": [
      "[(nan, None, [0.0, 0.0, 0.0, 0.001]),\n",
      " (nan, None, [0.0, 0.0, 0.01, 0.0]),\n",
      " (nan, None, [0.01, 0.0, 0.01, 0.001]),\n",
      " (nan, None, [0.0, 0.001, 0.01, 0.001])]\n",
      "No wall nearby.\n",
      "[(nan, None, [0.0, 0.0, 0.0, 0.001]),\n",
      " (nan, None, [0.0, 0.0, 0.01, 0.0]),\n",
      " (nan, None, [0.01, 0.0, 0.01, 0.001]),\n",
      " (nan, None, [0.0, 0.001, 0.01, 0.001])]\n",
      "No wall nearby.\n"
     ]
    },
    {
     "name": "stderr",
     "output_type": "stream",
     "text": [
      "  2%|▏         | 56/3000 [00:07<06:53,  7.13it/s]"
     ]
    },
    {
     "name": "stdout",
     "output_type": "stream",
     "text": [
      "[(nan, None, [0.0, 0.0, 0.0, 0.001]),\n",
      " (nan, None, [0.0, 0.0, 0.01, 0.0]),\n",
      " (nan, None, [0.01, 0.0, 0.01, 0.001]),\n",
      " (nan, None, [0.0, 0.001, 0.01, 0.001])]\n",
      "No wall nearby.\n",
      "[(nan, None, [0.0, 0.0, 0.0, 0.001]),\n",
      " (nan, None, [0.0, 0.0, 0.01, 0.0]),\n",
      " (nan, None, [0.01, 0.0, 0.01, 0.001]),\n",
      " (nan, None, [0.0, 0.001, 0.01, 0.001])]\n",
      "No wall nearby.\n"
     ]
    },
    {
     "name": "stderr",
     "output_type": "stream",
     "text": [
      "  2%|▏         | 58/3000 [00:08<06:39,  7.36it/s]"
     ]
    },
    {
     "name": "stdout",
     "output_type": "stream",
     "text": [
      "[(nan, None, [0.0, 0.0, 0.0, 0.001]),\n",
      " (nan, None, [0.0, 0.0, 0.01, 0.0]),\n",
      " (nan, None, [0.01, 0.0, 0.01, 0.001]),\n",
      " (nan, None, [0.0, 0.001, 0.01, 0.001])]\n",
      "No wall nearby.\n",
      "[(nan, None, [0.0, 0.0, 0.0, 0.001]),\n",
      " (nan, None, [0.0, 0.0, 0.01, 0.0]),\n",
      " (nan, None, [0.01, 0.0, 0.01, 0.001]),\n",
      " (nan, None, [0.0, 0.001, 0.01, 0.001])]\n",
      "No wall nearby.\n"
     ]
    },
    {
     "name": "stderr",
     "output_type": "stream",
     "text": [
      "  2%|▏         | 60/3000 [00:08<06:33,  7.47it/s]"
     ]
    },
    {
     "name": "stdout",
     "output_type": "stream",
     "text": [
      "[(nan, None, [0.0, 0.0, 0.0, 0.001]),\n",
      " (nan, None, [0.0, 0.0, 0.01, 0.0]),\n",
      " (nan, None, [0.01, 0.0, 0.01, 0.001]),\n",
      " (nan, None, [0.0, 0.001, 0.01, 0.001])]\n",
      "No wall nearby.\n",
      "[(nan, None, [0.0, 0.0, 0.0, 0.001]),\n",
      " (nan, None, [0.0, 0.0, 0.01, 0.0]),\n",
      " (nan, None, [0.01, 0.0, 0.01, 0.001]),\n",
      " (nan, None, [0.0, 0.001, 0.01, 0.001])]\n",
      "No wall nearby.\n"
     ]
    },
    {
     "name": "stderr",
     "output_type": "stream",
     "text": [
      "  2%|▏         | 62/3000 [00:08<06:56,  7.06it/s]"
     ]
    },
    {
     "name": "stdout",
     "output_type": "stream",
     "text": [
      "[(nan, None, [0.0, 0.0, 0.0, 0.001]),\n",
      " (nan, None, [0.0, 0.0, 0.01, 0.0]),\n",
      " (nan, None, [0.01, 0.0, 0.01, 0.001]),\n",
      " (nan, None, [0.0, 0.001, 0.01, 0.001])]\n",
      "No wall nearby.\n",
      "[(nan, None, [0.0, 0.0, 0.0, 0.001]),\n",
      " (nan, None, [0.0, 0.0, 0.01, 0.0]),\n",
      " (nan, None, [0.01, 0.0, 0.01, 0.001]),\n",
      " (nan, None, [0.0, 0.001, 0.01, 0.001])]\n",
      "No wall nearby.\n"
     ]
    },
    {
     "name": "stderr",
     "output_type": "stream",
     "text": [
      "  2%|▏         | 64/3000 [00:08<06:36,  7.41it/s]"
     ]
    },
    {
     "name": "stdout",
     "output_type": "stream",
     "text": [
      "[(nan, None, [0.0, 0.0, 0.0, 0.001]),\n",
      " (nan, None, [0.0, 0.0, 0.01, 0.0]),\n",
      " (nan, None, [0.01, 0.0, 0.01, 0.001]),\n",
      " (nan, None, [0.0, 0.001, 0.01, 0.001])]\n",
      "No wall nearby.\n",
      "[(nan, None, [0.0, 0.0, 0.0, 0.001]),\n",
      " (nan, None, [0.0, 0.0, 0.01, 0.0]),\n",
      " (nan, None, [0.01, 0.0, 0.01, 0.001]),\n",
      " (nan, None, [0.0, 0.001, 0.01, 0.001])]\n",
      "No wall nearby.\n"
     ]
    },
    {
     "name": "stderr",
     "output_type": "stream",
     "text": [
      "  2%|▏         | 66/3000 [00:09<06:28,  7.55it/s]"
     ]
    },
    {
     "name": "stdout",
     "output_type": "stream",
     "text": [
      "[(nan, None, [0.0, 0.0, 0.0, 0.001]),\n",
      " (nan, None, [0.0, 0.0, 0.01, 0.0]),\n",
      " (nan, None, [0.01, 0.0, 0.01, 0.001]),\n",
      " (nan, None, [0.0, 0.001, 0.01, 0.001])]\n",
      "No wall nearby.\n",
      "[(nan, None, [0.0, 0.0, 0.0, 0.001]),\n",
      " (nan, None, [0.0, 0.0, 0.01, 0.0]),\n",
      " (nan, None, [0.01, 0.0, 0.01, 0.001]),\n",
      " (nan, None, [0.0, 0.001, 0.01, 0.001])]\n",
      "No wall nearby.\n"
     ]
    },
    {
     "name": "stderr",
     "output_type": "stream",
     "text": [
      "  2%|▏         | 68/3000 [00:09<06:53,  7.10it/s]"
     ]
    },
    {
     "name": "stdout",
     "output_type": "stream",
     "text": [
      "[(nan, None, [0.0, 0.0, 0.0, 0.001]),\n",
      " (nan, None, [0.0, 0.0, 0.01, 0.0]),\n",
      " (nan, None, [0.01, 0.0, 0.01, 0.001]),\n",
      " (nan, None, [0.0, 0.001, 0.01, 0.001])]\n",
      "No wall nearby.\n",
      "[(nan, None, [0.0, 0.0, 0.0, 0.001]),\n",
      " (nan, None, [0.0, 0.0, 0.01, 0.0]),\n",
      " (nan, None, [0.01, 0.0, 0.01, 0.001]),\n",
      " (nan, None, [0.0, 0.001, 0.01, 0.001])]\n",
      "No wall nearby.\n"
     ]
    },
    {
     "name": "stderr",
     "output_type": "stream",
     "text": [
      "  2%|▏         | 70/3000 [00:09<06:33,  7.44it/s]"
     ]
    },
    {
     "name": "stdout",
     "output_type": "stream",
     "text": [
      "[(nan, None, [0.0, 0.0, 0.0, 0.001]),\n",
      " (nan, None, [0.0, 0.0, 0.01, 0.0]),\n",
      " (nan, None, [0.01, 0.0, 0.01, 0.001]),\n",
      " (nan, None, [0.0, 0.001, 0.01, 0.001])]\n",
      "No wall nearby.\n",
      "[(nan, None, [0.0, 0.0, 0.0, 0.001]),\n",
      " (nan, None, [0.0, 0.0, 0.01, 0.0]),\n",
      " (nan, None, [0.01, 0.0, 0.01, 0.001]),\n",
      " (nan, None, [0.0, 0.001, 0.01, 0.001])]\n",
      "No wall nearby.\n"
     ]
    },
    {
     "name": "stderr",
     "output_type": "stream",
     "text": [
      "  2%|▏         | 72/3000 [00:09<06:23,  7.63it/s]"
     ]
    },
    {
     "name": "stdout",
     "output_type": "stream",
     "text": [
      "[(nan, None, [0.0, 0.0, 0.0, 0.001]),\n",
      " (nan, None, [0.0, 0.0, 0.01, 0.0]),\n",
      " (nan, None, [0.01, 0.0, 0.01, 0.001]),\n",
      " (nan, None, [0.0, 0.001, 0.01, 0.001])]\n",
      "No wall nearby.\n",
      "[(nan, None, [0.0, 0.0, 0.0, 0.001]),\n",
      " (nan, None, [0.0, 0.0, 0.01, 0.0]),\n",
      " (nan, None, [0.01, 0.0, 0.01, 0.001]),\n",
      " (nan, None, [0.0, 0.001, 0.01, 0.001])]\n",
      "No wall nearby.\n"
     ]
    },
    {
     "name": "stderr",
     "output_type": "stream",
     "text": [
      "  2%|▏         | 74/3000 [00:10<06:21,  7.66it/s]"
     ]
    },
    {
     "name": "stdout",
     "output_type": "stream",
     "text": [
      "[(nan, None, [0.0, 0.0, 0.0, 0.001]),\n",
      " (nan, None, [0.0, 0.0, 0.01, 0.0]),\n",
      " (nan, None, [0.01, 0.0, 0.01, 0.001]),\n",
      " (nan, None, [0.0, 0.001, 0.01, 0.001])]\n",
      "No wall nearby.\n",
      "[(nan, None, [0.0, 0.0, 0.0, 0.001]),\n",
      " (nan, None, [0.0, 0.0, 0.01, 0.0]),\n",
      " (nan, None, [0.01, 0.0, 0.01, 0.001]),\n",
      " (nan, None, [0.0, 0.001, 0.01, 0.001])]\n",
      "No wall nearby.\n"
     ]
    },
    {
     "name": "stderr",
     "output_type": "stream",
     "text": [
      "  3%|▎         | 76/3000 [00:10<06:32,  7.46it/s]"
     ]
    },
    {
     "name": "stdout",
     "output_type": "stream",
     "text": [
      "[(nan, None, [0.0, 0.0, 0.0, 0.001]),\n",
      " (nan, None, [0.0, 0.0, 0.01, 0.0]),\n",
      " (nan, None, [0.01, 0.0, 0.01, 0.001]),\n",
      " (nan, None, [0.0, 0.001, 0.01, 0.001])]\n",
      "No wall nearby.\n",
      "[(nan, None, [0.0, 0.0, 0.0, 0.001]),\n",
      " (nan, None, [0.0, 0.0, 0.01, 0.0]),\n",
      " (nan, None, [0.01, 0.0, 0.01, 0.001]),\n",
      " (nan, None, [0.0, 0.001, 0.01, 0.001])]\n",
      "No wall nearby.\n"
     ]
    },
    {
     "name": "stderr",
     "output_type": "stream",
     "text": [
      "  3%|▎         | 78/3000 [00:10<06:19,  7.70it/s]"
     ]
    },
    {
     "name": "stdout",
     "output_type": "stream",
     "text": [
      "[(nan, None, [0.0, 0.0, 0.0, 0.001]),\n",
      " (nan, None, [0.0, 0.0, 0.01, 0.0]),\n",
      " (nan, None, [0.01, 0.0, 0.01, 0.001]),\n",
      " (nan, None, [0.0, 0.001, 0.01, 0.001])]\n",
      "No wall nearby.\n",
      "[(nan, None, [0.0, 0.0, 0.0, 0.001]),\n",
      " (nan, None, [0.0, 0.0, 0.01, 0.0]),\n",
      " (nan, None, [0.01, 0.0, 0.01, 0.001]),\n",
      " (nan, None, [0.0, 0.001, 0.01, 0.001])]\n",
      "No wall nearby.\n"
     ]
    },
    {
     "name": "stderr",
     "output_type": "stream",
     "text": [
      "  3%|▎         | 80/3000 [00:10<06:12,  7.84it/s]"
     ]
    },
    {
     "name": "stdout",
     "output_type": "stream",
     "text": [
      "[(nan, None, [0.0, 0.0, 0.0, 0.001]),\n",
      " (nan, None, [0.0, 0.0, 0.01, 0.0]),\n",
      " (nan, None, [0.01, 0.0, 0.01, 0.001]),\n",
      " (nan, None, [0.0, 0.001, 0.01, 0.001])]\n",
      "No wall nearby.\n",
      "[(nan, None, [0.0, 0.0, 0.0, 0.001]),\n",
      " (nan, None, [0.0, 0.0, 0.01, 0.0]),\n",
      " (nan, None, [0.01, 0.0, 0.01, 0.001]),\n",
      " (nan, None, [0.0, 0.001, 0.01, 0.001])]\n",
      "No wall nearby.\n"
     ]
    },
    {
     "name": "stderr",
     "output_type": "stream",
     "text": [
      "  3%|▎         | 82/3000 [00:11<06:28,  7.51it/s]"
     ]
    },
    {
     "name": "stdout",
     "output_type": "stream",
     "text": [
      "[(nan, None, [0.0, 0.0, 0.0, 0.001]),\n",
      " (nan, None, [0.0, 0.0, 0.01, 0.0]),\n",
      " (nan, None, [0.01, 0.0, 0.01, 0.001]),\n",
      " (nan, None, [0.0, 0.001, 0.01, 0.001])]\n",
      "No wall nearby.\n",
      "[(nan, None, [0.0, 0.0, 0.0, 0.001]),\n",
      " (nan, None, [0.0, 0.0, 0.01, 0.0]),\n",
      " (nan, None, [0.01, 0.0, 0.01, 0.001]),\n",
      " (nan, None, [0.0, 0.001, 0.01, 0.001])]\n",
      "No wall nearby.\n"
     ]
    },
    {
     "name": "stderr",
     "output_type": "stream",
     "text": [
      "  3%|▎         | 84/3000 [00:11<06:16,  7.74it/s]"
     ]
    },
    {
     "name": "stdout",
     "output_type": "stream",
     "text": [
      "[(nan, None, [0.0, 0.0, 0.0, 0.001]),\n",
      " (nan, None, [0.0, 0.0, 0.01, 0.0]),\n",
      " (nan, None, [0.01, 0.0, 0.01, 0.001]),\n",
      " (nan, None, [0.0, 0.001, 0.01, 0.001])]\n",
      "No wall nearby.\n",
      "[(nan, None, [0.0, 0.0, 0.0, 0.001]),\n",
      " (nan, None, [0.0, 0.0, 0.01, 0.0]),\n",
      " (nan, None, [0.01, 0.0, 0.01, 0.001]),\n",
      " (nan, None, [0.0, 0.001, 0.01, 0.001])]\n",
      "No wall nearby.\n"
     ]
    },
    {
     "name": "stderr",
     "output_type": "stream",
     "text": [
      "  3%|▎         | 86/3000 [00:11<06:09,  7.88it/s]"
     ]
    },
    {
     "name": "stdout",
     "output_type": "stream",
     "text": [
      "[(nan, None, [0.0, 0.0, 0.0, 0.001]),\n",
      " (nan, None, [0.0, 0.0, 0.01, 0.0]),\n",
      " (nan, None, [0.01, 0.0, 0.01, 0.001]),\n",
      " (nan, None, [0.0, 0.001, 0.01, 0.001])]\n",
      "No wall nearby.\n",
      "[(nan, None, [0.0, 0.0, 0.0, 0.001]),\n",
      " (nan, None, [0.0, 0.0, 0.01, 0.0]),\n",
      " (nan, None, [0.01, 0.0, 0.01, 0.001]),\n",
      " (nan, None, [0.0, 0.001, 0.01, 0.001])]\n",
      "No wall nearby.\n"
     ]
    },
    {
     "name": "stderr",
     "output_type": "stream",
     "text": [
      "  3%|▎         | 88/3000 [00:12<06:45,  7.17it/s]"
     ]
    },
    {
     "name": "stdout",
     "output_type": "stream",
     "text": [
      "[(nan, None, [0.0, 0.0, 0.0, 0.001]),\n",
      " (nan, None, [0.0, 0.0, 0.01, 0.0]),\n",
      " (nan, None, [0.01, 0.0, 0.01, 0.001]),\n",
      " (nan, None, [0.0, 0.001, 0.01, 0.001])]\n",
      "No wall nearby.\n",
      "[(nan, None, [0.0, 0.0, 0.0, 0.001]),\n",
      " (nan, None, [0.0, 0.0, 0.01, 0.0]),\n",
      " (nan, None, [0.01, 0.0, 0.01, 0.001]),\n",
      " (nan, None, [0.0, 0.001, 0.01, 0.001])]\n",
      "No wall nearby.\n"
     ]
    },
    {
     "name": "stderr",
     "output_type": "stream",
     "text": [
      "  3%|▎         | 90/3000 [00:12<06:25,  7.55it/s]"
     ]
    },
    {
     "name": "stdout",
     "output_type": "stream",
     "text": [
      "[(nan, None, [0.0, 0.0, 0.0, 0.001]),\n",
      " (nan, None, [0.0, 0.0, 0.01, 0.0]),\n",
      " (nan, None, [0.01, 0.0, 0.01, 0.001]),\n",
      " (nan, None, [0.0, 0.001, 0.01, 0.001])]\n",
      "No wall nearby.\n",
      "[(nan, None, [0.0, 0.0, 0.0, 0.001]),\n",
      " (nan, None, [0.0, 0.0, 0.01, 0.0]),\n",
      " (nan, None, [0.01, 0.0, 0.01, 0.001]),\n",
      " (nan, None, [0.0, 0.001, 0.01, 0.001])]\n",
      "No wall nearby.\n"
     ]
    },
    {
     "name": "stderr",
     "output_type": "stream",
     "text": [
      "  3%|▎         | 92/3000 [00:12<06:16,  7.72it/s]"
     ]
    },
    {
     "name": "stdout",
     "output_type": "stream",
     "text": [
      "[(nan, None, [0.0, 0.0, 0.0, 0.001]),\n",
      " (nan, None, [0.0, 0.0, 0.01, 0.0]),\n",
      " (nan, None, [0.01, 0.0, 0.01, 0.001]),\n",
      " (nan, None, [0.0, 0.001, 0.01, 0.001])]\n",
      "No wall nearby.\n",
      "[(nan, None, [0.0, 0.0, 0.0, 0.001]),\n",
      " (nan, None, [0.0, 0.0, 0.01, 0.0]),\n",
      " (nan, None, [0.01, 0.0, 0.01, 0.001]),\n",
      " (nan, None, [0.0, 0.001, 0.01, 0.001])]\n",
      "No wall nearby.\n"
     ]
    },
    {
     "name": "stderr",
     "output_type": "stream",
     "text": [
      "  3%|▎         | 94/3000 [00:12<06:41,  7.24it/s]"
     ]
    },
    {
     "name": "stdout",
     "output_type": "stream",
     "text": [
      "[(nan, None, [0.0, 0.0, 0.0, 0.001]),\n",
      " (nan, None, [0.0, 0.0, 0.01, 0.0]),\n",
      " (nan, None, [0.01, 0.0, 0.01, 0.001]),\n",
      " (nan, None, [0.0, 0.001, 0.01, 0.001])]\n",
      "No wall nearby.\n",
      "[(nan, None, [0.0, 0.0, 0.0, 0.001]),\n",
      " (nan, None, [0.0, 0.0, 0.01, 0.0]),\n",
      " (nan, None, [0.01, 0.0, 0.01, 0.001]),\n",
      " (nan, None, [0.0, 0.001, 0.01, 0.001])]\n",
      "No wall nearby.\n"
     ]
    },
    {
     "name": "stderr",
     "output_type": "stream",
     "text": [
      "  3%|▎         | 96/3000 [00:13<06:27,  7.50it/s]"
     ]
    },
    {
     "name": "stdout",
     "output_type": "stream",
     "text": [
      "[(nan, None, [0.0, 0.0, 0.0, 0.001]),\n",
      " (nan, None, [0.0, 0.0, 0.01, 0.0]),\n",
      " (nan, None, [0.01, 0.0, 0.01, 0.001]),\n",
      " (nan, None, [0.0, 0.001, 0.01, 0.001])]\n",
      "No wall nearby.\n",
      "[(nan, None, [0.0, 0.0, 0.0, 0.001]),\n",
      " (nan, None, [0.0, 0.0, 0.01, 0.0]),\n",
      " (nan, None, [0.01, 0.0, 0.01, 0.001]),\n",
      " (nan, None, [0.0, 0.001, 0.01, 0.001])]\n",
      "No wall nearby.\n"
     ]
    },
    {
     "name": "stderr",
     "output_type": "stream",
     "text": [
      "  3%|▎         | 98/3000 [00:13<06:16,  7.71it/s]"
     ]
    },
    {
     "name": "stdout",
     "output_type": "stream",
     "text": [
      "[(nan, None, [0.0, 0.0, 0.0, 0.001]),\n",
      " (nan, None, [0.0, 0.0, 0.01, 0.0]),\n",
      " (nan, None, [0.01, 0.0, 0.01, 0.001]),\n",
      " (nan, None, [0.0, 0.001, 0.01, 0.001])]\n",
      "No wall nearby.\n",
      "[(nan, None, [0.0, 0.0, 0.0, 0.001]),\n",
      " (nan, None, [0.0, 0.0, 0.01, 0.0]),\n",
      " (nan, None, [0.01, 0.0, 0.01, 0.001]),\n",
      " (nan, None, [0.0, 0.001, 0.01, 0.001])]\n",
      "No wall nearby.\n"
     ]
    },
    {
     "name": "stderr",
     "output_type": "stream",
     "text": [
      "  3%|▎         | 100/3000 [00:13<06:10,  7.82it/s]"
     ]
    },
    {
     "name": "stdout",
     "output_type": "stream",
     "text": [
      "[(nan, None, [0.0, 0.0, 0.0, 0.001]),\n",
      " (nan, None, [0.0, 0.0, 0.01, 0.0]),\n",
      " (nan, None, [0.01, 0.0, 0.01, 0.001]),\n",
      " (nan, None, [0.0, 0.001, 0.01, 0.001])]\n",
      "No wall nearby.\n",
      "[(nan, None, [0.0, 0.0, 0.0, 0.001]),\n",
      " (nan, None, [0.0, 0.0, 0.01, 0.0]),\n",
      " (nan, None, [0.01, 0.0, 0.01, 0.001]),\n",
      " (nan, None, [0.0, 0.001, 0.01, 0.001])]\n",
      "No wall nearby.\n"
     ]
    },
    {
     "name": "stderr",
     "output_type": "stream",
     "text": [
      "  3%|▎         | 102/3000 [00:13<06:28,  7.46it/s]"
     ]
    },
    {
     "name": "stdout",
     "output_type": "stream",
     "text": [
      "[(nan, None, [0.0, 0.0, 0.0, 0.001]),\n",
      " (nan, None, [0.0, 0.0, 0.01, 0.0]),\n",
      " (nan, None, [0.01, 0.0, 0.01, 0.001]),\n",
      " (nan, None, [0.0, 0.001, 0.01, 0.001])]\n",
      "No wall nearby.\n",
      "[(nan, None, [0.0, 0.0, 0.0, 0.001]),\n",
      " (nan, None, [0.0, 0.0, 0.01, 0.0]),\n",
      " (nan, None, [0.01, 0.0, 0.01, 0.001]),\n",
      " (nan, None, [0.0, 0.001, 0.01, 0.001])]\n",
      "No wall nearby.\n"
     ]
    },
    {
     "name": "stderr",
     "output_type": "stream",
     "text": [
      "  3%|▎         | 104/3000 [00:14<06:20,  7.61it/s]"
     ]
    },
    {
     "name": "stdout",
     "output_type": "stream",
     "text": [
      "[(nan, None, [0.0, 0.0, 0.0, 0.001]),\n",
      " (nan, None, [0.0, 0.0, 0.01, 0.0]),\n",
      " (nan, None, [0.01, 0.0, 0.01, 0.001]),\n",
      " (nan, None, [0.0, 0.001, 0.01, 0.001])]\n",
      "No wall nearby.\n",
      "[(nan, None, [0.0, 0.0, 0.0, 0.001]),\n",
      " (nan, None, [0.0, 0.0, 0.01, 0.0]),\n",
      " (nan, None, [0.01, 0.0, 0.01, 0.001]),\n",
      " (nan, None, [0.0, 0.001, 0.01, 0.001])]\n",
      "No wall nearby.\n"
     ]
    },
    {
     "name": "stderr",
     "output_type": "stream",
     "text": [
      "  4%|▎         | 106/3000 [00:14<06:14,  7.73it/s]"
     ]
    },
    {
     "name": "stdout",
     "output_type": "stream",
     "text": [
      "[(nan, None, [0.0, 0.0, 0.0, 0.001]),\n",
      " (nan, None, [0.0, 0.0, 0.01, 0.0]),\n",
      " (nan, None, [0.01, 0.0, 0.01, 0.001]),\n",
      " (nan, None, [0.0, 0.001, 0.01, 0.001])]\n",
      "No wall nearby.\n",
      "[(nan, None, [0.0, 0.0, 0.0, 0.001]),\n",
      " (nan, None, [0.0, 0.0, 0.01, 0.0]),\n",
      " (nan, None, [0.01, 0.0, 0.01, 0.001]),\n",
      " (nan, None, [0.0, 0.001, 0.01, 0.001])]\n",
      "No wall nearby.\n"
     ]
    },
    {
     "name": "stderr",
     "output_type": "stream",
     "text": [
      "  4%|▎         | 108/3000 [00:14<06:29,  7.42it/s]"
     ]
    },
    {
     "name": "stdout",
     "output_type": "stream",
     "text": [
      "[(nan, None, [0.0, 0.0, 0.0, 0.001]),\n",
      " (nan, None, [0.0, 0.0, 0.01, 0.0]),\n",
      " (nan, None, [0.01, 0.0, 0.01, 0.001]),\n",
      " (nan, None, [0.0, 0.001, 0.01, 0.001])]\n",
      "No wall nearby.\n",
      "[(nan, None, [0.0, 0.0, 0.0, 0.001]),\n",
      " (nan, None, [0.0, 0.0, 0.01, 0.0]),\n",
      " (nan, None, [0.01, 0.0, 0.01, 0.001]),\n",
      " (nan, None, [0.0, 0.001, 0.01, 0.001])]\n",
      "No wall nearby.\n"
     ]
    },
    {
     "name": "stderr",
     "output_type": "stream",
     "text": [
      "  4%|▎         | 110/3000 [00:14<06:17,  7.65it/s]"
     ]
    },
    {
     "name": "stdout",
     "output_type": "stream",
     "text": [
      "[(nan, None, [0.0, 0.0, 0.0, 0.001]),\n",
      " (nan, None, [0.0, 0.0, 0.01, 0.0]),\n",
      " (nan, None, [0.01, 0.0, 0.01, 0.001]),\n",
      " (nan, None, [0.0, 0.001, 0.01, 0.001])]\n",
      "No wall nearby.\n",
      "[(nan, None, [0.0, 0.0, 0.0, 0.001]),\n",
      " (nan, None, [0.0, 0.0, 0.01, 0.0]),\n",
      " (nan, None, [0.01, 0.0, 0.01, 0.001]),\n",
      " (nan, None, [0.0, 0.001, 0.01, 0.001])]\n",
      "No wall nearby.\n"
     ]
    },
    {
     "name": "stderr",
     "output_type": "stream",
     "text": [
      "  4%|▎         | 112/3000 [00:15<06:10,  7.79it/s]"
     ]
    },
    {
     "name": "stdout",
     "output_type": "stream",
     "text": [
      "[(nan, None, [0.0, 0.0, 0.0, 0.001]),\n",
      " (nan, None, [0.0, 0.0, 0.01, 0.0]),\n",
      " (nan, None, [0.01, 0.0, 0.01, 0.001]),\n",
      " (nan, None, [0.0, 0.001, 0.01, 0.001])]\n",
      "No wall nearby.\n",
      "[(nan, None, [0.0, 0.0, 0.0, 0.001]),\n",
      " (nan, None, [0.0, 0.0, 0.01, 0.0]),\n",
      " (nan, None, [0.01, 0.0, 0.01, 0.001]),\n",
      " (nan, None, [0.0, 0.001, 0.01, 0.001])]\n",
      "No wall nearby.\n"
     ]
    },
    {
     "name": "stderr",
     "output_type": "stream",
     "text": [
      "  4%|▍         | 114/3000 [00:15<06:35,  7.29it/s]"
     ]
    },
    {
     "name": "stdout",
     "output_type": "stream",
     "text": [
      "[(nan, None, [0.0, 0.0, 0.0, 0.001]),\n",
      " (nan, None, [0.0, 0.0, 0.01, 0.0]),\n",
      " (nan, None, [0.01, 0.0, 0.01, 0.001]),\n",
      " (nan, None, [0.0, 0.001, 0.01, 0.001])]\n",
      "No wall nearby.\n",
      "[(nan, None, [0.0, 0.0, 0.0, 0.001]),\n",
      " (nan, None, [0.0, 0.0, 0.01, 0.0]),\n",
      " (nan, None, [0.01, 0.0, 0.01, 0.001]),\n",
      " (nan, None, [0.0, 0.001, 0.01, 0.001])]\n",
      "No wall nearby.\n"
     ]
    },
    {
     "name": "stderr",
     "output_type": "stream",
     "text": [
      "  4%|▍         | 116/3000 [00:15<06:24,  7.50it/s]"
     ]
    },
    {
     "name": "stdout",
     "output_type": "stream",
     "text": [
      "[(nan, None, [0.0, 0.0, 0.0, 0.001]),\n",
      " (nan, None, [0.0, 0.0, 0.01, 0.0]),\n",
      " (nan, None, [0.01, 0.0, 0.01, 0.001]),\n",
      " (nan, None, [0.0, 0.001, 0.01, 0.001])]\n",
      "No wall nearby.\n",
      "[(nan, None, [0.0, 0.0, 0.0, 0.001]),\n",
      " (nan, None, [0.0, 0.0, 0.01, 0.0]),\n",
      " (nan, None, [0.01, 0.0, 0.01, 0.001]),\n",
      " (nan, None, [0.0, 0.001, 0.01, 0.001])]\n",
      "No wall nearby.\n"
     ]
    },
    {
     "name": "stderr",
     "output_type": "stream",
     "text": [
      "  4%|▍         | 118/3000 [00:16<06:17,  7.64it/s]"
     ]
    },
    {
     "name": "stdout",
     "output_type": "stream",
     "text": [
      "[(nan, None, [0.0, 0.0, 0.0, 0.001]),\n",
      " (nan, None, [0.0, 0.0, 0.01, 0.0]),\n",
      " (nan, None, [0.01, 0.0, 0.01, 0.001]),\n",
      " (nan, None, [0.0, 0.001, 0.01, 0.001])]\n",
      "No wall nearby.\n",
      "[(nan, None, [0.0, 0.0, 0.0, 0.001]),\n",
      " (nan, None, [0.0, 0.0, 0.01, 0.0]),\n",
      " (nan, None, [0.01, 0.0, 0.01, 0.001]),\n",
      " (nan, None, [0.0, 0.001, 0.01, 0.001])]\n",
      "No wall nearby.\n"
     ]
    },
    {
     "name": "stderr",
     "output_type": "stream",
     "text": [
      "  4%|▍         | 120/3000 [00:16<06:40,  7.19it/s]"
     ]
    },
    {
     "name": "stdout",
     "output_type": "stream",
     "text": [
      "[(nan, None, [0.0, 0.0, 0.0, 0.001]),\n",
      " (nan, None, [0.0, 0.0, 0.01, 0.0]),\n",
      " (nan, None, [0.01, 0.0, 0.01, 0.001]),\n",
      " (nan, None, [0.0, 0.001, 0.01, 0.001])]\n",
      "No wall nearby.\n",
      "[(nan, None, [0.0, 0.0, 0.0, 0.001]),\n",
      " (nan, None, [0.0, 0.0, 0.01, 0.0]),\n",
      " (nan, None, [0.01, 0.0, 0.01, 0.001]),\n",
      " (nan, None, [0.0, 0.001, 0.01, 0.001])]\n",
      "No wall nearby.\n"
     ]
    },
    {
     "name": "stderr",
     "output_type": "stream",
     "text": [
      "  4%|▍         | 122/3000 [00:16<06:23,  7.51it/s]"
     ]
    },
    {
     "name": "stdout",
     "output_type": "stream",
     "text": [
      "[(nan, None, [0.0, 0.0, 0.0, 0.001]),\n",
      " (nan, None, [0.0, 0.0, 0.01, 0.0]),\n",
      " (nan, None, [0.01, 0.0, 0.01, 0.001]),\n",
      " (nan, None, [0.0, 0.001, 0.01, 0.001])]\n",
      "No wall nearby.\n",
      "[(nan, None, [0.0, 0.0, 0.0, 0.001]),\n",
      " (nan, None, [0.0, 0.0, 0.01, 0.0]),\n",
      " (nan, None, [0.01, 0.0, 0.01, 0.001]),\n",
      " (nan, None, [0.0, 0.001, 0.01, 0.001])]\n",
      "No wall nearby.\n"
     ]
    },
    {
     "name": "stderr",
     "output_type": "stream",
     "text": [
      "  4%|▍         | 124/3000 [00:16<06:14,  7.68it/s]"
     ]
    },
    {
     "name": "stdout",
     "output_type": "stream",
     "text": [
      "[(nan, None, [0.0, 0.0, 0.0, 0.001]),\n",
      " (nan, None, [0.0, 0.0, 0.01, 0.0]),\n",
      " (nan, None, [0.01, 0.0, 0.01, 0.001]),\n",
      " (nan, None, [0.0, 0.001, 0.01, 0.001])]\n",
      "No wall nearby.\n",
      "[(nan, None, [0.0, 0.0, 0.0, 0.001]),\n",
      " (nan, None, [0.0, 0.0, 0.01, 0.0]),\n",
      " (nan, None, [0.01, 0.0, 0.01, 0.001]),\n",
      " (nan, None, [0.0, 0.001, 0.01, 0.001])]\n",
      "No wall nearby.\n"
     ]
    },
    {
     "name": "stderr",
     "output_type": "stream",
     "text": [
      "  4%|▍         | 126/3000 [00:17<06:12,  7.71it/s]"
     ]
    },
    {
     "name": "stdout",
     "output_type": "stream",
     "text": [
      "[(nan, None, [0.0, 0.0, 0.0, 0.001]),\n",
      " (nan, None, [0.0, 0.0, 0.01, 0.0]),\n",
      " (nan, None, [0.01, 0.0, 0.01, 0.001]),\n",
      " (nan, None, [0.0, 0.001, 0.01, 0.001])]\n",
      "No wall nearby.\n",
      "[(nan, None, [0.0, 0.0, 0.0, 0.001]),\n",
      " (nan, None, [0.0, 0.0, 0.01, 0.0]),\n",
      " (nan, None, [0.01, 0.0, 0.01, 0.001]),\n",
      " (nan, None, [0.0, 0.001, 0.01, 0.001])]\n",
      "No wall nearby.\n"
     ]
    },
    {
     "name": "stderr",
     "output_type": "stream",
     "text": [
      "  4%|▍         | 128/3000 [00:17<06:28,  7.40it/s]"
     ]
    },
    {
     "name": "stdout",
     "output_type": "stream",
     "text": [
      "[(nan, None, [0.0, 0.0, 0.0, 0.001]),\n",
      " (nan, None, [0.0, 0.0, 0.01, 0.0]),\n",
      " (nan, None, [0.01, 0.0, 0.01, 0.001]),\n",
      " (nan, None, [0.0, 0.001, 0.01, 0.001])]\n",
      "No wall nearby.\n",
      "[(nan, None, [0.0, 0.0, 0.0, 0.001]),\n",
      " (nan, None, [0.0, 0.0, 0.01, 0.0]),\n",
      " (nan, None, [0.01, 0.0, 0.01, 0.001]),\n",
      " (nan, None, [0.0, 0.001, 0.01, 0.001])]\n",
      "No wall nearby.\n"
     ]
    },
    {
     "name": "stderr",
     "output_type": "stream",
     "text": [
      "  4%|▍         | 130/3000 [00:17<06:13,  7.68it/s]"
     ]
    },
    {
     "name": "stdout",
     "output_type": "stream",
     "text": [
      "[(nan, None, [0.0, 0.0, 0.0, 0.001]),\n",
      " (nan, None, [0.0, 0.0, 0.01, 0.0]),\n",
      " (nan, None, [0.01, 0.0, 0.01, 0.001]),\n",
      " (nan, None, [0.0, 0.001, 0.01, 0.001])]\n",
      "No wall nearby.\n",
      "[(nan, None, [0.0, 0.0, 0.0, 0.001]),\n",
      " (nan, None, [0.0, 0.0, 0.01, 0.0]),\n",
      " (nan, None, [0.01, 0.0, 0.01, 0.001]),\n",
      " (nan, None, [0.0, 0.001, 0.01, 0.001])]\n",
      "No wall nearby.\n"
     ]
    },
    {
     "name": "stderr",
     "output_type": "stream",
     "text": [
      "  4%|▍         | 132/3000 [00:17<06:08,  7.79it/s]"
     ]
    },
    {
     "name": "stdout",
     "output_type": "stream",
     "text": [
      "[(nan, None, [0.0, 0.0, 0.0, 0.001]),\n",
      " (nan, None, [0.0, 0.0, 0.01, 0.0]),\n",
      " (nan, None, [0.01, 0.0, 0.01, 0.001]),\n",
      " (nan, None, [0.0, 0.001, 0.01, 0.001])]\n",
      "No wall nearby.\n",
      "[(nan, None, [0.0, 0.0, 0.0, 0.001]),\n",
      " (nan, None, [0.0, 0.0, 0.01, 0.0]),\n",
      " (nan, None, [0.01, 0.0, 0.01, 0.001]),\n",
      " (nan, None, [0.0, 0.001, 0.01, 0.001])]\n",
      "No wall nearby.\n"
     ]
    },
    {
     "name": "stderr",
     "output_type": "stream",
     "text": [
      "  4%|▍         | 134/3000 [00:18<06:29,  7.35it/s]"
     ]
    },
    {
     "name": "stdout",
     "output_type": "stream",
     "text": [
      "[(nan, None, [0.0, 0.0, 0.0, 0.001]),\n",
      " (nan, None, [0.0, 0.0, 0.01, 0.0]),\n",
      " (nan, None, [0.01, 0.0, 0.01, 0.001]),\n",
      " (nan, None, [0.0, 0.001, 0.01, 0.001])]\n",
      "No wall nearby.\n",
      "[(nan, None, [0.0, 0.0, 0.0, 0.001]),\n",
      " (nan, None, [0.0, 0.0, 0.01, 0.0]),\n",
      " (nan, None, [0.01, 0.0, 0.01, 0.001]),\n",
      " (nan, None, [0.0, 0.001, 0.01, 0.001])]\n",
      "No wall nearby.\n"
     ]
    },
    {
     "name": "stderr",
     "output_type": "stream",
     "text": [
      "  5%|▍         | 136/3000 [00:18<06:12,  7.69it/s]"
     ]
    },
    {
     "name": "stdout",
     "output_type": "stream",
     "text": [
      "[(nan, None, [0.0, 0.0, 0.0, 0.001]),\n",
      " (nan, None, [0.0, 0.0, 0.01, 0.0]),\n",
      " (nan, None, [0.01, 0.0, 0.01, 0.001]),\n",
      " (nan, None, [0.0, 0.001, 0.01, 0.001])]\n",
      "No wall nearby.\n",
      "[(nan, None, [0.0, 0.0, 0.0, 0.001]),\n",
      " (nan, None, [0.0, 0.0, 0.01, 0.0]),\n",
      " (nan, None, [0.01, 0.0, 0.01, 0.001]),\n",
      " (nan, None, [0.0, 0.001, 0.01, 0.001])]\n",
      "No wall nearby.\n"
     ]
    },
    {
     "name": "stderr",
     "output_type": "stream",
     "text": [
      "  5%|▍         | 138/3000 [00:18<06:03,  7.86it/s]"
     ]
    },
    {
     "name": "stdout",
     "output_type": "stream",
     "text": [
      "[(nan, None, [0.0, 0.0, 0.0, 0.001]),\n",
      " (nan, None, [0.0, 0.0, 0.01, 0.0]),\n",
      " (nan, None, [0.01, 0.0, 0.01, 0.001]),\n",
      " (nan, None, [0.0, 0.001, 0.01, 0.001])]\n",
      "No wall nearby.\n",
      "[(nan, None, [0.0, 0.0, 0.0, 0.001]),\n",
      " (nan, None, [0.0, 0.0, 0.01, 0.0]),\n",
      " (nan, None, [0.01, 0.0, 0.01, 0.001]),\n",
      " (nan, None, [0.0, 0.001, 0.01, 0.001])]\n",
      "No wall nearby.\n"
     ]
    },
    {
     "name": "stderr",
     "output_type": "stream",
     "text": [
      "  5%|▍         | 140/3000 [00:18<06:46,  7.04it/s]"
     ]
    },
    {
     "name": "stdout",
     "output_type": "stream",
     "text": [
      "[(nan, None, [0.0, 0.0, 0.0, 0.001]),\n",
      " (nan, None, [0.0, 0.0, 0.01, 0.0]),\n",
      " (nan, None, [0.01, 0.0, 0.01, 0.001]),\n",
      " (nan, None, [0.0, 0.001, 0.01, 0.001])]\n",
      "No wall nearby.\n",
      "[(nan, None, [0.0, 0.0, 0.0, 0.001]),\n",
      " (nan, None, [0.0, 0.0, 0.01, 0.0]),\n",
      " (nan, None, [0.01, 0.0, 0.01, 0.001]),\n",
      " (nan, None, [0.0, 0.001, 0.01, 0.001])]\n",
      "No wall nearby.\n"
     ]
    },
    {
     "name": "stderr",
     "output_type": "stream",
     "text": [
      "  5%|▍         | 142/3000 [00:19<06:39,  7.15it/s]"
     ]
    },
    {
     "name": "stdout",
     "output_type": "stream",
     "text": [
      "[(nan, None, [0.0, 0.0, 0.0, 0.001]),\n",
      " (nan, None, [0.0, 0.0, 0.01, 0.0]),\n",
      " (nan, None, [0.01, 0.0, 0.01, 0.001]),\n",
      " (nan, None, [0.0, 0.001, 0.01, 0.001])]\n",
      "No wall nearby.\n",
      "[(nan, None, [0.0, 0.0, 0.0, 0.001]),\n",
      " (nan, None, [0.0, 0.0, 0.01, 0.0]),\n",
      " (nan, None, [0.01, 0.0, 0.01, 0.001]),\n",
      " (nan, None, [0.0, 0.001, 0.01, 0.001])]\n",
      "No wall nearby.\n"
     ]
    },
    {
     "name": "stderr",
     "output_type": "stream",
     "text": [
      "  5%|▍         | 144/3000 [00:19<06:33,  7.26it/s]"
     ]
    },
    {
     "name": "stdout",
     "output_type": "stream",
     "text": [
      "[(nan, None, [0.0, 0.0, 0.0, 0.001]),\n",
      " (nan, None, [0.0, 0.0, 0.01, 0.0]),\n",
      " (nan, None, [0.01, 0.0, 0.01, 0.001]),\n",
      " (nan, None, [0.0, 0.001, 0.01, 0.001])]\n",
      "No wall nearby.\n",
      "[(nan, None, [0.0, 0.0, 0.0, 0.001]),\n",
      " (nan, None, [0.0, 0.0, 0.01, 0.0]),\n",
      " (nan, None, [0.01, 0.0, 0.01, 0.001]),\n",
      " (nan, None, [0.0, 0.001, 0.01, 0.001])]\n",
      "No wall nearby.\n"
     ]
    },
    {
     "name": "stderr",
     "output_type": "stream",
     "text": [
      "  5%|▍         | 146/3000 [00:19<07:01,  6.76it/s]"
     ]
    },
    {
     "name": "stdout",
     "output_type": "stream",
     "text": [
      "[(nan, None, [0.0, 0.0, 0.0, 0.001]),\n",
      " (nan, None, [0.0, 0.0, 0.01, 0.0]),\n",
      " (nan, None, [0.01, 0.0, 0.01, 0.001]),\n",
      " (nan, None, [0.0, 0.001, 0.01, 0.001])]\n",
      "No wall nearby.\n",
      "[(nan, None, [0.0, 0.0, 0.0, 0.001]),\n",
      " (nan, None, [0.0, 0.0, 0.01, 0.0]),\n",
      " (nan, None, [0.01, 0.0, 0.01, 0.001]),\n",
      " (nan, None, [0.0, 0.001, 0.01, 0.001])]\n",
      "No wall nearby.\n"
     ]
    },
    {
     "name": "stderr",
     "output_type": "stream",
     "text": [
      "  5%|▍         | 148/3000 [00:20<06:52,  6.92it/s]"
     ]
    },
    {
     "name": "stdout",
     "output_type": "stream",
     "text": [
      "[(nan, None, [0.0, 0.0, 0.0, 0.001]),\n",
      " (nan, None, [0.0, 0.0, 0.01, 0.0]),\n",
      " (nan, None, [0.01, 0.0, 0.01, 0.001]),\n",
      " (nan, None, [0.0, 0.001, 0.01, 0.001])]\n",
      "No wall nearby.\n",
      "[(nan, None, [0.0, 0.0, 0.0, 0.001]),\n",
      " (nan, None, [0.0, 0.0, 0.01, 0.0]),\n",
      " (nan, None, [0.01, 0.0, 0.01, 0.001]),\n",
      " (nan, None, [0.0, 0.001, 0.01, 0.001])]\n",
      "No wall nearby.\n"
     ]
    },
    {
     "name": "stderr",
     "output_type": "stream",
     "text": [
      "  5%|▌         | 150/3000 [00:20<06:32,  7.27it/s]"
     ]
    },
    {
     "name": "stdout",
     "output_type": "stream",
     "text": [
      "[(nan, None, [0.0, 0.0, 0.0, 0.001]),\n",
      " (nan, None, [0.0, 0.0, 0.01, 0.0]),\n",
      " (nan, None, [0.01, 0.0, 0.01, 0.001]),\n",
      " (nan, None, [0.0, 0.001, 0.01, 0.001])]\n",
      "No wall nearby.\n",
      "[(nan, None, [0.0, 0.0, 0.0, 0.001]),\n",
      " (nan, None, [0.0, 0.0, 0.01, 0.0]),\n",
      " (nan, None, [0.01, 0.0, 0.01, 0.001]),\n",
      " (nan, None, [0.0, 0.001, 0.01, 0.001])]\n",
      "No wall nearby.\n"
     ]
    },
    {
     "name": "stderr",
     "output_type": "stream",
     "text": [
      "  5%|▌         | 152/3000 [00:20<06:20,  7.48it/s]"
     ]
    },
    {
     "name": "stdout",
     "output_type": "stream",
     "text": [
      "[(nan, None, [0.0, 0.0, 0.0, 0.001]),\n",
      " (nan, None, [0.0, 0.0, 0.01, 0.0]),\n",
      " (nan, None, [0.01, 0.0, 0.01, 0.001]),\n",
      " (nan, None, [0.0, 0.001, 0.01, 0.001])]\n",
      "No wall nearby.\n",
      "[(nan, None, [0.0, 0.0, 0.0, 0.001]),\n",
      " (nan, None, [0.0, 0.0, 0.01, 0.0]),\n",
      " (nan, None, [0.01, 0.0, 0.01, 0.001]),\n",
      " (nan, None, [0.0, 0.001, 0.01, 0.001])]\n",
      "No wall nearby.\n"
     ]
    },
    {
     "name": "stderr",
     "output_type": "stream",
     "text": [
      "  5%|▌         | 154/3000 [00:20<06:35,  7.20it/s]"
     ]
    },
    {
     "name": "stdout",
     "output_type": "stream",
     "text": [
      "[(nan, None, [0.0, 0.0, 0.0, 0.001]),\n",
      " (nan, None, [0.0, 0.0, 0.01, 0.0]),\n",
      " (nan, None, [0.01, 0.0, 0.01, 0.001]),\n",
      " (nan, None, [0.0, 0.001, 0.01, 0.001])]\n",
      "No wall nearby.\n",
      "[(nan, None, [0.0, 0.0, 0.0, 0.001]),\n",
      " (nan, None, [0.0, 0.0, 0.01, 0.0]),\n",
      " (nan, None, [0.01, 0.0, 0.01, 0.001]),\n",
      " (nan, None, [0.0, 0.001, 0.01, 0.001])]\n",
      "No wall nearby.\n"
     ]
    },
    {
     "name": "stderr",
     "output_type": "stream",
     "text": [
      "  5%|▌         | 156/3000 [00:21<06:25,  7.37it/s]"
     ]
    },
    {
     "name": "stdout",
     "output_type": "stream",
     "text": [
      "[(nan, None, [0.0, 0.0, 0.0, 0.001]),\n",
      " (nan, None, [0.0, 0.0, 0.01, 0.0]),\n",
      " (nan, None, [0.01, 0.0, 0.01, 0.001]),\n",
      " (nan, None, [0.0, 0.001, 0.01, 0.001])]\n",
      "No wall nearby.\n",
      "[(nan, None, [0.0, 0.0, 0.0, 0.001]),\n",
      " (nan, None, [0.0, 0.0, 0.01, 0.0]),\n",
      " (nan, None, [0.01, 0.0, 0.01, 0.001]),\n",
      " (nan, None, [0.0, 0.001, 0.01, 0.001])]\n",
      "No wall nearby.\n"
     ]
    },
    {
     "name": "stderr",
     "output_type": "stream",
     "text": [
      "  5%|▌         | 158/3000 [00:21<06:19,  7.49it/s]"
     ]
    },
    {
     "name": "stdout",
     "output_type": "stream",
     "text": [
      "[(nan, None, [0.0, 0.0, 0.0, 0.001]),\n",
      " (nan, None, [0.0, 0.0, 0.01, 0.0]),\n",
      " (nan, None, [0.01, 0.0, 0.01, 0.001]),\n",
      " (nan, None, [0.0, 0.001, 0.01, 0.001])]\n",
      "No wall nearby.\n",
      "[(nan, None, [0.0, 0.0, 0.0, 0.001]),\n",
      " (nan, None, [0.0, 0.0, 0.01, 0.0]),\n",
      " (nan, None, [0.01, 0.0, 0.01, 0.001]),\n",
      " (nan, None, [0.0, 0.001, 0.01, 0.001])]\n",
      "No wall nearby.\n"
     ]
    },
    {
     "name": "stderr",
     "output_type": "stream",
     "text": [
      "  5%|▌         | 160/3000 [00:21<06:35,  7.18it/s]"
     ]
    },
    {
     "name": "stdout",
     "output_type": "stream",
     "text": [
      "[(nan, None, [0.0, 0.0, 0.0, 0.001]),\n",
      " (nan, None, [0.0, 0.0, 0.01, 0.0]),\n",
      " (nan, None, [0.01, 0.0, 0.01, 0.001]),\n",
      " (nan, None, [0.0, 0.001, 0.01, 0.001])]\n",
      "No wall nearby.\n",
      "[(nan, None, [0.0, 0.0, 0.0, 0.001]),\n",
      " (nan, None, [0.0, 0.0, 0.01, 0.0]),\n",
      " (nan, None, [0.01, 0.0, 0.01, 0.001]),\n",
      " (nan, None, [0.0, 0.001, 0.01, 0.001])]\n",
      "No wall nearby.\n"
     ]
    },
    {
     "name": "stderr",
     "output_type": "stream",
     "text": [
      "  5%|▌         | 162/3000 [00:22<06:27,  7.33it/s]"
     ]
    },
    {
     "name": "stdout",
     "output_type": "stream",
     "text": [
      "[(nan, None, [0.0, 0.0, 0.0, 0.001]),\n",
      " (nan, None, [0.0, 0.0, 0.01, 0.0]),\n",
      " (nan, None, [0.01, 0.0, 0.01, 0.001]),\n",
      " (nan, None, [0.0, 0.001, 0.01, 0.001])]\n",
      "No wall nearby.\n",
      "[(nan, None, [0.0, 0.0, 0.0, 0.001]),\n",
      " (nan, None, [0.0, 0.0, 0.01, 0.0]),\n",
      " (nan, None, [0.01, 0.0, 0.01, 0.001]),\n",
      " (nan, None, [0.0, 0.001, 0.01, 0.001])]\n",
      "No wall nearby.\n"
     ]
    },
    {
     "name": "stderr",
     "output_type": "stream",
     "text": [
      "  5%|▌         | 164/3000 [00:22<06:19,  7.47it/s]"
     ]
    },
    {
     "name": "stdout",
     "output_type": "stream",
     "text": [
      "[(nan, None, [0.0, 0.0, 0.0, 0.001]),\n",
      " (nan, None, [0.0, 0.0, 0.01, 0.0]),\n",
      " (nan, None, [0.01, 0.0, 0.01, 0.001]),\n",
      " (nan, None, [0.0, 0.001, 0.01, 0.001])]\n",
      "No wall nearby.\n",
      "[(nan, None, [0.0, 0.0, 0.0, 0.001]),\n",
      " (nan, None, [0.0, 0.0, 0.01, 0.0]),\n",
      " (nan, None, [0.01, 0.0, 0.01, 0.001]),\n",
      " (nan, None, [0.0, 0.001, 0.01, 0.001])]\n",
      "No wall nearby.\n"
     ]
    },
    {
     "name": "stderr",
     "output_type": "stream",
     "text": [
      "  6%|▌         | 166/3000 [00:22<06:36,  7.15it/s]"
     ]
    },
    {
     "name": "stdout",
     "output_type": "stream",
     "text": [
      "[(nan, None, [0.0, 0.0, 0.0, 0.001]),\n",
      " (nan, None, [0.0, 0.0, 0.01, 0.0]),\n",
      " (nan, None, [0.01, 0.0, 0.01, 0.001]),\n",
      " (nan, None, [0.0, 0.001, 0.01, 0.001])]\n",
      "No wall nearby.\n",
      "[(nan, None, [0.0, 0.0, 0.0, 0.001]),\n",
      " (nan, None, [0.0, 0.0, 0.01, 0.0]),\n",
      " (nan, None, [0.01, 0.0, 0.01, 0.001]),\n",
      " (nan, None, [0.0, 0.001, 0.01, 0.001])]\n",
      "No wall nearby.\n"
     ]
    },
    {
     "name": "stderr",
     "output_type": "stream",
     "text": [
      "  6%|▌         | 168/3000 [00:22<06:22,  7.41it/s]"
     ]
    },
    {
     "name": "stdout",
     "output_type": "stream",
     "text": [
      "[(nan, None, [0.0, 0.0, 0.0, 0.001]),\n",
      " (nan, None, [0.0, 0.0, 0.01, 0.0]),\n",
      " (nan, None, [0.01, 0.0, 0.01, 0.001]),\n",
      " (nan, None, [0.0, 0.001, 0.01, 0.001])]\n",
      "No wall nearby.\n",
      "[(nan, None, [0.0, 0.0, 0.0, 0.001]),\n",
      " (nan, None, [0.0, 0.0, 0.01, 0.0]),\n",
      " (nan, None, [0.01, 0.0, 0.01, 0.001]),\n",
      " (nan, None, [0.0, 0.001, 0.01, 0.001])]\n",
      "No wall nearby.\n"
     ]
    },
    {
     "name": "stderr",
     "output_type": "stream",
     "text": [
      "  6%|▌         | 170/3000 [00:23<06:18,  7.48it/s]"
     ]
    },
    {
     "name": "stdout",
     "output_type": "stream",
     "text": [
      "[(nan, None, [0.0, 0.0, 0.0, 0.001]),\n",
      " (nan, None, [0.0, 0.0, 0.01, 0.0]),\n",
      " (nan, None, [0.01, 0.0, 0.01, 0.001]),\n",
      " (nan, None, [0.0, 0.001, 0.01, 0.001])]\n",
      "No wall nearby.\n",
      "[(nan, None, [0.0, 0.0, 0.0, 0.001]),\n",
      " (nan, None, [0.0, 0.0, 0.01, 0.0]),\n",
      " (nan, None, [0.01, 0.0, 0.01, 0.001]),\n",
      " (nan, None, [0.0, 0.001, 0.01, 0.001])]\n",
      "No wall nearby.\n"
     ]
    },
    {
     "name": "stderr",
     "output_type": "stream",
     "text": [
      "  6%|▌         | 172/3000 [00:23<06:39,  7.07it/s]"
     ]
    },
    {
     "name": "stdout",
     "output_type": "stream",
     "text": [
      "[(nan, None, [0.0, 0.0, 0.0, 0.001]),\n",
      " (nan, None, [0.0, 0.0, 0.01, 0.0]),\n",
      " (nan, None, [0.01, 0.0, 0.01, 0.001]),\n",
      " (nan, None, [0.0, 0.001, 0.01, 0.001])]\n",
      "No wall nearby.\n",
      "[(nan, None, [0.0, 0.0, 0.0, 0.001]),\n",
      " (nan, None, [0.0, 0.0, 0.01, 0.0]),\n",
      " (nan, None, [0.01, 0.0, 0.01, 0.001]),\n",
      " (nan, None, [0.0, 0.001, 0.01, 0.001])]\n",
      "No wall nearby.\n"
     ]
    },
    {
     "name": "stderr",
     "output_type": "stream",
     "text": [
      "  6%|▌         | 174/3000 [00:23<06:19,  7.46it/s]"
     ]
    },
    {
     "name": "stdout",
     "output_type": "stream",
     "text": [
      "[(nan, None, [0.0, 0.0, 0.0, 0.001]),\n",
      " (nan, None, [0.0, 0.0, 0.01, 0.0]),\n",
      " (nan, None, [0.01, 0.0, 0.01, 0.001]),\n",
      " (nan, None, [0.0, 0.001, 0.01, 0.001])]\n",
      "No wall nearby.\n",
      "[(nan, None, [0.0, 0.0, 0.0, 0.001]),\n",
      " (nan, None, [0.0, 0.0, 0.01, 0.0]),\n",
      " (nan, None, [0.01, 0.0, 0.01, 0.001]),\n",
      " (nan, None, [0.0, 0.001, 0.01, 0.001])]\n",
      "No wall nearby.\n"
     ]
    },
    {
     "name": "stderr",
     "output_type": "stream",
     "text": [
      "  6%|▌         | 176/3000 [00:23<06:06,  7.70it/s]"
     ]
    },
    {
     "name": "stdout",
     "output_type": "stream",
     "text": [
      "[(nan, None, [0.0, 0.0, 0.0, 0.001]),\n",
      " (nan, None, [0.0, 0.0, 0.01, 0.0]),\n",
      " (nan, None, [0.01, 0.0, 0.01, 0.001]),\n",
      " (nan, None, [0.0, 0.001, 0.01, 0.001])]\n",
      "No wall nearby.\n",
      "[(nan, None, [0.0, 0.0, 0.0, 0.001]),\n",
      " (nan, None, [0.0, 0.0, 0.01, 0.0]),\n",
      " (nan, None, [0.01, 0.0, 0.01, 0.001]),\n",
      " (nan, None, [0.0, 0.001, 0.01, 0.001])]\n",
      "No wall nearby.\n"
     ]
    },
    {
     "name": "stderr",
     "output_type": "stream",
     "text": [
      "  6%|▌         | 178/3000 [00:24<06:03,  7.77it/s]"
     ]
    },
    {
     "name": "stdout",
     "output_type": "stream",
     "text": [
      "[(nan, None, [0.0, 0.0, 0.0, 0.001]),\n",
      " (nan, None, [0.0, 0.0, 0.01, 0.0]),\n",
      " (nan, None, [0.01, 0.0, 0.01, 0.001]),\n",
      " (nan, None, [0.0, 0.001, 0.01, 0.001])]\n",
      "No wall nearby.\n",
      "[(nan, None, [0.0, 0.0, 0.0, 0.001]),\n",
      " (nan, None, [0.0, 0.0, 0.01, 0.0]),\n",
      " (nan, None, [0.01, 0.0, 0.01, 0.001]),\n",
      " (nan, None, [0.0, 0.001, 0.01, 0.001])]\n",
      "No wall nearby.\n"
     ]
    },
    {
     "name": "stderr",
     "output_type": "stream",
     "text": [
      "  6%|▌         | 180/3000 [00:24<06:19,  7.44it/s]"
     ]
    },
    {
     "name": "stdout",
     "output_type": "stream",
     "text": [
      "[(nan, None, [0.0, 0.0, 0.0, 0.001]),\n",
      " (nan, None, [0.0, 0.0, 0.01, 0.0]),\n",
      " (nan, None, [0.01, 0.0, 0.01, 0.001]),\n",
      " (nan, None, [0.0, 0.001, 0.01, 0.001])]\n",
      "No wall nearby.\n",
      "[(nan, None, [0.0, 0.0, 0.0, 0.001]),\n",
      " (nan, None, [0.0, 0.0, 0.01, 0.0]),\n",
      " (nan, None, [0.01, 0.0, 0.01, 0.001]),\n",
      " (nan, None, [0.0, 0.001, 0.01, 0.001])]\n",
      "No wall nearby.\n"
     ]
    },
    {
     "name": "stderr",
     "output_type": "stream",
     "text": [
      "  6%|▌         | 182/3000 [00:24<06:08,  7.65it/s]"
     ]
    },
    {
     "name": "stdout",
     "output_type": "stream",
     "text": [
      "[(nan, None, [0.0, 0.0, 0.0, 0.001]),\n",
      " (nan, None, [0.0, 0.0, 0.01, 0.0]),\n",
      " (nan, None, [0.01, 0.0, 0.01, 0.001]),\n",
      " (nan, None, [0.0, 0.001, 0.01, 0.001])]\n",
      "No wall nearby.\n",
      "[(nan, None, [0.0, 0.0, 0.0, 0.001]),\n",
      " (nan, None, [0.0, 0.0, 0.01, 0.0]),\n",
      " (nan, None, [0.01, 0.0, 0.01, 0.001]),\n",
      " (nan, None, [0.0, 0.001, 0.01, 0.001])]\n",
      "No wall nearby.\n"
     ]
    },
    {
     "name": "stderr",
     "output_type": "stream",
     "text": [
      "  6%|▌         | 184/3000 [00:24<06:03,  7.75it/s]"
     ]
    },
    {
     "name": "stdout",
     "output_type": "stream",
     "text": [
      "[(nan, None, [0.0, 0.0, 0.0, 0.001]),\n",
      " (nan, None, [0.0, 0.0, 0.01, 0.0]),\n",
      " (nan, None, [0.01, 0.0, 0.01, 0.001]),\n",
      " (nan, None, [0.0, 0.001, 0.01, 0.001])]\n",
      "No wall nearby.\n",
      "[(nan, None, [0.0, 0.0, 0.0, 0.001]),\n",
      " (nan, None, [0.0, 0.0, 0.01, 0.0]),\n",
      " (nan, None, [0.01, 0.0, 0.01, 0.001]),\n",
      " (nan, None, [0.0, 0.001, 0.01, 0.001])]\n",
      "No wall nearby.\n"
     ]
    },
    {
     "name": "stderr",
     "output_type": "stream",
     "text": [
      "  6%|▌         | 186/3000 [00:25<06:22,  7.36it/s]"
     ]
    },
    {
     "name": "stdout",
     "output_type": "stream",
     "text": [
      "[(nan, None, [0.0, 0.0, 0.0, 0.001]),\n",
      " (nan, None, [0.0, 0.0, 0.01, 0.0]),\n",
      " (nan, None, [0.01, 0.0, 0.01, 0.001]),\n",
      " (nan, None, [0.0, 0.001, 0.01, 0.001])]\n",
      "No wall nearby.\n",
      "[(nan, None, [0.0, 0.0, 0.0, 0.001]),\n",
      " (nan, None, [0.0, 0.0, 0.01, 0.0]),\n",
      " (nan, None, [0.01, 0.0, 0.01, 0.001]),\n",
      " (nan, None, [0.0, 0.001, 0.01, 0.001])]\n",
      "No wall nearby.\n"
     ]
    },
    {
     "name": "stderr",
     "output_type": "stream",
     "text": [
      "  6%|▋         | 188/3000 [00:25<06:09,  7.60it/s]"
     ]
    },
    {
     "name": "stdout",
     "output_type": "stream",
     "text": [
      "[(nan, None, [0.0, 0.0, 0.0, 0.001]),\n",
      " (nan, None, [0.0, 0.0, 0.01, 0.0]),\n",
      " (nan, None, [0.01, 0.0, 0.01, 0.001]),\n",
      " (nan, None, [0.0, 0.001, 0.01, 0.001])]\n",
      "No wall nearby.\n",
      "[(nan, None, [0.0, 0.0, 0.0, 0.001]),\n",
      " (nan, None, [0.0, 0.0, 0.01, 0.0]),\n",
      " (nan, None, [0.01, 0.0, 0.01, 0.001]),\n",
      " (nan, None, [0.0, 0.001, 0.01, 0.001])]\n",
      "No wall nearby.\n"
     ]
    },
    {
     "name": "stderr",
     "output_type": "stream",
     "text": [
      "  6%|▋         | 190/3000 [00:25<06:05,  7.69it/s]"
     ]
    },
    {
     "name": "stdout",
     "output_type": "stream",
     "text": [
      "[(nan, None, [0.0, 0.0, 0.0, 0.001]),\n",
      " (nan, None, [0.0, 0.0, 0.01, 0.0]),\n",
      " (nan, None, [0.01, 0.0, 0.01, 0.001]),\n",
      " (nan, None, [0.0, 0.001, 0.01, 0.001])]\n",
      "No wall nearby.\n",
      "[(nan, None, [0.0, 0.0, 0.0, 0.001]),\n",
      " (nan, None, [0.0, 0.0, 0.01, 0.0]),\n",
      " (nan, None, [0.01, 0.0, 0.01, 0.001]),\n",
      " (nan, None, [0.0, 0.001, 0.01, 0.001])]\n",
      "No wall nearby.\n"
     ]
    },
    {
     "name": "stderr",
     "output_type": "stream",
     "text": [
      "  6%|▋         | 192/3000 [00:26<06:31,  7.17it/s]"
     ]
    },
    {
     "name": "stdout",
     "output_type": "stream",
     "text": [
      "[(nan, None, [0.0, 0.0, 0.0, 0.001]),\n",
      " (nan, None, [0.0, 0.0, 0.01, 0.0]),\n",
      " (nan, None, [0.01, 0.0, 0.01, 0.001]),\n",
      " (nan, None, [0.0, 0.001, 0.01, 0.001])]\n",
      "No wall nearby.\n",
      "[(nan, None, [0.0, 0.0, 0.0, 0.001]),\n",
      " (nan, None, [0.0, 0.0, 0.01, 0.0]),\n",
      " (nan, None, [0.01, 0.0, 0.01, 0.001]),\n",
      " (nan, None, [0.0, 0.001, 0.01, 0.001])]\n",
      "No wall nearby.\n"
     ]
    },
    {
     "name": "stderr",
     "output_type": "stream",
     "text": [
      "  6%|▋         | 194/3000 [00:26<06:13,  7.52it/s]"
     ]
    },
    {
     "name": "stdout",
     "output_type": "stream",
     "text": [
      "[(nan, None, [0.0, 0.0, 0.0, 0.001]),\n",
      " (nan, None, [0.0, 0.0, 0.01, 0.0]),\n",
      " (nan, None, [0.01, 0.0, 0.01, 0.001]),\n",
      " (nan, None, [0.0, 0.001, 0.01, 0.001])]\n",
      "No wall nearby.\n",
      "[(nan, None, [0.0, 0.0, 0.0, 0.001]),\n",
      " (nan, None, [0.0, 0.0, 0.01, 0.0]),\n",
      " (nan, None, [0.01, 0.0, 0.01, 0.001]),\n",
      " (nan, None, [0.0, 0.001, 0.01, 0.001])]\n",
      "No wall nearby.\n"
     ]
    },
    {
     "name": "stderr",
     "output_type": "stream",
     "text": [
      "  7%|▋         | 196/3000 [00:26<06:05,  7.67it/s]"
     ]
    },
    {
     "name": "stdout",
     "output_type": "stream",
     "text": [
      "[(nan, None, [0.0, 0.0, 0.0, 0.001]),\n",
      " (nan, None, [0.0, 0.0, 0.01, 0.0]),\n",
      " (nan, None, [0.01, 0.0, 0.01, 0.001]),\n",
      " (nan, None, [0.0, 0.001, 0.01, 0.001])]\n",
      "No wall nearby.\n",
      "[(nan, None, [0.0, 0.0, 0.0, 0.001]),\n",
      " (nan, None, [0.0, 0.0, 0.01, 0.0]),\n",
      " (nan, None, [0.01, 0.0, 0.01, 0.001]),\n",
      " (nan, None, [0.0, 0.001, 0.01, 0.001])]\n",
      "No wall nearby.\n"
     ]
    },
    {
     "name": "stderr",
     "output_type": "stream",
     "text": [
      "  7%|▋         | 198/3000 [00:26<06:29,  7.19it/s]"
     ]
    },
    {
     "name": "stdout",
     "output_type": "stream",
     "text": [
      "[(nan, None, [0.0, 0.0, 0.0, 0.001]),\n",
      " (nan, None, [0.0, 0.0, 0.01, 0.0]),\n",
      " (nan, None, [0.01, 0.0, 0.01, 0.001]),\n",
      " (nan, None, [0.0, 0.001, 0.01, 0.001])]\n",
      "No wall nearby.\n",
      "[(nan, None, [0.0, 0.0, 0.0, 0.001]),\n",
      " (nan, None, [0.0, 0.0, 0.01, 0.0]),\n",
      " (nan, None, [0.01, 0.0, 0.01, 0.001]),\n",
      " (nan, None, [0.0, 0.001, 0.01, 0.001])]\n",
      "No wall nearby.\n"
     ]
    },
    {
     "name": "stderr",
     "output_type": "stream",
     "text": [
      "  7%|▋         | 200/3000 [00:27<06:13,  7.49it/s]"
     ]
    },
    {
     "name": "stdout",
     "output_type": "stream",
     "text": [
      "[(nan, None, [0.0, 0.0, 0.0, 0.001]),\n",
      " (nan, None, [0.0, 0.0, 0.01, 0.0]),\n",
      " (nan, None, [0.01, 0.0, 0.01, 0.001]),\n",
      " (nan, None, [0.0, 0.001, 0.01, 0.001])]\n",
      "No wall nearby.\n",
      "[(nan, None, [0.0, 0.0, 0.0, 0.001]),\n",
      " (nan, None, [0.0, 0.0, 0.01, 0.0]),\n",
      " (nan, None, [0.01, 0.0, 0.01, 0.001]),\n",
      " (nan, None, [0.0, 0.001, 0.01, 0.001])]\n",
      "No wall nearby.\n"
     ]
    },
    {
     "name": "stderr",
     "output_type": "stream",
     "text": [
      "  7%|▋         | 202/3000 [00:27<06:05,  7.66it/s]"
     ]
    },
    {
     "name": "stdout",
     "output_type": "stream",
     "text": [
      "[(nan, None, [0.0, 0.0, 0.0, 0.001]),\n",
      " (nan, None, [0.0, 0.0, 0.01, 0.0]),\n",
      " (nan, None, [0.01, 0.0, 0.01, 0.001]),\n",
      " (nan, None, [0.0, 0.001, 0.01, 0.001])]\n",
      "No wall nearby.\n",
      "[(nan, None, [0.0, 0.0, 0.0, 0.001]),\n",
      " (nan, None, [0.0, 0.0, 0.01, 0.0]),\n",
      " (nan, None, [0.01, 0.0, 0.01, 0.001]),\n",
      " (nan, None, [0.0, 0.001, 0.01, 0.001])]\n",
      "No wall nearby.\n"
     ]
    },
    {
     "name": "stderr",
     "output_type": "stream",
     "text": [
      "  7%|▋         | 204/3000 [00:27<06:02,  7.71it/s]"
     ]
    },
    {
     "name": "stdout",
     "output_type": "stream",
     "text": [
      "[(nan, None, [0.0, 0.0, 0.0, 0.001]),\n",
      " (nan, None, [0.0, 0.0, 0.01, 0.0]),\n",
      " (nan, None, [0.01, 0.0, 0.01, 0.001]),\n",
      " (nan, None, [0.0, 0.001, 0.01, 0.001])]\n",
      "No wall nearby.\n",
      "[(nan, None, [0.0, 0.0, 0.0, 0.001]),\n",
      " (nan, None, [0.0, 0.0, 0.01, 0.0]),\n",
      " (nan, None, [0.01, 0.0, 0.01, 0.001]),\n",
      " (nan, None, [0.0, 0.001, 0.01, 0.001])]\n",
      "No wall nearby.\n"
     ]
    },
    {
     "name": "stderr",
     "output_type": "stream",
     "text": [
      "  7%|▋         | 206/3000 [00:27<06:20,  7.34it/s]"
     ]
    },
    {
     "name": "stdout",
     "output_type": "stream",
     "text": [
      "[(nan, None, [0.0, 0.0, 0.0, 0.001]),\n",
      " (nan, None, [0.0, 0.0, 0.01, 0.0]),\n",
      " (nan, None, [0.01, 0.0, 0.01, 0.001]),\n",
      " (nan, None, [0.0, 0.001, 0.01, 0.001])]\n",
      "No wall nearby.\n",
      "[(nan, None, [0.0, 0.0, 0.0, 0.001]),\n",
      " (nan, None, [0.0, 0.0, 0.01, 0.0]),\n",
      " (nan, None, [0.01, 0.0, 0.01, 0.001]),\n",
      " (nan, None, [0.0, 0.001, 0.01, 0.001])]\n",
      "No wall nearby.\n"
     ]
    },
    {
     "name": "stderr",
     "output_type": "stream",
     "text": [
      "  7%|▋         | 208/3000 [00:28<06:15,  7.43it/s]"
     ]
    },
    {
     "name": "stdout",
     "output_type": "stream",
     "text": [
      "[(nan, None, [0.0, 0.0, 0.0, 0.001]),\n",
      " (nan, None, [0.0, 0.0, 0.01, 0.0]),\n",
      " (nan, None, [0.01, 0.0, 0.01, 0.001]),\n",
      " (nan, None, [0.0, 0.001, 0.01, 0.001])]\n",
      "No wall nearby.\n",
      "[(nan, None, [0.0, 0.0, 0.0, 0.001]),\n",
      " (nan, None, [0.0, 0.0, 0.01, 0.0]),\n",
      " (nan, None, [0.01, 0.0, 0.01, 0.001]),\n",
      " (nan, None, [0.0, 0.001, 0.01, 0.001])]\n",
      "No wall nearby.\n"
     ]
    },
    {
     "name": "stderr",
     "output_type": "stream",
     "text": [
      "  7%|▋         | 210/3000 [00:28<06:15,  7.43it/s]"
     ]
    },
    {
     "name": "stdout",
     "output_type": "stream",
     "text": [
      "[(nan, None, [0.0, 0.0, 0.0, 0.001]),\n",
      " (nan, None, [0.0, 0.0, 0.01, 0.0]),\n",
      " (nan, None, [0.01, 0.0, 0.01, 0.001]),\n",
      " (nan, None, [0.0, 0.001, 0.01, 0.001])]\n",
      "No wall nearby.\n",
      "[(nan, None, [0.0, 0.0, 0.0, 0.001]),\n",
      " (nan, None, [0.0, 0.0, 0.01, 0.0]),\n",
      " (nan, None, [0.01, 0.0, 0.01, 0.001]),\n",
      " (nan, None, [0.0, 0.001, 0.01, 0.001])]\n",
      "No wall nearby.\n"
     ]
    },
    {
     "name": "stderr",
     "output_type": "stream",
     "text": [
      "  7%|▋         | 212/3000 [00:28<06:34,  7.07it/s]"
     ]
    },
    {
     "name": "stdout",
     "output_type": "stream",
     "text": [
      "[(nan, None, [0.0, 0.0, 0.0, 0.001]),\n",
      " (nan, None, [0.0, 0.0, 0.01, 0.0]),\n",
      " (nan, None, [0.01, 0.0, 0.01, 0.001]),\n",
      " (nan, None, [0.0, 0.001, 0.01, 0.001])]\n",
      "No wall nearby.\n",
      "[(nan, None, [0.0, 0.0, 0.0, 0.001]),\n",
      " (nan, None, [0.0, 0.0, 0.01, 0.0]),\n",
      " (nan, None, [0.01, 0.0, 0.01, 0.001]),\n",
      " (nan, None, [0.0, 0.001, 0.01, 0.001])]\n",
      "No wall nearby.\n"
     ]
    },
    {
     "name": "stderr",
     "output_type": "stream",
     "text": [
      "  7%|▋         | 214/3000 [00:29<06:19,  7.35it/s]"
     ]
    },
    {
     "name": "stdout",
     "output_type": "stream",
     "text": [
      "[(nan, None, [0.0, 0.0, 0.0, 0.001]),\n",
      " (nan, None, [0.0, 0.0, 0.01, 0.0]),\n",
      " (nan, None, [0.01, 0.0, 0.01, 0.001]),\n",
      " (nan, None, [0.0, 0.001, 0.01, 0.001])]\n",
      "No wall nearby.\n",
      "[(nan, None, [0.0, 0.0, 0.0, 0.001]),\n",
      " (nan, None, [0.0, 0.0, 0.01, 0.0]),\n",
      " (nan, None, [0.01, 0.0, 0.01, 0.001]),\n",
      " (nan, None, [0.0, 0.001, 0.01, 0.001])]\n",
      "No wall nearby.\n"
     ]
    },
    {
     "name": "stderr",
     "output_type": "stream",
     "text": [
      "  7%|▋         | 216/3000 [00:29<06:16,  7.39it/s]"
     ]
    },
    {
     "name": "stdout",
     "output_type": "stream",
     "text": [
      "[(nan, None, [0.0, 0.0, 0.0, 0.001]),\n",
      " (nan, None, [0.0, 0.0, 0.01, 0.0]),\n",
      " (nan, None, [0.01, 0.0, 0.01, 0.001]),\n",
      " (nan, None, [0.0, 0.001, 0.01, 0.001])]\n",
      "No wall nearby.\n",
      "[(nan, None, [0.0, 0.0, 0.0, 0.001]),\n",
      " (nan, None, [0.0, 0.0, 0.01, 0.0]),\n",
      " (nan, None, [0.01, 0.0, 0.01, 0.001]),\n",
      " (nan, None, [0.0, 0.001, 0.01, 0.001])]\n",
      "No wall nearby.\n"
     ]
    },
    {
     "name": "stderr",
     "output_type": "stream",
     "text": [
      "  7%|▋         | 218/3000 [00:29<06:36,  7.02it/s]"
     ]
    },
    {
     "name": "stdout",
     "output_type": "stream",
     "text": [
      "[(nan, None, [0.0, 0.0, 0.0, 0.001]),\n",
      " (nan, None, [0.0, 0.0, 0.01, 0.0]),\n",
      " (nan, None, [0.01, 0.0, 0.01, 0.001]),\n",
      " (nan, None, [0.0, 0.001, 0.01, 0.001])]\n",
      "No wall nearby.\n",
      "[(nan, None, [0.0, 0.0, 0.0, 0.001]),\n",
      " (nan, None, [0.0, 0.0, 0.01, 0.0]),\n",
      " (nan, None, [0.01, 0.0, 0.01, 0.001]),\n",
      " (nan, None, [0.0, 0.001, 0.01, 0.001])]\n",
      "No wall nearby.\n"
     ]
    },
    {
     "name": "stderr",
     "output_type": "stream",
     "text": [
      "  7%|▋         | 220/3000 [00:29<06:18,  7.34it/s]"
     ]
    },
    {
     "name": "stdout",
     "output_type": "stream",
     "text": [
      "[(nan, None, [0.0, 0.0, 0.0, 0.001]),\n",
      " (nan, None, [0.0, 0.0, 0.01, 0.0]),\n",
      " (nan, None, [0.01, 0.0, 0.01, 0.001]),\n",
      " (nan, None, [0.0, 0.001, 0.01, 0.001])]\n",
      "No wall nearby.\n",
      "[(nan, None, [0.0, 0.0, 0.0, 0.001]),\n",
      " (nan, None, [0.0, 0.0, 0.01, 0.0]),\n",
      " (nan, None, [0.01, 0.0, 0.01, 0.001]),\n",
      " (nan, None, [0.0, 0.001, 0.01, 0.001])]\n",
      "No wall nearby.\n"
     ]
    },
    {
     "name": "stderr",
     "output_type": "stream",
     "text": [
      "  7%|▋         | 222/3000 [00:30<06:14,  7.41it/s]"
     ]
    },
    {
     "name": "stdout",
     "output_type": "stream",
     "text": [
      "[(nan, None, [0.0, 0.0, 0.0, 0.001]),\n",
      " (nan, None, [0.0, 0.0, 0.01, 0.0]),\n",
      " (nan, None, [0.01, 0.0, 0.01, 0.001]),\n",
      " (nan, None, [0.0, 0.001, 0.01, 0.001])]\n",
      "No wall nearby.\n",
      "[(nan, None, [0.0, 0.0, 0.0, 0.001]),\n",
      " (nan, None, [0.0, 0.0, 0.01, 0.0]),\n",
      " (nan, None, [0.01, 0.0, 0.01, 0.001]),\n",
      " (nan, None, [0.0, 0.001, 0.01, 0.001])]\n",
      "No wall nearby.\n"
     ]
    },
    {
     "name": "stderr",
     "output_type": "stream",
     "text": [
      "  7%|▋         | 224/3000 [00:30<06:38,  6.96it/s]"
     ]
    },
    {
     "name": "stdout",
     "output_type": "stream",
     "text": [
      "[(nan, None, [0.0, 0.0, 0.0, 0.001]),\n",
      " (nan, None, [0.0, 0.0, 0.01, 0.0]),\n",
      " (nan, None, [0.01, 0.0, 0.01, 0.001]),\n",
      " (nan, None, [0.0, 0.001, 0.01, 0.001])]\n",
      "No wall nearby.\n",
      "[(nan, None, [0.0, 0.0, 0.0, 0.001]),\n",
      " (nan, None, [0.0, 0.0, 0.01, 0.0]),\n",
      " (nan, None, [0.01, 0.0, 0.01, 0.001]),\n",
      " (nan, None, [0.0, 0.001, 0.01, 0.001])]\n",
      "No wall nearby.\n"
     ]
    },
    {
     "name": "stderr",
     "output_type": "stream",
     "text": [
      "  8%|▊         | 226/3000 [00:30<06:25,  7.19it/s]"
     ]
    },
    {
     "name": "stdout",
     "output_type": "stream",
     "text": [
      "[(nan, None, [0.0, 0.0, 0.0, 0.001]),\n",
      " (nan, None, [0.0, 0.0, 0.01, 0.0]),\n",
      " (nan, None, [0.01, 0.0, 0.01, 0.001]),\n",
      " (nan, None, [0.0, 0.001, 0.01, 0.001])]\n",
      "No wall nearby.\n",
      "[(nan, None, [0.0, 0.0, 0.0, 0.001]),\n",
      " (nan, None, [0.0, 0.0, 0.01, 0.0]),\n",
      " (nan, None, [0.01, 0.0, 0.01, 0.001]),\n",
      " (nan, None, [0.0, 0.001, 0.01, 0.001])]\n",
      "No wall nearby.\n"
     ]
    },
    {
     "name": "stderr",
     "output_type": "stream",
     "text": [
      "  8%|▊         | 228/3000 [00:30<06:16,  7.35it/s]"
     ]
    },
    {
     "name": "stdout",
     "output_type": "stream",
     "text": [
      "[(nan, None, [0.0, 0.0, 0.0, 0.001]),\n",
      " (nan, None, [0.0, 0.0, 0.01, 0.0]),\n",
      " (nan, None, [0.01, 0.0, 0.01, 0.001]),\n",
      " (nan, None, [0.0, 0.001, 0.01, 0.001])]\n",
      "No wall nearby.\n",
      "[(nan, None, [0.0, 0.0, 0.0, 0.001]),\n",
      " (nan, None, [0.0, 0.0, 0.01, 0.0]),\n",
      " (nan, None, [0.01, 0.0, 0.01, 0.001]),\n",
      " (nan, None, [0.0, 0.001, 0.01, 0.001])]\n",
      "No wall nearby.\n"
     ]
    },
    {
     "name": "stderr",
     "output_type": "stream",
     "text": [
      "  8%|▊         | 230/3000 [00:31<06:23,  7.22it/s]"
     ]
    },
    {
     "name": "stdout",
     "output_type": "stream",
     "text": [
      "[(nan, None, [0.0, 0.0, 0.0, 0.001]),\n",
      " (nan, None, [0.0, 0.0, 0.01, 0.0]),\n",
      " (nan, None, [0.01, 0.0, 0.01, 0.001]),\n",
      " (nan, None, [0.0, 0.001, 0.01, 0.001])]\n",
      "No wall nearby.\n",
      "[(nan, None, [0.0, 0.0, 0.0, 0.001]),\n",
      " (nan, None, [0.0, 0.0, 0.01, 0.0]),\n",
      " (nan, None, [0.01, 0.0, 0.01, 0.001]),\n",
      " (nan, None, [0.0, 0.001, 0.01, 0.001])]\n",
      "No wall nearby.\n"
     ]
    },
    {
     "name": "stderr",
     "output_type": "stream",
     "text": [
      "  8%|▊         | 232/3000 [00:31<06:42,  6.89it/s]"
     ]
    },
    {
     "name": "stdout",
     "output_type": "stream",
     "text": [
      "[(nan, None, [0.0, 0.0, 0.0, 0.001]),\n",
      " (nan, None, [0.0, 0.0, 0.01, 0.0]),\n",
      " (nan, None, [0.01, 0.0, 0.01, 0.001]),\n",
      " (nan, None, [0.0, 0.001, 0.01, 0.001])]\n",
      "No wall nearby.\n",
      "[(nan, None, [0.0, 0.0, 0.0, 0.001]),\n",
      " (nan, None, [0.0, 0.0, 0.01, 0.0]),\n",
      " (nan, None, [0.01, 0.0, 0.01, 0.001]),\n",
      " (nan, None, [0.0, 0.001, 0.01, 0.001])]\n",
      "No wall nearby.\n"
     ]
    },
    {
     "name": "stderr",
     "output_type": "stream",
     "text": [
      "  8%|▊         | 234/3000 [00:31<06:33,  7.02it/s]"
     ]
    },
    {
     "name": "stdout",
     "output_type": "stream",
     "text": [
      "[(nan, None, [0.0, 0.0, 0.0, 0.001]),\n",
      " (nan, None, [0.0, 0.0, 0.01, 0.0]),\n",
      " (nan, None, [0.01, 0.0, 0.01, 0.001]),\n",
      " (nan, None, [0.0, 0.001, 0.01, 0.001])]\n",
      "No wall nearby.\n",
      "[(nan, None, [0.0, 0.0, 0.0, 0.001]),\n",
      " (nan, None, [0.0, 0.0, 0.01, 0.0]),\n",
      " (nan, None, [0.01, 0.0, 0.01, 0.001]),\n",
      " (nan, None, [0.0, 0.001, 0.01, 0.001])]\n",
      "No wall nearby.\n"
     ]
    },
    {
     "name": "stderr",
     "output_type": "stream",
     "text": [
      "  8%|▊         | 236/3000 [00:32<06:22,  7.22it/s]"
     ]
    },
    {
     "name": "stdout",
     "output_type": "stream",
     "text": [
      "[(nan, None, [0.0, 0.0, 0.0, 0.001]),\n",
      " (nan, None, [0.0, 0.0, 0.01, 0.0]),\n",
      " (nan, None, [0.01, 0.0, 0.01, 0.001]),\n",
      " (nan, None, [0.0, 0.001, 0.01, 0.001])]\n",
      "No wall nearby.\n",
      "[(nan, None, [0.0, 0.0, 0.0, 0.001]),\n",
      " (nan, None, [0.0, 0.0, 0.01, 0.0]),\n",
      " (nan, None, [0.01, 0.0, 0.01, 0.001]),\n",
      " (nan, None, [0.0, 0.001, 0.01, 0.001])]\n",
      "No wall nearby.\n"
     ]
    },
    {
     "name": "stderr",
     "output_type": "stream",
     "text": [
      "  8%|▊         | 238/3000 [00:32<06:37,  6.96it/s]"
     ]
    },
    {
     "name": "stdout",
     "output_type": "stream",
     "text": [
      "[(nan, None, [0.0, 0.0, 0.0, 0.001]),\n",
      " (nan, None, [0.0, 0.0, 0.01, 0.0]),\n",
      " (nan, None, [0.01, 0.0, 0.01, 0.001]),\n",
      " (nan, None, [0.0, 0.001, 0.01, 0.001])]\n",
      "No wall nearby.\n",
      "[(nan, None, [0.0, 0.0, 0.0, 0.001]),\n",
      " (nan, None, [0.0, 0.0, 0.01, 0.0]),\n",
      " (nan, None, [0.01, 0.0, 0.01, 0.001]),\n",
      " (nan, None, [0.0, 0.001, 0.01, 0.001])]\n",
      "No wall nearby.\n"
     ]
    },
    {
     "name": "stderr",
     "output_type": "stream",
     "text": [
      "  8%|▊         | 240/3000 [00:32<06:24,  7.19it/s]"
     ]
    },
    {
     "name": "stdout",
     "output_type": "stream",
     "text": [
      "[(nan, None, [0.0, 0.0, 0.0, 0.001]),\n",
      " (nan, None, [0.0, 0.0, 0.01, 0.0]),\n",
      " (nan, None, [0.01, 0.0, 0.01, 0.001]),\n",
      " (nan, None, [0.0, 0.001, 0.01, 0.001])]\n",
      "No wall nearby.\n",
      "[(nan, None, [0.0, 0.0, 0.0, 0.001]),\n",
      " (nan, None, [0.0, 0.0, 0.01, 0.0]),\n",
      " (nan, None, [0.01, 0.0, 0.01, 0.001]),\n",
      " (nan, None, [0.0, 0.001, 0.01, 0.001])]\n",
      "No wall nearby.\n"
     ]
    },
    {
     "name": "stderr",
     "output_type": "stream",
     "text": [
      "  8%|▊         | 242/3000 [00:32<06:18,  7.28it/s]"
     ]
    },
    {
     "name": "stdout",
     "output_type": "stream",
     "text": [
      "[(nan, None, [0.0, 0.0, 0.0, 0.001]),\n",
      " (nan, None, [0.0, 0.0, 0.01, 0.0]),\n",
      " (nan, None, [0.01, 0.0, 0.01, 0.001]),\n",
      " (nan, None, [0.0, 0.001, 0.01, 0.001])]\n",
      "No wall nearby.\n",
      "[(nan, None, [0.0, 0.0, 0.0, 0.001]),\n",
      " (nan, None, [0.0, 0.0, 0.01, 0.0]),\n",
      " (nan, None, [0.01, 0.0, 0.01, 0.001]),\n",
      " (nan, None, [0.0, 0.001, 0.01, 0.001])]\n",
      "No wall nearby.\n"
     ]
    },
    {
     "name": "stderr",
     "output_type": "stream",
     "text": [
      "  8%|▊         | 244/3000 [00:33<06:35,  6.96it/s]"
     ]
    },
    {
     "name": "stdout",
     "output_type": "stream",
     "text": [
      "[(nan, None, [0.0, 0.0, 0.0, 0.001]),\n",
      " (nan, None, [0.0, 0.0, 0.01, 0.0]),\n",
      " (nan, None, [0.01, 0.0, 0.01, 0.001]),\n",
      " (nan, None, [0.0, 0.001, 0.01, 0.001])]\n",
      "No wall nearby.\n",
      "[(nan, None, [0.0, 0.0, 0.0, 0.001]),\n",
      " (nan, None, [0.0, 0.0, 0.01, 0.0]),\n",
      " (nan, None, [0.01, 0.0, 0.01, 0.001]),\n",
      " (nan, None, [0.0, 0.001, 0.01, 0.001])]\n",
      "No wall nearby.\n"
     ]
    },
    {
     "name": "stderr",
     "output_type": "stream",
     "text": [
      "  8%|▊         | 246/3000 [00:33<06:21,  7.22it/s]"
     ]
    },
    {
     "name": "stdout",
     "output_type": "stream",
     "text": [
      "[(nan, None, [0.0, 0.0, 0.0, 0.001]),\n",
      " (nan, None, [0.0, 0.0, 0.01, 0.0]),\n",
      " (nan, None, [0.01, 0.0, 0.01, 0.001]),\n",
      " (nan, None, [0.0, 0.001, 0.01, 0.001])]\n",
      "No wall nearby.\n",
      "[(nan, None, [0.0, 0.0, 0.0, 0.001]),\n",
      " (nan, None, [0.0, 0.0, 0.01, 0.0]),\n",
      " (nan, None, [0.01, 0.0, 0.01, 0.001]),\n",
      " (nan, None, [0.0, 0.001, 0.01, 0.001])]\n",
      "No wall nearby.\n"
     ]
    },
    {
     "name": "stderr",
     "output_type": "stream",
     "text": [
      "  8%|▊         | 248/3000 [00:33<06:11,  7.41it/s]"
     ]
    },
    {
     "name": "stdout",
     "output_type": "stream",
     "text": [
      "[(nan, None, [0.0, 0.0, 0.0, 0.001]),\n",
      " (nan, None, [0.0, 0.0, 0.01, 0.0]),\n",
      " (nan, None, [0.01, 0.0, 0.01, 0.001]),\n",
      " (nan, None, [0.0, 0.001, 0.01, 0.001])]\n",
      "No wall nearby.\n",
      "[(nan, None, [0.0, 0.0, 0.0, 0.001]),\n",
      " (nan, None, [0.0, 0.0, 0.01, 0.0]),\n",
      " (nan, None, [0.01, 0.0, 0.01, 0.001]),\n",
      " (nan, None, [0.0, 0.001, 0.01, 0.001])]\n",
      "No wall nearby.\n"
     ]
    },
    {
     "name": "stderr",
     "output_type": "stream",
     "text": [
      "  8%|▊         | 250/3000 [00:34<06:31,  7.02it/s]"
     ]
    },
    {
     "name": "stdout",
     "output_type": "stream",
     "text": [
      "[(nan, None, [0.0, 0.0, 0.0, 0.001]),\n",
      " (nan, None, [0.0, 0.0, 0.01, 0.0]),\n",
      " (nan, None, [0.01, 0.0, 0.01, 0.001]),\n",
      " (nan, None, [0.0, 0.001, 0.01, 0.001])]\n",
      "No wall nearby.\n",
      "[(nan, None, [0.0, 0.0, 0.0, 0.001]),\n",
      " (nan, None, [0.0, 0.0, 0.01, 0.0]),\n",
      " (nan, None, [0.01, 0.0, 0.01, 0.001]),\n",
      " (nan, None, [0.0, 0.001, 0.01, 0.001])]\n",
      "No wall nearby.\n"
     ]
    },
    {
     "name": "stderr",
     "output_type": "stream",
     "text": [
      "  8%|▊         | 252/3000 [00:34<06:20,  7.22it/s]"
     ]
    },
    {
     "name": "stdout",
     "output_type": "stream",
     "text": [
      "[(nan, None, [0.0, 0.0, 0.0, 0.001]),\n",
      " (nan, None, [0.0, 0.0, 0.01, 0.0]),\n",
      " (nan, None, [0.01, 0.0, 0.01, 0.001]),\n",
      " (nan, None, [0.0, 0.001, 0.01, 0.001])]\n",
      "No wall nearby.\n",
      "[(nan, None, [0.0, 0.0, 0.0, 0.001]),\n",
      " (nan, None, [0.0, 0.0, 0.01, 0.0]),\n",
      " (nan, None, [0.01, 0.0, 0.01, 0.001]),\n",
      " (nan, None, [0.0, 0.001, 0.01, 0.001])]\n",
      "No wall nearby.\n"
     ]
    },
    {
     "name": "stderr",
     "output_type": "stream",
     "text": [
      "  8%|▊         | 254/3000 [00:34<06:06,  7.49it/s]"
     ]
    },
    {
     "name": "stdout",
     "output_type": "stream",
     "text": [
      "[(nan, None, [0.0, 0.0, 0.0, 0.001]),\n",
      " (nan, None, [0.0, 0.0, 0.01, 0.0]),\n",
      " (nan, None, [0.01, 0.0, 0.01, 0.001]),\n",
      " (nan, None, [0.0, 0.001, 0.01, 0.001])]\n",
      "No wall nearby.\n",
      "[(nan, None, [0.0, 0.0, 0.0, 0.001]),\n",
      " (nan, None, [0.0, 0.0, 0.01, 0.0]),\n",
      " (nan, None, [0.01, 0.0, 0.01, 0.001]),\n",
      " (nan, None, [0.0, 0.001, 0.01, 0.001])]\n",
      "No wall nearby.\n"
     ]
    },
    {
     "name": "stderr",
     "output_type": "stream",
     "text": [
      "  9%|▊         | 256/3000 [00:34<05:57,  7.69it/s]"
     ]
    },
    {
     "name": "stdout",
     "output_type": "stream",
     "text": [
      "[(nan, None, [0.0, 0.0, 0.0, 0.001]),\n",
      " (nan, None, [0.0, 0.0, 0.01, 0.0]),\n",
      " (nan, None, [0.01, 0.0, 0.01, 0.001]),\n",
      " (nan, None, [0.0, 0.001, 0.01, 0.001])]\n",
      "No wall nearby.\n",
      "[(nan, None, [0.0, 0.0, 0.0, 0.001]),\n",
      " (nan, None, [0.0, 0.0, 0.01, 0.0]),\n",
      " (nan, None, [0.01, 0.0, 0.01, 0.001]),\n",
      " (nan, None, [0.0, 0.001, 0.01, 0.001])]\n",
      "No wall nearby.\n"
     ]
    },
    {
     "name": "stderr",
     "output_type": "stream",
     "text": [
      "  9%|▊         | 258/3000 [00:35<06:15,  7.29it/s]"
     ]
    },
    {
     "name": "stdout",
     "output_type": "stream",
     "text": [
      "[(nan, None, [0.0, 0.0, 0.0, 0.001]),\n",
      " (nan, None, [0.0, 0.0, 0.01, 0.0]),\n",
      " (nan, None, [0.01, 0.0, 0.01, 0.001]),\n",
      " (nan, None, [0.0, 0.001, 0.01, 0.001])]\n",
      "No wall nearby.\n",
      "[(nan, None, [0.0, 0.0, 0.0, 0.001]),\n",
      " (nan, None, [0.0, 0.0, 0.01, 0.0]),\n",
      " (nan, None, [0.01, 0.0, 0.01, 0.001]),\n",
      " (nan, None, [0.0, 0.001, 0.01, 0.001])]\n",
      "No wall nearby.\n"
     ]
    },
    {
     "name": "stderr",
     "output_type": "stream",
     "text": [
      "  9%|▊         | 260/3000 [00:35<06:04,  7.51it/s]"
     ]
    },
    {
     "name": "stdout",
     "output_type": "stream",
     "text": [
      "[(nan, None, [0.0, 0.0, 0.0, 0.001]),\n",
      " (nan, None, [0.0, 0.0, 0.01, 0.0]),\n",
      " (nan, None, [0.01, 0.0, 0.01, 0.001]),\n",
      " (nan, None, [0.0, 0.001, 0.01, 0.001])]\n",
      "No wall nearby.\n",
      "[(nan, None, [0.0, 0.0, 0.0, 0.001]),\n",
      " (nan, None, [0.0, 0.0, 0.01, 0.0]),\n",
      " (nan, None, [0.01, 0.0, 0.01, 0.001]),\n",
      " (nan, None, [0.0, 0.001, 0.01, 0.001])]\n",
      "No wall nearby.\n"
     ]
    },
    {
     "name": "stderr",
     "output_type": "stream",
     "text": [
      "  9%|▊         | 262/3000 [00:35<05:59,  7.61it/s]"
     ]
    },
    {
     "name": "stdout",
     "output_type": "stream",
     "text": [
      "[(nan, None, [0.0, 0.0, 0.0, 0.001]),\n",
      " (nan, None, [0.0, 0.0, 0.01, 0.0]),\n",
      " (nan, None, [0.01, 0.0, 0.01, 0.001]),\n",
      " (nan, None, [0.0, 0.001, 0.01, 0.001])]\n",
      "No wall nearby.\n",
      "[(nan, None, [0.0, 0.0, 0.0, 0.001]),\n",
      " (nan, None, [0.0, 0.0, 0.01, 0.0]),\n",
      " (nan, None, [0.01, 0.0, 0.01, 0.001]),\n",
      " (nan, None, [0.0, 0.001, 0.01, 0.001])]\n",
      "No wall nearby.\n"
     ]
    },
    {
     "name": "stderr",
     "output_type": "stream",
     "text": [
      "  9%|▉         | 264/3000 [00:35<06:17,  7.25it/s]"
     ]
    },
    {
     "name": "stdout",
     "output_type": "stream",
     "text": [
      "[(nan, None, [0.0, 0.0, 0.0, 0.001]),\n",
      " (nan, None, [0.0, 0.0, 0.01, 0.0]),\n",
      " (nan, None, [0.01, 0.0, 0.01, 0.001]),\n",
      " (nan, None, [0.0, 0.001, 0.01, 0.001])]\n",
      "No wall nearby.\n",
      "[(nan, None, [0.0, 0.0, 0.0, 0.001]),\n",
      " (nan, None, [0.0, 0.0, 0.01, 0.0]),\n",
      " (nan, None, [0.01, 0.0, 0.01, 0.001]),\n",
      " (nan, None, [0.0, 0.001, 0.01, 0.001])]\n",
      "No wall nearby.\n"
     ]
    },
    {
     "name": "stderr",
     "output_type": "stream",
     "text": [
      "  9%|▉         | 266/3000 [00:36<06:11,  7.36it/s]"
     ]
    },
    {
     "name": "stdout",
     "output_type": "stream",
     "text": [
      "[(nan, None, [0.0, 0.0, 0.0, 0.001]),\n",
      " (nan, None, [0.0, 0.0, 0.01, 0.0]),\n",
      " (nan, None, [0.01, 0.0, 0.01, 0.001]),\n",
      " (nan, None, [0.0, 0.001, 0.01, 0.001])]\n",
      "No wall nearby.\n",
      "[(nan, None, [0.0, 0.0, 0.0, 0.001]),\n",
      " (nan, None, [0.0, 0.0, 0.01, 0.0]),\n",
      " (nan, None, [0.01, 0.0, 0.01, 0.001]),\n",
      " (nan, None, [0.0, 0.001, 0.01, 0.001])]\n",
      "No wall nearby.\n"
     ]
    },
    {
     "name": "stderr",
     "output_type": "stream",
     "text": [
      "  9%|▉         | 268/3000 [00:36<06:09,  7.40it/s]"
     ]
    },
    {
     "name": "stdout",
     "output_type": "stream",
     "text": [
      "[(nan, None, [0.0, 0.0, 0.0, 0.001]),\n",
      " (nan, None, [0.0, 0.0, 0.01, 0.0]),\n",
      " (nan, None, [0.01, 0.0, 0.01, 0.001]),\n",
      " (nan, None, [0.0, 0.001, 0.01, 0.001])]\n",
      "No wall nearby.\n",
      "[(nan, None, [0.0, 0.0, 0.0, 0.001]),\n",
      " (nan, None, [0.0, 0.0, 0.01, 0.0]),\n",
      " (nan, None, [0.01, 0.0, 0.01, 0.001]),\n",
      " (nan, None, [0.0, 0.001, 0.01, 0.001])]\n",
      "No wall nearby.\n"
     ]
    },
    {
     "name": "stderr",
     "output_type": "stream",
     "text": [
      "  9%|▉         | 270/3000 [00:36<06:34,  6.92it/s]"
     ]
    },
    {
     "name": "stdout",
     "output_type": "stream",
     "text": [
      "[(nan, None, [0.0, 0.0, 0.0, 0.001]),\n",
      " (nan, None, [0.0, 0.0, 0.01, 0.0]),\n",
      " (nan, None, [0.01, 0.0, 0.01, 0.001]),\n",
      " (nan, None, [0.0, 0.001, 0.01, 0.001])]\n",
      "No wall nearby.\n",
      "[(nan, None, [0.0, 0.0, 0.0, 0.001]),\n",
      " (nan, None, [0.0, 0.0, 0.01, 0.0]),\n",
      " (nan, None, [0.01, 0.0, 0.01, 0.001]),\n",
      " (nan, None, [0.0, 0.001, 0.01, 0.001])]\n",
      "No wall nearby.\n"
     ]
    },
    {
     "name": "stderr",
     "output_type": "stream",
     "text": [
      "  9%|▉         | 272/3000 [00:37<06:29,  7.01it/s]"
     ]
    },
    {
     "name": "stdout",
     "output_type": "stream",
     "text": [
      "[(nan, None, [0.0, 0.0, 0.0, 0.001]),\n",
      " (nan, None, [0.0, 0.0, 0.01, 0.0]),\n",
      " (nan, None, [0.01, 0.0, 0.01, 0.001]),\n",
      " (nan, None, [0.0, 0.001, 0.01, 0.001])]\n",
      "No wall nearby.\n",
      "[(nan, None, [0.0, 0.0, 0.0, 0.001]),\n",
      " (nan, None, [0.0, 0.0, 0.01, 0.0]),\n",
      " (nan, None, [0.01, 0.0, 0.01, 0.001]),\n",
      " (nan, None, [0.0, 0.001, 0.01, 0.001])]\n",
      "No wall nearby.\n"
     ]
    },
    {
     "name": "stderr",
     "output_type": "stream",
     "text": [
      "  9%|▉         | 274/3000 [00:37<06:23,  7.11it/s]"
     ]
    },
    {
     "name": "stdout",
     "output_type": "stream",
     "text": [
      "[(nan, None, [0.0, 0.0, 0.0, 0.001]),\n",
      " (nan, None, [0.0, 0.0, 0.01, 0.0]),\n",
      " (nan, None, [0.01, 0.0, 0.01, 0.001]),\n",
      " (nan, None, [0.0, 0.001, 0.01, 0.001])]\n",
      "No wall nearby.\n",
      "[(nan, None, [0.0, 0.0, 0.0, 0.001]),\n",
      " (nan, None, [0.0, 0.0, 0.01, 0.0]),\n",
      " (nan, None, [0.01, 0.0, 0.01, 0.001]),\n",
      " (nan, None, [0.0, 0.001, 0.01, 0.001])]\n",
      "No wall nearby.\n"
     ]
    },
    {
     "name": "stderr",
     "output_type": "stream",
     "text": [
      "  9%|▉         | 276/3000 [00:37<06:48,  6.67it/s]"
     ]
    },
    {
     "name": "stdout",
     "output_type": "stream",
     "text": [
      "[(nan, None, [0.0, 0.0, 0.0, 0.001]),\n",
      " (nan, None, [0.0, 0.0, 0.01, 0.0]),\n",
      " (nan, None, [0.01, 0.0, 0.01, 0.001]),\n",
      " (nan, None, [0.0, 0.001, 0.01, 0.001])]\n",
      "No wall nearby.\n",
      "[(nan, None, [0.0, 0.0, 0.0, 0.001]),\n",
      " (nan, None, [0.0, 0.0, 0.01, 0.0]),\n",
      " (nan, None, [0.01, 0.0, 0.01, 0.001]),\n",
      " (nan, None, [0.0, 0.001, 0.01, 0.001])]\n",
      "No wall nearby.\n"
     ]
    },
    {
     "name": "stderr",
     "output_type": "stream",
     "text": [
      "  9%|▉         | 278/3000 [00:37<06:29,  6.98it/s]"
     ]
    },
    {
     "name": "stdout",
     "output_type": "stream",
     "text": [
      "[(nan, None, [0.0, 0.0, 0.0, 0.001]),\n",
      " (nan, None, [0.0, 0.0, 0.01, 0.0]),\n",
      " (nan, None, [0.01, 0.0, 0.01, 0.001]),\n",
      " (nan, None, [0.0, 0.001, 0.01, 0.001])]\n",
      "No wall nearby.\n",
      "[(nan, None, [0.0, 0.0, 0.0, 0.001]),\n",
      " (nan, None, [0.0, 0.0, 0.01, 0.0]),\n",
      " (nan, None, [0.01, 0.0, 0.01, 0.001]),\n",
      " (nan, None, [0.0, 0.001, 0.01, 0.001])]\n",
      "No wall nearby.\n"
     ]
    },
    {
     "name": "stderr",
     "output_type": "stream",
     "text": [
      "  9%|▉         | 280/3000 [00:38<06:17,  7.20it/s]"
     ]
    },
    {
     "name": "stdout",
     "output_type": "stream",
     "text": [
      "[(nan, None, [0.0, 0.0, 0.0, 0.001]),\n",
      " (nan, None, [0.0, 0.0, 0.01, 0.0]),\n",
      " (nan, None, [0.01, 0.0, 0.01, 0.001]),\n",
      " (nan, None, [0.0, 0.001, 0.01, 0.001])]\n",
      "No wall nearby.\n",
      "[(nan, None, [0.0, 0.0, 0.0, 0.001]),\n",
      " (nan, None, [0.0, 0.0, 0.01, 0.0]),\n",
      " (nan, None, [0.01, 0.0, 0.01, 0.001]),\n",
      " (nan, None, [0.0, 0.001, 0.01, 0.001])]\n",
      "No wall nearby.\n"
     ]
    },
    {
     "name": "stderr",
     "output_type": "stream",
     "text": [
      "  9%|▉         | 282/3000 [00:38<06:10,  7.35it/s]"
     ]
    },
    {
     "name": "stdout",
     "output_type": "stream",
     "text": [
      "[(nan, None, [0.0, 0.0, 0.0, 0.001]),\n",
      " (nan, None, [0.0, 0.0, 0.01, 0.0]),\n",
      " (nan, None, [0.01, 0.0, 0.01, 0.001]),\n",
      " (nan, None, [0.0, 0.001, 0.01, 0.001])]\n",
      "No wall nearby.\n",
      "[(nan, None, [0.0, 0.0, 0.0, 0.001]),\n",
      " (nan, None, [0.0, 0.0, 0.01, 0.0]),\n",
      " (nan, None, [0.01, 0.0, 0.01, 0.001]),\n",
      " (nan, None, [0.0, 0.001, 0.01, 0.001])]\n",
      "No wall nearby.\n"
     ]
    },
    {
     "name": "stderr",
     "output_type": "stream",
     "text": [
      "  9%|▉         | 284/3000 [00:38<06:27,  7.01it/s]"
     ]
    },
    {
     "name": "stdout",
     "output_type": "stream",
     "text": [
      "[(nan, None, [0.0, 0.0, 0.0, 0.001]),\n",
      " (nan, None, [0.0, 0.0, 0.01, 0.0]),\n",
      " (nan, None, [0.01, 0.0, 0.01, 0.001]),\n",
      " (nan, None, [0.0, 0.001, 0.01, 0.001])]\n",
      "No wall nearby.\n",
      "[(nan, None, [0.0, 0.0, 0.0, 0.001]),\n",
      " (nan, None, [0.0, 0.0, 0.01, 0.0]),\n",
      " (nan, None, [0.01, 0.0, 0.01, 0.001]),\n",
      " (nan, None, [0.0, 0.001, 0.01, 0.001])]\n",
      "No wall nearby.\n"
     ]
    },
    {
     "name": "stderr",
     "output_type": "stream",
     "text": [
      " 10%|▉         | 286/3000 [00:39<06:17,  7.18it/s]"
     ]
    },
    {
     "name": "stdout",
     "output_type": "stream",
     "text": [
      "[(nan, None, [0.0, 0.0, 0.0, 0.001]),\n",
      " (nan, None, [0.0, 0.0, 0.01, 0.0]),\n",
      " (nan, None, [0.01, 0.0, 0.01, 0.001]),\n",
      " (nan, None, [0.0, 0.001, 0.01, 0.001])]\n",
      "No wall nearby.\n",
      "[(nan, None, [0.0, 0.0, 0.0, 0.001]),\n",
      " (nan, None, [0.0, 0.0, 0.01, 0.0]),\n",
      " (nan, None, [0.01, 0.0, 0.01, 0.001]),\n",
      " (nan, None, [0.0, 0.001, 0.01, 0.001])]\n",
      "No wall nearby.\n"
     ]
    },
    {
     "name": "stderr",
     "output_type": "stream",
     "text": [
      " 10%|▉         | 288/3000 [00:39<06:11,  7.31it/s]"
     ]
    },
    {
     "name": "stdout",
     "output_type": "stream",
     "text": [
      "[(nan, None, [0.0, 0.0, 0.0, 0.001]),\n",
      " (nan, None, [0.0, 0.0, 0.01, 0.0]),\n",
      " (nan, None, [0.01, 0.0, 0.01, 0.001]),\n",
      " (nan, None, [0.0, 0.001, 0.01, 0.001])]\n",
      "No wall nearby.\n",
      "[(nan, None, [0.0, 0.0, 0.0, 0.001]),\n",
      " (nan, None, [0.0, 0.0, 0.01, 0.0]),\n",
      " (nan, None, [0.01, 0.0, 0.01, 0.001]),\n",
      " (nan, None, [0.0, 0.001, 0.01, 0.001])]\n",
      "No wall nearby.\n"
     ]
    },
    {
     "name": "stderr",
     "output_type": "stream",
     "text": [
      " 10%|▉         | 290/3000 [00:39<06:24,  7.04it/s]"
     ]
    },
    {
     "name": "stdout",
     "output_type": "stream",
     "text": [
      "[(nan, None, [0.0, 0.0, 0.0, 0.001]),\n",
      " (nan, None, [0.0, 0.0, 0.01, 0.0]),\n",
      " (nan, None, [0.01, 0.0, 0.01, 0.001]),\n",
      " (nan, None, [0.0, 0.001, 0.01, 0.001])]\n",
      "No wall nearby.\n",
      "[(nan, None, [0.0, 0.0, 0.0, 0.001]),\n",
      " (nan, None, [0.0, 0.0, 0.01, 0.0]),\n",
      " (nan, None, [0.01, 0.0, 0.01, 0.001]),\n",
      " (nan, None, [0.0, 0.001, 0.01, 0.001])]\n",
      "No wall nearby.\n"
     ]
    },
    {
     "name": "stderr",
     "output_type": "stream",
     "text": [
      " 10%|▉         | 292/3000 [00:39<06:14,  7.22it/s]"
     ]
    },
    {
     "name": "stdout",
     "output_type": "stream",
     "text": [
      "[(nan, None, [0.0, 0.0, 0.0, 0.001]),\n",
      " (nan, None, [0.0, 0.0, 0.01, 0.0]),\n",
      " (nan, None, [0.01, 0.0, 0.01, 0.001]),\n",
      " (nan, None, [0.0, 0.001, 0.01, 0.001])]\n",
      "No wall nearby.\n",
      "[(nan, None, [0.0, 0.0, 0.0, 0.001]),\n",
      " (nan, None, [0.0, 0.0, 0.01, 0.0]),\n",
      " (nan, None, [0.01, 0.0, 0.01, 0.001]),\n",
      " (nan, None, [0.0, 0.001, 0.01, 0.001])]\n",
      "No wall nearby.\n"
     ]
    },
    {
     "name": "stderr",
     "output_type": "stream",
     "text": [
      " 10%|▉         | 294/3000 [00:40<06:08,  7.34it/s]"
     ]
    },
    {
     "name": "stdout",
     "output_type": "stream",
     "text": [
      "[(nan, None, [0.0, 0.0, 0.0, 0.001]),\n",
      " (nan, None, [0.0, 0.0, 0.01, 0.0]),\n",
      " (nan, None, [0.01, 0.0, 0.01, 0.001]),\n",
      " (nan, None, [0.0, 0.001, 0.01, 0.001])]\n",
      "No wall nearby.\n",
      "[(nan, None, [0.0, 0.0, 0.0, 0.001]),\n",
      " (nan, None, [0.0, 0.0, 0.01, 0.0]),\n",
      " (nan, None, [0.01, 0.0, 0.01, 0.001]),\n",
      " (nan, None, [0.0, 0.001, 0.01, 0.001])]\n",
      "No wall nearby.\n"
     ]
    },
    {
     "name": "stderr",
     "output_type": "stream",
     "text": [
      " 10%|▉         | 296/3000 [00:40<06:22,  7.07it/s]"
     ]
    },
    {
     "name": "stdout",
     "output_type": "stream",
     "text": [
      "[(nan, None, [0.0, 0.0, 0.0, 0.001]),\n",
      " (nan, None, [0.0, 0.0, 0.01, 0.0]),\n",
      " (nan, None, [0.01, 0.0, 0.01, 0.001]),\n",
      " (nan, None, [0.0, 0.001, 0.01, 0.001])]\n",
      "No wall nearby.\n",
      "[(nan, None, [0.0, 0.0, 0.0, 0.001]),\n",
      " (nan, None, [0.0, 0.0, 0.01, 0.0]),\n",
      " (nan, None, [0.01, 0.0, 0.01, 0.001]),\n",
      " (nan, None, [0.0, 0.001, 0.01, 0.001])]\n",
      "No wall nearby.\n"
     ]
    },
    {
     "name": "stderr",
     "output_type": "stream",
     "text": [
      " 10%|▉         | 298/3000 [00:40<06:09,  7.32it/s]"
     ]
    },
    {
     "name": "stdout",
     "output_type": "stream",
     "text": [
      "[(nan, None, [0.0, 0.0, 0.0, 0.001]),\n",
      " (nan, None, [0.0, 0.0, 0.01, 0.0]),\n",
      " (nan, None, [0.01, 0.0, 0.01, 0.001]),\n",
      " (nan, None, [0.0, 0.001, 0.01, 0.001])]\n",
      "No wall nearby.\n",
      "[(nan, None, [0.0, 0.0, 0.0, 0.001]),\n",
      " (nan, None, [0.0, 0.0, 0.01, 0.0]),\n",
      " (nan, None, [0.01, 0.0, 0.01, 0.001]),\n",
      " (nan, None, [0.0, 0.001, 0.01, 0.001])]\n",
      "No wall nearby.\n"
     ]
    },
    {
     "name": "stderr",
     "output_type": "stream",
     "text": [
      " 10%|█         | 300/3000 [00:40<05:57,  7.56it/s]"
     ]
    },
    {
     "name": "stdout",
     "output_type": "stream",
     "text": [
      "[(nan, None, [0.0, 0.0, 0.0, 0.001]),\n",
      " (nan, None, [0.0, 0.0, 0.01, 0.0]),\n",
      " (nan, None, [0.01, 0.0, 0.01, 0.001]),\n",
      " (nan, None, [0.0, 0.001, 0.01, 0.001])]\n",
      "No wall nearby.\n",
      "[(nan, None, [0.0, 0.0, 0.0, 0.001]),\n",
      " (nan, None, [0.0, 0.0, 0.01, 0.0]),\n",
      " (nan, None, [0.01, 0.0, 0.01, 0.001]),\n",
      " (nan, None, [0.0, 0.001, 0.01, 0.001])]\n",
      "No wall nearby.\n"
     ]
    },
    {
     "name": "stderr",
     "output_type": "stream",
     "text": [
      " 10%|█         | 302/3000 [00:41<06:34,  6.85it/s]"
     ]
    },
    {
     "name": "stdout",
     "output_type": "stream",
     "text": [
      "[(nan, None, [0.0, 0.0, 0.0, 0.001]),\n",
      " (nan, None, [0.0, 0.0, 0.01, 0.0]),\n",
      " (nan, None, [0.01, 0.0, 0.01, 0.001]),\n",
      " (nan, None, [0.0, 0.001, 0.01, 0.001])]\n",
      "No wall nearby.\n",
      "[(nan, None, [0.0, 0.0, 0.0, 0.001]),\n",
      " (nan, None, [0.0, 0.0, 0.01, 0.0]),\n",
      " (nan, None, [0.01, 0.0, 0.01, 0.001]),\n",
      " (nan, None, [0.0, 0.001, 0.01, 0.001])]\n",
      "No wall nearby.\n"
     ]
    },
    {
     "name": "stderr",
     "output_type": "stream",
     "text": [
      " 10%|█         | 304/3000 [00:41<06:09,  7.30it/s]"
     ]
    },
    {
     "name": "stdout",
     "output_type": "stream",
     "text": [
      "[(nan, None, [0.0, 0.0, 0.0, 0.001]),\n",
      " (nan, None, [0.0, 0.0, 0.01, 0.0]),\n",
      " (nan, None, [0.01, 0.0, 0.01, 0.001]),\n",
      " (nan, None, [0.0, 0.001, 0.01, 0.001])]\n",
      "No wall nearby.\n",
      "[(nan, None, [0.0, 0.0, 0.0, 0.001]),\n",
      " (nan, None, [0.0, 0.0, 0.01, 0.0]),\n",
      " (nan, None, [0.01, 0.0, 0.01, 0.001]),\n",
      " (nan, None, [0.0, 0.001, 0.01, 0.001])]\n",
      "No wall nearby.\n"
     ]
    },
    {
     "name": "stderr",
     "output_type": "stream",
     "text": [
      " 10%|█         | 306/3000 [00:41<05:58,  7.52it/s]"
     ]
    },
    {
     "name": "stdout",
     "output_type": "stream",
     "text": [
      "[(nan, None, [0.0, 0.0, 0.0, 0.001]),\n",
      " (nan, None, [0.0, 0.0, 0.01, 0.0]),\n",
      " (nan, None, [0.01, 0.0, 0.01, 0.001]),\n",
      " (nan, None, [0.0, 0.001, 0.01, 0.001])]\n",
      "No wall nearby.\n",
      "[(nan, None, [0.0, 0.0, 0.0, 0.001]),\n",
      " (nan, None, [0.0, 0.0, 0.01, 0.0]),\n",
      " (nan, None, [0.01, 0.0, 0.01, 0.001]),\n",
      " (nan, None, [0.0, 0.001, 0.01, 0.001])]\n",
      "No wall nearby.\n"
     ]
    },
    {
     "name": "stderr",
     "output_type": "stream",
     "text": [
      " 10%|█         | 308/3000 [00:42<05:53,  7.61it/s]"
     ]
    },
    {
     "name": "stdout",
     "output_type": "stream",
     "text": [
      "[(nan, None, [0.0, 0.0, 0.0, 0.001]),\n",
      " (nan, None, [0.0, 0.0, 0.01, 0.0]),\n",
      " (nan, None, [0.01, 0.0, 0.01, 0.001]),\n",
      " (nan, None, [0.0, 0.001, 0.01, 0.001])]\n",
      "No wall nearby.\n",
      "[(nan, None, [0.0, 0.0, 0.0, 0.001]),\n",
      " (nan, None, [0.0, 0.0, 0.01, 0.0]),\n",
      " (nan, None, [0.01, 0.0, 0.01, 0.001]),\n",
      " (nan, None, [0.0, 0.001, 0.01, 0.001])]\n",
      "No wall nearby.\n"
     ]
    },
    {
     "name": "stderr",
     "output_type": "stream",
     "text": [
      " 10%|█         | 310/3000 [00:42<06:12,  7.21it/s]"
     ]
    },
    {
     "name": "stdout",
     "output_type": "stream",
     "text": [
      "[(nan, None, [0.0, 0.0, 0.0, 0.001]),\n",
      " (nan, None, [0.0, 0.0, 0.01, 0.0]),\n",
      " (nan, None, [0.01, 0.0, 0.01, 0.001]),\n",
      " (nan, None, [0.0, 0.001, 0.01, 0.001])]\n",
      "No wall nearby.\n",
      "[(nan, None, [0.0, 0.0, 0.0, 0.001]),\n",
      " (nan, None, [0.0, 0.0, 0.01, 0.0]),\n",
      " (nan, None, [0.01, 0.0, 0.01, 0.001]),\n",
      " (nan, None, [0.0, 0.001, 0.01, 0.001])]\n",
      "No wall nearby.\n"
     ]
    },
    {
     "name": "stderr",
     "output_type": "stream",
     "text": [
      " 10%|█         | 312/3000 [00:42<05:58,  7.50it/s]"
     ]
    },
    {
     "name": "stdout",
     "output_type": "stream",
     "text": [
      "[(nan, None, [0.0, 0.0, 0.0, 0.001]),\n",
      " (nan, None, [0.0, 0.0, 0.01, 0.0]),\n",
      " (nan, None, [0.01, 0.0, 0.01, 0.001]),\n",
      " (nan, None, [0.0, 0.001, 0.01, 0.001])]\n",
      "No wall nearby.\n",
      "[(nan, None, [0.0, 0.0, 0.0, 0.001]),\n",
      " (nan, None, [0.0, 0.0, 0.01, 0.0]),\n",
      " (nan, None, [0.01, 0.0, 0.01, 0.001]),\n",
      " (nan, None, [0.0, 0.001, 0.01, 0.001])]\n",
      "No wall nearby.\n"
     ]
    },
    {
     "name": "stderr",
     "output_type": "stream",
     "text": [
      " 10%|█         | 314/3000 [00:42<05:49,  7.69it/s]"
     ]
    },
    {
     "name": "stdout",
     "output_type": "stream",
     "text": [
      "[(nan, None, [0.0, 0.0, 0.0, 0.001]),\n",
      " (nan, None, [0.0, 0.0, 0.01, 0.0]),\n",
      " (nan, None, [0.01, 0.0, 0.01, 0.001]),\n",
      " (nan, None, [0.0, 0.001, 0.01, 0.001])]\n",
      "No wall nearby.\n",
      "[(nan, None, [0.0, 0.0, 0.0, 0.001]),\n",
      " (nan, None, [0.0, 0.0, 0.01, 0.0]),\n",
      " (nan, None, [0.01, 0.0, 0.01, 0.001]),\n",
      " (nan, None, [0.0, 0.001, 0.01, 0.001])]\n",
      "No wall nearby.\n"
     ]
    },
    {
     "name": "stderr",
     "output_type": "stream",
     "text": [
      " 11%|█         | 316/3000 [00:43<06:04,  7.36it/s]"
     ]
    },
    {
     "name": "stdout",
     "output_type": "stream",
     "text": [
      "[(nan, None, [0.0, 0.0, 0.0, 0.001]),\n",
      " (nan, None, [0.0, 0.0, 0.01, 0.0]),\n",
      " (nan, None, [0.01, 0.0, 0.01, 0.001]),\n",
      " (nan, None, [0.0, 0.001, 0.01, 0.001])]\n",
      "No wall nearby.\n",
      "[(nan, None, [0.0, 0.0, 0.0, 0.001]),\n",
      " (nan, None, [0.0, 0.0, 0.01, 0.0]),\n",
      " (nan, None, [0.01, 0.0, 0.01, 0.001]),\n",
      " (nan, None, [0.0, 0.001, 0.01, 0.001])]\n",
      "No wall nearby.\n"
     ]
    },
    {
     "name": "stderr",
     "output_type": "stream",
     "text": [
      " 11%|█         | 318/3000 [00:43<05:52,  7.61it/s]"
     ]
    },
    {
     "name": "stdout",
     "output_type": "stream",
     "text": [
      "[(nan, None, [0.0, 0.0, 0.0, 0.001]),\n",
      " (nan, None, [0.0, 0.0, 0.01, 0.0]),\n",
      " (nan, None, [0.01, 0.0, 0.01, 0.001]),\n",
      " (nan, None, [0.0, 0.001, 0.01, 0.001])]\n",
      "No wall nearby.\n",
      "[(nan, None, [0.0, 0.0, 0.0, 0.001]),\n",
      " (nan, None, [0.0, 0.0, 0.01, 0.0]),\n",
      " (nan, None, [0.01, 0.0, 0.01, 0.001]),\n",
      " (nan, None, [0.0, 0.001, 0.01, 0.001])]\n",
      "No wall nearby.\n"
     ]
    },
    {
     "name": "stderr",
     "output_type": "stream",
     "text": [
      " 11%|█         | 320/3000 [00:43<05:48,  7.68it/s]"
     ]
    },
    {
     "name": "stdout",
     "output_type": "stream",
     "text": [
      "[(nan, None, [0.0, 0.0, 0.0, 0.001]),\n",
      " (nan, None, [0.0, 0.0, 0.01, 0.0]),\n",
      " (nan, None, [0.01, 0.0, 0.01, 0.001]),\n",
      " (nan, None, [0.0, 0.001, 0.01, 0.001])]\n",
      "No wall nearby.\n",
      "[(nan, None, [0.0, 0.0, 0.0, 0.001]),\n",
      " (nan, None, [0.0, 0.0, 0.01, 0.0]),\n",
      " (nan, None, [0.01, 0.0, 0.01, 0.001]),\n",
      " (nan, None, [0.0, 0.001, 0.01, 0.001])]\n",
      "No wall nearby.\n"
     ]
    },
    {
     "name": "stderr",
     "output_type": "stream",
     "text": [
      " 11%|█         | 322/3000 [00:43<06:02,  7.39it/s]"
     ]
    },
    {
     "name": "stdout",
     "output_type": "stream",
     "text": [
      "[(nan, None, [0.0, 0.0, 0.0, 0.001]),\n",
      " (nan, None, [0.0, 0.0, 0.01, 0.0]),\n",
      " (nan, None, [0.01, 0.0, 0.01, 0.001]),\n",
      " (nan, None, [0.0, 0.001, 0.01, 0.001])]\n",
      "No wall nearby.\n",
      "[(nan, None, [0.0, 0.0, 0.0, 0.001]),\n",
      " (nan, None, [0.0, 0.0, 0.01, 0.0]),\n",
      " (nan, None, [0.01, 0.0, 0.01, 0.001]),\n",
      " (nan, None, [0.0, 0.001, 0.01, 0.001])]\n",
      "No wall nearby.\n"
     ]
    },
    {
     "name": "stderr",
     "output_type": "stream",
     "text": [
      " 11%|█         | 324/3000 [00:44<05:59,  7.44it/s]"
     ]
    },
    {
     "name": "stdout",
     "output_type": "stream",
     "text": [
      "[(nan, None, [0.0, 0.0, 0.0, 0.001]),\n",
      " (nan, None, [0.0, 0.0, 0.01, 0.0]),\n",
      " (nan, None, [0.01, 0.0, 0.01, 0.001]),\n",
      " (nan, None, [0.0, 0.001, 0.01, 0.001])]\n",
      "No wall nearby.\n",
      "[(nan, None, [0.0, 0.0, 0.0, 0.001]),\n",
      " (nan, None, [0.0, 0.0, 0.01, 0.0]),\n",
      " (nan, None, [0.01, 0.0, 0.01, 0.001]),\n",
      " (nan, None, [0.0, 0.001, 0.01, 0.001])]\n",
      "No wall nearby.\n"
     ]
    },
    {
     "name": "stderr",
     "output_type": "stream",
     "text": [
      " 11%|█         | 326/3000 [00:44<05:53,  7.57it/s]"
     ]
    },
    {
     "name": "stdout",
     "output_type": "stream",
     "text": [
      "[(nan, None, [0.0, 0.0, 0.0, 0.001]),\n",
      " (nan, None, [0.0, 0.0, 0.01, 0.0]),\n",
      " (nan, None, [0.01, 0.0, 0.01, 0.001]),\n",
      " (nan, None, [0.0, 0.001, 0.01, 0.001])]\n",
      "No wall nearby.\n",
      "[(nan, None, [0.0, 0.0, 0.0, 0.001]),\n",
      " (nan, None, [0.0, 0.0, 0.01, 0.0]),\n",
      " (nan, None, [0.01, 0.0, 0.01, 0.001]),\n",
      " (nan, None, [0.0, 0.001, 0.01, 0.001])]\n",
      "No wall nearby.\n"
     ]
    },
    {
     "name": "stderr",
     "output_type": "stream",
     "text": [
      " 11%|█         | 328/3000 [00:44<06:13,  7.16it/s]"
     ]
    },
    {
     "name": "stdout",
     "output_type": "stream",
     "text": [
      "[(nan, None, [0.0, 0.0, 0.0, 0.001]),\n",
      " (nan, None, [0.0, 0.0, 0.01, 0.0]),\n",
      " (nan, None, [0.01, 0.0, 0.01, 0.001]),\n",
      " (nan, None, [0.0, 0.001, 0.01, 0.001])]\n",
      "No wall nearby.\n",
      "[(nan, None, [0.0, 0.0, 0.0, 0.001]),\n",
      " (nan, None, [0.0, 0.0, 0.01, 0.0]),\n",
      " (nan, None, [0.01, 0.0, 0.01, 0.001]),\n",
      " (nan, None, [0.0, 0.001, 0.01, 0.001])]\n",
      "No wall nearby.\n"
     ]
    },
    {
     "name": "stderr",
     "output_type": "stream",
     "text": [
      " 11%|█         | 330/3000 [00:45<05:54,  7.54it/s]"
     ]
    },
    {
     "name": "stdout",
     "output_type": "stream",
     "text": [
      "[(nan, None, [0.0, 0.0, 0.0, 0.001]),\n",
      " (nan, None, [0.0, 0.0, 0.01, 0.0]),\n",
      " (nan, None, [0.01, 0.0, 0.01, 0.001]),\n",
      " (nan, None, [0.0, 0.001, 0.01, 0.001])]\n",
      "No wall nearby.\n",
      "[(nan, None, [0.0, 0.0, 0.0, 0.001]),\n",
      " (nan, None, [0.0, 0.0, 0.01, 0.0]),\n",
      " (nan, None, [0.01, 0.0, 0.01, 0.001]),\n",
      " (nan, None, [0.0, 0.001, 0.01, 0.001])]\n",
      "No wall nearby.\n"
     ]
    },
    {
     "name": "stderr",
     "output_type": "stream",
     "text": [
      " 11%|█         | 332/3000 [00:45<05:57,  7.47it/s]"
     ]
    },
    {
     "name": "stdout",
     "output_type": "stream",
     "text": [
      "[(nan, None, [0.0, 0.0, 0.0, 0.001]),\n",
      " (nan, None, [0.0, 0.0, 0.01, 0.0]),\n",
      " (nan, None, [0.01, 0.0, 0.01, 0.001]),\n",
      " (nan, None, [0.0, 0.001, 0.01, 0.001])]\n",
      "No wall nearby.\n",
      "[(nan, None, [0.0, 0.0, 0.0, 0.001]),\n",
      " (nan, None, [0.0, 0.0, 0.01, 0.0]),\n",
      " (nan, None, [0.01, 0.0, 0.01, 0.001]),\n",
      " (nan, None, [0.0, 0.001, 0.01, 0.001])]\n",
      "No wall nearby.\n"
     ]
    },
    {
     "name": "stderr",
     "output_type": "stream",
     "text": [
      " 11%|█         | 334/3000 [00:45<05:56,  7.48it/s]"
     ]
    },
    {
     "name": "stdout",
     "output_type": "stream",
     "text": [
      "[(nan, None, [0.0, 0.0, 0.0, 0.001]),\n",
      " (nan, None, [0.0, 0.0, 0.01, 0.0]),\n",
      " (nan, None, [0.01, 0.0, 0.01, 0.001]),\n",
      " (nan, None, [0.0, 0.001, 0.01, 0.001])]\n",
      "No wall nearby.\n",
      "[(nan, None, [0.0, 0.0, 0.0, 0.001]),\n",
      " (nan, None, [0.0, 0.0, 0.01, 0.0]),\n",
      " (nan, None, [0.01, 0.0, 0.01, 0.001]),\n",
      " (nan, None, [0.0, 0.001, 0.01, 0.001])]\n",
      "No wall nearby.\n"
     ]
    },
    {
     "name": "stderr",
     "output_type": "stream",
     "text": [
      " 11%|█         | 336/3000 [00:45<06:16,  7.07it/s]"
     ]
    },
    {
     "name": "stdout",
     "output_type": "stream",
     "text": [
      "[(nan, None, [0.0, 0.0, 0.0, 0.001]),\n",
      " (nan, None, [0.0, 0.0, 0.01, 0.0]),\n",
      " (nan, None, [0.01, 0.0, 0.01, 0.001]),\n",
      " (nan, None, [0.0, 0.001, 0.01, 0.001])]\n",
      "No wall nearby.\n",
      "[(nan, None, [0.0, 0.0, 0.0, 0.001]),\n",
      " (nan, None, [0.0, 0.0, 0.01, 0.0]),\n",
      " (nan, None, [0.01, 0.0, 0.01, 0.001]),\n",
      " (nan, None, [0.0, 0.001, 0.01, 0.001])]\n",
      "No wall nearby.\n"
     ]
    },
    {
     "name": "stderr",
     "output_type": "stream",
     "text": [
      " 11%|█▏        | 338/3000 [00:46<06:00,  7.39it/s]"
     ]
    },
    {
     "name": "stdout",
     "output_type": "stream",
     "text": [
      "[(nan, None, [0.0, 0.0, 0.0, 0.001]),\n",
      " (nan, None, [0.0, 0.0, 0.01, 0.0]),\n",
      " (nan, None, [0.01, 0.0, 0.01, 0.001]),\n",
      " (nan, None, [0.0, 0.001, 0.01, 0.001])]\n",
      "No wall nearby.\n",
      "[(nan, None, [0.0, 0.0, 0.0, 0.001]),\n",
      " (nan, None, [0.0, 0.0, 0.01, 0.0]),\n",
      " (nan, None, [0.01, 0.0, 0.01, 0.001]),\n",
      " (nan, None, [0.0, 0.001, 0.01, 0.001])]\n",
      "No wall nearby.\n"
     ]
    },
    {
     "name": "stderr",
     "output_type": "stream",
     "text": [
      " 11%|█▏        | 340/3000 [00:46<05:53,  7.53it/s]"
     ]
    },
    {
     "name": "stdout",
     "output_type": "stream",
     "text": [
      "[(nan, None, [0.0, 0.0, 0.0, 0.001]),\n",
      " (nan, None, [0.0, 0.0, 0.01, 0.0]),\n",
      " (nan, None, [0.01, 0.0, 0.01, 0.001]),\n",
      " (nan, None, [0.0, 0.001, 0.01, 0.001])]\n",
      "No wall nearby.\n",
      "[(nan, None, [0.0, 0.0, 0.0, 0.001]),\n",
      " (nan, None, [0.0, 0.0, 0.01, 0.0]),\n",
      " (nan, None, [0.01, 0.0, 0.01, 0.001]),\n",
      " (nan, None, [0.0, 0.001, 0.01, 0.001])]\n",
      "No wall nearby.\n"
     ]
    },
    {
     "name": "stderr",
     "output_type": "stream",
     "text": [
      " 11%|█▏        | 342/3000 [00:46<06:07,  7.24it/s]"
     ]
    },
    {
     "name": "stdout",
     "output_type": "stream",
     "text": [
      "[(nan, None, [0.0, 0.0, 0.0, 0.001]),\n",
      " (nan, None, [0.0, 0.0, 0.01, 0.0]),\n",
      " (nan, None, [0.01, 0.0, 0.01, 0.001]),\n",
      " (nan, None, [0.0, 0.001, 0.01, 0.001])]\n",
      "No wall nearby.\n",
      "[(nan, None, [0.0, 0.0, 0.0, 0.001]),\n",
      " (nan, None, [0.0, 0.0, 0.01, 0.0]),\n",
      " (nan, None, [0.01, 0.0, 0.01, 0.001]),\n",
      " (nan, None, [0.0, 0.001, 0.01, 0.001])]\n",
      "No wall nearby.\n"
     ]
    },
    {
     "name": "stderr",
     "output_type": "stream",
     "text": [
      " 11%|█▏        | 344/3000 [00:46<06:00,  7.36it/s]"
     ]
    },
    {
     "name": "stdout",
     "output_type": "stream",
     "text": [
      "[(nan, None, [0.0, 0.0, 0.0, 0.001]),\n",
      " (nan, None, [0.0, 0.0, 0.01, 0.0]),\n",
      " (nan, None, [0.01, 0.0, 0.01, 0.001]),\n",
      " (nan, None, [0.0, 0.001, 0.01, 0.001])]\n",
      "No wall nearby.\n",
      "[(nan, None, [0.0, 0.0, 0.0, 0.001]),\n",
      " (nan, None, [0.0, 0.0, 0.01, 0.0]),\n",
      " (nan, None, [0.01, 0.0, 0.01, 0.001]),\n",
      " (nan, None, [0.0, 0.001, 0.01, 0.001])]\n",
      "No wall nearby.\n"
     ]
    },
    {
     "name": "stderr",
     "output_type": "stream",
     "text": [
      " 12%|█▏        | 346/3000 [00:47<06:01,  7.34it/s]"
     ]
    },
    {
     "name": "stdout",
     "output_type": "stream",
     "text": [
      "[(nan, None, [0.0, 0.0, 0.0, 0.001]),\n",
      " (nan, None, [0.0, 0.0, 0.01, 0.0]),\n",
      " (nan, None, [0.01, 0.0, 0.01, 0.001]),\n",
      " (nan, None, [0.0, 0.001, 0.01, 0.001])]\n",
      "No wall nearby.\n",
      "[(nan, None, [0.0, 0.0, 0.0, 0.001]),\n",
      " (nan, None, [0.0, 0.0, 0.01, 0.0]),\n",
      " (nan, None, [0.01, 0.0, 0.01, 0.001]),\n",
      " (nan, None, [0.0, 0.001, 0.01, 0.001])]\n",
      "No wall nearby.\n"
     ]
    },
    {
     "name": "stderr",
     "output_type": "stream",
     "text": [
      " 12%|█▏        | 348/3000 [00:47<06:24,  6.89it/s]"
     ]
    },
    {
     "name": "stdout",
     "output_type": "stream",
     "text": [
      "[(nan, None, [0.0, 0.0, 0.0, 0.001]),\n",
      " (nan, None, [0.0, 0.0, 0.01, 0.0]),\n",
      " (nan, None, [0.01, 0.0, 0.01, 0.001]),\n",
      " (nan, None, [0.0, 0.001, 0.01, 0.001])]\n",
      "No wall nearby.\n",
      "[(nan, None, [0.0, 0.0, 0.0, 0.001]),\n",
      " (nan, None, [0.0, 0.0, 0.01, 0.0]),\n",
      " (nan, None, [0.01, 0.0, 0.01, 0.001]),\n",
      " (nan, None, [0.0, 0.001, 0.01, 0.001])]\n",
      "No wall nearby.\n"
     ]
    },
    {
     "name": "stderr",
     "output_type": "stream",
     "text": [
      " 12%|█▏        | 350/3000 [00:47<06:08,  7.20it/s]"
     ]
    },
    {
     "name": "stdout",
     "output_type": "stream",
     "text": [
      "[(nan, None, [0.0, 0.0, 0.0, 0.001]),\n",
      " (nan, None, [0.0, 0.0, 0.01, 0.0]),\n",
      " (nan, None, [0.01, 0.0, 0.01, 0.001]),\n",
      " (nan, None, [0.0, 0.001, 0.01, 0.001])]\n",
      "No wall nearby.\n",
      "[(nan, None, [0.0, 0.0, 0.0, 0.001]),\n",
      " (nan, None, [0.0, 0.0, 0.01, 0.0]),\n",
      " (nan, None, [0.01, 0.0, 0.01, 0.001]),\n",
      " (nan, None, [0.0, 0.001, 0.01, 0.001])]\n",
      "No wall nearby.\n"
     ]
    },
    {
     "name": "stderr",
     "output_type": "stream",
     "text": [
      " 12%|█▏        | 352/3000 [00:48<06:00,  7.34it/s]"
     ]
    },
    {
     "name": "stdout",
     "output_type": "stream",
     "text": [
      "[(nan, None, [0.0, 0.0, 0.0, 0.001]),\n",
      " (nan, None, [0.0, 0.0, 0.01, 0.0]),\n",
      " (nan, None, [0.01, 0.0, 0.01, 0.001]),\n",
      " (nan, None, [0.0, 0.001, 0.01, 0.001])]\n",
      "No wall nearby.\n",
      "[(nan, None, [0.0, 0.0, 0.0, 0.001]),\n",
      " (nan, None, [0.0, 0.0, 0.01, 0.0]),\n",
      " (nan, None, [0.01, 0.0, 0.01, 0.001]),\n",
      " (nan, None, [0.0, 0.001, 0.01, 0.001])]\n",
      "No wall nearby.\n"
     ]
    },
    {
     "name": "stderr",
     "output_type": "stream",
     "text": [
      " 12%|█▏        | 354/3000 [00:48<06:22,  6.92it/s]"
     ]
    },
    {
     "name": "stdout",
     "output_type": "stream",
     "text": [
      "[(nan, None, [0.0, 0.0, 0.0, 0.001]),\n",
      " (nan, None, [0.0, 0.0, 0.01, 0.0]),\n",
      " (nan, None, [0.01, 0.0, 0.01, 0.001]),\n",
      " (nan, None, [0.0, 0.001, 0.01, 0.001])]\n",
      "No wall nearby.\n",
      "[(nan, None, [0.0, 0.0, 0.0, 0.001]),\n",
      " (nan, None, [0.0, 0.0, 0.01, 0.0]),\n",
      " (nan, None, [0.01, 0.0, 0.01, 0.001]),\n",
      " (nan, None, [0.0, 0.001, 0.01, 0.001])]\n",
      "No wall nearby.\n"
     ]
    },
    {
     "name": "stderr",
     "output_type": "stream",
     "text": [
      " 12%|█▏        | 356/3000 [00:48<06:04,  7.26it/s]"
     ]
    },
    {
     "name": "stdout",
     "output_type": "stream",
     "text": [
      "[(nan, None, [0.0, 0.0, 0.0, 0.001]),\n",
      " (nan, None, [0.0, 0.0, 0.01, 0.0]),\n",
      " (nan, None, [0.01, 0.0, 0.01, 0.001]),\n",
      " (nan, None, [0.0, 0.001, 0.01, 0.001])]\n",
      "No wall nearby.\n",
      "[(nan, None, [0.0, 0.0, 0.0, 0.001]),\n",
      " (nan, None, [0.0, 0.0, 0.01, 0.0]),\n",
      " (nan, None, [0.01, 0.0, 0.01, 0.001]),\n",
      " (nan, None, [0.0, 0.001, 0.01, 0.001])]\n",
      "No wall nearby.\n"
     ]
    },
    {
     "name": "stderr",
     "output_type": "stream",
     "text": [
      " 12%|█▏        | 358/3000 [00:48<05:51,  7.52it/s]"
     ]
    },
    {
     "name": "stdout",
     "output_type": "stream",
     "text": [
      "[(nan, None, [0.0, 0.0, 0.0, 0.001]),\n",
      " (nan, None, [0.0, 0.0, 0.01, 0.0]),\n",
      " (nan, None, [0.01, 0.0, 0.01, 0.001]),\n",
      " (nan, None, [0.0, 0.001, 0.01, 0.001])]\n",
      "No wall nearby.\n",
      "[(nan, None, [0.0, 0.0, 0.0, 0.001]),\n",
      " (nan, None, [0.0, 0.0, 0.01, 0.0]),\n",
      " (nan, None, [0.01, 0.0, 0.01, 0.001]),\n",
      " (nan, None, [0.0, 0.001, 0.01, 0.001])]\n",
      "No wall nearby.\n"
     ]
    },
    {
     "name": "stderr",
     "output_type": "stream",
     "text": [
      " 12%|█▏        | 360/3000 [00:49<05:43,  7.68it/s]"
     ]
    },
    {
     "name": "stdout",
     "output_type": "stream",
     "text": [
      "[(nan, None, [0.0, 0.0, 0.0, 0.001]),\n",
      " (nan, None, [0.0, 0.0, 0.01, 0.0]),\n",
      " (nan, None, [0.01, 0.0, 0.01, 0.001]),\n",
      " (nan, None, [0.0, 0.001, 0.01, 0.001])]\n",
      "No wall nearby.\n",
      "[(nan, None, [0.0, 0.0, 0.0, 0.001]),\n",
      " (nan, None, [0.0, 0.0, 0.01, 0.0]),\n",
      " (nan, None, [0.01, 0.0, 0.01, 0.001]),\n",
      " (nan, None, [0.0, 0.001, 0.01, 0.001])]\n",
      "No wall nearby.\n"
     ]
    },
    {
     "name": "stderr",
     "output_type": "stream",
     "text": [
      " 12%|█▏        | 362/3000 [00:49<05:56,  7.39it/s]"
     ]
    },
    {
     "name": "stdout",
     "output_type": "stream",
     "text": [
      "[(nan, None, [0.0, 0.0, 0.0, 0.001]),\n",
      " (nan, None, [0.0, 0.0, 0.01, 0.0]),\n",
      " (nan, None, [0.01, 0.0, 0.01, 0.001]),\n",
      " (nan, None, [0.0, 0.001, 0.01, 0.001])]\n",
      "No wall nearby.\n",
      "[(nan, None, [0.0, 0.0, 0.0, 0.001]),\n",
      " (nan, None, [0.0, 0.0, 0.01, 0.0]),\n",
      " (nan, None, [0.01, 0.0, 0.01, 0.001]),\n",
      " (nan, None, [0.0, 0.001, 0.01, 0.001])]\n",
      "No wall nearby.\n"
     ]
    },
    {
     "name": "stderr",
     "output_type": "stream",
     "text": [
      " 12%|█▏        | 364/3000 [00:49<05:49,  7.54it/s]"
     ]
    },
    {
     "name": "stdout",
     "output_type": "stream",
     "text": [
      "[(nan, None, [0.0, 0.0, 0.0, 0.001]),\n",
      " (nan, None, [0.0, 0.0, 0.01, 0.0]),\n",
      " (nan, None, [0.01, 0.0, 0.01, 0.001]),\n",
      " (nan, None, [0.0, 0.001, 0.01, 0.001])]\n",
      "No wall nearby.\n",
      "[(nan, None, [0.0, 0.0, 0.0, 0.001]),\n",
      " (nan, None, [0.0, 0.0, 0.01, 0.0]),\n",
      " (nan, None, [0.01, 0.0, 0.01, 0.001]),\n",
      " (nan, None, [0.0, 0.001, 0.01, 0.001])]\n",
      "No wall nearby.\n"
     ]
    },
    {
     "name": "stderr",
     "output_type": "stream",
     "text": [
      " 12%|█▏        | 366/3000 [00:49<05:48,  7.57it/s]"
     ]
    },
    {
     "name": "stdout",
     "output_type": "stream",
     "text": [
      "[(nan, None, [0.0, 0.0, 0.0, 0.001]),\n",
      " (nan, None, [0.0, 0.0, 0.01, 0.0]),\n",
      " (nan, None, [0.01, 0.0, 0.01, 0.001]),\n",
      " (nan, None, [0.0, 0.001, 0.01, 0.001])]\n",
      "No wall nearby.\n",
      "[(nan, None, [0.0, 0.0, 0.0, 0.001]),\n",
      " (nan, None, [0.0, 0.0, 0.01, 0.0]),\n",
      " (nan, None, [0.01, 0.0, 0.01, 0.001]),\n",
      " (nan, None, [0.0, 0.001, 0.01, 0.001])]\n",
      "No wall nearby.\n"
     ]
    },
    {
     "name": "stderr",
     "output_type": "stream",
     "text": [
      " 12%|█▏        | 368/3000 [00:50<06:06,  7.19it/s]"
     ]
    },
    {
     "name": "stdout",
     "output_type": "stream",
     "text": [
      "[(nan, None, [0.0, 0.0, 0.0, 0.001]),\n",
      " (nan, None, [0.0, 0.0, 0.01, 0.0]),\n",
      " (nan, None, [0.01, 0.0, 0.01, 0.001]),\n",
      " (nan, None, [0.0, 0.001, 0.01, 0.001])]\n",
      "No wall nearby.\n",
      "[(nan, None, [0.0, 0.0, 0.0, 0.001]),\n",
      " (nan, None, [0.0, 0.0, 0.01, 0.0]),\n",
      " (nan, None, [0.01, 0.0, 0.01, 0.001]),\n",
      " (nan, None, [0.0, 0.001, 0.01, 0.001])]\n",
      "No wall nearby.\n"
     ]
    },
    {
     "name": "stderr",
     "output_type": "stream",
     "text": [
      " 12%|█▏        | 370/3000 [00:50<05:57,  7.35it/s]"
     ]
    },
    {
     "name": "stdout",
     "output_type": "stream",
     "text": [
      "[(nan, None, [0.0, 0.0, 0.0, 0.001]),\n",
      " (nan, None, [0.0, 0.0, 0.01, 0.0]),\n",
      " (nan, None, [0.01, 0.0, 0.01, 0.001]),\n",
      " (nan, None, [0.0, 0.001, 0.01, 0.001])]\n",
      "No wall nearby.\n",
      "[(nan, None, [0.0, 0.0, 0.0, 0.001]),\n",
      " (nan, None, [0.0, 0.0, 0.01, 0.0]),\n",
      " (nan, None, [0.01, 0.0, 0.01, 0.001]),\n",
      " (nan, None, [0.0, 0.001, 0.01, 0.001])]\n",
      "No wall nearby.\n"
     ]
    },
    {
     "name": "stderr",
     "output_type": "stream",
     "text": [
      " 12%|█▏        | 372/3000 [00:50<05:57,  7.36it/s]"
     ]
    },
    {
     "name": "stdout",
     "output_type": "stream",
     "text": [
      "[(nan, None, [0.0, 0.0, 0.0, 0.001]),\n",
      " (nan, None, [0.0, 0.0, 0.01, 0.0]),\n",
      " (nan, None, [0.01, 0.0, 0.01, 0.001]),\n",
      " (nan, None, [0.0, 0.001, 0.01, 0.001])]\n",
      "No wall nearby.\n",
      "[(nan, None, [0.0, 0.0, 0.0, 0.001]),\n",
      " (nan, None, [0.0, 0.0, 0.01, 0.0]),\n",
      " (nan, None, [0.01, 0.0, 0.01, 0.001]),\n",
      " (nan, None, [0.0, 0.001, 0.01, 0.001])]\n",
      "No wall nearby.\n"
     ]
    },
    {
     "name": "stderr",
     "output_type": "stream",
     "text": [
      " 12%|█▏        | 374/3000 [00:51<06:16,  6.98it/s]"
     ]
    },
    {
     "name": "stdout",
     "output_type": "stream",
     "text": [
      "[(nan, None, [0.0, 0.0, 0.0, 0.001]),\n",
      " (nan, None, [0.0, 0.0, 0.01, 0.0]),\n",
      " (nan, None, [0.01, 0.0, 0.01, 0.001]),\n",
      " (nan, None, [0.0, 0.001, 0.01, 0.001])]\n",
      "No wall nearby.\n",
      "[(nan, None, [0.0, 0.0, 0.0, 0.001]),\n",
      " (nan, None, [0.0, 0.0, 0.01, 0.0]),\n",
      " (nan, None, [0.01, 0.0, 0.01, 0.001]),\n",
      " (nan, None, [0.0, 0.001, 0.01, 0.001])]\n",
      "No wall nearby.\n"
     ]
    },
    {
     "name": "stderr",
     "output_type": "stream",
     "text": [
      " 13%|█▎        | 376/3000 [00:51<06:04,  7.21it/s]"
     ]
    },
    {
     "name": "stdout",
     "output_type": "stream",
     "text": [
      "[(nan, None, [0.0, 0.0, 0.0, 0.001]),\n",
      " (nan, None, [0.0, 0.0, 0.01, 0.0]),\n",
      " (nan, None, [0.01, 0.0, 0.01, 0.001]),\n",
      " (nan, None, [0.0, 0.001, 0.01, 0.001])]\n",
      "No wall nearby.\n",
      "[(nan, None, [0.0, 0.0, 0.0, 0.001]),\n",
      " (nan, None, [0.0, 0.0, 0.01, 0.0]),\n",
      " (nan, None, [0.01, 0.0, 0.01, 0.001]),\n",
      " (nan, None, [0.0, 0.001, 0.01, 0.001])]\n",
      "No wall nearby.\n"
     ]
    },
    {
     "name": "stderr",
     "output_type": "stream",
     "text": [
      " 13%|█▎        | 378/3000 [00:51<05:57,  7.33it/s]"
     ]
    },
    {
     "name": "stdout",
     "output_type": "stream",
     "text": [
      "[(nan, None, [0.0, 0.0, 0.0, 0.001]),\n",
      " (nan, None, [0.0, 0.0, 0.01, 0.0]),\n",
      " (nan, None, [0.01, 0.0, 0.01, 0.001]),\n",
      " (nan, None, [0.0, 0.001, 0.01, 0.001])]\n",
      "No wall nearby.\n",
      "[(nan, None, [0.0, 0.0, 0.0, 0.001]),\n",
      " (nan, None, [0.0, 0.0, 0.01, 0.0]),\n",
      " (nan, None, [0.01, 0.0, 0.01, 0.001]),\n",
      " (nan, None, [0.0, 0.001, 0.01, 0.001])]\n",
      "No wall nearby.\n"
     ]
    },
    {
     "name": "stderr",
     "output_type": "stream",
     "text": [
      " 13%|█▎        | 380/3000 [00:51<06:16,  6.96it/s]"
     ]
    },
    {
     "name": "stdout",
     "output_type": "stream",
     "text": [
      "[(nan, None, [0.0, 0.0, 0.0, 0.001]),\n",
      " (nan, None, [0.0, 0.0, 0.01, 0.0]),\n",
      " (nan, None, [0.01, 0.0, 0.01, 0.001]),\n",
      " (nan, None, [0.0, 0.001, 0.01, 0.001])]\n",
      "No wall nearby.\n",
      "[(nan, None, [0.0, 0.0, 0.0, 0.001]),\n",
      " (nan, None, [0.0, 0.0, 0.01, 0.0]),\n",
      " (nan, None, [0.01, 0.0, 0.01, 0.001]),\n",
      " (nan, None, [0.0, 0.001, 0.01, 0.001])]\n",
      "No wall nearby.\n"
     ]
    },
    {
     "name": "stderr",
     "output_type": "stream",
     "text": [
      " 13%|█▎        | 382/3000 [00:52<05:57,  7.33it/s]"
     ]
    },
    {
     "name": "stdout",
     "output_type": "stream",
     "text": [
      "[(nan, None, [0.0, 0.0, 0.0, 0.001]),\n",
      " (nan, None, [0.0, 0.0, 0.01, 0.0]),\n",
      " (nan, None, [0.01, 0.0, 0.01, 0.001]),\n",
      " (nan, None, [0.0, 0.001, 0.01, 0.001])]\n",
      "No wall nearby.\n",
      "[(nan, None, [0.0, 0.0, 0.0, 0.001]),\n",
      " (nan, None, [0.0, 0.0, 0.01, 0.0]),\n",
      " (nan, None, [0.01, 0.0, 0.01, 0.001]),\n",
      " (nan, None, [0.0, 0.001, 0.01, 0.001])]\n",
      "No wall nearby.\n"
     ]
    },
    {
     "name": "stderr",
     "output_type": "stream",
     "text": [
      " 13%|█▎        | 384/3000 [00:52<05:54,  7.38it/s]"
     ]
    },
    {
     "name": "stdout",
     "output_type": "stream",
     "text": [
      "[(nan, None, [0.0, 0.0, 0.0, 0.001]),\n",
      " (nan, None, [0.0, 0.0, 0.01, 0.0]),\n",
      " (nan, None, [0.01, 0.0, 0.01, 0.001]),\n",
      " (nan, None, [0.0, 0.001, 0.01, 0.001])]\n",
      "No wall nearby.\n",
      "[(nan, None, [0.0, 0.0, 0.0, 0.001]),\n",
      " (nan, None, [0.0, 0.0, 0.01, 0.0]),\n",
      " (nan, None, [0.01, 0.0, 0.01, 0.001]),\n",
      " (nan, None, [0.0, 0.001, 0.01, 0.001])]\n",
      "No wall nearby.\n"
     ]
    },
    {
     "name": "stderr",
     "output_type": "stream",
     "text": [
      " 13%|█▎        | 386/3000 [00:52<05:52,  7.42it/s]"
     ]
    },
    {
     "name": "stdout",
     "output_type": "stream",
     "text": [
      "[(nan, None, [0.0, 0.0, 0.0, 0.001]),\n",
      " (nan, None, [0.0, 0.0, 0.01, 0.0]),\n",
      " (nan, None, [0.01, 0.0, 0.01, 0.001]),\n",
      " (nan, None, [0.0, 0.001, 0.01, 0.001])]\n",
      "No wall nearby.\n",
      "[(nan, None, [0.0, 0.0, 0.0, 0.001]),\n",
      " (nan, None, [0.0, 0.0, 0.01, 0.0]),\n",
      " (nan, None, [0.01, 0.0, 0.01, 0.001]),\n",
      " (nan, None, [0.0, 0.001, 0.01, 0.001])]\n",
      "No wall nearby.\n"
     ]
    },
    {
     "name": "stderr",
     "output_type": "stream",
     "text": [
      " 13%|█▎        | 388/3000 [00:53<06:09,  7.06it/s]"
     ]
    },
    {
     "name": "stdout",
     "output_type": "stream",
     "text": [
      "[(nan, None, [0.0, 0.0, 0.0, 0.001]),\n",
      " (nan, None, [0.0, 0.0, 0.01, 0.0]),\n",
      " (nan, None, [0.01, 0.0, 0.01, 0.001]),\n",
      " (nan, None, [0.0, 0.001, 0.01, 0.001])]\n",
      "No wall nearby.\n",
      "[(nan, None, [0.0, 0.0, 0.0, 0.001]),\n",
      " (nan, None, [0.0, 0.0, 0.01, 0.0]),\n",
      " (nan, None, [0.01, 0.0, 0.01, 0.001]),\n",
      " (nan, None, [0.0, 0.001, 0.01, 0.001])]\n",
      "No wall nearby.\n"
     ]
    },
    {
     "name": "stderr",
     "output_type": "stream",
     "text": [
      " 13%|█▎        | 390/3000 [00:53<05:58,  7.27it/s]"
     ]
    },
    {
     "name": "stdout",
     "output_type": "stream",
     "text": [
      "[(nan, None, [0.0, 0.0, 0.0, 0.001]),\n",
      " (nan, None, [0.0, 0.0, 0.01, 0.0]),\n",
      " (nan, None, [0.01, 0.0, 0.01, 0.001]),\n",
      " (nan, None, [0.0, 0.001, 0.01, 0.001])]\n",
      "No wall nearby.\n",
      "[(nan, None, [0.0, 0.0, 0.0, 0.001]),\n",
      " (nan, None, [0.0, 0.0, 0.01, 0.0]),\n",
      " (nan, None, [0.01, 0.0, 0.01, 0.001]),\n",
      " (nan, None, [0.0, 0.001, 0.01, 0.001])]\n",
      "No wall nearby.\n"
     ]
    },
    {
     "name": "stderr",
     "output_type": "stream",
     "text": [
      " 13%|█▎        | 392/3000 [00:53<05:57,  7.30it/s]"
     ]
    },
    {
     "name": "stdout",
     "output_type": "stream",
     "text": [
      "[(nan, None, [0.0, 0.0, 0.0, 0.001]),\n",
      " (nan, None, [0.0, 0.0, 0.01, 0.0]),\n",
      " (nan, None, [0.01, 0.0, 0.01, 0.001]),\n",
      " (nan, None, [0.0, 0.001, 0.01, 0.001])]\n",
      "No wall nearby.\n",
      "[(nan, None, [0.0, 0.0, 0.0, 0.001]),\n",
      " (nan, None, [0.0, 0.0, 0.01, 0.0]),\n",
      " (nan, None, [0.01, 0.0, 0.01, 0.001]),\n",
      " (nan, None, [0.0, 0.001, 0.01, 0.001])]\n",
      "No wall nearby.\n"
     ]
    },
    {
     "name": "stderr",
     "output_type": "stream",
     "text": [
      " 13%|█▎        | 394/3000 [00:53<06:15,  6.95it/s]"
     ]
    },
    {
     "name": "stdout",
     "output_type": "stream",
     "text": [
      "[(nan, None, [0.0, 0.0, 0.0, 0.001]),\n",
      " (nan, None, [0.0, 0.0, 0.01, 0.0]),\n",
      " (nan, None, [0.01, 0.0, 0.01, 0.001]),\n",
      " (nan, None, [0.0, 0.001, 0.01, 0.001])]\n",
      "No wall nearby.\n",
      "[(nan, None, [0.0, 0.0, 0.0, 0.001]),\n",
      " (nan, None, [0.0, 0.0, 0.01, 0.0]),\n",
      " (nan, None, [0.01, 0.0, 0.01, 0.001]),\n",
      " (nan, None, [0.0, 0.001, 0.01, 0.001])]\n",
      "No wall nearby.\n"
     ]
    },
    {
     "name": "stderr",
     "output_type": "stream",
     "text": [
      " 13%|█▎        | 396/3000 [00:54<06:05,  7.12it/s]"
     ]
    },
    {
     "name": "stdout",
     "output_type": "stream",
     "text": [
      "[(nan, None, [0.0, 0.0, 0.0, 0.001]),\n",
      " (nan, None, [0.0, 0.0, 0.01, 0.0]),\n",
      " (nan, None, [0.01, 0.0, 0.01, 0.001]),\n",
      " (nan, None, [0.0, 0.001, 0.01, 0.001])]\n",
      "No wall nearby.\n",
      "[(nan, None, [0.0, 0.0, 0.0, 0.001]),\n",
      " (nan, None, [0.0, 0.0, 0.01, 0.0]),\n",
      " (nan, None, [0.01, 0.0, 0.01, 0.001]),\n",
      " (nan, None, [0.0, 0.001, 0.01, 0.001])]\n",
      "No wall nearby.\n"
     ]
    },
    {
     "name": "stderr",
     "output_type": "stream",
     "text": [
      " 13%|█▎        | 398/3000 [00:54<06:03,  7.15it/s]"
     ]
    },
    {
     "name": "stdout",
     "output_type": "stream",
     "text": [
      "[(nan, None, [0.0, 0.0, 0.0, 0.001]),\n",
      " (nan, None, [0.0, 0.0, 0.01, 0.0]),\n",
      " (nan, None, [0.01, 0.0, 0.01, 0.001]),\n",
      " (nan, None, [0.0, 0.001, 0.01, 0.001])]\n",
      "No wall nearby.\n",
      "[(nan, None, [0.0, 0.0, 0.0, 0.001]),\n",
      " (nan, None, [0.0, 0.0, 0.01, 0.0]),\n",
      " (nan, None, [0.01, 0.0, 0.01, 0.001]),\n",
      " (nan, None, [0.0, 0.001, 0.01, 0.001])]\n",
      "No wall nearby.\n"
     ]
    },
    {
     "name": "stderr",
     "output_type": "stream",
     "text": [
      " 13%|█▎        | 400/3000 [00:54<06:22,  6.80it/s]"
     ]
    },
    {
     "name": "stdout",
     "output_type": "stream",
     "text": [
      "[(nan, None, [0.0, 0.0, 0.0, 0.001]),\n",
      " (nan, None, [0.0, 0.0, 0.01, 0.0]),\n",
      " (nan, None, [0.01, 0.0, 0.01, 0.001]),\n",
      " (nan, None, [0.0, 0.001, 0.01, 0.001])]\n",
      "No wall nearby.\n",
      "[(nan, None, [0.0, 0.0, 0.0, 0.001]),\n",
      " (nan, None, [0.0, 0.0, 0.01, 0.0]),\n",
      " (nan, None, [0.01, 0.0, 0.01, 0.001]),\n",
      " (nan, None, [0.0, 0.001, 0.01, 0.001])]\n",
      "No wall nearby.\n"
     ]
    },
    {
     "name": "stderr",
     "output_type": "stream",
     "text": [
      " 13%|█▎        | 402/3000 [00:54<06:04,  7.13it/s]"
     ]
    },
    {
     "name": "stdout",
     "output_type": "stream",
     "text": [
      "[(nan, None, [0.0, 0.0, 0.0, 0.001]),\n",
      " (nan, None, [0.0, 0.0, 0.01, 0.0]),\n",
      " (nan, None, [0.01, 0.0, 0.01, 0.001]),\n",
      " (nan, None, [0.0, 0.001, 0.01, 0.001])]\n",
      "No wall nearby.\n",
      "[(nan, None, [0.0, 0.0, 0.0, 0.001]),\n",
      " (nan, None, [0.0, 0.0, 0.01, 0.0]),\n",
      " (nan, None, [0.01, 0.0, 0.01, 0.001]),\n",
      " (nan, None, [0.0, 0.001, 0.01, 0.001])]\n",
      "No wall nearby.\n"
     ]
    },
    {
     "name": "stderr",
     "output_type": "stream",
     "text": [
      " 13%|█▎        | 404/3000 [00:55<05:57,  7.26it/s]"
     ]
    },
    {
     "name": "stdout",
     "output_type": "stream",
     "text": [
      "[(nan, None, [0.0, 0.0, 0.0, 0.001]),\n",
      " (nan, None, [0.0, 0.0, 0.01, 0.0]),\n",
      " (nan, None, [0.01, 0.0, 0.01, 0.001]),\n",
      " (nan, None, [0.0, 0.001, 0.01, 0.001])]\n",
      "No wall nearby.\n",
      "[(nan, None, [0.0, 0.0, 0.0, 0.001]),\n",
      " (nan, None, [0.0, 0.0, 0.01, 0.0]),\n",
      " (nan, None, [0.01, 0.0, 0.01, 0.001]),\n",
      " (nan, None, [0.0, 0.001, 0.01, 0.001])]\n",
      "No wall nearby.\n"
     ]
    },
    {
     "name": "stderr",
     "output_type": "stream",
     "text": [
      " 14%|█▎        | 406/3000 [00:55<06:23,  6.76it/s]"
     ]
    },
    {
     "name": "stdout",
     "output_type": "stream",
     "text": [
      "[(nan, None, [0.0, 0.0, 0.0, 0.001]),\n",
      " (nan, None, [0.0, 0.0, 0.01, 0.0]),\n",
      " (nan, None, [0.01, 0.0, 0.01, 0.001]),\n",
      " (nan, None, [0.0, 0.001, 0.01, 0.001])]\n",
      "No wall nearby.\n",
      "[(nan, None, [0.0, 0.0, 0.0, 0.001]),\n",
      " (nan, None, [0.0, 0.0, 0.01, 0.0]),\n",
      " (nan, None, [0.01, 0.0, 0.01, 0.001]),\n",
      " (nan, None, [0.0, 0.001, 0.01, 0.001])]\n",
      "No wall nearby.\n"
     ]
    },
    {
     "name": "stderr",
     "output_type": "stream",
     "text": [
      " 14%|█▎        | 408/3000 [00:55<06:10,  7.00it/s]"
     ]
    },
    {
     "name": "stdout",
     "output_type": "stream",
     "text": [
      "[(nan, None, [0.0, 0.0, 0.0, 0.001]),\n",
      " (nan, None, [0.0, 0.0, 0.01, 0.0]),\n",
      " (nan, None, [0.01, 0.0, 0.01, 0.001]),\n",
      " (nan, None, [0.0, 0.001, 0.01, 0.001])]\n",
      "No wall nearby.\n",
      "[(nan, None, [0.0, 0.0, 0.0, 0.001]),\n",
      " (nan, None, [0.0, 0.0, 0.01, 0.0]),\n",
      " (nan, None, [0.01, 0.0, 0.01, 0.001]),\n",
      " (nan, None, [0.0, 0.001, 0.01, 0.001])]\n",
      "No wall nearby.\n"
     ]
    },
    {
     "name": "stderr",
     "output_type": "stream",
     "text": [
      " 14%|█▎        | 410/3000 [00:56<06:13,  6.94it/s]"
     ]
    },
    {
     "name": "stdout",
     "output_type": "stream",
     "text": [
      "[(nan, None, [0.0, 0.0, 0.0, 0.001]),\n",
      " (nan, None, [0.0, 0.0, 0.01, 0.0]),\n",
      " (nan, None, [0.01, 0.0, 0.01, 0.001]),\n",
      " (nan, None, [0.0, 0.001, 0.01, 0.001])]\n",
      "No wall nearby.\n",
      "[(nan, None, [0.0, 0.0, 0.0, 0.001]),\n",
      " (nan, None, [0.0, 0.0, 0.01, 0.0]),\n",
      " (nan, None, [0.01, 0.0, 0.01, 0.001]),\n",
      " (nan, None, [0.0, 0.001, 0.01, 0.001])]\n",
      "No wall nearby.\n"
     ]
    },
    {
     "name": "stderr",
     "output_type": "stream",
     "text": [
      " 14%|█▎        | 412/3000 [00:56<06:16,  6.88it/s]"
     ]
    },
    {
     "name": "stdout",
     "output_type": "stream",
     "text": [
      "[(nan, None, [0.0, 0.0, 0.0, 0.001]),\n",
      " (nan, None, [0.0, 0.0, 0.01, 0.0]),\n",
      " (nan, None, [0.01, 0.0, 0.01, 0.001]),\n",
      " (nan, None, [0.0, 0.001, 0.01, 0.001])]\n",
      "No wall nearby.\n",
      "[(nan, None, [0.0, 0.0, 0.0, 0.001]),\n",
      " (nan, None, [0.0, 0.0, 0.01, 0.0]),\n",
      " (nan, None, [0.01, 0.0, 0.01, 0.001]),\n",
      " (nan, None, [0.0, 0.001, 0.01, 0.001])]\n",
      "No wall nearby.\n"
     ]
    },
    {
     "name": "stderr",
     "output_type": "stream",
     "text": [
      " 14%|█▍        | 414/3000 [00:56<06:17,  6.85it/s]"
     ]
    },
    {
     "name": "stdout",
     "output_type": "stream",
     "text": [
      "[(nan, None, [0.0, 0.0, 0.0, 0.001]),\n",
      " (nan, None, [0.0, 0.0, 0.01, 0.0]),\n",
      " (nan, None, [0.01, 0.0, 0.01, 0.001]),\n",
      " (nan, None, [0.0, 0.001, 0.01, 0.001])]\n",
      "No wall nearby.\n",
      "[(nan, None, [0.0, 0.0, 0.0, 0.001]),\n",
      " (nan, None, [0.0, 0.0, 0.01, 0.0]),\n",
      " (nan, None, [0.01, 0.0, 0.01, 0.001]),\n",
      " (nan, None, [0.0, 0.001, 0.01, 0.001])]\n",
      "No wall nearby.\n"
     ]
    },
    {
     "name": "stderr",
     "output_type": "stream",
     "text": [
      " 14%|█▍        | 416/3000 [00:56<06:00,  7.17it/s]"
     ]
    },
    {
     "name": "stdout",
     "output_type": "stream",
     "text": [
      "[(nan, None, [0.0, 0.0, 0.0, 0.001]),\n",
      " (nan, None, [0.0, 0.0, 0.01, 0.0]),\n",
      " (nan, None, [0.01, 0.0, 0.01, 0.001]),\n",
      " (nan, None, [0.0, 0.001, 0.01, 0.001])]\n",
      "No wall nearby.\n",
      "[(nan, None, [0.0, 0.0, 0.0, 0.001]),\n",
      " (nan, None, [0.0, 0.0, 0.01, 0.0]),\n",
      " (nan, None, [0.01, 0.0, 0.01, 0.001]),\n",
      " (nan, None, [0.0, 0.001, 0.01, 0.001])]\n",
      "No wall nearby.\n"
     ]
    },
    {
     "name": "stderr",
     "output_type": "stream",
     "text": [
      " 14%|█▍        | 418/3000 [00:57<05:50,  7.38it/s]"
     ]
    },
    {
     "name": "stdout",
     "output_type": "stream",
     "text": [
      "[(nan, None, [0.0, 0.0, 0.0, 0.001]),\n",
      " (nan, None, [0.0, 0.0, 0.01, 0.0]),\n",
      " (nan, None, [0.01, 0.0, 0.01, 0.001]),\n",
      " (nan, None, [0.0, 0.001, 0.01, 0.001])]\n",
      "No wall nearby.\n",
      "[(nan, None, [0.0, 0.0, 0.0, 0.001]),\n",
      " (nan, None, [0.0, 0.0, 0.01, 0.0]),\n",
      " (nan, None, [0.01, 0.0, 0.01, 0.001]),\n",
      " (nan, None, [0.0, 0.001, 0.01, 0.001])]\n",
      "No wall nearby.\n"
     ]
    },
    {
     "name": "stderr",
     "output_type": "stream",
     "text": [
      " 14%|█▍        | 420/3000 [00:57<06:03,  7.10it/s]"
     ]
    },
    {
     "name": "stdout",
     "output_type": "stream",
     "text": [
      "[(nan, None, [0.0, 0.0, 0.0, 0.001]),\n",
      " (nan, None, [0.0, 0.0, 0.01, 0.0]),\n",
      " (nan, None, [0.01, 0.0, 0.01, 0.001]),\n",
      " (nan, None, [0.0, 0.001, 0.01, 0.001])]\n",
      "No wall nearby.\n",
      "[(nan, None, [0.0, 0.0, 0.0, 0.001]),\n",
      " (nan, None, [0.0, 0.0, 0.01, 0.0]),\n",
      " (nan, None, [0.01, 0.0, 0.01, 0.001]),\n",
      " (nan, None, [0.0, 0.001, 0.01, 0.001])]\n",
      "No wall nearby.\n"
     ]
    },
    {
     "name": "stderr",
     "output_type": "stream",
     "text": [
      " 14%|█▍        | 422/3000 [00:57<05:53,  7.29it/s]"
     ]
    },
    {
     "name": "stdout",
     "output_type": "stream",
     "text": [
      "[(nan, None, [0.0, 0.0, 0.0, 0.001]),\n",
      " (nan, None, [0.0, 0.0, 0.01, 0.0]),\n",
      " (nan, None, [0.01, 0.0, 0.01, 0.001]),\n",
      " (nan, None, [0.0, 0.001, 0.01, 0.001])]\n",
      "No wall nearby.\n",
      "[(nan, None, [0.0, 0.0, 0.0, 0.001]),\n",
      " (nan, None, [0.0, 0.0, 0.01, 0.0]),\n",
      " (nan, None, [0.01, 0.0, 0.01, 0.001]),\n",
      " (nan, None, [0.0, 0.001, 0.01, 0.001])]\n",
      "No wall nearby.\n"
     ]
    },
    {
     "name": "stderr",
     "output_type": "stream",
     "text": [
      " 14%|█▍        | 424/3000 [00:58<05:45,  7.45it/s]"
     ]
    },
    {
     "name": "stdout",
     "output_type": "stream",
     "text": [
      "[(nan, None, [0.0, 0.0, 0.0, 0.001]),\n",
      " (nan, None, [0.0, 0.0, 0.01, 0.0]),\n",
      " (nan, None, [0.01, 0.0, 0.01, 0.001]),\n",
      " (nan, None, [0.0, 0.001, 0.01, 0.001])]\n",
      "No wall nearby.\n",
      "[(nan, None, [0.0, 0.0, 0.0, 0.001]),\n",
      " (nan, None, [0.0, 0.0, 0.01, 0.0]),\n",
      " (nan, None, [0.01, 0.0, 0.01, 0.001]),\n",
      " (nan, None, [0.0, 0.001, 0.01, 0.001])]\n",
      "No wall nearby.\n"
     ]
    },
    {
     "name": "stderr",
     "output_type": "stream",
     "text": [
      " 14%|█▍        | 426/3000 [00:58<06:13,  6.89it/s]"
     ]
    },
    {
     "name": "stdout",
     "output_type": "stream",
     "text": [
      "[(nan, None, [0.0, 0.0, 0.0, 0.001]),\n",
      " (nan, None, [0.0, 0.0, 0.01, 0.0]),\n",
      " (nan, None, [0.01, 0.0, 0.01, 0.001]),\n",
      " (nan, None, [0.0, 0.001, 0.01, 0.001])]\n",
      "No wall nearby.\n",
      "[(nan, None, [0.0, 0.0, 0.0, 0.001]),\n",
      " (nan, None, [0.0, 0.0, 0.01, 0.0]),\n",
      " (nan, None, [0.01, 0.0, 0.01, 0.001]),\n",
      " (nan, None, [0.0, 0.001, 0.01, 0.001])]\n",
      "No wall nearby.\n"
     ]
    },
    {
     "name": "stderr",
     "output_type": "stream",
     "text": [
      " 14%|█▍        | 428/3000 [00:58<05:57,  7.20it/s]"
     ]
    },
    {
     "name": "stdout",
     "output_type": "stream",
     "text": [
      "[(nan, None, [0.0, 0.0, 0.0, 0.001]),\n",
      " (nan, None, [0.0, 0.0, 0.01, 0.0]),\n",
      " (nan, None, [0.01, 0.0, 0.01, 0.001]),\n",
      " (nan, None, [0.0, 0.001, 0.01, 0.001])]\n",
      "No wall nearby.\n",
      "[(nan, None, [0.0, 0.0, 0.0, 0.001]),\n",
      " (nan, None, [0.0, 0.0, 0.01, 0.0]),\n",
      " (nan, None, [0.01, 0.0, 0.01, 0.001]),\n",
      " (nan, None, [0.0, 0.001, 0.01, 0.001])]\n",
      "No wall nearby.\n"
     ]
    },
    {
     "name": "stderr",
     "output_type": "stream",
     "text": [
      " 14%|█▍        | 430/3000 [00:58<05:46,  7.42it/s]"
     ]
    },
    {
     "name": "stdout",
     "output_type": "stream",
     "text": [
      "[(nan, None, [0.0, 0.0, 0.0, 0.001]),\n",
      " (nan, None, [0.0, 0.0, 0.01, 0.0]),\n",
      " (nan, None, [0.01, 0.0, 0.01, 0.001]),\n",
      " (nan, None, [0.0, 0.001, 0.01, 0.001])]\n",
      "No wall nearby.\n",
      "[(nan, None, [0.0, 0.0, 0.0, 0.001]),\n",
      " (nan, None, [0.0, 0.0, 0.01, 0.0]),\n",
      " (nan, None, [0.01, 0.0, 0.01, 0.001]),\n",
      " (nan, None, [0.0, 0.001, 0.01, 0.001])]\n",
      "No wall nearby.\n"
     ]
    },
    {
     "name": "stderr",
     "output_type": "stream",
     "text": [
      " 14%|█▍        | 432/3000 [00:59<06:08,  6.96it/s]"
     ]
    },
    {
     "name": "stdout",
     "output_type": "stream",
     "text": [
      "[(nan, None, [0.0, 0.0, 0.0, 0.001]),\n",
      " (nan, None, [0.0, 0.0, 0.01, 0.0]),\n",
      " (nan, None, [0.01, 0.0, 0.01, 0.001]),\n",
      " (nan, None, [0.0, 0.001, 0.01, 0.001])]\n",
      "No wall nearby.\n",
      "[(nan, None, [0.0, 0.0, 0.0, 0.001]),\n",
      " (nan, None, [0.0, 0.0, 0.01, 0.0]),\n",
      " (nan, None, [0.01, 0.0, 0.01, 0.001]),\n",
      " (nan, None, [0.0, 0.001, 0.01, 0.001])]\n",
      "No wall nearby.\n"
     ]
    },
    {
     "name": "stderr",
     "output_type": "stream",
     "text": [
      " 14%|█▍        | 434/3000 [00:59<06:05,  7.02it/s]"
     ]
    },
    {
     "name": "stdout",
     "output_type": "stream",
     "text": [
      "[(nan, None, [0.0, 0.0, 0.0, 0.001]),\n",
      " (nan, None, [0.0, 0.0, 0.01, 0.0]),\n",
      " (nan, None, [0.01, 0.0, 0.01, 0.001]),\n",
      " (nan, None, [0.0, 0.001, 0.01, 0.001])]\n",
      "No wall nearby.\n",
      "[(nan, None, [0.0, 0.0, 0.0, 0.001]),\n",
      " (nan, None, [0.0, 0.0, 0.01, 0.0]),\n",
      " (nan, None, [0.01, 0.0, 0.01, 0.001]),\n",
      " (nan, None, [0.0, 0.001, 0.01, 0.001])]\n",
      "No wall nearby.\n"
     ]
    },
    {
     "name": "stderr",
     "output_type": "stream",
     "text": [
      " 15%|█▍        | 436/3000 [00:59<06:00,  7.11it/s]"
     ]
    },
    {
     "name": "stdout",
     "output_type": "stream",
     "text": [
      "[(nan, None, [0.0, 0.0, 0.0, 0.001]),\n",
      " (nan, None, [0.0, 0.0, 0.01, 0.0]),\n",
      " (nan, None, [0.01, 0.0, 0.01, 0.001]),\n",
      " (nan, None, [0.0, 0.001, 0.01, 0.001])]\n",
      "No wall nearby.\n",
      "[(nan, None, [0.0, 0.0, 0.0, 0.001]),\n",
      " (nan, None, [0.0, 0.0, 0.01, 0.0]),\n",
      " (nan, None, [0.01, 0.0, 0.01, 0.001]),\n",
      " (nan, None, [0.0, 0.001, 0.01, 0.001])]\n",
      "No wall nearby.\n"
     ]
    },
    {
     "name": "stderr",
     "output_type": "stream",
     "text": [
      " 15%|█▍        | 438/3000 [01:00<05:54,  7.22it/s]"
     ]
    },
    {
     "name": "stdout",
     "output_type": "stream",
     "text": [
      "[(nan, None, [0.0, 0.0, 0.0, 0.001]),\n",
      " (nan, None, [0.0, 0.0, 0.01, 0.0]),\n",
      " (nan, None, [0.01, 0.0, 0.01, 0.001]),\n",
      " (nan, None, [0.0, 0.001, 0.01, 0.001])]\n",
      "No wall nearby.\n",
      "[(nan, None, [0.0, 0.0, 0.0, 0.001]),\n",
      " (nan, None, [0.0, 0.0, 0.01, 0.0]),\n",
      " (nan, None, [0.01, 0.0, 0.01, 0.001]),\n",
      " (nan, None, [0.0, 0.001, 0.01, 0.001])]\n",
      "No wall nearby.\n"
     ]
    },
    {
     "name": "stderr",
     "output_type": "stream",
     "text": [
      " 15%|█▍        | 440/3000 [01:00<06:12,  6.87it/s]"
     ]
    },
    {
     "name": "stdout",
     "output_type": "stream",
     "text": [
      "[(nan, None, [0.0, 0.0, 0.0, 0.001]),\n",
      " (nan, None, [0.0, 0.0, 0.01, 0.0]),\n",
      " (nan, None, [0.01, 0.0, 0.01, 0.001]),\n",
      " (nan, None, [0.0, 0.001, 0.01, 0.001])]\n",
      "No wall nearby.\n",
      "[(nan, None, [0.0, 0.0, 0.0, 0.001]),\n",
      " (nan, None, [0.0, 0.0, 0.01, 0.0]),\n",
      " (nan, None, [0.01, 0.0, 0.01, 0.001]),\n",
      " (nan, None, [0.0, 0.001, 0.01, 0.001])]\n",
      "No wall nearby.\n"
     ]
    },
    {
     "name": "stderr",
     "output_type": "stream",
     "text": [
      " 15%|█▍        | 442/3000 [01:00<05:59,  7.11it/s]"
     ]
    },
    {
     "name": "stdout",
     "output_type": "stream",
     "text": [
      "[(nan, None, [0.0, 0.0, 0.0, 0.001]),\n",
      " (nan, None, [0.0, 0.0, 0.01, 0.0]),\n",
      " (nan, None, [0.01, 0.0, 0.01, 0.001]),\n",
      " (nan, None, [0.0, 0.001, 0.01, 0.001])]\n",
      "No wall nearby.\n",
      "[(nan, None, [0.0, 0.0, 0.0, 0.001]),\n",
      " (nan, None, [0.0, 0.0, 0.01, 0.0]),\n",
      " (nan, None, [0.01, 0.0, 0.01, 0.001]),\n",
      " (nan, None, [0.0, 0.001, 0.01, 0.001])]\n",
      "No wall nearby.\n"
     ]
    },
    {
     "name": "stderr",
     "output_type": "stream",
     "text": [
      " 15%|█▍        | 444/3000 [01:00<05:59,  7.11it/s]"
     ]
    },
    {
     "name": "stdout",
     "output_type": "stream",
     "text": [
      "[(nan, None, [0.0, 0.0, 0.0, 0.001]),\n",
      " (nan, None, [0.0, 0.0, 0.01, 0.0]),\n",
      " (nan, None, [0.01, 0.0, 0.01, 0.001]),\n",
      " (nan, None, [0.0, 0.001, 0.01, 0.001])]\n",
      "No wall nearby.\n",
      "[(nan, None, [0.0, 0.0, 0.0, 0.001]),\n",
      " (nan, None, [0.0, 0.0, 0.01, 0.0]),\n",
      " (nan, None, [0.01, 0.0, 0.01, 0.001]),\n",
      " (nan, None, [0.0, 0.001, 0.01, 0.001])]\n",
      "No wall nearby.\n"
     ]
    },
    {
     "name": "stderr",
     "output_type": "stream",
     "text": [
      " 15%|█▍        | 446/3000 [01:01<06:13,  6.83it/s]"
     ]
    },
    {
     "name": "stdout",
     "output_type": "stream",
     "text": [
      "[(nan, None, [0.0, 0.0, 0.0, 0.001]),\n",
      " (nan, None, [0.0, 0.0, 0.01, 0.0]),\n",
      " (nan, None, [0.01, 0.0, 0.01, 0.001]),\n",
      " (nan, None, [0.0, 0.001, 0.01, 0.001])]\n",
      "No wall nearby.\n",
      "[(nan, None, [0.0, 0.0, 0.0, 0.001]),\n",
      " (nan, None, [0.0, 0.0, 0.01, 0.0]),\n",
      " (nan, None, [0.01, 0.0, 0.01, 0.001]),\n",
      " (nan, None, [0.0, 0.001, 0.01, 0.001])]\n",
      "No wall nearby.\n"
     ]
    },
    {
     "name": "stderr",
     "output_type": "stream",
     "text": [
      " 15%|█▍        | 448/3000 [01:01<06:06,  6.96it/s]"
     ]
    },
    {
     "name": "stdout",
     "output_type": "stream",
     "text": [
      "[(nan, None, [0.0, 0.0, 0.0, 0.001]),\n",
      " (nan, None, [0.0, 0.0, 0.01, 0.0]),\n",
      " (nan, None, [0.01, 0.0, 0.01, 0.001]),\n",
      " (nan, None, [0.0, 0.001, 0.01, 0.001])]\n",
      "No wall nearby.\n",
      "[(nan, None, [0.0, 0.0, 0.0, 0.001]),\n",
      " (nan, None, [0.0, 0.0, 0.01, 0.0]),\n",
      " (nan, None, [0.01, 0.0, 0.01, 0.001]),\n",
      " (nan, None, [0.0, 0.001, 0.01, 0.001])]\n",
      "No wall nearby.\n"
     ]
    },
    {
     "name": "stderr",
     "output_type": "stream",
     "text": [
      " 15%|█▌        | 450/3000 [01:01<06:00,  7.07it/s]"
     ]
    },
    {
     "name": "stdout",
     "output_type": "stream",
     "text": [
      "[(nan, None, [0.0, 0.0, 0.0, 0.001]),\n",
      " (nan, None, [0.0, 0.0, 0.01, 0.0]),\n",
      " (nan, None, [0.01, 0.0, 0.01, 0.001]),\n",
      " (nan, None, [0.0, 0.001, 0.01, 0.001])]\n",
      "No wall nearby.\n",
      "[(nan, None, [0.0, 0.0, 0.0, 0.001]),\n",
      " (nan, None, [0.0, 0.0, 0.01, 0.0]),\n",
      " (nan, None, [0.01, 0.0, 0.01, 0.001]),\n",
      " (nan, None, [0.0, 0.001, 0.01, 0.001])]\n",
      "No wall nearby.\n"
     ]
    },
    {
     "name": "stderr",
     "output_type": "stream",
     "text": [
      " 15%|█▌        | 452/3000 [01:02<06:20,  6.70it/s]"
     ]
    },
    {
     "name": "stdout",
     "output_type": "stream",
     "text": [
      "[(nan, None, [0.0, 0.0, 0.0, 0.001]),\n",
      " (nan, None, [0.0, 0.0, 0.01, 0.0]),\n",
      " (nan, None, [0.01, 0.0, 0.01, 0.001]),\n",
      " (nan, None, [0.0, 0.001, 0.01, 0.001])]\n",
      "No wall nearby.\n",
      "[(nan, None, [0.0, 0.0, 0.0, 0.001]),\n",
      " (nan, None, [0.0, 0.0, 0.01, 0.0]),\n",
      " (nan, None, [0.01, 0.0, 0.01, 0.001]),\n",
      " (nan, None, [0.0, 0.001, 0.01, 0.001])]\n",
      "No wall nearby.\n"
     ]
    },
    {
     "name": "stderr",
     "output_type": "stream",
     "text": [
      " 15%|█▌        | 454/3000 [01:02<06:02,  7.03it/s]"
     ]
    },
    {
     "name": "stdout",
     "output_type": "stream",
     "text": [
      "[(nan, None, [0.0, 0.0, 0.0, 0.001]),\n",
      " (nan, None, [0.0, 0.0, 0.01, 0.0]),\n",
      " (nan, None, [0.01, 0.0, 0.01, 0.001]),\n",
      " (nan, None, [0.0, 0.001, 0.01, 0.001])]\n",
      "No wall nearby.\n",
      "[(nan, None, [0.0, 0.0, 0.0, 0.001]),\n",
      " (nan, None, [0.0, 0.0, 0.01, 0.0]),\n",
      " (nan, None, [0.01, 0.0, 0.01, 0.001]),\n",
      " (nan, None, [0.0, 0.001, 0.01, 0.001])]\n",
      "No wall nearby.\n"
     ]
    },
    {
     "name": "stderr",
     "output_type": "stream",
     "text": [
      " 15%|█▌        | 456/3000 [01:02<05:49,  7.28it/s]"
     ]
    },
    {
     "name": "stdout",
     "output_type": "stream",
     "text": [
      "[(nan, None, [0.0, 0.0, 0.0, 0.001]),\n",
      " (nan, None, [0.0, 0.0, 0.01, 0.0]),\n",
      " (nan, None, [0.01, 0.0, 0.01, 0.001]),\n",
      " (nan, None, [0.0, 0.001, 0.01, 0.001])]\n",
      "No wall nearby.\n",
      "[(nan, None, [0.0, 0.0, 0.0, 0.001]),\n",
      " (nan, None, [0.0, 0.0, 0.01, 0.0]),\n",
      " (nan, None, [0.01, 0.0, 0.01, 0.001]),\n",
      " (nan, None, [0.0, 0.001, 0.01, 0.001])]\n",
      "No wall nearby.\n"
     ]
    },
    {
     "name": "stderr",
     "output_type": "stream",
     "text": [
      " 15%|█▌        | 458/3000 [01:02<06:09,  6.87it/s]"
     ]
    },
    {
     "name": "stdout",
     "output_type": "stream",
     "text": [
      "[(nan, None, [0.0, 0.0, 0.0, 0.001]),\n",
      " (nan, None, [0.0, 0.0, 0.01, 0.0]),\n",
      " (nan, None, [0.01, 0.0, 0.01, 0.001]),\n",
      " (nan, None, [0.0, 0.001, 0.01, 0.001])]\n",
      "No wall nearby.\n",
      "[(nan, None, [0.0, 0.0, 0.0, 0.001]),\n",
      " (nan, None, [0.0, 0.0, 0.01, 0.0]),\n",
      " (nan, None, [0.01, 0.0, 0.01, 0.001]),\n",
      " (nan, None, [0.0, 0.001, 0.01, 0.001])]\n",
      "No wall nearby.\n"
     ]
    },
    {
     "name": "stderr",
     "output_type": "stream",
     "text": [
      " 15%|█▌        | 460/3000 [01:03<05:51,  7.23it/s]"
     ]
    },
    {
     "name": "stdout",
     "output_type": "stream",
     "text": [
      "[(nan, None, [0.0, 0.0, 0.0, 0.001]),\n",
      " (nan, None, [0.0, 0.0, 0.01, 0.0]),\n",
      " (nan, None, [0.01, 0.0, 0.01, 0.001]),\n",
      " (nan, None, [0.0, 0.001, 0.01, 0.001])]\n",
      "No wall nearby.\n",
      "[(nan, None, [0.0, 0.0, 0.0, 0.001]),\n",
      " (nan, None, [0.0, 0.0, 0.01, 0.0]),\n",
      " (nan, None, [0.01, 0.0, 0.01, 0.001]),\n",
      " (nan, None, [0.0, 0.001, 0.01, 0.001])]\n",
      "No wall nearby.\n"
     ]
    },
    {
     "name": "stderr",
     "output_type": "stream",
     "text": [
      " 15%|█▌        | 462/3000 [01:03<05:47,  7.31it/s]"
     ]
    },
    {
     "name": "stdout",
     "output_type": "stream",
     "text": [
      "[(nan, None, [0.0, 0.0, 0.0, 0.001]),\n",
      " (nan, None, [0.0, 0.0, 0.01, 0.0]),\n",
      " (nan, None, [0.01, 0.0, 0.01, 0.001]),\n",
      " (nan, None, [0.0, 0.001, 0.01, 0.001])]\n",
      "No wall nearby.\n",
      "[(nan, None, [0.0, 0.0, 0.0, 0.001]),\n",
      " (nan, None, [0.0, 0.0, 0.01, 0.0]),\n",
      " (nan, None, [0.01, 0.0, 0.01, 0.001]),\n",
      " (nan, None, [0.0, 0.001, 0.01, 0.001])]\n",
      "No wall nearby.\n"
     ]
    },
    {
     "name": "stderr",
     "output_type": "stream",
     "text": [
      " 15%|█▌        | 464/3000 [01:03<05:43,  7.39it/s]"
     ]
    },
    {
     "name": "stdout",
     "output_type": "stream",
     "text": [
      "[(nan, None, [0.0, 0.0, 0.0, 0.001]),\n",
      " (nan, None, [0.0, 0.0, 0.01, 0.0]),\n",
      " (nan, None, [0.01, 0.0, 0.01, 0.001]),\n",
      " (nan, None, [0.0, 0.001, 0.01, 0.001])]\n",
      "No wall nearby.\n",
      "[(nan, None, [0.0, 0.0, 0.0, 0.001]),\n",
      " (nan, None, [0.0, 0.0, 0.01, 0.0]),\n",
      " (nan, None, [0.01, 0.0, 0.01, 0.001]),\n",
      " (nan, None, [0.0, 0.001, 0.01, 0.001])]\n",
      "No wall nearby.\n"
     ]
    },
    {
     "name": "stderr",
     "output_type": "stream",
     "text": [
      " 16%|█▌        | 466/3000 [01:04<05:58,  7.06it/s]"
     ]
    },
    {
     "name": "stdout",
     "output_type": "stream",
     "text": [
      "[(nan, None, [0.0, 0.0, 0.0, 0.001]),\n",
      " (nan, None, [0.0, 0.0, 0.01, 0.0]),\n",
      " (nan, None, [0.01, 0.0, 0.01, 0.001]),\n",
      " (nan, None, [0.0, 0.001, 0.01, 0.001])]\n",
      "No wall nearby.\n",
      "[(nan, None, [0.0, 0.0, 0.0, 0.001]),\n",
      " (nan, None, [0.0, 0.0, 0.01, 0.0]),\n",
      " (nan, None, [0.01, 0.0, 0.01, 0.001]),\n",
      " (nan, None, [0.0, 0.001, 0.01, 0.001])]\n",
      "No wall nearby.\n"
     ]
    },
    {
     "name": "stderr",
     "output_type": "stream",
     "text": [
      " 16%|█▌        | 468/3000 [01:04<05:53,  7.16it/s]"
     ]
    },
    {
     "name": "stdout",
     "output_type": "stream",
     "text": [
      "[(nan, None, [0.0, 0.0, 0.0, 0.001]),\n",
      " (nan, None, [0.0, 0.0, 0.01, 0.0]),\n",
      " (nan, None, [0.01, 0.0, 0.01, 0.001]),\n",
      " (nan, None, [0.0, 0.001, 0.01, 0.001])]\n",
      "No wall nearby.\n",
      "[(nan, None, [0.0, 0.0, 0.0, 0.001]),\n",
      " (nan, None, [0.0, 0.0, 0.01, 0.0]),\n",
      " (nan, None, [0.01, 0.0, 0.01, 0.001]),\n",
      " (nan, None, [0.0, 0.001, 0.01, 0.001])]\n",
      "No wall nearby.\n"
     ]
    },
    {
     "name": "stderr",
     "output_type": "stream",
     "text": [
      " 16%|█▌        | 470/3000 [01:04<05:52,  7.19it/s]"
     ]
    },
    {
     "name": "stdout",
     "output_type": "stream",
     "text": [
      "[(nan, None, [0.0, 0.0, 0.0, 0.001]),\n",
      " (nan, None, [0.0, 0.0, 0.01, 0.0]),\n",
      " (nan, None, [0.01, 0.0, 0.01, 0.001]),\n",
      " (nan, None, [0.0, 0.001, 0.01, 0.001])]\n",
      "No wall nearby.\n",
      "[(nan, None, [0.0, 0.0, 0.0, 0.001]),\n",
      " (nan, None, [0.0, 0.0, 0.01, 0.0]),\n",
      " (nan, None, [0.01, 0.0, 0.01, 0.001]),\n",
      " (nan, None, [0.0, 0.001, 0.01, 0.001])]\n",
      "No wall nearby.\n"
     ]
    },
    {
     "name": "stderr",
     "output_type": "stream",
     "text": [
      " 16%|█▌        | 472/3000 [01:04<06:05,  6.91it/s]"
     ]
    },
    {
     "name": "stdout",
     "output_type": "stream",
     "text": [
      "[(nan, None, [0.0, 0.0, 0.0, 0.001]),\n",
      " (nan, None, [0.0, 0.0, 0.01, 0.0]),\n",
      " (nan, None, [0.01, 0.0, 0.01, 0.001]),\n",
      " (nan, None, [0.0, 0.001, 0.01, 0.001])]\n",
      "No wall nearby.\n",
      "[(nan, None, [0.0, 0.0, 0.0, 0.001]),\n",
      " (nan, None, [0.0, 0.0, 0.01, 0.0]),\n",
      " (nan, None, [0.01, 0.0, 0.01, 0.001]),\n",
      " (nan, None, [0.0, 0.001, 0.01, 0.001])]\n",
      "No wall nearby.\n"
     ]
    },
    {
     "name": "stderr",
     "output_type": "stream",
     "text": [
      " 16%|█▌        | 474/3000 [01:05<05:52,  7.17it/s]"
     ]
    },
    {
     "name": "stdout",
     "output_type": "stream",
     "text": [
      "[(nan, None, [0.0, 0.0, 0.0, 0.001]),\n",
      " (nan, None, [0.0, 0.0, 0.01, 0.0]),\n",
      " (nan, None, [0.01, 0.0, 0.01, 0.001]),\n",
      " (nan, None, [0.0, 0.001, 0.01, 0.001])]\n",
      "No wall nearby.\n",
      "[(nan, None, [0.0, 0.0, 0.0, 0.001]),\n",
      " (nan, None, [0.0, 0.0, 0.01, 0.0]),\n",
      " (nan, None, [0.01, 0.0, 0.01, 0.001]),\n",
      " (nan, None, [0.0, 0.001, 0.01, 0.001])]\n",
      "No wall nearby.\n"
     ]
    },
    {
     "name": "stderr",
     "output_type": "stream",
     "text": [
      " 16%|█▌        | 476/3000 [01:05<05:51,  7.17it/s]"
     ]
    },
    {
     "name": "stdout",
     "output_type": "stream",
     "text": [
      "[(nan, None, [0.0, 0.0, 0.0, 0.001]),\n",
      " (nan, None, [0.0, 0.0, 0.01, 0.0]),\n",
      " (nan, None, [0.01, 0.0, 0.01, 0.001]),\n",
      " (nan, None, [0.0, 0.001, 0.01, 0.001])]\n",
      "No wall nearby.\n",
      "[(nan, None, [0.0, 0.0, 0.0, 0.001]),\n",
      " (nan, None, [0.0, 0.0, 0.01, 0.0]),\n",
      " (nan, None, [0.01, 0.0, 0.01, 0.001]),\n",
      " (nan, None, [0.0, 0.001, 0.01, 0.001])]\n",
      "No wall nearby.\n"
     ]
    },
    {
     "name": "stderr",
     "output_type": "stream",
     "text": [
      " 16%|█▌        | 478/3000 [01:05<06:13,  6.75it/s]"
     ]
    },
    {
     "name": "stdout",
     "output_type": "stream",
     "text": [
      "[(nan, None, [0.0, 0.0, 0.0, 0.001]),\n",
      " (nan, None, [0.0, 0.0, 0.01, 0.0]),\n",
      " (nan, None, [0.01, 0.0, 0.01, 0.001]),\n",
      " (nan, None, [0.0, 0.001, 0.01, 0.001])]\n",
      "No wall nearby.\n",
      "[(nan, None, [0.0, 0.0, 0.0, 0.001]),\n",
      " (nan, None, [0.0, 0.0, 0.01, 0.0]),\n",
      " (nan, None, [0.01, 0.0, 0.01, 0.001]),\n",
      " (nan, None, [0.0, 0.001, 0.01, 0.001])]\n",
      "No wall nearby.\n"
     ]
    },
    {
     "name": "stderr",
     "output_type": "stream",
     "text": [
      " 16%|█▌        | 480/3000 [01:06<05:58,  7.03it/s]"
     ]
    },
    {
     "name": "stdout",
     "output_type": "stream",
     "text": [
      "[(nan, None, [0.0, 0.0, 0.0, 0.001]),\n",
      " (nan, None, [0.0, 0.0, 0.01, 0.0]),\n",
      " (nan, None, [0.01, 0.0, 0.01, 0.001]),\n",
      " (nan, None, [0.0, 0.001, 0.01, 0.001])]\n",
      "No wall nearby.\n",
      "[(nan, None, [0.0, 0.0, 0.0, 0.001]),\n",
      " (nan, None, [0.0, 0.0, 0.01, 0.0]),\n",
      " (nan, None, [0.01, 0.0, 0.01, 0.001]),\n",
      " (nan, None, [0.0, 0.001, 0.01, 0.001])]\n",
      "No wall nearby.\n"
     ]
    },
    {
     "name": "stderr",
     "output_type": "stream",
     "text": [
      " 16%|█▌        | 482/3000 [01:06<05:51,  7.16it/s]"
     ]
    },
    {
     "name": "stdout",
     "output_type": "stream",
     "text": [
      "[(nan, None, [0.0, 0.0, 0.0, 0.001]),\n",
      " (nan, None, [0.0, 0.0, 0.01, 0.0]),\n",
      " (nan, None, [0.01, 0.0, 0.01, 0.001]),\n",
      " (nan, None, [0.0, 0.001, 0.01, 0.001])]\n",
      "No wall nearby.\n",
      "[(nan, None, [0.0, 0.0, 0.0, 0.001]),\n",
      " (nan, None, [0.0, 0.0, 0.01, 0.0]),\n",
      " (nan, None, [0.01, 0.0, 0.01, 0.001]),\n",
      " (nan, None, [0.0, 0.001, 0.01, 0.001])]\n",
      "No wall nearby.\n"
     ]
    },
    {
     "name": "stderr",
     "output_type": "stream",
     "text": [
      " 16%|█▌        | 484/3000 [01:06<06:14,  6.72it/s]"
     ]
    },
    {
     "name": "stdout",
     "output_type": "stream",
     "text": [
      "[(nan, None, [0.0, 0.0, 0.0, 0.001]),\n",
      " (nan, None, [0.0, 0.0, 0.01, 0.0]),\n",
      " (nan, None, [0.01, 0.0, 0.01, 0.001]),\n",
      " (nan, None, [0.0, 0.001, 0.01, 0.001])]\n",
      "No wall nearby.\n",
      "[(nan, None, [0.0, 0.0, 0.0, 0.001]),\n",
      " (nan, None, [0.0, 0.0, 0.01, 0.0]),\n",
      " (nan, None, [0.01, 0.0, 0.01, 0.001]),\n",
      " (nan, None, [0.0, 0.001, 0.01, 0.001])]\n",
      "No wall nearby.\n"
     ]
    },
    {
     "name": "stderr",
     "output_type": "stream",
     "text": [
      " 16%|█▌        | 486/3000 [01:06<05:58,  7.00it/s]"
     ]
    },
    {
     "name": "stdout",
     "output_type": "stream",
     "text": [
      "[(nan, None, [0.0, 0.0, 0.0, 0.001]),\n",
      " (nan, None, [0.0, 0.0, 0.01, 0.0]),\n",
      " (nan, None, [0.01, 0.0, 0.01, 0.001]),\n",
      " (nan, None, [0.0, 0.001, 0.01, 0.001])]\n",
      "No wall nearby.\n",
      "[(nan, None, [0.0, 0.0, 0.0, 0.001]),\n",
      " (nan, None, [0.0, 0.0, 0.01, 0.0]),\n",
      " (nan, None, [0.01, 0.0, 0.01, 0.001]),\n",
      " (nan, None, [0.0, 0.001, 0.01, 0.001])]\n",
      "No wall nearby.\n"
     ]
    },
    {
     "name": "stderr",
     "output_type": "stream",
     "text": [
      " 16%|█▋        | 488/3000 [01:07<05:50,  7.18it/s]"
     ]
    },
    {
     "name": "stdout",
     "output_type": "stream",
     "text": [
      "[(nan, None, [0.0, 0.0, 0.0, 0.001]),\n",
      " (nan, None, [0.0, 0.0, 0.01, 0.0]),\n",
      " (nan, None, [0.01, 0.0, 0.01, 0.001]),\n",
      " (nan, None, [0.0, 0.001, 0.01, 0.001])]\n",
      "No wall nearby.\n",
      "[(nan, None, [0.0, 0.0, 0.0, 0.001]),\n",
      " (nan, None, [0.0, 0.0, 0.01, 0.0]),\n",
      " (nan, None, [0.01, 0.0, 0.01, 0.001]),\n",
      " (nan, None, [0.0, 0.001, 0.01, 0.001])]\n",
      "No wall nearby.\n"
     ]
    },
    {
     "name": "stderr",
     "output_type": "stream",
     "text": [
      " 16%|█▋        | 490/3000 [01:07<06:01,  6.95it/s]"
     ]
    },
    {
     "name": "stdout",
     "output_type": "stream",
     "text": [
      "[(nan, None, [0.0, 0.0, 0.0, 0.001]),\n",
      " (nan, None, [0.0, 0.0, 0.01, 0.0]),\n",
      " (nan, None, [0.01, 0.0, 0.01, 0.001]),\n",
      " (nan, None, [0.0, 0.001, 0.01, 0.001])]\n",
      "No wall nearby.\n",
      "[(nan, None, [0.0, 0.0, 0.0, 0.001]),\n",
      " (nan, None, [0.0, 0.0, 0.01, 0.0]),\n",
      " (nan, None, [0.01, 0.0, 0.01, 0.001]),\n",
      " (nan, None, [0.0, 0.001, 0.01, 0.001])]\n",
      "No wall nearby.\n"
     ]
    },
    {
     "name": "stderr",
     "output_type": "stream",
     "text": [
      " 16%|█▋        | 492/3000 [01:07<06:14,  6.69it/s]"
     ]
    },
    {
     "name": "stdout",
     "output_type": "stream",
     "text": [
      "[(nan, None, [0.0, 0.0, 0.0, 0.001]),\n",
      " (nan, None, [0.0, 0.0, 0.01, 0.0]),\n",
      " (nan, None, [0.01, 0.0, 0.01, 0.001]),\n",
      " (nan, None, [0.0, 0.001, 0.01, 0.001])]\n",
      "No wall nearby.\n",
      "[(nan, None, [0.0, 0.0, 0.0, 0.001]),\n",
      " (nan, None, [0.0, 0.0, 0.01, 0.0]),\n",
      " (nan, None, [0.01, 0.0, 0.01, 0.001]),\n",
      " (nan, None, [0.0, 0.001, 0.01, 0.001])]\n",
      "No wall nearby.\n"
     ]
    },
    {
     "name": "stderr",
     "output_type": "stream",
     "text": [
      " 16%|█▋        | 494/3000 [01:08<05:58,  6.98it/s]"
     ]
    },
    {
     "name": "stdout",
     "output_type": "stream",
     "text": [
      "[(nan, None, [0.0, 0.0, 0.0, 0.001]),\n",
      " (nan, None, [0.0, 0.0, 0.01, 0.0]),\n",
      " (nan, None, [0.01, 0.0, 0.01, 0.001]),\n",
      " (nan, None, [0.0, 0.001, 0.01, 0.001])]\n",
      "No wall nearby.\n",
      "[(nan, None, [0.0, 0.0, 0.0, 0.001]),\n",
      " (nan, None, [0.0, 0.0, 0.01, 0.0]),\n",
      " (nan, None, [0.01, 0.0, 0.01, 0.001]),\n",
      " (nan, None, [0.0, 0.001, 0.01, 0.001])]\n",
      "No wall nearby.\n"
     ]
    },
    {
     "name": "stderr",
     "output_type": "stream",
     "text": [
      " 17%|█▋        | 496/3000 [01:08<05:47,  7.21it/s]"
     ]
    },
    {
     "name": "stdout",
     "output_type": "stream",
     "text": [
      "[(nan, None, [0.0, 0.0, 0.0, 0.001]),\n",
      " (nan, None, [0.0, 0.0, 0.01, 0.0]),\n",
      " (nan, None, [0.01, 0.0, 0.01, 0.001]),\n",
      " (nan, None, [0.0, 0.001, 0.01, 0.001])]\n",
      "No wall nearby.\n",
      "[(nan, None, [0.0, 0.0, 0.0, 0.001]),\n",
      " (nan, None, [0.0, 0.0, 0.01, 0.0]),\n",
      " (nan, None, [0.01, 0.0, 0.01, 0.001]),\n",
      " (nan, None, [0.0, 0.001, 0.01, 0.001])]\n",
      "No wall nearby.\n"
     ]
    },
    {
     "name": "stderr",
     "output_type": "stream",
     "text": [
      " 17%|█▋        | 498/3000 [01:08<05:54,  7.06it/s]"
     ]
    },
    {
     "name": "stdout",
     "output_type": "stream",
     "text": [
      "[(nan, None, [0.0, 0.0, 0.0, 0.001]),\n",
      " (nan, None, [0.0, 0.0, 0.01, 0.0]),\n",
      " (nan, None, [0.01, 0.0, 0.01, 0.001]),\n",
      " (nan, None, [0.0, 0.001, 0.01, 0.001])]\n",
      "No wall nearby.\n",
      "[(nan, None, [0.0, 0.0, 0.0, 0.001]),\n",
      " (nan, None, [0.0, 0.0, 0.01, 0.0]),\n",
      " (nan, None, [0.01, 0.0, 0.01, 0.001]),\n",
      " (nan, None, [0.0, 0.001, 0.01, 0.001])]\n",
      "No wall nearby.\n"
     ]
    },
    {
     "name": "stderr",
     "output_type": "stream",
     "text": [
      " 17%|█▋        | 501/3000 [01:09<06:29,  6.42it/s]"
     ]
    },
    {
     "name": "stdout",
     "output_type": "stream",
     "text": [
      "[(nan, None, [0.0, 0.0, 0.0, 0.001]),\n",
      " (nan, None, [0.0, 0.0, 0.01, 0.0]),\n",
      " (nan, None, [0.01, 0.0, 0.01, 0.001]),\n",
      " (nan, None, [0.0, 0.001, 0.01, 0.001])]\n",
      "No wall nearby.\n",
      "[(nan, None, [0.0, 0.0, 0.0, 0.001]),\n",
      " (nan, None, [0.0, 0.0, 0.01, 0.0]),\n",
      " (nan, None, [0.01, 0.0, 0.01, 0.001]),\n",
      " (nan, None, [0.0, 0.001, 0.01, 0.001])]\n",
      "No wall nearby.\n",
      "[(nan, None, [0.0, 0.0, 0.0, 0.001]),\n",
      " (nan, None, [0.0, 0.0, 0.01, 0.0]),\n",
      " (nan, None, [0.01, 0.0, 0.01, 0.001]),\n",
      " (nan, None, [0.0, 0.001, 0.01, 0.001])]\n",
      "No wall nearby.\n"
     ]
    },
    {
     "name": "stderr",
     "output_type": "stream",
     "text": [
      " 17%|█▋        | 503/3000 [01:09<05:56,  7.00it/s]"
     ]
    },
    {
     "name": "stdout",
     "output_type": "stream",
     "text": [
      "[(nan, None, [0.0, 0.0, 0.0, 0.001]),\n",
      " (nan, None, [0.0, 0.0, 0.01, 0.0]),\n",
      " (nan, None, [0.01, 0.0, 0.01, 0.001]),\n",
      " (nan, None, [0.0, 0.001, 0.01, 0.001])]\n",
      "No wall nearby.\n",
      "[(nan, None, [0.0, 0.0, 0.0, 0.001]),\n",
      " (nan, None, [0.0, 0.0, 0.01, 0.0]),\n",
      " (nan, None, [0.01, 0.0, 0.01, 0.001]),\n",
      " (nan, None, [0.0, 0.001, 0.01, 0.001])]\n",
      "No wall nearby.\n"
     ]
    },
    {
     "name": "stderr",
     "output_type": "stream",
     "text": [
      " 17%|█▋        | 505/3000 [01:09<05:57,  6.97it/s]"
     ]
    },
    {
     "name": "stdout",
     "output_type": "stream",
     "text": [
      "[(nan, None, [0.0, 0.0, 0.0, 0.001]),\n",
      " (nan, None, [0.0, 0.0, 0.01, 0.0]),\n",
      " (nan, None, [0.01, 0.0, 0.01, 0.001]),\n",
      " (nan, None, [0.0, 0.001, 0.01, 0.001])]\n",
      "No wall nearby.\n",
      "[(nan, None, [0.0, 0.0, 0.0, 0.001]),\n",
      " (nan, None, [0.0, 0.0, 0.01, 0.0]),\n",
      " (nan, None, [0.01, 0.0, 0.01, 0.001]),\n",
      " (nan, None, [0.0, 0.001, 0.01, 0.001])]\n",
      "No wall nearby.\n"
     ]
    },
    {
     "name": "stderr",
     "output_type": "stream",
     "text": [
      " 17%|█▋        | 507/3000 [01:09<05:39,  7.33it/s]"
     ]
    },
    {
     "name": "stdout",
     "output_type": "stream",
     "text": [
      "[(nan, None, [0.0, 0.0, 0.0, 0.001]),\n",
      " (nan, None, [0.0, 0.0, 0.01, 0.0]),\n",
      " (nan, None, [0.01, 0.0, 0.01, 0.001]),\n",
      " (nan, None, [0.0, 0.001, 0.01, 0.001])]\n",
      "No wall nearby.\n",
      "[(nan, None, [0.0, 0.0, 0.0, 0.001]),\n",
      " (nan, None, [0.0, 0.0, 0.01, 0.0]),\n",
      " (nan, None, [0.01, 0.0, 0.01, 0.001]),\n",
      " (nan, None, [0.0, 0.001, 0.01, 0.001])]\n",
      "No wall nearby.\n"
     ]
    },
    {
     "name": "stderr",
     "output_type": "stream",
     "text": [
      " 17%|█▋        | 509/3000 [01:10<05:37,  7.38it/s]"
     ]
    },
    {
     "name": "stdout",
     "output_type": "stream",
     "text": [
      "[(nan, None, [0.0, 0.0, 0.0, 0.001]),\n",
      " (nan, None, [0.0, 0.0, 0.01, 0.0]),\n",
      " (nan, None, [0.01, 0.0, 0.01, 0.001]),\n",
      " (nan, None, [0.0, 0.001, 0.01, 0.001])]\n",
      "No wall nearby.\n",
      "[(nan, None, [0.0, 0.0, 0.0, 0.001]),\n",
      " (nan, None, [0.0, 0.0, 0.01, 0.0]),\n",
      " (nan, None, [0.01, 0.0, 0.01, 0.001]),\n",
      " (nan, None, [0.0, 0.001, 0.01, 0.001])]\n",
      "No wall nearby.\n"
     ]
    },
    {
     "name": "stderr",
     "output_type": "stream",
     "text": [
      " 17%|█▋        | 511/3000 [01:10<05:51,  7.09it/s]"
     ]
    },
    {
     "name": "stdout",
     "output_type": "stream",
     "text": [
      "[(nan, None, [0.0, 0.0, 0.0, 0.001]),\n",
      " (nan, None, [0.0, 0.0, 0.01, 0.0]),\n",
      " (nan, None, [0.01, 0.0, 0.01, 0.001]),\n",
      " (nan, None, [0.0, 0.001, 0.01, 0.001])]\n",
      "No wall nearby.\n",
      "[(nan, None, [0.0, 0.0, 0.0, 0.001]),\n",
      " (nan, None, [0.0, 0.0, 0.01, 0.0]),\n",
      " (nan, None, [0.01, 0.0, 0.01, 0.001]),\n",
      " (nan, None, [0.0, 0.001, 0.01, 0.001])]\n",
      "No wall nearby.\n"
     ]
    },
    {
     "name": "stderr",
     "output_type": "stream",
     "text": [
      " 17%|█▋        | 513/3000 [01:10<05:54,  7.01it/s]"
     ]
    },
    {
     "name": "stdout",
     "output_type": "stream",
     "text": [
      "[(nan, None, [0.0, 0.0, 0.0, 0.001]),\n",
      " (nan, None, [0.0, 0.0, 0.01, 0.0]),\n",
      " (nan, None, [0.01, 0.0, 0.01, 0.001]),\n",
      " (nan, None, [0.0, 0.001, 0.01, 0.001])]\n",
      "No wall nearby.\n",
      "[(nan, None, [0.0, 0.0, 0.0, 0.001]),\n",
      " (nan, None, [0.0, 0.0, 0.01, 0.0]),\n",
      " (nan, None, [0.01, 0.0, 0.01, 0.001]),\n",
      " (nan, None, [0.0, 0.001, 0.01, 0.001])]\n",
      "No wall nearby.\n"
     ]
    },
    {
     "name": "stderr",
     "output_type": "stream",
     "text": [
      " 17%|█▋        | 515/3000 [01:11<05:54,  7.00it/s]"
     ]
    },
    {
     "name": "stdout",
     "output_type": "stream",
     "text": [
      "[(nan, None, [0.0, 0.0, 0.0, 0.001]),\n",
      " (nan, None, [0.0, 0.0, 0.01, 0.0]),\n",
      " (nan, None, [0.01, 0.0, 0.01, 0.001]),\n",
      " (nan, None, [0.0, 0.001, 0.01, 0.001])]\n",
      "No wall nearby.\n",
      "[(nan, None, [0.0, 0.0, 0.0, 0.001]),\n",
      " (nan, None, [0.0, 0.0, 0.01, 0.0]),\n",
      " (nan, None, [0.01, 0.0, 0.01, 0.001]),\n",
      " (nan, None, [0.0, 0.001, 0.01, 0.001])]\n",
      "No wall nearby.\n"
     ]
    },
    {
     "name": "stderr",
     "output_type": "stream",
     "text": [
      " 17%|█▋        | 517/3000 [01:11<06:17,  6.58it/s]"
     ]
    },
    {
     "name": "stdout",
     "output_type": "stream",
     "text": [
      "[(nan, None, [0.0, 0.0, 0.0, 0.001]),\n",
      " (nan, None, [0.0, 0.0, 0.01, 0.0]),\n",
      " (nan, None, [0.01, 0.0, 0.01, 0.001]),\n",
      " (nan, None, [0.0, 0.001, 0.01, 0.001])]\n",
      "No wall nearby.\n",
      "[(nan, None, [0.0, 0.0, 0.0, 0.001]),\n",
      " (nan, None, [0.0, 0.0, 0.01, 0.0]),\n",
      " (nan, None, [0.01, 0.0, 0.01, 0.001]),\n",
      " (nan, None, [0.0, 0.001, 0.01, 0.001])]\n",
      "No wall nearby.\n"
     ]
    },
    {
     "name": "stderr",
     "output_type": "stream",
     "text": [
      " 17%|█▋        | 519/3000 [01:11<06:07,  6.75it/s]"
     ]
    },
    {
     "name": "stdout",
     "output_type": "stream",
     "text": [
      "[(nan, None, [0.0, 0.0, 0.0, 0.001]),\n",
      " (nan, None, [0.0, 0.0, 0.01, 0.0]),\n",
      " (nan, None, [0.01, 0.0, 0.01, 0.001]),\n",
      " (nan, None, [0.0, 0.001, 0.01, 0.001])]\n",
      "No wall nearby.\n",
      "[(nan, None, [0.0, 0.0, 0.0, 0.001]),\n",
      " (nan, None, [0.0, 0.0, 0.01, 0.0]),\n",
      " (nan, None, [0.01, 0.0, 0.01, 0.001]),\n",
      " (nan, None, [0.0, 0.001, 0.01, 0.001])]\n",
      "No wall nearby.\n"
     ]
    },
    {
     "name": "stderr",
     "output_type": "stream",
     "text": [
      " 17%|█▋        | 521/3000 [01:11<06:03,  6.83it/s]"
     ]
    },
    {
     "name": "stdout",
     "output_type": "stream",
     "text": [
      "[(nan, None, [0.0, 0.0, 0.0, 0.001]),\n",
      " (nan, None, [0.0, 0.0, 0.01, 0.0]),\n",
      " (nan, None, [0.01, 0.0, 0.01, 0.001]),\n",
      " (nan, None, [0.0, 0.001, 0.01, 0.001])]\n",
      "No wall nearby.\n",
      "[(nan, None, [0.0, 0.0, 0.0, 0.001]),\n",
      " (nan, None, [0.0, 0.0, 0.01, 0.0]),\n",
      " (nan, None, [0.01, 0.0, 0.01, 0.001]),\n",
      " (nan, None, [0.0, 0.001, 0.01, 0.001])]\n",
      "No wall nearby.\n"
     ]
    },
    {
     "name": "stderr",
     "output_type": "stream",
     "text": [
      " 17%|█▋        | 523/3000 [01:12<06:23,  6.46it/s]"
     ]
    },
    {
     "name": "stdout",
     "output_type": "stream",
     "text": [
      "[(nan, None, [0.0, 0.0, 0.0, 0.001]),\n",
      " (nan, None, [0.0, 0.0, 0.01, 0.0]),\n",
      " (nan, None, [0.01, 0.0, 0.01, 0.001]),\n",
      " (nan, None, [0.0, 0.001, 0.01, 0.001])]\n",
      "No wall nearby.\n",
      "[(nan, None, [0.0, 0.0, 0.0, 0.001]),\n",
      " (nan, None, [0.0, 0.0, 0.01, 0.0]),\n",
      " (nan, None, [0.01, 0.0, 0.01, 0.001]),\n",
      " (nan, None, [0.0, 0.001, 0.01, 0.001])]\n",
      "No wall nearby.\n"
     ]
    },
    {
     "name": "stderr",
     "output_type": "stream",
     "text": [
      " 18%|█▊        | 525/3000 [01:12<06:09,  6.71it/s]"
     ]
    },
    {
     "name": "stdout",
     "output_type": "stream",
     "text": [
      "[(nan, None, [0.0, 0.0, 0.0, 0.001]),\n",
      " (nan, None, [0.0, 0.0, 0.01, 0.0]),\n",
      " (nan, None, [0.01, 0.0, 0.01, 0.001]),\n",
      " (nan, None, [0.0, 0.001, 0.01, 0.001])]\n",
      "No wall nearby.\n",
      "[(nan, None, [0.0, 0.0, 0.0, 0.001]),\n",
      " (nan, None, [0.0, 0.0, 0.01, 0.0]),\n",
      " (nan, None, [0.01, 0.0, 0.01, 0.001]),\n",
      " (nan, None, [0.0, 0.001, 0.01, 0.001])]\n",
      "No wall nearby.\n"
     ]
    },
    {
     "name": "stderr",
     "output_type": "stream",
     "text": [
      " 18%|█▊        | 527/3000 [01:12<05:56,  6.93it/s]"
     ]
    },
    {
     "name": "stdout",
     "output_type": "stream",
     "text": [
      "[(nan, None, [0.0, 0.0, 0.0, 0.001]),\n",
      " (nan, None, [0.0, 0.0, 0.01, 0.0]),\n",
      " (nan, None, [0.01, 0.0, 0.01, 0.001]),\n",
      " (nan, None, [0.0, 0.001, 0.01, 0.001])]\n",
      "No wall nearby.\n",
      "[(nan, None, [0.0, 0.0, 0.0, 0.001]),\n",
      " (nan, None, [0.0, 0.0, 0.01, 0.0]),\n",
      " (nan, None, [0.01, 0.0, 0.01, 0.001]),\n",
      " (nan, None, [0.0, 0.001, 0.01, 0.001])]\n",
      "No wall nearby.\n"
     ]
    },
    {
     "name": "stderr",
     "output_type": "stream",
     "text": [
      " 18%|█▊        | 529/3000 [01:13<05:46,  7.13it/s]"
     ]
    },
    {
     "name": "stdout",
     "output_type": "stream",
     "text": [
      "[(nan, None, [0.0, 0.0, 0.0, 0.001]),\n",
      " (nan, None, [0.0, 0.0, 0.01, 0.0]),\n",
      " (nan, None, [0.01, 0.0, 0.01, 0.001]),\n",
      " (nan, None, [0.0, 0.001, 0.01, 0.001])]\n",
      "No wall nearby.\n",
      "[(nan, None, [0.0, 0.0, 0.0, 0.001]),\n",
      " (nan, None, [0.0, 0.0, 0.01, 0.0]),\n",
      " (nan, None, [0.01, 0.0, 0.01, 0.001]),\n",
      " (nan, None, [0.0, 0.001, 0.01, 0.001])]\n",
      "No wall nearby.\n"
     ]
    },
    {
     "name": "stderr",
     "output_type": "stream",
     "text": [
      " 18%|█▊        | 531/3000 [01:13<05:56,  6.92it/s]"
     ]
    },
    {
     "name": "stdout",
     "output_type": "stream",
     "text": [
      "[(nan, None, [0.0, 0.0, 0.0, 0.001]),\n",
      " (nan, None, [0.0, 0.0, 0.01, 0.0]),\n",
      " (nan, None, [0.01, 0.0, 0.01, 0.001]),\n",
      " (nan, None, [0.0, 0.001, 0.01, 0.001])]\n",
      "No wall nearby.\n",
      "[(nan, None, [0.0, 0.0, 0.0, 0.001]),\n",
      " (nan, None, [0.0, 0.0, 0.01, 0.0]),\n",
      " (nan, None, [0.01, 0.0, 0.01, 0.001]),\n",
      " (nan, None, [0.0, 0.001, 0.01, 0.001])]\n",
      "No wall nearby.\n"
     ]
    },
    {
     "name": "stderr",
     "output_type": "stream",
     "text": [
      " 18%|█▊        | 533/3000 [01:13<05:43,  7.18it/s]"
     ]
    },
    {
     "name": "stdout",
     "output_type": "stream",
     "text": [
      "[(nan, None, [0.0, 0.0, 0.0, 0.001]),\n",
      " (nan, None, [0.0, 0.0, 0.01, 0.0]),\n",
      " (nan, None, [0.01, 0.0, 0.01, 0.001]),\n",
      " (nan, None, [0.0, 0.001, 0.01, 0.001])]\n",
      "No wall nearby.\n",
      "[(nan, None, [0.0, 0.0, 0.0, 0.001]),\n",
      " (nan, None, [0.0, 0.0, 0.01, 0.0]),\n",
      " (nan, None, [0.01, 0.0, 0.01, 0.001]),\n",
      " (nan, None, [0.0, 0.001, 0.01, 0.001])]\n",
      "No wall nearby.\n"
     ]
    },
    {
     "name": "stderr",
     "output_type": "stream",
     "text": [
      " 18%|█▊        | 535/3000 [01:13<05:34,  7.36it/s]"
     ]
    },
    {
     "name": "stdout",
     "output_type": "stream",
     "text": [
      "[(nan, None, [0.0, 0.0, 0.0, 0.001]),\n",
      " (nan, None, [0.0, 0.0, 0.01, 0.0]),\n",
      " (nan, None, [0.01, 0.0, 0.01, 0.001]),\n",
      " (nan, None, [0.0, 0.001, 0.01, 0.001])]\n",
      "No wall nearby.\n",
      "[(nan, None, [0.0, 0.0, 0.0, 0.001]),\n",
      " (nan, None, [0.0, 0.0, 0.01, 0.0]),\n",
      " (nan, None, [0.01, 0.0, 0.01, 0.001]),\n",
      " (nan, None, [0.0, 0.001, 0.01, 0.001])]\n",
      "No wall nearby.\n"
     ]
    },
    {
     "name": "stderr",
     "output_type": "stream",
     "text": [
      " 18%|█▊        | 537/3000 [01:14<05:45,  7.13it/s]"
     ]
    },
    {
     "name": "stdout",
     "output_type": "stream",
     "text": [
      "[(nan, None, [0.0, 0.0, 0.0, 0.001]),\n",
      " (nan, None, [0.0, 0.0, 0.01, 0.0]),\n",
      " (nan, None, [0.01, 0.0, 0.01, 0.001]),\n",
      " (nan, None, [0.0, 0.001, 0.01, 0.001])]\n",
      "No wall nearby.\n",
      "[(nan, None, [0.0, 0.0, 0.0, 0.001]),\n",
      " (nan, None, [0.0, 0.0, 0.01, 0.0]),\n",
      " (nan, None, [0.01, 0.0, 0.01, 0.001]),\n",
      " (nan, None, [0.0, 0.001, 0.01, 0.001])]\n",
      "No wall nearby.\n"
     ]
    },
    {
     "name": "stderr",
     "output_type": "stream",
     "text": [
      " 18%|█▊        | 539/3000 [01:14<05:42,  7.19it/s]"
     ]
    },
    {
     "name": "stdout",
     "output_type": "stream",
     "text": [
      "[(nan, None, [0.0, 0.0, 0.0, 0.001]),\n",
      " (nan, None, [0.0, 0.0, 0.01, 0.0]),\n",
      " (nan, None, [0.01, 0.0, 0.01, 0.001]),\n",
      " (nan, None, [0.0, 0.001, 0.01, 0.001])]\n",
      "No wall nearby.\n",
      "[(nan, None, [0.0, 0.0, 0.0, 0.001]),\n",
      " (nan, None, [0.0, 0.0, 0.01, 0.0]),\n",
      " (nan, None, [0.01, 0.0, 0.01, 0.001]),\n",
      " (nan, None, [0.0, 0.001, 0.01, 0.001])]\n",
      "No wall nearby.\n"
     ]
    },
    {
     "name": "stderr",
     "output_type": "stream",
     "text": [
      " 18%|█▊        | 541/3000 [01:14<05:39,  7.25it/s]"
     ]
    },
    {
     "name": "stdout",
     "output_type": "stream",
     "text": [
      "[(nan, None, [0.0, 0.0, 0.0, 0.001]),\n",
      " (nan, None, [0.0, 0.0, 0.01, 0.0]),\n",
      " (nan, None, [0.01, 0.0, 0.01, 0.001]),\n",
      " (nan, None, [0.0, 0.001, 0.01, 0.001])]\n",
      "No wall nearby.\n",
      "[(nan, None, [0.0, 0.0, 0.0, 0.001]),\n",
      " (nan, None, [0.0, 0.0, 0.01, 0.0]),\n",
      " (nan, None, [0.01, 0.0, 0.01, 0.001]),\n",
      " (nan, None, [0.0, 0.001, 0.01, 0.001])]\n",
      "No wall nearby.\n"
     ]
    },
    {
     "name": "stderr",
     "output_type": "stream",
     "text": [
      " 18%|█▊        | 543/3000 [01:15<05:59,  6.84it/s]"
     ]
    },
    {
     "name": "stdout",
     "output_type": "stream",
     "text": [
      "[(nan, None, [0.0, 0.0, 0.0, 0.001]),\n",
      " (nan, None, [0.0, 0.0, 0.01, 0.0]),\n",
      " (nan, None, [0.01, 0.0, 0.01, 0.001]),\n",
      " (nan, None, [0.0, 0.001, 0.01, 0.001])]\n",
      "No wall nearby.\n",
      "[(nan, None, [0.0, 0.0, 0.0, 0.001]),\n",
      " (nan, None, [0.0, 0.0, 0.01, 0.0]),\n",
      " (nan, None, [0.01, 0.0, 0.01, 0.001]),\n",
      " (nan, None, [0.0, 0.001, 0.01, 0.001])]\n",
      "No wall nearby.\n"
     ]
    },
    {
     "name": "stderr",
     "output_type": "stream",
     "text": [
      " 18%|█▊        | 545/3000 [01:15<05:41,  7.19it/s]"
     ]
    },
    {
     "name": "stdout",
     "output_type": "stream",
     "text": [
      "[(nan, None, [0.0, 0.0, 0.0, 0.001]),\n",
      " (nan, None, [0.0, 0.0, 0.01, 0.0]),\n",
      " (nan, None, [0.01, 0.0, 0.01, 0.001]),\n",
      " (nan, None, [0.0, 0.001, 0.01, 0.001])]\n",
      "No wall nearby.\n",
      "[(nan, None, [0.0, 0.0, 0.0, 0.001]),\n",
      " (nan, None, [0.0, 0.0, 0.01, 0.0]),\n",
      " (nan, None, [0.01, 0.0, 0.01, 0.001]),\n",
      " (nan, None, [0.0, 0.001, 0.01, 0.001])]\n",
      "No wall nearby.\n"
     ]
    },
    {
     "name": "stderr",
     "output_type": "stream",
     "text": [
      " 18%|█▊        | 547/3000 [01:15<05:36,  7.29it/s]"
     ]
    },
    {
     "name": "stdout",
     "output_type": "stream",
     "text": [
      "[(nan, None, [0.0, 0.0, 0.0, 0.001]),\n",
      " (nan, None, [0.0, 0.0, 0.01, 0.0]),\n",
      " (nan, None, [0.01, 0.0, 0.01, 0.001]),\n",
      " (nan, None, [0.0, 0.001, 0.01, 0.001])]\n",
      "No wall nearby.\n",
      "[(nan, None, [0.0, 0.0, 0.0, 0.001]),\n",
      " (nan, None, [0.0, 0.0, 0.01, 0.0]),\n",
      " (nan, None, [0.01, 0.0, 0.01, 0.001]),\n",
      " (nan, None, [0.0, 0.001, 0.01, 0.001])]\n",
      "No wall nearby.\n"
     ]
    },
    {
     "name": "stderr",
     "output_type": "stream",
     "text": [
      " 18%|█▊        | 549/3000 [01:15<05:58,  6.83it/s]"
     ]
    },
    {
     "name": "stdout",
     "output_type": "stream",
     "text": [
      "[(nan, None, [0.0, 0.0, 0.0, 0.001]),\n",
      " (nan, None, [0.0, 0.0, 0.01, 0.0]),\n",
      " (nan, None, [0.01, 0.0, 0.01, 0.001]),\n",
      " (nan, None, [0.0, 0.001, 0.01, 0.001])]\n",
      "No wall nearby.\n",
      "[(nan, None, [0.0, 0.0, 0.0, 0.001]),\n",
      " (nan, None, [0.0, 0.0, 0.01, 0.0]),\n",
      " (nan, None, [0.01, 0.0, 0.01, 0.001]),\n",
      " (nan, None, [0.0, 0.001, 0.01, 0.001])]\n",
      "No wall nearby.\n"
     ]
    },
    {
     "name": "stderr",
     "output_type": "stream",
     "text": [
      " 18%|█▊        | 551/3000 [01:16<05:48,  7.02it/s]"
     ]
    },
    {
     "name": "stdout",
     "output_type": "stream",
     "text": [
      "[(nan, None, [0.0, 0.0, 0.0, 0.001]),\n",
      " (nan, None, [0.0, 0.0, 0.01, 0.0]),\n",
      " (nan, None, [0.01, 0.0, 0.01, 0.001]),\n",
      " (nan, None, [0.0, 0.001, 0.01, 0.001])]\n",
      "No wall nearby.\n",
      "[(nan, None, [0.0, 0.0, 0.0, 0.001]),\n",
      " (nan, None, [0.0, 0.0, 0.01, 0.0]),\n",
      " (nan, None, [0.01, 0.0, 0.01, 0.001]),\n",
      " (nan, None, [0.0, 0.001, 0.01, 0.001])]\n",
      "No wall nearby.\n"
     ]
    },
    {
     "name": "stderr",
     "output_type": "stream",
     "text": [
      " 18%|█▊        | 553/3000 [01:16<06:06,  6.67it/s]"
     ]
    },
    {
     "name": "stdout",
     "output_type": "stream",
     "text": [
      "[(nan, None, [0.0, 0.0, 0.0, 0.001]),\n",
      " (nan, None, [0.0, 0.0, 0.01, 0.0]),\n",
      " (nan, None, [0.01, 0.0, 0.01, 0.001]),\n",
      " (nan, None, [0.0, 0.001, 0.01, 0.001])]\n",
      "No wall nearby.\n",
      "[(nan, None, [0.0, 0.0, 0.0, 0.001]),\n",
      " (nan, None, [0.0, 0.0, 0.01, 0.0]),\n",
      " (nan, None, [0.01, 0.0, 0.01, 0.001]),\n",
      " (nan, None, [0.0, 0.001, 0.01, 0.001])]\n",
      "No wall nearby.\n"
     ]
    },
    {
     "name": "stderr",
     "output_type": "stream",
     "text": [
      " 18%|█▊        | 555/3000 [01:16<05:45,  7.07it/s]"
     ]
    },
    {
     "name": "stdout",
     "output_type": "stream",
     "text": [
      "[(nan, None, [0.0, 0.0, 0.0, 0.001]),\n",
      " (nan, None, [0.0, 0.0, 0.01, 0.0]),\n",
      " (nan, None, [0.01, 0.0, 0.01, 0.001]),\n",
      " (nan, None, [0.0, 0.001, 0.01, 0.001])]\n",
      "No wall nearby.\n",
      "[(nan, None, [0.0, 0.0, 0.0, 0.001]),\n",
      " (nan, None, [0.0, 0.0, 0.01, 0.0]),\n",
      " (nan, None, [0.01, 0.0, 0.01, 0.001]),\n",
      " (nan, None, [0.0, 0.001, 0.01, 0.001])]\n",
      "No wall nearby.\n"
     ]
    },
    {
     "name": "stderr",
     "output_type": "stream",
     "text": [
      " 19%|█▊        | 557/3000 [01:17<05:48,  7.00it/s]"
     ]
    },
    {
     "name": "stdout",
     "output_type": "stream",
     "text": [
      "[(nan, None, [0.0, 0.0, 0.0, 0.001]),\n",
      " (nan, None, [0.0, 0.0, 0.01, 0.0]),\n",
      " (nan, None, [0.01, 0.0, 0.01, 0.001]),\n",
      " (nan, None, [0.0, 0.001, 0.01, 0.001])]\n",
      "No wall nearby.\n",
      "[(nan, None, [0.0, 0.0, 0.0, 0.001]),\n",
      " (nan, None, [0.0, 0.0, 0.01, 0.0]),\n",
      " (nan, None, [0.01, 0.0, 0.01, 0.001]),\n",
      " (nan, None, [0.0, 0.001, 0.01, 0.001])]\n",
      "No wall nearby.\n"
     ]
    },
    {
     "name": "stderr",
     "output_type": "stream",
     "text": [
      " 19%|█▊        | 559/3000 [01:17<05:34,  7.30it/s]"
     ]
    },
    {
     "name": "stdout",
     "output_type": "stream",
     "text": [
      "[(nan, None, [0.0, 0.0, 0.0, 0.001]),\n",
      " (nan, None, [0.0, 0.0, 0.01, 0.0]),\n",
      " (nan, None, [0.01, 0.0, 0.01, 0.001]),\n",
      " (nan, None, [0.0, 0.001, 0.01, 0.001])]\n",
      "No wall nearby.\n",
      "[(nan, None, [0.0, 0.0, 0.0, 0.001]),\n",
      " (nan, None, [0.0, 0.0, 0.01, 0.0]),\n",
      " (nan, None, [0.01, 0.0, 0.01, 0.001]),\n",
      " (nan, None, [0.0, 0.001, 0.01, 0.001])]\n",
      "No wall nearby.\n"
     ]
    },
    {
     "name": "stderr",
     "output_type": "stream",
     "text": [
      " 19%|█▊        | 561/3000 [01:17<05:52,  6.92it/s]"
     ]
    },
    {
     "name": "stdout",
     "output_type": "stream",
     "text": [
      "[(nan, None, [0.0, 0.0, 0.0, 0.001]),\n",
      " (nan, None, [0.0, 0.0, 0.01, 0.0]),\n",
      " (nan, None, [0.01, 0.0, 0.01, 0.001]),\n",
      " (nan, None, [0.0, 0.001, 0.01, 0.001])]\n",
      "No wall nearby.\n",
      "[(nan, None, [0.0, 0.0, 0.0, 0.001]),\n",
      " (nan, None, [0.0, 0.0, 0.01, 0.0]),\n",
      " (nan, None, [0.01, 0.0, 0.01, 0.001]),\n",
      " (nan, None, [0.0, 0.001, 0.01, 0.001])]\n",
      "No wall nearby.\n"
     ]
    },
    {
     "name": "stderr",
     "output_type": "stream",
     "text": [
      " 19%|█▉        | 563/3000 [01:17<05:51,  6.94it/s]"
     ]
    },
    {
     "name": "stdout",
     "output_type": "stream",
     "text": [
      "[(nan, None, [0.0, 0.0, 0.0, 0.001]),\n",
      " (nan, None, [0.0, 0.0, 0.01, 0.0]),\n",
      " (nan, None, [0.01, 0.0, 0.01, 0.001]),\n",
      " (nan, None, [0.0, 0.001, 0.01, 0.001])]\n",
      "No wall nearby.\n",
      "[(nan, None, [0.0, 0.0, 0.0, 0.001]),\n",
      " (nan, None, [0.0, 0.0, 0.01, 0.0]),\n",
      " (nan, None, [0.01, 0.0, 0.01, 0.001]),\n",
      " (nan, None, [0.0, 0.001, 0.01, 0.001])]\n",
      "No wall nearby.\n"
     ]
    },
    {
     "name": "stderr",
     "output_type": "stream",
     "text": [
      " 19%|█▉        | 565/3000 [01:18<05:57,  6.82it/s]"
     ]
    },
    {
     "name": "stdout",
     "output_type": "stream",
     "text": [
      "[(nan, None, [0.0, 0.0, 0.0, 0.001]),\n",
      " (nan, None, [0.0, 0.0, 0.01, 0.0]),\n",
      " (nan, None, [0.01, 0.0, 0.01, 0.001]),\n",
      " (nan, None, [0.0, 0.001, 0.01, 0.001])]\n",
      "No wall nearby.\n",
      "[(nan, None, [0.0, 0.0, 0.0, 0.001]),\n",
      " (nan, None, [0.0, 0.0, 0.01, 0.0]),\n",
      " (nan, None, [0.01, 0.0, 0.01, 0.001]),\n",
      " (nan, None, [0.0, 0.001, 0.01, 0.001])]\n",
      "No wall nearby.\n"
     ]
    },
    {
     "name": "stderr",
     "output_type": "stream",
     "text": [
      " 19%|█▉        | 567/3000 [01:18<06:23,  6.35it/s]"
     ]
    },
    {
     "name": "stdout",
     "output_type": "stream",
     "text": [
      "[(nan, None, [0.0, 0.0, 0.0, 0.001]),\n",
      " (nan, None, [0.0, 0.0, 0.01, 0.0]),\n",
      " (nan, None, [0.01, 0.0, 0.01, 0.001]),\n",
      " (nan, None, [0.0, 0.001, 0.01, 0.001])]\n",
      "No wall nearby.\n",
      "[(nan, None, [0.0, 0.0, 0.0, 0.001]),\n",
      " (nan, None, [0.0, 0.0, 0.01, 0.0]),\n",
      " (nan, None, [0.01, 0.0, 0.01, 0.001]),\n",
      " (nan, None, [0.0, 0.001, 0.01, 0.001])]\n",
      "No wall nearby.\n"
     ]
    },
    {
     "name": "stderr",
     "output_type": "stream",
     "text": [
      " 19%|█▉        | 568/3000 [01:18<06:36,  6.13it/s]"
     ]
    },
    {
     "name": "stdout",
     "output_type": "stream",
     "text": [
      "[(nan, None, [0.0, 0.0, 0.0, 0.001]),\n",
      " (nan, None, [0.0, 0.0, 0.01, 0.0]),\n",
      " (nan, None, [0.01, 0.0, 0.01, 0.001]),\n",
      " (nan, None, [0.0, 0.001, 0.01, 0.001])]\n",
      "No wall nearby.\n"
     ]
    },
    {
     "name": "stderr",
     "output_type": "stream",
     "text": [
      " 19%|█▉        | 570/3000 [01:19<07:00,  5.78it/s]"
     ]
    },
    {
     "name": "stdout",
     "output_type": "stream",
     "text": [
      "[(nan, None, [0.0, 0.0, 0.0, 0.001]),\n",
      " (nan, None, [0.0, 0.0, 0.01, 0.0]),\n",
      " (nan, None, [0.01, 0.0, 0.01, 0.001]),\n",
      " (nan, None, [0.0, 0.001, 0.01, 0.001])]\n",
      "No wall nearby.\n",
      "[(nan, None, [0.0, 0.0, 0.0, 0.001]),\n",
      " (nan, None, [0.0, 0.0, 0.01, 0.0]),\n",
      " (nan, None, [0.01, 0.0, 0.01, 0.001]),\n",
      " (nan, None, [0.0, 0.001, 0.01, 0.001])]\n",
      "No wall nearby.\n"
     ]
    },
    {
     "name": "stderr",
     "output_type": "stream",
     "text": [
      " 19%|█▉        | 572/3000 [01:19<06:36,  6.12it/s]"
     ]
    },
    {
     "name": "stdout",
     "output_type": "stream",
     "text": [
      "[(nan, None, [0.0, 0.0, 0.0, 0.001]),\n",
      " (nan, None, [0.0, 0.0, 0.01, 0.0]),\n",
      " (nan, None, [0.01, 0.0, 0.01, 0.001]),\n",
      " (nan, None, [0.0, 0.001, 0.01, 0.001])]\n",
      "No wall nearby.\n",
      "[(nan, None, [0.0, 0.0, 0.0, 0.001]),\n",
      " (nan, None, [0.0, 0.0, 0.01, 0.0]),\n",
      " (nan, None, [0.01, 0.0, 0.01, 0.001]),\n",
      " (nan, None, [0.0, 0.001, 0.01, 0.001])]\n",
      "No wall nearby.\n"
     ]
    },
    {
     "name": "stderr",
     "output_type": "stream",
     "text": [
      " 19%|█▉        | 574/3000 [01:19<06:22,  6.35it/s]"
     ]
    },
    {
     "name": "stdout",
     "output_type": "stream",
     "text": [
      "[(nan, None, [0.0, 0.0, 0.0, 0.001]),\n",
      " (nan, None, [0.0, 0.0, 0.01, 0.0]),\n",
      " (nan, None, [0.01, 0.0, 0.01, 0.001]),\n",
      " (nan, None, [0.0, 0.001, 0.01, 0.001])]\n",
      "No wall nearby.\n",
      "[(nan, None, [0.0, 0.0, 0.0, 0.001]),\n",
      " (nan, None, [0.0, 0.0, 0.01, 0.0]),\n",
      " (nan, None, [0.01, 0.0, 0.01, 0.001]),\n",
      " (nan, None, [0.0, 0.001, 0.01, 0.001])]\n",
      "No wall nearby.\n"
     ]
    },
    {
     "name": "stderr",
     "output_type": "stream",
     "text": [
      " 19%|█▉        | 576/3000 [01:20<06:39,  6.07it/s]"
     ]
    },
    {
     "name": "stdout",
     "output_type": "stream",
     "text": [
      "[(nan, None, [0.0, 0.0, 0.0, 0.001]),\n",
      " (nan, None, [0.0, 0.0, 0.01, 0.0]),\n",
      " (nan, None, [0.01, 0.0, 0.01, 0.001]),\n",
      " (nan, None, [0.0, 0.001, 0.01, 0.001])]\n",
      "No wall nearby.\n",
      "[(nan, None, [0.0, 0.0, 0.0, 0.001]),\n",
      " (nan, None, [0.0, 0.0, 0.01, 0.0]),\n",
      " (nan, None, [0.01, 0.0, 0.01, 0.001]),\n",
      " (nan, None, [0.0, 0.001, 0.01, 0.001])]\n",
      "No wall nearby.\n"
     ]
    },
    {
     "name": "stderr",
     "output_type": "stream",
     "text": [
      " 19%|█▉        | 578/3000 [01:20<06:21,  6.35it/s]"
     ]
    },
    {
     "name": "stdout",
     "output_type": "stream",
     "text": [
      "[(nan, None, [0.0, 0.0, 0.0, 0.001]),\n",
      " (nan, None, [0.0, 0.0, 0.01, 0.0]),\n",
      " (nan, None, [0.01, 0.0, 0.01, 0.001]),\n",
      " (nan, None, [0.0, 0.001, 0.01, 0.001])]\n",
      "No wall nearby.\n",
      "[(nan, None, [0.0, 0.0, 0.0, 0.001]),\n",
      " (nan, None, [0.0, 0.0, 0.01, 0.0]),\n",
      " (nan, None, [0.01, 0.0, 0.01, 0.001]),\n",
      " (nan, None, [0.0, 0.001, 0.01, 0.001])]\n",
      "No wall nearby.\n"
     ]
    },
    {
     "name": "stderr",
     "output_type": "stream",
     "text": [
      " 19%|█▉        | 580/3000 [01:20<06:19,  6.38it/s]"
     ]
    },
    {
     "name": "stdout",
     "output_type": "stream",
     "text": [
      "[(nan, None, [0.0, 0.0, 0.0, 0.001]),\n",
      " (nan, None, [0.0, 0.0, 0.01, 0.0]),\n",
      " (nan, None, [0.01, 0.0, 0.01, 0.001]),\n",
      " (nan, None, [0.0, 0.001, 0.01, 0.001])]\n",
      "No wall nearby.\n",
      "[(nan, None, [0.0, 0.0, 0.0, 0.001]),\n",
      " (nan, None, [0.0, 0.0, 0.01, 0.0]),\n",
      " (nan, None, [0.01, 0.0, 0.01, 0.001]),\n",
      " (nan, None, [0.0, 0.001, 0.01, 0.001])]\n",
      "No wall nearby.\n"
     ]
    },
    {
     "name": "stderr",
     "output_type": "stream",
     "text": [
      " 19%|█▉        | 582/3000 [01:21<06:42,  6.01it/s]"
     ]
    },
    {
     "name": "stdout",
     "output_type": "stream",
     "text": [
      "[(nan, None, [0.0, 0.0, 0.0, 0.001]),\n",
      " (nan, None, [0.0, 0.0, 0.01, 0.0]),\n",
      " (nan, None, [0.01, 0.0, 0.01, 0.001]),\n",
      " (nan, None, [0.0, 0.001, 0.01, 0.001])]\n",
      "No wall nearby.\n",
      "[(nan, None, [0.0, 0.0, 0.0, 0.001]),\n",
      " (nan, None, [0.0, 0.0, 0.01, 0.0]),\n",
      " (nan, None, [0.01, 0.0, 0.01, 0.001]),\n",
      " (nan, None, [0.0, 0.001, 0.01, 0.001])]\n",
      "No wall nearby.\n"
     ]
    },
    {
     "name": "stderr",
     "output_type": "stream",
     "text": [
      " 19%|█▉        | 584/3000 [01:21<07:07,  5.65it/s]"
     ]
    },
    {
     "name": "stdout",
     "output_type": "stream",
     "text": [
      "[(nan, None, [0.0, 0.0, 0.0, 0.001]),\n",
      " (nan, None, [0.0, 0.0, 0.01, 0.0]),\n",
      " (nan, None, [0.01, 0.0, 0.01, 0.001]),\n",
      " (nan, None, [0.0, 0.001, 0.01, 0.001])]\n",
      "No wall nearby.\n",
      "[(nan, None, [0.0, 0.0, 0.0, 0.001]),\n",
      " (nan, None, [0.0, 0.0, 0.01, 0.0]),\n",
      " (nan, None, [0.01, 0.0, 0.01, 0.001]),\n",
      " (nan, None, [0.0, 0.001, 0.01, 0.001])]\n",
      "No wall nearby.\n"
     ]
    },
    {
     "name": "stderr",
     "output_type": "stream",
     "text": [
      " 20%|█▉        | 586/3000 [01:21<06:47,  5.93it/s]"
     ]
    },
    {
     "name": "stdout",
     "output_type": "stream",
     "text": [
      "[(nan, None, [0.0, 0.0, 0.0, 0.001]),\n",
      " (nan, None, [0.0, 0.0, 0.01, 0.0]),\n",
      " (nan, None, [0.01, 0.0, 0.01, 0.001]),\n",
      " (nan, None, [0.0, 0.001, 0.01, 0.001])]\n",
      "No wall nearby.\n",
      "[(nan, None, [0.0, 0.0, 0.0, 0.001]),\n",
      " (nan, None, [0.0, 0.0, 0.01, 0.0]),\n",
      " (nan, None, [0.01, 0.0, 0.01, 0.001]),\n",
      " (nan, None, [0.0, 0.001, 0.01, 0.001])]\n",
      "No wall nearby.\n"
     ]
    },
    {
     "name": "stderr",
     "output_type": "stream",
     "text": [
      " 20%|█▉        | 588/3000 [01:22<06:45,  5.95it/s]"
     ]
    },
    {
     "name": "stdout",
     "output_type": "stream",
     "text": [
      "[(nan, None, [0.0, 0.0, 0.0, 0.001]),\n",
      " (nan, None, [0.0, 0.0, 0.01, 0.0]),\n",
      " (nan, None, [0.01, 0.0, 0.01, 0.001]),\n",
      " (nan, None, [0.0, 0.001, 0.01, 0.001])]\n",
      "No wall nearby.\n",
      "[(nan, None, [0.0, 0.0, 0.0, 0.001]),\n",
      " (nan, None, [0.0, 0.0, 0.01, 0.0]),\n",
      " (nan, None, [0.01, 0.0, 0.01, 0.001]),\n",
      " (nan, None, [0.0, 0.001, 0.01, 0.001])]\n",
      "No wall nearby.\n"
     ]
    },
    {
     "name": "stderr",
     "output_type": "stream",
     "text": [
      " 20%|█▉        | 590/3000 [01:22<06:05,  6.60it/s]"
     ]
    },
    {
     "name": "stdout",
     "output_type": "stream",
     "text": [
      "[(nan, None, [0.0, 0.0, 0.0, 0.001]),\n",
      " (nan, None, [0.0, 0.0, 0.01, 0.0]),\n",
      " (nan, None, [0.01, 0.0, 0.01, 0.001]),\n",
      " (nan, None, [0.0, 0.001, 0.01, 0.001])]\n",
      "No wall nearby.\n",
      "[(nan, None, [0.0, 0.0, 0.0, 0.001]),\n",
      " (nan, None, [0.0, 0.0, 0.01, 0.0]),\n",
      " (nan, None, [0.01, 0.0, 0.01, 0.001]),\n",
      " (nan, None, [0.0, 0.001, 0.01, 0.001])]\n",
      "No wall nearby.\n"
     ]
    },
    {
     "name": "stderr",
     "output_type": "stream",
     "text": [
      " 20%|█▉        | 592/3000 [01:22<05:50,  6.87it/s]"
     ]
    },
    {
     "name": "stdout",
     "output_type": "stream",
     "text": [
      "[(nan, None, [0.0, 0.0, 0.0, 0.001]),\n",
      " (nan, None, [0.0, 0.0, 0.01, 0.0]),\n",
      " (nan, None, [0.01, 0.0, 0.01, 0.001]),\n",
      " (nan, None, [0.0, 0.001, 0.01, 0.001])]\n",
      "No wall nearby.\n",
      "[(nan, None, [0.0, 0.0, 0.0, 0.001]),\n",
      " (nan, None, [0.0, 0.0, 0.01, 0.0]),\n",
      " (nan, None, [0.01, 0.0, 0.01, 0.001]),\n",
      " (nan, None, [0.0, 0.001, 0.01, 0.001])]\n",
      "No wall nearby.\n"
     ]
    },
    {
     "name": "stderr",
     "output_type": "stream",
     "text": [
      " 20%|█▉        | 594/3000 [01:22<05:43,  7.00it/s]"
     ]
    },
    {
     "name": "stdout",
     "output_type": "stream",
     "text": [
      "[(nan, None, [0.0, 0.0, 0.0, 0.001]),\n",
      " (nan, None, [0.0, 0.0, 0.01, 0.0]),\n",
      " (nan, None, [0.01, 0.0, 0.01, 0.001]),\n",
      " (nan, None, [0.0, 0.001, 0.01, 0.001])]\n",
      "No wall nearby.\n",
      "[(nan, None, [0.0, 0.0, 0.0, 0.001]),\n",
      " (nan, None, [0.0, 0.0, 0.01, 0.0]),\n",
      " (nan, None, [0.01, 0.0, 0.01, 0.001]),\n",
      " (nan, None, [0.0, 0.001, 0.01, 0.001])]\n",
      "No wall nearby.\n"
     ]
    },
    {
     "name": "stderr",
     "output_type": "stream",
     "text": [
      " 20%|█▉        | 596/3000 [01:23<05:55,  6.75it/s]"
     ]
    },
    {
     "name": "stdout",
     "output_type": "stream",
     "text": [
      "[(nan, None, [0.0, 0.0, 0.0, 0.001]),\n",
      " (nan, None, [0.0, 0.0, 0.01, 0.0]),\n",
      " (nan, None, [0.01, 0.0, 0.01, 0.001]),\n",
      " (nan, None, [0.0, 0.001, 0.01, 0.001])]\n",
      "No wall nearby.\n",
      "[(nan, None, [0.0, 0.0, 0.0, 0.001]),\n",
      " (nan, None, [0.0, 0.0, 0.01, 0.0]),\n",
      " (nan, None, [0.01, 0.0, 0.01, 0.001]),\n",
      " (nan, None, [0.0, 0.001, 0.01, 0.001])]\n",
      "No wall nearby.\n"
     ]
    },
    {
     "name": "stderr",
     "output_type": "stream",
     "text": [
      " 20%|█▉        | 598/3000 [01:23<05:52,  6.81it/s]"
     ]
    },
    {
     "name": "stdout",
     "output_type": "stream",
     "text": [
      "[(nan, None, [0.0, 0.0, 0.0, 0.001]),\n",
      " (nan, None, [0.0, 0.0, 0.01, 0.0]),\n",
      " (nan, None, [0.01, 0.0, 0.01, 0.001]),\n",
      " (nan, None, [0.0, 0.001, 0.01, 0.001])]\n",
      "No wall nearby.\n",
      "[(nan, None, [0.0, 0.0, 0.0, 0.001]),\n",
      " (nan, None, [0.0, 0.0, 0.01, 0.0]),\n",
      " (nan, None, [0.01, 0.0, 0.01, 0.001]),\n",
      " (nan, None, [0.0, 0.001, 0.01, 0.001])]\n",
      "No wall nearby.\n"
     ]
    },
    {
     "name": "stderr",
     "output_type": "stream",
     "text": [
      " 20%|██        | 600/3000 [01:23<05:47,  6.90it/s]"
     ]
    },
    {
     "name": "stdout",
     "output_type": "stream",
     "text": [
      "[(nan, None, [0.0, 0.0, 0.0, 0.001]),\n",
      " (nan, None, [0.0, 0.0, 0.01, 0.0]),\n",
      " (nan, None, [0.01, 0.0, 0.01, 0.001]),\n",
      " (nan, None, [0.0, 0.001, 0.01, 0.001])]\n",
      "No wall nearby.\n",
      "[(nan, None, [0.0, 0.0, 0.0, 0.001]),\n",
      " (nan, None, [0.0, 0.0, 0.01, 0.0]),\n",
      " (nan, None, [0.01, 0.0, 0.01, 0.001]),\n",
      " (nan, None, [0.0, 0.001, 0.01, 0.001])]\n",
      "No wall nearby.\n"
     ]
    },
    {
     "name": "stderr",
     "output_type": "stream",
     "text": [
      " 20%|██        | 602/3000 [01:24<06:01,  6.64it/s]"
     ]
    },
    {
     "name": "stdout",
     "output_type": "stream",
     "text": [
      "[(nan, None, [0.0, 0.0, 0.0, 0.001]),\n",
      " (nan, None, [0.0, 0.0, 0.01, 0.0]),\n",
      " (nan, None, [0.01, 0.0, 0.01, 0.001]),\n",
      " (nan, None, [0.0, 0.001, 0.01, 0.001])]\n",
      "No wall nearby.\n",
      "[(nan, None, [0.0, 0.0, 0.0, 0.001]),\n",
      " (nan, None, [0.0, 0.0, 0.01, 0.0]),\n",
      " (nan, None, [0.01, 0.0, 0.01, 0.001]),\n",
      " (nan, None, [0.0, 0.001, 0.01, 0.001])]\n",
      "No wall nearby.\n"
     ]
    },
    {
     "name": "stderr",
     "output_type": "stream",
     "text": [
      " 20%|██        | 604/3000 [01:24<05:46,  6.92it/s]"
     ]
    },
    {
     "name": "stdout",
     "output_type": "stream",
     "text": [
      "[(nan, None, [0.0, 0.0, 0.0, 0.001]),\n",
      " (nan, None, [0.0, 0.0, 0.01, 0.0]),\n",
      " (nan, None, [0.01, 0.0, 0.01, 0.001]),\n",
      " (nan, None, [0.0, 0.001, 0.01, 0.001])]\n",
      "No wall nearby.\n",
      "[(nan, None, [0.0, 0.0, 0.0, 0.001]),\n",
      " (nan, None, [0.0, 0.0, 0.01, 0.0]),\n",
      " (nan, None, [0.01, 0.0, 0.01, 0.001]),\n",
      " (nan, None, [0.0, 0.001, 0.01, 0.001])]\n",
      "No wall nearby.\n"
     ]
    },
    {
     "name": "stderr",
     "output_type": "stream",
     "text": [
      " 20%|██        | 606/3000 [01:24<05:43,  6.97it/s]"
     ]
    },
    {
     "name": "stdout",
     "output_type": "stream",
     "text": [
      "[(nan, None, [0.0, 0.0, 0.0, 0.001]),\n",
      " (nan, None, [0.0, 0.0, 0.01, 0.0]),\n",
      " (nan, None, [0.01, 0.0, 0.01, 0.001]),\n",
      " (nan, None, [0.0, 0.001, 0.01, 0.001])]\n",
      "No wall nearby.\n",
      "[(nan, None, [0.0, 0.0, 0.0, 0.001]),\n",
      " (nan, None, [0.0, 0.0, 0.01, 0.0]),\n",
      " (nan, None, [0.01, 0.0, 0.01, 0.001]),\n",
      " (nan, None, [0.0, 0.001, 0.01, 0.001])]\n",
      "No wall nearby.\n"
     ]
    },
    {
     "name": "stderr",
     "output_type": "stream",
     "text": [
      " 20%|██        | 608/3000 [01:24<05:55,  6.74it/s]"
     ]
    },
    {
     "name": "stdout",
     "output_type": "stream",
     "text": [
      "[(nan, None, [0.0, 0.0, 0.0, 0.001]),\n",
      " (nan, None, [0.0, 0.0, 0.01, 0.0]),\n",
      " (nan, None, [0.01, 0.0, 0.01, 0.001]),\n",
      " (nan, None, [0.0, 0.001, 0.01, 0.001])]\n",
      "No wall nearby.\n",
      "[(nan, None, [0.0, 0.0, 0.0, 0.001]),\n",
      " (nan, None, [0.0, 0.0, 0.01, 0.0]),\n",
      " (nan, None, [0.01, 0.0, 0.01, 0.001]),\n",
      " (nan, None, [0.0, 0.001, 0.01, 0.001])]\n",
      "No wall nearby.\n"
     ]
    },
    {
     "name": "stderr",
     "output_type": "stream",
     "text": [
      " 20%|██        | 610/3000 [01:25<05:37,  7.08it/s]"
     ]
    },
    {
     "name": "stdout",
     "output_type": "stream",
     "text": [
      "[(nan, None, [0.0, 0.0, 0.0, 0.001]),\n",
      " (nan, None, [0.0, 0.0, 0.01, 0.0]),\n",
      " (nan, None, [0.01, 0.0, 0.01, 0.001]),\n",
      " (nan, None, [0.0, 0.001, 0.01, 0.001])]\n",
      "No wall nearby.\n",
      "[(nan, None, [0.0, 0.0, 0.0, 0.001]),\n",
      " (nan, None, [0.0, 0.0, 0.01, 0.0]),\n",
      " (nan, None, [0.01, 0.0, 0.01, 0.001]),\n",
      " (nan, None, [0.0, 0.001, 0.01, 0.001])]\n",
      "No wall nearby.\n"
     ]
    },
    {
     "name": "stderr",
     "output_type": "stream",
     "text": [
      " 20%|██        | 612/3000 [01:25<05:32,  7.19it/s]"
     ]
    },
    {
     "name": "stdout",
     "output_type": "stream",
     "text": [
      "[(nan, None, [0.0, 0.0, 0.0, 0.001]),\n",
      " (nan, None, [0.0, 0.0, 0.01, 0.0]),\n",
      " (nan, None, [0.01, 0.0, 0.01, 0.001]),\n",
      " (nan, None, [0.0, 0.001, 0.01, 0.001])]\n",
      "No wall nearby.\n",
      "[(nan, None, [0.0, 0.0, 0.0, 0.001]),\n",
      " (nan, None, [0.0, 0.0, 0.01, 0.0]),\n",
      " (nan, None, [0.01, 0.0, 0.01, 0.001]),\n",
      " (nan, None, [0.0, 0.001, 0.01, 0.001])]\n",
      "No wall nearby.\n"
     ]
    },
    {
     "name": "stderr",
     "output_type": "stream",
     "text": [
      " 20%|██        | 614/3000 [01:25<05:50,  6.80it/s]"
     ]
    },
    {
     "name": "stdout",
     "output_type": "stream",
     "text": [
      "[(nan, None, [0.0, 0.0, 0.0, 0.001]),\n",
      " (nan, None, [0.0, 0.0, 0.01, 0.0]),\n",
      " (nan, None, [0.01, 0.0, 0.01, 0.001]),\n",
      " (nan, None, [0.0, 0.001, 0.01, 0.001])]\n",
      "No wall nearby.\n",
      "[(nan, None, [0.0, 0.0, 0.0, 0.001]),\n",
      " (nan, None, [0.0, 0.0, 0.01, 0.0]),\n",
      " (nan, None, [0.01, 0.0, 0.01, 0.001]),\n",
      " (nan, None, [0.0, 0.001, 0.01, 0.001])]\n",
      "No wall nearby.\n"
     ]
    },
    {
     "name": "stderr",
     "output_type": "stream",
     "text": [
      " 21%|██        | 616/3000 [01:26<05:32,  7.18it/s]"
     ]
    },
    {
     "name": "stdout",
     "output_type": "stream",
     "text": [
      "[(nan, None, [0.0, 0.0, 0.0, 0.001]),\n",
      " (nan, None, [0.0, 0.0, 0.01, 0.0]),\n",
      " (nan, None, [0.01, 0.0, 0.01, 0.001]),\n",
      " (nan, None, [0.0, 0.001, 0.01, 0.001])]\n",
      "No wall nearby.\n",
      "[(nan, None, [0.0, 0.0, 0.0, 0.001]),\n",
      " (nan, None, [0.0, 0.0, 0.01, 0.0]),\n",
      " (nan, None, [0.01, 0.0, 0.01, 0.001]),\n",
      " (nan, None, [0.0, 0.001, 0.01, 0.001])]\n",
      "No wall nearby.\n"
     ]
    },
    {
     "name": "stderr",
     "output_type": "stream",
     "text": [
      " 21%|██        | 618/3000 [01:26<05:23,  7.37it/s]"
     ]
    },
    {
     "name": "stdout",
     "output_type": "stream",
     "text": [
      "[(nan, None, [0.0, 0.0, 0.0, 0.001]),\n",
      " (nan, None, [0.0, 0.0, 0.01, 0.0]),\n",
      " (nan, None, [0.01, 0.0, 0.01, 0.001]),\n",
      " (nan, None, [0.0, 0.001, 0.01, 0.001])]\n",
      "No wall nearby.\n",
      "[(nan, None, [0.0, 0.0, 0.0, 0.001]),\n",
      " (nan, None, [0.0, 0.0, 0.01, 0.0]),\n",
      " (nan, None, [0.01, 0.0, 0.01, 0.001]),\n",
      " (nan, None, [0.0, 0.001, 0.01, 0.001])]\n",
      "No wall nearby.\n"
     ]
    },
    {
     "name": "stderr",
     "output_type": "stream",
     "text": [
      " 21%|██        | 620/3000 [01:26<05:47,  6.85it/s]"
     ]
    },
    {
     "name": "stdout",
     "output_type": "stream",
     "text": [
      "[(nan, None, [0.0, 0.0, 0.0, 0.001]),\n",
      " (nan, None, [0.0, 0.0, 0.01, 0.0]),\n",
      " (nan, None, [0.01, 0.0, 0.01, 0.001]),\n",
      " (nan, None, [0.0, 0.001, 0.01, 0.001])]\n",
      "No wall nearby.\n",
      "[(nan, None, [0.0, 0.0, 0.0, 0.001]),\n",
      " (nan, None, [0.0, 0.0, 0.01, 0.0]),\n",
      " (nan, None, [0.01, 0.0, 0.01, 0.001]),\n",
      " (nan, None, [0.0, 0.001, 0.01, 0.001])]\n",
      "No wall nearby.\n"
     ]
    },
    {
     "name": "stderr",
     "output_type": "stream",
     "text": [
      " 21%|██        | 622/3000 [01:26<05:35,  7.09it/s]"
     ]
    },
    {
     "name": "stdout",
     "output_type": "stream",
     "text": [
      "[(nan, None, [0.0, 0.0, 0.0, 0.001]),\n",
      " (nan, None, [0.0, 0.0, 0.01, 0.0]),\n",
      " (nan, None, [0.01, 0.0, 0.01, 0.001]),\n",
      " (nan, None, [0.0, 0.001, 0.01, 0.001])]\n",
      "No wall nearby.\n",
      "[(nan, None, [0.0, 0.0, 0.0, 0.001]),\n",
      " (nan, None, [0.0, 0.0, 0.01, 0.0]),\n",
      " (nan, None, [0.01, 0.0, 0.01, 0.001]),\n",
      " (nan, None, [0.0, 0.001, 0.01, 0.001])]\n",
      "No wall nearby.\n"
     ]
    },
    {
     "name": "stderr",
     "output_type": "stream",
     "text": [
      " 21%|██        | 624/3000 [01:27<05:28,  7.23it/s]"
     ]
    },
    {
     "name": "stdout",
     "output_type": "stream",
     "text": [
      "[(nan, None, [0.0, 0.0, 0.0, 0.001]),\n",
      " (nan, None, [0.0, 0.0, 0.01, 0.0]),\n",
      " (nan, None, [0.01, 0.0, 0.01, 0.001]),\n",
      " (nan, None, [0.0, 0.001, 0.01, 0.001])]\n",
      "No wall nearby.\n",
      "[(nan, None, [0.0, 0.0, 0.0, 0.001]),\n",
      " (nan, None, [0.0, 0.0, 0.01, 0.0]),\n",
      " (nan, None, [0.01, 0.0, 0.01, 0.001]),\n",
      " (nan, None, [0.0, 0.001, 0.01, 0.001])]\n",
      "No wall nearby.\n"
     ]
    },
    {
     "name": "stderr",
     "output_type": "stream",
     "text": [
      " 21%|██        | 626/3000 [01:27<05:27,  7.25it/s]"
     ]
    },
    {
     "name": "stdout",
     "output_type": "stream",
     "text": [
      "[(nan, None, [0.0, 0.0, 0.0, 0.001]),\n",
      " (nan, None, [0.0, 0.0, 0.01, 0.0]),\n",
      " (nan, None, [0.01, 0.0, 0.01, 0.001]),\n",
      " (nan, None, [0.0, 0.001, 0.01, 0.001])]\n",
      "No wall nearby.\n",
      "[(nan, None, [0.0, 0.0, 0.0, 0.001]),\n",
      " (nan, None, [0.0, 0.0, 0.01, 0.0]),\n",
      " (nan, None, [0.01, 0.0, 0.01, 0.001]),\n",
      " (nan, None, [0.0, 0.001, 0.01, 0.001])]\n",
      "No wall nearby.\n"
     ]
    },
    {
     "name": "stderr",
     "output_type": "stream",
     "text": [
      " 21%|██        | 628/3000 [01:27<05:45,  6.86it/s]"
     ]
    },
    {
     "name": "stdout",
     "output_type": "stream",
     "text": [
      "[(nan, None, [0.0, 0.0, 0.0, 0.001]),\n",
      " (nan, None, [0.0, 0.0, 0.01, 0.0]),\n",
      " (nan, None, [0.01, 0.0, 0.01, 0.001]),\n",
      " (nan, None, [0.0, 0.001, 0.01, 0.001])]\n",
      "No wall nearby.\n",
      "[(nan, None, [0.0, 0.0, 0.0, 0.001]),\n",
      " (nan, None, [0.0, 0.0, 0.01, 0.0]),\n",
      " (nan, None, [0.01, 0.0, 0.01, 0.001]),\n",
      " (nan, None, [0.0, 0.001, 0.01, 0.001])]\n",
      "No wall nearby.\n"
     ]
    },
    {
     "name": "stderr",
     "output_type": "stream",
     "text": [
      " 21%|██        | 630/3000 [01:28<05:36,  7.04it/s]"
     ]
    },
    {
     "name": "stdout",
     "output_type": "stream",
     "text": [
      "[(nan, None, [0.0, 0.0, 0.0, 0.001]),\n",
      " (nan, None, [0.0, 0.0, 0.01, 0.0]),\n",
      " (nan, None, [0.01, 0.0, 0.01, 0.001]),\n",
      " (nan, None, [0.0, 0.001, 0.01, 0.001])]\n",
      "No wall nearby.\n",
      "[(nan, None, [0.0, 0.0, 0.0, 0.001]),\n",
      " (nan, None, [0.0, 0.0, 0.01, 0.0]),\n",
      " (nan, None, [0.01, 0.0, 0.01, 0.001]),\n",
      " (nan, None, [0.0, 0.001, 0.01, 0.001])]\n",
      "No wall nearby.\n"
     ]
    },
    {
     "name": "stderr",
     "output_type": "stream",
     "text": [
      " 21%|██        | 632/3000 [01:28<05:30,  7.16it/s]"
     ]
    },
    {
     "name": "stdout",
     "output_type": "stream",
     "text": [
      "[(nan, None, [0.0, 0.0, 0.0, 0.001]),\n",
      " (nan, None, [0.0, 0.0, 0.01, 0.0]),\n",
      " (nan, None, [0.01, 0.0, 0.01, 0.001]),\n",
      " (nan, None, [0.0, 0.001, 0.01, 0.001])]\n",
      "No wall nearby.\n",
      "[(nan, None, [0.0, 0.0, 0.0, 0.001]),\n",
      " (nan, None, [0.0, 0.0, 0.01, 0.0]),\n",
      " (nan, None, [0.01, 0.0, 0.01, 0.001]),\n",
      " (nan, None, [0.0, 0.001, 0.01, 0.001])]\n",
      "No wall nearby.\n"
     ]
    },
    {
     "name": "stderr",
     "output_type": "stream",
     "text": [
      " 21%|██        | 634/3000 [01:28<05:50,  6.75it/s]"
     ]
    },
    {
     "name": "stdout",
     "output_type": "stream",
     "text": [
      "[(nan, None, [0.0, 0.0, 0.0, 0.001]),\n",
      " (nan, None, [0.0, 0.0, 0.01, 0.0]),\n",
      " (nan, None, [0.01, 0.0, 0.01, 0.001]),\n",
      " (nan, None, [0.0, 0.001, 0.01, 0.001])]\n",
      "No wall nearby.\n",
      "[(nan, None, [0.0, 0.0, 0.0, 0.001]),\n",
      " (nan, None, [0.0, 0.0, 0.01, 0.0]),\n",
      " (nan, None, [0.01, 0.0, 0.01, 0.001]),\n",
      " (nan, None, [0.0, 0.001, 0.01, 0.001])]\n",
      "No wall nearby.\n"
     ]
    },
    {
     "name": "stderr",
     "output_type": "stream",
     "text": [
      " 21%|██        | 636/3000 [01:28<05:36,  7.04it/s]"
     ]
    },
    {
     "name": "stdout",
     "output_type": "stream",
     "text": [
      "[(nan, None, [0.0, 0.0, 0.0, 0.001]),\n",
      " (nan, None, [0.0, 0.0, 0.01, 0.0]),\n",
      " (nan, None, [0.01, 0.0, 0.01, 0.001]),\n",
      " (nan, None, [0.0, 0.001, 0.01, 0.001])]\n",
      "No wall nearby.\n",
      "[(nan, None, [0.0, 0.0, 0.0, 0.001]),\n",
      " (nan, None, [0.0, 0.0, 0.01, 0.0]),\n",
      " (nan, None, [0.01, 0.0, 0.01, 0.001]),\n",
      " (nan, None, [0.0, 0.001, 0.01, 0.001])]\n",
      "No wall nearby.\n"
     ]
    },
    {
     "name": "stderr",
     "output_type": "stream",
     "text": [
      " 21%|██▏       | 638/3000 [01:29<05:29,  7.17it/s]"
     ]
    },
    {
     "name": "stdout",
     "output_type": "stream",
     "text": [
      "[(nan, None, [0.0, 0.0, 0.0, 0.001]),\n",
      " (nan, None, [0.0, 0.0, 0.01, 0.0]),\n",
      " (nan, None, [0.01, 0.0, 0.01, 0.001]),\n",
      " (nan, None, [0.0, 0.001, 0.01, 0.001])]\n",
      "No wall nearby.\n",
      "[(nan, None, [0.0, 0.0, 0.0, 0.001]),\n",
      " (nan, None, [0.0, 0.0, 0.01, 0.0]),\n",
      " (nan, None, [0.01, 0.0, 0.01, 0.001]),\n",
      " (nan, None, [0.0, 0.001, 0.01, 0.001])]\n",
      "No wall nearby.\n"
     ]
    },
    {
     "name": "stderr",
     "output_type": "stream",
     "text": [
      " 21%|██▏       | 640/3000 [01:29<05:48,  6.78it/s]"
     ]
    },
    {
     "name": "stdout",
     "output_type": "stream",
     "text": [
      "[(nan, None, [0.0, 0.0, 0.0, 0.001]),\n",
      " (nan, None, [0.0, 0.0, 0.01, 0.0]),\n",
      " (nan, None, [0.01, 0.0, 0.01, 0.001]),\n",
      " (nan, None, [0.0, 0.001, 0.01, 0.001])]\n",
      "No wall nearby.\n",
      "[(nan, None, [0.0, 0.0, 0.0, 0.001]),\n",
      " (nan, None, [0.0, 0.0, 0.01, 0.0]),\n",
      " (nan, None, [0.01, 0.0, 0.01, 0.001]),\n",
      " (nan, None, [0.0, 0.001, 0.01, 0.001])]\n",
      "No wall nearby.\n"
     ]
    },
    {
     "name": "stderr",
     "output_type": "stream",
     "text": [
      " 21%|██▏       | 642/3000 [01:29<05:31,  7.12it/s]"
     ]
    },
    {
     "name": "stdout",
     "output_type": "stream",
     "text": [
      "[(nan, None, [0.0, 0.0, 0.0, 0.001]),\n",
      " (nan, None, [0.0, 0.0, 0.01, 0.0]),\n",
      " (nan, None, [0.01, 0.0, 0.01, 0.001]),\n",
      " (nan, None, [0.0, 0.001, 0.01, 0.001])]\n",
      "No wall nearby.\n",
      "[(nan, None, [0.0, 0.0, 0.0, 0.001]),\n",
      " (nan, None, [0.0, 0.0, 0.01, 0.0]),\n",
      " (nan, None, [0.01, 0.0, 0.01, 0.001]),\n",
      " (nan, None, [0.0, 0.001, 0.01, 0.001])]\n",
      "No wall nearby.\n"
     ]
    },
    {
     "name": "stderr",
     "output_type": "stream",
     "text": [
      " 21%|██▏       | 644/3000 [01:30<05:25,  7.24it/s]"
     ]
    },
    {
     "name": "stdout",
     "output_type": "stream",
     "text": [
      "[(nan, None, [0.0, 0.0, 0.0, 0.001]),\n",
      " (nan, None, [0.0, 0.0, 0.01, 0.0]),\n",
      " (nan, None, [0.01, 0.0, 0.01, 0.001]),\n",
      " (nan, None, [0.0, 0.001, 0.01, 0.001])]\n",
      "No wall nearby.\n",
      "[(nan, None, [0.0, 0.0, 0.0, 0.001]),\n",
      " (nan, None, [0.0, 0.0, 0.01, 0.0]),\n",
      " (nan, None, [0.01, 0.0, 0.01, 0.001]),\n",
      " (nan, None, [0.0, 0.001, 0.01, 0.001])]\n",
      "No wall nearby.\n"
     ]
    },
    {
     "name": "stderr",
     "output_type": "stream",
     "text": [
      " 22%|██▏       | 646/3000 [01:30<05:20,  7.35it/s]"
     ]
    },
    {
     "name": "stdout",
     "output_type": "stream",
     "text": [
      "[(nan, None, [0.0, 0.0, 0.0, 0.001]),\n",
      " (nan, None, [0.0, 0.0, 0.01, 0.0]),\n",
      " (nan, None, [0.01, 0.0, 0.01, 0.001]),\n",
      " (nan, None, [0.0, 0.001, 0.01, 0.001])]\n",
      "No wall nearby.\n",
      "[(nan, None, [0.0, 0.0, 0.0, 0.001]),\n",
      " (nan, None, [0.0, 0.0, 0.01, 0.0]),\n",
      " (nan, None, [0.01, 0.0, 0.01, 0.001]),\n",
      " (nan, None, [0.0, 0.001, 0.01, 0.001])]\n",
      "No wall nearby.\n"
     ]
    },
    {
     "name": "stderr",
     "output_type": "stream",
     "text": [
      " 22%|██▏       | 648/3000 [01:30<05:35,  7.01it/s]"
     ]
    },
    {
     "name": "stdout",
     "output_type": "stream",
     "text": [
      "[(nan, None, [0.0, 0.0, 0.0, 0.001]),\n",
      " (nan, None, [0.0, 0.0, 0.01, 0.0]),\n",
      " (nan, None, [0.01, 0.0, 0.01, 0.001]),\n",
      " (nan, None, [0.0, 0.001, 0.01, 0.001])]\n",
      "No wall nearby.\n",
      "[(nan, None, [0.0, 0.0, 0.0, 0.001]),\n",
      " (nan, None, [0.0, 0.0, 0.01, 0.0]),\n",
      " (nan, None, [0.01, 0.0, 0.01, 0.001]),\n",
      " (nan, None, [0.0, 0.001, 0.01, 0.001])]\n",
      "No wall nearby.\n"
     ]
    },
    {
     "name": "stderr",
     "output_type": "stream",
     "text": [
      " 22%|██▏       | 650/3000 [01:30<05:39,  6.91it/s]"
     ]
    },
    {
     "name": "stdout",
     "output_type": "stream",
     "text": [
      "[(nan, None, [0.0, 0.0, 0.0, 0.001]),\n",
      " (nan, None, [0.0, 0.0, 0.01, 0.0]),\n",
      " (nan, None, [0.01, 0.0, 0.01, 0.001]),\n",
      " (nan, None, [0.0, 0.001, 0.01, 0.001])]\n",
      "No wall nearby.\n",
      "[(nan, None, [0.0, 0.0, 0.0, 0.001]),\n",
      " (nan, None, [0.0, 0.0, 0.01, 0.0]),\n",
      " (nan, None, [0.01, 0.0, 0.01, 0.001]),\n",
      " (nan, None, [0.0, 0.001, 0.01, 0.001])]\n",
      "No wall nearby.\n"
     ]
    },
    {
     "name": "stderr",
     "output_type": "stream",
     "text": [
      " 22%|██▏       | 652/3000 [01:31<05:42,  6.85it/s]"
     ]
    },
    {
     "name": "stdout",
     "output_type": "stream",
     "text": [
      "[(nan, None, [0.0, 0.0, 0.0, 0.001]),\n",
      " (nan, None, [0.0, 0.0, 0.01, 0.0]),\n",
      " (nan, None, [0.01, 0.0, 0.01, 0.001]),\n",
      " (nan, None, [0.0, 0.001, 0.01, 0.001])]\n",
      "No wall nearby.\n",
      "[(nan, None, [0.0, 0.0, 0.0, 0.001]),\n",
      " (nan, None, [0.0, 0.0, 0.01, 0.0]),\n",
      " (nan, None, [0.01, 0.0, 0.01, 0.001]),\n",
      " (nan, None, [0.0, 0.001, 0.01, 0.001])]\n",
      "No wall nearby.\n"
     ]
    },
    {
     "name": "stderr",
     "output_type": "stream",
     "text": [
      " 22%|██▏       | 654/3000 [01:31<05:56,  6.57it/s]"
     ]
    },
    {
     "name": "stdout",
     "output_type": "stream",
     "text": [
      "[(nan, None, [0.0, 0.0, 0.0, 0.001]),\n",
      " (nan, None, [0.0, 0.0, 0.01, 0.0]),\n",
      " (nan, None, [0.01, 0.0, 0.01, 0.001]),\n",
      " (nan, None, [0.0, 0.001, 0.01, 0.001])]\n",
      "No wall nearby.\n",
      "[(nan, None, [0.0, 0.0, 0.0, 0.001]),\n",
      " (nan, None, [0.0, 0.0, 0.01, 0.0]),\n",
      " (nan, None, [0.01, 0.0, 0.01, 0.001]),\n",
      " (nan, None, [0.0, 0.001, 0.01, 0.001])]\n",
      "No wall nearby.\n"
     ]
    },
    {
     "name": "stderr",
     "output_type": "stream",
     "text": [
      " 22%|██▏       | 656/3000 [01:31<05:42,  6.85it/s]"
     ]
    },
    {
     "name": "stdout",
     "output_type": "stream",
     "text": [
      "[(nan, None, [0.0, 0.0, 0.0, 0.001]),\n",
      " (nan, None, [0.0, 0.0, 0.01, 0.0]),\n",
      " (nan, None, [0.01, 0.0, 0.01, 0.001]),\n",
      " (nan, None, [0.0, 0.001, 0.01, 0.001])]\n",
      "No wall nearby.\n",
      "[(nan, None, [0.0, 0.0, 0.0, 0.001]),\n",
      " (nan, None, [0.0, 0.0, 0.01, 0.0]),\n",
      " (nan, None, [0.01, 0.0, 0.01, 0.001]),\n",
      " (nan, None, [0.0, 0.001, 0.01, 0.001])]\n",
      "No wall nearby.\n"
     ]
    },
    {
     "name": "stderr",
     "output_type": "stream",
     "text": [
      " 22%|██▏       | 658/3000 [01:32<05:34,  7.01it/s]"
     ]
    },
    {
     "name": "stdout",
     "output_type": "stream",
     "text": [
      "[(nan, None, [0.0, 0.0, 0.0, 0.001]),\n",
      " (nan, None, [0.0, 0.0, 0.01, 0.0]),\n",
      " (nan, None, [0.01, 0.0, 0.01, 0.001]),\n",
      " (nan, None, [0.0, 0.001, 0.01, 0.001])]\n",
      "No wall nearby.\n",
      "[(nan, None, [0.0, 0.0, 0.0, 0.001]),\n",
      " (nan, None, [0.0, 0.0, 0.01, 0.0]),\n",
      " (nan, None, [0.01, 0.0, 0.01, 0.001]),\n",
      " (nan, None, [0.0, 0.001, 0.01, 0.001])]\n",
      "No wall nearby.\n"
     ]
    },
    {
     "name": "stderr",
     "output_type": "stream",
     "text": [
      " 22%|██▏       | 660/3000 [01:32<06:00,  6.49it/s]"
     ]
    },
    {
     "name": "stdout",
     "output_type": "stream",
     "text": [
      "[(nan, None, [0.0, 0.0, 0.0, 0.001]),\n",
      " (nan, None, [0.0, 0.0, 0.01, 0.0]),\n",
      " (nan, None, [0.01, 0.0, 0.01, 0.001]),\n",
      " (nan, None, [0.0, 0.001, 0.01, 0.001])]\n",
      "No wall nearby.\n",
      "[(nan, None, [0.0, 0.0, 0.0, 0.001]),\n",
      " (nan, None, [0.0, 0.0, 0.01, 0.0]),\n",
      " (nan, None, [0.01, 0.0, 0.01, 0.001]),\n",
      " (nan, None, [0.0, 0.001, 0.01, 0.001])]\n",
      "No wall nearby.\n"
     ]
    },
    {
     "name": "stderr",
     "output_type": "stream",
     "text": [
      " 22%|██▏       | 662/3000 [01:32<05:52,  6.63it/s]"
     ]
    },
    {
     "name": "stdout",
     "output_type": "stream",
     "text": [
      "[(nan, None, [0.0, 0.0, 0.0, 0.001]),\n",
      " (nan, None, [0.0, 0.0, 0.01, 0.0]),\n",
      " (nan, None, [0.01, 0.0, 0.01, 0.001]),\n",
      " (nan, None, [0.0, 0.001, 0.01, 0.001])]\n",
      "No wall nearby.\n",
      "[(nan, None, [0.0, 0.0, 0.0, 0.001]),\n",
      " (nan, None, [0.0, 0.0, 0.01, 0.0]),\n",
      " (nan, None, [0.01, 0.0, 0.01, 0.001]),\n",
      " (nan, None, [0.0, 0.001, 0.01, 0.001])]\n",
      "No wall nearby.\n"
     ]
    },
    {
     "name": "stderr",
     "output_type": "stream",
     "text": [
      " 22%|██▏       | 664/3000 [01:32<05:50,  6.67it/s]"
     ]
    },
    {
     "name": "stdout",
     "output_type": "stream",
     "text": [
      "[(nan, None, [0.0, 0.0, 0.0, 0.001]),\n",
      " (nan, None, [0.0, 0.0, 0.01, 0.0]),\n",
      " (nan, None, [0.01, 0.0, 0.01, 0.001]),\n",
      " (nan, None, [0.0, 0.001, 0.01, 0.001])]\n",
      "No wall nearby.\n",
      "[(nan, None, [0.0, 0.0, 0.0, 0.001]),\n",
      " (nan, None, [0.0, 0.0, 0.01, 0.0]),\n",
      " (nan, None, [0.01, 0.0, 0.01, 0.001]),\n",
      " (nan, None, [0.0, 0.001, 0.01, 0.001])]\n",
      "No wall nearby.\n"
     ]
    },
    {
     "name": "stderr",
     "output_type": "stream",
     "text": [
      " 22%|██▏       | 666/3000 [01:33<06:09,  6.32it/s]"
     ]
    },
    {
     "name": "stdout",
     "output_type": "stream",
     "text": [
      "[(nan, None, [0.0, 0.0, 0.0, 0.001]),\n",
      " (nan, None, [0.0, 0.0, 0.01, 0.0]),\n",
      " (nan, None, [0.01, 0.0, 0.01, 0.001]),\n",
      " (nan, None, [0.0, 0.001, 0.01, 0.001])]\n",
      "No wall nearby.\n",
      "[(nan, None, [0.0, 0.0, 0.0, 0.001]),\n",
      " (nan, None, [0.0, 0.0, 0.01, 0.0]),\n",
      " (nan, None, [0.01, 0.0, 0.01, 0.001]),\n",
      " (nan, None, [0.0, 0.001, 0.01, 0.001])]\n",
      "No wall nearby.\n"
     ]
    },
    {
     "name": "stderr",
     "output_type": "stream",
     "text": [
      " 22%|██▏       | 668/3000 [01:33<05:49,  6.67it/s]"
     ]
    },
    {
     "name": "stdout",
     "output_type": "stream",
     "text": [
      "[(nan, None, [0.0, 0.0, 0.0, 0.001]),\n",
      " (nan, None, [0.0, 0.0, 0.01, 0.0]),\n",
      " (nan, None, [0.01, 0.0, 0.01, 0.001]),\n",
      " (nan, None, [0.0, 0.001, 0.01, 0.001])]\n",
      "No wall nearby.\n",
      "[(nan, None, [0.0, 0.0, 0.0, 0.001]),\n",
      " (nan, None, [0.0, 0.0, 0.01, 0.0]),\n",
      " (nan, None, [0.01, 0.0, 0.01, 0.001]),\n",
      " (nan, None, [0.0, 0.001, 0.01, 0.001])]\n",
      "No wall nearby.\n"
     ]
    },
    {
     "name": "stderr",
     "output_type": "stream",
     "text": [
      " 22%|██▏       | 670/3000 [01:33<05:35,  6.94it/s]"
     ]
    },
    {
     "name": "stdout",
     "output_type": "stream",
     "text": [
      "[(nan, None, [0.0, 0.0, 0.0, 0.001]),\n",
      " (nan, None, [0.0, 0.0, 0.01, 0.0]),\n",
      " (nan, None, [0.01, 0.0, 0.01, 0.001]),\n",
      " (nan, None, [0.0, 0.001, 0.01, 0.001])]\n",
      "No wall nearby.\n",
      "[(nan, None, [0.0, 0.0, 0.0, 0.001]),\n",
      " (nan, None, [0.0, 0.0, 0.01, 0.0]),\n",
      " (nan, None, [0.01, 0.0, 0.01, 0.001]),\n",
      " (nan, None, [0.0, 0.001, 0.01, 0.001])]\n",
      "No wall nearby.\n"
     ]
    },
    {
     "name": "stderr",
     "output_type": "stream",
     "text": [
      " 22%|██▏       | 672/3000 [01:34<05:28,  7.08it/s]"
     ]
    },
    {
     "name": "stdout",
     "output_type": "stream",
     "text": [
      "[(nan, None, [0.0, 0.0, 0.0, 0.001]),\n",
      " (nan, None, [0.0, 0.0, 0.01, 0.0]),\n",
      " (nan, None, [0.01, 0.0, 0.01, 0.001]),\n",
      " (nan, None, [0.0, 0.001, 0.01, 0.001])]\n",
      "No wall nearby.\n",
      "[(nan, None, [0.0, 0.0, 0.0, 0.001]),\n",
      " (nan, None, [0.0, 0.0, 0.01, 0.0]),\n",
      " (nan, None, [0.01, 0.0, 0.01, 0.001]),\n",
      " (nan, None, [0.0, 0.001, 0.01, 0.001])]\n",
      "No wall nearby.\n"
     ]
    },
    {
     "name": "stderr",
     "output_type": "stream",
     "text": [
      " 22%|██▏       | 674/3000 [01:34<05:36,  6.91it/s]"
     ]
    },
    {
     "name": "stdout",
     "output_type": "stream",
     "text": [
      "[(nan, None, [0.0, 0.0, 0.0, 0.001]),\n",
      " (nan, None, [0.0, 0.0, 0.01, 0.0]),\n",
      " (nan, None, [0.01, 0.0, 0.01, 0.001]),\n",
      " (nan, None, [0.0, 0.001, 0.01, 0.001])]\n",
      "No wall nearby.\n",
      "[(nan, None, [0.0, 0.0, 0.0, 0.001]),\n",
      " (nan, None, [0.0, 0.0, 0.01, 0.0]),\n",
      " (nan, None, [0.01, 0.0, 0.01, 0.001]),\n",
      " (nan, None, [0.0, 0.001, 0.01, 0.001])]\n",
      "No wall nearby.\n"
     ]
    },
    {
     "name": "stderr",
     "output_type": "stream",
     "text": [
      " 23%|██▎       | 676/3000 [01:34<05:26,  7.11it/s]"
     ]
    },
    {
     "name": "stdout",
     "output_type": "stream",
     "text": [
      "[(nan, None, [0.0, 0.0, 0.0, 0.001]),\n",
      " (nan, None, [0.0, 0.0, 0.01, 0.0]),\n",
      " (nan, None, [0.01, 0.0, 0.01, 0.001]),\n",
      " (nan, None, [0.0, 0.001, 0.01, 0.001])]\n",
      "No wall nearby.\n",
      "[(nan, None, [0.0, 0.0, 0.0, 0.001]),\n",
      " (nan, None, [0.0, 0.0, 0.01, 0.0]),\n",
      " (nan, None, [0.01, 0.0, 0.01, 0.001]),\n",
      " (nan, None, [0.0, 0.001, 0.01, 0.001])]\n",
      "No wall nearby.\n"
     ]
    },
    {
     "name": "stderr",
     "output_type": "stream",
     "text": [
      " 23%|██▎       | 678/3000 [01:35<05:22,  7.21it/s]"
     ]
    },
    {
     "name": "stdout",
     "output_type": "stream",
     "text": [
      "[(nan, None, [0.0, 0.0, 0.0, 0.001]),\n",
      " (nan, None, [0.0, 0.0, 0.01, 0.0]),\n",
      " (nan, None, [0.01, 0.0, 0.01, 0.001]),\n",
      " (nan, None, [0.0, 0.001, 0.01, 0.001])]\n",
      "No wall nearby.\n",
      "[(nan, None, [0.0, 0.0, 0.0, 0.001]),\n",
      " (nan, None, [0.0, 0.0, 0.01, 0.0]),\n",
      " (nan, None, [0.01, 0.0, 0.01, 0.001]),\n",
      " (nan, None, [0.0, 0.001, 0.01, 0.001])]\n",
      "No wall nearby.\n"
     ]
    },
    {
     "name": "stderr",
     "output_type": "stream",
     "text": [
      " 23%|██▎       | 680/3000 [01:35<05:36,  6.89it/s]"
     ]
    },
    {
     "name": "stdout",
     "output_type": "stream",
     "text": [
      "[(nan, None, [0.0, 0.0, 0.0, 0.001]),\n",
      " (nan, None, [0.0, 0.0, 0.01, 0.0]),\n",
      " (nan, None, [0.01, 0.0, 0.01, 0.001]),\n",
      " (nan, None, [0.0, 0.001, 0.01, 0.001])]\n",
      "No wall nearby.\n",
      "[(nan, None, [0.0, 0.0, 0.0, 0.001]),\n",
      " (nan, None, [0.0, 0.0, 0.01, 0.0]),\n",
      " (nan, None, [0.01, 0.0, 0.01, 0.001]),\n",
      " (nan, None, [0.0, 0.001, 0.01, 0.001])]\n",
      "No wall nearby.\n"
     ]
    },
    {
     "name": "stderr",
     "output_type": "stream",
     "text": [
      " 23%|██▎       | 682/3000 [01:35<05:29,  7.04it/s]"
     ]
    },
    {
     "name": "stdout",
     "output_type": "stream",
     "text": [
      "[(nan, None, [0.0, 0.0, 0.0, 0.001]),\n",
      " (nan, None, [0.0, 0.0, 0.01, 0.0]),\n",
      " (nan, None, [0.01, 0.0, 0.01, 0.001]),\n",
      " (nan, None, [0.0, 0.001, 0.01, 0.001])]\n",
      "No wall nearby.\n",
      "[(nan, None, [0.0, 0.0, 0.0, 0.001]),\n",
      " (nan, None, [0.0, 0.0, 0.01, 0.0]),\n",
      " (nan, None, [0.01, 0.0, 0.01, 0.001]),\n",
      " (nan, None, [0.0, 0.001, 0.01, 0.001])]\n",
      "No wall nearby.\n"
     ]
    },
    {
     "name": "stderr",
     "output_type": "stream",
     "text": [
      " 23%|██▎       | 684/3000 [01:35<05:21,  7.21it/s]"
     ]
    },
    {
     "name": "stdout",
     "output_type": "stream",
     "text": [
      "[(nan, None, [0.0, 0.0, 0.0, 0.001]),\n",
      " (nan, None, [0.0, 0.0, 0.01, 0.0]),\n",
      " (nan, None, [0.01, 0.0, 0.01, 0.001]),\n",
      " (nan, None, [0.0, 0.001, 0.01, 0.001])]\n",
      "No wall nearby.\n",
      "[(nan, None, [0.0, 0.0, 0.0, 0.001]),\n",
      " (nan, None, [0.0, 0.0, 0.01, 0.0]),\n",
      " (nan, None, [0.01, 0.0, 0.01, 0.001]),\n",
      " (nan, None, [0.0, 0.001, 0.01, 0.001])]\n",
      "No wall nearby.\n"
     ]
    },
    {
     "name": "stderr",
     "output_type": "stream",
     "text": [
      " 23%|██▎       | 686/3000 [01:36<05:31,  6.98it/s]"
     ]
    },
    {
     "name": "stdout",
     "output_type": "stream",
     "text": [
      "[(nan, None, [0.0, 0.0, 0.0, 0.001]),\n",
      " (nan, None, [0.0, 0.0, 0.01, 0.0]),\n",
      " (nan, None, [0.01, 0.0, 0.01, 0.001]),\n",
      " (nan, None, [0.0, 0.001, 0.01, 0.001])]\n",
      "No wall nearby.\n",
      "[(nan, None, [0.0, 0.0, 0.0, 0.001]),\n",
      " (nan, None, [0.0, 0.0, 0.01, 0.0]),\n",
      " (nan, None, [0.01, 0.0, 0.01, 0.001]),\n",
      " (nan, None, [0.0, 0.001, 0.01, 0.001])]\n",
      "No wall nearby.\n"
     ]
    },
    {
     "name": "stderr",
     "output_type": "stream",
     "text": [
      " 23%|██▎       | 688/3000 [01:36<05:17,  7.28it/s]"
     ]
    },
    {
     "name": "stdout",
     "output_type": "stream",
     "text": [
      "[(nan, None, [0.0, 0.0, 0.0, 0.001]),\n",
      " (nan, None, [0.0, 0.0, 0.01, 0.0]),\n",
      " (nan, None, [0.01, 0.0, 0.01, 0.001]),\n",
      " (nan, None, [0.0, 0.001, 0.01, 0.001])]\n",
      "No wall nearby.\n",
      "[(nan, None, [0.0, 0.0, 0.0, 0.001]),\n",
      " (nan, None, [0.0, 0.0, 0.01, 0.0]),\n",
      " (nan, None, [0.01, 0.0, 0.01, 0.001]),\n",
      " (nan, None, [0.0, 0.001, 0.01, 0.001])]\n",
      "No wall nearby.\n"
     ]
    },
    {
     "name": "stderr",
     "output_type": "stream",
     "text": [
      " 23%|██▎       | 690/3000 [01:36<05:11,  7.42it/s]"
     ]
    },
    {
     "name": "stdout",
     "output_type": "stream",
     "text": [
      "[(nan, None, [0.0, 0.0, 0.0, 0.001]),\n",
      " (nan, None, [0.0, 0.0, 0.01, 0.0]),\n",
      " (nan, None, [0.01, 0.0, 0.01, 0.001]),\n",
      " (nan, None, [0.0, 0.001, 0.01, 0.001])]\n",
      "No wall nearby.\n",
      "[(nan, None, [0.0, 0.0, 0.0, 0.001]),\n",
      " (nan, None, [0.0, 0.0, 0.01, 0.0]),\n",
      " (nan, None, [0.01, 0.0, 0.01, 0.001]),\n",
      " (nan, None, [0.0, 0.001, 0.01, 0.001])]\n",
      "No wall nearby.\n"
     ]
    },
    {
     "name": "stderr",
     "output_type": "stream",
     "text": [
      " 23%|██▎       | 692/3000 [01:36<05:28,  7.02it/s]"
     ]
    },
    {
     "name": "stdout",
     "output_type": "stream",
     "text": [
      "[(nan, None, [0.0, 0.0, 0.0, 0.001]),\n",
      " (nan, None, [0.0, 0.0, 0.01, 0.0]),\n",
      " (nan, None, [0.01, 0.0, 0.01, 0.001]),\n",
      " (nan, None, [0.0, 0.001, 0.01, 0.001])]\n",
      "No wall nearby.\n",
      "[(nan, None, [0.0, 0.0, 0.0, 0.001]),\n",
      " (nan, None, [0.0, 0.0, 0.01, 0.0]),\n",
      " (nan, None, [0.01, 0.0, 0.01, 0.001]),\n",
      " (nan, None, [0.0, 0.001, 0.01, 0.001])]\n",
      "No wall nearby.\n"
     ]
    },
    {
     "name": "stderr",
     "output_type": "stream",
     "text": [
      " 23%|██▎       | 694/3000 [01:37<05:15,  7.32it/s]"
     ]
    },
    {
     "name": "stdout",
     "output_type": "stream",
     "text": [
      "[(nan, None, [0.0, 0.0, 0.0, 0.001]),\n",
      " (nan, None, [0.0, 0.0, 0.01, 0.0]),\n",
      " (nan, None, [0.01, 0.0, 0.01, 0.001]),\n",
      " (nan, None, [0.0, 0.001, 0.01, 0.001])]\n",
      "No wall nearby.\n",
      "[(nan, None, [0.0, 0.0, 0.0, 0.001]),\n",
      " (nan, None, [0.0, 0.0, 0.01, 0.0]),\n",
      " (nan, None, [0.01, 0.0, 0.01, 0.001]),\n",
      " (nan, None, [0.0, 0.001, 0.01, 0.001])]\n",
      "No wall nearby.\n"
     ]
    },
    {
     "name": "stderr",
     "output_type": "stream",
     "text": [
      " 23%|██▎       | 696/3000 [01:37<05:09,  7.44it/s]"
     ]
    },
    {
     "name": "stdout",
     "output_type": "stream",
     "text": [
      "[(nan, None, [0.0, 0.0, 0.0, 0.001]),\n",
      " (nan, None, [0.0, 0.0, 0.01, 0.0]),\n",
      " (nan, None, [0.01, 0.0, 0.01, 0.001]),\n",
      " (nan, None, [0.0, 0.001, 0.01, 0.001])]\n",
      "No wall nearby.\n",
      "[(nan, None, [0.0, 0.0, 0.0, 0.001]),\n",
      " (nan, None, [0.0, 0.0, 0.01, 0.0]),\n",
      " (nan, None, [0.01, 0.0, 0.01, 0.001]),\n",
      " (nan, None, [0.0, 0.001, 0.01, 0.001])]\n",
      "No wall nearby.\n"
     ]
    },
    {
     "name": "stderr",
     "output_type": "stream",
     "text": [
      " 23%|██▎       | 698/3000 [01:37<05:11,  7.39it/s]"
     ]
    },
    {
     "name": "stdout",
     "output_type": "stream",
     "text": [
      "[(nan, None, [0.0, 0.0, 0.0, 0.001]),\n",
      " (nan, None, [0.0, 0.0, 0.01, 0.0]),\n",
      " (nan, None, [0.01, 0.0, 0.01, 0.001]),\n",
      " (nan, None, [0.0, 0.001, 0.01, 0.001])]\n",
      "No wall nearby.\n",
      "[(nan, None, [0.0, 0.0, 0.0, 0.001]),\n",
      " (nan, None, [0.0, 0.0, 0.01, 0.0]),\n",
      " (nan, None, [0.01, 0.0, 0.01, 0.001]),\n",
      " (nan, None, [0.0, 0.001, 0.01, 0.001])]\n",
      "No wall nearby.\n"
     ]
    },
    {
     "name": "stderr",
     "output_type": "stream",
     "text": [
      " 23%|██▎       | 700/3000 [01:38<05:23,  7.11it/s]"
     ]
    },
    {
     "name": "stdout",
     "output_type": "stream",
     "text": [
      "[(nan, None, [0.0, 0.0, 0.0, 0.001]),\n",
      " (nan, None, [0.0, 0.0, 0.01, 0.0]),\n",
      " (nan, None, [0.01, 0.0, 0.01, 0.001]),\n",
      " (nan, None, [0.0, 0.001, 0.01, 0.001])]\n",
      "No wall nearby.\n",
      "[(nan, None, [0.0, 0.0, 0.0, 0.001]),\n",
      " (nan, None, [0.0, 0.0, 0.01, 0.0]),\n",
      " (nan, None, [0.01, 0.0, 0.01, 0.001]),\n",
      " (nan, None, [0.0, 0.001, 0.01, 0.001])]\n",
      "No wall nearby.\n"
     ]
    },
    {
     "name": "stderr",
     "output_type": "stream",
     "text": [
      " 23%|██▎       | 702/3000 [01:38<05:13,  7.33it/s]"
     ]
    },
    {
     "name": "stdout",
     "output_type": "stream",
     "text": [
      "[(nan, None, [0.0, 0.0, 0.0, 0.001]),\n",
      " (nan, None, [0.0, 0.0, 0.01, 0.0]),\n",
      " (nan, None, [0.01, 0.0, 0.01, 0.001]),\n",
      " (nan, None, [0.0, 0.001, 0.01, 0.001])]\n",
      "No wall nearby.\n",
      "[(nan, None, [0.0, 0.0, 0.0, 0.001]),\n",
      " (nan, None, [0.0, 0.0, 0.01, 0.0]),\n",
      " (nan, None, [0.01, 0.0, 0.01, 0.001]),\n",
      " (nan, None, [0.0, 0.001, 0.01, 0.001])]\n",
      "No wall nearby.\n"
     ]
    },
    {
     "name": "stderr",
     "output_type": "stream",
     "text": [
      " 23%|██▎       | 704/3000 [01:38<05:06,  7.49it/s]"
     ]
    },
    {
     "name": "stdout",
     "output_type": "stream",
     "text": [
      "[(nan, None, [0.0, 0.0, 0.0, 0.001]),\n",
      " (nan, None, [0.0, 0.0, 0.01, 0.0]),\n",
      " (nan, None, [0.01, 0.0, 0.01, 0.001]),\n",
      " (nan, None, [0.0, 0.001, 0.01, 0.001])]\n",
      "No wall nearby.\n",
      "[(nan, None, [0.0, 0.0, 0.0, 0.001]),\n",
      " (nan, None, [0.0, 0.0, 0.01, 0.0]),\n",
      " (nan, None, [0.01, 0.0, 0.01, 0.001]),\n",
      " (nan, None, [0.0, 0.001, 0.01, 0.001])]\n",
      "No wall nearby.\n"
     ]
    },
    {
     "name": "stderr",
     "output_type": "stream",
     "text": [
      " 24%|██▎       | 706/3000 [01:38<05:36,  6.81it/s]"
     ]
    },
    {
     "name": "stdout",
     "output_type": "stream",
     "text": [
      "[(nan, None, [0.0, 0.0, 0.0, 0.001]),\n",
      " (nan, None, [0.0, 0.0, 0.01, 0.0]),\n",
      " (nan, None, [0.01, 0.0, 0.01, 0.001]),\n",
      " (nan, None, [0.0, 0.001, 0.01, 0.001])]\n",
      "No wall nearby.\n",
      "[(nan, None, [0.0, 0.0, 0.0, 0.001]),\n",
      " (nan, None, [0.0, 0.0, 0.01, 0.0]),\n",
      " (nan, None, [0.01, 0.0, 0.01, 0.001]),\n",
      " (nan, None, [0.0, 0.001, 0.01, 0.001])]\n",
      "No wall nearby.\n"
     ]
    },
    {
     "name": "stderr",
     "output_type": "stream",
     "text": [
      " 24%|██▎       | 708/3000 [01:39<05:22,  7.10it/s]"
     ]
    },
    {
     "name": "stdout",
     "output_type": "stream",
     "text": [
      "[(nan, None, [0.0, 0.0, 0.0, 0.001]),\n",
      " (nan, None, [0.0, 0.0, 0.01, 0.0]),\n",
      " (nan, None, [0.01, 0.0, 0.01, 0.001]),\n",
      " (nan, None, [0.0, 0.001, 0.01, 0.001])]\n",
      "No wall nearby.\n",
      "[(nan, None, [0.0, 0.0, 0.0, 0.001]),\n",
      " (nan, None, [0.0, 0.0, 0.01, 0.0]),\n",
      " (nan, None, [0.01, 0.0, 0.01, 0.001]),\n",
      " (nan, None, [0.0, 0.001, 0.01, 0.001])]\n",
      "No wall nearby.\n"
     ]
    },
    {
     "name": "stderr",
     "output_type": "stream",
     "text": [
      " 24%|██▎       | 710/3000 [01:39<05:15,  7.27it/s]"
     ]
    },
    {
     "name": "stdout",
     "output_type": "stream",
     "text": [
      "[(nan, None, [0.0, 0.0, 0.0, 0.001]),\n",
      " (nan, None, [0.0, 0.0, 0.01, 0.0]),\n",
      " (nan, None, [0.01, 0.0, 0.01, 0.001]),\n",
      " (nan, None, [0.0, 0.001, 0.01, 0.001])]\n",
      "No wall nearby.\n",
      "[(nan, None, [0.0, 0.0, 0.0, 0.001]),\n",
      " (nan, None, [0.0, 0.0, 0.01, 0.0]),\n",
      " (nan, None, [0.01, 0.0, 0.01, 0.001]),\n",
      " (nan, None, [0.0, 0.001, 0.01, 0.001])]\n",
      "No wall nearby.\n"
     ]
    },
    {
     "name": "stderr",
     "output_type": "stream",
     "text": [
      " 24%|██▎       | 712/3000 [01:39<05:36,  6.79it/s]"
     ]
    },
    {
     "name": "stdout",
     "output_type": "stream",
     "text": [
      "[(nan, None, [0.0, 0.0, 0.0, 0.001]),\n",
      " (nan, None, [0.0, 0.0, 0.01, 0.0]),\n",
      " (nan, None, [0.01, 0.0, 0.01, 0.001]),\n",
      " (nan, None, [0.0, 0.001, 0.01, 0.001])]\n",
      "No wall nearby.\n",
      "[(nan, None, [0.0, 0.0, 0.0, 0.001]),\n",
      " (nan, None, [0.0, 0.0, 0.01, 0.0]),\n",
      " (nan, None, [0.01, 0.0, 0.01, 0.001]),\n",
      " (nan, None, [0.0, 0.001, 0.01, 0.001])]\n",
      "No wall nearby.\n"
     ]
    },
    {
     "name": "stderr",
     "output_type": "stream",
     "text": [
      " 24%|██▍       | 714/3000 [01:40<05:21,  7.10it/s]"
     ]
    },
    {
     "name": "stdout",
     "output_type": "stream",
     "text": [
      "[(nan, None, [0.0, 0.0, 0.0, 0.001]),\n",
      " (nan, None, [0.0, 0.0, 0.01, 0.0]),\n",
      " (nan, None, [0.01, 0.0, 0.01, 0.001]),\n",
      " (nan, None, [0.0, 0.001, 0.01, 0.001])]\n",
      "No wall nearby.\n",
      "[(nan, None, [0.0, 0.0, 0.0, 0.001]),\n",
      " (nan, None, [0.0, 0.0, 0.01, 0.0]),\n",
      " (nan, None, [0.01, 0.0, 0.01, 0.001]),\n",
      " (nan, None, [0.0, 0.001, 0.01, 0.001])]\n",
      "No wall nearby.\n"
     ]
    },
    {
     "name": "stderr",
     "output_type": "stream",
     "text": [
      " 24%|██▍       | 716/3000 [01:40<05:14,  7.26it/s]"
     ]
    },
    {
     "name": "stdout",
     "output_type": "stream",
     "text": [
      "[(nan, None, [0.0, 0.0, 0.0, 0.001]),\n",
      " (nan, None, [0.0, 0.0, 0.01, 0.0]),\n",
      " (nan, None, [0.01, 0.0, 0.01, 0.001]),\n",
      " (nan, None, [0.0, 0.001, 0.01, 0.001])]\n",
      "No wall nearby.\n",
      "[(nan, None, [0.0, 0.0, 0.0, 0.001]),\n",
      " (nan, None, [0.0, 0.0, 0.01, 0.0]),\n",
      " (nan, None, [0.01, 0.0, 0.01, 0.001]),\n",
      " (nan, None, [0.0, 0.001, 0.01, 0.001])]\n",
      "No wall nearby.\n"
     ]
    },
    {
     "name": "stderr",
     "output_type": "stream",
     "text": [
      " 24%|██▍       | 718/3000 [01:40<05:34,  6.82it/s]"
     ]
    },
    {
     "name": "stdout",
     "output_type": "stream",
     "text": [
      "[(nan, None, [0.0, 0.0, 0.0, 0.001]),\n",
      " (nan, None, [0.0, 0.0, 0.01, 0.0]),\n",
      " (nan, None, [0.01, 0.0, 0.01, 0.001]),\n",
      " (nan, None, [0.0, 0.001, 0.01, 0.001])]\n",
      "No wall nearby.\n",
      "[(nan, None, [0.0, 0.0, 0.0, 0.001]),\n",
      " (nan, None, [0.0, 0.0, 0.01, 0.0]),\n",
      " (nan, None, [0.01, 0.0, 0.01, 0.001]),\n",
      " (nan, None, [0.0, 0.001, 0.01, 0.001])]\n",
      "No wall nearby.\n"
     ]
    },
    {
     "name": "stderr",
     "output_type": "stream",
     "text": [
      " 24%|██▍       | 720/3000 [01:40<05:19,  7.14it/s]"
     ]
    },
    {
     "name": "stdout",
     "output_type": "stream",
     "text": [
      "[(nan, None, [0.0, 0.0, 0.0, 0.001]),\n",
      " (nan, None, [0.0, 0.0, 0.01, 0.0]),\n",
      " (nan, None, [0.01, 0.0, 0.01, 0.001]),\n",
      " (nan, None, [0.0, 0.001, 0.01, 0.001])]\n",
      "No wall nearby.\n",
      "[(nan, None, [0.0, 0.0, 0.0, 0.001]),\n",
      " (nan, None, [0.0, 0.0, 0.01, 0.0]),\n",
      " (nan, None, [0.01, 0.0, 0.01, 0.001]),\n",
      " (nan, None, [0.0, 0.001, 0.01, 0.001])]\n",
      "No wall nearby.\n"
     ]
    },
    {
     "name": "stderr",
     "output_type": "stream",
     "text": [
      " 24%|██▍       | 722/3000 [01:41<05:11,  7.32it/s]"
     ]
    },
    {
     "name": "stdout",
     "output_type": "stream",
     "text": [
      "[(nan, None, [0.0, 0.0, 0.0, 0.001]),\n",
      " (nan, None, [0.0, 0.0, 0.01, 0.0]),\n",
      " (nan, None, [0.01, 0.0, 0.01, 0.001]),\n",
      " (nan, None, [0.0, 0.001, 0.01, 0.001])]\n",
      "No wall nearby.\n",
      "[(nan, None, [0.0, 0.0, 0.0, 0.001]),\n",
      " (nan, None, [0.0, 0.0, 0.01, 0.0]),\n",
      " (nan, None, [0.01, 0.0, 0.01, 0.001]),\n",
      " (nan, None, [0.0, 0.001, 0.01, 0.001])]\n",
      "No wall nearby.\n"
     ]
    },
    {
     "name": "stderr",
     "output_type": "stream",
     "text": [
      " 24%|██▍       | 724/3000 [01:41<05:06,  7.43it/s]"
     ]
    },
    {
     "name": "stdout",
     "output_type": "stream",
     "text": [
      "[(nan, None, [0.0, 0.0, 0.0, 0.001]),\n",
      " (nan, None, [0.0, 0.0, 0.01, 0.0]),\n",
      " (nan, None, [0.01, 0.0, 0.01, 0.001]),\n",
      " (nan, None, [0.0, 0.001, 0.01, 0.001])]\n",
      "No wall nearby.\n",
      "[(nan, None, [0.0, 0.0, 0.0, 0.001]),\n",
      " (nan, None, [0.0, 0.0, 0.01, 0.0]),\n",
      " (nan, None, [0.01, 0.0, 0.01, 0.001]),\n",
      " (nan, None, [0.0, 0.001, 0.01, 0.001])]\n",
      "No wall nearby.\n"
     ]
    },
    {
     "name": "stderr",
     "output_type": "stream",
     "text": [
      " 24%|██▍       | 726/3000 [01:41<05:18,  7.13it/s]"
     ]
    },
    {
     "name": "stdout",
     "output_type": "stream",
     "text": [
      "[(nan, None, [0.0, 0.0, 0.0, 0.001]),\n",
      " (nan, None, [0.0, 0.0, 0.01, 0.0]),\n",
      " (nan, None, [0.01, 0.0, 0.01, 0.001]),\n",
      " (nan, None, [0.0, 0.001, 0.01, 0.001])]\n",
      "No wall nearby.\n",
      "[(nan, None, [0.0, 0.0, 0.0, 0.001]),\n",
      " (nan, None, [0.0, 0.0, 0.01, 0.0]),\n",
      " (nan, None, [0.01, 0.0, 0.01, 0.001]),\n",
      " (nan, None, [0.0, 0.001, 0.01, 0.001])]\n",
      "No wall nearby.\n"
     ]
    },
    {
     "name": "stderr",
     "output_type": "stream",
     "text": [
      " 24%|██▍       | 728/3000 [01:41<05:06,  7.40it/s]"
     ]
    },
    {
     "name": "stdout",
     "output_type": "stream",
     "text": [
      "[(nan, None, [0.0, 0.0, 0.0, 0.001]),\n",
      " (nan, None, [0.0, 0.0, 0.01, 0.0]),\n",
      " (nan, None, [0.01, 0.0, 0.01, 0.001]),\n",
      " (nan, None, [0.0, 0.001, 0.01, 0.001])]\n",
      "No wall nearby.\n",
      "[(nan, None, [0.0, 0.0, 0.0, 0.001]),\n",
      " (nan, None, [0.0, 0.0, 0.01, 0.0]),\n",
      " (nan, None, [0.01, 0.0, 0.01, 0.001]),\n",
      " (nan, None, [0.0, 0.001, 0.01, 0.001])]\n",
      "No wall nearby.\n"
     ]
    },
    {
     "name": "stderr",
     "output_type": "stream",
     "text": [
      " 24%|██▍       | 730/3000 [01:42<05:02,  7.50it/s]"
     ]
    },
    {
     "name": "stdout",
     "output_type": "stream",
     "text": [
      "[(nan, None, [0.0, 0.0, 0.0, 0.001]),\n",
      " (nan, None, [0.0, 0.0, 0.01, 0.0]),\n",
      " (nan, None, [0.01, 0.0, 0.01, 0.001]),\n",
      " (nan, None, [0.0, 0.001, 0.01, 0.001])]\n",
      "No wall nearby.\n",
      "[(nan, None, [0.0, 0.0, 0.0, 0.001]),\n",
      " (nan, None, [0.0, 0.0, 0.01, 0.0]),\n",
      " (nan, None, [0.01, 0.0, 0.01, 0.001]),\n",
      " (nan, None, [0.0, 0.001, 0.01, 0.001])]\n",
      "No wall nearby.\n"
     ]
    },
    {
     "name": "stderr",
     "output_type": "stream",
     "text": [
      " 24%|██▍       | 732/3000 [01:42<05:17,  7.15it/s]"
     ]
    },
    {
     "name": "stdout",
     "output_type": "stream",
     "text": [
      "[(nan, None, [0.0, 0.0, 0.0, 0.001]),\n",
      " (nan, None, [0.0, 0.0, 0.01, 0.0]),\n",
      " (nan, None, [0.01, 0.0, 0.01, 0.001]),\n",
      " (nan, None, [0.0, 0.001, 0.01, 0.001])]\n",
      "No wall nearby.\n",
      "[(nan, None, [0.0, 0.0, 0.0, 0.001]),\n",
      " (nan, None, [0.0, 0.0, 0.01, 0.0]),\n",
      " (nan, None, [0.01, 0.0, 0.01, 0.001]),\n",
      " (nan, None, [0.0, 0.001, 0.01, 0.001])]\n",
      "No wall nearby.\n"
     ]
    },
    {
     "name": "stderr",
     "output_type": "stream",
     "text": [
      " 24%|██▍       | 734/3000 [01:42<05:08,  7.34it/s]"
     ]
    },
    {
     "name": "stdout",
     "output_type": "stream",
     "text": [
      "[(nan, None, [0.0, 0.0, 0.0, 0.001]),\n",
      " (nan, None, [0.0, 0.0, 0.01, 0.0]),\n",
      " (nan, None, [0.01, 0.0, 0.01, 0.001]),\n",
      " (nan, None, [0.0, 0.001, 0.01, 0.001])]\n",
      "No wall nearby.\n",
      "[(nan, None, [0.0, 0.0, 0.0, 0.001]),\n",
      " (nan, None, [0.0, 0.0, 0.01, 0.0]),\n",
      " (nan, None, [0.01, 0.0, 0.01, 0.001]),\n",
      " (nan, None, [0.0, 0.001, 0.01, 0.001])]\n",
      "No wall nearby.\n"
     ]
    },
    {
     "name": "stderr",
     "output_type": "stream",
     "text": [
      " 25%|██▍       | 736/3000 [01:43<05:02,  7.49it/s]"
     ]
    },
    {
     "name": "stdout",
     "output_type": "stream",
     "text": [
      "[(nan, None, [0.0, 0.0, 0.0, 0.001]),\n",
      " (nan, None, [0.0, 0.0, 0.01, 0.0]),\n",
      " (nan, None, [0.01, 0.0, 0.01, 0.001]),\n",
      " (nan, None, [0.0, 0.001, 0.01, 0.001])]\n",
      "No wall nearby.\n",
      "[(nan, None, [0.0, 0.0, 0.0, 0.001]),\n",
      " (nan, None, [0.0, 0.0, 0.01, 0.0]),\n",
      " (nan, None, [0.01, 0.0, 0.01, 0.001]),\n",
      " (nan, None, [0.0, 0.001, 0.01, 0.001])]\n",
      "No wall nearby.\n"
     ]
    },
    {
     "name": "stderr",
     "output_type": "stream",
     "text": [
      " 25%|██▍       | 738/3000 [01:43<05:17,  7.12it/s]"
     ]
    },
    {
     "name": "stdout",
     "output_type": "stream",
     "text": [
      "[(nan, None, [0.0, 0.0, 0.0, 0.001]),\n",
      " (nan, None, [0.0, 0.0, 0.01, 0.0]),\n",
      " (nan, None, [0.01, 0.0, 0.01, 0.001]),\n",
      " (nan, None, [0.0, 0.001, 0.01, 0.001])]\n",
      "No wall nearby.\n",
      "[(nan, None, [0.0, 0.0, 0.0, 0.001]),\n",
      " (nan, None, [0.0, 0.0, 0.01, 0.0]),\n",
      " (nan, None, [0.01, 0.0, 0.01, 0.001]),\n",
      " (nan, None, [0.0, 0.001, 0.01, 0.001])]\n",
      "No wall nearby.\n"
     ]
    },
    {
     "name": "stderr",
     "output_type": "stream",
     "text": [
      " 25%|██▍       | 740/3000 [01:43<05:04,  7.43it/s]"
     ]
    },
    {
     "name": "stdout",
     "output_type": "stream",
     "text": [
      "[(nan, None, [0.0, 0.0, 0.0, 0.001]),\n",
      " (nan, None, [0.0, 0.0, 0.01, 0.0]),\n",
      " (nan, None, [0.01, 0.0, 0.01, 0.001]),\n",
      " (nan, None, [0.0, 0.001, 0.01, 0.001])]\n",
      "No wall nearby.\n",
      "[(nan, None, [0.0, 0.0, 0.0, 0.001]),\n",
      " (nan, None, [0.0, 0.0, 0.01, 0.0]),\n",
      " (nan, None, [0.01, 0.0, 0.01, 0.001]),\n",
      " (nan, None, [0.0, 0.001, 0.01, 0.001])]\n",
      "No wall nearby.\n"
     ]
    },
    {
     "name": "stderr",
     "output_type": "stream",
     "text": [
      " 25%|██▍       | 742/3000 [01:43<05:01,  7.50it/s]"
     ]
    },
    {
     "name": "stdout",
     "output_type": "stream",
     "text": [
      "[(nan, None, [0.0, 0.0, 0.0, 0.001]),\n",
      " (nan, None, [0.0, 0.0, 0.01, 0.0]),\n",
      " (nan, None, [0.01, 0.0, 0.01, 0.001]),\n",
      " (nan, None, [0.0, 0.001, 0.01, 0.001])]\n",
      "No wall nearby.\n",
      "[(nan, None, [0.0, 0.0, 0.0, 0.001]),\n",
      " (nan, None, [0.0, 0.0, 0.01, 0.0]),\n",
      " (nan, None, [0.01, 0.0, 0.01, 0.001]),\n",
      " (nan, None, [0.0, 0.001, 0.01, 0.001])]\n",
      "No wall nearby.\n"
     ]
    },
    {
     "name": "stderr",
     "output_type": "stream",
     "text": [
      " 25%|██▍       | 744/3000 [01:44<05:21,  7.02it/s]"
     ]
    },
    {
     "name": "stdout",
     "output_type": "stream",
     "text": [
      "[(nan, None, [0.0, 0.0, 0.0, 0.001]),\n",
      " (nan, None, [0.0, 0.0, 0.01, 0.0]),\n",
      " (nan, None, [0.01, 0.0, 0.01, 0.001]),\n",
      " (nan, None, [0.0, 0.001, 0.01, 0.001])]\n",
      "No wall nearby.\n",
      "[(nan, None, [0.0, 0.0, 0.0, 0.001]),\n",
      " (nan, None, [0.0, 0.0, 0.01, 0.0]),\n",
      " (nan, None, [0.01, 0.0, 0.01, 0.001]),\n",
      " (nan, None, [0.0, 0.001, 0.01, 0.001])]\n",
      "No wall nearby.\n"
     ]
    },
    {
     "name": "stderr",
     "output_type": "stream",
     "text": [
      " 25%|██▍       | 746/3000 [01:44<05:09,  7.29it/s]"
     ]
    },
    {
     "name": "stdout",
     "output_type": "stream",
     "text": [
      "[(nan, None, [0.0, 0.0, 0.0, 0.001]),\n",
      " (nan, None, [0.0, 0.0, 0.01, 0.0]),\n",
      " (nan, None, [0.01, 0.0, 0.01, 0.001]),\n",
      " (nan, None, [0.0, 0.001, 0.01, 0.001])]\n",
      "No wall nearby.\n",
      "[(nan, None, [0.0, 0.0, 0.0, 0.001]),\n",
      " (nan, None, [0.0, 0.0, 0.01, 0.0]),\n",
      " (nan, None, [0.01, 0.0, 0.01, 0.001]),\n",
      " (nan, None, [0.0, 0.001, 0.01, 0.001])]\n",
      "No wall nearby.\n"
     ]
    },
    {
     "name": "stderr",
     "output_type": "stream",
     "text": [
      " 25%|██▍       | 748/3000 [01:44<05:04,  7.41it/s]"
     ]
    },
    {
     "name": "stdout",
     "output_type": "stream",
     "text": [
      "[(nan, None, [0.0, 0.0, 0.0, 0.001]),\n",
      " (nan, None, [0.0, 0.0, 0.01, 0.0]),\n",
      " (nan, None, [0.01, 0.0, 0.01, 0.001]),\n",
      " (nan, None, [0.0, 0.001, 0.01, 0.001])]\n",
      "No wall nearby.\n",
      "[(nan, None, [0.0, 0.0, 0.0, 0.001]),\n",
      " (nan, None, [0.0, 0.0, 0.01, 0.0]),\n",
      " (nan, None, [0.01, 0.0, 0.01, 0.001]),\n",
      " (nan, None, [0.0, 0.001, 0.01, 0.001])]\n",
      "No wall nearby.\n"
     ]
    },
    {
     "name": "stderr",
     "output_type": "stream",
     "text": [
      " 25%|██▌       | 750/3000 [01:44<05:02,  7.43it/s]"
     ]
    },
    {
     "name": "stdout",
     "output_type": "stream",
     "text": [
      "[(nan, None, [0.0, 0.0, 0.0, 0.001]),\n",
      " (nan, None, [0.0, 0.0, 0.01, 0.0]),\n",
      " (nan, None, [0.01, 0.0, 0.01, 0.001]),\n",
      " (nan, None, [0.0, 0.001, 0.01, 0.001])]\n",
      "No wall nearby.\n",
      "[(nan, None, [0.0, 0.0, 0.0, 0.001]),\n",
      " (nan, None, [0.0, 0.0, 0.01, 0.0]),\n",
      " (nan, None, [0.01, 0.0, 0.01, 0.001]),\n",
      " (nan, None, [0.0, 0.001, 0.01, 0.001])]\n",
      "No wall nearby.\n"
     ]
    },
    {
     "name": "stderr",
     "output_type": "stream",
     "text": [
      " 25%|██▌       | 752/3000 [01:45<05:20,  7.02it/s]"
     ]
    },
    {
     "name": "stdout",
     "output_type": "stream",
     "text": [
      "[(nan, None, [0.0, 0.0, 0.0, 0.001]),\n",
      " (nan, None, [0.0, 0.0, 0.01, 0.0]),\n",
      " (nan, None, [0.01, 0.0, 0.01, 0.001]),\n",
      " (nan, None, [0.0, 0.001, 0.01, 0.001])]\n",
      "No wall nearby.\n",
      "[(nan, None, [0.0, 0.0, 0.0, 0.001]),\n",
      " (nan, None, [0.0, 0.0, 0.01, 0.0]),\n",
      " (nan, None, [0.01, 0.0, 0.01, 0.001]),\n",
      " (nan, None, [0.0, 0.001, 0.01, 0.001])]\n",
      "No wall nearby.\n"
     ]
    },
    {
     "name": "stderr",
     "output_type": "stream",
     "text": [
      " 25%|██▌       | 754/3000 [01:45<05:09,  7.26it/s]"
     ]
    },
    {
     "name": "stdout",
     "output_type": "stream",
     "text": [
      "[(nan, None, [0.0, 0.0, 0.0, 0.001]),\n",
      " (nan, None, [0.0, 0.0, 0.01, 0.0]),\n",
      " (nan, None, [0.01, 0.0, 0.01, 0.001]),\n",
      " (nan, None, [0.0, 0.001, 0.01, 0.001])]\n",
      "No wall nearby.\n",
      "[(nan, None, [0.0, 0.0, 0.0, 0.001]),\n",
      " (nan, None, [0.0, 0.0, 0.01, 0.0]),\n",
      " (nan, None, [0.01, 0.0, 0.01, 0.001]),\n",
      " (nan, None, [0.0, 0.001, 0.01, 0.001])]\n",
      "No wall nearby.\n"
     ]
    },
    {
     "name": "stderr",
     "output_type": "stream",
     "text": [
      " 25%|██▌       | 756/3000 [01:45<05:03,  7.40it/s]"
     ]
    },
    {
     "name": "stdout",
     "output_type": "stream",
     "text": [
      "[(nan, None, [0.0, 0.0, 0.0, 0.001]),\n",
      " (nan, None, [0.0, 0.0, 0.01, 0.0]),\n",
      " (nan, None, [0.01, 0.0, 0.01, 0.001]),\n",
      " (nan, None, [0.0, 0.001, 0.01, 0.001])]\n",
      "No wall nearby.\n",
      "[(nan, None, [0.0, 0.0, 0.0, 0.001]),\n",
      " (nan, None, [0.0, 0.0, 0.01, 0.0]),\n",
      " (nan, None, [0.01, 0.0, 0.01, 0.001]),\n",
      " (nan, None, [0.0, 0.001, 0.01, 0.001])]\n",
      "No wall nearby.\n"
     ]
    },
    {
     "name": "stderr",
     "output_type": "stream",
     "text": [
      " 25%|██▌       | 758/3000 [01:46<05:15,  7.11it/s]"
     ]
    },
    {
     "name": "stdout",
     "output_type": "stream",
     "text": [
      "[(nan, None, [0.0, 0.0, 0.0, 0.001]),\n",
      " (nan, None, [0.0, 0.0, 0.01, 0.0]),\n",
      " (nan, None, [0.01, 0.0, 0.01, 0.001]),\n",
      " (nan, None, [0.0, 0.001, 0.01, 0.001])]\n",
      "No wall nearby.\n",
      "[(nan, None, [0.0, 0.0, 0.0, 0.001]),\n",
      " (nan, None, [0.0, 0.0, 0.01, 0.0]),\n",
      " (nan, None, [0.01, 0.0, 0.01, 0.001]),\n",
      " (nan, None, [0.0, 0.001, 0.01, 0.001])]\n",
      "No wall nearby.\n"
     ]
    },
    {
     "name": "stderr",
     "output_type": "stream",
     "text": [
      " 25%|██▌       | 760/3000 [01:46<05:03,  7.39it/s]"
     ]
    },
    {
     "name": "stdout",
     "output_type": "stream",
     "text": [
      "[(nan, None, [0.0, 0.0, 0.0, 0.001]),\n",
      " (nan, None, [0.0, 0.0, 0.01, 0.0]),\n",
      " (nan, None, [0.01, 0.0, 0.01, 0.001]),\n",
      " (nan, None, [0.0, 0.001, 0.01, 0.001])]\n",
      "No wall nearby.\n",
      "[(nan, None, [0.0, 0.0, 0.0, 0.001]),\n",
      " (nan, None, [0.0, 0.0, 0.01, 0.0]),\n",
      " (nan, None, [0.01, 0.0, 0.01, 0.001]),\n",
      " (nan, None, [0.0, 0.001, 0.01, 0.001])]\n",
      "No wall nearby.\n"
     ]
    },
    {
     "name": "stderr",
     "output_type": "stream",
     "text": [
      " 25%|██▌       | 762/3000 [01:46<04:59,  7.47it/s]"
     ]
    },
    {
     "name": "stdout",
     "output_type": "stream",
     "text": [
      "[(nan, None, [0.0, 0.0, 0.0, 0.001]),\n",
      " (nan, None, [0.0, 0.0, 0.01, 0.0]),\n",
      " (nan, None, [0.01, 0.0, 0.01, 0.001]),\n",
      " (nan, None, [0.0, 0.001, 0.01, 0.001])]\n",
      "No wall nearby.\n",
      "[(nan, None, [0.0, 0.0, 0.0, 0.001]),\n",
      " (nan, None, [0.0, 0.0, 0.01, 0.0]),\n",
      " (nan, None, [0.01, 0.0, 0.01, 0.001]),\n",
      " (nan, None, [0.0, 0.001, 0.01, 0.001])]\n",
      "No wall nearby.\n"
     ]
    },
    {
     "name": "stderr",
     "output_type": "stream",
     "text": [
      " 25%|██▌       | 764/3000 [01:46<05:18,  7.03it/s]"
     ]
    },
    {
     "name": "stdout",
     "output_type": "stream",
     "text": [
      "[(nan, None, [0.0, 0.0, 0.0, 0.001]),\n",
      " (nan, None, [0.0, 0.0, 0.01, 0.0]),\n",
      " (nan, None, [0.01, 0.0, 0.01, 0.001]),\n",
      " (nan, None, [0.0, 0.001, 0.01, 0.001])]\n",
      "No wall nearby.\n",
      "[(nan, None, [0.0, 0.0, 0.0, 0.001]),\n",
      " (nan, None, [0.0, 0.0, 0.01, 0.0]),\n",
      " (nan, None, [0.01, 0.0, 0.01, 0.001]),\n",
      " (nan, None, [0.0, 0.001, 0.01, 0.001])]\n",
      "No wall nearby.\n"
     ]
    },
    {
     "name": "stderr",
     "output_type": "stream",
     "text": [
      " 26%|██▌       | 766/3000 [01:47<05:02,  7.38it/s]"
     ]
    },
    {
     "name": "stdout",
     "output_type": "stream",
     "text": [
      "[(nan, None, [0.0, 0.0, 0.0, 0.001]),\n",
      " (nan, None, [0.0, 0.0, 0.01, 0.0]),\n",
      " (nan, None, [0.01, 0.0, 0.01, 0.001]),\n",
      " (nan, None, [0.0, 0.001, 0.01, 0.001])]\n",
      "No wall nearby.\n",
      "[(nan, None, [0.0, 0.0, 0.0, 0.001]),\n",
      " (nan, None, [0.0, 0.0, 0.01, 0.0]),\n",
      " (nan, None, [0.01, 0.0, 0.01, 0.001]),\n",
      " (nan, None, [0.0, 0.001, 0.01, 0.001])]\n",
      "No wall nearby.\n"
     ]
    },
    {
     "name": "stderr",
     "output_type": "stream",
     "text": [
      " 26%|██▌       | 768/3000 [01:47<04:55,  7.55it/s]"
     ]
    },
    {
     "name": "stdout",
     "output_type": "stream",
     "text": [
      "[(nan, None, [0.0, 0.0, 0.0, 0.001]),\n",
      " (nan, None, [0.0, 0.0, 0.01, 0.0]),\n",
      " (nan, None, [0.01, 0.0, 0.01, 0.001]),\n",
      " (nan, None, [0.0, 0.001, 0.01, 0.001])]\n",
      "No wall nearby.\n",
      "[(nan, None, [0.0, 0.0, 0.0, 0.001]),\n",
      " (nan, None, [0.0, 0.0, 0.01, 0.0]),\n",
      " (nan, None, [0.01, 0.0, 0.01, 0.001]),\n",
      " (nan, None, [0.0, 0.001, 0.01, 0.001])]\n",
      "No wall nearby.\n"
     ]
    },
    {
     "name": "stderr",
     "output_type": "stream",
     "text": [
      " 26%|██▌       | 770/3000 [01:47<05:17,  7.01it/s]"
     ]
    },
    {
     "name": "stdout",
     "output_type": "stream",
     "text": [
      "[(nan, None, [0.0, 0.0, 0.0, 0.001]),\n",
      " (nan, None, [0.0, 0.0, 0.01, 0.0]),\n",
      " (nan, None, [0.01, 0.0, 0.01, 0.001]),\n",
      " (nan, None, [0.0, 0.001, 0.01, 0.001])]\n",
      "No wall nearby.\n",
      "[(nan, None, [0.0, 0.0, 0.0, 0.001]),\n",
      " (nan, None, [0.0, 0.0, 0.01, 0.0]),\n",
      " (nan, None, [0.01, 0.0, 0.01, 0.001]),\n",
      " (nan, None, [0.0, 0.001, 0.01, 0.001])]\n",
      "No wall nearby.\n"
     ]
    },
    {
     "name": "stderr",
     "output_type": "stream",
     "text": [
      " 26%|██▌       | 772/3000 [01:48<05:09,  7.20it/s]"
     ]
    },
    {
     "name": "stdout",
     "output_type": "stream",
     "text": [
      "[(nan, None, [0.0, 0.0, 0.0, 0.001]),\n",
      " (nan, None, [0.0, 0.0, 0.01, 0.0]),\n",
      " (nan, None, [0.01, 0.0, 0.01, 0.001]),\n",
      " (nan, None, [0.0, 0.001, 0.01, 0.001])]\n",
      "No wall nearby.\n",
      "[(nan, None, [0.0, 0.0, 0.0, 0.001]),\n",
      " (nan, None, [0.0, 0.0, 0.01, 0.0]),\n",
      " (nan, None, [0.01, 0.0, 0.01, 0.001]),\n",
      " (nan, None, [0.0, 0.001, 0.01, 0.001])]\n",
      "No wall nearby.\n"
     ]
    },
    {
     "name": "stderr",
     "output_type": "stream",
     "text": [
      " 26%|██▌       | 774/3000 [01:48<05:04,  7.32it/s]"
     ]
    },
    {
     "name": "stdout",
     "output_type": "stream",
     "text": [
      "[(nan, None, [0.0, 0.0, 0.0, 0.001]),\n",
      " (nan, None, [0.0, 0.0, 0.01, 0.0]),\n",
      " (nan, None, [0.01, 0.0, 0.01, 0.001]),\n",
      " (nan, None, [0.0, 0.001, 0.01, 0.001])]\n",
      "No wall nearby.\n",
      "[(nan, None, [0.0, 0.0, 0.0, 0.001]),\n",
      " (nan, None, [0.0, 0.0, 0.01, 0.0]),\n",
      " (nan, None, [0.01, 0.0, 0.01, 0.001]),\n",
      " (nan, None, [0.0, 0.001, 0.01, 0.001])]\n",
      "No wall nearby.\n"
     ]
    },
    {
     "name": "stderr",
     "output_type": "stream",
     "text": [
      " 26%|██▌       | 776/3000 [01:48<04:59,  7.42it/s]"
     ]
    },
    {
     "name": "stdout",
     "output_type": "stream",
     "text": [
      "[(nan, None, [0.0, 0.0, 0.0, 0.001]),\n",
      " (nan, None, [0.0, 0.0, 0.01, 0.0]),\n",
      " (nan, None, [0.01, 0.0, 0.01, 0.001]),\n",
      " (nan, None, [0.0, 0.001, 0.01, 0.001])]\n",
      "No wall nearby.\n",
      "[(nan, None, [0.0, 0.0, 0.0, 0.001]),\n",
      " (nan, None, [0.0, 0.0, 0.01, 0.0]),\n",
      " (nan, None, [0.01, 0.0, 0.01, 0.001]),\n",
      " (nan, None, [0.0, 0.001, 0.01, 0.001])]\n",
      "No wall nearby.\n"
     ]
    },
    {
     "name": "stderr",
     "output_type": "stream",
     "text": [
      " 26%|██▌       | 778/3000 [01:48<05:12,  7.11it/s]"
     ]
    },
    {
     "name": "stdout",
     "output_type": "stream",
     "text": [
      "[(nan, None, [0.0, 0.0, 0.0, 0.001]),\n",
      " (nan, None, [0.0, 0.0, 0.01, 0.0]),\n",
      " (nan, None, [0.01, 0.0, 0.01, 0.001]),\n",
      " (nan, None, [0.0, 0.001, 0.01, 0.001])]\n",
      "No wall nearby.\n",
      "[(nan, None, [0.0, 0.0, 0.0, 0.001]),\n",
      " (nan, None, [0.0, 0.0, 0.01, 0.0]),\n",
      " (nan, None, [0.01, 0.0, 0.01, 0.001]),\n",
      " (nan, None, [0.0, 0.001, 0.01, 0.001])]\n",
      "No wall nearby.\n"
     ]
    },
    {
     "name": "stderr",
     "output_type": "stream",
     "text": [
      " 26%|██▌       | 780/3000 [01:49<05:01,  7.35it/s]"
     ]
    },
    {
     "name": "stdout",
     "output_type": "stream",
     "text": [
      "[(nan, None, [0.0, 0.0, 0.0, 0.001]),\n",
      " (nan, None, [0.0, 0.0, 0.01, 0.0]),\n",
      " (nan, None, [0.01, 0.0, 0.01, 0.001]),\n",
      " (nan, None, [0.0, 0.001, 0.01, 0.001])]\n",
      "No wall nearby.\n",
      "[(nan, None, [0.0, 0.0, 0.0, 0.001]),\n",
      " (nan, None, [0.0, 0.0, 0.01, 0.0]),\n",
      " (nan, None, [0.01, 0.0, 0.01, 0.001]),\n",
      " (nan, None, [0.0, 0.001, 0.01, 0.001])]\n",
      "No wall nearby.\n"
     ]
    },
    {
     "name": "stderr",
     "output_type": "stream",
     "text": [
      " 26%|██▌       | 782/3000 [01:49<04:59,  7.41it/s]"
     ]
    },
    {
     "name": "stdout",
     "output_type": "stream",
     "text": [
      "[(nan, None, [0.0, 0.0, 0.0, 0.001]),\n",
      " (nan, None, [0.0, 0.0, 0.01, 0.0]),\n",
      " (nan, None, [0.01, 0.0, 0.01, 0.001]),\n",
      " (nan, None, [0.0, 0.001, 0.01, 0.001])]\n",
      "No wall nearby.\n",
      "[(nan, None, [0.0, 0.0, 0.0, 0.001]),\n",
      " (nan, None, [0.0, 0.0, 0.01, 0.0]),\n",
      " (nan, None, [0.01, 0.0, 0.01, 0.001]),\n",
      " (nan, None, [0.0, 0.001, 0.01, 0.001])]\n",
      "No wall nearby.\n"
     ]
    },
    {
     "name": "stderr",
     "output_type": "stream",
     "text": [
      " 26%|██▌       | 784/3000 [01:49<05:15,  7.03it/s]"
     ]
    },
    {
     "name": "stdout",
     "output_type": "stream",
     "text": [
      "[(nan, None, [0.0, 0.0, 0.0, 0.001]),\n",
      " (nan, None, [0.0, 0.0, 0.01, 0.0]),\n",
      " (nan, None, [0.01, 0.0, 0.01, 0.001]),\n",
      " (nan, None, [0.0, 0.001, 0.01, 0.001])]\n",
      "No wall nearby.\n",
      "[(nan, None, [0.0, 0.0, 0.0, 0.001]),\n",
      " (nan, None, [0.0, 0.0, 0.01, 0.0]),\n",
      " (nan, None, [0.01, 0.0, 0.01, 0.001]),\n",
      " (nan, None, [0.0, 0.001, 0.01, 0.001])]\n",
      "No wall nearby.\n"
     ]
    },
    {
     "name": "stderr",
     "output_type": "stream",
     "text": [
      " 26%|██▌       | 786/3000 [01:49<05:08,  7.17it/s]"
     ]
    },
    {
     "name": "stdout",
     "output_type": "stream",
     "text": [
      "[(nan, None, [0.0, 0.0, 0.0, 0.001]),\n",
      " (nan, None, [0.0, 0.0, 0.01, 0.0]),\n",
      " (nan, None, [0.01, 0.0, 0.01, 0.001]),\n",
      " (nan, None, [0.0, 0.001, 0.01, 0.001])]\n",
      "No wall nearby.\n",
      "[(nan, None, [0.0, 0.0, 0.0, 0.001]),\n",
      " (nan, None, [0.0, 0.0, 0.01, 0.0]),\n",
      " (nan, None, [0.01, 0.0, 0.01, 0.001]),\n",
      " (nan, None, [0.0, 0.001, 0.01, 0.001])]\n",
      "No wall nearby.\n"
     ]
    },
    {
     "name": "stderr",
     "output_type": "stream",
     "text": [
      " 26%|██▋       | 788/3000 [01:50<05:03,  7.29it/s]"
     ]
    },
    {
     "name": "stdout",
     "output_type": "stream",
     "text": [
      "[(nan, None, [0.0, 0.0, 0.0, 0.001]),\n",
      " (nan, None, [0.0, 0.0, 0.01, 0.0]),\n",
      " (nan, None, [0.01, 0.0, 0.01, 0.001]),\n",
      " (nan, None, [0.0, 0.001, 0.01, 0.001])]\n",
      "No wall nearby.\n",
      "[(nan, None, [0.0, 0.0, 0.0, 0.001]),\n",
      " (nan, None, [0.0, 0.0, 0.01, 0.0]),\n",
      " (nan, None, [0.01, 0.0, 0.01, 0.001]),\n",
      " (nan, None, [0.0, 0.001, 0.01, 0.001])]\n",
      "No wall nearby.\n"
     ]
    },
    {
     "name": "stderr",
     "output_type": "stream",
     "text": [
      " 26%|██▋       | 790/3000 [01:50<05:17,  6.96it/s]"
     ]
    },
    {
     "name": "stdout",
     "output_type": "stream",
     "text": [
      "[(nan, None, [0.0, 0.0, 0.0, 0.001]),\n",
      " (nan, None, [0.0, 0.0, 0.01, 0.0]),\n",
      " (nan, None, [0.01, 0.0, 0.01, 0.001]),\n",
      " (nan, None, [0.0, 0.001, 0.01, 0.001])]\n",
      "No wall nearby.\n",
      "[(nan, None, [0.0, 0.0, 0.0, 0.001]),\n",
      " (nan, None, [0.0, 0.0, 0.01, 0.0]),\n",
      " (nan, None, [0.01, 0.0, 0.01, 0.001]),\n",
      " (nan, None, [0.0, 0.001, 0.01, 0.001])]\n",
      "No wall nearby.\n"
     ]
    },
    {
     "name": "stderr",
     "output_type": "stream",
     "text": [
      " 26%|██▋       | 792/3000 [01:50<05:07,  7.17it/s]"
     ]
    },
    {
     "name": "stdout",
     "output_type": "stream",
     "text": [
      "[(nan, None, [0.0, 0.0, 0.0, 0.001]),\n",
      " (nan, None, [0.0, 0.0, 0.01, 0.0]),\n",
      " (nan, None, [0.01, 0.0, 0.01, 0.001]),\n",
      " (nan, None, [0.0, 0.001, 0.01, 0.001])]\n",
      "No wall nearby.\n",
      "[(nan, None, [0.0, 0.0, 0.0, 0.001]),\n",
      " (nan, None, [0.0, 0.0, 0.01, 0.0]),\n",
      " (nan, None, [0.01, 0.0, 0.01, 0.001]),\n",
      " (nan, None, [0.0, 0.001, 0.01, 0.001])]\n",
      "No wall nearby.\n"
     ]
    },
    {
     "name": "stderr",
     "output_type": "stream",
     "text": [
      " 26%|██▋       | 794/3000 [01:51<04:59,  7.38it/s]"
     ]
    },
    {
     "name": "stdout",
     "output_type": "stream",
     "text": [
      "[(nan, None, [0.0, 0.0, 0.0, 0.001]),\n",
      " (nan, None, [0.0, 0.0, 0.01, 0.0]),\n",
      " (nan, None, [0.01, 0.0, 0.01, 0.001]),\n",
      " (nan, None, [0.0, 0.001, 0.01, 0.001])]\n",
      "No wall nearby.\n",
      "[(nan, None, [0.0, 0.0, 0.0, 0.001]),\n",
      " (nan, None, [0.0, 0.0, 0.01, 0.0]),\n",
      " (nan, None, [0.01, 0.0, 0.01, 0.001]),\n",
      " (nan, None, [0.0, 0.001, 0.01, 0.001])]\n",
      "No wall nearby.\n"
     ]
    },
    {
     "name": "stderr",
     "output_type": "stream",
     "text": [
      " 27%|██▋       | 796/3000 [01:51<05:17,  6.95it/s]"
     ]
    },
    {
     "name": "stdout",
     "output_type": "stream",
     "text": [
      "[(nan, None, [0.0, 0.0, 0.0, 0.001]),\n",
      " (nan, None, [0.0, 0.0, 0.01, 0.0]),\n",
      " (nan, None, [0.01, 0.0, 0.01, 0.001]),\n",
      " (nan, None, [0.0, 0.001, 0.01, 0.001])]\n",
      "No wall nearby.\n",
      "[(nan, None, [0.0, 0.0, 0.0, 0.001]),\n",
      " (nan, None, [0.0, 0.0, 0.01, 0.0]),\n",
      " (nan, None, [0.01, 0.0, 0.01, 0.001]),\n",
      " (nan, None, [0.0, 0.001, 0.01, 0.001])]\n",
      "No wall nearby.\n"
     ]
    },
    {
     "name": "stderr",
     "output_type": "stream",
     "text": [
      " 27%|██▋       | 798/3000 [01:51<05:01,  7.31it/s]"
     ]
    },
    {
     "name": "stdout",
     "output_type": "stream",
     "text": [
      "[(nan, None, [0.0, 0.0, 0.0, 0.001]),\n",
      " (nan, None, [0.0, 0.0, 0.01, 0.0]),\n",
      " (nan, None, [0.01, 0.0, 0.01, 0.001]),\n",
      " (nan, None, [0.0, 0.001, 0.01, 0.001])]\n",
      "No wall nearby.\n",
      "[(nan, None, [0.0, 0.0, 0.0, 0.001]),\n",
      " (nan, None, [0.0, 0.0, 0.01, 0.0]),\n",
      " (nan, None, [0.01, 0.0, 0.01, 0.001]),\n",
      " (nan, None, [0.0, 0.001, 0.01, 0.001])]\n",
      "No wall nearby.\n"
     ]
    },
    {
     "name": "stderr",
     "output_type": "stream",
     "text": [
      " 27%|██▋       | 800/3000 [01:51<04:53,  7.49it/s]"
     ]
    },
    {
     "name": "stdout",
     "output_type": "stream",
     "text": [
      "[(nan, None, [0.0, 0.0, 0.0, 0.001]),\n",
      " (nan, None, [0.0, 0.0, 0.01, 0.0]),\n",
      " (nan, None, [0.01, 0.0, 0.01, 0.001]),\n",
      " (nan, None, [0.0, 0.001, 0.01, 0.001])]\n",
      "No wall nearby.\n",
      "[(nan, None, [0.0, 0.0, 0.0, 0.001]),\n",
      " (nan, None, [0.0, 0.0, 0.01, 0.0]),\n",
      " (nan, None, [0.01, 0.0, 0.01, 0.001]),\n",
      " (nan, None, [0.0, 0.001, 0.01, 0.001])]\n",
      "No wall nearby.\n"
     ]
    },
    {
     "name": "stderr",
     "output_type": "stream",
     "text": [
      " 27%|██▋       | 802/3000 [01:52<04:49,  7.60it/s]"
     ]
    },
    {
     "name": "stdout",
     "output_type": "stream",
     "text": [
      "[(nan, None, [0.0, 0.0, 0.0, 0.001]),\n",
      " (nan, None, [0.0, 0.0, 0.01, 0.0]),\n",
      " (nan, None, [0.01, 0.0, 0.01, 0.001]),\n",
      " (nan, None, [0.0, 0.001, 0.01, 0.001])]\n",
      "No wall nearby.\n",
      "[(nan, None, [0.0, 0.0, 0.0, 0.001]),\n",
      " (nan, None, [0.0, 0.0, 0.01, 0.0]),\n",
      " (nan, None, [0.01, 0.0, 0.01, 0.001]),\n",
      " (nan, None, [0.0, 0.001, 0.01, 0.001])]\n",
      "No wall nearby.\n"
     ]
    },
    {
     "name": "stderr",
     "output_type": "stream",
     "text": [
      " 27%|██▋       | 804/3000 [01:52<05:03,  7.24it/s]"
     ]
    },
    {
     "name": "stdout",
     "output_type": "stream",
     "text": [
      "[(nan, None, [0.0, 0.0, 0.0, 0.001]),\n",
      " (nan, None, [0.0, 0.0, 0.01, 0.0]),\n",
      " (nan, None, [0.01, 0.0, 0.01, 0.001]),\n",
      " (nan, None, [0.0, 0.001, 0.01, 0.001])]\n",
      "No wall nearby.\n",
      "[(nan, None, [0.0, 0.0, 0.0, 0.001]),\n",
      " (nan, None, [0.0, 0.0, 0.01, 0.0]),\n",
      " (nan, None, [0.01, 0.0, 0.01, 0.001]),\n",
      " (nan, None, [0.0, 0.001, 0.01, 0.001])]\n",
      "No wall nearby.\n"
     ]
    },
    {
     "name": "stderr",
     "output_type": "stream",
     "text": [
      " 27%|██▋       | 806/3000 [01:52<04:58,  7.36it/s]"
     ]
    },
    {
     "name": "stdout",
     "output_type": "stream",
     "text": [
      "[(nan, None, [0.0, 0.0, 0.0, 0.001]),\n",
      " (nan, None, [0.0, 0.0, 0.01, 0.0]),\n",
      " (nan, None, [0.01, 0.0, 0.01, 0.001]),\n",
      " (nan, None, [0.0, 0.001, 0.01, 0.001])]\n",
      "No wall nearby.\n",
      "[(nan, None, [0.0, 0.0, 0.0, 0.001]),\n",
      " (nan, None, [0.0, 0.0, 0.01, 0.0]),\n",
      " (nan, None, [0.01, 0.0, 0.01, 0.001]),\n",
      " (nan, None, [0.0, 0.001, 0.01, 0.001])]\n",
      "No wall nearby.\n"
     ]
    },
    {
     "name": "stderr",
     "output_type": "stream",
     "text": [
      " 27%|██▋       | 808/3000 [01:52<04:57,  7.38it/s]"
     ]
    },
    {
     "name": "stdout",
     "output_type": "stream",
     "text": [
      "[(nan, None, [0.0, 0.0, 0.0, 0.001]),\n",
      " (nan, None, [0.0, 0.0, 0.01, 0.0]),\n",
      " (nan, None, [0.01, 0.0, 0.01, 0.001]),\n",
      " (nan, None, [0.0, 0.001, 0.01, 0.001])]\n",
      "No wall nearby.\n",
      "[(nan, None, [0.0, 0.0, 0.0, 0.001]),\n",
      " (nan, None, [0.0, 0.0, 0.01, 0.0]),\n",
      " (nan, None, [0.01, 0.0, 0.01, 0.001]),\n",
      " (nan, None, [0.0, 0.001, 0.01, 0.001])]\n",
      "No wall nearby.\n"
     ]
    },
    {
     "name": "stderr",
     "output_type": "stream",
     "text": [
      " 27%|██▋       | 810/3000 [01:53<05:10,  7.04it/s]"
     ]
    },
    {
     "name": "stdout",
     "output_type": "stream",
     "text": [
      "[(nan, None, [0.0, 0.0, 0.0, 0.001]),\n",
      " (nan, None, [0.0, 0.0, 0.01, 0.0]),\n",
      " (nan, None, [0.01, 0.0, 0.01, 0.001]),\n",
      " (nan, None, [0.0, 0.001, 0.01, 0.001])]\n",
      "No wall nearby.\n",
      "[(nan, None, [0.0, 0.0, 0.0, 0.001]),\n",
      " (nan, None, [0.0, 0.0, 0.01, 0.0]),\n",
      " (nan, None, [0.01, 0.0, 0.01, 0.001]),\n",
      " (nan, None, [0.0, 0.001, 0.01, 0.001])]\n",
      "No wall nearby.\n"
     ]
    },
    {
     "name": "stderr",
     "output_type": "stream",
     "text": [
      " 27%|██▋       | 812/3000 [01:53<05:03,  7.22it/s]"
     ]
    },
    {
     "name": "stdout",
     "output_type": "stream",
     "text": [
      "[(nan, None, [0.0, 0.0, 0.0, 0.001]),\n",
      " (nan, None, [0.0, 0.0, 0.01, 0.0]),\n",
      " (nan, None, [0.01, 0.0, 0.01, 0.001]),\n",
      " (nan, None, [0.0, 0.001, 0.01, 0.001])]\n",
      "No wall nearby.\n",
      "[(nan, None, [0.0, 0.0, 0.0, 0.001]),\n",
      " (nan, None, [0.0, 0.0, 0.01, 0.0]),\n",
      " (nan, None, [0.01, 0.0, 0.01, 0.001]),\n",
      " (nan, None, [0.0, 0.001, 0.01, 0.001])]\n",
      "No wall nearby.\n"
     ]
    },
    {
     "name": "stderr",
     "output_type": "stream",
     "text": [
      " 27%|██▋       | 814/3000 [01:53<04:59,  7.29it/s]"
     ]
    },
    {
     "name": "stdout",
     "output_type": "stream",
     "text": [
      "[(nan, None, [0.0, 0.0, 0.0, 0.001]),\n",
      " (nan, None, [0.0, 0.0, 0.01, 0.0]),\n",
      " (nan, None, [0.01, 0.0, 0.01, 0.001]),\n",
      " (nan, None, [0.0, 0.001, 0.01, 0.001])]\n",
      "No wall nearby.\n",
      "[(nan, None, [0.0, 0.0, 0.0, 0.001]),\n",
      " (nan, None, [0.0, 0.0, 0.01, 0.0]),\n",
      " (nan, None, [0.01, 0.0, 0.01, 0.001]),\n",
      " (nan, None, [0.0, 0.001, 0.01, 0.001])]\n",
      "No wall nearby.\n"
     ]
    },
    {
     "name": "stderr",
     "output_type": "stream",
     "text": [
      " 27%|██▋       | 816/3000 [01:54<05:26,  6.69it/s]"
     ]
    },
    {
     "name": "stdout",
     "output_type": "stream",
     "text": [
      "[(nan, None, [0.0, 0.0, 0.0, 0.001]),\n",
      " (nan, None, [0.0, 0.0, 0.01, 0.0]),\n",
      " (nan, None, [0.01, 0.0, 0.01, 0.001]),\n",
      " (nan, None, [0.0, 0.001, 0.01, 0.001])]\n",
      "No wall nearby.\n",
      "[(nan, None, [0.0, 0.0, 0.0, 0.001]),\n",
      " (nan, None, [0.0, 0.0, 0.01, 0.0]),\n",
      " (nan, None, [0.01, 0.0, 0.01, 0.001]),\n",
      " (nan, None, [0.0, 0.001, 0.01, 0.001])]\n",
      "No wall nearby.\n"
     ]
    },
    {
     "name": "stderr",
     "output_type": "stream",
     "text": [
      " 27%|██▋       | 818/3000 [01:54<05:25,  6.71it/s]"
     ]
    },
    {
     "name": "stdout",
     "output_type": "stream",
     "text": [
      "[(nan, None, [0.0, 0.0, 0.0, 0.001]),\n",
      " (nan, None, [0.0, 0.0, 0.01, 0.0]),\n",
      " (nan, None, [0.01, 0.0, 0.01, 0.001]),\n",
      " (nan, None, [0.0, 0.001, 0.01, 0.001])]\n",
      "No wall nearby.\n",
      "[(nan, None, [0.0, 0.0, 0.0, 0.001]),\n",
      " (nan, None, [0.0, 0.0, 0.01, 0.0]),\n",
      " (nan, None, [0.01, 0.0, 0.01, 0.001]),\n",
      " (nan, None, [0.0, 0.001, 0.01, 0.001])]\n",
      "No wall nearby.\n"
     ]
    },
    {
     "name": "stderr",
     "output_type": "stream",
     "text": [
      " 27%|██▋       | 820/3000 [01:54<05:15,  6.90it/s]"
     ]
    },
    {
     "name": "stdout",
     "output_type": "stream",
     "text": [
      "[(nan, None, [0.0, 0.0, 0.0, 0.001]),\n",
      " (nan, None, [0.0, 0.0, 0.01, 0.0]),\n",
      " (nan, None, [0.01, 0.0, 0.01, 0.001]),\n",
      " (nan, None, [0.0, 0.001, 0.01, 0.001])]\n",
      "No wall nearby.\n",
      "[(nan, None, [0.0, 0.0, 0.0, 0.001]),\n",
      " (nan, None, [0.0, 0.0, 0.01, 0.0]),\n",
      " (nan, None, [0.01, 0.0, 0.01, 0.001]),\n",
      " (nan, None, [0.0, 0.001, 0.01, 0.001])]\n",
      "No wall nearby.\n"
     ]
    },
    {
     "name": "stderr",
     "output_type": "stream",
     "text": [
      " 27%|██▋       | 822/3000 [01:55<05:55,  6.13it/s]"
     ]
    },
    {
     "name": "stdout",
     "output_type": "stream",
     "text": [
      "[(nan, None, [0.0, 0.0, 0.0, 0.001]),\n",
      " (nan, None, [0.0, 0.0, 0.01, 0.0]),\n",
      " (nan, None, [0.01, 0.0, 0.01, 0.001]),\n",
      " (nan, None, [0.0, 0.001, 0.01, 0.001])]\n",
      "No wall nearby.\n",
      "[(nan, None, [0.0, 0.0, 0.0, 0.001]),\n",
      " (nan, None, [0.0, 0.0, 0.01, 0.0]),\n",
      " (nan, None, [0.01, 0.0, 0.01, 0.001]),\n",
      " (nan, None, [0.0, 0.001, 0.01, 0.001])]\n",
      "No wall nearby.\n"
     ]
    },
    {
     "name": "stderr",
     "output_type": "stream",
     "text": [
      " 27%|██▋       | 824/3000 [01:55<06:07,  5.92it/s]"
     ]
    },
    {
     "name": "stdout",
     "output_type": "stream",
     "text": [
      "[(nan, None, [0.0, 0.0, 0.0, 0.001]),\n",
      " (nan, None, [0.0, 0.0, 0.01, 0.0]),\n",
      " (nan, None, [0.01, 0.0, 0.01, 0.001]),\n",
      " (nan, None, [0.0, 0.001, 0.01, 0.001])]\n",
      "No wall nearby.\n",
      "[(nan, None, [0.0, 0.0, 0.0, 0.001]),\n",
      " (nan, None, [0.0, 0.0, 0.01, 0.0]),\n",
      " (nan, None, [0.01, 0.0, 0.01, 0.001]),\n",
      " (nan, None, [0.0, 0.001, 0.01, 0.001])]\n",
      "No wall nearby.\n"
     ]
    },
    {
     "name": "stderr",
     "output_type": "stream",
     "text": [
      " 28%|██▊       | 825/3000 [01:55<06:15,  5.79it/s]"
     ]
    },
    {
     "name": "stdout",
     "output_type": "stream",
     "text": [
      "[(nan, None, [0.0, 0.0, 0.0, 0.001]),\n",
      " (nan, None, [0.0, 0.0, 0.01, 0.0]),\n",
      " (nan, None, [0.01, 0.0, 0.01, 0.001]),\n",
      " (nan, None, [0.0, 0.001, 0.01, 0.001])]\n",
      "No wall nearby.\n"
     ]
    },
    {
     "name": "stderr",
     "output_type": "stream",
     "text": [
      " 28%|██▊       | 827/3000 [01:56<06:41,  5.41it/s]"
     ]
    },
    {
     "name": "stdout",
     "output_type": "stream",
     "text": [
      "[(nan, None, [0.0, 0.0, 0.0, 0.001]),\n",
      " (nan, None, [0.0, 0.0, 0.01, 0.0]),\n",
      " (nan, None, [0.01, 0.0, 0.01, 0.001]),\n",
      " (nan, None, [0.0, 0.001, 0.01, 0.001])]\n",
      "No wall nearby.\n",
      "[(nan, None, [0.0, 0.0, 0.0, 0.001]),\n",
      " (nan, None, [0.0, 0.0, 0.01, 0.0]),\n",
      " (nan, None, [0.01, 0.0, 0.01, 0.001]),\n",
      " (nan, None, [0.0, 0.001, 0.01, 0.001])]\n",
      "No wall nearby.\n"
     ]
    },
    {
     "name": "stderr",
     "output_type": "stream",
     "text": [
      " 28%|██▊       | 829/3000 [01:56<06:34,  5.51it/s]"
     ]
    },
    {
     "name": "stdout",
     "output_type": "stream",
     "text": [
      "[(nan, None, [0.0, 0.0, 0.0, 0.001]),\n",
      " (nan, None, [0.0, 0.0, 0.01, 0.0]),\n",
      " (nan, None, [0.01, 0.0, 0.01, 0.001]),\n",
      " (nan, None, [0.0, 0.001, 0.01, 0.001])]\n",
      "No wall nearby.\n",
      "[(nan, None, [0.0, 0.0, 0.0, 0.001]),\n",
      " (nan, None, [0.0, 0.0, 0.01, 0.0]),\n",
      " (nan, None, [0.01, 0.0, 0.01, 0.001]),\n",
      " (nan, None, [0.0, 0.001, 0.01, 0.001])]\n",
      "No wall nearby.\n"
     ]
    },
    {
     "name": "stderr",
     "output_type": "stream",
     "text": [
      " 28%|██▊       | 831/3000 [01:56<06:07,  5.90it/s]"
     ]
    },
    {
     "name": "stdout",
     "output_type": "stream",
     "text": [
      "[(nan, None, [0.0, 0.0, 0.0, 0.001]),\n",
      " (nan, None, [0.0, 0.0, 0.01, 0.0]),\n",
      " (nan, None, [0.01, 0.0, 0.01, 0.001]),\n",
      " (nan, None, [0.0, 0.001, 0.01, 0.001])]\n",
      "No wall nearby.\n",
      "[(nan, None, [0.0, 0.0, 0.0, 0.001]),\n",
      " (nan, None, [0.0, 0.0, 0.01, 0.0]),\n",
      " (nan, None, [0.01, 0.0, 0.01, 0.001]),\n",
      " (nan, None, [0.0, 0.001, 0.01, 0.001])]\n",
      "No wall nearby.\n"
     ]
    },
    {
     "name": "stderr",
     "output_type": "stream",
     "text": [
      " 28%|██▊       | 833/3000 [01:56<06:00,  6.01it/s]"
     ]
    },
    {
     "name": "stdout",
     "output_type": "stream",
     "text": [
      "[(nan, None, [0.0, 0.0, 0.0, 0.001]),\n",
      " (nan, None, [0.0, 0.0, 0.01, 0.0]),\n",
      " (nan, None, [0.01, 0.0, 0.01, 0.001]),\n",
      " (nan, None, [0.0, 0.001, 0.01, 0.001])]\n",
      "No wall nearby.\n",
      "[(nan, None, [0.0, 0.0, 0.0, 0.001]),\n",
      " (nan, None, [0.0, 0.0, 0.01, 0.0]),\n",
      " (nan, None, [0.01, 0.0, 0.01, 0.001]),\n",
      " (nan, None, [0.0, 0.001, 0.01, 0.001])]\n",
      "No wall nearby.\n"
     ]
    },
    {
     "name": "stderr",
     "output_type": "stream",
     "text": [
      " 28%|██▊       | 835/3000 [01:57<06:12,  5.81it/s]"
     ]
    },
    {
     "name": "stdout",
     "output_type": "stream",
     "text": [
      "[(nan, None, [0.0, 0.0, 0.0, 0.001]),\n",
      " (nan, None, [0.0, 0.0, 0.01, 0.0]),\n",
      " (nan, None, [0.01, 0.0, 0.01, 0.001]),\n",
      " (nan, None, [0.0, 0.001, 0.01, 0.001])]\n",
      "No wall nearby.\n",
      "[(nan, None, [0.0, 0.0, 0.0, 0.001]),\n",
      " (nan, None, [0.0, 0.0, 0.01, 0.0]),\n",
      " (nan, None, [0.01, 0.0, 0.01, 0.001]),\n",
      " (nan, None, [0.0, 0.001, 0.01, 0.001])]\n",
      "No wall nearby.\n"
     ]
    },
    {
     "name": "stderr",
     "output_type": "stream",
     "text": [
      " 28%|██▊       | 837/3000 [01:57<05:51,  6.15it/s]"
     ]
    },
    {
     "name": "stdout",
     "output_type": "stream",
     "text": [
      "[(nan, None, [0.0, 0.0, 0.0, 0.001]),\n",
      " (nan, None, [0.0, 0.0, 0.01, 0.0]),\n",
      " (nan, None, [0.01, 0.0, 0.01, 0.001]),\n",
      " (nan, None, [0.0, 0.001, 0.01, 0.001])]\n",
      "No wall nearby.\n",
      "[(nan, None, [0.0, 0.0, 0.0, 0.001]),\n",
      " (nan, None, [0.0, 0.0, 0.01, 0.0]),\n",
      " (nan, None, [0.01, 0.0, 0.01, 0.001]),\n",
      " (nan, None, [0.0, 0.001, 0.01, 0.001])]\n",
      "No wall nearby.\n"
     ]
    },
    {
     "name": "stderr",
     "output_type": "stream",
     "text": [
      " 28%|██▊       | 839/3000 [01:57<05:47,  6.22it/s]"
     ]
    },
    {
     "name": "stdout",
     "output_type": "stream",
     "text": [
      "[(nan, None, [0.0, 0.0, 0.0, 0.001]),\n",
      " (nan, None, [0.0, 0.0, 0.01, 0.0]),\n",
      " (nan, None, [0.01, 0.0, 0.01, 0.001]),\n",
      " (nan, None, [0.0, 0.001, 0.01, 0.001])]\n",
      "No wall nearby.\n",
      "[(nan, None, [0.0, 0.0, 0.0, 0.001]),\n",
      " (nan, None, [0.0, 0.0, 0.01, 0.0]),\n",
      " (nan, None, [0.01, 0.0, 0.01, 0.001]),\n",
      " (nan, None, [0.0, 0.001, 0.01, 0.001])]\n",
      "No wall nearby.\n"
     ]
    },
    {
     "name": "stderr",
     "output_type": "stream",
     "text": [
      " 28%|██▊       | 841/3000 [01:58<05:43,  6.29it/s]"
     ]
    },
    {
     "name": "stdout",
     "output_type": "stream",
     "text": [
      "[(nan, None, [0.0, 0.0, 0.0, 0.001]),\n",
      " (nan, None, [0.0, 0.0, 0.01, 0.0]),\n",
      " (nan, None, [0.01, 0.0, 0.01, 0.001]),\n",
      " (nan, None, [0.0, 0.001, 0.01, 0.001])]\n",
      "No wall nearby.\n",
      "[(nan, None, [0.0, 0.0, 0.0, 0.001]),\n",
      " (nan, None, [0.0, 0.0, 0.01, 0.0]),\n",
      " (nan, None, [0.01, 0.0, 0.01, 0.001]),\n",
      " (nan, None, [0.0, 0.001, 0.01, 0.001])]\n",
      "No wall nearby.\n"
     ]
    },
    {
     "name": "stderr",
     "output_type": "stream",
     "text": [
      " 28%|██▊       | 843/3000 [01:58<05:55,  6.06it/s]"
     ]
    },
    {
     "name": "stdout",
     "output_type": "stream",
     "text": [
      "[(nan, None, [0.0, 0.0, 0.0, 0.001]),\n",
      " (nan, None, [0.0, 0.0, 0.01, 0.0]),\n",
      " (nan, None, [0.01, 0.0, 0.01, 0.001]),\n",
      " (nan, None, [0.0, 0.001, 0.01, 0.001])]\n",
      "No wall nearby.\n",
      "[(nan, None, [0.0, 0.0, 0.0, 0.001]),\n",
      " (nan, None, [0.0, 0.0, 0.01, 0.0]),\n",
      " (nan, None, [0.01, 0.0, 0.01, 0.001]),\n",
      " (nan, None, [0.0, 0.001, 0.01, 0.001])]\n",
      "No wall nearby.\n"
     ]
    },
    {
     "name": "stderr",
     "output_type": "stream",
     "text": [
      " 28%|██▊       | 845/3000 [01:58<05:36,  6.41it/s]"
     ]
    },
    {
     "name": "stdout",
     "output_type": "stream",
     "text": [
      "[(nan, None, [0.0, 0.0, 0.0, 0.001]),\n",
      " (nan, None, [0.0, 0.0, 0.01, 0.0]),\n",
      " (nan, None, [0.01, 0.0, 0.01, 0.001]),\n",
      " (nan, None, [0.0, 0.001, 0.01, 0.001])]\n",
      "No wall nearby.\n",
      "[(nan, None, [0.0, 0.0, 0.0, 0.001]),\n",
      " (nan, None, [0.0, 0.0, 0.01, 0.0]),\n",
      " (nan, None, [0.01, 0.0, 0.01, 0.001]),\n",
      " (nan, None, [0.0, 0.001, 0.01, 0.001])]\n",
      "No wall nearby.\n"
     ]
    },
    {
     "name": "stderr",
     "output_type": "stream",
     "text": [
      " 28%|██▊       | 847/3000 [01:59<05:19,  6.74it/s]"
     ]
    },
    {
     "name": "stdout",
     "output_type": "stream",
     "text": [
      "[(nan, None, [0.0, 0.0, 0.0, 0.001]),\n",
      " (nan, None, [0.0, 0.0, 0.01, 0.0]),\n",
      " (nan, None, [0.01, 0.0, 0.01, 0.001]),\n",
      " (nan, None, [0.0, 0.001, 0.01, 0.001])]\n",
      "No wall nearby.\n",
      "[(nan, None, [0.0, 0.0, 0.0, 0.001]),\n",
      " (nan, None, [0.0, 0.0, 0.01, 0.0]),\n",
      " (nan, None, [0.01, 0.0, 0.01, 0.001]),\n",
      " (nan, None, [0.0, 0.001, 0.01, 0.001])]\n",
      "No wall nearby.\n"
     ]
    },
    {
     "name": "stderr",
     "output_type": "stream",
     "text": [
      " 28%|██▊       | 849/3000 [01:59<05:31,  6.50it/s]"
     ]
    },
    {
     "name": "stdout",
     "output_type": "stream",
     "text": [
      "[(nan, None, [0.0, 0.0, 0.0, 0.001]),\n",
      " (nan, None, [0.0, 0.0, 0.01, 0.0]),\n",
      " (nan, None, [0.01, 0.0, 0.01, 0.001]),\n",
      " (nan, None, [0.0, 0.001, 0.01, 0.001])]\n",
      "No wall nearby.\n",
      "[(nan, None, [0.0, 0.0, 0.0, 0.001]),\n",
      " (nan, None, [0.0, 0.0, 0.01, 0.0]),\n",
      " (nan, None, [0.01, 0.0, 0.01, 0.001]),\n",
      " (nan, None, [0.0, 0.001, 0.01, 0.001])]\n",
      "No wall nearby.\n"
     ]
    },
    {
     "name": "stderr",
     "output_type": "stream",
     "text": [
      " 28%|██▊       | 851/3000 [01:59<05:18,  6.76it/s]"
     ]
    },
    {
     "name": "stdout",
     "output_type": "stream",
     "text": [
      "[(nan, None, [0.0, 0.0, 0.0, 0.001]),\n",
      " (nan, None, [0.0, 0.0, 0.01, 0.0]),\n",
      " (nan, None, [0.01, 0.0, 0.01, 0.001]),\n",
      " (nan, None, [0.0, 0.001, 0.01, 0.001])]\n",
      "No wall nearby.\n",
      "[(nan, None, [0.0, 0.0, 0.0, 0.001]),\n",
      " (nan, None, [0.0, 0.0, 0.01, 0.0]),\n",
      " (nan, None, [0.01, 0.0, 0.01, 0.001]),\n",
      " (nan, None, [0.0, 0.001, 0.01, 0.001])]\n",
      "No wall nearby.\n"
     ]
    },
    {
     "name": "stderr",
     "output_type": "stream",
     "text": [
      " 28%|██▊       | 853/3000 [02:00<05:08,  6.97it/s]"
     ]
    },
    {
     "name": "stdout",
     "output_type": "stream",
     "text": [
      "[(nan, None, [0.0, 0.0, 0.0, 0.001]),\n",
      " (nan, None, [0.0, 0.0, 0.01, 0.0]),\n",
      " (nan, None, [0.01, 0.0, 0.01, 0.001]),\n",
      " (nan, None, [0.0, 0.001, 0.01, 0.001])]\n",
      "No wall nearby.\n",
      "[(nan, None, [0.0, 0.0, 0.0, 0.001]),\n",
      " (nan, None, [0.0, 0.0, 0.01, 0.0]),\n",
      " (nan, None, [0.01, 0.0, 0.01, 0.001]),\n",
      " (nan, None, [0.0, 0.001, 0.01, 0.001])]\n",
      "No wall nearby.\n"
     ]
    },
    {
     "name": "stderr",
     "output_type": "stream",
     "text": [
      " 28%|██▊       | 855/3000 [02:00<05:23,  6.63it/s]"
     ]
    },
    {
     "name": "stdout",
     "output_type": "stream",
     "text": [
      "[(nan, None, [0.0, 0.0, 0.0, 0.001]),\n",
      " (nan, None, [0.0, 0.0, 0.01, 0.0]),\n",
      " (nan, None, [0.01, 0.0, 0.01, 0.001]),\n",
      " (nan, None, [0.0, 0.001, 0.01, 0.001])]\n",
      "No wall nearby.\n",
      "[(nan, None, [0.0, 0.0, 0.0, 0.001]),\n",
      " (nan, None, [0.0, 0.0, 0.01, 0.0]),\n",
      " (nan, None, [0.01, 0.0, 0.01, 0.001]),\n",
      " (nan, None, [0.0, 0.001, 0.01, 0.001])]\n",
      "No wall nearby.\n"
     ]
    },
    {
     "name": "stderr",
     "output_type": "stream",
     "text": [
      " 29%|██▊       | 857/3000 [02:00<05:10,  6.91it/s]"
     ]
    },
    {
     "name": "stdout",
     "output_type": "stream",
     "text": [
      "[(nan, None, [0.0, 0.0, 0.0, 0.001]),\n",
      " (nan, None, [0.0, 0.0, 0.01, 0.0]),\n",
      " (nan, None, [0.01, 0.0, 0.01, 0.001]),\n",
      " (nan, None, [0.0, 0.001, 0.01, 0.001])]\n",
      "No wall nearby.\n",
      "[(nan, None, [0.0, 0.0, 0.0, 0.001]),\n",
      " (nan, None, [0.0, 0.0, 0.01, 0.0]),\n",
      " (nan, None, [0.01, 0.0, 0.01, 0.001]),\n",
      " (nan, None, [0.0, 0.001, 0.01, 0.001])]\n",
      "No wall nearby.\n"
     ]
    },
    {
     "name": "stderr",
     "output_type": "stream",
     "text": [
      " 29%|██▊       | 859/3000 [02:00<05:03,  7.05it/s]"
     ]
    },
    {
     "name": "stdout",
     "output_type": "stream",
     "text": [
      "[(nan, None, [0.0, 0.0, 0.0, 0.001]),\n",
      " (nan, None, [0.0, 0.0, 0.01, 0.0]),\n",
      " (nan, None, [0.01, 0.0, 0.01, 0.001]),\n",
      " (nan, None, [0.0, 0.001, 0.01, 0.001])]\n",
      "No wall nearby.\n",
      "[(nan, None, [0.0, 0.0, 0.0, 0.001]),\n",
      " (nan, None, [0.0, 0.0, 0.01, 0.0]),\n",
      " (nan, None, [0.01, 0.0, 0.01, 0.001]),\n",
      " (nan, None, [0.0, 0.001, 0.01, 0.001])]\n",
      "No wall nearby.\n"
     ]
    },
    {
     "name": "stderr",
     "output_type": "stream",
     "text": [
      " 29%|██▊       | 861/3000 [02:01<05:20,  6.68it/s]"
     ]
    },
    {
     "name": "stdout",
     "output_type": "stream",
     "text": [
      "[(nan, None, [0.0, 0.0, 0.0, 0.001]),\n",
      " (nan, None, [0.0, 0.0, 0.01, 0.0]),\n",
      " (nan, None, [0.01, 0.0, 0.01, 0.001]),\n",
      " (nan, None, [0.0, 0.001, 0.01, 0.001])]\n",
      "No wall nearby.\n",
      "[(nan, None, [0.0, 0.0, 0.0, 0.001]),\n",
      " (nan, None, [0.0, 0.0, 0.01, 0.0]),\n",
      " (nan, None, [0.01, 0.0, 0.01, 0.001]),\n",
      " (nan, None, [0.0, 0.001, 0.01, 0.001])]\n",
      "No wall nearby.\n"
     ]
    },
    {
     "name": "stderr",
     "output_type": "stream",
     "text": [
      " 29%|██▉       | 863/3000 [02:01<04:56,  7.21it/s]"
     ]
    },
    {
     "name": "stdout",
     "output_type": "stream",
     "text": [
      "[(nan, None, [0.0, 0.0, 0.0, 0.001]),\n",
      " (nan, None, [0.0, 0.0, 0.01, 0.0]),\n",
      " (nan, None, [0.01, 0.0, 0.01, 0.001]),\n",
      " (nan, None, [0.0, 0.001, 0.01, 0.001])]\n",
      "No wall nearby.\n",
      "[(nan, None, [0.0, 0.0, 0.0, 0.001]),\n",
      " (nan, None, [0.0, 0.0, 0.01, 0.0]),\n",
      " (nan, None, [0.01, 0.0, 0.01, 0.001]),\n",
      " (nan, None, [0.0, 0.001, 0.01, 0.001])]\n",
      "No wall nearby.\n"
     ]
    },
    {
     "name": "stderr",
     "output_type": "stream",
     "text": [
      " 29%|██▉       | 865/3000 [02:01<04:49,  7.38it/s]"
     ]
    },
    {
     "name": "stdout",
     "output_type": "stream",
     "text": [
      "[(nan, None, [0.0, 0.0, 0.0, 0.001]),\n",
      " (nan, None, [0.0, 0.0, 0.01, 0.0]),\n",
      " (nan, None, [0.01, 0.0, 0.01, 0.001]),\n",
      " (nan, None, [0.0, 0.001, 0.01, 0.001])]\n",
      "No wall nearby.\n",
      "[(nan, None, [0.0, 0.0, 0.0, 0.001]),\n",
      " (nan, None, [0.0, 0.0, 0.01, 0.0]),\n",
      " (nan, None, [0.01, 0.0, 0.01, 0.001]),\n",
      " (nan, None, [0.0, 0.001, 0.01, 0.001])]\n",
      "No wall nearby.\n"
     ]
    },
    {
     "name": "stderr",
     "output_type": "stream",
     "text": [
      " 29%|██▉       | 867/3000 [02:02<04:43,  7.52it/s]"
     ]
    },
    {
     "name": "stdout",
     "output_type": "stream",
     "text": [
      "[(nan, None, [0.0, 0.0, 0.0, 0.001]),\n",
      " (nan, None, [0.0, 0.0, 0.01, 0.0]),\n",
      " (nan, None, [0.01, 0.0, 0.01, 0.001]),\n",
      " (nan, None, [0.0, 0.001, 0.01, 0.001])]\n",
      "No wall nearby.\n",
      "[(nan, None, [0.0, 0.0, 0.0, 0.001]),\n",
      " (nan, None, [0.0, 0.0, 0.01, 0.0]),\n",
      " (nan, None, [0.01, 0.0, 0.01, 0.001]),\n",
      " (nan, None, [0.0, 0.001, 0.01, 0.001])]\n",
      "No wall nearby.\n"
     ]
    },
    {
     "name": "stderr",
     "output_type": "stream",
     "text": [
      " 29%|██▉       | 869/3000 [02:02<05:00,  7.10it/s]"
     ]
    },
    {
     "name": "stdout",
     "output_type": "stream",
     "text": [
      "[(nan, None, [0.0, 0.0, 0.0, 0.001]),\n",
      " (nan, None, [0.0, 0.0, 0.01, 0.0]),\n",
      " (nan, None, [0.01, 0.0, 0.01, 0.001]),\n",
      " (nan, None, [0.0, 0.001, 0.01, 0.001])]\n",
      "No wall nearby.\n",
      "[(nan, None, [0.0, 0.0, 0.0, 0.001]),\n",
      " (nan, None, [0.0, 0.0, 0.01, 0.0]),\n",
      " (nan, None, [0.01, 0.0, 0.01, 0.001]),\n",
      " (nan, None, [0.0, 0.001, 0.01, 0.001])]\n",
      "No wall nearby.\n"
     ]
    },
    {
     "name": "stderr",
     "output_type": "stream",
     "text": [
      " 29%|██▉       | 871/3000 [02:02<04:47,  7.42it/s]"
     ]
    },
    {
     "name": "stdout",
     "output_type": "stream",
     "text": [
      "[(nan, None, [0.0, 0.0, 0.0, 0.001]),\n",
      " (nan, None, [0.0, 0.0, 0.01, 0.0]),\n",
      " (nan, None, [0.01, 0.0, 0.01, 0.001]),\n",
      " (nan, None, [0.0, 0.001, 0.01, 0.001])]\n",
      "No wall nearby.\n",
      "[(nan, None, [0.0, 0.0, 0.0, 0.001]),\n",
      " (nan, None, [0.0, 0.0, 0.01, 0.0]),\n",
      " (nan, None, [0.01, 0.0, 0.01, 0.001]),\n",
      " (nan, None, [0.0, 0.001, 0.01, 0.001])]\n",
      "No wall nearby.\n"
     ]
    },
    {
     "name": "stderr",
     "output_type": "stream",
     "text": [
      " 29%|██▉       | 873/3000 [02:02<04:42,  7.53it/s]"
     ]
    },
    {
     "name": "stdout",
     "output_type": "stream",
     "text": [
      "[(nan, None, [0.0, 0.0, 0.0, 0.001]),\n",
      " (nan, None, [0.0, 0.0, 0.01, 0.0]),\n",
      " (nan, None, [0.01, 0.0, 0.01, 0.001]),\n",
      " (nan, None, [0.0, 0.001, 0.01, 0.001])]\n",
      "No wall nearby.\n",
      "[(nan, None, [0.0, 0.0, 0.0, 0.001]),\n",
      " (nan, None, [0.0, 0.0, 0.01, 0.0]),\n",
      " (nan, None, [0.01, 0.0, 0.01, 0.001]),\n",
      " (nan, None, [0.0, 0.001, 0.01, 0.001])]\n",
      "No wall nearby.\n"
     ]
    },
    {
     "name": "stderr",
     "output_type": "stream",
     "text": [
      " 29%|██▉       | 875/3000 [02:03<04:54,  7.21it/s]"
     ]
    },
    {
     "name": "stdout",
     "output_type": "stream",
     "text": [
      "[(nan, None, [0.0, 0.0, 0.0, 0.001]),\n",
      " (nan, None, [0.0, 0.0, 0.01, 0.0]),\n",
      " (nan, None, [0.01, 0.0, 0.01, 0.001]),\n",
      " (nan, None, [0.0, 0.001, 0.01, 0.001])]\n",
      "No wall nearby.\n",
      "[(nan, None, [0.0, 0.0, 0.0, 0.001]),\n",
      " (nan, None, [0.0, 0.0, 0.01, 0.0]),\n",
      " (nan, None, [0.01, 0.0, 0.01, 0.001]),\n",
      " (nan, None, [0.0, 0.001, 0.01, 0.001])]\n",
      "No wall nearby.\n"
     ]
    },
    {
     "name": "stderr",
     "output_type": "stream",
     "text": [
      " 29%|██▉       | 877/3000 [02:03<04:45,  7.42it/s]"
     ]
    },
    {
     "name": "stdout",
     "output_type": "stream",
     "text": [
      "[(nan, None, [0.0, 0.0, 0.0, 0.001]),\n",
      " (nan, None, [0.0, 0.0, 0.01, 0.0]),\n",
      " (nan, None, [0.01, 0.0, 0.01, 0.001]),\n",
      " (nan, None, [0.0, 0.001, 0.01, 0.001])]\n",
      "No wall nearby.\n",
      "[(nan, None, [0.0, 0.0, 0.0, 0.001]),\n",
      " (nan, None, [0.0, 0.0, 0.01, 0.0]),\n",
      " (nan, None, [0.01, 0.0, 0.01, 0.001]),\n",
      " (nan, None, [0.0, 0.001, 0.01, 0.001])]\n",
      "No wall nearby.\n"
     ]
    },
    {
     "name": "stderr",
     "output_type": "stream",
     "text": [
      " 29%|██▉       | 879/3000 [02:03<05:07,  6.91it/s]"
     ]
    },
    {
     "name": "stdout",
     "output_type": "stream",
     "text": [
      "[(nan, None, [0.0, 0.0, 0.0, 0.001]),\n",
      " (nan, None, [0.0, 0.0, 0.01, 0.0]),\n",
      " (nan, None, [0.01, 0.0, 0.01, 0.001]),\n",
      " (nan, None, [0.0, 0.001, 0.01, 0.001])]\n",
      "No wall nearby.\n",
      "[(nan, None, [0.0, 0.0, 0.0, 0.001]),\n",
      " (nan, None, [0.0, 0.0, 0.01, 0.0]),\n",
      " (nan, None, [0.01, 0.0, 0.01, 0.001]),\n",
      " (nan, None, [0.0, 0.001, 0.01, 0.001])]\n",
      "No wall nearby.\n"
     ]
    },
    {
     "name": "stderr",
     "output_type": "stream",
     "text": [
      " 29%|██▉       | 881/3000 [02:04<05:12,  6.77it/s]"
     ]
    },
    {
     "name": "stdout",
     "output_type": "stream",
     "text": [
      "[(nan, None, [0.0, 0.0, 0.0, 0.001]),\n",
      " (nan, None, [0.0, 0.0, 0.01, 0.0]),\n",
      " (nan, None, [0.01, 0.0, 0.01, 0.001]),\n",
      " (nan, None, [0.0, 0.001, 0.01, 0.001])]\n",
      "No wall nearby.\n",
      "[(nan, None, [0.0, 0.0, 0.0, 0.001]),\n",
      " (nan, None, [0.0, 0.0, 0.01, 0.0]),\n",
      " (nan, None, [0.01, 0.0, 0.01, 0.001]),\n",
      " (nan, None, [0.0, 0.001, 0.01, 0.001])]\n",
      "No wall nearby.\n"
     ]
    },
    {
     "name": "stderr",
     "output_type": "stream",
     "text": [
      " 29%|██▉       | 883/3000 [02:04<04:54,  7.18it/s]"
     ]
    },
    {
     "name": "stdout",
     "output_type": "stream",
     "text": [
      "[(nan, None, [0.0, 0.0, 0.0, 0.001]),\n",
      " (nan, None, [0.0, 0.0, 0.01, 0.0]),\n",
      " (nan, None, [0.01, 0.0, 0.01, 0.001]),\n",
      " (nan, None, [0.0, 0.001, 0.01, 0.001])]\n",
      "No wall nearby.\n",
      "[(nan, None, [0.0, 0.0, 0.0, 0.001]),\n",
      " (nan, None, [0.0, 0.0, 0.01, 0.0]),\n",
      " (nan, None, [0.01, 0.0, 0.01, 0.001]),\n",
      " (nan, None, [0.0, 0.001, 0.01, 0.001])]\n",
      "No wall nearby.\n"
     ]
    },
    {
     "name": "stderr",
     "output_type": "stream",
     "text": [
      " 30%|██▉       | 885/3000 [02:04<04:47,  7.35it/s]"
     ]
    },
    {
     "name": "stdout",
     "output_type": "stream",
     "text": [
      "[(nan, None, [0.0, 0.0, 0.0, 0.001]),\n",
      " (nan, None, [0.0, 0.0, 0.01, 0.0]),\n",
      " (nan, None, [0.01, 0.0, 0.01, 0.001]),\n",
      " (nan, None, [0.0, 0.001, 0.01, 0.001])]\n",
      "No wall nearby.\n",
      "[(nan, None, [0.0, 0.0, 0.0, 0.001]),\n",
      " (nan, None, [0.0, 0.0, 0.01, 0.0]),\n",
      " (nan, None, [0.01, 0.0, 0.01, 0.001]),\n",
      " (nan, None, [0.0, 0.001, 0.01, 0.001])]\n",
      "No wall nearby.\n"
     ]
    },
    {
     "name": "stderr",
     "output_type": "stream",
     "text": [
      " 30%|██▉       | 887/3000 [02:04<05:20,  6.59it/s]"
     ]
    },
    {
     "name": "stdout",
     "output_type": "stream",
     "text": [
      "[(nan, None, [0.0, 0.0, 0.0, 0.001]),\n",
      " (nan, None, [0.0, 0.0, 0.01, 0.0]),\n",
      " (nan, None, [0.01, 0.0, 0.01, 0.001]),\n",
      " (nan, None, [0.0, 0.001, 0.01, 0.001])]\n",
      "No wall nearby.\n",
      "[(nan, None, [0.0, 0.0, 0.0, 0.001]),\n",
      " (nan, None, [0.0, 0.0, 0.01, 0.0]),\n",
      " (nan, None, [0.01, 0.0, 0.01, 0.001]),\n",
      " (nan, None, [0.0, 0.001, 0.01, 0.001])]\n",
      "No wall nearby.\n"
     ]
    },
    {
     "name": "stderr",
     "output_type": "stream",
     "text": [
      " 30%|██▉       | 889/3000 [02:05<04:56,  7.13it/s]"
     ]
    },
    {
     "name": "stdout",
     "output_type": "stream",
     "text": [
      "[(nan, None, [0.0, 0.0, 0.0, 0.001]),\n",
      " (nan, None, [0.0, 0.0, 0.01, 0.0]),\n",
      " (nan, None, [0.01, 0.0, 0.01, 0.001]),\n",
      " (nan, None, [0.0, 0.001, 0.01, 0.001])]\n",
      "No wall nearby.\n",
      "[(nan, None, [0.0, 0.0, 0.0, 0.001]),\n",
      " (nan, None, [0.0, 0.0, 0.01, 0.0]),\n",
      " (nan, None, [0.01, 0.0, 0.01, 0.001]),\n",
      " (nan, None, [0.0, 0.001, 0.01, 0.001])]\n",
      "No wall nearby.\n"
     ]
    },
    {
     "name": "stderr",
     "output_type": "stream",
     "text": [
      " 30%|██▉       | 891/3000 [02:05<04:44,  7.41it/s]"
     ]
    },
    {
     "name": "stdout",
     "output_type": "stream",
     "text": [
      "[(nan, None, [0.0, 0.0, 0.0, 0.001]),\n",
      " (nan, None, [0.0, 0.0, 0.01, 0.0]),\n",
      " (nan, None, [0.01, 0.0, 0.01, 0.001]),\n",
      " (nan, None, [0.0, 0.001, 0.01, 0.001])]\n",
      "No wall nearby.\n",
      "[(nan, None, [0.0, 0.0, 0.0, 0.001]),\n",
      " (nan, None, [0.0, 0.0, 0.01, 0.0]),\n",
      " (nan, None, [0.01, 0.0, 0.01, 0.001]),\n",
      " (nan, None, [0.0, 0.001, 0.01, 0.001])]\n",
      "No wall nearby.\n"
     ]
    },
    {
     "name": "stderr",
     "output_type": "stream",
     "text": [
      " 30%|██▉       | 893/3000 [02:05<05:08,  6.83it/s]"
     ]
    },
    {
     "name": "stdout",
     "output_type": "stream",
     "text": [
      "[(nan, None, [0.0, 0.0, 0.0, 0.001]),\n",
      " (nan, None, [0.0, 0.0, 0.01, 0.0]),\n",
      " (nan, None, [0.01, 0.0, 0.01, 0.001]),\n",
      " (nan, None, [0.0, 0.001, 0.01, 0.001])]\n",
      "No wall nearby.\n",
      "[(nan, None, [0.0, 0.0, 0.0, 0.001]),\n",
      " (nan, None, [0.0, 0.0, 0.01, 0.0]),\n",
      " (nan, None, [0.01, 0.0, 0.01, 0.001]),\n",
      " (nan, None, [0.0, 0.001, 0.01, 0.001])]\n",
      "No wall nearby.\n"
     ]
    },
    {
     "name": "stderr",
     "output_type": "stream",
     "text": [
      " 30%|██▉       | 895/3000 [02:06<05:10,  6.77it/s]"
     ]
    },
    {
     "name": "stdout",
     "output_type": "stream",
     "text": [
      "[(nan, None, [0.0, 0.0, 0.0, 0.001]),\n",
      " (nan, None, [0.0, 0.0, 0.01, 0.0]),\n",
      " (nan, None, [0.01, 0.0, 0.01, 0.001]),\n",
      " (nan, None, [0.0, 0.001, 0.01, 0.001])]\n",
      "No wall nearby.\n",
      "[(nan, None, [0.0, 0.0, 0.0, 0.001]),\n",
      " (nan, None, [0.0, 0.0, 0.01, 0.0]),\n",
      " (nan, None, [0.01, 0.0, 0.01, 0.001]),\n",
      " (nan, None, [0.0, 0.001, 0.01, 0.001])]\n",
      "No wall nearby.\n"
     ]
    },
    {
     "name": "stderr",
     "output_type": "stream",
     "text": [
      " 30%|██▉       | 897/3000 [02:06<05:00,  7.00it/s]"
     ]
    },
    {
     "name": "stdout",
     "output_type": "stream",
     "text": [
      "[(nan, None, [0.0, 0.0, 0.0, 0.001]),\n",
      " (nan, None, [0.0, 0.0, 0.01, 0.0]),\n",
      " (nan, None, [0.01, 0.0, 0.01, 0.001]),\n",
      " (nan, None, [0.0, 0.001, 0.01, 0.001])]\n",
      "No wall nearby.\n",
      "[(nan, None, [0.0, 0.0, 0.0, 0.001]),\n",
      " (nan, None, [0.0, 0.0, 0.01, 0.0]),\n",
      " (nan, None, [0.01, 0.0, 0.01, 0.001]),\n",
      " (nan, None, [0.0, 0.001, 0.01, 0.001])]\n",
      "No wall nearby.\n"
     ]
    },
    {
     "name": "stderr",
     "output_type": "stream",
     "text": [
      " 30%|██▉       | 899/3000 [02:06<04:58,  7.03it/s]"
     ]
    },
    {
     "name": "stdout",
     "output_type": "stream",
     "text": [
      "[(nan, None, [0.0, 0.0, 0.0, 0.001]),\n",
      " (nan, None, [0.0, 0.0, 0.01, 0.0]),\n",
      " (nan, None, [0.01, 0.0, 0.01, 0.001]),\n",
      " (nan, None, [0.0, 0.001, 0.01, 0.001])]\n",
      "No wall nearby.\n",
      "[(nan, None, [0.0, 0.0, 0.0, 0.001]),\n",
      " (nan, None, [0.0, 0.0, 0.01, 0.0]),\n",
      " (nan, None, [0.01, 0.0, 0.01, 0.001]),\n",
      " (nan, None, [0.0, 0.001, 0.01, 0.001])]\n",
      "No wall nearby.\n"
     ]
    },
    {
     "name": "stderr",
     "output_type": "stream",
     "text": [
      " 30%|███       | 901/3000 [02:06<05:29,  6.37it/s]"
     ]
    },
    {
     "name": "stdout",
     "output_type": "stream",
     "text": [
      "[(nan, None, [0.0, 0.0, 0.0, 0.001]),\n",
      " (nan, None, [0.0, 0.0, 0.01, 0.0]),\n",
      " (nan, None, [0.01, 0.0, 0.01, 0.001]),\n",
      " (nan, None, [0.0, 0.001, 0.01, 0.001])]\n",
      "No wall nearby.\n",
      "[(nan, None, [0.0, 0.0, 0.0, 0.001]),\n",
      " (nan, None, [0.0, 0.0, 0.01, 0.0]),\n",
      " (nan, None, [0.01, 0.0, 0.01, 0.001]),\n",
      " (nan, None, [0.0, 0.001, 0.01, 0.001])]\n",
      "No wall nearby.\n"
     ]
    },
    {
     "name": "stderr",
     "output_type": "stream",
     "text": [
      " 30%|███       | 903/3000 [02:07<05:09,  6.77it/s]"
     ]
    },
    {
     "name": "stdout",
     "output_type": "stream",
     "text": [
      "[(nan, None, [0.0, 0.0, 0.0, 0.001]),\n",
      " (nan, None, [0.0, 0.0, 0.01, 0.0]),\n",
      " (nan, None, [0.01, 0.0, 0.01, 0.001]),\n",
      " (nan, None, [0.0, 0.001, 0.01, 0.001])]\n",
      "No wall nearby.\n",
      "[(nan, None, [0.0, 0.0, 0.0, 0.001]),\n",
      " (nan, None, [0.0, 0.0, 0.01, 0.0]),\n",
      " (nan, None, [0.01, 0.0, 0.01, 0.001]),\n",
      " (nan, None, [0.0, 0.001, 0.01, 0.001])]\n",
      "No wall nearby.\n"
     ]
    },
    {
     "name": "stderr",
     "output_type": "stream",
     "text": [
      " 30%|███       | 905/3000 [02:07<04:59,  6.99it/s]"
     ]
    },
    {
     "name": "stdout",
     "output_type": "stream",
     "text": [
      "[(nan, None, [0.0, 0.0, 0.0, 0.001]),\n",
      " (nan, None, [0.0, 0.0, 0.01, 0.0]),\n",
      " (nan, None, [0.01, 0.0, 0.01, 0.001]),\n",
      " (nan, None, [0.0, 0.001, 0.01, 0.001])]\n",
      "No wall nearby.\n",
      "[(nan, None, [0.0, 0.0, 0.0, 0.001]),\n",
      " (nan, None, [0.0, 0.0, 0.01, 0.0]),\n",
      " (nan, None, [0.01, 0.0, 0.01, 0.001]),\n",
      " (nan, None, [0.0, 0.001, 0.01, 0.001])]\n",
      "No wall nearby.\n"
     ]
    },
    {
     "name": "stderr",
     "output_type": "stream",
     "text": [
      " 30%|███       | 906/3000 [02:07<04:56,  7.07it/s]"
     ]
    },
    {
     "name": "stdout",
     "output_type": "stream",
     "text": [
      "[(nan, None, [0.0, 0.0, 0.0, 0.001]),\n",
      " (nan, None, [0.0, 0.0, 0.01, 0.0]),\n",
      " (nan, None, [0.01, 0.0, 0.01, 0.001]),\n",
      " (nan, None, [0.0, 0.001, 0.01, 0.001])]\n",
      "No wall nearby.\n"
     ]
    },
    {
     "name": "stderr",
     "output_type": "stream",
     "text": [
      " 30%|███       | 908/3000 [02:07<05:21,  6.50it/s]"
     ]
    },
    {
     "name": "stdout",
     "output_type": "stream",
     "text": [
      "[(nan, None, [0.0, 0.0, 0.0, 0.001]),\n",
      " (nan, None, [0.0, 0.0, 0.01, 0.0]),\n",
      " (nan, None, [0.01, 0.0, 0.01, 0.001]),\n",
      " (nan, None, [0.0, 0.001, 0.01, 0.001])]\n",
      "No wall nearby.\n",
      "[(nan, None, [0.0, 0.0, 0.0, 0.001]),\n",
      " (nan, None, [0.0, 0.0, 0.01, 0.0]),\n",
      " (nan, None, [0.01, 0.0, 0.01, 0.001]),\n",
      " (nan, None, [0.0, 0.001, 0.01, 0.001])]\n",
      "No wall nearby.\n"
     ]
    },
    {
     "name": "stderr",
     "output_type": "stream",
     "text": [
      " 30%|███       | 910/3000 [02:08<04:59,  6.97it/s]"
     ]
    },
    {
     "name": "stdout",
     "output_type": "stream",
     "text": [
      "[(nan, None, [0.0, 0.0, 0.0, 0.001]),\n",
      " (nan, None, [0.0, 0.0, 0.01, 0.0]),\n",
      " (nan, None, [0.01, 0.0, 0.01, 0.001]),\n",
      " (nan, None, [0.0, 0.001, 0.01, 0.001])]\n",
      "No wall nearby.\n",
      "[(nan, None, [0.0, 0.0, 0.0, 0.001]),\n",
      " (nan, None, [0.0, 0.0, 0.01, 0.0]),\n",
      " (nan, None, [0.01, 0.0, 0.01, 0.001]),\n",
      " (nan, None, [0.0, 0.001, 0.01, 0.001])]\n",
      "No wall nearby.\n"
     ]
    },
    {
     "name": "stderr",
     "output_type": "stream",
     "text": [
      " 30%|███       | 912/3000 [02:08<04:48,  7.25it/s]"
     ]
    },
    {
     "name": "stdout",
     "output_type": "stream",
     "text": [
      "[(nan, None, [0.0, 0.0, 0.0, 0.001]),\n",
      " (nan, None, [0.0, 0.0, 0.01, 0.0]),\n",
      " (nan, None, [0.01, 0.0, 0.01, 0.001]),\n",
      " (nan, None, [0.0, 0.001, 0.01, 0.001])]\n",
      "No wall nearby.\n",
      "[(nan, None, [0.0, 0.0, 0.0, 0.001]),\n",
      " (nan, None, [0.0, 0.0, 0.01, 0.0]),\n",
      " (nan, None, [0.01, 0.0, 0.01, 0.001]),\n",
      " (nan, None, [0.0, 0.001, 0.01, 0.001])]\n",
      "No wall nearby.\n"
     ]
    },
    {
     "name": "stderr",
     "output_type": "stream",
     "text": [
      " 30%|███       | 914/3000 [02:08<04:57,  7.02it/s]"
     ]
    },
    {
     "name": "stdout",
     "output_type": "stream",
     "text": [
      "[(nan, None, [0.0, 0.0, 0.0, 0.001]),\n",
      " (nan, None, [0.0, 0.0, 0.01, 0.0]),\n",
      " (nan, None, [0.01, 0.0, 0.01, 0.001]),\n",
      " (nan, None, [0.0, 0.001, 0.01, 0.001])]\n",
      "No wall nearby.\n",
      "[(nan, None, [0.0, 0.0, 0.0, 0.001]),\n",
      " (nan, None, [0.0, 0.0, 0.01, 0.0]),\n",
      " (nan, None, [0.01, 0.0, 0.01, 0.001]),\n",
      " (nan, None, [0.0, 0.001, 0.01, 0.001])]\n",
      "No wall nearby.\n"
     ]
    },
    {
     "name": "stderr",
     "output_type": "stream",
     "text": [
      " 31%|███       | 916/3000 [02:09<04:44,  7.31it/s]"
     ]
    },
    {
     "name": "stdout",
     "output_type": "stream",
     "text": [
      "[(nan, None, [0.0, 0.0, 0.0, 0.001]),\n",
      " (nan, None, [0.0, 0.0, 0.01, 0.0]),\n",
      " (nan, None, [0.01, 0.0, 0.01, 0.001]),\n",
      " (nan, None, [0.0, 0.001, 0.01, 0.001])]\n",
      "No wall nearby.\n",
      "[(nan, None, [0.0, 0.0, 0.0, 0.001]),\n",
      " (nan, None, [0.0, 0.0, 0.01, 0.0]),\n",
      " (nan, None, [0.01, 0.0, 0.01, 0.001]),\n",
      " (nan, None, [0.0, 0.001, 0.01, 0.001])]\n",
      "No wall nearby.\n"
     ]
    },
    {
     "name": "stderr",
     "output_type": "stream",
     "text": [
      " 31%|███       | 918/3000 [02:09<04:37,  7.49it/s]"
     ]
    },
    {
     "name": "stdout",
     "output_type": "stream",
     "text": [
      "[(nan, None, [0.0, 0.0, 0.0, 0.001]),\n",
      " (nan, None, [0.0, 0.0, 0.01, 0.0]),\n",
      " (nan, None, [0.01, 0.0, 0.01, 0.001]),\n",
      " (nan, None, [0.0, 0.001, 0.01, 0.001])]\n",
      "No wall nearby.\n",
      "[(nan, None, [0.0, 0.0, 0.0, 0.001]),\n",
      " (nan, None, [0.0, 0.0, 0.01, 0.0]),\n",
      " (nan, None, [0.01, 0.0, 0.01, 0.001]),\n",
      " (nan, None, [0.0, 0.001, 0.01, 0.001])]\n",
      "No wall nearby.\n"
     ]
    },
    {
     "name": "stderr",
     "output_type": "stream",
     "text": [
      " 31%|███       | 920/3000 [02:09<04:45,  7.30it/s]"
     ]
    },
    {
     "name": "stdout",
     "output_type": "stream",
     "text": [
      "[(nan, None, [0.0, 0.0, 0.0, 0.001]),\n",
      " (nan, None, [0.0, 0.0, 0.01, 0.0]),\n",
      " (nan, None, [0.01, 0.0, 0.01, 0.001]),\n",
      " (nan, None, [0.0, 0.001, 0.01, 0.001])]\n",
      "No wall nearby.\n",
      "[(nan, None, [0.0, 0.0, 0.0, 0.001]),\n",
      " (nan, None, [0.0, 0.0, 0.01, 0.0]),\n",
      " (nan, None, [0.01, 0.0, 0.01, 0.001]),\n",
      " (nan, None, [0.0, 0.001, 0.01, 0.001])]\n",
      "No wall nearby.\n"
     ]
    },
    {
     "name": "stderr",
     "output_type": "stream",
     "text": [
      " 31%|███       | 922/3000 [02:09<04:34,  7.57it/s]"
     ]
    },
    {
     "name": "stdout",
     "output_type": "stream",
     "text": [
      "[(nan, None, [0.0, 0.0, 0.0, 0.001]),\n",
      " (nan, None, [0.0, 0.0, 0.01, 0.0]),\n",
      " (nan, None, [0.01, 0.0, 0.01, 0.001]),\n",
      " (nan, None, [0.0, 0.001, 0.01, 0.001])]\n",
      "No wall nearby.\n",
      "[(nan, None, [0.0, 0.0, 0.0, 0.001]),\n",
      " (nan, None, [0.0, 0.0, 0.01, 0.0]),\n",
      " (nan, None, [0.01, 0.0, 0.01, 0.001]),\n",
      " (nan, None, [0.0, 0.001, 0.01, 0.001])]\n",
      "No wall nearby.\n"
     ]
    },
    {
     "name": "stderr",
     "output_type": "stream",
     "text": [
      " 31%|███       | 924/3000 [02:10<04:29,  7.70it/s]"
     ]
    },
    {
     "name": "stdout",
     "output_type": "stream",
     "text": [
      "[(nan, None, [0.0, 0.0, 0.0, 0.001]),\n",
      " (nan, None, [0.0, 0.0, 0.01, 0.0]),\n",
      " (nan, None, [0.01, 0.0, 0.01, 0.001]),\n",
      " (nan, None, [0.0, 0.001, 0.01, 0.001])]\n",
      "No wall nearby.\n",
      "[(nan, None, [0.0, 0.0, 0.0, 0.001]),\n",
      " (nan, None, [0.0, 0.0, 0.01, 0.0]),\n",
      " (nan, None, [0.01, 0.0, 0.01, 0.001]),\n",
      " (nan, None, [0.0, 0.001, 0.01, 0.001])]\n",
      "No wall nearby.\n"
     ]
    },
    {
     "name": "stderr",
     "output_type": "stream",
     "text": [
      " 31%|███       | 926/3000 [02:10<04:50,  7.15it/s]"
     ]
    },
    {
     "name": "stdout",
     "output_type": "stream",
     "text": [
      "[(nan, None, [0.0, 0.0, 0.0, 0.001]),\n",
      " (nan, None, [0.0, 0.0, 0.01, 0.0]),\n",
      " (nan, None, [0.01, 0.0, 0.01, 0.001]),\n",
      " (nan, None, [0.0, 0.001, 0.01, 0.001])]\n",
      "No wall nearby.\n",
      "[(nan, None, [0.0, 0.0, 0.0, 0.001]),\n",
      " (nan, None, [0.0, 0.0, 0.01, 0.0]),\n",
      " (nan, None, [0.01, 0.0, 0.01, 0.001]),\n",
      " (nan, None, [0.0, 0.001, 0.01, 0.001])]\n",
      "No wall nearby.\n"
     ]
    },
    {
     "name": "stderr",
     "output_type": "stream",
     "text": [
      " 31%|███       | 928/3000 [02:10<04:37,  7.46it/s]"
     ]
    },
    {
     "name": "stdout",
     "output_type": "stream",
     "text": [
      "[(nan, None, [0.0, 0.0, 0.0, 0.001]),\n",
      " (nan, None, [0.0, 0.0, 0.01, 0.0]),\n",
      " (nan, None, [0.01, 0.0, 0.01, 0.001]),\n",
      " (nan, None, [0.0, 0.001, 0.01, 0.001])]\n",
      "No wall nearby.\n",
      "[(nan, None, [0.0, 0.0, 0.0, 0.001]),\n",
      " (nan, None, [0.0, 0.0, 0.01, 0.0]),\n",
      " (nan, None, [0.01, 0.0, 0.01, 0.001]),\n",
      " (nan, None, [0.0, 0.001, 0.01, 0.001])]\n",
      "No wall nearby.\n"
     ]
    },
    {
     "name": "stderr",
     "output_type": "stream",
     "text": [
      " 31%|███       | 930/3000 [02:10<04:36,  7.49it/s]"
     ]
    },
    {
     "name": "stdout",
     "output_type": "stream",
     "text": [
      "[(nan, None, [0.0, 0.0, 0.0, 0.001]),\n",
      " (nan, None, [0.0, 0.0, 0.01, 0.0]),\n",
      " (nan, None, [0.01, 0.0, 0.01, 0.001]),\n",
      " (nan, None, [0.0, 0.001, 0.01, 0.001])]\n",
      "No wall nearby.\n",
      "[(nan, None, [0.0, 0.0, 0.0, 0.001]),\n",
      " (nan, None, [0.0, 0.0, 0.01, 0.0]),\n",
      " (nan, None, [0.01, 0.0, 0.01, 0.001]),\n",
      " (nan, None, [0.0, 0.001, 0.01, 0.001])]\n",
      "No wall nearby.\n"
     ]
    },
    {
     "name": "stderr",
     "output_type": "stream",
     "text": [
      " 31%|███       | 932/3000 [02:11<04:35,  7.49it/s]"
     ]
    },
    {
     "name": "stdout",
     "output_type": "stream",
     "text": [
      "[(nan, None, [0.0, 0.0, 0.0, 0.001]),\n",
      " (nan, None, [0.0, 0.0, 0.01, 0.0]),\n",
      " (nan, None, [0.01, 0.0, 0.01, 0.001]),\n",
      " (nan, None, [0.0, 0.001, 0.01, 0.001])]\n",
      "No wall nearby.\n",
      "[(nan, None, [0.0, 0.0, 0.0, 0.001]),\n",
      " (nan, None, [0.0, 0.0, 0.01, 0.0]),\n",
      " (nan, None, [0.01, 0.0, 0.01, 0.001]),\n",
      " (nan, None, [0.0, 0.001, 0.01, 0.001])]\n",
      "No wall nearby.\n"
     ]
    },
    {
     "name": "stderr",
     "output_type": "stream",
     "text": [
      " 31%|███       | 934/3000 [02:11<04:48,  7.17it/s]"
     ]
    },
    {
     "name": "stdout",
     "output_type": "stream",
     "text": [
      "[(nan, None, [0.0, 0.0, 0.0, 0.001]),\n",
      " (nan, None, [0.0, 0.0, 0.01, 0.0]),\n",
      " (nan, None, [0.01, 0.0, 0.01, 0.001]),\n",
      " (nan, None, [0.0, 0.001, 0.01, 0.001])]\n",
      "No wall nearby.\n",
      "[(nan, None, [0.0, 0.0, 0.0, 0.001]),\n",
      " (nan, None, [0.0, 0.0, 0.01, 0.0]),\n",
      " (nan, None, [0.01, 0.0, 0.01, 0.001]),\n",
      " (nan, None, [0.0, 0.001, 0.01, 0.001])]\n",
      "No wall nearby.\n"
     ]
    },
    {
     "name": "stderr",
     "output_type": "stream",
     "text": [
      " 31%|███       | 936/3000 [02:11<04:39,  7.38it/s]"
     ]
    },
    {
     "name": "stdout",
     "output_type": "stream",
     "text": [
      "[(nan, None, [0.0, 0.0, 0.0, 0.001]),\n",
      " (nan, None, [0.0, 0.0, 0.01, 0.0]),\n",
      " (nan, None, [0.01, 0.0, 0.01, 0.001]),\n",
      " (nan, None, [0.0, 0.001, 0.01, 0.001])]\n",
      "No wall nearby.\n",
      "[(nan, None, [0.0, 0.0, 0.0, 0.001]),\n",
      " (nan, None, [0.0, 0.0, 0.01, 0.0]),\n",
      " (nan, None, [0.01, 0.0, 0.01, 0.001]),\n",
      " (nan, None, [0.0, 0.001, 0.01, 0.001])]\n",
      "No wall nearby.\n"
     ]
    },
    {
     "name": "stderr",
     "output_type": "stream",
     "text": [
      " 31%|███▏      | 938/3000 [02:12<04:35,  7.48it/s]"
     ]
    },
    {
     "name": "stdout",
     "output_type": "stream",
     "text": [
      "[(nan, None, [0.0, 0.0, 0.0, 0.001]),\n",
      " (nan, None, [0.0, 0.0, 0.01, 0.0]),\n",
      " (nan, None, [0.01, 0.0, 0.01, 0.001]),\n",
      " (nan, None, [0.0, 0.001, 0.01, 0.001])]\n",
      "No wall nearby.\n",
      "[(nan, None, [0.0, 0.0, 0.0, 0.001]),\n",
      " (nan, None, [0.0, 0.0, 0.01, 0.0]),\n",
      " (nan, None, [0.01, 0.0, 0.01, 0.001]),\n",
      " (nan, None, [0.0, 0.001, 0.01, 0.001])]\n",
      "No wall nearby.\n"
     ]
    },
    {
     "name": "stderr",
     "output_type": "stream",
     "text": [
      " 31%|███▏      | 940/3000 [02:12<04:46,  7.20it/s]"
     ]
    },
    {
     "name": "stdout",
     "output_type": "stream",
     "text": [
      "[(nan, None, [0.0, 0.0, 0.0, 0.001]),\n",
      " (nan, None, [0.0, 0.0, 0.01, 0.0]),\n",
      " (nan, None, [0.01, 0.0, 0.01, 0.001]),\n",
      " (nan, None, [0.0, 0.001, 0.01, 0.001])]\n",
      "No wall nearby.\n",
      "[(nan, None, [0.0, 0.0, 0.0, 0.001]),\n",
      " (nan, None, [0.0, 0.0, 0.01, 0.0]),\n",
      " (nan, None, [0.01, 0.0, 0.01, 0.001]),\n",
      " (nan, None, [0.0, 0.001, 0.01, 0.001])]\n",
      "No wall nearby.\n"
     ]
    },
    {
     "name": "stderr",
     "output_type": "stream",
     "text": [
      " 31%|███▏      | 942/3000 [02:12<04:36,  7.45it/s]"
     ]
    },
    {
     "name": "stdout",
     "output_type": "stream",
     "text": [
      "[(nan, None, [0.0, 0.0, 0.0, 0.001]),\n",
      " (nan, None, [0.0, 0.0, 0.01, 0.0]),\n",
      " (nan, None, [0.01, 0.0, 0.01, 0.001]),\n",
      " (nan, None, [0.0, 0.001, 0.01, 0.001])]\n",
      "No wall nearby.\n",
      "[(nan, None, [0.0, 0.0, 0.0, 0.001]),\n",
      " (nan, None, [0.0, 0.0, 0.01, 0.0]),\n",
      " (nan, None, [0.01, 0.0, 0.01, 0.001]),\n",
      " (nan, None, [0.0, 0.001, 0.01, 0.001])]\n",
      "No wall nearby.\n"
     ]
    },
    {
     "name": "stderr",
     "output_type": "stream",
     "text": [
      " 31%|███▏      | 944/3000 [02:12<04:33,  7.51it/s]"
     ]
    },
    {
     "name": "stdout",
     "output_type": "stream",
     "text": [
      "[(nan, None, [0.0, 0.0, 0.0, 0.001]),\n",
      " (nan, None, [0.0, 0.0, 0.01, 0.0]),\n",
      " (nan, None, [0.01, 0.0, 0.01, 0.001]),\n",
      " (nan, None, [0.0, 0.001, 0.01, 0.001])]\n",
      "No wall nearby.\n",
      "[(nan, None, [0.0, 0.0, 0.0, 0.001]),\n",
      " (nan, None, [0.0, 0.0, 0.01, 0.0]),\n",
      " (nan, None, [0.01, 0.0, 0.01, 0.001]),\n",
      " (nan, None, [0.0, 0.001, 0.01, 0.001])]\n",
      "No wall nearby.\n"
     ]
    },
    {
     "name": "stderr",
     "output_type": "stream",
     "text": [
      " 32%|███▏      | 946/3000 [02:13<04:50,  7.07it/s]"
     ]
    },
    {
     "name": "stdout",
     "output_type": "stream",
     "text": [
      "[(nan, None, [0.0, 0.0, 0.0, 0.001]),\n",
      " (nan, None, [0.0, 0.0, 0.01, 0.0]),\n",
      " (nan, None, [0.01, 0.0, 0.01, 0.001]),\n",
      " (nan, None, [0.0, 0.001, 0.01, 0.001])]\n",
      "No wall nearby.\n",
      "[(nan, None, [0.0, 0.0, 0.0, 0.001]),\n",
      " (nan, None, [0.0, 0.0, 0.01, 0.0]),\n",
      " (nan, None, [0.01, 0.0, 0.01, 0.001]),\n",
      " (nan, None, [0.0, 0.001, 0.01, 0.001])]\n",
      "No wall nearby.\n"
     ]
    },
    {
     "name": "stderr",
     "output_type": "stream",
     "text": [
      " 32%|███▏      | 948/3000 [02:13<04:40,  7.32it/s]"
     ]
    },
    {
     "name": "stdout",
     "output_type": "stream",
     "text": [
      "[(nan, None, [0.0, 0.0, 0.0, 0.001]),\n",
      " (nan, None, [0.0, 0.0, 0.01, 0.0]),\n",
      " (nan, None, [0.01, 0.0, 0.01, 0.001]),\n",
      " (nan, None, [0.0, 0.001, 0.01, 0.001])]\n",
      "No wall nearby.\n",
      "[(nan, None, [0.0, 0.0, 0.0, 0.001]),\n",
      " (nan, None, [0.0, 0.0, 0.01, 0.0]),\n",
      " (nan, None, [0.01, 0.0, 0.01, 0.001]),\n",
      " (nan, None, [0.0, 0.001, 0.01, 0.001])]\n",
      "No wall nearby.\n"
     ]
    },
    {
     "name": "stderr",
     "output_type": "stream",
     "text": [
      " 32%|███▏      | 950/3000 [02:13<04:36,  7.42it/s]"
     ]
    },
    {
     "name": "stdout",
     "output_type": "stream",
     "text": [
      "[(nan, None, [0.0, 0.0, 0.0, 0.001]),\n",
      " (nan, None, [0.0, 0.0, 0.01, 0.0]),\n",
      " (nan, None, [0.01, 0.0, 0.01, 0.001]),\n",
      " (nan, None, [0.0, 0.001, 0.01, 0.001])]\n",
      "No wall nearby.\n",
      "[(nan, None, [0.0, 0.0, 0.0, 0.001]),\n",
      " (nan, None, [0.0, 0.0, 0.01, 0.0]),\n",
      " (nan, None, [0.01, 0.0, 0.01, 0.001]),\n",
      " (nan, None, [0.0, 0.001, 0.01, 0.001])]\n",
      "No wall nearby.\n"
     ]
    },
    {
     "name": "stderr",
     "output_type": "stream",
     "text": [
      " 32%|███▏      | 952/3000 [02:13<04:56,  6.91it/s]"
     ]
    },
    {
     "name": "stdout",
     "output_type": "stream",
     "text": [
      "[(nan, None, [0.0, 0.0, 0.0, 0.001]),\n",
      " (nan, None, [0.0, 0.0, 0.01, 0.0]),\n",
      " (nan, None, [0.01, 0.0, 0.01, 0.001]),\n",
      " (nan, None, [0.0, 0.001, 0.01, 0.001])]\n",
      "No wall nearby.\n",
      "[(nan, None, [0.0, 0.0, 0.0, 0.001]),\n",
      " (nan, None, [0.0, 0.0, 0.01, 0.0]),\n",
      " (nan, None, [0.01, 0.0, 0.01, 0.001]),\n",
      " (nan, None, [0.0, 0.001, 0.01, 0.001])]\n",
      "No wall nearby.\n"
     ]
    },
    {
     "name": "stderr",
     "output_type": "stream",
     "text": [
      " 32%|███▏      | 954/3000 [02:14<04:46,  7.14it/s]"
     ]
    },
    {
     "name": "stdout",
     "output_type": "stream",
     "text": [
      "[(nan, None, [0.0, 0.0, 0.0, 0.001]),\n",
      " (nan, None, [0.0, 0.0, 0.01, 0.0]),\n",
      " (nan, None, [0.01, 0.0, 0.01, 0.001]),\n",
      " (nan, None, [0.0, 0.001, 0.01, 0.001])]\n",
      "No wall nearby.\n",
      "[(nan, None, [0.0, 0.0, 0.0, 0.001]),\n",
      " (nan, None, [0.0, 0.0, 0.01, 0.0]),\n",
      " (nan, None, [0.01, 0.0, 0.01, 0.001]),\n",
      " (nan, None, [0.0, 0.001, 0.01, 0.001])]\n",
      "No wall nearby.\n"
     ]
    },
    {
     "name": "stderr",
     "output_type": "stream",
     "text": [
      " 32%|███▏      | 956/3000 [02:14<04:42,  7.24it/s]"
     ]
    },
    {
     "name": "stdout",
     "output_type": "stream",
     "text": [
      "[(nan, None, [0.0, 0.0, 0.0, 0.001]),\n",
      " (nan, None, [0.0, 0.0, 0.01, 0.0]),\n",
      " (nan, None, [0.01, 0.0, 0.01, 0.001]),\n",
      " (nan, None, [0.0, 0.001, 0.01, 0.001])]\n",
      "No wall nearby.\n",
      "[(nan, None, [0.0, 0.0, 0.0, 0.001]),\n",
      " (nan, None, [0.0, 0.0, 0.01, 0.0]),\n",
      " (nan, None, [0.01, 0.0, 0.01, 0.001]),\n",
      " (nan, None, [0.0, 0.001, 0.01, 0.001])]\n",
      "No wall nearby.\n"
     ]
    },
    {
     "name": "stderr",
     "output_type": "stream",
     "text": [
      " 32%|███▏      | 958/3000 [02:14<04:38,  7.33it/s]"
     ]
    },
    {
     "name": "stdout",
     "output_type": "stream",
     "text": [
      "[(nan, None, [0.0, 0.0, 0.0, 0.001]),\n",
      " (nan, None, [0.0, 0.0, 0.01, 0.0]),\n",
      " (nan, None, [0.01, 0.0, 0.01, 0.001]),\n",
      " (nan, None, [0.0, 0.001, 0.01, 0.001])]\n",
      "No wall nearby.\n",
      "[(nan, None, [0.0, 0.0, 0.0, 0.001]),\n",
      " (nan, None, [0.0, 0.0, 0.01, 0.0]),\n",
      " (nan, None, [0.01, 0.0, 0.01, 0.001]),\n",
      " (nan, None, [0.0, 0.001, 0.01, 0.001])]\n",
      "No wall nearby.\n"
     ]
    },
    {
     "name": "stderr",
     "output_type": "stream",
     "text": [
      " 32%|███▏      | 960/3000 [02:15<04:48,  7.08it/s]"
     ]
    },
    {
     "name": "stdout",
     "output_type": "stream",
     "text": [
      "[(nan, None, [0.0, 0.0, 0.0, 0.001]),\n",
      " (nan, None, [0.0, 0.0, 0.01, 0.0]),\n",
      " (nan, None, [0.01, 0.0, 0.01, 0.001]),\n",
      " (nan, None, [0.0, 0.001, 0.01, 0.001])]\n",
      "No wall nearby.\n",
      "[(nan, None, [0.0, 0.0, 0.0, 0.001]),\n",
      " (nan, None, [0.0, 0.0, 0.01, 0.0]),\n",
      " (nan, None, [0.01, 0.0, 0.01, 0.001]),\n",
      " (nan, None, [0.0, 0.001, 0.01, 0.001])]\n",
      "No wall nearby.\n"
     ]
    },
    {
     "name": "stderr",
     "output_type": "stream",
     "text": [
      " 32%|███▏      | 962/3000 [02:15<04:37,  7.35it/s]"
     ]
    },
    {
     "name": "stdout",
     "output_type": "stream",
     "text": [
      "[(nan, None, [0.0, 0.0, 0.0, 0.001]),\n",
      " (nan, None, [0.0, 0.0, 0.01, 0.0]),\n",
      " (nan, None, [0.01, 0.0, 0.01, 0.001]),\n",
      " (nan, None, [0.0, 0.001, 0.01, 0.001])]\n",
      "No wall nearby.\n",
      "[(nan, None, [0.0, 0.0, 0.0, 0.001]),\n",
      " (nan, None, [0.0, 0.0, 0.01, 0.0]),\n",
      " (nan, None, [0.01, 0.0, 0.01, 0.001]),\n",
      " (nan, None, [0.0, 0.001, 0.01, 0.001])]\n",
      "No wall nearby.\n"
     ]
    },
    {
     "name": "stderr",
     "output_type": "stream",
     "text": [
      " 32%|███▏      | 964/3000 [02:15<04:29,  7.56it/s]"
     ]
    },
    {
     "name": "stdout",
     "output_type": "stream",
     "text": [
      "[(nan, None, [0.0, 0.0, 0.0, 0.001]),\n",
      " (nan, None, [0.0, 0.0, 0.01, 0.0]),\n",
      " (nan, None, [0.01, 0.0, 0.01, 0.001]),\n",
      " (nan, None, [0.0, 0.001, 0.01, 0.001])]\n",
      "No wall nearby.\n",
      "[(nan, None, [0.0, 0.0, 0.0, 0.001]),\n",
      " (nan, None, [0.0, 0.0, 0.01, 0.0]),\n",
      " (nan, None, [0.01, 0.0, 0.01, 0.001]),\n",
      " (nan, None, [0.0, 0.001, 0.01, 0.001])]\n",
      "No wall nearby.\n"
     ]
    },
    {
     "name": "stderr",
     "output_type": "stream",
     "text": [
      " 32%|███▏      | 966/3000 [02:15<04:39,  7.28it/s]"
     ]
    },
    {
     "name": "stdout",
     "output_type": "stream",
     "text": [
      "[(nan, None, [0.0, 0.0, 0.0, 0.001]),\n",
      " (nan, None, [0.0, 0.0, 0.01, 0.0]),\n",
      " (nan, None, [0.01, 0.0, 0.01, 0.001]),\n",
      " (nan, None, [0.0, 0.001, 0.01, 0.001])]\n",
      "No wall nearby.\n",
      "[(nan, None, [0.0, 0.0, 0.0, 0.001]),\n",
      " (nan, None, [0.0, 0.0, 0.01, 0.0]),\n",
      " (nan, None, [0.01, 0.0, 0.01, 0.001]),\n",
      " (nan, None, [0.0, 0.001, 0.01, 0.001])]\n",
      "No wall nearby.\n"
     ]
    },
    {
     "name": "stderr",
     "output_type": "stream",
     "text": [
      " 32%|███▏      | 968/3000 [02:16<04:29,  7.55it/s]"
     ]
    },
    {
     "name": "stdout",
     "output_type": "stream",
     "text": [
      "[(nan, None, [0.0, 0.0, 0.0, 0.001]),\n",
      " (nan, None, [0.0, 0.0, 0.01, 0.0]),\n",
      " (nan, None, [0.01, 0.0, 0.01, 0.001]),\n",
      " (nan, None, [0.0, 0.001, 0.01, 0.001])]\n",
      "No wall nearby.\n",
      "[(nan, None, [0.0, 0.0, 0.0, 0.001]),\n",
      " (nan, None, [0.0, 0.0, 0.01, 0.0]),\n",
      " (nan, None, [0.01, 0.0, 0.01, 0.001]),\n",
      " (nan, None, [0.0, 0.001, 0.01, 0.001])]\n",
      "No wall nearby.\n"
     ]
    },
    {
     "name": "stderr",
     "output_type": "stream",
     "text": [
      " 32%|███▏      | 970/3000 [02:16<04:21,  7.77it/s]"
     ]
    },
    {
     "name": "stdout",
     "output_type": "stream",
     "text": [
      "[(nan, None, [0.0, 0.0, 0.0, 0.001]),\n",
      " (nan, None, [0.0, 0.0, 0.01, 0.0]),\n",
      " (nan, None, [0.01, 0.0, 0.01, 0.001]),\n",
      " (nan, None, [0.0, 0.001, 0.01, 0.001])]\n",
      "No wall nearby.\n",
      "[(nan, None, [0.0, 0.0, 0.0, 0.001]),\n",
      " (nan, None, [0.0, 0.0, 0.01, 0.0]),\n",
      " (nan, None, [0.01, 0.0, 0.01, 0.001]),\n",
      " (nan, None, [0.0, 0.001, 0.01, 0.001])]\n",
      "No wall nearby.\n"
     ]
    },
    {
     "name": "stderr",
     "output_type": "stream",
     "text": [
      " 32%|███▏      | 972/3000 [02:16<04:37,  7.30it/s]"
     ]
    },
    {
     "name": "stdout",
     "output_type": "stream",
     "text": [
      "[(nan, None, [0.0, 0.0, 0.0, 0.001]),\n",
      " (nan, None, [0.0, 0.0, 0.01, 0.0]),\n",
      " (nan, None, [0.01, 0.0, 0.01, 0.001]),\n",
      " (nan, None, [0.0, 0.001, 0.01, 0.001])]\n",
      "No wall nearby.\n",
      "[(nan, None, [0.0, 0.0, 0.0, 0.001]),\n",
      " (nan, None, [0.0, 0.0, 0.01, 0.0]),\n",
      " (nan, None, [0.01, 0.0, 0.01, 0.001]),\n",
      " (nan, None, [0.0, 0.001, 0.01, 0.001])]\n",
      "No wall nearby.\n"
     ]
    },
    {
     "name": "stderr",
     "output_type": "stream",
     "text": [
      " 32%|███▏      | 974/3000 [02:16<04:27,  7.57it/s]"
     ]
    },
    {
     "name": "stdout",
     "output_type": "stream",
     "text": [
      "[(nan, None, [0.0, 0.0, 0.0, 0.001]),\n",
      " (nan, None, [0.0, 0.0, 0.01, 0.0]),\n",
      " (nan, None, [0.01, 0.0, 0.01, 0.001]),\n",
      " (nan, None, [0.0, 0.001, 0.01, 0.001])]\n",
      "No wall nearby.\n",
      "[(nan, None, [0.0, 0.0, 0.0, 0.001]),\n",
      " (nan, None, [0.0, 0.0, 0.01, 0.0]),\n",
      " (nan, None, [0.01, 0.0, 0.01, 0.001]),\n",
      " (nan, None, [0.0, 0.001, 0.01, 0.001])]\n",
      "No wall nearby.\n"
     ]
    },
    {
     "name": "stderr",
     "output_type": "stream",
     "text": [
      " 33%|███▎      | 976/3000 [02:17<04:23,  7.69it/s]"
     ]
    },
    {
     "name": "stdout",
     "output_type": "stream",
     "text": [
      "[(nan, None, [0.0, 0.0, 0.0, 0.001]),\n",
      " (nan, None, [0.0, 0.0, 0.01, 0.0]),\n",
      " (nan, None, [0.01, 0.0, 0.01, 0.001]),\n",
      " (nan, None, [0.0, 0.001, 0.01, 0.001])]\n",
      "No wall nearby.\n",
      "[(nan, None, [0.0, 0.0, 0.0, 0.001]),\n",
      " (nan, None, [0.0, 0.0, 0.01, 0.0]),\n",
      " (nan, None, [0.01, 0.0, 0.01, 0.001]),\n",
      " (nan, None, [0.0, 0.001, 0.01, 0.001])]\n",
      "No wall nearby.\n"
     ]
    },
    {
     "name": "stderr",
     "output_type": "stream",
     "text": [
      " 33%|███▎      | 978/3000 [02:17<04:41,  7.18it/s]"
     ]
    },
    {
     "name": "stdout",
     "output_type": "stream",
     "text": [
      "[(nan, None, [0.0, 0.0, 0.0, 0.001]),\n",
      " (nan, None, [0.0, 0.0, 0.01, 0.0]),\n",
      " (nan, None, [0.01, 0.0, 0.01, 0.001]),\n",
      " (nan, None, [0.0, 0.001, 0.01, 0.001])]\n",
      "No wall nearby.\n",
      "[(nan, None, [0.0, 0.0, 0.0, 0.001]),\n",
      " (nan, None, [0.0, 0.0, 0.01, 0.0]),\n",
      " (nan, None, [0.01, 0.0, 0.01, 0.001]),\n",
      " (nan, None, [0.0, 0.001, 0.01, 0.001])]\n",
      "No wall nearby.\n"
     ]
    },
    {
     "name": "stderr",
     "output_type": "stream",
     "text": [
      " 33%|███▎      | 980/3000 [02:17<04:29,  7.51it/s]"
     ]
    },
    {
     "name": "stdout",
     "output_type": "stream",
     "text": [
      "[(nan, None, [0.0, 0.0, 0.0, 0.001]),\n",
      " (nan, None, [0.0, 0.0, 0.01, 0.0]),\n",
      " (nan, None, [0.01, 0.0, 0.01, 0.001]),\n",
      " (nan, None, [0.0, 0.001, 0.01, 0.001])]\n",
      "No wall nearby.\n",
      "[(nan, None, [0.0, 0.0, 0.0, 0.001]),\n",
      " (nan, None, [0.0, 0.0, 0.01, 0.0]),\n",
      " (nan, None, [0.01, 0.0, 0.01, 0.001]),\n",
      " (nan, None, [0.0, 0.001, 0.01, 0.001])]\n",
      "No wall nearby.\n"
     ]
    },
    {
     "name": "stderr",
     "output_type": "stream",
     "text": [
      " 33%|███▎      | 982/3000 [02:18<04:27,  7.56it/s]"
     ]
    },
    {
     "name": "stdout",
     "output_type": "stream",
     "text": [
      "[(nan, None, [0.0, 0.0, 0.0, 0.001]),\n",
      " (nan, None, [0.0, 0.0, 0.01, 0.0]),\n",
      " (nan, None, [0.01, 0.0, 0.01, 0.001]),\n",
      " (nan, None, [0.0, 0.001, 0.01, 0.001])]\n",
      "No wall nearby.\n",
      "[(nan, None, [0.0, 0.0, 0.0, 0.001]),\n",
      " (nan, None, [0.0, 0.0, 0.01, 0.0]),\n",
      " (nan, None, [0.01, 0.0, 0.01, 0.001]),\n",
      " (nan, None, [0.0, 0.001, 0.01, 0.001])]\n",
      "No wall nearby.\n"
     ]
    },
    {
     "name": "stderr",
     "output_type": "stream",
     "text": [
      " 33%|███▎      | 984/3000 [02:18<04:22,  7.67it/s]"
     ]
    },
    {
     "name": "stdout",
     "output_type": "stream",
     "text": [
      "[(nan, None, [0.0, 0.0, 0.0, 0.001]),\n",
      " (nan, None, [0.0, 0.0, 0.01, 0.0]),\n",
      " (nan, None, [0.01, 0.0, 0.01, 0.001]),\n",
      " (nan, None, [0.0, 0.001, 0.01, 0.001])]\n",
      "No wall nearby.\n",
      "[(nan, None, [0.0, 0.0, 0.0, 0.001]),\n",
      " (nan, None, [0.0, 0.0, 0.01, 0.0]),\n",
      " (nan, None, [0.01, 0.0, 0.01, 0.001]),\n",
      " (nan, None, [0.0, 0.001, 0.01, 0.001])]\n",
      "No wall nearby.\n"
     ]
    },
    {
     "name": "stderr",
     "output_type": "stream",
     "text": [
      " 33%|███▎      | 986/3000 [02:18<04:35,  7.30it/s]"
     ]
    },
    {
     "name": "stdout",
     "output_type": "stream",
     "text": [
      "[(nan, None, [0.0, 0.0, 0.0, 0.001]),\n",
      " (nan, None, [0.0, 0.0, 0.01, 0.0]),\n",
      " (nan, None, [0.01, 0.0, 0.01, 0.001]),\n",
      " (nan, None, [0.0, 0.001, 0.01, 0.001])]\n",
      "No wall nearby.\n",
      "[(nan, None, [0.0, 0.0, 0.0, 0.001]),\n",
      " (nan, None, [0.0, 0.0, 0.01, 0.0]),\n",
      " (nan, None, [0.01, 0.0, 0.01, 0.001]),\n",
      " (nan, None, [0.0, 0.001, 0.01, 0.001])]\n",
      "No wall nearby.\n"
     ]
    },
    {
     "name": "stderr",
     "output_type": "stream",
     "text": [
      " 33%|███▎      | 988/3000 [02:18<04:32,  7.38it/s]"
     ]
    },
    {
     "name": "stdout",
     "output_type": "stream",
     "text": [
      "[(nan, None, [0.0, 0.0, 0.0, 0.001]),\n",
      " (nan, None, [0.0, 0.0, 0.01, 0.0]),\n",
      " (nan, None, [0.01, 0.0, 0.01, 0.001]),\n",
      " (nan, None, [0.0, 0.001, 0.01, 0.001])]\n",
      "No wall nearby.\n",
      "[(nan, None, [0.0, 0.0, 0.0, 0.001]),\n",
      " (nan, None, [0.0, 0.0, 0.01, 0.0]),\n",
      " (nan, None, [0.01, 0.0, 0.01, 0.001]),\n",
      " (nan, None, [0.0, 0.001, 0.01, 0.001])]\n",
      "No wall nearby.\n"
     ]
    },
    {
     "name": "stderr",
     "output_type": "stream",
     "text": [
      " 33%|███▎      | 990/3000 [02:19<04:31,  7.41it/s]"
     ]
    },
    {
     "name": "stdout",
     "output_type": "stream",
     "text": [
      "[(nan, None, [0.0, 0.0, 0.0, 0.001]),\n",
      " (nan, None, [0.0, 0.0, 0.01, 0.0]),\n",
      " (nan, None, [0.01, 0.0, 0.01, 0.001]),\n",
      " (nan, None, [0.0, 0.001, 0.01, 0.001])]\n",
      "No wall nearby.\n",
      "[(nan, None, [0.0, 0.0, 0.0, 0.001]),\n",
      " (nan, None, [0.0, 0.0, 0.01, 0.0]),\n",
      " (nan, None, [0.01, 0.0, 0.01, 0.001]),\n",
      " (nan, None, [0.0, 0.001, 0.01, 0.001])]\n",
      "No wall nearby.\n"
     ]
    },
    {
     "name": "stderr",
     "output_type": "stream",
     "text": [
      " 33%|███▎      | 992/3000 [02:19<04:46,  7.01it/s]"
     ]
    },
    {
     "name": "stdout",
     "output_type": "stream",
     "text": [
      "[(nan, None, [0.0, 0.0, 0.0, 0.001]),\n",
      " (nan, None, [0.0, 0.0, 0.01, 0.0]),\n",
      " (nan, None, [0.01, 0.0, 0.01, 0.001]),\n",
      " (nan, None, [0.0, 0.001, 0.01, 0.001])]\n",
      "No wall nearby.\n",
      "[(nan, None, [0.0, 0.0, 0.0, 0.001]),\n",
      " (nan, None, [0.0, 0.0, 0.01, 0.0]),\n",
      " (nan, None, [0.01, 0.0, 0.01, 0.001]),\n",
      " (nan, None, [0.0, 0.001, 0.01, 0.001])]\n",
      "No wall nearby.\n"
     ]
    },
    {
     "name": "stderr",
     "output_type": "stream",
     "text": [
      " 33%|███▎      | 994/3000 [02:19<04:45,  7.02it/s]"
     ]
    },
    {
     "name": "stdout",
     "output_type": "stream",
     "text": [
      "[(nan, None, [0.0, 0.0, 0.0, 0.001]),\n",
      " (nan, None, [0.0, 0.0, 0.01, 0.0]),\n",
      " (nan, None, [0.01, 0.0, 0.01, 0.001]),\n",
      " (nan, None, [0.0, 0.001, 0.01, 0.001])]\n",
      "No wall nearby.\n",
      "[(nan, None, [0.0, 0.0, 0.0, 0.001]),\n",
      " (nan, None, [0.0, 0.0, 0.01, 0.0]),\n",
      " (nan, None, [0.01, 0.0, 0.01, 0.001]),\n",
      " (nan, None, [0.0, 0.001, 0.01, 0.001])]\n",
      "No wall nearby.\n"
     ]
    },
    {
     "name": "stderr",
     "output_type": "stream",
     "text": [
      " 33%|███▎      | 996/3000 [02:19<04:52,  6.85it/s]"
     ]
    },
    {
     "name": "stdout",
     "output_type": "stream",
     "text": [
      "[(nan, None, [0.0, 0.0, 0.0, 0.001]),\n",
      " (nan, None, [0.0, 0.0, 0.01, 0.0]),\n",
      " (nan, None, [0.01, 0.0, 0.01, 0.001]),\n",
      " (nan, None, [0.0, 0.001, 0.01, 0.001])]\n",
      "No wall nearby.\n",
      "[(nan, None, [0.0, 0.0, 0.0, 0.001]),\n",
      " (nan, None, [0.0, 0.0, 0.01, 0.0]),\n",
      " (nan, None, [0.01, 0.0, 0.01, 0.001]),\n",
      " (nan, None, [0.0, 0.001, 0.01, 0.001])]\n",
      "No wall nearby.\n"
     ]
    },
    {
     "name": "stderr",
     "output_type": "stream",
     "text": [
      " 33%|███▎      | 998/3000 [02:20<05:12,  6.41it/s]"
     ]
    },
    {
     "name": "stdout",
     "output_type": "stream",
     "text": [
      "[(nan, None, [0.0, 0.0, 0.0, 0.001]),\n",
      " (nan, None, [0.0, 0.0, 0.01, 0.0]),\n",
      " (nan, None, [0.01, 0.0, 0.01, 0.001]),\n",
      " (nan, None, [0.0, 0.001, 0.01, 0.001])]\n",
      "No wall nearby.\n",
      "[(nan, None, [0.0, 0.0, 0.0, 0.001]),\n",
      " (nan, None, [0.0, 0.0, 0.01, 0.0]),\n",
      " (nan, None, [0.01, 0.0, 0.01, 0.001]),\n",
      " (nan, None, [0.0, 0.001, 0.01, 0.001])]\n",
      "No wall nearby.\n"
     ]
    },
    {
     "name": "stderr",
     "output_type": "stream",
     "text": [
      " 33%|███▎      | 1000/3000 [02:20<05:01,  6.63it/s]"
     ]
    },
    {
     "name": "stdout",
     "output_type": "stream",
     "text": [
      "[(nan, None, [0.0, 0.0, 0.0, 0.001]),\n",
      " (nan, None, [0.0, 0.0, 0.01, 0.0]),\n",
      " (nan, None, [0.01, 0.0, 0.01, 0.001]),\n",
      " (nan, None, [0.0, 0.001, 0.01, 0.001])]\n",
      "No wall nearby.\n",
      "[(nan, None, [0.0, 0.0, 0.0, 0.001]),\n",
      " (nan, None, [0.0, 0.0, 0.01, 0.0]),\n",
      " (nan, None, [0.01, 0.0, 0.01, 0.001]),\n",
      " (nan, None, [0.0, 0.001, 0.01, 0.001])]\n",
      "No wall nearby.\n"
     ]
    },
    {
     "name": "stderr",
     "output_type": "stream",
     "text": [
      " 33%|███▎      | 1002/3000 [02:20<04:59,  6.67it/s]"
     ]
    },
    {
     "name": "stdout",
     "output_type": "stream",
     "text": [
      "[(nan, None, [0.0, 0.0, 0.0, 0.001]),\n",
      " (nan, None, [0.0, 0.0, 0.01, 0.0]),\n",
      " (nan, None, [0.01, 0.0, 0.01, 0.001]),\n",
      " (nan, None, [0.0, 0.001, 0.01, 0.001])]\n",
      "No wall nearby.\n",
      "[(nan, None, [0.0, 0.0, 0.0, 0.001]),\n",
      " (nan, None, [0.0, 0.0, 0.01, 0.0]),\n",
      " (nan, None, [0.01, 0.0, 0.01, 0.001]),\n",
      " (nan, None, [0.0, 0.001, 0.01, 0.001])]\n",
      "No wall nearby.\n"
     ]
    },
    {
     "name": "stderr",
     "output_type": "stream",
     "text": [
      " 33%|███▎      | 1004/3000 [02:21<05:14,  6.35it/s]"
     ]
    },
    {
     "name": "stdout",
     "output_type": "stream",
     "text": [
      "[(nan, None, [0.0, 0.0, 0.0, 0.001]),\n",
      " (nan, None, [0.0, 0.0, 0.01, 0.0]),\n",
      " (nan, None, [0.01, 0.0, 0.01, 0.001]),\n",
      " (nan, None, [0.0, 0.001, 0.01, 0.001])]\n",
      "No wall nearby.\n",
      "[(nan, None, [0.0, 0.0, 0.0, 0.001]),\n",
      " (nan, None, [0.0, 0.0, 0.01, 0.0]),\n",
      " (nan, None, [0.01, 0.0, 0.01, 0.001]),\n",
      " (nan, None, [0.0, 0.001, 0.01, 0.001])]\n",
      "No wall nearby.\n"
     ]
    },
    {
     "name": "stderr",
     "output_type": "stream",
     "text": [
      " 34%|███▎      | 1006/3000 [02:21<04:59,  6.65it/s]"
     ]
    },
    {
     "name": "stdout",
     "output_type": "stream",
     "text": [
      "[(nan, None, [0.0, 0.0, 0.0, 0.001]),\n",
      " (nan, None, [0.0, 0.0, 0.01, 0.0]),\n",
      " (nan, None, [0.01, 0.0, 0.01, 0.001]),\n",
      " (nan, None, [0.0, 0.001, 0.01, 0.001])]\n",
      "No wall nearby.\n",
      "[(nan, None, [0.0, 0.0, 0.0, 0.001]),\n",
      " (nan, None, [0.0, 0.0, 0.01, 0.0]),\n",
      " (nan, None, [0.01, 0.0, 0.01, 0.001]),\n",
      " (nan, None, [0.0, 0.001, 0.01, 0.001])]\n",
      "No wall nearby.\n"
     ]
    },
    {
     "name": "stderr",
     "output_type": "stream",
     "text": [
      " 34%|███▎      | 1008/3000 [02:21<04:49,  6.88it/s]"
     ]
    },
    {
     "name": "stdout",
     "output_type": "stream",
     "text": [
      "[(nan, None, [0.0, 0.0, 0.0, 0.001]),\n",
      " (nan, None, [0.0, 0.0, 0.01, 0.0]),\n",
      " (nan, None, [0.01, 0.0, 0.01, 0.001]),\n",
      " (nan, None, [0.0, 0.001, 0.01, 0.001])]\n",
      "No wall nearby.\n",
      "[(nan, None, [0.0, 0.0, 0.0, 0.001]),\n",
      " (nan, None, [0.0, 0.0, 0.01, 0.0]),\n",
      " (nan, None, [0.01, 0.0, 0.01, 0.001]),\n",
      " (nan, None, [0.0, 0.001, 0.01, 0.001])]\n",
      "No wall nearby.\n"
     ]
    },
    {
     "name": "stderr",
     "output_type": "stream",
     "text": [
      " 34%|███▎      | 1010/3000 [02:22<05:05,  6.51it/s]"
     ]
    },
    {
     "name": "stdout",
     "output_type": "stream",
     "text": [
      "[(nan, None, [0.0, 0.0, 0.0, 0.001]),\n",
      " (nan, None, [0.0, 0.0, 0.01, 0.0]),\n",
      " (nan, None, [0.01, 0.0, 0.01, 0.001]),\n",
      " (nan, None, [0.0, 0.001, 0.01, 0.001])]\n",
      "No wall nearby.\n",
      "[(nan, None, [0.0, 0.0, 0.0, 0.001]),\n",
      " (nan, None, [0.0, 0.0, 0.01, 0.0]),\n",
      " (nan, None, [0.01, 0.0, 0.01, 0.001]),\n",
      " (nan, None, [0.0, 0.001, 0.01, 0.001])]\n",
      "No wall nearby.\n"
     ]
    },
    {
     "name": "stderr",
     "output_type": "stream",
     "text": [
      " 34%|███▎      | 1012/3000 [02:22<04:50,  6.85it/s]"
     ]
    },
    {
     "name": "stdout",
     "output_type": "stream",
     "text": [
      "[(nan, None, [0.0, 0.0, 0.0, 0.001]),\n",
      " (nan, None, [0.0, 0.0, 0.01, 0.0]),\n",
      " (nan, None, [0.01, 0.0, 0.01, 0.001]),\n",
      " (nan, None, [0.0, 0.001, 0.01, 0.001])]\n",
      "No wall nearby.\n",
      "[(nan, None, [0.0, 0.0, 0.0, 0.001]),\n",
      " (nan, None, [0.0, 0.0, 0.01, 0.0]),\n",
      " (nan, None, [0.01, 0.0, 0.01, 0.001]),\n",
      " (nan, None, [0.0, 0.001, 0.01, 0.001])]\n",
      "No wall nearby.\n"
     ]
    },
    {
     "name": "stderr",
     "output_type": "stream",
     "text": [
      " 34%|███▍      | 1014/3000 [02:22<04:38,  7.12it/s]"
     ]
    },
    {
     "name": "stdout",
     "output_type": "stream",
     "text": [
      "[(nan, None, [0.0, 0.0, 0.0, 0.001]),\n",
      " (nan, None, [0.0, 0.0, 0.01, 0.0]),\n",
      " (nan, None, [0.01, 0.0, 0.01, 0.001]),\n",
      " (nan, None, [0.0, 0.001, 0.01, 0.001])]\n",
      "No wall nearby.\n",
      "[(nan, None, [0.0, 0.0, 0.0, 0.001]),\n",
      " (nan, None, [0.0, 0.0, 0.01, 0.0]),\n",
      " (nan, None, [0.01, 0.0, 0.01, 0.001]),\n",
      " (nan, None, [0.0, 0.001, 0.01, 0.001])]\n",
      "No wall nearby.\n"
     ]
    },
    {
     "name": "stderr",
     "output_type": "stream",
     "text": [
      " 34%|███▍      | 1016/3000 [02:22<04:33,  7.25it/s]"
     ]
    },
    {
     "name": "stdout",
     "output_type": "stream",
     "text": [
      "[(nan, None, [0.0, 0.0, 0.0, 0.001]),\n",
      " (nan, None, [0.0, 0.0, 0.01, 0.0]),\n",
      " (nan, None, [0.01, 0.0, 0.01, 0.001]),\n",
      " (nan, None, [0.0, 0.001, 0.01, 0.001])]\n",
      "No wall nearby.\n",
      "[(nan, None, [0.0, 0.0, 0.0, 0.001]),\n",
      " (nan, None, [0.0, 0.0, 0.01, 0.0]),\n",
      " (nan, None, [0.01, 0.0, 0.01, 0.001]),\n",
      " (nan, None, [0.0, 0.001, 0.01, 0.001])]\n",
      "No wall nearby.\n"
     ]
    },
    {
     "name": "stderr",
     "output_type": "stream",
     "text": [
      " 34%|███▍      | 1018/3000 [02:23<04:43,  6.99it/s]"
     ]
    },
    {
     "name": "stdout",
     "output_type": "stream",
     "text": [
      "[(nan, None, [0.0, 0.0, 0.0, 0.001]),\n",
      " (nan, None, [0.0, 0.0, 0.01, 0.0]),\n",
      " (nan, None, [0.01, 0.0, 0.01, 0.001]),\n",
      " (nan, None, [0.0, 0.001, 0.01, 0.001])]\n",
      "No wall nearby.\n",
      "[(nan, None, [0.0, 0.0, 0.0, 0.001]),\n",
      " (nan, None, [0.0, 0.0, 0.01, 0.0]),\n",
      " (nan, None, [0.01, 0.0, 0.01, 0.001]),\n",
      " (nan, None, [0.0, 0.001, 0.01, 0.001])]\n",
      "No wall nearby.\n"
     ]
    },
    {
     "name": "stderr",
     "output_type": "stream",
     "text": [
      " 34%|███▍      | 1020/3000 [02:23<04:37,  7.14it/s]"
     ]
    },
    {
     "name": "stdout",
     "output_type": "stream",
     "text": [
      "[(nan, None, [0.0, 0.0, 0.0, 0.001]),\n",
      " (nan, None, [0.0, 0.0, 0.01, 0.0]),\n",
      " (nan, None, [0.01, 0.0, 0.01, 0.001]),\n",
      " (nan, None, [0.0, 0.001, 0.01, 0.001])]\n",
      "No wall nearby.\n",
      "[(nan, None, [0.0, 0.0, 0.0, 0.001]),\n",
      " (nan, None, [0.0, 0.0, 0.01, 0.0]),\n",
      " (nan, None, [0.01, 0.0, 0.01, 0.001]),\n",
      " (nan, None, [0.0, 0.001, 0.01, 0.001])]\n",
      "No wall nearby.\n"
     ]
    },
    {
     "name": "stderr",
     "output_type": "stream",
     "text": [
      " 34%|███▍      | 1022/3000 [02:23<04:34,  7.20it/s]"
     ]
    },
    {
     "name": "stdout",
     "output_type": "stream",
     "text": [
      "[(nan, None, [0.0, 0.0, 0.0, 0.001]),\n",
      " (nan, None, [0.0, 0.0, 0.01, 0.0]),\n",
      " (nan, None, [0.01, 0.0, 0.01, 0.001]),\n",
      " (nan, None, [0.0, 0.001, 0.01, 0.001])]\n",
      "No wall nearby.\n",
      "[(nan, None, [0.0, 0.0, 0.0, 0.001]),\n",
      " (nan, None, [0.0, 0.0, 0.01, 0.0]),\n",
      " (nan, None, [0.01, 0.0, 0.01, 0.001]),\n",
      " (nan, None, [0.0, 0.001, 0.01, 0.001])]\n",
      "No wall nearby.\n"
     ]
    },
    {
     "name": "stderr",
     "output_type": "stream",
     "text": [
      " 34%|███▍      | 1024/3000 [02:24<04:55,  6.68it/s]"
     ]
    },
    {
     "name": "stdout",
     "output_type": "stream",
     "text": [
      "[(nan, None, [0.0, 0.0, 0.0, 0.001]),\n",
      " (nan, None, [0.0, 0.0, 0.01, 0.0]),\n",
      " (nan, None, [0.01, 0.0, 0.01, 0.001]),\n",
      " (nan, None, [0.0, 0.001, 0.01, 0.001])]\n",
      "No wall nearby.\n",
      "[(nan, None, [0.0, 0.0, 0.0, 0.001]),\n",
      " (nan, None, [0.0, 0.0, 0.01, 0.0]),\n",
      " (nan, None, [0.01, 0.0, 0.01, 0.001]),\n",
      " (nan, None, [0.0, 0.001, 0.01, 0.001])]\n",
      "No wall nearby.\n"
     ]
    },
    {
     "name": "stderr",
     "output_type": "stream",
     "text": [
      " 34%|███▍      | 1026/3000 [02:24<04:51,  6.77it/s]"
     ]
    },
    {
     "name": "stdout",
     "output_type": "stream",
     "text": [
      "[(nan, None, [0.0, 0.0, 0.0, 0.001]),\n",
      " (nan, None, [0.0, 0.0, 0.01, 0.0]),\n",
      " (nan, None, [0.01, 0.0, 0.01, 0.001]),\n",
      " (nan, None, [0.0, 0.001, 0.01, 0.001])]\n",
      "No wall nearby.\n",
      "[(nan, None, [0.0, 0.0, 0.0, 0.001]),\n",
      " (nan, None, [0.0, 0.0, 0.01, 0.0]),\n",
      " (nan, None, [0.01, 0.0, 0.01, 0.001]),\n",
      " (nan, None, [0.0, 0.001, 0.01, 0.001])]\n",
      "No wall nearby.\n"
     ]
    },
    {
     "name": "stderr",
     "output_type": "stream",
     "text": [
      " 34%|███▍      | 1028/3000 [02:24<04:40,  7.02it/s]"
     ]
    },
    {
     "name": "stdout",
     "output_type": "stream",
     "text": [
      "[(nan, None, [0.0, 0.0, 0.0, 0.001]),\n",
      " (nan, None, [0.0, 0.0, 0.01, 0.0]),\n",
      " (nan, None, [0.01, 0.0, 0.01, 0.001]),\n",
      " (nan, None, [0.0, 0.001, 0.01, 0.001])]\n",
      "No wall nearby.\n",
      "[(nan, None, [0.0, 0.0, 0.0, 0.001]),\n",
      " (nan, None, [0.0, 0.0, 0.01, 0.0]),\n",
      " (nan, None, [0.01, 0.0, 0.01, 0.001]),\n",
      " (nan, None, [0.0, 0.001, 0.01, 0.001])]\n",
      "No wall nearby.\n"
     ]
    },
    {
     "name": "stderr",
     "output_type": "stream",
     "text": [
      " 34%|███▍      | 1030/3000 [02:24<05:04,  6.46it/s]"
     ]
    },
    {
     "name": "stdout",
     "output_type": "stream",
     "text": [
      "[(nan, None, [0.0, 0.0, 0.0, 0.001]),\n",
      " (nan, None, [0.0, 0.0, 0.01, 0.0]),\n",
      " (nan, None, [0.01, 0.0, 0.01, 0.001]),\n",
      " (nan, None, [0.0, 0.001, 0.01, 0.001])]\n",
      "No wall nearby.\n",
      "[(nan, None, [0.0, 0.0, 0.0, 0.001]),\n",
      " (nan, None, [0.0, 0.0, 0.01, 0.0]),\n",
      " (nan, None, [0.01, 0.0, 0.01, 0.001]),\n",
      " (nan, None, [0.0, 0.001, 0.01, 0.001])]\n",
      "No wall nearby.\n"
     ]
    },
    {
     "name": "stderr",
     "output_type": "stream",
     "text": [
      " 34%|███▍      | 1032/3000 [02:25<04:43,  6.94it/s]"
     ]
    },
    {
     "name": "stdout",
     "output_type": "stream",
     "text": [
      "[(nan, None, [0.0, 0.0, 0.0, 0.001]),\n",
      " (nan, None, [0.0, 0.0, 0.01, 0.0]),\n",
      " (nan, None, [0.01, 0.0, 0.01, 0.001]),\n",
      " (nan, None, [0.0, 0.001, 0.01, 0.001])]\n",
      "No wall nearby.\n",
      "[(nan, None, [0.0, 0.0, 0.0, 0.001]),\n",
      " (nan, None, [0.0, 0.0, 0.01, 0.0]),\n",
      " (nan, None, [0.01, 0.0, 0.01, 0.001]),\n",
      " (nan, None, [0.0, 0.001, 0.01, 0.001])]\n",
      "No wall nearby.\n"
     ]
    },
    {
     "name": "stderr",
     "output_type": "stream",
     "text": [
      " 34%|███▍      | 1034/3000 [02:25<04:31,  7.24it/s]"
     ]
    },
    {
     "name": "stdout",
     "output_type": "stream",
     "text": [
      "[(nan, None, [0.0, 0.0, 0.0, 0.001]),\n",
      " (nan, None, [0.0, 0.0, 0.01, 0.0]),\n",
      " (nan, None, [0.01, 0.0, 0.01, 0.001]),\n",
      " (nan, None, [0.0, 0.001, 0.01, 0.001])]\n",
      "No wall nearby.\n",
      "[(nan, None, [0.0, 0.0, 0.0, 0.001]),\n",
      " (nan, None, [0.0, 0.0, 0.01, 0.0]),\n",
      " (nan, None, [0.01, 0.0, 0.01, 0.001]),\n",
      " (nan, None, [0.0, 0.001, 0.01, 0.001])]\n",
      "No wall nearby.\n"
     ]
    },
    {
     "name": "stderr",
     "output_type": "stream",
     "text": [
      " 35%|███▍      | 1036/3000 [02:25<04:21,  7.50it/s]"
     ]
    },
    {
     "name": "stdout",
     "output_type": "stream",
     "text": [
      "[(nan, None, [0.0, 0.0, 0.0, 0.001]),\n",
      " (nan, None, [0.0, 0.0, 0.01, 0.0]),\n",
      " (nan, None, [0.01, 0.0, 0.01, 0.001]),\n",
      " (nan, None, [0.0, 0.001, 0.01, 0.001])]\n",
      "No wall nearby.\n",
      "[(nan, None, [0.0, 0.0, 0.0, 0.001]),\n",
      " (nan, None, [0.0, 0.0, 0.01, 0.0]),\n",
      " (nan, None, [0.01, 0.0, 0.01, 0.001]),\n",
      " (nan, None, [0.0, 0.001, 0.01, 0.001])]\n",
      "No wall nearby.\n"
     ]
    },
    {
     "name": "stderr",
     "output_type": "stream",
     "text": [
      " 35%|███▍      | 1038/3000 [02:26<04:32,  7.21it/s]"
     ]
    },
    {
     "name": "stdout",
     "output_type": "stream",
     "text": [
      "[(nan, None, [0.0, 0.0, 0.0, 0.001]),\n",
      " (nan, None, [0.0, 0.0, 0.01, 0.0]),\n",
      " (nan, None, [0.01, 0.0, 0.01, 0.001]),\n",
      " (nan, None, [0.0, 0.001, 0.01, 0.001])]\n",
      "No wall nearby.\n",
      "[(nan, None, [0.0, 0.0, 0.0, 0.001]),\n",
      " (nan, None, [0.0, 0.0, 0.01, 0.0]),\n",
      " (nan, None, [0.01, 0.0, 0.01, 0.001]),\n",
      " (nan, None, [0.0, 0.001, 0.01, 0.001])]\n",
      "No wall nearby.\n"
     ]
    },
    {
     "name": "stderr",
     "output_type": "stream",
     "text": [
      " 35%|███▍      | 1040/3000 [02:26<04:25,  7.39it/s]"
     ]
    },
    {
     "name": "stdout",
     "output_type": "stream",
     "text": [
      "[(nan, None, [0.0, 0.0, 0.0, 0.001]),\n",
      " (nan, None, [0.0, 0.0, 0.01, 0.0]),\n",
      " (nan, None, [0.01, 0.0, 0.01, 0.001]),\n",
      " (nan, None, [0.0, 0.001, 0.01, 0.001])]\n",
      "No wall nearby.\n",
      "[(nan, None, [0.0, 0.0, 0.0, 0.001]),\n",
      " (nan, None, [0.0, 0.0, 0.01, 0.0]),\n",
      " (nan, None, [0.01, 0.0, 0.01, 0.001]),\n",
      " (nan, None, [0.0, 0.001, 0.01, 0.001])]\n",
      "No wall nearby.\n"
     ]
    },
    {
     "name": "stderr",
     "output_type": "stream",
     "text": [
      " 35%|███▍      | 1042/3000 [02:26<04:27,  7.32it/s]"
     ]
    },
    {
     "name": "stdout",
     "output_type": "stream",
     "text": [
      "[(nan, None, [0.0, 0.0, 0.0, 0.001]),\n",
      " (nan, None, [0.0, 0.0, 0.01, 0.0]),\n",
      " (nan, None, [0.01, 0.0, 0.01, 0.001]),\n",
      " (nan, None, [0.0, 0.001, 0.01, 0.001])]\n",
      "No wall nearby.\n",
      "[(nan, None, [0.0, 0.0, 0.0, 0.001]),\n",
      " (nan, None, [0.0, 0.0, 0.01, 0.0]),\n",
      " (nan, None, [0.01, 0.0, 0.01, 0.001]),\n",
      " (nan, None, [0.0, 0.001, 0.01, 0.001])]\n",
      "No wall nearby.\n"
     ]
    },
    {
     "name": "stderr",
     "output_type": "stream",
     "text": [
      " 35%|███▍      | 1044/3000 [02:26<05:08,  6.35it/s]"
     ]
    },
    {
     "name": "stdout",
     "output_type": "stream",
     "text": [
      "[(nan, None, [0.0, 0.0, 0.0, 0.001]),\n",
      " (nan, None, [0.0, 0.0, 0.01, 0.0]),\n",
      " (nan, None, [0.01, 0.0, 0.01, 0.001]),\n",
      " (nan, None, [0.0, 0.001, 0.01, 0.001])]\n",
      "No wall nearby.\n",
      "[(nan, None, [0.0, 0.0, 0.0, 0.001]),\n",
      " (nan, None, [0.0, 0.0, 0.01, 0.0]),\n",
      " (nan, None, [0.01, 0.0, 0.01, 0.001]),\n",
      " (nan, None, [0.0, 0.001, 0.01, 0.001])]\n",
      "No wall nearby.\n"
     ]
    },
    {
     "name": "stderr",
     "output_type": "stream",
     "text": [
      " 35%|███▍      | 1046/3000 [02:27<04:47,  6.79it/s]"
     ]
    },
    {
     "name": "stdout",
     "output_type": "stream",
     "text": [
      "[(nan, None, [0.0, 0.0, 0.0, 0.001]),\n",
      " (nan, None, [0.0, 0.0, 0.01, 0.0]),\n",
      " (nan, None, [0.01, 0.0, 0.01, 0.001]),\n",
      " (nan, None, [0.0, 0.001, 0.01, 0.001])]\n",
      "No wall nearby.\n",
      "[(nan, None, [0.0, 0.0, 0.0, 0.001]),\n",
      " (nan, None, [0.0, 0.0, 0.01, 0.0]),\n",
      " (nan, None, [0.01, 0.0, 0.01, 0.001]),\n",
      " (nan, None, [0.0, 0.001, 0.01, 0.001])]\n",
      "No wall nearby.\n"
     ]
    },
    {
     "name": "stderr",
     "output_type": "stream",
     "text": [
      " 35%|███▍      | 1048/3000 [02:27<04:38,  7.02it/s]"
     ]
    },
    {
     "name": "stdout",
     "output_type": "stream",
     "text": [
      "[(nan, None, [0.0, 0.0, 0.0, 0.001]),\n",
      " (nan, None, [0.0, 0.0, 0.01, 0.0]),\n",
      " (nan, None, [0.01, 0.0, 0.01, 0.001]),\n",
      " (nan, None, [0.0, 0.001, 0.01, 0.001])]\n",
      "No wall nearby.\n",
      "[(nan, None, [0.0, 0.0, 0.0, 0.001]),\n",
      " (nan, None, [0.0, 0.0, 0.01, 0.0]),\n",
      " (nan, None, [0.01, 0.0, 0.01, 0.001]),\n",
      " (nan, None, [0.0, 0.001, 0.01, 0.001])]\n",
      "No wall nearby.\n"
     ]
    },
    {
     "name": "stderr",
     "output_type": "stream",
     "text": [
      " 35%|███▌      | 1050/3000 [02:27<04:53,  6.65it/s]"
     ]
    },
    {
     "name": "stdout",
     "output_type": "stream",
     "text": [
      "[(nan, None, [0.0, 0.0, 0.0, 0.001]),\n",
      " (nan, None, [0.0, 0.0, 0.01, 0.0]),\n",
      " (nan, None, [0.01, 0.0, 0.01, 0.001]),\n",
      " (nan, None, [0.0, 0.001, 0.01, 0.001])]\n",
      "No wall nearby.\n",
      "[(nan, None, [0.0, 0.0, 0.0, 0.001]),\n",
      " (nan, None, [0.0, 0.0, 0.01, 0.0]),\n",
      " (nan, None, [0.01, 0.0, 0.01, 0.001]),\n",
      " (nan, None, [0.0, 0.001, 0.01, 0.001])]\n",
      "No wall nearby.\n"
     ]
    },
    {
     "name": "stderr",
     "output_type": "stream",
     "text": [
      " 35%|███▌      | 1052/3000 [02:28<04:48,  6.76it/s]"
     ]
    },
    {
     "name": "stdout",
     "output_type": "stream",
     "text": [
      "[(nan, None, [0.0, 0.0, 0.0, 0.001]),\n",
      " (nan, None, [0.0, 0.0, 0.01, 0.0]),\n",
      " (nan, None, [0.01, 0.0, 0.01, 0.001]),\n",
      " (nan, None, [0.0, 0.001, 0.01, 0.001])]\n",
      "No wall nearby.\n",
      "[(nan, None, [0.0, 0.0, 0.0, 0.001]),\n",
      " (nan, None, [0.0, 0.0, 0.01, 0.0]),\n",
      " (nan, None, [0.01, 0.0, 0.01, 0.001]),\n",
      " (nan, None, [0.0, 0.001, 0.01, 0.001])]\n",
      "No wall nearby.\n"
     ]
    },
    {
     "name": "stderr",
     "output_type": "stream",
     "text": [
      " 35%|███▌      | 1054/3000 [02:28<04:45,  6.82it/s]"
     ]
    },
    {
     "name": "stdout",
     "output_type": "stream",
     "text": [
      "[(nan, None, [0.0, 0.0, 0.0, 0.001]),\n",
      " (nan, None, [0.0, 0.0, 0.01, 0.0]),\n",
      " (nan, None, [0.01, 0.0, 0.01, 0.001]),\n",
      " (nan, None, [0.0, 0.001, 0.01, 0.001])]\n",
      "No wall nearby.\n",
      "[(nan, None, [0.0, 0.0, 0.0, 0.001]),\n",
      " (nan, None, [0.0, 0.0, 0.01, 0.0]),\n",
      " (nan, None, [0.01, 0.0, 0.01, 0.001]),\n",
      " (nan, None, [0.0, 0.001, 0.01, 0.001])]\n",
      "No wall nearby.\n"
     ]
    },
    {
     "name": "stderr",
     "output_type": "stream",
     "text": [
      " 35%|███▌      | 1056/3000 [02:28<05:02,  6.43it/s]"
     ]
    },
    {
     "name": "stdout",
     "output_type": "stream",
     "text": [
      "[(nan, None, [0.0, 0.0, 0.0, 0.001]),\n",
      " (nan, None, [0.0, 0.0, 0.01, 0.0]),\n",
      " (nan, None, [0.01, 0.0, 0.01, 0.001]),\n",
      " (nan, None, [0.0, 0.001, 0.01, 0.001])]\n",
      "No wall nearby.\n",
      "[(nan, None, [0.0, 0.0, 0.0, 0.001]),\n",
      " (nan, None, [0.0, 0.0, 0.01, 0.0]),\n",
      " (nan, None, [0.01, 0.0, 0.01, 0.001]),\n",
      " (nan, None, [0.0, 0.001, 0.01, 0.001])]\n",
      "No wall nearby.\n"
     ]
    },
    {
     "name": "stderr",
     "output_type": "stream",
     "text": [
      " 35%|███▌      | 1058/3000 [02:29<05:02,  6.41it/s]"
     ]
    },
    {
     "name": "stdout",
     "output_type": "stream",
     "text": [
      "[(nan, None, [0.0, 0.0, 0.0, 0.001]),\n",
      " (nan, None, [0.0, 0.0, 0.01, 0.0]),\n",
      " (nan, None, [0.01, 0.0, 0.01, 0.001]),\n",
      " (nan, None, [0.0, 0.001, 0.01, 0.001])]\n",
      "No wall nearby.\n",
      "[(nan, None, [0.0, 0.0, 0.0, 0.001]),\n",
      " (nan, None, [0.0, 0.0, 0.01, 0.0]),\n",
      " (nan, None, [0.01, 0.0, 0.01, 0.001]),\n",
      " (nan, None, [0.0, 0.001, 0.01, 0.001])]\n",
      "No wall nearby.\n"
     ]
    },
    {
     "name": "stderr",
     "output_type": "stream",
     "text": [
      " 35%|███▌      | 1060/3000 [02:29<04:50,  6.67it/s]"
     ]
    },
    {
     "name": "stdout",
     "output_type": "stream",
     "text": [
      "[(nan, None, [0.0, 0.0, 0.0, 0.001]),\n",
      " (nan, None, [0.0, 0.0, 0.01, 0.0]),\n",
      " (nan, None, [0.01, 0.0, 0.01, 0.001]),\n",
      " (nan, None, [0.0, 0.001, 0.01, 0.001])]\n",
      "No wall nearby.\n",
      "[(nan, None, [0.0, 0.0, 0.0, 0.001]),\n",
      " (nan, None, [0.0, 0.0, 0.01, 0.0]),\n",
      " (nan, None, [0.01, 0.0, 0.01, 0.001]),\n",
      " (nan, None, [0.0, 0.001, 0.01, 0.001])]\n",
      "No wall nearby.\n"
     ]
    },
    {
     "name": "stderr",
     "output_type": "stream",
     "text": [
      " 35%|███▌      | 1062/3000 [02:29<04:32,  7.11it/s]"
     ]
    },
    {
     "name": "stdout",
     "output_type": "stream",
     "text": [
      "[(nan, None, [0.0, 0.0, 0.0, 0.001]),\n",
      " (nan, None, [0.0, 0.0, 0.01, 0.0]),\n",
      " (nan, None, [0.01, 0.0, 0.01, 0.001]),\n",
      " (nan, None, [0.0, 0.001, 0.01, 0.001])]\n",
      "No wall nearby.\n",
      "[(nan, None, [0.0, 0.0, 0.0, 0.001]),\n",
      " (nan, None, [0.0, 0.0, 0.01, 0.0]),\n",
      " (nan, None, [0.01, 0.0, 0.01, 0.001]),\n",
      " (nan, None, [0.0, 0.001, 0.01, 0.001])]\n",
      "No wall nearby.\n"
     ]
    },
    {
     "name": "stderr",
     "output_type": "stream",
     "text": [
      " 35%|███▌      | 1064/3000 [02:29<04:34,  7.04it/s]"
     ]
    },
    {
     "name": "stdout",
     "output_type": "stream",
     "text": [
      "[(nan, None, [0.0, 0.0, 0.0, 0.001]),\n",
      " (nan, None, [0.0, 0.0, 0.01, 0.0]),\n",
      " (nan, None, [0.01, 0.0, 0.01, 0.001]),\n",
      " (nan, None, [0.0, 0.001, 0.01, 0.001])]\n",
      "No wall nearby.\n",
      "[(nan, None, [0.0, 0.0, 0.0, 0.001]),\n",
      " (nan, None, [0.0, 0.0, 0.01, 0.0]),\n",
      " (nan, None, [0.01, 0.0, 0.01, 0.001]),\n",
      " (nan, None, [0.0, 0.001, 0.01, 0.001])]\n",
      "No wall nearby.\n"
     ]
    },
    {
     "name": "stderr",
     "output_type": "stream",
     "text": [
      " 36%|███▌      | 1066/3000 [02:30<04:18,  7.47it/s]"
     ]
    },
    {
     "name": "stdout",
     "output_type": "stream",
     "text": [
      "[(nan, None, [0.0, 0.0, 0.0, 0.001]),\n",
      " (nan, None, [0.0, 0.0, 0.01, 0.0]),\n",
      " (nan, None, [0.01, 0.0, 0.01, 0.001]),\n",
      " (nan, None, [0.0, 0.001, 0.01, 0.001])]\n",
      "No wall nearby.\n",
      "[(nan, None, [0.0, 0.0, 0.0, 0.001]),\n",
      " (nan, None, [0.0, 0.0, 0.01, 0.0]),\n",
      " (nan, None, [0.01, 0.0, 0.01, 0.001]),\n",
      " (nan, None, [0.0, 0.001, 0.01, 0.001])]\n",
      "No wall nearby.\n"
     ]
    },
    {
     "name": "stderr",
     "output_type": "stream",
     "text": [
      " 36%|███▌      | 1068/3000 [02:30<04:12,  7.65it/s]"
     ]
    },
    {
     "name": "stdout",
     "output_type": "stream",
     "text": [
      "[(nan, None, [0.0, 0.0, 0.0, 0.001]),\n",
      " (nan, None, [0.0, 0.0, 0.01, 0.0]),\n",
      " (nan, None, [0.01, 0.0, 0.01, 0.001]),\n",
      " (nan, None, [0.0, 0.001, 0.01, 0.001])]\n",
      "No wall nearby.\n",
      "[(nan, None, [0.0, 0.0, 0.0, 0.001]),\n",
      " (nan, None, [0.0, 0.0, 0.01, 0.0]),\n",
      " (nan, None, [0.01, 0.0, 0.01, 0.001]),\n",
      " (nan, None, [0.0, 0.001, 0.01, 0.001])]\n",
      "No wall nearby.\n"
     ]
    },
    {
     "name": "stderr",
     "output_type": "stream",
     "text": [
      " 36%|███▌      | 1070/3000 [02:30<04:28,  7.20it/s]"
     ]
    },
    {
     "name": "stdout",
     "output_type": "stream",
     "text": [
      "[(nan, None, [0.0, 0.0, 0.0, 0.001]),\n",
      " (nan, None, [0.0, 0.0, 0.01, 0.0]),\n",
      " (nan, None, [0.01, 0.0, 0.01, 0.001]),\n",
      " (nan, None, [0.0, 0.001, 0.01, 0.001])]\n",
      "No wall nearby.\n",
      "[(nan, None, [0.0, 0.0, 0.0, 0.001]),\n",
      " (nan, None, [0.0, 0.0, 0.01, 0.0]),\n",
      " (nan, None, [0.01, 0.0, 0.01, 0.001]),\n",
      " (nan, None, [0.0, 0.001, 0.01, 0.001])]\n",
      "No wall nearby.\n"
     ]
    },
    {
     "name": "stderr",
     "output_type": "stream",
     "text": [
      " 36%|███▌      | 1072/3000 [02:30<04:24,  7.29it/s]"
     ]
    },
    {
     "name": "stdout",
     "output_type": "stream",
     "text": [
      "[(nan, None, [0.0, 0.0, 0.0, 0.001]),\n",
      " (nan, None, [0.0, 0.0, 0.01, 0.0]),\n",
      " (nan, None, [0.01, 0.0, 0.01, 0.001]),\n",
      " (nan, None, [0.0, 0.001, 0.01, 0.001])]\n",
      "No wall nearby.\n",
      "[(nan, None, [0.0, 0.0, 0.0, 0.001]),\n",
      " (nan, None, [0.0, 0.0, 0.01, 0.0]),\n",
      " (nan, None, [0.01, 0.0, 0.01, 0.001]),\n",
      " (nan, None, [0.0, 0.001, 0.01, 0.001])]\n",
      "No wall nearby.\n"
     ]
    },
    {
     "name": "stderr",
     "output_type": "stream",
     "text": [
      " 36%|███▌      | 1074/3000 [02:31<04:20,  7.39it/s]"
     ]
    },
    {
     "name": "stdout",
     "output_type": "stream",
     "text": [
      "[(nan, None, [0.0, 0.0, 0.0, 0.001]),\n",
      " (nan, None, [0.0, 0.0, 0.01, 0.0]),\n",
      " (nan, None, [0.01, 0.0, 0.01, 0.001]),\n",
      " (nan, None, [0.0, 0.001, 0.01, 0.001])]\n",
      "No wall nearby.\n",
      "[(nan, None, [0.0, 0.0, 0.0, 0.001]),\n",
      " (nan, None, [0.0, 0.0, 0.01, 0.0]),\n",
      " (nan, None, [0.01, 0.0, 0.01, 0.001]),\n",
      " (nan, None, [0.0, 0.001, 0.01, 0.001])]\n",
      "No wall nearby.\n"
     ]
    },
    {
     "name": "stderr",
     "output_type": "stream",
     "text": [
      " 36%|███▌      | 1076/3000 [02:31<04:41,  6.83it/s]"
     ]
    },
    {
     "name": "stdout",
     "output_type": "stream",
     "text": [
      "[(nan, None, [0.0, 0.0, 0.0, 0.001]),\n",
      " (nan, None, [0.0, 0.0, 0.01, 0.0]),\n",
      " (nan, None, [0.01, 0.0, 0.01, 0.001]),\n",
      " (nan, None, [0.0, 0.001, 0.01, 0.001])]\n",
      "No wall nearby.\n",
      "[(nan, None, [0.0, 0.0, 0.0, 0.001]),\n",
      " (nan, None, [0.0, 0.0, 0.01, 0.0]),\n",
      " (nan, None, [0.01, 0.0, 0.01, 0.001]),\n",
      " (nan, None, [0.0, 0.001, 0.01, 0.001])]\n",
      "No wall nearby.\n"
     ]
    },
    {
     "name": "stderr",
     "output_type": "stream",
     "text": [
      " 36%|███▌      | 1078/3000 [02:31<04:30,  7.12it/s]"
     ]
    },
    {
     "name": "stdout",
     "output_type": "stream",
     "text": [
      "[(nan, None, [0.0, 0.0, 0.0, 0.001]),\n",
      " (nan, None, [0.0, 0.0, 0.01, 0.0]),\n",
      " (nan, None, [0.01, 0.0, 0.01, 0.001]),\n",
      " (nan, None, [0.0, 0.001, 0.01, 0.001])]\n",
      "No wall nearby.\n",
      "[(nan, None, [0.0, 0.0, 0.0, 0.001]),\n",
      " (nan, None, [0.0, 0.0, 0.01, 0.0]),\n",
      " (nan, None, [0.01, 0.0, 0.01, 0.001]),\n",
      " (nan, None, [0.0, 0.001, 0.01, 0.001])]\n",
      "No wall nearby.\n"
     ]
    },
    {
     "name": "stderr",
     "output_type": "stream",
     "text": [
      " 36%|███▌      | 1080/3000 [02:32<04:23,  7.30it/s]"
     ]
    },
    {
     "name": "stdout",
     "output_type": "stream",
     "text": [
      "[(nan, None, [0.0, 0.0, 0.0, 0.001]),\n",
      " (nan, None, [0.0, 0.0, 0.01, 0.0]),\n",
      " (nan, None, [0.01, 0.0, 0.01, 0.001]),\n",
      " (nan, None, [0.0, 0.001, 0.01, 0.001])]\n",
      "No wall nearby.\n",
      "[(nan, None, [0.0, 0.0, 0.0, 0.001]),\n",
      " (nan, None, [0.0, 0.0, 0.01, 0.0]),\n",
      " (nan, None, [0.01, 0.0, 0.01, 0.001]),\n",
      " (nan, None, [0.0, 0.001, 0.01, 0.001])]\n",
      "No wall nearby.\n"
     ]
    },
    {
     "name": "stderr",
     "output_type": "stream",
     "text": [
      " 36%|███▌      | 1082/3000 [02:32<04:39,  6.87it/s]"
     ]
    },
    {
     "name": "stdout",
     "output_type": "stream",
     "text": [
      "[(nan, None, [0.0, 0.0, 0.0, 0.001]),\n",
      " (nan, None, [0.0, 0.0, 0.01, 0.0]),\n",
      " (nan, None, [0.01, 0.0, 0.01, 0.001]),\n",
      " (nan, None, [0.0, 0.001, 0.01, 0.001])]\n",
      "No wall nearby.\n",
      "[(nan, None, [0.0, 0.0, 0.0, 0.001]),\n",
      " (nan, None, [0.0, 0.0, 0.01, 0.0]),\n",
      " (nan, None, [0.01, 0.0, 0.01, 0.001]),\n",
      " (nan, None, [0.0, 0.001, 0.01, 0.001])]\n",
      "No wall nearby.\n"
     ]
    },
    {
     "name": "stderr",
     "output_type": "stream",
     "text": [
      " 36%|███▌      | 1084/3000 [02:32<04:29,  7.11it/s]"
     ]
    },
    {
     "name": "stdout",
     "output_type": "stream",
     "text": [
      "[(nan, None, [0.0, 0.0, 0.0, 0.001]),\n",
      " (nan, None, [0.0, 0.0, 0.01, 0.0]),\n",
      " (nan, None, [0.01, 0.0, 0.01, 0.001]),\n",
      " (nan, None, [0.0, 0.001, 0.01, 0.001])]\n",
      "No wall nearby.\n",
      "[(nan, None, [0.0, 0.0, 0.0, 0.001]),\n",
      " (nan, None, [0.0, 0.0, 0.01, 0.0]),\n",
      " (nan, None, [0.01, 0.0, 0.01, 0.001]),\n",
      " (nan, None, [0.0, 0.001, 0.01, 0.001])]\n",
      "No wall nearby.\n"
     ]
    },
    {
     "name": "stderr",
     "output_type": "stream",
     "text": [
      " 36%|███▌      | 1086/3000 [02:32<04:22,  7.28it/s]"
     ]
    },
    {
     "name": "stdout",
     "output_type": "stream",
     "text": [
      "[(nan, None, [0.0, 0.0, 0.0, 0.001]),\n",
      " (nan, None, [0.0, 0.0, 0.01, 0.0]),\n",
      " (nan, None, [0.01, 0.0, 0.01, 0.001]),\n",
      " (nan, None, [0.0, 0.001, 0.01, 0.001])]\n",
      "No wall nearby.\n",
      "[(nan, None, [0.0, 0.0, 0.0, 0.001]),\n",
      " (nan, None, [0.0, 0.0, 0.01, 0.0]),\n",
      " (nan, None, [0.01, 0.0, 0.01, 0.001]),\n",
      " (nan, None, [0.0, 0.001, 0.01, 0.001])]\n",
      "No wall nearby.\n"
     ]
    },
    {
     "name": "stderr",
     "output_type": "stream",
     "text": [
      " 36%|███▋      | 1088/3000 [02:33<04:25,  7.21it/s]"
     ]
    },
    {
     "name": "stdout",
     "output_type": "stream",
     "text": [
      "[(nan, None, [0.0, 0.0, 0.0, 0.001]),\n",
      " (nan, None, [0.0, 0.0, 0.01, 0.0]),\n",
      " (nan, None, [0.01, 0.0, 0.01, 0.001]),\n",
      " (nan, None, [0.0, 0.001, 0.01, 0.001])]\n",
      "No wall nearby.\n",
      "[(nan, None, [0.0, 0.0, 0.0, 0.001]),\n",
      " (nan, None, [0.0, 0.0, 0.01, 0.0]),\n",
      " (nan, None, [0.01, 0.0, 0.01, 0.001]),\n",
      " (nan, None, [0.0, 0.001, 0.01, 0.001])]\n",
      "No wall nearby.\n"
     ]
    },
    {
     "name": "stderr",
     "output_type": "stream",
     "text": [
      " 36%|███▋      | 1088/3000 [02:33<04:29,  7.09it/s]\n",
      "ERROR:root:Internal Python error in the inspect module.\n",
      "Below is the traceback from this internal error.\n",
      "\n",
      "ERROR:root:Internal Python error in the inspect module.\n",
      "Below is the traceback from this internal error.\n",
      "\n"
     ]
    },
    {
     "name": "stdout",
     "output_type": "stream",
     "text": [
      "Traceback (most recent call last):\n",
      "  File \"/home/paul/anaconda3/envs/NIRN/lib/python3.7/site-packages/IPython/core/interactiveshell.py\", line 3418, in run_code\n",
      "    exec(code_obj, self.user_global_ns, self.user_ns)\n",
      "  File \"<ipython-input-1-6f7c4e9c8b23>\", line 8, in <module>\n",
      "    simulate(system, simu, proc)\n",
      "  File \"/home/paul/Documents/projects/Neutralisation_Faisceau_ions_negatifs_propulsion_satellite/main/main.py\", line 61, in simulate\n",
      "    system.step(dt, t)\n",
      "  File \"/home/paul/Documents/projects/Neutralisation_Faisceau_ions_negatifs_propulsion_satellite/main/builders/system.py\", line 150, in step\n",
      "    new_particles = self.flux_handler.step(dt)\n",
      "  File \"/home/paul/Documents/projects/Neutralisation_Faisceau_ions_negatifs_propulsion_satellite/main/FluxHandler.py\", line 21, in step\n",
      "    self.particles_types, self.temperatures, self.drifts, dt)\n",
      "  File \"/home/paul/Documents/projects/Neutralisation_Faisceau_ions_negatifs_propulsion_satellite/main/particles_init.py\", line 158, in init_particles_flux\n",
      "    return np.array(list_particles)\n",
      "KeyboardInterrupt\n",
      "\n",
      "During handling of the above exception, another exception occurred:\n",
      "\n",
      "Traceback (most recent call last):\n",
      "  File \"/home/paul/anaconda3/envs/NIRN/lib/python3.7/site-packages/IPython/core/interactiveshell.py\", line 2045, in showtraceback\n",
      "    stb = value._render_traceback_()\n",
      "AttributeError: 'KeyboardInterrupt' object has no attribute '_render_traceback_'\n",
      "\n",
      "During handling of the above exception, another exception occurred:\n",
      "\n",
      "Traceback (most recent call last):\n",
      "  File \"/home/paul/anaconda3/envs/NIRN/lib/python3.7/site-packages/IPython/core/ultratb.py\", line 1170, in get_records\n",
      "    return _fixed_getinnerframes(etb, number_of_lines_of_context, tb_offset)\n",
      "  File \"/home/paul/anaconda3/envs/NIRN/lib/python3.7/site-packages/IPython/core/ultratb.py\", line 316, in wrapped\n",
      "    return f(*args, **kwargs)\n",
      "  File \"/home/paul/anaconda3/envs/NIRN/lib/python3.7/site-packages/IPython/core/ultratb.py\", line 350, in _fixed_getinnerframes\n",
      "    records = fix_frame_records_filenames(inspect.getinnerframes(etb, context))\n",
      "  File \"/home/paul/anaconda3/envs/NIRN/lib/python3.7/inspect.py\", line 1502, in getinnerframes\n",
      "    frameinfo = (tb.tb_frame,) + getframeinfo(tb, context)\n",
      "  File \"/home/paul/anaconda3/envs/NIRN/lib/python3.7/inspect.py\", line 1460, in getframeinfo\n",
      "    filename = getsourcefile(frame) or getfile(frame)\n",
      "  File \"/home/paul/anaconda3/envs/NIRN/lib/python3.7/inspect.py\", line 696, in getsourcefile\n",
      "    if getattr(getmodule(object, filename), '__loader__', None) is not None:\n",
      "  File \"/home/paul/anaconda3/envs/NIRN/lib/python3.7/inspect.py\", line 739, in getmodule\n",
      "    f = getabsfile(module)\n",
      "  File \"/home/paul/anaconda3/envs/NIRN/lib/python3.7/inspect.py\", line 709, in getabsfile\n",
      "    return os.path.normcase(os.path.abspath(_filename))\n",
      "  File \"/home/paul/anaconda3/envs/NIRN/lib/python3.7/posixpath.py\", line 385, in abspath\n",
      "    return normpath(path)\n",
      "  File \"/home/paul/anaconda3/envs/NIRN/lib/python3.7/posixpath.py\", line 359, in normpath\n",
      "    comps = path.split(sep)\n",
      "KeyboardInterrupt\n",
      "Traceback (most recent call last):\n",
      "  File \"/home/paul/anaconda3/envs/NIRN/lib/python3.7/site-packages/IPython/core/interactiveshell.py\", line 3418, in run_code\n",
      "    exec(code_obj, self.user_global_ns, self.user_ns)\n",
      "  File \"<ipython-input-1-6f7c4e9c8b23>\", line 8, in <module>\n",
      "    simulate(system, simu, proc)\n",
      "  File \"/home/paul/Documents/projects/Neutralisation_Faisceau_ions_negatifs_propulsion_satellite/main/main.py\", line 61, in simulate\n",
      "    system.step(dt, t)\n",
      "  File \"/home/paul/Documents/projects/Neutralisation_Faisceau_ions_negatifs_propulsion_satellite/main/builders/system.py\", line 150, in step\n",
      "    new_particles = self.flux_handler.step(dt)\n",
      "  File \"/home/paul/Documents/projects/Neutralisation_Faisceau_ions_negatifs_propulsion_satellite/main/FluxHandler.py\", line 21, in step\n",
      "    self.particles_types, self.temperatures, self.drifts, dt)\n",
      "  File \"/home/paul/Documents/projects/Neutralisation_Faisceau_ions_negatifs_propulsion_satellite/main/particles_init.py\", line 158, in init_particles_flux\n",
      "    return np.array(list_particles)\n",
      "KeyboardInterrupt\n",
      "\n",
      "During handling of the above exception, another exception occurred:\n",
      "\n",
      "Traceback (most recent call last):\n",
      "  File \"/home/paul/anaconda3/envs/NIRN/lib/python3.7/site-packages/IPython/core/interactiveshell.py\", line 2045, in showtraceback\n",
      "    stb = value._render_traceback_()\n",
      "AttributeError: 'KeyboardInterrupt' object has no attribute '_render_traceback_'\n",
      "\n",
      "During handling of the above exception, another exception occurred:\n",
      "\n",
      "Traceback (most recent call last):\n",
      "  File \"/home/paul/anaconda3/envs/NIRN/lib/python3.7/site-packages/IPython/core/interactiveshell.py\", line 3338, in run_ast_nodes\n",
      "    if (await self.run_code(code, result,  async_=asy)):\n",
      "  File \"/home/paul/anaconda3/envs/NIRN/lib/python3.7/site-packages/IPython/core/interactiveshell.py\", line 3435, in run_code\n",
      "    self.showtraceback(running_compiled_code=True)\n",
      "  File \"/home/paul/anaconda3/envs/NIRN/lib/python3.7/site-packages/IPython/core/interactiveshell.py\", line 2048, in showtraceback\n",
      "    value, tb, tb_offset=tb_offset)\n",
      "  File \"/home/paul/anaconda3/envs/NIRN/lib/python3.7/site-packages/IPython/core/ultratb.py\", line 1437, in structured_traceback\n",
      "    self, etype, value, tb, tb_offset, number_of_lines_of_context)\n",
      "  File \"/home/paul/anaconda3/envs/NIRN/lib/python3.7/site-packages/IPython/core/ultratb.py\", line 1337, in structured_traceback\n",
      "    self, etype, value, tb, tb_offset, number_of_lines_of_context\n",
      "  File \"/home/paul/anaconda3/envs/NIRN/lib/python3.7/site-packages/IPython/core/ultratb.py\", line 1194, in structured_traceback\n",
      "    tb_offset)\n",
      "  File \"/home/paul/anaconda3/envs/NIRN/lib/python3.7/site-packages/IPython/core/ultratb.py\", line 1151, in format_exception_as_a_whole\n",
      "    last_unique, recursion_repeat = find_recursion(orig_etype, evalue, records)\n",
      "  File \"/home/paul/anaconda3/envs/NIRN/lib/python3.7/site-packages/IPython/core/ultratb.py\", line 451, in find_recursion\n",
      "    return len(records), 0\n",
      "TypeError: object of type 'NoneType' has no len()\n",
      "\n",
      "During handling of the above exception, another exception occurred:\n",
      "\n",
      "Traceback (most recent call last):\n",
      "  File \"/home/paul/anaconda3/envs/NIRN/lib/python3.7/site-packages/IPython/core/interactiveshell.py\", line 2045, in showtraceback\n",
      "    stb = value._render_traceback_()\n",
      "AttributeError: 'TypeError' object has no attribute '_render_traceback_'\n",
      "\n",
      "During handling of the above exception, another exception occurred:\n",
      "\n",
      "Traceback (most recent call last):\n",
      "  File \"/home/paul/anaconda3/envs/NIRN/lib/python3.7/site-packages/IPython/core/ultratb.py\", line 1170, in get_records\n",
      "    return _fixed_getinnerframes(etb, number_of_lines_of_context, tb_offset)\n",
      "  File \"/home/paul/anaconda3/envs/NIRN/lib/python3.7/site-packages/IPython/core/ultratb.py\", line 316, in wrapped\n",
      "    return f(*args, **kwargs)\n",
      "  File \"/home/paul/anaconda3/envs/NIRN/lib/python3.7/site-packages/IPython/core/ultratb.py\", line 350, in _fixed_getinnerframes\n",
      "    records = fix_frame_records_filenames(inspect.getinnerframes(etb, context))\n",
      "  File \"/home/paul/anaconda3/envs/NIRN/lib/python3.7/inspect.py\", line 1502, in getinnerframes\n",
      "    frameinfo = (tb.tb_frame,) + getframeinfo(tb, context)\n",
      "  File \"/home/paul/anaconda3/envs/NIRN/lib/python3.7/inspect.py\", line 1460, in getframeinfo\n",
      "    filename = getsourcefile(frame) or getfile(frame)\n",
      "  File \"/home/paul/anaconda3/envs/NIRN/lib/python3.7/inspect.py\", line 696, in getsourcefile\n",
      "    if getattr(getmodule(object, filename), '__loader__', None) is not None:\n",
      "  File \"/home/paul/anaconda3/envs/NIRN/lib/python3.7/inspect.py\", line 742, in getmodule\n",
      "    os.path.realpath(f)] = module.__name__\n",
      "  File \"/home/paul/anaconda3/envs/NIRN/lib/python3.7/posixpath.py\", line 395, in realpath\n",
      "    path, ok = _joinrealpath(filename[:0], filename, {})\n",
      "  File \"/home/paul/anaconda3/envs/NIRN/lib/python3.7/posixpath.py\", line 429, in _joinrealpath\n",
      "    if not islink(newpath):\n",
      "  File \"/home/paul/anaconda3/envs/NIRN/lib/python3.7/posixpath.py\", line 171, in islink\n",
      "    st = os.lstat(path)\n",
      "KeyboardInterrupt\n"
     ]
    },
    {
     "ename": "TypeError",
     "evalue": "object of type 'NoneType' has no len()",
     "output_type": "error",
     "traceback": [
      "\u001b[0;31m---------------------------------------------------------------------------\u001b[0m",
      "\u001b[0;31mKeyboardInterrupt\u001b[0m                         Traceback (most recent call last)",
      "    \u001b[0;31m[... skipping hidden 1 frame]\u001b[0m\n",
      "\u001b[0;32m<ipython-input-1-6f7c4e9c8b23>\u001b[0m in \u001b[0;36m<module>\u001b[0;34m\u001b[0m\n\u001b[1;32m      7\u001b[0m \u001b[0;32mfor\u001b[0m \u001b[0msystem\u001b[0m\u001b[0;34m,\u001b[0m \u001b[0msimu\u001b[0m\u001b[0;34m,\u001b[0m \u001b[0mproc\u001b[0m \u001b[0;32min\u001b[0m \u001b[0mzip\u001b[0m\u001b[0;34m(\u001b[0m\u001b[0msystem_cfg_path\u001b[0m\u001b[0;34m,\u001b[0m \u001b[0msimulation_cfg_path\u001b[0m\u001b[0;34m,\u001b[0m \u001b[0mprocessing_simulation_path\u001b[0m\u001b[0;34m)\u001b[0m\u001b[0;34m:\u001b[0m\u001b[0;34m\u001b[0m\u001b[0;34m\u001b[0m\u001b[0m\n\u001b[0;32m----> 8\u001b[0;31m     \u001b[0msimulate\u001b[0m\u001b[0;34m(\u001b[0m\u001b[0msystem\u001b[0m\u001b[0;34m,\u001b[0m \u001b[0msimu\u001b[0m\u001b[0;34m,\u001b[0m \u001b[0mproc\u001b[0m\u001b[0;34m)\u001b[0m\u001b[0;34m\u001b[0m\u001b[0;34m\u001b[0m\u001b[0m\n\u001b[0m",
      "\u001b[0;32m~/Documents/projects/Neutralisation_Faisceau_ions_negatifs_propulsion_satellite/main/main.py\u001b[0m in \u001b[0;36msimulate\u001b[0;34m(system_cfg_path, simulation_cfg_path, processing_cfg_path, verbose)\u001b[0m\n\u001b[1;32m     60\u001b[0m     \u001b[0;32mfor\u001b[0m \u001b[0mk\u001b[0m \u001b[0;32min\u001b[0m \u001b[0mtqdm\u001b[0m\u001b[0;34m(\u001b[0m\u001b[0mrange\u001b[0m\u001b[0;34m(\u001b[0m\u001b[0mMAX_INTEGRATION_STEP\u001b[0m\u001b[0;34m)\u001b[0m\u001b[0;34m)\u001b[0m\u001b[0;34m:\u001b[0m \u001b[0;31m#\u001b[0m\u001b[0;34m\u001b[0m\u001b[0;34m\u001b[0m\u001b[0m\n\u001b[0;32m---> 61\u001b[0;31m         \u001b[0msystem\u001b[0m\u001b[0;34m.\u001b[0m\u001b[0mstep\u001b[0m\u001b[0;34m(\u001b[0m\u001b[0mdt\u001b[0m\u001b[0;34m,\u001b[0m \u001b[0mt\u001b[0m\u001b[0;34m)\u001b[0m\u001b[0;34m\u001b[0m\u001b[0;34m\u001b[0m\u001b[0m\n\u001b[0m\u001b[1;32m     62\u001b[0m         \u001b[0mt\u001b[0m\u001b[0;34m+=\u001b[0m\u001b[0mdt\u001b[0m\u001b[0;34m\u001b[0m\u001b[0;34m\u001b[0m\u001b[0m\n",
      "\u001b[0;32m~/Documents/projects/Neutralisation_Faisceau_ions_negatifs_propulsion_satellite/main/builders/system.py\u001b[0m in \u001b[0;36mstep\u001b[0;34m(self, dt, t)\u001b[0m\n\u001b[1;32m    149\u001b[0m         \u001b[0mself\u001b[0m\u001b[0;34m.\u001b[0m\u001b[0mdsmc\u001b[0m\u001b[0;34m.\u001b[0m\u001b[0mstep\u001b[0m\u001b[0;34m(\u001b[0m\u001b[0mdt\u001b[0m\u001b[0;34m,\u001b[0m \u001b[0mt\u001b[0m\u001b[0;34m,\u001b[0m \u001b[0mself\u001b[0m\u001b[0;34m.\u001b[0m\u001b[0mf_args\u001b[0m\u001b[0;34m)\u001b[0m\u001b[0;34m\u001b[0m\u001b[0;34m\u001b[0m\u001b[0m\n\u001b[0;32m--> 150\u001b[0;31m         \u001b[0mnew_particles\u001b[0m \u001b[0;34m=\u001b[0m \u001b[0mself\u001b[0m\u001b[0;34m.\u001b[0m\u001b[0mflux_handler\u001b[0m\u001b[0;34m.\u001b[0m\u001b[0mstep\u001b[0m\u001b[0;34m(\u001b[0m\u001b[0mdt\u001b[0m\u001b[0;34m)\u001b[0m\u001b[0;34m\u001b[0m\u001b[0;34m\u001b[0m\u001b[0m\n\u001b[0m\u001b[1;32m    151\u001b[0m         \u001b[0;32mif\u001b[0m\u001b[0;34m(\u001b[0m\u001b[0mself\u001b[0m\u001b[0;34m.\u001b[0m\u001b[0mdebug\u001b[0m\u001b[0;34m)\u001b[0m\u001b[0;34m:\u001b[0m\u001b[0mprint\u001b[0m\u001b[0;34m(\u001b[0m\u001b[0;34m'Injecting {} new particles.'\u001b[0m\u001b[0;34m.\u001b[0m\u001b[0mformat\u001b[0m\u001b[0;34m(\u001b[0m\u001b[0mlen\u001b[0m\u001b[0;34m(\u001b[0m\u001b[0mnew_particles\u001b[0m\u001b[0;34m)\u001b[0m\u001b[0;34m)\u001b[0m\u001b[0;34m)\u001b[0m\u001b[0;34m\u001b[0m\u001b[0;34m\u001b[0m\u001b[0m\n",
      "\u001b[0;32m~/Documents/projects/Neutralisation_Faisceau_ions_negatifs_propulsion_satellite/main/FluxHandler.py\u001b[0m in \u001b[0;36mstep\u001b[0;34m(self, dt)\u001b[0m\n\u001b[1;32m     20\u001b[0m             return init_particles_flux(self.in_flux_wall, self.direction, nb_particles_to_inject, \\\n\u001b[0;32m---> 21\u001b[0;31m                 self.particles_types, self.temperatures, self.drifts, dt)\n\u001b[0m\u001b[1;32m     22\u001b[0m \u001b[0;34m\u001b[0m\u001b[0m\n",
      "\u001b[0;32m~/Documents/projects/Neutralisation_Faisceau_ions_negatifs_propulsion_satellite/main/particles_init.py\u001b[0m in \u001b[0;36minit_particles_flux\u001b[0;34m(wall, direction, nb_particles_to_inject, particles_types, temperatures, drifts, dt)\u001b[0m\n\u001b[1;32m    157\u001b[0m     \u001b[0;31m#pprint(\" - \".join([part.to_string() for part in list_particles]))\u001b[0m\u001b[0;34m\u001b[0m\u001b[0;34m\u001b[0m\u001b[0;34m\u001b[0m\u001b[0m\n\u001b[0;32m--> 158\u001b[0;31m     \u001b[0;32mreturn\u001b[0m \u001b[0mnp\u001b[0m\u001b[0;34m.\u001b[0m\u001b[0marray\u001b[0m\u001b[0;34m(\u001b[0m\u001b[0mlist_particles\u001b[0m\u001b[0;34m)\u001b[0m\u001b[0;34m\u001b[0m\u001b[0;34m\u001b[0m\u001b[0m\n\u001b[0m\u001b[1;32m    159\u001b[0m \u001b[0;34m\u001b[0m\u001b[0m\n",
      "\u001b[0;31mKeyboardInterrupt\u001b[0m: ",
      "\nDuring handling of the above exception, another exception occurred:\n",
      "\u001b[0;31mAttributeError\u001b[0m                            Traceback (most recent call last)",
      "\u001b[0;32m~/anaconda3/envs/NIRN/lib/python3.7/site-packages/IPython/core/interactiveshell.py\u001b[0m in \u001b[0;36mshowtraceback\u001b[0;34m(self, exc_tuple, filename, tb_offset, exception_only, running_compiled_code)\u001b[0m\n\u001b[1;32m   2044\u001b[0m                         \u001b[0;31m# in the engines. This should return a list of strings.\u001b[0m\u001b[0;34m\u001b[0m\u001b[0;34m\u001b[0m\u001b[0;34m\u001b[0m\u001b[0m\n\u001b[0;32m-> 2045\u001b[0;31m                         \u001b[0mstb\u001b[0m \u001b[0;34m=\u001b[0m \u001b[0mvalue\u001b[0m\u001b[0;34m.\u001b[0m\u001b[0m_render_traceback_\u001b[0m\u001b[0;34m(\u001b[0m\u001b[0;34m)\u001b[0m\u001b[0;34m\u001b[0m\u001b[0;34m\u001b[0m\u001b[0m\n\u001b[0m\u001b[1;32m   2046\u001b[0m                     \u001b[0;32mexcept\u001b[0m \u001b[0mException\u001b[0m\u001b[0;34m:\u001b[0m\u001b[0;34m\u001b[0m\u001b[0;34m\u001b[0m\u001b[0m\n",
      "\u001b[0;31mAttributeError\u001b[0m: 'KeyboardInterrupt' object has no attribute '_render_traceback_'",
      "\nDuring handling of the above exception, another exception occurred:\n",
      "\u001b[0;31mTypeError\u001b[0m                                 Traceback (most recent call last)",
      "\u001b[0;32m~/anaconda3/envs/NIRN/lib/python3.7/site-packages/IPython/core/interactiveshell.py\u001b[0m in \u001b[0;36mrun_ast_nodes\u001b[0;34m(self, nodelist, cell_name, interactivity, compiler, result)\u001b[0m\n\u001b[1;32m   3337\u001b[0m                         \u001b[0masy\u001b[0m \u001b[0;34m=\u001b[0m \u001b[0mcompare\u001b[0m\u001b[0;34m(\u001b[0m\u001b[0mcode\u001b[0m\u001b[0;34m)\u001b[0m\u001b[0;34m\u001b[0m\u001b[0;34m\u001b[0m\u001b[0m\n\u001b[0;32m-> 3338\u001b[0;31m                     \u001b[0;32mif\u001b[0m \u001b[0;34m(\u001b[0m\u001b[0;32mawait\u001b[0m \u001b[0mself\u001b[0m\u001b[0;34m.\u001b[0m\u001b[0mrun_code\u001b[0m\u001b[0;34m(\u001b[0m\u001b[0mcode\u001b[0m\u001b[0;34m,\u001b[0m \u001b[0mresult\u001b[0m\u001b[0;34m,\u001b[0m  \u001b[0masync_\u001b[0m\u001b[0;34m=\u001b[0m\u001b[0masy\u001b[0m\u001b[0;34m)\u001b[0m\u001b[0;34m)\u001b[0m\u001b[0;34m:\u001b[0m\u001b[0;34m\u001b[0m\u001b[0;34m\u001b[0m\u001b[0m\n\u001b[0m\u001b[1;32m   3339\u001b[0m                         \u001b[0;32mreturn\u001b[0m \u001b[0;32mTrue\u001b[0m\u001b[0;34m\u001b[0m\u001b[0;34m\u001b[0m\u001b[0m\n",
      "    \u001b[0;31m[... skipping hidden 1 frame]\u001b[0m\n",
      "\u001b[0;32m~/anaconda3/envs/NIRN/lib/python3.7/site-packages/IPython/core/interactiveshell.py\u001b[0m in \u001b[0;36mshowtraceback\u001b[0;34m(self, exc_tuple, filename, tb_offset, exception_only, running_compiled_code)\u001b[0m\n\u001b[1;32m   2047\u001b[0m                         stb = self.InteractiveTB.structured_traceback(etype,\n\u001b[0;32m-> 2048\u001b[0;31m                                             value, tb, tb_offset=tb_offset)\n\u001b[0m\u001b[1;32m   2049\u001b[0m \u001b[0;34m\u001b[0m\u001b[0m\n",
      "\u001b[0;32m~/anaconda3/envs/NIRN/lib/python3.7/site-packages/IPython/core/ultratb.py\u001b[0m in \u001b[0;36mstructured_traceback\u001b[0;34m(self, etype, value, tb, tb_offset, number_of_lines_of_context)\u001b[0m\n\u001b[1;32m   1436\u001b[0m         return FormattedTB.structured_traceback(\n\u001b[0;32m-> 1437\u001b[0;31m             self, etype, value, tb, tb_offset, number_of_lines_of_context)\n\u001b[0m\u001b[1;32m   1438\u001b[0m \u001b[0;34m\u001b[0m\u001b[0m\n",
      "\u001b[0;32m~/anaconda3/envs/NIRN/lib/python3.7/site-packages/IPython/core/ultratb.py\u001b[0m in \u001b[0;36mstructured_traceback\u001b[0;34m(self, etype, value, tb, tb_offset, number_of_lines_of_context)\u001b[0m\n\u001b[1;32m   1336\u001b[0m             return VerboseTB.structured_traceback(\n\u001b[0;32m-> 1337\u001b[0;31m                 \u001b[0mself\u001b[0m\u001b[0;34m,\u001b[0m \u001b[0metype\u001b[0m\u001b[0;34m,\u001b[0m \u001b[0mvalue\u001b[0m\u001b[0;34m,\u001b[0m \u001b[0mtb\u001b[0m\u001b[0;34m,\u001b[0m \u001b[0mtb_offset\u001b[0m\u001b[0;34m,\u001b[0m \u001b[0mnumber_of_lines_of_context\u001b[0m\u001b[0;34m\u001b[0m\u001b[0;34m\u001b[0m\u001b[0m\n\u001b[0m\u001b[1;32m   1338\u001b[0m             )\n",
      "\u001b[0;32m~/anaconda3/envs/NIRN/lib/python3.7/site-packages/IPython/core/ultratb.py\u001b[0m in \u001b[0;36mstructured_traceback\u001b[0;34m(self, etype, evalue, etb, tb_offset, number_of_lines_of_context)\u001b[0m\n\u001b[1;32m   1193\u001b[0m         formatted_exception = self.format_exception_as_a_whole(etype, evalue, etb, number_of_lines_of_context,\n\u001b[0;32m-> 1194\u001b[0;31m                                                                tb_offset)\n\u001b[0m\u001b[1;32m   1195\u001b[0m \u001b[0;34m\u001b[0m\u001b[0m\n",
      "\u001b[0;32m~/anaconda3/envs/NIRN/lib/python3.7/site-packages/IPython/core/ultratb.py\u001b[0m in \u001b[0;36mformat_exception_as_a_whole\u001b[0;34m(self, etype, evalue, etb, number_of_lines_of_context, tb_offset)\u001b[0m\n\u001b[1;32m   1150\u001b[0m \u001b[0;34m\u001b[0m\u001b[0m\n\u001b[0;32m-> 1151\u001b[0;31m         \u001b[0mlast_unique\u001b[0m\u001b[0;34m,\u001b[0m \u001b[0mrecursion_repeat\u001b[0m \u001b[0;34m=\u001b[0m \u001b[0mfind_recursion\u001b[0m\u001b[0;34m(\u001b[0m\u001b[0morig_etype\u001b[0m\u001b[0;34m,\u001b[0m \u001b[0mevalue\u001b[0m\u001b[0;34m,\u001b[0m \u001b[0mrecords\u001b[0m\u001b[0;34m)\u001b[0m\u001b[0;34m\u001b[0m\u001b[0;34m\u001b[0m\u001b[0m\n\u001b[0m\u001b[1;32m   1152\u001b[0m \u001b[0;34m\u001b[0m\u001b[0m\n",
      "\u001b[0;32m~/anaconda3/envs/NIRN/lib/python3.7/site-packages/IPython/core/ultratb.py\u001b[0m in \u001b[0;36mfind_recursion\u001b[0;34m(etype, value, records)\u001b[0m\n\u001b[1;32m    450\u001b[0m     \u001b[0;32mif\u001b[0m \u001b[0;32mnot\u001b[0m \u001b[0mis_recursion_error\u001b[0m\u001b[0;34m(\u001b[0m\u001b[0metype\u001b[0m\u001b[0;34m,\u001b[0m \u001b[0mvalue\u001b[0m\u001b[0;34m,\u001b[0m \u001b[0mrecords\u001b[0m\u001b[0;34m)\u001b[0m\u001b[0;34m:\u001b[0m\u001b[0;34m\u001b[0m\u001b[0;34m\u001b[0m\u001b[0m\n\u001b[0;32m--> 451\u001b[0;31m         \u001b[0;32mreturn\u001b[0m \u001b[0mlen\u001b[0m\u001b[0;34m(\u001b[0m\u001b[0mrecords\u001b[0m\u001b[0;34m)\u001b[0m\u001b[0;34m,\u001b[0m \u001b[0;36m0\u001b[0m\u001b[0;34m\u001b[0m\u001b[0;34m\u001b[0m\u001b[0m\n\u001b[0m\u001b[1;32m    452\u001b[0m \u001b[0;34m\u001b[0m\u001b[0m\n",
      "\u001b[0;31mTypeError\u001b[0m: object of type 'NoneType' has no len()",
      "\nDuring handling of the above exception, another exception occurred:\n",
      "\u001b[0;31mAttributeError\u001b[0m                            Traceback (most recent call last)",
      "\u001b[0;32m~/anaconda3/envs/NIRN/lib/python3.7/site-packages/IPython/core/interactiveshell.py\u001b[0m in \u001b[0;36mshowtraceback\u001b[0;34m(self, exc_tuple, filename, tb_offset, exception_only, running_compiled_code)\u001b[0m\n\u001b[1;32m   2044\u001b[0m                         \u001b[0;31m# in the engines. This should return a list of strings.\u001b[0m\u001b[0;34m\u001b[0m\u001b[0;34m\u001b[0m\u001b[0;34m\u001b[0m\u001b[0m\n\u001b[0;32m-> 2045\u001b[0;31m                         \u001b[0mstb\u001b[0m \u001b[0;34m=\u001b[0m \u001b[0mvalue\u001b[0m\u001b[0;34m.\u001b[0m\u001b[0m_render_traceback_\u001b[0m\u001b[0;34m(\u001b[0m\u001b[0;34m)\u001b[0m\u001b[0;34m\u001b[0m\u001b[0;34m\u001b[0m\u001b[0m\n\u001b[0m\u001b[1;32m   2046\u001b[0m                     \u001b[0;32mexcept\u001b[0m \u001b[0mException\u001b[0m\u001b[0;34m:\u001b[0m\u001b[0;34m\u001b[0m\u001b[0;34m\u001b[0m\u001b[0m\n",
      "\u001b[0;31mAttributeError\u001b[0m: 'TypeError' object has no attribute '_render_traceback_'",
      "\nDuring handling of the above exception, another exception occurred:\n",
      "\u001b[0;31mTypeError\u001b[0m                                 Traceback (most recent call last)",
      "\u001b[0;32m~/anaconda3/envs/NIRN/lib/python3.7/site-packages/IPython/core/async_helpers.py\u001b[0m in \u001b[0;36m_pseudo_sync_runner\u001b[0;34m(coro)\u001b[0m\n\u001b[1;32m     66\u001b[0m     \"\"\"\n\u001b[1;32m     67\u001b[0m     \u001b[0;32mtry\u001b[0m\u001b[0;34m:\u001b[0m\u001b[0;34m\u001b[0m\u001b[0;34m\u001b[0m\u001b[0m\n\u001b[0;32m---> 68\u001b[0;31m         \u001b[0mcoro\u001b[0m\u001b[0;34m.\u001b[0m\u001b[0msend\u001b[0m\u001b[0;34m(\u001b[0m\u001b[0;32mNone\u001b[0m\u001b[0;34m)\u001b[0m\u001b[0;34m\u001b[0m\u001b[0;34m\u001b[0m\u001b[0m\n\u001b[0m\u001b[1;32m     69\u001b[0m     \u001b[0;32mexcept\u001b[0m \u001b[0mStopIteration\u001b[0m \u001b[0;32mas\u001b[0m \u001b[0mexc\u001b[0m\u001b[0;34m:\u001b[0m\u001b[0;34m\u001b[0m\u001b[0;34m\u001b[0m\u001b[0m\n\u001b[1;32m     70\u001b[0m         \u001b[0;32mreturn\u001b[0m \u001b[0mexc\u001b[0m\u001b[0;34m.\u001b[0m\u001b[0mvalue\u001b[0m\u001b[0;34m\u001b[0m\u001b[0;34m\u001b[0m\u001b[0m\n",
      "\u001b[0;32m~/anaconda3/envs/NIRN/lib/python3.7/site-packages/IPython/core/interactiveshell.py\u001b[0m in \u001b[0;36mrun_cell_async\u001b[0;34m(self, raw_cell, store_history, silent, shell_futures, transformed_cell, preprocessing_exc_tuple)\u001b[0m\n\u001b[1;32m   3145\u001b[0m \u001b[0;34m\u001b[0m\u001b[0m\n\u001b[1;32m   3146\u001b[0m                 has_raised = await self.run_ast_nodes(code_ast.body, cell_name,\n\u001b[0;32m-> 3147\u001b[0;31m                        interactivity=interactivity, compiler=compiler, result=result)\n\u001b[0m\u001b[1;32m   3148\u001b[0m \u001b[0;34m\u001b[0m\u001b[0m\n\u001b[1;32m   3149\u001b[0m                 \u001b[0mself\u001b[0m\u001b[0;34m.\u001b[0m\u001b[0mlast_execution_succeeded\u001b[0m \u001b[0;34m=\u001b[0m \u001b[0;32mnot\u001b[0m \u001b[0mhas_raised\u001b[0m\u001b[0;34m\u001b[0m\u001b[0;34m\u001b[0m\u001b[0m\n",
      "\u001b[0;32m~/anaconda3/envs/NIRN/lib/python3.7/site-packages/IPython/core/interactiveshell.py\u001b[0m in \u001b[0;36mrun_ast_nodes\u001b[0;34m(self, nodelist, cell_name, interactivity, compiler, result)\u001b[0m\n\u001b[1;32m   3355\u001b[0m             \u001b[0;32mif\u001b[0m \u001b[0mresult\u001b[0m\u001b[0;34m:\u001b[0m\u001b[0;34m\u001b[0m\u001b[0;34m\u001b[0m\u001b[0m\n\u001b[1;32m   3356\u001b[0m                 \u001b[0mresult\u001b[0m\u001b[0;34m.\u001b[0m\u001b[0merror_before_exec\u001b[0m \u001b[0;34m=\u001b[0m \u001b[0msys\u001b[0m\u001b[0;34m.\u001b[0m\u001b[0mexc_info\u001b[0m\u001b[0;34m(\u001b[0m\u001b[0;34m)\u001b[0m\u001b[0;34m[\u001b[0m\u001b[0;36m1\u001b[0m\u001b[0;34m]\u001b[0m\u001b[0;34m\u001b[0m\u001b[0;34m\u001b[0m\u001b[0m\n\u001b[0;32m-> 3357\u001b[0;31m             \u001b[0mself\u001b[0m\u001b[0;34m.\u001b[0m\u001b[0mshowtraceback\u001b[0m\u001b[0;34m(\u001b[0m\u001b[0;34m)\u001b[0m\u001b[0;34m\u001b[0m\u001b[0;34m\u001b[0m\u001b[0m\n\u001b[0m\u001b[1;32m   3358\u001b[0m             \u001b[0;32mreturn\u001b[0m \u001b[0;32mTrue\u001b[0m\u001b[0;34m\u001b[0m\u001b[0;34m\u001b[0m\u001b[0m\n\u001b[1;32m   3359\u001b[0m \u001b[0;34m\u001b[0m\u001b[0m\n",
      "\u001b[0;32m~/anaconda3/envs/NIRN/lib/python3.7/site-packages/IPython/core/interactiveshell.py\u001b[0m in \u001b[0;36mshowtraceback\u001b[0;34m(self, exc_tuple, filename, tb_offset, exception_only, running_compiled_code)\u001b[0m\n\u001b[1;32m   2046\u001b[0m                     \u001b[0;32mexcept\u001b[0m \u001b[0mException\u001b[0m\u001b[0;34m:\u001b[0m\u001b[0;34m\u001b[0m\u001b[0;34m\u001b[0m\u001b[0m\n\u001b[1;32m   2047\u001b[0m                         stb = self.InteractiveTB.structured_traceback(etype,\n\u001b[0;32m-> 2048\u001b[0;31m                                             value, tb, tb_offset=tb_offset)\n\u001b[0m\u001b[1;32m   2049\u001b[0m \u001b[0;34m\u001b[0m\u001b[0m\n\u001b[1;32m   2050\u001b[0m                     \u001b[0mself\u001b[0m\u001b[0;34m.\u001b[0m\u001b[0m_showtraceback\u001b[0m\u001b[0;34m(\u001b[0m\u001b[0metype\u001b[0m\u001b[0;34m,\u001b[0m \u001b[0mvalue\u001b[0m\u001b[0;34m,\u001b[0m \u001b[0mstb\u001b[0m\u001b[0;34m)\u001b[0m\u001b[0;34m\u001b[0m\u001b[0;34m\u001b[0m\u001b[0m\n",
      "\u001b[0;32m~/anaconda3/envs/NIRN/lib/python3.7/site-packages/IPython/core/ultratb.py\u001b[0m in \u001b[0;36mstructured_traceback\u001b[0;34m(self, etype, value, tb, tb_offset, number_of_lines_of_context)\u001b[0m\n\u001b[1;32m   1435\u001b[0m             \u001b[0mself\u001b[0m\u001b[0;34m.\u001b[0m\u001b[0mtb\u001b[0m \u001b[0;34m=\u001b[0m \u001b[0mtb\u001b[0m\u001b[0;34m\u001b[0m\u001b[0;34m\u001b[0m\u001b[0m\n\u001b[1;32m   1436\u001b[0m         return FormattedTB.structured_traceback(\n\u001b[0;32m-> 1437\u001b[0;31m             self, etype, value, tb, tb_offset, number_of_lines_of_context)\n\u001b[0m\u001b[1;32m   1438\u001b[0m \u001b[0;34m\u001b[0m\u001b[0m\n\u001b[1;32m   1439\u001b[0m \u001b[0;34m\u001b[0m\u001b[0m\n",
      "\u001b[0;32m~/anaconda3/envs/NIRN/lib/python3.7/site-packages/IPython/core/ultratb.py\u001b[0m in \u001b[0;36mstructured_traceback\u001b[0;34m(self, etype, value, tb, tb_offset, number_of_lines_of_context)\u001b[0m\n\u001b[1;32m   1335\u001b[0m             \u001b[0;31m# Verbose modes need a full traceback\u001b[0m\u001b[0;34m\u001b[0m\u001b[0;34m\u001b[0m\u001b[0;34m\u001b[0m\u001b[0m\n\u001b[1;32m   1336\u001b[0m             return VerboseTB.structured_traceback(\n\u001b[0;32m-> 1337\u001b[0;31m                 \u001b[0mself\u001b[0m\u001b[0;34m,\u001b[0m \u001b[0metype\u001b[0m\u001b[0;34m,\u001b[0m \u001b[0mvalue\u001b[0m\u001b[0;34m,\u001b[0m \u001b[0mtb\u001b[0m\u001b[0;34m,\u001b[0m \u001b[0mtb_offset\u001b[0m\u001b[0;34m,\u001b[0m \u001b[0mnumber_of_lines_of_context\u001b[0m\u001b[0;34m\u001b[0m\u001b[0;34m\u001b[0m\u001b[0m\n\u001b[0m\u001b[1;32m   1338\u001b[0m             )\n\u001b[1;32m   1339\u001b[0m         \u001b[0;32melif\u001b[0m \u001b[0mmode\u001b[0m \u001b[0;34m==\u001b[0m \u001b[0;34m'Minimal'\u001b[0m\u001b[0;34m:\u001b[0m\u001b[0;34m\u001b[0m\u001b[0;34m\u001b[0m\u001b[0m\n",
      "\u001b[0;32m~/anaconda3/envs/NIRN/lib/python3.7/site-packages/IPython/core/ultratb.py\u001b[0m in \u001b[0;36mstructured_traceback\u001b[0;34m(self, etype, evalue, etb, tb_offset, number_of_lines_of_context)\u001b[0m\n\u001b[1;32m   1210\u001b[0m         \u001b[0;32mwhile\u001b[0m \u001b[0mevalue\u001b[0m\u001b[0;34m:\u001b[0m\u001b[0;34m\u001b[0m\u001b[0;34m\u001b[0m\u001b[0m\n\u001b[1;32m   1211\u001b[0m             formatted_exceptions += self.format_exception_as_a_whole(etype, evalue, etb, lines_of_context,\n\u001b[0;32m-> 1212\u001b[0;31m                                                                      chained_exceptions_tb_offset)\n\u001b[0m\u001b[1;32m   1213\u001b[0m             \u001b[0mexception\u001b[0m \u001b[0;34m=\u001b[0m \u001b[0mself\u001b[0m\u001b[0;34m.\u001b[0m\u001b[0mget_parts_of_chained_exception\u001b[0m\u001b[0;34m(\u001b[0m\u001b[0mevalue\u001b[0m\u001b[0;34m)\u001b[0m\u001b[0;34m\u001b[0m\u001b[0;34m\u001b[0m\u001b[0m\n\u001b[1;32m   1214\u001b[0m \u001b[0;34m\u001b[0m\u001b[0m\n",
      "\u001b[0;32m~/anaconda3/envs/NIRN/lib/python3.7/site-packages/IPython/core/ultratb.py\u001b[0m in \u001b[0;36mformat_exception_as_a_whole\u001b[0;34m(self, etype, evalue, etb, number_of_lines_of_context, tb_offset)\u001b[0m\n\u001b[1;32m   1149\u001b[0m \u001b[0;34m\u001b[0m\u001b[0m\n\u001b[1;32m   1150\u001b[0m \u001b[0;34m\u001b[0m\u001b[0m\n\u001b[0;32m-> 1151\u001b[0;31m         \u001b[0mlast_unique\u001b[0m\u001b[0;34m,\u001b[0m \u001b[0mrecursion_repeat\u001b[0m \u001b[0;34m=\u001b[0m \u001b[0mfind_recursion\u001b[0m\u001b[0;34m(\u001b[0m\u001b[0morig_etype\u001b[0m\u001b[0;34m,\u001b[0m \u001b[0mevalue\u001b[0m\u001b[0;34m,\u001b[0m \u001b[0mrecords\u001b[0m\u001b[0;34m)\u001b[0m\u001b[0;34m\u001b[0m\u001b[0;34m\u001b[0m\u001b[0m\n\u001b[0m\u001b[1;32m   1152\u001b[0m \u001b[0;34m\u001b[0m\u001b[0m\n\u001b[1;32m   1153\u001b[0m         \u001b[0mframes\u001b[0m \u001b[0;34m=\u001b[0m \u001b[0mself\u001b[0m\u001b[0;34m.\u001b[0m\u001b[0mformat_records\u001b[0m\u001b[0;34m(\u001b[0m\u001b[0mrecords\u001b[0m\u001b[0;34m,\u001b[0m \u001b[0mlast_unique\u001b[0m\u001b[0;34m,\u001b[0m \u001b[0mrecursion_repeat\u001b[0m\u001b[0;34m)\u001b[0m\u001b[0;34m\u001b[0m\u001b[0;34m\u001b[0m\u001b[0m\n",
      "\u001b[0;32m~/anaconda3/envs/NIRN/lib/python3.7/site-packages/IPython/core/ultratb.py\u001b[0m in \u001b[0;36mfind_recursion\u001b[0;34m(etype, value, records)\u001b[0m\n\u001b[1;32m    449\u001b[0m     \u001b[0;31m# first frame (from in to out) that looks different.\u001b[0m\u001b[0;34m\u001b[0m\u001b[0;34m\u001b[0m\u001b[0;34m\u001b[0m\u001b[0m\n\u001b[1;32m    450\u001b[0m     \u001b[0;32mif\u001b[0m \u001b[0;32mnot\u001b[0m \u001b[0mis_recursion_error\u001b[0m\u001b[0;34m(\u001b[0m\u001b[0metype\u001b[0m\u001b[0;34m,\u001b[0m \u001b[0mvalue\u001b[0m\u001b[0;34m,\u001b[0m \u001b[0mrecords\u001b[0m\u001b[0;34m)\u001b[0m\u001b[0;34m:\u001b[0m\u001b[0;34m\u001b[0m\u001b[0;34m\u001b[0m\u001b[0m\n\u001b[0;32m--> 451\u001b[0;31m         \u001b[0;32mreturn\u001b[0m \u001b[0mlen\u001b[0m\u001b[0;34m(\u001b[0m\u001b[0mrecords\u001b[0m\u001b[0;34m)\u001b[0m\u001b[0;34m,\u001b[0m \u001b[0;36m0\u001b[0m\u001b[0;34m\u001b[0m\u001b[0;34m\u001b[0m\u001b[0m\n\u001b[0m\u001b[1;32m    452\u001b[0m \u001b[0;34m\u001b[0m\u001b[0m\n\u001b[1;32m    453\u001b[0m     \u001b[0;31m# Select filename, lineno, func_name to track frames with\u001b[0m\u001b[0;34m\u001b[0m\u001b[0;34m\u001b[0m\u001b[0;34m\u001b[0m\u001b[0m\n",
      "\u001b[0;31mTypeError\u001b[0m: object of type 'NoneType' has no len()"
     ]
    }
   ],
   "source": [
    "from main import simulate, processing_only\n",
    "\n",
    "system_cfg_path = ['cfg_files/square.cfg']\n",
    "simulation_cfg_path = ['cfg_files/simulation.cfg']\n",
    "processing_simulation_path = ['cfg_files/processing.cfg']\n",
    "\n",
    "for system, simu, proc in zip(system_cfg_path, simulation_cfg_path, processing_simulation_path):\n",
    "    simulate(system, simu, proc)"
   ]
  },
  {
   "cell_type": "code",
   "execution_count": null,
   "id": "verified-prime",
   "metadata": {},
   "outputs": [],
   "source": []
  },
  {
   "cell_type": "code",
   "execution_count": null,
   "id": "suspended-administrator",
   "metadata": {},
   "outputs": [],
   "source": []
  }
 ],
 "metadata": {
  "kernelspec": {
   "display_name": "Python 3",
   "language": "python",
   "name": "python3"
  },
  "language_info": {
   "codemirror_mode": {
    "name": "ipython",
    "version": 3
   },
   "file_extension": ".py",
   "mimetype": "text/x-python",
   "name": "python",
   "nbconvert_exporter": "python",
   "pygments_lexer": "ipython3",
   "version": "3.7.9"
  }
 },
 "nbformat": 4,
 "nbformat_minor": 5
}
