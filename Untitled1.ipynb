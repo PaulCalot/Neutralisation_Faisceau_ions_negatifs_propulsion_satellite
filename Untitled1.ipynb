{
 "cells": [
  {
   "cell_type": "code",
   "execution_count": null,
   "id": "clinical-melbourne",
   "metadata": {},
   "outputs": [
    {
     "name": "stderr",
     "output_type": "stream",
     "text": [
      "  2%|▏         | 55/3000 [03:57<4:15:24,  5.20s/it]"
     ]
    }
   ],
   "source": [
    "from main import simulate, processing_only\n",
    "\n",
    "system_cfg_path = ['cfg_files/square.cfg']\n",
    "simulation_cfg_path = ['cfg_files/simulation.cfg']\n",
    "processing_simulation_path = ['cfg_files/processing.cfg']\n",
    "\n",
    "for system, simu, proc in zip(system_cfg_path, simulation_cfg_path, processing_simulation_path):\n",
    "    simulate(system, simu, proc)"
   ]
  },
  {
   "cell_type": "code",
   "execution_count": null,
   "id": "grateful-guard",
   "metadata": {},
   "outputs": [],
   "source": []
  },
  {
   "cell_type": "code",
   "execution_count": null,
   "id": "differential-order",
   "metadata": {},
   "outputs": [],
   "source": []
  }
 ],
 "metadata": {
  "kernelspec": {
   "display_name": "Python 3",
   "language": "python",
   "name": "python3"
  },
  "language_info": {
   "codemirror_mode": {
    "name": "ipython",
    "version": 3
   },
   "file_extension": ".py",
   "mimetype": "text/x-python",
   "name": "python",
   "nbconvert_exporter": "python",
   "pygments_lexer": "ipython3",
   "version": "3.7.9"
  }
 },
 "nbformat": 4,
 "nbformat_minor": 5
}
