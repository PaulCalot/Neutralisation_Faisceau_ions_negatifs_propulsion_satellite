{
 "cells": [
  {
   "cell_type": "code",
   "execution_count": 1,
   "id": "recorded-basic",
   "metadata": {},
   "outputs": [],
   "source": [
    "from pprint import pprint\n",
    "# importing functions and modules useful for launching simulations\n",
    "from main import get_options, get_min_mean_free_path, init_particles_in_system\n",
    "from main import square, thruster\n",
    "from main import CollisionHandler, DSMC\n",
    "from main import scipy_integrate_solve_ivp, rk4, euler_explicit\n",
    "from main import DataAnalyser, DataSaver\n",
    "from main import available_particles\n",
    "from main import post_processing\n",
    "from main import convert_list_to_string\n",
    "from collections import OrderedDict"
   ]
  },
  {
   "cell_type": "code",
   "execution_count": 2,
   "id": "color-packet",
   "metadata": {},
   "outputs": [],
   "source": [
    "debug = False"
   ]
  },
  {
   "cell_type": "code",
   "execution_count": 3,
   "id": "confident-turkey",
   "metadata": {},
   "outputs": [],
   "source": [
    "system_cfg = 'cfg_files/square.cfg' # square, thruster, \n",
    "simulation_cfg = 'cfg_files/simulation.cfg'\n",
    "processing_cfg = 'cfg_files/processing.cfg'\n",
    "\n",
    "list_cfg_files = [system_cfg, simulation_cfg, processing_cfg]\n",
    "\n",
    "cfg_path_dict = {\n",
    "    'system':system_cfg,\n",
    "    'simulation':simulation_cfg,\n",
    "    'processing':processing_cfg\n",
    "}"
   ]
  },
  {
   "cell_type": "code",
   "execution_count": 4,
   "id": "deadly-change",
   "metadata": {},
   "outputs": [],
   "source": [
    "options = get_options(cfg_path_dict)\n",
    "if(debug): pprint(options)"
   ]
  },
  {
   "cell_type": "markdown",
   "id": "signal-brother",
   "metadata": {},
   "source": [
    "## Building system"
   ]
  },
  {
   "cell_type": "code",
   "execution_count": 5,
   "id": "tamil-greene",
   "metadata": {},
   "outputs": [],
   "source": [
    "types = options['system']['particles_types']\n",
    "charges = [available_particles[type_]['charge'] for type_ in types]\n",
    "masses = [available_particles[type_]['mass'] for type_ in types]\n",
    "effective_diameters = [available_particles[type_]['effective diameter'] for type_ in types]\n",
    "\n",
    "min_mean_free_path = get_min_mean_free_path(effective_diameters = effective_diameters, particles_densities = options['system']['particles_densities'])\n",
    "\n",
    "if(debug): \n",
    "    print('Types : {}'.format(types))\n",
    "    print('Charges in C : {}'.format(charges))\n",
    "    print('Masses in kg : {}'.format(masses))\n",
    "    print('Effective diameters in m : {}'.format(effective_diameters))\n",
    "    print('Min mean free path : {} m.'.format(min_mean_free_path))"
   ]
  },
  {
   "cell_type": "code",
   "execution_count": 6,
   "id": "fuzzy-macedonia",
   "metadata": {},
   "outputs": [],
   "source": [
    "system_type = options['system']['system_type']\n",
    "\n",
    "if(system_type=='square'):\n",
    "    system = square(options['system'], min_mean_free_path)\n",
    "    zone = None\n",
    "    offset = [0,0]\n",
    "    \n",
    "elif(system_type=='thruster'):\n",
    "    system = thruster(options['system'], min_mean_free_path)\n",
    "    zone = system.get_zone()\n",
    "    offset = system.get_offset()"
   ]
  },
  {
   "cell_type": "markdown",
   "id": "executed-crisis",
   "metadata": {},
   "source": [
    "## Initializing particles"
   ]
  },
  {
   "cell_type": "code",
   "execution_count": 7,
   "id": "assisted-scheduling",
   "metadata": {},
   "outputs": [
    {
     "data": {
      "image/png": "[encoded data removed]",
      "text/plain": [
       "<Figure size 432x288 with 1 Axes>"
      ]
     },
     "metadata": {
      "needs_background": "light"
     },
     "output_type": "display_data"
    }
   ],
   "source": [
    "lx, ly, lz = system.get_size()\n",
    "res_x, res_y = system.get_space_resolutions()\n",
    "#flux_in, flux_out = \n",
    "if(debug):\n",
    "    print('Space size : {}'.format(system.get_size()))\n",
    "    print('Resolution : {}'.format(system.get_space_resolutions()))\n",
    "list_particles, vmean_exp = init_particles_in_system(**options['system'], space_size = [lx,ly], space_resolution=[res_x, res_y], flux = [], zone = zone, offsets = offset, verbose = False, debug = False)\n",
    "\n",
    "if(vmean_exp==0):\n",
    "    vmean_exp = 300\n",
    "# adding particles to the grid\n",
    "for particle in list_particles:\n",
    "    system.add(particle)\n",
    "\n",
    "    # TODO : do as Lui said - don't save it this way. (its okay for now)\n",
    "if(system_type=='thruster'):\n",
    "    system.set_sparsed_space()\n",
    "    pprint(\"List of cases in the grid that are considered : {}\".format(system.grid.sparsed_space_idx))\n",
    "if(debug):\n",
    "    pprint({\n",
    "        'mean speed':vmean_exp,\n",
    "        'first particles':[part.to_string() for part in list_particles][:5],\n",
    "        'walls':system.get_walls()\n",
    "    })\n",
    "system.plot()"
   ]
  },
  {
   "cell_type": "markdown",
   "id": "treated-craps",
   "metadata": {},
   "source": [
    "## Preping simulation"
   ]
  },
  {
   "cell_type": "code",
   "execution_count": 8,
   "id": "favorite-blues",
   "metadata": {},
   "outputs": [],
   "source": [
    "# update function\n",
    "import numpy as np\n",
    "\n",
    "if(system_type=='thruster'):\n",
    "    from dolfin import Point\n",
    "\n",
    "    def f(Y,t,m,q,zone,E):\n",
    "        '''\n",
    "        Renvoie la dérivée de Y en y (en faisant un bilan des forces notamment) pr être entré dans RK4\n",
    "        Y=[x, y, z, vx, vy, vz] ce n'est pas le Y de liste_Y\n",
    "        '''\n",
    "        Ex, Ey = E.split(deepcopy=True)\n",
    "        vx=Y[3]\n",
    "        vy=Y[4]\n",
    "        vz=Y[5]\n",
    "        if zone.inside(Point(Y[0],Y[1])):\n",
    "            ax = (1/m) * q * Ex(Y[0], Y[1])\n",
    "            ay = (1/m) * q * Ey(Y[0], Y[1])\n",
    "        else :\n",
    "            ax = 0  #utile si les ki sont hors du mesh,\n",
    "            ay = 0\n",
    "        az=0\n",
    "        return np.array([vx, vy, vz, ax, ay, az])\n",
    "    \n",
    "    args = [system.get_zone(), system.get_E()]\n",
    "    \n",
    "elif(system_type=='square'):\n",
    "    def f(Y,t,m,q):\n",
    "        vx=Y[3]\n",
    "        vy=Y[4]\n",
    "        vz=Y[5]\n",
    "\n",
    "        ax = 0 \n",
    "        ay = 0\n",
    "        az = 0\n",
    "        return np.array([vx, vy, vz, ax, ay, az])\n",
    "    \n",
    "    args = []\n",
    "\n",
    "# DSMC params\n",
    "N_particles_real = [int(density*lx*ly*lz) for density in options['system']['particles_densities']] # this is the REAL number of particles\n",
    "N_particles_simu = [int(nb*res_x*res_y) for nb in options['system']['particles_mean_number_per_cell']]\n",
    "Ne = [i/j for i, j in zip(N_particles_real,N_particles_simu)]\n",
    "\n",
    "# TODO : see the adaptations for the DMSC with several species of particles\n",
    "\n",
    "mean_speed = vmean_exp\n",
    "DSMC_params = {\n",
    "    'vr_max' : 2*mean_speed,\n",
    "    'effective_diameter':  effective_diameters[0], # for now\n",
    "    'Ne' : Ne[0], # this is the number of real particles one simulated particle represents.\n",
    "    'cell_volume' : lx*ly*lz/(res_x*res_y), # since we are in 2D I don't really know what to add here actually... For now, I add the 3rd dimension rough size, that is l3\n",
    "    'mean_particles_number_per_cell': sum(options['system']['particles_mean_number_per_cell']) # we don't account for the type\n",
    "}\n",
    "\n",
    "if(debug):\n",
    "    pprint([N_particles_real, N_particles_simu, Ne, DSMC_params])\n",
    "    \n",
    "    \n",
    "use_particles_collisions = False\n",
    "use_DSMC = True\n",
    "\n",
    "simu = options['simulation']\n",
    "if(simu['scheme']=='euler_explicit'):\n",
    "    integration_scheme = euler_explicit # scipy_integrate_solve_ivp , rk4 , euler_explicit\n",
    "    # TODO : make a function get_scheme(str)\n",
    "\n",
    "system.init_dsmc(mean_speed = vmean_exp, integration_scheme = integration_scheme, f = f, f_args = args)\n",
    "#handler = DSMC(system = system, dsmc_params = DSMC_params, integration_scheme = integration_scheme, f = f)"
   ]
  },
  {
   "cell_type": "markdown",
   "id": "blind-gazette",
   "metadata": {},
   "source": [
    "## Launching Simulation"
   ]
  },
  {
   "cell_type": "code",
   "execution_count": 9,
   "id": "mental-judgment",
   "metadata": {},
   "outputs": [],
   "source": [
    "from tqdm import tqdm\n",
    "\n",
    "min_mean_free_time = min_mean_free_path/mean_speed\n",
    "dt = simu['dt']*min_mean_free_time\n",
    "t = 0\n",
    "MAX_INTEGRATION_STEP = simu['number_of_steps']\n",
    "save_test = options['processing']['save']"
   ]
  },
  {
   "cell_type": "code",
   "execution_count": 10,
   "id": "million-means",
   "metadata": {},
   "outputs": [],
   "source": [
    "if(save_test):\n",
    "    saving_period = options['processing']['period']\n",
    "    dir_saving = options['processing']['path']\n",
    "    path_saving = dir_saving/(options['processing']['id_test']+'.csv')\n",
    "    params_dict = OrderedDict()\n",
    "    \n",
    "    # general :\n",
    "    params_dict['id_test']= options['processing']['id_test']\n",
    "    params_dict['path_to_data'] = str(path_saving) # absolute path\n",
    "\n",
    "    # on results of the simulation\n",
    "    params_dict['number_of_collisions'] = '0'\n",
    "    params_dict['mean_acceptance_rate'] = '0'\n",
    "    params_dict['mean_proba'] = '0'\n",
    "    params_dict['mean_vr_norm'] = '0'\n",
    "    # on system =\n",
    "    params_dict['nb_cells'] = str(system.get_number_of_cells())\n",
    "    params_dict['volume'] = str(lx*ly*lz)\n",
    "    params_dict['x_min'] = str(offset[0])\n",
    "    params_dict['x_max'] = str(offset[0]+lx)\n",
    "    params_dict['y_min'] = str(offset[1])\n",
    "    params_dict['y_max'] = str(offset[1]+ly)\n",
    "    # on particles =\n",
    "    params_dict['total_number_of_particles'] = str(system.get_number_of_particles())\n",
    "    params_dict['particles_types'] = convert_list_to_string(types)\n",
    "    params_dict['particles_charges'] = convert_list_to_string(charges)\n",
    "    params_dict['particles_masses'] = convert_list_to_string(masses)\n",
    "    params_dict['particles_effective_diameters'] = convert_list_to_string(effective_diameters)\n",
    "    params_dict['particles_densities'] = convert_list_to_string(options['system']['particles_densities']),\n",
    "    params_dict['nb_parts_per_type'] = convert_list_to_string(N_particles_simu)\n",
    "    params_dict['nb_parts_real_per_type'] = convert_list_to_string(N_particles_real)\n",
    "    params_dict['Ne_per_type'] = convert_list_to_string(Ne)\n",
    "    params_dict['mean_particles_number_per_cell_per_type'] = convert_list_to_string(options['system']['particles_mean_number_per_cell'])\n",
    "        # deduction\n",
    "    params_dict['min_mean_free_path'] = str(min_mean_free_path)\n",
    "    params_dict['min_mean_free_time'] = str(min_mean_free_time)\n",
    "        # on speed\n",
    "    params_dict['speed_init_type'] = convert_list_to_string(options['system']['speed_type'])\n",
    "    params_dict['v_mean'] = str(vmean_exp)\n",
    "    params_dict['vr_max_init'] = str(DSMC_params['vr_max'])\n",
    "    params_dict['vr_max_final'] = '0'\n",
    "\n",
    "    # on simulation params =\n",
    "    params_dict['dt'] = str(dt)\n",
    "    params_dict['MAX_INTEGRATION_STEP'] = str(MAX_INTEGRATION_STEP)\n",
    "    params_dict['integration_scheme'] = integration_scheme.__name__\n",
    "    #'eta'= eta\n",
    "    #'loss_charge_proba' = p\n",
    "        \n",
    "    # on saving params\n",
    "    params_dict['saving_period'] = str(saving_period) \n",
    "                \n",
    "    if(debug): pprint(params_dict)\n",
    "    data_analyser = DataSaver(name_test = options['processing']['id_test']+'.csv', saving_directory = dir_saving)\n",
    "    data_analyser.save_test_params(dir_saving/'params.csv', params_dict, use_saving_directory = True)"
   ]
  },
  {
   "cell_type": "code",
   "execution_count": 11,
   "id": "extended-tsunami",
   "metadata": {},
   "outputs": [],
   "source": [
    "import matplotlib\n",
    "import matplotlib.pyplot as plt\n",
    "import matplotlib.animation as animation\n",
    "\n",
    "def draw_hist_distribution(system, dt, max_int, path, interval = 200, save_animation = True): # interval : time in ms\n",
    "    \n",
    "    def update(num, dt):\n",
    "        print(\"Iteration {} - nb of particles : {}\".format(num, system.get_number_of_particles()))\n",
    "        plt.cla() # clf\n",
    "        t = dt*num\n",
    "        # make several steps - no need to plot all of them\n",
    "        system.step(dt, t)\n",
    "        system.plot()\n",
    "\n",
    "    fig, ax = plt.subplots(dpi=300, tight_layout=True) # figsize=(3,20)\n",
    "    #ax.set_aspect('equal', 'box')        \n",
    "    \n",
    "    system.plot()\n",
    "    anim = animation.FuncAnimation(fig, update, interval=interval, frames=max_int, fargs=(dt, ), save_count=max_int)\n",
    "\n",
    "    if(save_animation):\n",
    "        anim.save(path/'system_evolution.mp4', dpi=300)\n",
    "    else:\n",
    "        plt.show()"
   ]
  },
  {
   "cell_type": "code",
   "execution_count": 12,
   "id": "better-rachel",
   "metadata": {},
   "outputs": [
    {
     "name": "stdout",
     "output_type": "stream",
     "text": [
      "{'in_wall': [0.0, 0.0, 0.0, 0.001], 'in_direction': (1.0, -0.0), 'out_wall': [0.1, 0.0, 0.1, 0.001], 'out_direction': (1.0, -0.0)}\n"
     ]
    }
   ],
   "source": [
    "print(system.flux_params)"
   ]
  },
  {
   "cell_type": "code",
   "execution_count": 13,
   "id": "functioning-hebrew",
   "metadata": {},
   "outputs": [],
   "source": [
    "#draw_hist_distribution(system, dt, MAX_INTEGRATION_STEP, path = options['processing']['path'], interval = 200)"
   ]
  },
  {
   "cell_type": "code",
   "execution_count": 14,
   "id": "psychological-insight",
   "metadata": {},
   "outputs": [
    {
     "name": "stderr",
     "output_type": "stream",
     "text": [
      "100%|██████████| 200/200 [12:13<00:00,  3.67s/it]\n"
     ]
    }
   ],
   "source": [
    "\n",
    "handler = system.dsmc\n",
    "for k in tqdm(range(MAX_INTEGRATION_STEP)): #\n",
    "    if(debug): print(\"\\nStep {} over {}...\\n\".format(k+1, MAX_INTEGRATION_STEP))\n",
    "    system.step(dt, t)\n",
    "    t+=dt\n",
    "    list_particles = system.get_list_particles()\n",
    "    if(save_test and k%saving_period==0 or (k == MAX_INTEGRATION_STEP-1 and k%saving_period!=0)):\n",
    "        if(len(list_particles) > 0):\n",
    "            data_analyser.save_everything_to_one_csv(list_particles = list_particles, iteration = k, erase = True)\n",
    "        handler.save_collisions_matrix(name = dir_saving/(\"test_\"+params_dict['id_test']+\"_collision_matrix.txt\"), iteration = k)\n",
    "        \n",
    "# last saving\n",
    "number_of_collisions = handler.get_collisions_count()\n",
    "mean_acceptance_rate = handler.get_acceptance_rate()\n",
    "mean_vr_norm = handler.get_mean_vr_norm()\n",
    "vr_max_final = handler.get_vr_norm()\n",
    "mean_proba = handler.get_mean_proba()\n",
    "\n",
    "# saving again to the csv.\n",
    "params_dict['mean_proba']=str(mean_proba)\n",
    "params_dict['number_of_collisions']=str(number_of_collisions)\n",
    "params_dict['mean_acceptance_rate']=str(mean_acceptance_rate)\n",
    "params_dict['mean_vr_norm']=str(mean_vr_norm)\n",
    "params_dict['vr_max']=str(vr_max_final)\n",
    "if(debug): pprint(params_dict)\n",
    "data_analyser.update_saved_params(dir_saving/'params.csv', params_dict, use_saving_directory = False)"
   ]
  },
  {
   "cell_type": "code",
   "execution_count": 16,
   "id": "wanted-obligation",
   "metadata": {},
   "outputs": [
    {
     "name": "stdout",
     "output_type": "stream",
     "text": [
      "First time test 3 is loaded. Computing speed norm and saving it back.\n"
     ]
    },
    {
     "name": "stderr",
     "output_type": "stream",
     "text": [
      "No handles with labels found to put in legend.\n",
      "No handles with labels found to put in legend.\n",
      "No handles with labels found to put in legend.\n",
      "No handles with labels found to put in legend.\n",
      "No handles with labels found to put in legend.\n",
      "No handles with labels found to put in legend.\n"
     ]
    },
    {
     "name": "stdout",
     "output_type": "stream",
     "text": [
      "Equilibrium variance = 17249.79642574691 m2/s2\n",
      "T_0 = 19050.142731207776 K\n",
      "For test 3, N_e = 1.460124e+13 vs N_t = 80000000000000.0.\n"
     ]
    },
    {
     "data": {
      "text/plain": [
       "<Figure size 720x720 with 0 Axes>"
      ]
     },
     "metadata": {},
     "output_type": "display_data"
    }
   ],
   "source": [
    "# post processing\n",
    "#if(save_test): # before starting simulation\n",
    "post_processing(options['processing'])"
   ]
  },
  {
   "cell_type": "code",
   "execution_count": 17,
   "id": "dedicated-talent",
   "metadata": {},
   "outputs": [],
   "source": [
    "from shutil import copyfile, copy \n",
    "from os import mkdir\n",
    "if(save_test):\n",
    "    for file in list_cfg_files:\n",
    "        copy(src = file, dst = dir_saving/\"cfg_files/\")"
   ]
  },
  {
   "cell_type": "code",
   "execution_count": null,
   "id": "disturbed-apollo",
   "metadata": {},
   "outputs": [],
   "source": []
  },
  {
   "cell_type": "code",
   "execution_count": null,
   "id": "judicial-situation",
   "metadata": {},
   "outputs": [],
   "source": []
  }
 ],
 "metadata": {
  "kernelspec": {
   "display_name": "Python 3",
   "language": "python",
   "name": "python3"
  },
  "language_info": {
   "codemirror_mode": {
    "name": "ipython",
    "version": 3
   },
   "file_extension": ".py",
   "mimetype": "text/x-python",
   "name": "python",
   "nbconvert_exporter": "python",
   "pygments_lexer": "ipython3",
   "version": "3.7.9"
  }
 },
 "nbformat": 4,
 "nbformat_minor": 5
}
