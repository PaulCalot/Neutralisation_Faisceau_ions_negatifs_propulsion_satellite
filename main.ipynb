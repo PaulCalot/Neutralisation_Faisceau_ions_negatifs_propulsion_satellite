{
 "cells": [
  {
   "cell_type": "code",
   "execution_count": null,
   "id": "ceramic-ballet",
   "metadata": {},
   "outputs": [],
   "source": [
    "from pprint import pprint\n",
    "# importing functions and modules useful for launching simulations\n",
    "from main import get_options, get_min_mean_free_path, init_particles_in_system\n",
    "from main import square, thruster\n",
    "from main import CollisionHandler, DSMC\n",
    "from main import scipy_integrate_solve_ivp, rk4, \n",
    "from main import DataAnalyser, DataSaver"
   ]
  },
  {
   "cell_type": "code",
   "execution_count": null,
   "id": "motivated-realtor",
   "metadata": {},
   "outputs": [],
   "source": [
    "debug = True"
   ]
  },
  {
   "cell_type": "code",
   "execution_count": null,
   "id": "worth-diversity",
   "metadata": {},
   "outputs": [],
   "source": [
    "# defining paths to cfg \n",
    "main = 'cfg_files/main.cfg'\n",
    "system = 'cfg_files/tube.cfg' # square thruster tube\n",
    "saving = 'cfg_files/saving.cfg'\n",
    "simulation = 'cfg_files/simulation.cfg'\n",
    "\n",
    "cfg_path_dict = {\n",
    "    'main':main,\n",
    "    'system':system,\n",
    "    'saving':saving,\n",
    "    'simulation':simulation\n",
    "}"
   ]
  },
  {
   "cell_type": "code",
   "execution_count": null,
   "id": "religious-floor",
   "metadata": {},
   "outputs": [],
   "source": [
    "options = get_options(cfg_path_dict)\n",
    "if(debug): pprint(options)"
   ]
  },
  {
   "cell_type": "markdown",
   "id": "disciplinary-variety",
   "metadata": {},
   "source": [
    "## Building system"
   ]
  },
  {
   "cell_type": "code",
   "execution_count": null,
   "id": "upset-combine",
   "metadata": {},
   "outputs": [],
   "source": [
    "min_mean_free_path = get_min_mean_free_path(radiuses = options['main']['particles_radius'], particles_densities = options['main']['particles_densities'])\n",
    "if(debug): print('Min mean free path : {} m.'.format(min_mean_free_path))"
   ]
  },
  {
   "cell_type": "code",
   "execution_count": null,
   "id": "atmospheric-mechanics",
   "metadata": {},
   "outputs": [],
   "source": [
    "system_type = options['main']['system_type']\n",
    "\n",
    "if(system_type=='square'):\n",
    "    system = square(options[system_type], min_mean_free_path)\n",
    "    zone = None\n",
    "    offset = [0,0]\n",
    "    \n",
    "elif(system_type=='thruster'):\n",
    "    system = thruster(options[system_type], min_mean_free_path)\n",
    "    zone = system.get_zone()\n",
    "    offset = system.get_offset()"
   ]
  },
  {
   "cell_type": "markdown",
   "id": "prime-funeral",
   "metadata": {},
   "source": [
    "## Initializing particles"
   ]
  },
  {
   "cell_type": "code",
   "execution_count": null,
   "id": "vertical-robertson",
   "metadata": {},
   "outputs": [],
   "source": [
    "lx, ly, lz = system.get_size()\n",
    "res_x, res_y = system.get_space_resolutions()\n",
    "if(debug):\n",
    "    print('Space size : {}'.format(system.get_size()))\n",
    "    print('Resolution : {}'.format(system.get_space_resolutions()))\n",
    "list_particles, vmean_exp = init_particles_in_system(**options['main'], space_size = [lx,ly], space_resolution=[res_x, res_y], zone = zone, offsets = offset, verbose = False, debug = False)\n",
    "# adding particles to the grid\n",
    "for particle in list_particles:\n",
    "    system.add(particle)\n",
    "\n",
    "    # TODO : do as Lui said - don't save it this way. (its okay for now)\n",
    "if(system_type=='thruster'):\n",
    "    system.set_sparsed_space()\n",
    "    pprint(\"List of cases in the grid that are considered : {}\".format(system.grid.sparsed_space_idx))\n",
    "if(debug):\n",
    "    pprint({\n",
    "        'mean speed':vmean_exp,\n",
    "        'first particles':[part.to_string() for part in list_particles][:5],\n",
    "        'walls':system.get_walls()\n",
    "    })\n",
    "system.plot()\n"
   ]
  },
  {
   "cell_type": "markdown",
   "id": "neither-riding",
   "metadata": {},
   "source": [
    "## Preping simulation"
   ]
  },
  {
   "cell_type": "code",
   "execution_count": null,
   "id": "gothic-galaxy",
   "metadata": {},
   "outputs": [],
   "source": [
    "# update function\n",
    "import numpy as np\n",
    "\n",
    "if(system_type=='thruster'):\n",
    "    from dolfin import Point\n",
    "\n",
    "    def f(Y,t,m,q,zone,E):\n",
    "        '''\n",
    "        Renvoie la dérivée de Y en y (en faisant un bilan des forces notamment) pr être entré dans RK4\n",
    "        Y=[x, y, z, vx, vy, vz] ce n'est pas le Y de liste_Y\n",
    "        '''\n",
    "        Ex, Ey = E.split(deepcopy=True)\n",
    "        vx=Y[3]\n",
    "        vy=Y[4]\n",
    "        vz=Y[5]\n",
    "        if zone.inside(Point(Y[0],Y[1])):\n",
    "            ax = (1/m) * q * Ex(Y[0], Y[1])\n",
    "            ay = (1/m) * q * Ey(Y[0], Y[1])\n",
    "        else :\n",
    "            ax = 0  #utile si les ki sont hors du mesh,\n",
    "            ay = 0\n",
    "        az=0\n",
    "        return np.array([vx, vy, vz, ax, ay, az])\n",
    "    \n",
    "    args = [system.get_zone(), system.get_E()]\n",
    "    \n",
    "elif(system_type=='square'):\n",
    "    def f(Y,t,m,q):\n",
    "        vx=Y[3]\n",
    "        vy=Y[4]\n",
    "        vz=Y[5]\n",
    "\n",
    "        ax = 0 \n",
    "        ay = 0\n",
    "        az = 0\n",
    "        return np.array([vx, vy, vz, ax, ay, az])\n",
    "    \n",
    "    args = []\n",
    "\n",
    "# DSMC params\n",
    "N_particles_real = [int(density*lx*ly*lz) for density in options['main']['particles_densities']] # this is the REAL number of particles\n",
    "N_particles_simu = [int(nb*res_x*res_y) for nb in options['main']['particles_mean_number_per_cell']]\n",
    "Ne = [i/j for i, j in zip(N_particles_real,N_particles_simu)]\n",
    "\n",
    "# TODO : see the adaptations for the DMSC with several species of particles\n",
    "\n",
    "mean_speed = 300\n",
    "DSMC_params = {\n",
    "    'vr_max' : 2*mean_speed,\n",
    "    'effective_diameter':  2*options['main']['particles_radius'][0], # for now\n",
    "    'Ne' : Ne[0], # this is the number of real particles one simulated particle represents.\n",
    "    'cell_volume' : lx*ly*lz/(res_x*res_y), # since we are in 2D I don't really know what to add here actually... For now, I add the 3rd dimension rough size, that is l3\n",
    "    'mean_particles_number_per_cell': sum(options['main']['particles_mean_number_per_cell']) # we don't account for the type\n",
    "}\n",
    "\n",
    "if(debug):\n",
    "    pprint([N_particles_real, N_particles_simu, Ne, DSMC_params])\n",
    "    \n",
    "    \n",
    "use_particles_collisions = False\n",
    "use_DSMC = True\n",
    "\n",
    "simu = options['simulation']\n",
    "if(simu['scheme']=='euler_explicit'):\n",
    "    integration_scheme = euler_explicit # scipy_integrate_solve_ivp , rk4 , euler_explicit\n",
    "    # TODO : make a function get_scheme(str)\n",
    "    \n",
    "# TODO : include system instead of everything else here.\n",
    "#collisionHandler = CollisionHandler(list_particles, system.get_walls(), f, eta = 0, p = 0, use_particles_collisions = use_particles_collisions, \\\n",
    "#        use_DSMC = use_DSMC, grid = system.get_grid(), DSMC_params = DSMC_params, integration_scheme=integration_scheme)\n",
    "handler = DSMC(system = system, dsmc_params = DSMC_params, integration_scheme = integration_scheme, f = f)"
   ]
  },
  {
   "cell_type": "markdown",
   "id": "played-quest",
   "metadata": {},
   "source": [
    "## Launching Simulation"
   ]
  },
  {
   "cell_type": "code",
   "execution_count": null,
   "id": "revised-syntax",
   "metadata": {},
   "outputs": [],
   "source": [
    "if(save_test):\n",
    "    params_dict = {\n",
    "        'id_test' : str(id_test),\n",
    "        'total_number_of_particles' : N_particles_simu,\n",
    "        'path_to_data' : saving_directory+str(id_test),\n",
    "        'real_particle_density' : real_particle_density,\n",
    "        'effective_diameter' : effective_diameter,\n",
    "        'max_speed' : max_speed,\n",
    "        'mean_particles_number_per_cell' : mean_particles_number_per_cell,\n",
    "        'nb_cells' : nb_cells,\n",
    "        'mean_free_path' : mean_free_path,\n",
    "        'mean_free_time' : mean_free_time,\n",
    "        'dt' : dt,\n",
    "        'MAX_INTEGRATION_STEP' : MAX_INTEGRATION_STEP,\n",
    "        'nb_I' : N_particles_simu,\n",
    "        'nb_I_real' : N_particles_real,\n",
    "        'Ne' : Ne,\n",
    "        'eta': eta,\n",
    "        'loss_charge_proba' : p,\n",
    "        'use_particles_collisions' : use_particles_collisions,\n",
    "        'use_DSMC' : use_DSMC,\n",
    "        'integration_scheme' : integration_scheme.__name__,\n",
    "        'speed_init_type' : speed_init_type,\n",
    "        'saving_period' : saving_period,\n",
    "        'number_of_collisions' : 0,\n",
    "        'mean_acceptance_rate' : 0,\n",
    "        'mean_proba' : 0,\n",
    "        'mean_vr_norm' : 0,\n",
    "        'vr_max_init' : DSMC_params['vr_max'],\n",
    "        'vr_max' : 0,\n",
    "        'volume' : l1*l2*l3,\n",
    "        'v_mean' : vmean_exp,\n",
    "        'mass' : \n",
    "    }\n",
    "    data_analyser = DataSaver(list_particles, name_test = str(id_test), saving_directory = saving_directory)\n",
    "    data_analyser.save_test_params(tests_summary_file_name, params_dict, use_saving_directory = False)"
   ]
  },
  {
   "cell_type": "code",
   "execution_count": null,
   "id": "spare-enhancement",
   "metadata": {},
   "outputs": [],
   "source": [
    "from tqdm import tqdm\n",
    "\n",
    "min_mean_free_time = min_mean_free_path/mean_speed\n",
    "dt = simu['dt']*min_mean_free_time\n",
    "t = 0\n",
    "\n",
    "if(save_test): # before starting simulation\n",
    "        data_analyser.save_everything_to_one_csv(erase = True)\n",
    "        \n",
    "for k in tqdm(range(simu['number_of_steps'])): #\n",
    "    #if(debug): print(\"\\nStep {} over {}...\\n\".format(k+1, MAX_INTEGRATION_STEP))\n",
    "    handler.step(dt, t, args)\n",
    "    t+=dt\n",
    "    if(save_test and (k%saving_period==0 or (k == MAX_INTEGRATION_STEP-1 and k%saving_period!=0)):\n",
    "        data_analyser.save_everything_to_one_csv()\n",
    "        print(collisionHandler.save_collisions_matrix(name = \"test_\"+str(id_test)+\"_collision_matrix\", iteration = k))\n",
    "    \n",
    "    # last saving\n",
    "    number_of_collisions = collisionHandler.get_collisions_count()\n",
    "    mean_acceptance_rate = collisionHandler.get_acceptance_rate()\n",
    "    mean_vr_norm = collisionHandler.get_mean_vr_norm()\n",
    "    vr_max_final = collisionHandler.get_vr_norm()\n",
    "    mean_proba = collisionHandler.get_mean_proba()\n",
    "    # saving again to the csv.\n",
    "    params_dict['mean_proba']=mean_proba\n",
    "    params_dict['number_of_collisions']=number_of_collisions\n",
    "    params_dict['mean_acceptance_rate']=mean_acceptance_rate\n",
    "    params_dict['mean_vr_norm']=mean_vr_norm\n",
    "    params_dict['vr_max']=vr_max_final\n",
    "\n",
    "    data_analyser.update_saved_params(tests_summary_file_name, params_dict, use_saving_directory = False)\n",
    "# that is all"
   ]
  },
  {
   "cell_type": "code",
   "execution_count": null,
   "id": "related-given",
   "metadata": {},
   "outputs": [],
   "source": []
  }
 ],
 "metadata": {
  "kernelspec": {
   "display_name": "Python 3",
   "language": "python",
   "name": "python3"
  },
  "language_info": {
   "codemirror_mode": {
    "name": "ipython",
    "version": 3
   },
   "file_extension": ".py",
   "mimetype": "text/x-python",
   "name": "python",
   "nbconvert_exporter": "python",
   "pygments_lexer": "ipython3",
   "version": "3.7.9"
  }
 },
 "nbformat": 4,
 "nbformat_minor": 5
}
