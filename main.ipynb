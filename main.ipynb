{
 "cells": [
  {
   "cell_type": "code",
   "execution_count": 1,
   "metadata": {},
   "outputs": [
    {
     "ename": "SyntaxError",
     "evalue": "invalid syntax (<ipython-input-1-9ac8f8ed9dd9>, line 22)",
     "output_type": "error",
     "traceback": [
      "\u001b[0;36m  File \u001b[0;32m\"<ipython-input-1-9ac8f8ed9dd9>\"\u001b[0;36m, line \u001b[0;32m22\u001b[0m\n\u001b[0;31m    pprint(get_size(dx,dy,n))xxxx\u001b[0m\n\u001b[0m                                ^\u001b[0m\n\u001b[0;31mSyntaxError\u001b[0m\u001b[0;31m:\u001b[0m invalid syntax\n"
     ]
    }
   ],
   "source": [
    "from pprint import pprint\n",
    "\n",
    "dx = 0.001\n",
    "dy = 0.001\n",
    "n = 10\n",
    "\n",
    "def get_size(dx, dy, n):\n",
    "    return {\n",
    "        'L_mot' : 5*dx,\n",
    "        'l_mot' : dy,\n",
    "        'L_1' :  2*dx,\n",
    "        'l_1' : dy,\n",
    "        'L_2' : 4*dx,\n",
    "        'l_2' : n*dy,\n",
    "        'delta_vert_12' : dy,\n",
    "        'L_vacuum' : 5*dx,\n",
    "        'l_vacuum' : dy,\n",
    "        'res_x': 2*(n+4),\n",
    "        'res_y': 5\n",
    "    }\n",
    "\n",
    "pprint(get_size(dx,dy,n))"
   ]
  },
  {
   "cell_type": "code",
   "execution_count": null,
   "metadata": {},
   "outputs": [],
   "source": [
    "from main import split, reversed_lines\n",
    "import csv\n",
    "split(open(\"results/thruster/1.csv\", 'r'), iterations = 500, index = -1, expected_lenght = 9, idx_to_delete = [5,6], output_name_template='output_%s.csv', output_path='results/thruster/')"
   ]
  },
  {
   "cell_type": "code",
   "execution_count": null,
   "metadata": {},
   "outputs": [],
   "source": [
    "N_perma = 25000 # number of particles in the system in steady flow\n",
    "target_space = 1000 # number of Mo to use for saving the given test\n",
    "\n",
    "def size_one_save(N, target_space = None, nb_iterations = None, saving_period = None, with_processing = False, as_csv = True):\n",
    "    from pprint import pprint\n",
    "    V = 6\n",
    "    if(as_csv):\n",
    "        W = (6*22+1+2)/6 # if float32 are saved as str, which is the case in csv, then, we can expect something of this magniture. \n",
    "        # I should maybe make sure I am using scientific notation..\n",
    "        if(with_processing): # for norm and norm squared\n",
    "            W+=22*2/6\n",
    "    else:\n",
    "        W = (6*4+1+2)/6\n",
    "        if(with_processing):\n",
    "            W+=4*2/6\n",
    "    # which yields :\n",
    "    size = N*(V*W+4)/1024**2\n",
    "    \n",
    "    out = {\n",
    "        'N':N,\n",
    "        'Size one save (MB)':size\n",
    "    }\n",
    "    \n",
    "    if(nb_iterations != None):\n",
    "        if(saving_period != None):\n",
    "            size *= nb_iterations//saving_period\n",
    "            out['Nb iterations']=nb_iterations\n",
    "            out['Saving period']=saving_period\n",
    "            out['Nb saves (induced)']=nb_iterations//saving_period\n",
    "            out['Total size (induced)(MB)']=size\n",
    "        else:\n",
    "            size *= nb_iterations\n",
    "            out['Nb iterations']=nb_iterations\n",
    "            out['Saving period']=1\n",
    "            out['Nb saves (induced)']=nb_iterations\n",
    "            out['Total size (induced) (MB)']=size\n",
    "    else:\n",
    "        if(saving_period != None and target_space != None):\n",
    "            nb_saves = int(target_space/size)\n",
    "            nb_iterations = nb_saves*saving_period\n",
    "            out['Nb iterations (induced)']=nb_iterations\n",
    "            out['Saving period']=saving_period\n",
    "            out['Nb saves (induced)']=nb_saves\n",
    "            out['Total size (MB)']=target_space\n",
    "    pprint(out)\n",
    "    return out\n",
    "\n"
   ]
  },
  {
   "cell_type": "code",
   "execution_count": null,
   "metadata": {},
   "outputs": [],
   "source": [
    "# thruster 1 - steady state\n",
    "size_one_save(N=25000, nb_iterations = 20000, saving_period = 50) # per day : 5000"
   ]
  },
  {
   "cell_type": "code",
   "execution_count": null,
   "metadata": {},
   "outputs": [],
   "source": [
    "# thruster 1 - x4 cells\n",
    "size_one_save(N=100000, nb_iterations = 2000, saving_period = 10) # per day : 500"
   ]
  },
  {
   "cell_type": "code",
   "execution_count": null,
   "metadata": {},
   "outputs": [],
   "source": [
    "# tube 1 - steady state\n",
    "size_one_save(N=11000, nb_iterations = 20000, saving_period = 50) # per day : 20000"
   ]
  },
  {
   "cell_type": "code",
   "execution_count": null,
   "metadata": {},
   "outputs": [],
   "source": [
    "size_one_save(N=11000, nb_iterations = 2000, saving_period = 4, with_processing=True)"
   ]
  },
  {
   "cell_type": "markdown",
   "metadata": {
    "slideshow": {
     "slide_type": "slide"
    }
   },
   "source": [
    "<div style=\"text-align: center; font-weight: bold; font-size: 200%\"> Negative ions ray neutralization for satellite propulsion</div><br />\n",
    "<div style=\"text-align: center;  font-style: italic; font-weight: bold; font-size: 220%\"> Direct Simulation Monte Carlo </div><br />\n",
    "<!--  <div style=\"text-align: center; font-size: 120%\">Laboratoire de Physique des Plasmas - Ecole polytechnique</div><br /> -->\n",
    "<div style=\"text-align: center; font-size: 150%\"><img src=\"https://www.lpp.polytechnique.fr/IMG/logo_LPP.png\" width=\"240\" height=\"240\" align=\"center\"/></div>"
   ]
  },
  {
   "cell_type": "markdown",
   "metadata": {
    "slideshow": {
     "slide_type": "slide"
    }
   },
   "source": []
  },
  {
   "cell_type": "markdown",
   "metadata": {
    "slideshow": {
     "slide_type": "skip"
    }
   },
   "source": [
    "## Algorithm\n",
    "\n",
    "For each time step $\\Delta t$, 2 phases :\n",
    "#### Advection phase : \n",
    "Particles are moved as if they did not interact. Particles that reach a boundary are processed accordingly.\n",
    "#### Collision phase : \n",
    "For each cell, we compute a given number of collisions $M_{coll}$.\n",
    "1. Choose two particles $i$ and $j$, in the cell, randomly.\n",
    "2. Compute the collision probability which is proportional to their relative speed and depends on the **maximum relative speed** in the cell which for computational reasons should be estimated.\n",
    "3. If the pair is accepted, the collision is processed with new velocities depending on the previous one and some randomness.\n",
    "4. The routine moves again to step 1, until $M_{coll}$ is reached."
   ]
  },
  {
   "cell_type": "markdown",
   "metadata": {
    "slideshow": {
     "slide_type": "skip"
    }
   },
   "source": [
    "## Remarks :\n",
    "- It is necessary to have enough particles (at least $20$ according to literature) per cell for the validity of the algorithm.\n",
    "- One of the key point  is estimating the **maximum relative speed** in each cell.\n",
    "- A simulated particle represents much more physical particles allowing a simulation to take place with roughly $10^4$ particles."
   ]
  },
  {
   "cell_type": "markdown",
   "metadata": {
    "slideshow": {
     "slide_type": "skip"
    }
   },
   "source": [
    "## Principles\n",
    "\n",
    "- Choose $\\Delta t$ so that it is a fraction of the **mean free time**.\n",
    "- Choose $\\Delta x = \\Delta y$ (for square cells here) so that it is less that the **mean free path** $\\lambda$.\n",
    "\n",
    "### Calculating $\\lambda$ - the mean free path \n",
    "By definition : \n",
    "$\\lambda = \\frac{1}{\\sqrt{2}{} \\pi d^2n}$ for a maxwellian distribution.\n",
    "\n",
    "With : \n",
    "- $d$ : effective diameter of the particle. We choose : $d \\approx 4 \\times 10^{-10} \\space m$ which is the diameter of $I_2$.\n",
    "- $n$ : density of particules. We choose : $n = [I] \\approx 10^{20} \\space m^{-3}$.\n",
    "\n",
    "That yields : $\\lambda \\approx 0.014 \\space m$."
   ]
  },
  {
   "cell_type": "markdown",
   "metadata": {
    "slideshow": {
     "slide_type": "skip"
    }
   },
   "source": [
    " **Note** : \n",
    "- $L \\approx 0.005 \\space m$.\n",
    "- We can then compute the **Knudsen** number : $K_n = \\frac{\\lambda}{L} \\approx 2$. It is considered that a continumm description is not accurate when $K_n > 0.1$.\n",
    "\n",
    "The mean speed of $I$ is roughly $v=3 \\times 10^2 \\space m.s^{-1}$. Using the mean free path, that yields : $MeanFreeTime \\approx 4.8 \\times 10^{-5} \\space s$ requiring $\\Delta t \\leq 1.2 \\times 10^{-5} \\space s$."
   ]
  },
  {
   "cell_type": "markdown",
   "metadata": {},
   "source": [
    "# Computation of the number of candidates that should be selected for collisions in a **homogeneous gas**\n",
    "\n",
    "We have the number of collisions we should process per unit of time : $M_{coll} = \\frac{1}{2} \\nu_c N dt$, with $\\nu_c$ the collision rate for one particle and $N$ the number of particles considered.\n",
    "\n",
    "$\\Rightarrow$ Not optimal to select this number of collisions per $dt$. The probability of collisions is very low afterwards. \n",
    "\n",
    "Thus, what we can do is selecting only a number of pairs to compute collisions with and hope that in average we have the same number of collisions. This is an approximation.\n",
    "\n",
    "The choice that is optimal, is to divide all probability by the maximum probability of collision $P_{max} = \\frac{v_{r,max}}{<v_{r}>}$. Which means that $\\hat{P}_{i,k} = P_{i,k}/P_{max}$. \n",
    "\n",
    "And thus, selecting $M_{cand} = P_{max} M_{coll}$ candidate pairs per unit of time yields in average to the same number of computed collisions : \n",
    "\n",
    "$$<\\hat{M}_{coll}> = <\\sum_{k=0}^{M_{cand}}  \\frac{v_{r,k}}{v_{r,max}}> = \\frac{\\sum_{k=0}^{M_{cand}}}{v_{r,max}}  <v_{r,k}> = \\frac{M_{cand}}{v_{r,max}}  <v_r> = M_{coll}$$\n"
   ]
  },
  {
   "cell_type": "markdown",
   "metadata": {},
   "source": [
    "However, the hypothesis was that $M_{cand}$ remains the same. Even if we suppose $P_{max}$ was fixed by the user to the maximum value it can encounter (which would not be the optimal value), then $M_{coll}$ can still change. \n",
    "\n",
    "Let's first find a better expression for $M_{coll} = \\frac{1}{2} \\nu_c N dt$.\n",
    "\n",
    "We have : $\\nu_c = \\frac{1}{\\tau} = \\frac{<v_r>}{\\lambda} = <v_r> \\frac{N}{V} \\sigma$ with $\\sigma = \\pi d^2$ the cross section (which can be simplify for a Maxwellian distribution).\n",
    "\n",
    "Thus, $M_{coll} = \\frac{1}{2} <v_r> \\sigma \\frac{N^2}{V} dt$.\n",
    "\n",
    "If now, we apply it for the simulation, where : \n",
    "* $V = V_c$, the volume of a cell ;\n",
    "* $N = N_c$, the number of particle in one cell.\n",
    "\n",
    "We have : \n",
    "\n",
    " $$ M_{coll} =  \\frac{1}{2} <v_r> \\sigma \\frac{N_c^2}{V_c} dt $$\n"
   ]
  },
  {
   "cell_type": "markdown",
   "metadata": {
    "slideshow": {
     "slide_type": "skip"
    }
   },
   "source": [
    "# Probability of collision\n",
    "\n",
    "For a given cell containing $N_c$ particles, the number of pairs selected is :\n",
    "\n",
    "$$M_{cand} = \\frac{ \\pi N_c \\bar{N_c} d^2 v_{r,max} N_e}{2V_c} \\Delta t$$ \n",
    "\n",
    "Where : \n",
    "* $\\bar{N_c}$ is, for now, set at the start of the simulation and equals to : $\\frac{\\text{number of particles}}{\\text{number of cells}}$ ;\n",
    "* $d$ is the effective diameter (here : $4\\times10^{-10}$ m) ;\n",
    "* $v_{r,max}$ is the estimation of the maximum relative norm speed, here $600$ $m.s^{-1}$;\n",
    "* $N_e$ is the number of real particles a simulated particle represents, here roughly $2 \\times 10^{14}$ ;\n",
    "* $V_c$ is the volume of the cell. \n",
    "* $\\Delta t$ the time step.\n",
    "\n",
    "The probability of collision for a given pair $(i,j)$ is then equals to : $\\frac{v_{r, norm}}{v_{r,max}}$ where : $v_{r, norm} = \\|v_j - v_i\\|$.\n"
   ]
  },
  {
   "cell_type": "markdown",
   "metadata": {
    "slideshow": {
     "slide_type": "skip"
    }
   },
   "source": [
    "# Simulation parameters\n",
    "* $[I] = 10^{20}$ $m^{-3}$\n",
    "* $ d = 4\\times10^{-10}$ $m$\n",
    "* $v_{mean} = 3\\times 10^2$ $m.s^{-1}$ and $v_{r,max} = 2v_{mean}$\n",
    "\n",
    "This allows to compute the **mean free time** and the **mean free path**.\n",
    "\n",
    "\n",
    "* $dt = 0.25 \\times MeanFreeTime = 1.17 \\times 10^{-5}$ $s$.\n",
    "* Mean number of particles per cell : $100$ or $200$.\n",
    "* Number of cells : $N_{c,x} = 3$ ; $N_{c,y} = 3$ which makes $9$ cells. The size of the grid is then computed using the **mean free path** $\\lambda$: $(\\lambda N_{c,x},\\lambda N_{c,y}, l_z)$ where $l_z = 0.1$ m. The total volume is thus : $0.042 \\times 0.042 \\times 0.1 = 1.7 \\times 10^{-5}$ $m^{-3}$.\n"
   ]
  },
  {
   "cell_type": "markdown",
   "metadata": {
    "slideshow": {
     "slide_type": "skip"
    }
   },
   "source": [
    "\n",
    "## Three types of initialization for speed :\n",
    "* Uniform  : each $v_x$, $v_y$ and $v_z$ is choosen uniform on $[-m,M]$, $m=M$. The law of  $V = \\sqrt{{v_x}^2+{v_y}^2+{v_z}^2}$ can be obtained with geometric arguments (more below).\n",
    "* Uniform on speed norm : $V = \\sqrt{{v_x}^2+{v_y}^2+{v_z}^2}$ is choosen uniformy on $[m,M]$.\n",
    "* Gaussian : each $v_x$, $v_y$ and $v_z$ is choosen along a gaussian distribution with $\\sigma = \\sqrt{\\frac{k_bT}{m_i}}$ (where $m_i$ is the mass of the particle, here they are all the same) and $\\mu = 0$. The distribution of  $V = \\sqrt{{v_x}^2+{v_y}^2+{v_z}^2}$ is a maxwellian one.\n"
   ]
  },
  {
   "cell_type": "markdown",
   "metadata": {
    "slideshow": {
     "slide_type": "skip"
    }
   },
   "source": [
    "# Explaination - law of  $V = \\sqrt{{v_x}^2+{v_y}^2+{v_z}^2}$\n",
    "\n",
    "\n",
    "For instance, \n",
    "* $\\mathbb{P}(V < v) = 0$ for $v<0$.  \n",
    "* $\\mathbb{P}(V < v) = \\frac{\\text{Volume of the sphere of radius }v \\text{ centered in }0}{m^3} = \\frac{\\frac{4}{3}\\pi v^3}{m^3}$ for $0 \\leq v \\leq m$. \n",
    "* $\\mathbb{P}(V < v) = ...  $ for $\\sqrt{3}m > v > m$.\n",
    "* $\\mathbb{P}(V < v) = 1$ for $\\sqrt{3}m < v$.\n",
    "\n",
    "This yields : $\\mathbb{E}(V)=$"
   ]
  },
  {
   "cell_type": "markdown",
   "metadata": {
    "slideshow": {
     "slide_type": "skip"
    }
   },
   "source": [
    "# Results"
   ]
  },
  {
   "cell_type": "markdown",
   "metadata": {
    "slideshow": {
     "slide_type": "skip"
    }
   },
   "source": [
    "### Maxwellian norm init\n",
    "Once the norm $V$ has been choosen, we randomly select $\\phi$ and $\\theta$ in $[0,2\\pi[$ and then :=> NO\n",
    "* $v_x = V sin(\\theta) cos(\\phi) $\n",
    "* $v_x = V sin(\\theta) sin(\\phi) $\n",
    "* $v_x = V cos(\\theta) $"
   ]
  },
  {
   "cell_type": "markdown",
   "metadata": {
    "slideshow": {
     "slide_type": "skip"
    }
   },
   "source": [
    "# Collision frequency\n",
    "\n",
    "* Number of collisions during simulation : $20089$ collisions ; \n",
    "* $N_e \\approx 9.9 \\times 10^{11}$ particles ;\n",
    "Which yields : $2.0 \\times 10^{17}$ 'real' collisions during the simulation.\n",
    "\n",
    "Then, the number of collisions per unit of time, per unit of volume in theory is given by : $z = \\frac{n}{2} \\frac{\\bar{v}}{\\lambda}$.\n",
    "\n",
    "We have : \n",
    "* $n = 10^{20}$ $m^{-3}$ ;\n",
    "* $\\bar{v} = 276.64$ $m.s^{-1}$ at the beginning of the simulation. It remains the same as the system is conservative ;\n",
    "* $\\lambda = 1.4 \\times 10^{-2}$ $m$ ;\n",
    "\n",
    "Which yields for a volume of $1.8 \\times 10^{-4}$ $m^3$ and a elapsed time of $3.51 \\times 10^{-3}$ $s$ to $6.2 \\times 10^{17}$ collisions."
   ]
  },
  {
   "cell_type": "markdown",
   "metadata": {
    "slideshow": {
     "slide_type": "skip"
    }
   },
   "source": [
    "\n",
    "##  Modelization of temperature evolution for non maxwellian initializations\n",
    "\n",
    "We are looking to modelize the standard deviation of the temperature distribution with the relation :\n",
    "$$\\sigma^2(t) = (\\sigma^2(0) - \\sigma^2_{eq})e^{-t/\\tau}+\\sigma^2_{eq}$$\n",
    "\n",
    "Evolution fo temperature in the simulation, for each time step $n$: \n",
    "1. We define $w_n = v_n - <v_n>$\n",
    "2. Which yields : $\\sigma^2_n = <w_n^2>$ which is an approximaton of the variance of the random variable $V_n$ by definition.\n",
    "\n",
    "Since the system is a conservative one, we can compute $<v_{0}^2>$, an approximation of the 2nd order moment of the random variable $V_0$ by definition. Then, if we suppose the thermal equilibrium, we can compute the scale parameter in the Maxwell distribution : $a = \\sqrt{\\frac{kT}{m}} =  \\sqrt{\\frac{<v_{0}^2>}{3}}$ for dimension thre. Which yields the variance :  $\\sigma_{eq} = \\frac{a^2(3\\pi-8)}{\\pi}$.\n",
    "\n",
    "Then we minimize $|\\sigma^2_n -\\big[(\\sigma^2(0) - \\sigma^2_{eq})e^{-t/\\tau}+\\sigma^2_{eq}\\big]|$ w.r.t. to $\\tau$."
   ]
  },
  {
   "cell_type": "markdown",
   "metadata": {
    "slideshow": {
     "slide_type": "skip"
    }
   },
   "source": [
    "## Flux injection\n",
    "\n",
    "### Normal distribution :\n",
    "\n",
    "\n",
    "- For the case of ions / electrons that have been accelerated using electric fields in the direction $x_1$, then $x_2$ and $x_3$ should be treated as 'normal' maxwellian distribution and $x_1$ should be "
   ]
  },
  {
   "cell_type": "markdown",
   "metadata": {
    "slideshow": {
     "slide_type": "slide"
    }
   },
   "source": [
    "## Maxwellian flux"
   ]
  },
  {
   "cell_type": "markdown",
   "metadata": {
    "slideshow": {
     "slide_type": "slide"
    }
   },
   "source": [
    "Value taken :\n",
    "* Flux speed : $v_{flux} = 50$ $m.s^{-1}$\n",
    "* Flux is computed using : $\\Gamma = \\frac{1}{4} n S_{in} \\bar{v} + n S_{in} v_{flux}$ with : $\\bar{v} = \\sqrt{\\frac{8kT}{\\pi m}}$\n",
    "* temperature : 300 K\n",
    "* $n = 3.2 \\times 10^{19}$ $m^{-3}$\n",
    "* $S_{in}$ = $l_{\\text{in-wall}} \\times l_z$ with $l_z = 1$ $mm$. \n",
    "\n",
    "For the tube system : $l_{\\text{in-wall}} = 1$ $mm$."
   ]
  },
  {
   "cell_type": "markdown",
   "metadata": {
    "slideshow": {
     "slide_type": "slide"
    }
   },
   "source": [
    "### Speed init "
   ]
  },
  {
   "cell_type": "code",
   "execution_count": null,
   "metadata": {
    "slideshow": {
     "slide_type": "slide"
    }
   },
   "outputs": [],
   "source": [
    "import matplotlib.pyplot as plt\n",
    "import scipy.stats as ss\n",
    "import numpy as np\n",
    "from main import get_maxwellian_mean_speed_from_temperature, get_mass_part, get_gaussian_params_maxwellian, get_maxwellian_params\n",
    "\n",
    "from scipy.stats import maxwell, norm\n",
    "from random import gauss, random\n",
    "\n",
    "n=200000\n",
    "list_vx = []\n",
    "list_vy = []\n",
    "list_vz = []\n",
    "drift = 50 # m/s\n",
    "T=300 # K\n",
    "v_mean = get_maxwellian_mean_speed_from_temperature(T, m = get_mass_part(53, 53, 88))\n",
    "sigma = get_gaussian_params_maxwellian(T, m = get_mass_part(53, 53, 88))\n",
    "\n",
    "list_norm = []\n",
    "for k in range(n):\n",
    "    vx = sigma * np.sqrt(-2*np.log10((1-random()))) + drift\n",
    "    vy = norm.rvs(0, sigma)\n",
    "    vz = norm.rvs(0, sigma)\n",
    "    list_vx.append(vy)\n",
    "    list_vy.append(-vx)\n",
    "    list_vz.append(vz)\n",
    "    list_norm.append(np.sqrt(vx*vx+vy*vy+vz*vz))\n",
    "\n",
    "fig, axes = plt.subplots(2,2, figsize = (15,10))\n",
    "\n",
    "axes[0,0].hist(list_vx, bins = 'auto', density=True, range = None, color = 'r')\n",
    "axes[0,1].hist(list_vy, bins = 'auto', density=True, range = None, color = 'g')\n",
    "axes[1,0].hist(list_vz, bins = 'auto', density=True, range = None, color = 'b')\n",
    "axes[1,1].hist(list_norm, bins = 'auto', density=True, range = None, color = 'k')\n",
    "\n",
    "x = np.linspace(-1.5*sigma, 3*sigma, n)\n",
    "#axes[0,0].plot(x, norm.pdf(x, loc=drift, scale=sigma)/(1-norm.cdf(x=0, loc=drift, scale=sigma)), 'k-', lw=2, alpha=0.6, label='norm pdf')\n",
    "axes[0,0].plot(x, norm.pdf(x, loc=0, scale=sigma), 'k-', lw=2, alpha=0.6, label='norm pdf')\n",
    "axes[1,0].plot(x, norm.pdf(x, loc=0, scale=sigma), 'k-', lw=2, alpha=0.6, label='norm pdf')\n",
    "\n",
    "#rv = norm()\n",
    "#ax.plot(x, rv.pdf(x), 'k-', lw=2, label='frozen pdf')\n",
    "\n",
    "col=np.array(list_norm)\n",
    "min_ = np.min(col)\n",
    "max_ = np.max(col)\n",
    "X = np.linspace(min_, max_, 1000)\n",
    "loc, a = get_maxwellian_params(np.mean(col), np.std(col))\n",
    "Y = ss.maxwell.pdf(X, loc=loc, scale = a)\n",
    "axes[1,1].plot(X,Y, label = 'maxwellian pdf')\n",
    "\n",
    "plt.xticks(fontsize=14)\n",
    "plt.yticks(fontsize=14)\n",
    "axes[0,0].set_xlabel('$v_x$', fontsize=14)\n",
    "axes[0,1].set_xlabel('$v_y$', fontsize=14)\n",
    "axes[1,0].set_xlabel('$v_z$', fontsize=14)\n",
    "axes[1,1].set_xlabel('$V$', fontsize=14)\n",
    "\n",
    "plt.savefig('injecting_y_negative.png', dpi = 400, bbox_inches = 'tight', pad_inches = 0)"
   ]
  },
  {
   "cell_type": "markdown",
   "metadata": {},
   "source": [
    "# Speed init - uniform\n"
   ]
  },
  {
   "cell_type": "code",
   "execution_count": null,
   "metadata": {},
   "outputs": [],
   "source": [
    "from main import init_particles_flux, MyVector, init_particles_flux_naive\n",
    "from random import random\n",
    "\n",
    "min_speed_uniform_distribution = -200\n",
    "max_speed_uniform_distribution = 200\n",
    "N = 50000\n",
    "VX, VY, VZ, V = [], [], [], []\n",
    "for k in range(N):\n",
    "    vx = min_speed_uniform_distribution+random()*(max_speed_uniform_distribution-min_speed_uniform_distribution)\n",
    "    vy = min_speed_uniform_distribution+random()*(max_speed_uniform_distribution-min_speed_uniform_distribution)\n",
    "    vz = min_speed_uniform_distribution+random()*(max_speed_uniform_distribution-min_speed_uniform_distribution)\n",
    "    VX.append(vx)\n",
    "    VY.append(vy)\n",
    "    VZ.append(vz)\n",
    "    V.append(np.sqrt(vx*vx+vy*vy+vz*vz))\n",
    "fig, axes = plt.subplots(2,2, figsize = (15,10))\n",
    "axes[0,0].hist(VX, bins = 'auto', density=True, range = None, color = 'r')\n",
    "axes[0,1].hist(VY, bins = 'auto', density=True, range = None, color = 'g')\n",
    "axes[1,0].hist(VZ, bins = 'auto', density=True, range = None, color = 'b')\n",
    "axes[1,1].hist(V, bins = 'auto', density=True, range = None, color = 'k')\n",
    "plt.xticks(fontsize=14)\n",
    "plt.yticks(fontsize=14)\n",
    "axes[0,0].set_xlabel('$v_x$', fontsize=14)\n",
    "axes[0,1].set_xlabel('$v_y$', fontsize=14)\n",
    "axes[1,0].set_xlabel('$v_z$', fontsize=14)\n",
    "axes[1,1].set_xlabel('$V$', fontsize=14)\n",
    "\n",
    "plt.savefig('init_uniform_speed.png', dpi = 400, bbox_inches = 'tight', pad_inches = 0)"
   ]
  },
  {
   "cell_type": "markdown",
   "metadata": {},
   "source": [
    "## Initialization of particules - position and speed"
   ]
  },
  {
   "cell_type": "code",
   "execution_count": 1,
   "metadata": {},
   "outputs": [],
   "source": [
    "from main import init_particles_flux, MyVector, init_particles_flux_naive\n",
    "# typical initializations\n",
    "def init_list_particles(N = 10000, naive = False, factor = 10):\n",
    "    \n",
    "    walls = [[0,0,0.01,0],[0,0,0,-0.005],[0.01,0.0,0.01,-0.005]]\n",
    "    wall = walls[0]\n",
    "    direction = MyVector(0,-1)\n",
    "    nb_particles_to_inject = [N]\n",
    "    particles_types = ['I']\n",
    "    temperatures = [300] # K\n",
    "    drifts = [30]\n",
    "    dt = 2e-6\n",
    "    if(naive):\n",
    "        list_particles = init_particles_flux_naive(wall, direction, nb_particles_to_inject, particles_types, temperatures, drifts, dt, factor = factor)\n",
    "    else:\n",
    "        list_particles = init_particles_flux(wall, direction, nb_particles_to_inject, particles_types, temperatures, drifts, dt)\n",
    "    return list_particles, walls, dt    \n",
    "    "
   ]
  },
  {
   "cell_type": "code",
   "execution_count": null,
   "metadata": {},
   "outputs": [],
   "source": [
    "def get_speed_pos(list_particles):\n",
    "    X, Y, Z = [],[],[]\n",
    "    VX, VY, VZ = [],[],[]\n",
    "    V = []\n",
    "    for part in list_particles:\n",
    "        pos = part.get_pos()\n",
    "        speed = part.get_speed()\n",
    "        x, y, z = pos.x, pos.y, pos.z\n",
    "        vx, vy, vz = speed.x, speed.y, speed.z\n",
    "\n",
    "        # appending to lists\n",
    "        X.append(x)\n",
    "        Y.append(y)\n",
    "        Z.append(z)\n",
    "        VX.append(vx)\n",
    "        VY.append(vy)\n",
    "        VZ.append(vz)\n",
    "        V.append(speed.norm())\n",
    "    return X,Y,Z,VX,VY,VZ,V\n",
    "\n"
   ]
  },
  {
   "cell_type": "code",
   "execution_count": null,
   "metadata": {},
   "outputs": [],
   "source": [
    "import matplotlib.pyplot as plt\n",
    "import scipy.stats as ss\n",
    "import numpy as np\n",
    "from random import gauss, random\n",
    "from main import get_maxwellian_mean_speed_from_temperature, get_mass_part, get_gaussian_params_maxwellian, get_maxwellian_params\n",
    "\n",
    "def hist(ax, arr, x_name, color, density, pdf = None):\n",
    "    if(ax != None):\n",
    "        ax.hist(arr, bins = 'auto', density=density, color = color)\n",
    "        ax.set_xlabel(x_name, fontsize =12)\n",
    "    else:\n",
    "        plt.hist(arr, bins = 'auto', density=density, color = color)\n",
    "        plt.xlabel(x_name, fontsize =12)\n",
    "    if(pdf == 'maxwellian'):\n",
    "        col=np.array(arr)\n",
    "        min_ = np.min(col)\n",
    "        max_ = np.max(col)\n",
    "        X = np.linspace(min_, max_, 1000)\n",
    "        loc, a = get_maxwellian_params(np.mean(col), np.std(col))\n",
    "        Y = ss.maxwell.pdf(X, loc=loc, scale = a)\n",
    "        ax.plot(X,Y, label = 'gaussian pdf')\n",
    "    elif(pdf == 'gaussian'):\n",
    "        col=np.array(arr)\n",
    "        min_ = np.min(col)\n",
    "        max_ = np.max(col)\n",
    "        X = np.linspace(min_, max_, 1000)\n",
    "        Y = ss.norm.pdf(X, loc=np.mean(col), scale = np.std(col))\n",
    "        ax.plot(X,Y, label = 'maxwellian pdf')\n"
   ]
  },
  {
   "cell_type": "code",
   "execution_count": null,
   "metadata": {},
   "outputs": [],
   "source": [
    "# position\n",
    "naive = False\n",
    "factor = 1\n",
    "N = 500000\n",
    "list_particles, walls, dt = init_list_particles(N=N, naive = naive, factor = factor)\n",
    "X,Y,Z,VX,VY,VZ,V= get_speed_pos(list_particles)"
   ]
  },
  {
   "cell_type": "code",
   "execution_count": null,
   "metadata": {},
   "outputs": [],
   "source": [
    "fig, axes = plt.subplots(1,2, figsize = (15,5))\n",
    "hist(axes[0], X, 'x', color = 'r', density = True)\n",
    "hist(axes[1], Y, 'y', color = 'g', density = True)\n",
    "plt.savefig('position_init_flux_thruster', dpi=400, bbox_inches = 'tight', pad_inches = 0)"
   ]
  },
  {
   "cell_type": "code",
   "execution_count": null,
   "metadata": {},
   "outputs": [],
   "source": [
    "def plot_walls(ax, walls):\n",
    "    for wall in walls:\n",
    "        if(ax != None):\n",
    "            ax.plot([wall[0],wall[2]],[wall[1],wall[3]], color = 'k')\n",
    "        else:\n",
    "            plt.plot([wall[0],wall[2]],[wall[1],wall[3]], color = 'k')\n",
    "\n",
    "def plot_system(X,Y, walls, color = 'b'):\n",
    "    fig, ax = plt.subplots(figsize = (15,15))\n",
    "    plt.scatter(X,Y, s = 0.02, color = color)\n",
    "    plot_walls(ax,walls)\n",
    "\n",
    "\n",
    "plot_system(X,Y, walls)    \n",
    "plt.show()"
   ]
  },
  {
   "cell_type": "code",
   "execution_count": null,
   "metadata": {},
   "outputs": [],
   "source": [
    "# plotting first iterations\n",
    "\n",
    "\n",
    "# TODO:  faire ce plot pour une système arrivé en phase final (pour vraiment voir si l'initialisation est continu ou pas)\n",
    "\n",
    "def plot(iterations = 10, N=10000, naive = False, factor = 10):\n",
    "    fig, ax = plt.subplots(figsize = (15,15))\n",
    "    colors = ['r','g','b','y','k']*5# plt.cm.coolwarm(np.linspace(0.1,0.9,iterations)) # This returns RGBA; convert:\n",
    "    walls = []\n",
    "    lists_particles = []\n",
    "    for it in range(iterations):\n",
    "        list_particles, walls, dt = init_list_particles(N, naive, factor)\n",
    "        lists_particles.append(list_particles)\n",
    "        \n",
    "        for i in range(it):\n",
    "            for part in lists_particles[i]:\n",
    "                part.set_pos(part.get_pos()+dt*part.get_speed())\n",
    "    XX, YY = [], []\n",
    "    for it in range(iterations):\n",
    "        X,Y,Z,VX,VY,VZ,V = get_speed_pos(lists_particles[it]) \n",
    "        plt.scatter(X,Y, s = 2.0, color = colors[it])\n",
    "        for x,y in zip(X,Y):\n",
    "            XX.append(x)\n",
    "            YY.append(y)\n",
    "            \n",
    "    plot_walls(ax,walls)\n",
    "    return XX,YY\n",
    "\n",
    "\n",
    "XX, YY = plot(iterations = 5, N=40000, naive = naive, factor = factor)\n",
    "axes = plt.gca()\n",
    "axes.set_xlim([-0.004,0.014])\n",
    "axes.set_ylim([-0.005,0.0001])\n",
    "plt.savefig('spatial_init_flux_thruster_5it', dpi=400)"
   ]
  },
  {
   "cell_type": "code",
   "execution_count": null,
   "metadata": {},
   "outputs": [],
   "source": [
    "\n",
    "fig, axes = plt.subplots(1,2, figsize = (15,5))\n",
    "hist(axes[0], XX, 'x', color = 'r', density = True)\n",
    "hist(axes[1], YY, 'y', color = 'g', density = True)\n",
    "#hist(axes[1], Y, 'x', color = 'k', density = True)\n",
    "plt.plot()\n",
    "plt.savefig('position_init_flux_thruster_after_5it', dpi=400)"
   ]
  },
  {
   "cell_type": "code",
   "execution_count": null,
   "metadata": {},
   "outputs": [],
   "source": [
    "fig, axes = plt.subplots(2,2, figsize = (15,10))\n",
    "hist(axes[0,0], VX, 'vx', color = 'r', density = True, pdf = 'gaussian')\n",
    "hist(axes[0,1], VY, 'vy', color = 'g', density = True)\n",
    "hist(axes[1,0], VZ, 'vz', color = 'b', density = True, pdf = 'gaussian')\n",
    "hist(axes[1,1], V, 'norm v', color = 'k', density = True, pdf = 'maxwellian')\n",
    "plt.plot()\n",
    "plt.savefig('speed_init_flux_thruster', dpi=400)"
   ]
  },
  {
   "cell_type": "markdown",
   "metadata": {
    "slideshow": {
     "slide_type": "slide"
    }
   },
   "source": [
    "\n",
    "<table><tr>\n",
    "<td> <img src=\"pictures/thruster.png\" alt=\"Drawing\" style=\"width: 30%;\"/> </td>\n",
    "</tr></table>"
   ]
  },
  {
   "cell_type": "markdown",
   "metadata": {
    "slideshow": {
     "slide_type": "slide"
    }
   },
   "source": [
    "Previously :\n",
    "* $ x = U(x_{min}, x_{max}) $\n",
    "* $ y = y_{init}$\n",
    "\n",
    "Sometimes we had results like that : \n",
    "<table><tr>\n",
    "<td> <img src=\"results/square_2/figures/density_bins15_frames298_x_y.png\" alt=\"Drawing\" style=\"width: 50%;\"/> </td>\n",
    "</tr></table>\n",
    "\n",
    "Consequence : non continuous flux. However, it is hard to know if it matters for this system beforehand."
   ]
  },
  {
   "cell_type": "markdown",
   "metadata": {
    "slideshow": {
     "slide_type": "slide"
    }
   },
   "source": [
    "Now for a particle initialized with speed ($v_x, v_y, v_z$), $v_y < 0$:\n",
    "* $ x = U(x_{min}, x_{max}) + U(0,1) \\times v_x \\times dt $\n",
    "* $ y = y_{init} +  U(0,1) \\times v_y \\times dt $\n",
    "\n",
    "In practice, because of issues with initializing particles outside of the system : \n",
    "* $ x = U(x_{min}, x_{max}) $\n",
    "* $ y = y_{init} +  U(0,1) \\times v_y \\times dt $"
   ]
  },
  {
   "cell_type": "code",
   "execution_count": null,
   "metadata": {},
   "outputs": [],
   "source": []
  },
  {
   "cell_type": "markdown",
   "metadata": {
    "slideshow": {
     "slide_type": "slide"
    }
   },
   "source": [
    "<table><tr>\n",
    "<td> <img src=\"results/tube_1/figures/density_bins30_frames240_directionx.png\" alt=\"Drawing\" style=\"width: 300px;\"/> </td>\n",
    "<td> <img src=\"results/tube_2/figures/density_bins30_frames240_directionx.png\" alt=\"Drawing\" style=\"width: 300px;\"/> </td>\n",
    "<td> <img src=\"results/tube_6/figures/density_bins30_frames240_directionx.png\" alt=\"Drawing\" style=\"width: 300px;\"/> </td>\n",
    "</tr></table>\n",
    "\n",
    "From left to right ($l_x, l_y$) : (10, 1), (10, 2), (5, 1)  $mm$."
   ]
  },
  {
   "cell_type": "markdown",
   "metadata": {
    "slideshow": {
     "slide_type": "slide"
    }
   },
   "source": [
    "<table><tr>\n",
    "<td> <img src=\"results/tube_5/figures/density_bins30_frames240_directionx.png\" alt=\"Drawing\" style=\"width: 500px;\"/> </td>\n",
    "<td> <img src=\"results/tube_4/figures/density_bins30_frames240_directionx.png\" alt=\"Drawing\" style=\"width: 500px;\"/> </td>\n",
    "</tr></table>\n",
    "\n",
    "From left to right ($l_x, l_y$) : (100, 1), (10, 10)  $mm$."
   ]
  },
  {
   "cell_type": "markdown",
   "metadata": {
    "slideshow": {
     "slide_type": "slide"
    }
   },
   "source": [
    "### Thruster\n",
    "<table><tr>\n",
    "<td> <img src=\"results/thruster/figures/1_vy_spatial_distribution_it_21_240frames.png\" alt=\"Drawing\" style=\"width: 500px;\"/> </td>\n",
    "<td> <img src=\"results/thruster/figures/density_bins10_frames240_directiony.png\" alt=\"Drawing\" style=\"width: 500px;\"/> </td>\n",
    "</tr></table>"
   ]
  },
  {
   "cell_type": "code",
   "execution_count": null,
   "metadata": {},
   "outputs": [],
   "source": [
    "\n",
    "# to compare some results with :\n",
    "# http://fisica.ufpr.br/sharipov/tube.html\n",
    "\n",
    "from main import get_maxwellian_mean_speed_from_temperature\n",
    "from main import available_particles\n",
    "import numpy as np\n",
    "\n",
    "R = 8.314 # J/mol.K\n",
    "\n",
    "def speed_of_sound(gamma,T,M):\n",
    "    \"\"\"Return the speed of sound.\n",
    "\n",
    "    Args:\n",
    "        gamma (float): adiabatic constant \n",
    "        T (float): absolute temperature (K)\n",
    "        M (float): molecular weight (kg/mol)\n",
    "\n",
    "    Returns:\n",
    "        float: c - speed of sound\n",
    "    \"\"\"\n",
    "    return np.sqrt(gamma*R*T/M)\n",
    "\n",
    "def flux(n, Sin, T, m, drift):\n",
    "    v_mean = get_maxwellian_mean_speed_from_temperature(T,m)\n",
    "    return n*Sin*(0.25*v_mean+drift)\n",
    "\n",
    "def Cp(Cv):\n",
    "    return Cv+R\n",
    "\n",
    "def gamma(Cv):\n",
    "    return Cp(Cv)/Cv\n",
    "\n",
    "\n",
    "# http://hyperphysics.phy-astr.gsu.edu/hbase/Kinetic/shegas.html#c5\n",
    "Cv_monoatomic = 12.5\n",
    "gamma = gamma(Cv_monoatomic)\n",
    "print('Gamma motoatomic : {} '.format(gamma))\n",
    "\n",
    "# Xe\n",
    "M_Xe = 0.131 # kg/mol\n",
    "m_Xe = available_particles['Xe']['mass']\n",
    "\n",
    "# I\n",
    "M_I = 0.12690447 # kg/mol\n",
    "m_I = available_particles['I']['mass']"
   ]
  },
  {
   "cell_type": "markdown",
   "metadata": {},
   "source": [
    "### Comparing with other simulation\n",
    "[Link](http://fisica.ufpr.br/sharipov/tube.html)"
   ]
  },
  {
   "cell_type": "code",
   "execution_count": null,
   "metadata": {},
   "outputs": [],
   "source": [
    "T = 300 \n",
    "c_Xe = speed_of_sound(gamma,T,M_Xe) # may be we are using the wrong T...\n",
    "c_I = speed_of_sound(gamma,T,M_I)\n",
    "drift = 50 # m/s\n",
    "\n",
    "n_out = 1.75e19 # m-3, output\n",
    "\n",
    "lx,ly,lz = 0.01,0.001,0.001\n",
    "Sin = ly*lz # m2\n",
    "\n",
    "flux_out_Xe = flux(n_out, Sin, T, m_Xe, drift)\n",
    "flux_out_I = flux(n_out, Sin, T, m_I, drift)\n",
    "\n",
    "# From : http://fisica.ufpr.br/sharipov/tube.html\n",
    "# for previous value, and for Xenon\n",
    "mass_flow_rate, mach = 3.08e-10, 0.0832\n",
    "\n",
    "mass_flow_rate_simu = m_I*flux_out_I\n",
    "v_out = 191 # m/s\n",
    "mach_simu = v_out/c_I\n",
    "\n",
    "print('RAREFIED GAS FLOW THROUGH A LONG CYLINDRICAL TUBE - RESULTS')\n",
    "print('Mass flow rate : {:e} kg/s - mach number : {:e}'.format(mass_flow_rate, mach))\n",
    "print('\\n')\n",
    "print('SIMULATION - RESULTS')\n",
    "print('Mass flow rate : {:e} kg/s - mach number : {:e}'.format(mass_flow_rate_simu, mach_simu))\n"
   ]
  },
  {
   "cell_type": "markdown",
   "metadata": {},
   "source": [
    "# TODO : add tab"
   ]
  },
  {
   "cell_type": "markdown",
   "metadata": {
    "slideshow": {
     "slide_type": "slide"
    }
   },
   "source": [
    "## Thruster "
   ]
  },
  {
   "cell_type": "markdown",
   "metadata": {
    "slideshow": {
     "slide_type": "slide"
    }
   },
   "source": [
    "#### Density - 1 & 2\n",
    "<table><tr>\n",
    "<td> <img src=\"results/thruster_1/figures/1_density_spatial_distribution_it_200_100frames.png\" alt=\"Drawing\" style=\"width: 500px;\"/> </td>\n",
    "<td> <img src=\"results/thruster_2/figures/1_density_spatial_distribution_it_200_100frames.png\" alt=\"Drawing\" style=\"width: 500px;\"/> </td>\n",
    "</tr></table>"
   ]
  },
  {
   "cell_type": "markdown",
   "metadata": {},
   "source": [
    "### Density - 3 & 4\n",
    "<table><tr>\n",
    "<td> <img src=\"results/thruster_3/figures/1_density_spatial_distribution_it_200_100frames.png\" alt=\"Drawing\" style=\"width: 500px;\"/> </td>\n",
    "<td> <img src=\"results/thruster_4/figures/1_density_spatial_distribution_it_200_100frames.png\" alt=\"Drawing\" style=\"width: 500px;\"/> </td>\n",
    "</tr></table>"
   ]
  },
  {
   "cell_type": "markdown",
   "metadata": {
    "slideshow": {
     "slide_type": "slide"
    }
   },
   "source": [
    "### Evolution of the number of particles in the system - 1 & 2\n",
    "\n",
    "<table><tr>\n",
    "<td> <img src=\"results/thruster_1/figures/_number_part_evolution.png\" alt=\"Drawing\" style=\"width: 500px;\"/> </td>\n",
    "<td> <img src=\"results/thruster_2/figures/_number_part_evolution.png\" alt=\"Drawing\" style=\"width: 500px;\"/> </td>\n",
    "</tr></table>"
   ]
  },
  {
   "cell_type": "markdown",
   "metadata": {},
   "source": [
    "### Evolution of the number of particles in the system - 1 & 2 \n",
    "<table><tr>\n",
    "<td> <img src=\"results/thruster_3/figures/_number_part_evolution.png\" alt=\"Drawing\" style=\"width: 500px;\"/> </td>\n",
    "<td> <img src=\"results/thruster_4/figures/_number_part_evolution.png\" alt=\"Drawing\" style=\"width: 500px;\"/> </td>\n",
    "</tr></table>"
   ]
  },
  {
   "cell_type": "markdown",
   "metadata": {
    "slideshow": {
     "slide_type": "slide"
    }
   },
   "source": [
    "### Speed - $V_y$ - 1 & 2\n",
    "<table><tr> \n",
    "<td> <img src=\"results/thruster_1/figures/1_vy_spatial_distribution_it_200_100frames.png\" alt=\"Drawing\" style=\"width: 500px;\"/> </td>\n",
    "<td> <img src=\"results/thruster_2/figures/1_vy_spatial_distribution_it_200_100frames.png\" alt=\"Drawing\" style=\"width: 500px;\"/> </td>\n",
    "\n",
    "</tr></table>"
   ]
  },
  {
   "cell_type": "markdown",
   "metadata": {},
   "source": [
    "### Speed - $V_y$ - 3 & 4\n",
    "<table><tr>\n",
    "<td> <img src=\"results/thruster_3/figures/1_vy_spatial_distribution_it_200_100frames.png\" alt=\"Drawing\" style=\"width: 500px;\"/> </td>\n",
    "<td> <img src=\"results/thruster_4/figures/1_vy_spatial_distribution_it_200_100frames.png\" alt=\"Drawing\" style=\"width: 500px;\"/> </td>\n",
    "</tr></table>"
   ]
  },
  {
   "cell_type": "markdown",
   "metadata": {
    "slideshow": {
     "slide_type": "slide"
    }
   },
   "source": [
    "### Speed - $Vx$ - 1 & 2\n",
    "<table><tr>\n",
    "<td> <img src=\"results/thruster_1/figures/1_vx_spatial_distribution_it_200_100frames.png\" alt=\"Drawing\" style=\"width: 500px;\"/> </td>\n",
    "<td> <img src=\"results/thruster_2/figures/1_vx_spatial_distribution_it_200_100frames.png\" alt=\"Drawing\" style=\"width: 500px;\"/> </td>\n",
    "\n",
    "</tr></table>"
   ]
  },
  {
   "cell_type": "markdown",
   "metadata": {},
   "source": [
    "### Speed - $Vx$ - 3 & 4\n",
    "<table><tr>\n",
    "<td> <img src=\"results/thruster_3/figures/1_vx_spatial_distribution_it_200_100frames.png\" alt=\"Drawing\" style=\"width: 500px;\"/> </td>\n",
    "<td> <img src=\"results/thruster_4/figures/1_vx_spatial_distribution_it_200_100frames.png\" alt=\"Drawing\" style=\"width: 500px;\"/> </td>\n",
    "</tr></table>"
   ]
  },
  {
   "cell_type": "markdown",
   "metadata": {
    "slideshow": {
     "slide_type": "skip"
    }
   },
   "source": [
    "### Injection\n",
    "\n",
    "Grosse question : pourquoi leap frog algo => je pense que je peux l'adapter à mes besoins, en réfléchissant vraiment bien (bien comprendre le principe).\n",
    "\n",
    "Concernant l'injection, l'important est d'avoir un schéma qui préserve l'ordre. Ex : j'ai un RK4 (ordre4), je voudrais une injection d'ordre 4. En pratiques, ils utilisent le leap frog algo. xn, vn-1/2...\n",
    "\n",
    "Je vais considérer ici, comme c'est ce qu'ils m'ont demandé, uniquement l'iode $[I]$, ce qui me permet de ne pas considérer de champ. Et donc de pouvoir injecter comme je le veux, quasiment : Modified fractional time step Boris push.\n",
    "\n",
    "Si un jour je rajoute les ions etc. => champ non uniforme (il devient important dans la modélisation)."
   ]
  },
  {
   "cell_type": "markdown",
   "metadata": {
    "slideshow": {
     "slide_type": "skip"
    }
   },
   "source": [
    "# Modelization results\n",
    "<table><tr>\n",
    "<td> <img src=\"results_tests/uniform/2_temperature_evolution.png\" alt=\"Drawing\" style=\"width: 400px;\"/> </td>\n",
    "<td> <img src=\"results_tests/uniform_norm/3_temperature_evolution.png\" alt=\"Drawing\" style=\"width: 400px;\"/> </td>\n",
    "</tr></table>"
   ]
  },
  {
   "cell_type": "markdown",
   "metadata": {
    "slideshow": {
     "slide_type": "skip"
    }
   },
   "source": [
    "## Sources \n",
    "* https://mathworld.wolfram.com/MaxwellDistribution.html\n",
    "* Francis J. Alexander and Alejandro L. Garcia (1997). The Direct Simulation Monte Carlo Method.\n",
    "* Bird, G. (1994). Molecular Gas Dynamics and the Direct Simulation of Gas Flows.\n",
    "* https://scicomp.stackexchange.com/questions/19969/how-do-i-generate-maxwell-boltzmann-variates-using-a-uniform-distribution-random\n",
    "\n",
    "\n",
    "Conclusion : \n",
    "* https://www.mech.kth.se/~lhs/Danielsson_Birgersson.pdf Heat Transfer Between Two Plates (boundaries conditions)\n",
    "* http://fisica.ufpr.br/sharipov/tube.html # to compare with one tube simulation and the paper : https://avs.scitation.org/doi/10.1116/1.578969 \n",
    "* https://citeseerx.ist.psu.edu/viewdoc/download?doi=10.1.1.566.8427&rep=rep1&type=pdf injection of maxwellian distribution (how to do it)\n",
    "\n",
    "TODO : \n",
    " * clean le code (cfg etc.)\n",
    " * increase by 10/100 the number of particles for the simulation and see if the error remains\n",
    " * OPT : initialisation avec deux gaussiennes / boundary conditions (comment les gérer, en fixant la température etc. voir les liens au-dessus).\n",
    " * Simulation sur le vrai système : géométrie qui fit le système, commencer par une seule grille (une tube) puis faire deux (système réel). Les liens précédents peuvent être utiles concernant cela (pour comparer mes résultats etc.). On peut seulement sauver les indices pour la deuxième grille (et du coup on va voir dans la première grille uniquement les cases qui nous intéresse).\n",
    " \n",
    "L'objectif de ce que je dois faire : comprendre et connaître la densité de neutre (le flux de neutres) dans le système réel. On simule ainsi uniquement le flux de I !! (pas de deuxième espèce nécessaire) Ensuite on utilise l'algo de Edouard.\n",
    "\n",
    "Autre : \n",
    "* OS - CYS (code pour lancer à partir de python du code en C).\n",
    " "
   ]
  },
  {
   "cell_type": "markdown",
   "metadata": {
    "slideshow": {
     "slide_type": "skip"
    }
   },
   "source": [
    "\n",
    "On cherche à modélisation par la relation suivant:\n",
    "\n",
    "$$T(t) = (T_0 - T_{eq})e^{-t/\\tau}+T_{eq}$$\n",
    "\n",
    "Evolution de la température dans l'expérience, à chaque temps $n$: \n",
    "1. On définit $w_n = v_n - <v_n>$\n",
    "2. Puis on calcule : $<w_n^2>$ qui est une approximation de la variance de la variable aléatoire $V_n$ par définition.\n",
    "3. Et enfin : $T_{n} = \\frac{m}{3k}<w_n^2>$.\n",
    "\n",
    "Etant donné que le système est conservatif, on calcule $T_{eq} = \\frac{m}{3k}<v_{0}^2>$ où $<v_{0}^2>$ est une approximation du moment d'ordre 2 de la variable aléatoire $V_0$ (par définition).\n",
    "\n",
    "Puis on minimise $|T_{exp,n}-\\big[(T_0 - T_{eq})e^{-t/\\tau}+T_{eq}\\big]|$ par rapport à $\\tau$."
   ]
  },
  {
   "cell_type": "markdown",
   "metadata": {
    "slideshow": {
     "slide_type": "skip"
    }
   },
   "source": [
    "### Obtention de la vitesse relative moyenne pour la comparaison du nombre de collisions théorique vs simulation\n"
   ]
  },
  {
   "cell_type": "code",
   "execution_count": 5,
   "metadata": {},
   "outputs": [],
   "source": [
    "from main import init_particles_in_system\n",
    "import numpy as np\n",
    "from main import collision_frequency\n",
    "\n"
   ]
  },
  {
   "cell_type": "code",
   "execution_count": 2,
   "metadata": {},
   "outputs": [],
   "source": [
    "liste_part = init_particles_in_system(['I'], [3.2e19], [200], ['gaussian'], [0], [200], size = [0.1,0.1], resolution = [5,5])"
   ]
  },
  {
   "cell_type": "code",
   "execution_count": 6,
   "metadata": {},
   "outputs": [],
   "source": [
    "\n",
    "l = len(liste_part[0])"
   ]
  },
  {
   "cell_type": "code",
   "execution_count": 3,
   "metadata": {},
   "outputs": [],
   "source": [
    "mean = 0\n",
    "for i in range(l):\n",
    "    for j in range(i):\n",
    "        v1 = liste_part[0][i].get_speed()\n",
    "        v2 = liste_part[0][j].get_speed()\n",
    "        mean+=(v2-v1).norm()\n",
    "    "
   ]
  },
  {
   "cell_type": "code",
   "execution_count": 7,
   "metadata": {},
   "outputs": [],
   "source": [
    "v_r_mean = 2*mean/(l*(l-1))\n",
    "sigma_T = 1/(np.sqrt(2)*np.pi*(4e-10)**2*3.2e19)"
   ]
  },
  {
   "cell_type": "code",
   "execution_count": 15,
   "metadata": {},
   "outputs": [
    {
     "name": "stdout",
     "output_type": "stream",
     "text": [
      "2.456975085527267e+20\n"
     ]
    }
   ],
   "source": [
    "N_e = 6.4e9\n",
    "nu_t = collision_frequency(3.2e19/N_e, sigma_T, v_r_mean)\n",
    "print(nu_t)"
   ]
  },
  {
   "cell_type": "code",
   "execution_count": 21,
   "metadata": {},
   "outputs": [
    {
     "name": "stdout",
     "output_type": "stream",
     "text": [
      "1.452072e+13\n"
     ]
    }
   ],
   "source": [
    "V_c = 0.1*0.1*0.001\n",
    "Ndt = 5.91e-3\n",
    "print(\"{:e}\".format(nu_t * V_c * Ndt))"
   ]
  },
  {
   "cell_type": "markdown",
   "metadata": {},
   "source": [
    "### Vérification de l'algorithme d'initialisation en vitesse \n"
   ]
  },
  {
   "cell_type": "code",
   "execution_count": 9,
   "metadata": {},
   "outputs": [],
   "source": [
    "import numpy as np\n",
    "import matplotlib.pyplot as plt\n",
    "def get_list_angles(N=10000):    \n",
    "    r = np.random.rand(N)    \n",
    "    q = 2*r-1\n",
    "    \n",
    "    return 2*np.pi*np.random.rand(N), q, np.sqrt(1-q*q)\n",
    "\n",
    "def plot_list_angles(PHI, CTHETA, STHETA):\n",
    "    fig = plt.figure()\n",
    "    ax = fig.add_subplot(111, projection='3d')\n",
    "    \n",
    "    R = 1\n",
    "    X = R * STHETA * np.cos(PHI)\n",
    "    Y = R * STHETA * np.sin(PHI)\n",
    "    Z = R * CTHETA\n",
    "\n",
    "    ax.scatter(X, Y, Z, c='r', marker='o', s=1)\n",
    "    \n",
    "    ax.set_xlabel('X Label')\n",
    "    ax.set_ylabel('Y Label')\n",
    "    ax.set_zlabel('Z Label')\n",
    "    \n",
    "    plt.show()"
   ]
  },
  {
   "cell_type": "code",
   "execution_count": 11,
   "metadata": {},
   "outputs": [
    {
     "data": {
      "application/javascript": [
       "/* Put everything inside the global mpl namespace */\n",
       "/* global mpl */\n",
       "window.mpl = {};\n",
       "\n",
       "mpl.get_websocket_type = function () {\n",
       "    if (typeof WebSocket !== 'undefined') {\n",
       "        return WebSocket;\n",
       "    } else if (typeof MozWebSocket !== 'undefined') {\n",
       "        return MozWebSocket;\n",
       "    } else {\n",
       "        alert(\n",
       "            'Your browser does not have WebSocket support. ' +\n",
       "                'Please try Chrome, Safari or Firefox ≥ 6. ' +\n",
       "                'Firefox 4 and 5 are also supported but you ' +\n",
       "                'have to enable WebSockets in about:config.'\n",
       "        );\n",
       "    }\n",
       "};\n",
       "\n",
       "mpl.figure = function (figure_id, websocket, ondownload, parent_element) {\n",
       "    this.id = figure_id;\n",
       "\n",
       "    this.ws = websocket;\n",
       "\n",
       "    this.supports_binary = this.ws.binaryType !== undefined;\n",
       "\n",
       "    if (!this.supports_binary) {\n",
       "        var warnings = document.getElementById('mpl-warnings');\n",
       "        if (warnings) {\n",
       "            warnings.style.display = 'block';\n",
       "            warnings.textContent =\n",
       "                'This browser does not support binary websocket messages. ' +\n",
       "                'Performance may be slow.';\n",
       "        }\n",
       "    }\n",
       "\n",
       "    this.imageObj = new Image();\n",
       "\n",
       "    this.context = undefined;\n",
       "    this.message = undefined;\n",
       "    this.canvas = undefined;\n",
       "    this.rubberband_canvas = undefined;\n",
       "    this.rubberband_context = undefined;\n",
       "    this.format_dropdown = undefined;\n",
       "\n",
       "    this.image_mode = 'full';\n",
       "\n",
       "    this.root = document.createElement('div');\n",
       "    this.root.setAttribute('style', 'display: inline-block');\n",
       "    this._root_extra_style(this.root);\n",
       "\n",
       "    parent_element.appendChild(this.root);\n",
       "\n",
       "    this._init_header(this);\n",
       "    this._init_canvas(this);\n",
       "    this._init_toolbar(this);\n",
       "\n",
       "    var fig = this;\n",
       "\n",
       "    this.waiting = false;\n",
       "\n",
       "    this.ws.onopen = function () {\n",
       "        fig.send_message('supports_binary', { value: fig.supports_binary });\n",
       "        fig.send_message('send_image_mode', {});\n",
       "        if (fig.ratio !== 1) {\n",
       "            fig.send_message('set_dpi_ratio', { dpi_ratio: fig.ratio });\n",
       "        }\n",
       "        fig.send_message('refresh', {});\n",
       "    };\n",
       "\n",
       "    this.imageObj.onload = function () {\n",
       "        if (fig.image_mode === 'full') {\n",
       "            // Full images could contain transparency (where diff images\n",
       "            // almost always do), so we need to clear the canvas so that\n",
       "            // there is no ghosting.\n",
       "            fig.context.clearRect(0, 0, fig.canvas.width, fig.canvas.height);\n",
       "        }\n",
       "        fig.context.drawImage(fig.imageObj, 0, 0);\n",
       "    };\n",
       "\n",
       "    this.imageObj.onunload = function () {\n",
       "        fig.ws.close();\n",
       "    };\n",
       "\n",
       "    this.ws.onmessage = this._make_on_message_function(this);\n",
       "\n",
       "    this.ondownload = ondownload;\n",
       "};\n",
       "\n",
       "mpl.figure.prototype._init_header = function () {\n",
       "    var titlebar = document.createElement('div');\n",
       "    titlebar.classList =\n",
       "        'ui-dialog-titlebar ui-widget-header ui-corner-all ui-helper-clearfix';\n",
       "    var titletext = document.createElement('div');\n",
       "    titletext.classList = 'ui-dialog-title';\n",
       "    titletext.setAttribute(\n",
       "        'style',\n",
       "        'width: 100%; text-align: center; padding: 3px;'\n",
       "    );\n",
       "    titlebar.appendChild(titletext);\n",
       "    this.root.appendChild(titlebar);\n",
       "    this.header = titletext;\n",
       "};\n",
       "\n",
       "mpl.figure.prototype._canvas_extra_style = function (_canvas_div) {};\n",
       "\n",
       "mpl.figure.prototype._root_extra_style = function (_canvas_div) {};\n",
       "\n",
       "mpl.figure.prototype._init_canvas = function () {\n",
       "    var fig = this;\n",
       "\n",
       "    var canvas_div = (this.canvas_div = document.createElement('div'));\n",
       "    canvas_div.setAttribute(\n",
       "        'style',\n",
       "        'border: 1px solid #ddd;' +\n",
       "            'box-sizing: content-box;' +\n",
       "            'clear: both;' +\n",
       "            'min-height: 1px;' +\n",
       "            'min-width: 1px;' +\n",
       "            'outline: 0;' +\n",
       "            'overflow: hidden;' +\n",
       "            'position: relative;' +\n",
       "            'resize: both;'\n",
       "    );\n",
       "\n",
       "    function on_keyboard_event_closure(name) {\n",
       "        return function (event) {\n",
       "            return fig.key_event(event, name);\n",
       "        };\n",
       "    }\n",
       "\n",
       "    canvas_div.addEventListener(\n",
       "        'keydown',\n",
       "        on_keyboard_event_closure('key_press')\n",
       "    );\n",
       "    canvas_div.addEventListener(\n",
       "        'keyup',\n",
       "        on_keyboard_event_closure('key_release')\n",
       "    );\n",
       "\n",
       "    this._canvas_extra_style(canvas_div);\n",
       "    this.root.appendChild(canvas_div);\n",
       "\n",
       "    var canvas = (this.canvas = document.createElement('canvas'));\n",
       "    canvas.classList.add('mpl-canvas');\n",
       "    canvas.setAttribute('style', 'box-sizing: content-box;');\n",
       "\n",
       "    this.context = canvas.getContext('2d');\n",
       "\n",
       "    var backingStore =\n",
       "        this.context.backingStorePixelRatio ||\n",
       "        this.context.webkitBackingStorePixelRatio ||\n",
       "        this.context.mozBackingStorePixelRatio ||\n",
       "        this.context.msBackingStorePixelRatio ||\n",
       "        this.context.oBackingStorePixelRatio ||\n",
       "        this.context.backingStorePixelRatio ||\n",
       "        1;\n",
       "\n",
       "    this.ratio = (window.devicePixelRatio || 1) / backingStore;\n",
       "    if (this.ratio !== 1) {\n",
       "        fig.send_message('set_dpi_ratio', { dpi_ratio: this.ratio });\n",
       "    }\n",
       "\n",
       "    var rubberband_canvas = (this.rubberband_canvas = document.createElement(\n",
       "        'canvas'\n",
       "    ));\n",
       "    rubberband_canvas.setAttribute(\n",
       "        'style',\n",
       "        'box-sizing: content-box; position: absolute; left: 0; top: 0; z-index: 1;'\n",
       "    );\n",
       "\n",
       "    var resizeObserver = new ResizeObserver(function (entries) {\n",
       "        var nentries = entries.length;\n",
       "        for (var i = 0; i < nentries; i++) {\n",
       "            var entry = entries[i];\n",
       "            var width, height;\n",
       "            if (entry.contentBoxSize) {\n",
       "                if (entry.contentBoxSize instanceof Array) {\n",
       "                    // Chrome 84 implements new version of spec.\n",
       "                    width = entry.contentBoxSize[0].inlineSize;\n",
       "                    height = entry.contentBoxSize[0].blockSize;\n",
       "                } else {\n",
       "                    // Firefox implements old version of spec.\n",
       "                    width = entry.contentBoxSize.inlineSize;\n",
       "                    height = entry.contentBoxSize.blockSize;\n",
       "                }\n",
       "            } else {\n",
       "                // Chrome <84 implements even older version of spec.\n",
       "                width = entry.contentRect.width;\n",
       "                height = entry.contentRect.height;\n",
       "            }\n",
       "\n",
       "            // Keep the size of the canvas and rubber band canvas in sync with\n",
       "            // the canvas container.\n",
       "            if (entry.devicePixelContentBoxSize) {\n",
       "                // Chrome 84 implements new version of spec.\n",
       "                canvas.setAttribute(\n",
       "                    'width',\n",
       "                    entry.devicePixelContentBoxSize[0].inlineSize\n",
       "                );\n",
       "                canvas.setAttribute(\n",
       "                    'height',\n",
       "                    entry.devicePixelContentBoxSize[0].blockSize\n",
       "                );\n",
       "            } else {\n",
       "                canvas.setAttribute('width', width * fig.ratio);\n",
       "                canvas.setAttribute('height', height * fig.ratio);\n",
       "            }\n",
       "            canvas.setAttribute(\n",
       "                'style',\n",
       "                'width: ' + width + 'px; height: ' + height + 'px;'\n",
       "            );\n",
       "\n",
       "            rubberband_canvas.setAttribute('width', width);\n",
       "            rubberband_canvas.setAttribute('height', height);\n",
       "\n",
       "            // And update the size in Python. We ignore the initial 0/0 size\n",
       "            // that occurs as the element is placed into the DOM, which should\n",
       "            // otherwise not happen due to the minimum size styling.\n",
       "            if (width != 0 && height != 0) {\n",
       "                fig.request_resize(width, height);\n",
       "            }\n",
       "        }\n",
       "    });\n",
       "    resizeObserver.observe(canvas_div);\n",
       "\n",
       "    function on_mouse_event_closure(name) {\n",
       "        return function (event) {\n",
       "            return fig.mouse_event(event, name);\n",
       "        };\n",
       "    }\n",
       "\n",
       "    rubberband_canvas.addEventListener(\n",
       "        'mousedown',\n",
       "        on_mouse_event_closure('button_press')\n",
       "    );\n",
       "    rubberband_canvas.addEventListener(\n",
       "        'mouseup',\n",
       "        on_mouse_event_closure('button_release')\n",
       "    );\n",
       "    // Throttle sequential mouse events to 1 every 20ms.\n",
       "    rubberband_canvas.addEventListener(\n",
       "        'mousemove',\n",
       "        on_mouse_event_closure('motion_notify')\n",
       "    );\n",
       "\n",
       "    rubberband_canvas.addEventListener(\n",
       "        'mouseenter',\n",
       "        on_mouse_event_closure('figure_enter')\n",
       "    );\n",
       "    rubberband_canvas.addEventListener(\n",
       "        'mouseleave',\n",
       "        on_mouse_event_closure('figure_leave')\n",
       "    );\n",
       "\n",
       "    canvas_div.addEventListener('wheel', function (event) {\n",
       "        if (event.deltaY < 0) {\n",
       "            event.step = 1;\n",
       "        } else {\n",
       "            event.step = -1;\n",
       "        }\n",
       "        on_mouse_event_closure('scroll')(event);\n",
       "    });\n",
       "\n",
       "    canvas_div.appendChild(canvas);\n",
       "    canvas_div.appendChild(rubberband_canvas);\n",
       "\n",
       "    this.rubberband_context = rubberband_canvas.getContext('2d');\n",
       "    this.rubberband_context.strokeStyle = '#000000';\n",
       "\n",
       "    this._resize_canvas = function (width, height, forward) {\n",
       "        if (forward) {\n",
       "            canvas_div.style.width = width + 'px';\n",
       "            canvas_div.style.height = height + 'px';\n",
       "        }\n",
       "    };\n",
       "\n",
       "    // Disable right mouse context menu.\n",
       "    this.rubberband_canvas.addEventListener('contextmenu', function (_e) {\n",
       "        event.preventDefault();\n",
       "        return false;\n",
       "    });\n",
       "\n",
       "    function set_focus() {\n",
       "        canvas.focus();\n",
       "        canvas_div.focus();\n",
       "    }\n",
       "\n",
       "    window.setTimeout(set_focus, 100);\n",
       "};\n",
       "\n",
       "mpl.figure.prototype._init_toolbar = function () {\n",
       "    var fig = this;\n",
       "\n",
       "    var toolbar = document.createElement('div');\n",
       "    toolbar.classList = 'mpl-toolbar';\n",
       "    this.root.appendChild(toolbar);\n",
       "\n",
       "    function on_click_closure(name) {\n",
       "        return function (_event) {\n",
       "            return fig.toolbar_button_onclick(name);\n",
       "        };\n",
       "    }\n",
       "\n",
       "    function on_mouseover_closure(tooltip) {\n",
       "        return function (event) {\n",
       "            if (!event.currentTarget.disabled) {\n",
       "                return fig.toolbar_button_onmouseover(tooltip);\n",
       "            }\n",
       "        };\n",
       "    }\n",
       "\n",
       "    fig.buttons = {};\n",
       "    var buttonGroup = document.createElement('div');\n",
       "    buttonGroup.classList = 'mpl-button-group';\n",
       "    for (var toolbar_ind in mpl.toolbar_items) {\n",
       "        var name = mpl.toolbar_items[toolbar_ind][0];\n",
       "        var tooltip = mpl.toolbar_items[toolbar_ind][1];\n",
       "        var image = mpl.toolbar_items[toolbar_ind][2];\n",
       "        var method_name = mpl.toolbar_items[toolbar_ind][3];\n",
       "\n",
       "        if (!name) {\n",
       "            /* Instead of a spacer, we start a new button group. */\n",
       "            if (buttonGroup.hasChildNodes()) {\n",
       "                toolbar.appendChild(buttonGroup);\n",
       "            }\n",
       "            buttonGroup = document.createElement('div');\n",
       "            buttonGroup.classList = 'mpl-button-group';\n",
       "            continue;\n",
       "        }\n",
       "\n",
       "        var button = (fig.buttons[name] = document.createElement('button'));\n",
       "        button.classList = 'mpl-widget';\n",
       "        button.setAttribute('role', 'button');\n",
       "        button.setAttribute('aria-disabled', 'false');\n",
       "        button.addEventListener('click', on_click_closure(method_name));\n",
       "        button.addEventListener('mouseover', on_mouseover_closure(tooltip));\n",
       "\n",
       "        var icon_img = document.createElement('img');\n",
       "        icon_img.src = '_images/' + image + '.png';\n",
       "        icon_img.srcset = '_images/' + image + '_large.png 2x';\n",
       "        icon_img.alt = tooltip;\n",
       "        button.appendChild(icon_img);\n",
       "\n",
       "        buttonGroup.appendChild(button);\n",
       "    }\n",
       "\n",
       "    if (buttonGroup.hasChildNodes()) {\n",
       "        toolbar.appendChild(buttonGroup);\n",
       "    }\n",
       "\n",
       "    var fmt_picker = document.createElement('select');\n",
       "    fmt_picker.classList = 'mpl-widget';\n",
       "    toolbar.appendChild(fmt_picker);\n",
       "    this.format_dropdown = fmt_picker;\n",
       "\n",
       "    for (var ind in mpl.extensions) {\n",
       "        var fmt = mpl.extensions[ind];\n",
       "        var option = document.createElement('option');\n",
       "        option.selected = fmt === mpl.default_extension;\n",
       "        option.innerHTML = fmt;\n",
       "        fmt_picker.appendChild(option);\n",
       "    }\n",
       "\n",
       "    var status_bar = document.createElement('span');\n",
       "    status_bar.classList = 'mpl-message';\n",
       "    toolbar.appendChild(status_bar);\n",
       "    this.message = status_bar;\n",
       "};\n",
       "\n",
       "mpl.figure.prototype.request_resize = function (x_pixels, y_pixels) {\n",
       "    // Request matplotlib to resize the figure. Matplotlib will then trigger a resize in the client,\n",
       "    // which will in turn request a refresh of the image.\n",
       "    this.send_message('resize', { width: x_pixels, height: y_pixels });\n",
       "};\n",
       "\n",
       "mpl.figure.prototype.send_message = function (type, properties) {\n",
       "    properties['type'] = type;\n",
       "    properties['figure_id'] = this.id;\n",
       "    this.ws.send(JSON.stringify(properties));\n",
       "};\n",
       "\n",
       "mpl.figure.prototype.send_draw_message = function () {\n",
       "    if (!this.waiting) {\n",
       "        this.waiting = true;\n",
       "        this.ws.send(JSON.stringify({ type: 'draw', figure_id: this.id }));\n",
       "    }\n",
       "};\n",
       "\n",
       "mpl.figure.prototype.handle_save = function (fig, _msg) {\n",
       "    var format_dropdown = fig.format_dropdown;\n",
       "    var format = format_dropdown.options[format_dropdown.selectedIndex].value;\n",
       "    fig.ondownload(fig, format);\n",
       "};\n",
       "\n",
       "mpl.figure.prototype.handle_resize = function (fig, msg) {\n",
       "    var size = msg['size'];\n",
       "    if (size[0] !== fig.canvas.width || size[1] !== fig.canvas.height) {\n",
       "        fig._resize_canvas(size[0], size[1], msg['forward']);\n",
       "        fig.send_message('refresh', {});\n",
       "    }\n",
       "};\n",
       "\n",
       "mpl.figure.prototype.handle_rubberband = function (fig, msg) {\n",
       "    var x0 = msg['x0'] / fig.ratio;\n",
       "    var y0 = (fig.canvas.height - msg['y0']) / fig.ratio;\n",
       "    var x1 = msg['x1'] / fig.ratio;\n",
       "    var y1 = (fig.canvas.height - msg['y1']) / fig.ratio;\n",
       "    x0 = Math.floor(x0) + 0.5;\n",
       "    y0 = Math.floor(y0) + 0.5;\n",
       "    x1 = Math.floor(x1) + 0.5;\n",
       "    y1 = Math.floor(y1) + 0.5;\n",
       "    var min_x = Math.min(x0, x1);\n",
       "    var min_y = Math.min(y0, y1);\n",
       "    var width = Math.abs(x1 - x0);\n",
       "    var height = Math.abs(y1 - y0);\n",
       "\n",
       "    fig.rubberband_context.clearRect(\n",
       "        0,\n",
       "        0,\n",
       "        fig.canvas.width / fig.ratio,\n",
       "        fig.canvas.height / fig.ratio\n",
       "    );\n",
       "\n",
       "    fig.rubberband_context.strokeRect(min_x, min_y, width, height);\n",
       "};\n",
       "\n",
       "mpl.figure.prototype.handle_figure_label = function (fig, msg) {\n",
       "    // Updates the figure title.\n",
       "    fig.header.textContent = msg['label'];\n",
       "};\n",
       "\n",
       "mpl.figure.prototype.handle_cursor = function (fig, msg) {\n",
       "    var cursor = msg['cursor'];\n",
       "    switch (cursor) {\n",
       "        case 0:\n",
       "            cursor = 'pointer';\n",
       "            break;\n",
       "        case 1:\n",
       "            cursor = 'default';\n",
       "            break;\n",
       "        case 2:\n",
       "            cursor = 'crosshair';\n",
       "            break;\n",
       "        case 3:\n",
       "            cursor = 'move';\n",
       "            break;\n",
       "    }\n",
       "    fig.rubberband_canvas.style.cursor = cursor;\n",
       "};\n",
       "\n",
       "mpl.figure.prototype.handle_message = function (fig, msg) {\n",
       "    fig.message.textContent = msg['message'];\n",
       "};\n",
       "\n",
       "mpl.figure.prototype.handle_draw = function (fig, _msg) {\n",
       "    // Request the server to send over a new figure.\n",
       "    fig.send_draw_message();\n",
       "};\n",
       "\n",
       "mpl.figure.prototype.handle_image_mode = function (fig, msg) {\n",
       "    fig.image_mode = msg['mode'];\n",
       "};\n",
       "\n",
       "mpl.figure.prototype.handle_history_buttons = function (fig, msg) {\n",
       "    for (var key in msg) {\n",
       "        if (!(key in fig.buttons)) {\n",
       "            continue;\n",
       "        }\n",
       "        fig.buttons[key].disabled = !msg[key];\n",
       "        fig.buttons[key].setAttribute('aria-disabled', !msg[key]);\n",
       "    }\n",
       "};\n",
       "\n",
       "mpl.figure.prototype.handle_navigate_mode = function (fig, msg) {\n",
       "    if (msg['mode'] === 'PAN') {\n",
       "        fig.buttons['Pan'].classList.add('active');\n",
       "        fig.buttons['Zoom'].classList.remove('active');\n",
       "    } else if (msg['mode'] === 'ZOOM') {\n",
       "        fig.buttons['Pan'].classList.remove('active');\n",
       "        fig.buttons['Zoom'].classList.add('active');\n",
       "    } else {\n",
       "        fig.buttons['Pan'].classList.remove('active');\n",
       "        fig.buttons['Zoom'].classList.remove('active');\n",
       "    }\n",
       "};\n",
       "\n",
       "mpl.figure.prototype.updated_canvas_event = function () {\n",
       "    // Called whenever the canvas gets updated.\n",
       "    this.send_message('ack', {});\n",
       "};\n",
       "\n",
       "// A function to construct a web socket function for onmessage handling.\n",
       "// Called in the figure constructor.\n",
       "mpl.figure.prototype._make_on_message_function = function (fig) {\n",
       "    return function socket_on_message(evt) {\n",
       "        if (evt.data instanceof Blob) {\n",
       "            /* FIXME: We get \"Resource interpreted as Image but\n",
       "             * transferred with MIME type text/plain:\" errors on\n",
       "             * Chrome.  But how to set the MIME type?  It doesn't seem\n",
       "             * to be part of the websocket stream */\n",
       "            evt.data.type = 'image/png';\n",
       "\n",
       "            /* Free the memory for the previous frames */\n",
       "            if (fig.imageObj.src) {\n",
       "                (window.URL || window.webkitURL).revokeObjectURL(\n",
       "                    fig.imageObj.src\n",
       "                );\n",
       "            }\n",
       "\n",
       "            fig.imageObj.src = (window.URL || window.webkitURL).createObjectURL(\n",
       "                evt.data\n",
       "            );\n",
       "            fig.updated_canvas_event();\n",
       "            fig.waiting = false;\n",
       "            return;\n",
       "        } else if (\n",
       "            typeof evt.data === 'string' &&\n",
       "            evt.data.slice(0, 21) === 'data:image/png;base64'\n",
       "        ) {\n",
       "            fig.imageObj.src = evt.data;\n",
       "            fig.updated_canvas_event();\n",
       "            fig.waiting = false;\n",
       "            return;\n",
       "        }\n",
       "\n",
       "        var msg = JSON.parse(evt.data);\n",
       "        var msg_type = msg['type'];\n",
       "\n",
       "        // Call the  \"handle_{type}\" callback, which takes\n",
       "        // the figure and JSON message as its only arguments.\n",
       "        try {\n",
       "            var callback = fig['handle_' + msg_type];\n",
       "        } catch (e) {\n",
       "            console.log(\n",
       "                \"No handler for the '\" + msg_type + \"' message type: \",\n",
       "                msg\n",
       "            );\n",
       "            return;\n",
       "        }\n",
       "\n",
       "        if (callback) {\n",
       "            try {\n",
       "                // console.log(\"Handling '\" + msg_type + \"' message: \", msg);\n",
       "                callback(fig, msg);\n",
       "            } catch (e) {\n",
       "                console.log(\n",
       "                    \"Exception inside the 'handler_\" + msg_type + \"' callback:\",\n",
       "                    e,\n",
       "                    e.stack,\n",
       "                    msg\n",
       "                );\n",
       "            }\n",
       "        }\n",
       "    };\n",
       "};\n",
       "\n",
       "// from http://stackoverflow.com/questions/1114465/getting-mouse-location-in-canvas\n",
       "mpl.findpos = function (e) {\n",
       "    //this section is from http://www.quirksmode.org/js/events_properties.html\n",
       "    var targ;\n",
       "    if (!e) {\n",
       "        e = window.event;\n",
       "    }\n",
       "    if (e.target) {\n",
       "        targ = e.target;\n",
       "    } else if (e.srcElement) {\n",
       "        targ = e.srcElement;\n",
       "    }\n",
       "    if (targ.nodeType === 3) {\n",
       "        // defeat Safari bug\n",
       "        targ = targ.parentNode;\n",
       "    }\n",
       "\n",
       "    // pageX,Y are the mouse positions relative to the document\n",
       "    var boundingRect = targ.getBoundingClientRect();\n",
       "    var x = e.pageX - (boundingRect.left + document.body.scrollLeft);\n",
       "    var y = e.pageY - (boundingRect.top + document.body.scrollTop);\n",
       "\n",
       "    return { x: x, y: y };\n",
       "};\n",
       "\n",
       "/*\n",
       " * return a copy of an object with only non-object keys\n",
       " * we need this to avoid circular references\n",
       " * http://stackoverflow.com/a/24161582/3208463\n",
       " */\n",
       "function simpleKeys(original) {\n",
       "    return Object.keys(original).reduce(function (obj, key) {\n",
       "        if (typeof original[key] !== 'object') {\n",
       "            obj[key] = original[key];\n",
       "        }\n",
       "        return obj;\n",
       "    }, {});\n",
       "}\n",
       "\n",
       "mpl.figure.prototype.mouse_event = function (event, name) {\n",
       "    var canvas_pos = mpl.findpos(event);\n",
       "\n",
       "    if (name === 'button_press') {\n",
       "        this.canvas.focus();\n",
       "        this.canvas_div.focus();\n",
       "    }\n",
       "\n",
       "    var x = canvas_pos.x * this.ratio;\n",
       "    var y = canvas_pos.y * this.ratio;\n",
       "\n",
       "    this.send_message(name, {\n",
       "        x: x,\n",
       "        y: y,\n",
       "        button: event.button,\n",
       "        step: event.step,\n",
       "        guiEvent: simpleKeys(event),\n",
       "    });\n",
       "\n",
       "    /* This prevents the web browser from automatically changing to\n",
       "     * the text insertion cursor when the button is pressed.  We want\n",
       "     * to control all of the cursor setting manually through the\n",
       "     * 'cursor' event from matplotlib */\n",
       "    event.preventDefault();\n",
       "    return false;\n",
       "};\n",
       "\n",
       "mpl.figure.prototype._key_event_extra = function (_event, _name) {\n",
       "    // Handle any extra behaviour associated with a key event\n",
       "};\n",
       "\n",
       "mpl.figure.prototype.key_event = function (event, name) {\n",
       "    // Prevent repeat events\n",
       "    if (name === 'key_press') {\n",
       "        if (event.which === this._key) {\n",
       "            return;\n",
       "        } else {\n",
       "            this._key = event.which;\n",
       "        }\n",
       "    }\n",
       "    if (name === 'key_release') {\n",
       "        this._key = null;\n",
       "    }\n",
       "\n",
       "    var value = '';\n",
       "    if (event.ctrlKey && event.which !== 17) {\n",
       "        value += 'ctrl+';\n",
       "    }\n",
       "    if (event.altKey && event.which !== 18) {\n",
       "        value += 'alt+';\n",
       "    }\n",
       "    if (event.shiftKey && event.which !== 16) {\n",
       "        value += 'shift+';\n",
       "    }\n",
       "\n",
       "    value += 'k';\n",
       "    value += event.which.toString();\n",
       "\n",
       "    this._key_event_extra(event, name);\n",
       "\n",
       "    this.send_message(name, { key: value, guiEvent: simpleKeys(event) });\n",
       "    return false;\n",
       "};\n",
       "\n",
       "mpl.figure.prototype.toolbar_button_onclick = function (name) {\n",
       "    if (name === 'download') {\n",
       "        this.handle_save(this, null);\n",
       "    } else {\n",
       "        this.send_message('toolbar_button', { name: name });\n",
       "    }\n",
       "};\n",
       "\n",
       "mpl.figure.prototype.toolbar_button_onmouseover = function (tooltip) {\n",
       "    this.message.textContent = tooltip;\n",
       "};\n",
       "mpl.toolbar_items = [[\"Home\", \"Reset original view\", \"fa fa-home icon-home\", \"home\"], [\"Back\", \"Back to previous view\", \"fa fa-arrow-left icon-arrow-left\", \"back\"], [\"Forward\", \"Forward to next view\", \"fa fa-arrow-right icon-arrow-right\", \"forward\"], [\"\", \"\", \"\", \"\"], [\"Pan\", \"Left button pans, Right button zooms\\nx/y fixes axis, CTRL fixes aspect\", \"fa fa-arrows icon-move\", \"pan\"], [\"Zoom\", \"Zoom to rectangle\\nx/y fixes axis, CTRL fixes aspect\", \"fa fa-square-o icon-check-empty\", \"zoom\"], [\"\", \"\", \"\", \"\"], [\"Download\", \"Download plot\", \"fa fa-floppy-o icon-save\", \"download\"]];\n",
       "\n",
       "mpl.extensions = [\"eps\", \"jpeg\", \"pdf\", \"png\", \"ps\", \"raw\", \"svg\", \"tif\"];\n",
       "\n",
       "mpl.default_extension = \"png\";/* global mpl */\n",
       "\n",
       "var comm_websocket_adapter = function (comm) {\n",
       "    // Create a \"websocket\"-like object which calls the given IPython comm\n",
       "    // object with the appropriate methods. Currently this is a non binary\n",
       "    // socket, so there is still some room for performance tuning.\n",
       "    var ws = {};\n",
       "\n",
       "    ws.close = function () {\n",
       "        comm.close();\n",
       "    };\n",
       "    ws.send = function (m) {\n",
       "        //console.log('sending', m);\n",
       "        comm.send(m);\n",
       "    };\n",
       "    // Register the callback with on_msg.\n",
       "    comm.on_msg(function (msg) {\n",
       "        //console.log('receiving', msg['content']['data'], msg);\n",
       "        // Pass the mpl event to the overridden (by mpl) onmessage function.\n",
       "        ws.onmessage(msg['content']['data']);\n",
       "    });\n",
       "    return ws;\n",
       "};\n",
       "\n",
       "mpl.mpl_figure_comm = function (comm, msg) {\n",
       "    // This is the function which gets called when the mpl process\n",
       "    // starts-up an IPython Comm through the \"matplotlib\" channel.\n",
       "\n",
       "    var id = msg.content.data.id;\n",
       "    // Get hold of the div created by the display call when the Comm\n",
       "    // socket was opened in Python.\n",
       "    var element = document.getElementById(id);\n",
       "    var ws_proxy = comm_websocket_adapter(comm);\n",
       "\n",
       "    function ondownload(figure, _format) {\n",
       "        window.open(figure.canvas.toDataURL());\n",
       "    }\n",
       "\n",
       "    var fig = new mpl.figure(id, ws_proxy, ondownload, element);\n",
       "\n",
       "    // Call onopen now - mpl needs it, as it is assuming we've passed it a real\n",
       "    // web socket which is closed, not our websocket->open comm proxy.\n",
       "    ws_proxy.onopen();\n",
       "\n",
       "    fig.parent_element = element;\n",
       "    fig.cell_info = mpl.find_output_cell(\"<div id='\" + id + \"'></div>\");\n",
       "    if (!fig.cell_info) {\n",
       "        console.error('Failed to find cell for figure', id, fig);\n",
       "        return;\n",
       "    }\n",
       "    fig.cell_info[0].output_area.element.one(\n",
       "        'cleared',\n",
       "        { fig: fig },\n",
       "        fig._remove_fig_handler\n",
       "    );\n",
       "};\n",
       "\n",
       "mpl.figure.prototype.handle_close = function (fig, msg) {\n",
       "    var width = fig.canvas.width / fig.ratio;\n",
       "    fig.cell_info[0].output_area.element.off(\n",
       "        'cleared',\n",
       "        fig._remove_fig_handler\n",
       "    );\n",
       "\n",
       "    // Update the output cell to use the data from the current canvas.\n",
       "    fig.push_to_output();\n",
       "    var dataURL = fig.canvas.toDataURL();\n",
       "    // Re-enable the keyboard manager in IPython - without this line, in FF,\n",
       "    // the notebook keyboard shortcuts fail.\n",
       "    IPython.keyboard_manager.enable();\n",
       "    fig.parent_element.innerHTML =\n",
       "        '<img src=\"' + dataURL + '\" width=\"' + width + '\">';\n",
       "    fig.close_ws(fig, msg);\n",
       "};\n",
       "\n",
       "mpl.figure.prototype.close_ws = function (fig, msg) {\n",
       "    fig.send_message('closing', msg);\n",
       "    // fig.ws.close()\n",
       "};\n",
       "\n",
       "mpl.figure.prototype.push_to_output = function (_remove_interactive) {\n",
       "    // Turn the data on the canvas into data in the output cell.\n",
       "    var width = this.canvas.width / this.ratio;\n",
       "    var dataURL = this.canvas.toDataURL();\n",
       "    this.cell_info[1]['text/html'] =\n",
       "        '<img src=\"' + dataURL + '\" width=\"' + width + '\">';\n",
       "};\n",
       "\n",
       "mpl.figure.prototype.updated_canvas_event = function () {\n",
       "    // Tell IPython that the notebook contents must change.\n",
       "    IPython.notebook.set_dirty(true);\n",
       "    this.send_message('ack', {});\n",
       "    var fig = this;\n",
       "    // Wait a second, then push the new image to the DOM so\n",
       "    // that it is saved nicely (might be nice to debounce this).\n",
       "    setTimeout(function () {\n",
       "        fig.push_to_output();\n",
       "    }, 1000);\n",
       "};\n",
       "\n",
       "mpl.figure.prototype._init_toolbar = function () {\n",
       "    var fig = this;\n",
       "\n",
       "    var toolbar = document.createElement('div');\n",
       "    toolbar.classList = 'btn-toolbar';\n",
       "    this.root.appendChild(toolbar);\n",
       "\n",
       "    function on_click_closure(name) {\n",
       "        return function (_event) {\n",
       "            return fig.toolbar_button_onclick(name);\n",
       "        };\n",
       "    }\n",
       "\n",
       "    function on_mouseover_closure(tooltip) {\n",
       "        return function (event) {\n",
       "            if (!event.currentTarget.disabled) {\n",
       "                return fig.toolbar_button_onmouseover(tooltip);\n",
       "            }\n",
       "        };\n",
       "    }\n",
       "\n",
       "    fig.buttons = {};\n",
       "    var buttonGroup = document.createElement('div');\n",
       "    buttonGroup.classList = 'btn-group';\n",
       "    var button;\n",
       "    for (var toolbar_ind in mpl.toolbar_items) {\n",
       "        var name = mpl.toolbar_items[toolbar_ind][0];\n",
       "        var tooltip = mpl.toolbar_items[toolbar_ind][1];\n",
       "        var image = mpl.toolbar_items[toolbar_ind][2];\n",
       "        var method_name = mpl.toolbar_items[toolbar_ind][3];\n",
       "\n",
       "        if (!name) {\n",
       "            /* Instead of a spacer, we start a new button group. */\n",
       "            if (buttonGroup.hasChildNodes()) {\n",
       "                toolbar.appendChild(buttonGroup);\n",
       "            }\n",
       "            buttonGroup = document.createElement('div');\n",
       "            buttonGroup.classList = 'btn-group';\n",
       "            continue;\n",
       "        }\n",
       "\n",
       "        button = fig.buttons[name] = document.createElement('button');\n",
       "        button.classList = 'btn btn-default';\n",
       "        button.href = '#';\n",
       "        button.title = name;\n",
       "        button.innerHTML = '<i class=\"fa ' + image + ' fa-lg\"></i>';\n",
       "        button.addEventListener('click', on_click_closure(method_name));\n",
       "        button.addEventListener('mouseover', on_mouseover_closure(tooltip));\n",
       "        buttonGroup.appendChild(button);\n",
       "    }\n",
       "\n",
       "    if (buttonGroup.hasChildNodes()) {\n",
       "        toolbar.appendChild(buttonGroup);\n",
       "    }\n",
       "\n",
       "    // Add the status bar.\n",
       "    var status_bar = document.createElement('span');\n",
       "    status_bar.classList = 'mpl-message pull-right';\n",
       "    toolbar.appendChild(status_bar);\n",
       "    this.message = status_bar;\n",
       "\n",
       "    // Add the close button to the window.\n",
       "    var buttongrp = document.createElement('div');\n",
       "    buttongrp.classList = 'btn-group inline pull-right';\n",
       "    button = document.createElement('button');\n",
       "    button.classList = 'btn btn-mini btn-primary';\n",
       "    button.href = '#';\n",
       "    button.title = 'Stop Interaction';\n",
       "    button.innerHTML = '<i class=\"fa fa-power-off icon-remove icon-large\"></i>';\n",
       "    button.addEventListener('click', function (_evt) {\n",
       "        fig.handle_close(fig, {});\n",
       "    });\n",
       "    button.addEventListener(\n",
       "        'mouseover',\n",
       "        on_mouseover_closure('Stop Interaction')\n",
       "    );\n",
       "    buttongrp.appendChild(button);\n",
       "    var titlebar = this.root.querySelector('.ui-dialog-titlebar');\n",
       "    titlebar.insertBefore(buttongrp, titlebar.firstChild);\n",
       "};\n",
       "\n",
       "mpl.figure.prototype._remove_fig_handler = function (event) {\n",
       "    var fig = event.data.fig;\n",
       "    fig.close_ws(fig, {});\n",
       "};\n",
       "\n",
       "mpl.figure.prototype._root_extra_style = function (el) {\n",
       "    el.style.boxSizing = 'content-box'; // override notebook setting of border-box.\n",
       "};\n",
       "\n",
       "mpl.figure.prototype._canvas_extra_style = function (el) {\n",
       "    // this is important to make the div 'focusable\n",
       "    el.setAttribute('tabindex', 0);\n",
       "    // reach out to IPython and tell the keyboard manager to turn it's self\n",
       "    // off when our div gets focus\n",
       "\n",
       "    // location in version 3\n",
       "    if (IPython.notebook.keyboard_manager) {\n",
       "        IPython.notebook.keyboard_manager.register_events(el);\n",
       "    } else {\n",
       "        // location in version 2\n",
       "        IPython.keyboard_manager.register_events(el);\n",
       "    }\n",
       "};\n",
       "\n",
       "mpl.figure.prototype._key_event_extra = function (event, _name) {\n",
       "    var manager = IPython.notebook.keyboard_manager;\n",
       "    if (!manager) {\n",
       "        manager = IPython.keyboard_manager;\n",
       "    }\n",
       "\n",
       "    // Check for shift+enter\n",
       "    if (event.shiftKey && event.which === 13) {\n",
       "        this.canvas_div.blur();\n",
       "        // select the cell after this one\n",
       "        var index = IPython.notebook.find_cell_index(this.cell_info[0]);\n",
       "        IPython.notebook.select(index + 1);\n",
       "    }\n",
       "};\n",
       "\n",
       "mpl.figure.prototype.handle_save = function (fig, _msg) {\n",
       "    fig.ondownload(fig, null);\n",
       "};\n",
       "\n",
       "mpl.find_output_cell = function (html_output) {\n",
       "    // Return the cell and output element which can be found *uniquely* in the notebook.\n",
       "    // Note - this is a bit hacky, but it is done because the \"notebook_saving.Notebook\"\n",
       "    // IPython event is triggered only after the cells have been serialised, which for\n",
       "    // our purposes (turning an active figure into a static one), is too late.\n",
       "    var cells = IPython.notebook.get_cells();\n",
       "    var ncells = cells.length;\n",
       "    for (var i = 0; i < ncells; i++) {\n",
       "        var cell = cells[i];\n",
       "        if (cell.cell_type === 'code') {\n",
       "            for (var j = 0; j < cell.output_area.outputs.length; j++) {\n",
       "                var data = cell.output_area.outputs[j];\n",
       "                if (data.data) {\n",
       "                    // IPython >= 3 moved mimebundle to data attribute of output\n",
       "                    data = data.data;\n",
       "                }\n",
       "                if (data['text/html'] === html_output) {\n",
       "                    return [cell, data, j];\n",
       "                }\n",
       "            }\n",
       "        }\n",
       "    }\n",
       "};\n",
       "\n",
       "// Register the function which deals with the matplotlib target/channel.\n",
       "// The kernel may be null if the page has been refreshed.\n",
       "if (IPython.notebook.kernel !== null) {\n",
       "    IPython.notebook.kernel.comm_manager.register_target(\n",
       "        'matplotlib',\n",
       "        mpl.mpl_figure_comm\n",
       "    );\n",
       "}\n"
      ],
      "text/plain": [
       "<IPython.core.display.Javascript object>"
      ]
     },
     "metadata": {},
     "output_type": "display_data"
    },
    {
     "data": {
      "text/html": [
       "<img src=\"data:image/png;base64,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\" width=\"640\">"
      ],
      "text/plain": [
       "<IPython.core.display.HTML object>"
      ]
     },
     "metadata": {},
     "output_type": "display_data"
    }
   ],
   "source": [
    "%matplotlib notebook\n",
    "plot_list_angles(*get_list_angles(N=5000))"
   ]
  },
  {
   "cell_type": "code",
   "execution_count": null,
   "metadata": {},
   "outputs": [],
   "source": []
  }
 ],
 "metadata": {
  "celltoolbar": "Slideshow",
  "kernelspec": {
   "display_name": "Python 3",
   "language": "python",
   "name": "python3"
  },
  "language_info": {
   "codemirror_mode": {
    "name": "ipython",
    "version": 3
   },
   "file_extension": ".py",
   "mimetype": "text/x-python",
   "name": "python",
   "nbconvert_exporter": "python",
   "pygments_lexer": "ipython3",
   "version": "3.7.8"
  }
 },
 "nbformat": 4,
 "nbformat_minor": 5
}
