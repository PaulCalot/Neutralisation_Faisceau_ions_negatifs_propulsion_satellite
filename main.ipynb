{
 "cells": [
  {
   "cell_type": "code",
   "execution_count": 1,
   "id": "determined-prague",
   "metadata": {},
   "outputs": [
    {
     "ename": "SyntaxError",
     "evalue": "invalid syntax (<ipython-input-1-9ac8f8ed9dd9>, line 22)",
     "output_type": "error",
     "traceback": [
      "\u001b[0;36m  File \u001b[0;32m\"<ipython-input-1-9ac8f8ed9dd9>\"\u001b[0;36m, line \u001b[0;32m22\u001b[0m\n\u001b[0;31m    pprint(get_size(dx,dy,n))xxxx\u001b[0m\n\u001b[0m                                ^\u001b[0m\n\u001b[0;31mSyntaxError\u001b[0m\u001b[0;31m:\u001b[0m invalid syntax\n"
     ]
    }
   ],
   "source": [
    "from pprint import pprint\n",
    "\n",
    "dx = 0.001\n",
    "dy = 0.001\n",
    "n = 10\n",
    "\n",
    "def get_size(dx, dy, n):\n",
    "    return {\n",
    "        'L_mot' : 5*dx,\n",
    "        'l_mot' : dy,\n",
    "        'L_1' :  2*dx,\n",
    "        'l_1' : dy,\n",
    "        'L_2' : 4*dx,\n",
    "        'l_2' : n*dy,\n",
    "        'delta_vert_12' : dy,\n",
    "        'L_vacuum' : 5*dx,\n",
    "        'l_vacuum' : dy,\n",
    "        'res_x': 2*(n+4),\n",
    "        'res_y': 5\n",
    "    }\n",
    "\n",
    "pprint(get_size(dx,dy,n))"
   ]
  },
  {
   "cell_type": "code",
   "execution_count": null,
   "id": "quick-louis",
   "metadata": {},
   "outputs": [],
   "source": [
    "from main import split, reversed_lines\n",
    "import csv\n",
    "split(open(\"results/thruster/1.csv\", 'r'), iterations = 500, index = -1, expected_lenght = 9, idx_to_delete = [5,6], output_name_template='output_%s.csv', output_path='results/thruster/')"
   ]
  },
  {
   "cell_type": "code",
   "execution_count": null,
   "id": "stainless-wilson",
   "metadata": {},
   "outputs": [],
   "source": [
    "N_perma = 25000 # number of particles in the system in steady flow\n",
    "target_space = 1000 # number of Mo to use for saving the given test\n",
    "\n",
    "def size_one_save(N, target_space = None, nb_iterations = None, saving_period = None, with_processing = False, as_csv = True):\n",
    "    from pprint import pprint\n",
    "    V = 6\n",
    "    if(as_csv):\n",
    "        W = (6*22+1+2)/6 # if float32 are saved as str, which is the case in csv, then, we can expect something of this magniture. \n",
    "        # I should maybe make sure I am using scientific notation..\n",
    "        if(with_processing): # for norm and norm squared\n",
    "            W+=22*2/6\n",
    "    else:\n",
    "        W = (6*4+1+2)/6\n",
    "        if(with_processing):\n",
    "            W+=4*2/6\n",
    "    # which yields :\n",
    "    size = N*(V*W+4)/1024**2\n",
    "    \n",
    "    out = {\n",
    "        'N':N,\n",
    "        'Size one save (MB)':size\n",
    "    }\n",
    "    \n",
    "    if(nb_iterations != None):\n",
    "        if(saving_period != None):\n",
    "            size *= nb_iterations//saving_period\n",
    "            out['Nb iterations']=nb_iterations\n",
    "            out['Saving period']=saving_period\n",
    "            out['Nb saves (induced)']=nb_iterations//saving_period\n",
    "            out['Total size (induced)(MB)']=size\n",
    "        else:\n",
    "            size *= nb_iterations\n",
    "            out['Nb iterations']=nb_iterations\n",
    "            out['Saving period']=1\n",
    "            out['Nb saves (induced)']=nb_iterations\n",
    "            out['Total size (induced) (MB)']=size\n",
    "    else:\n",
    "        if(saving_period != None and target_space != None):\n",
    "            nb_saves = int(target_space/size)\n",
    "            nb_iterations = nb_saves*saving_period\n",
    "            out['Nb iterations (induced)']=nb_iterations\n",
    "            out['Saving period']=saving_period\n",
    "            out['Nb saves (induced)']=nb_saves\n",
    "            out['Total size (MB)']=target_space\n",
    "    pprint(out)\n",
    "    return out\n",
    "\n"
   ]
  },
  {
   "cell_type": "code",
   "execution_count": null,
   "id": "vanilla-module",
   "metadata": {},
   "outputs": [],
   "source": [
    "# thruster 1 - steady state\n",
    "size_one_save(N=25000, nb_iterations = 20000, saving_period = 50) # per day : 5000"
   ]
  },
  {
   "cell_type": "code",
   "execution_count": null,
   "id": "short-january",
   "metadata": {},
   "outputs": [],
   "source": [
    "# thruster 1 - x4 cells\n",
    "size_one_save(N=100000, nb_iterations = 2000, saving_period = 10) # per day : 500"
   ]
  },
  {
   "cell_type": "code",
   "execution_count": null,
   "id": "irish-equivalent",
   "metadata": {},
   "outputs": [],
   "source": [
    "# tube 1 - steady state\n",
    "size_one_save(N=11000, nb_iterations = 20000, saving_period = 50) # per day : 20000"
   ]
  },
  {
   "cell_type": "code",
   "execution_count": null,
   "id": "complete-moldova",
   "metadata": {},
   "outputs": [],
   "source": [
    "size_one_save(N=11000, nb_iterations = 2000, saving_period = 4, with_processing=True)"
   ]
  },
  {
   "cell_type": "markdown",
   "id": "disabled-beatles",
   "metadata": {
    "slideshow": {
     "slide_type": "slide"
    }
   },
   "source": [
    "<div style=\"text-align: center; font-weight: bold; font-size: 200%\"> Negative ions ray neutralization for satellite propulsion</div><br />\n",
    "<div style=\"text-align: center;  font-style: italic; font-weight: bold; font-size: 220%\"> Direct Simulation Monte Carlo </div><br />\n",
    "<!--  <div style=\"text-align: center; font-size: 120%\">Laboratoire de Physique des Plasmas - Ecole polytechnique</div><br /> -->\n",
    "<div style=\"text-align: center; font-size: 150%\"><img src=\"https://www.lpp.polytechnique.fr/IMG/logo_LPP.png\" width=\"240\" height=\"240\" align=\"center\"/></div>"
   ]
  },
  {
   "cell_type": "markdown",
   "id": "prerequisite-garden",
   "metadata": {
    "slideshow": {
     "slide_type": "slide"
    }
   },
   "source": []
  },
  {
   "cell_type": "markdown",
   "id": "native-montgomery",
   "metadata": {
    "slideshow": {
     "slide_type": "skip"
    }
   },
   "source": [
    "## Algorithm\n",
    "\n",
    "For each time step $\\Delta t$, 2 phases :\n",
    "#### Advection phase : \n",
    "Particles are moved as if they did not interact. Particles that reach a boundary are processed accordingly.\n",
    "#### Collision phase : \n",
    "For each cell, we compute a given number of collisions $M_{coll}$.\n",
    "1. Choose two particles $i$ and $j$, in the cell, randomly.\n",
    "2. Compute the collision probability which is proportional to their relative speed and depends on the **maximum relative speed** in the cell which for computational reasons should be estimated.\n",
    "3. If the pair is accepted, the collision is processed with new velocities depending on the previous one and some randomness.\n",
    "4. The routine moves again to step 1, until $M_{coll}$ is reached."
   ]
  },
  {
   "cell_type": "markdown",
   "id": "entire-civilization",
   "metadata": {
    "slideshow": {
     "slide_type": "skip"
    }
   },
   "source": [
    "## Remarks :\n",
    "- It is necessary to have enough particles (at least $20$ according to literature) per cell for the validity of the algorithm.\n",
    "- One of the key point  is estimating the **maximum relative speed** in each cell.\n",
    "- A simulated particle represents much more physical particles allowing a simulation to take place with roughly $10^4$ particles."
   ]
  },
  {
   "cell_type": "markdown",
   "id": "relative-jonathan",
   "metadata": {
    "slideshow": {
     "slide_type": "skip"
    }
   },
   "source": [
    "## Principles\n",
    "\n",
    "- Choose $\\Delta t$ so that it is a fraction of the **mean free time**.\n",
    "- Choose $\\Delta x = \\Delta y$ (for square cells here) so that it is less that the **mean free path** $\\lambda$.\n",
    "\n",
    "### Calculating $\\lambda$ - the mean free path \n",
    "By definition : \n",
    "$\\lambda = \\frac{1}{\\sqrt{2}{} \\pi d^2n}$ for a maxwellian distribution.\n",
    "\n",
    "With : \n",
    "- $d$ : effective diameter of the particle. We choose : $d \\approx 4 \\times 10^{-10} \\space m$ which is the diameter of $I_2$.\n",
    "- $n$ : density of particules. We choose : $n = [I] \\approx 10^{20} \\space m^{-3}$.\n",
    "\n",
    "That yields : $\\lambda \\approx 0.014 \\space m$."
   ]
  },
  {
   "cell_type": "markdown",
   "id": "better-gnome",
   "metadata": {
    "slideshow": {
     "slide_type": "skip"
    }
   },
   "source": [
    " **Note** : \n",
    "- $L \\approx 0.005 \\space m$.\n",
    "- We can then compute the **Knudsen** number : $K_n = \\frac{\\lambda}{L} \\approx 2$. It is considered that a continumm description is not accurate when $K_n > 0.1$.\n",
    "\n",
    "The mean speed of $I$ is roughly $v=3 \\times 10^2 \\space m.s^{-1}$. Using the mean free path, that yields : $MeanFreeTime \\approx 4.8 \\times 10^{-5} \\space s$ requiring $\\Delta t \\leq 1.2 \\times 10^{-5} \\space s$."
   ]
  },
  {
   "cell_type": "markdown",
   "id": "multiple-pittsburgh",
   "metadata": {},
   "source": [
    "# Computation of the number of candidates that should be selected for collisions in a **homogeneous gas**\n",
    "\n",
    "We have the number of collisions we should process per unit of time : $M_{coll} = \\frac{1}{2} \\nu_c N dt$, with $\\nu_c$ the collision rate for one particle and $N$ the number of particles considered.\n",
    "\n",
    "$\\Rightarrow$ Not optimal to select this number of collisions per $dt$. The probability of collisions is very low afterwards. \n",
    "\n",
    "Thus, what we can do is selecting only a number of pairs to compute collisions with and hope that in average we have the same number of collisions. This is an approximation.\n",
    "\n",
    "The choice that is optimal, is to divide all probability by the maximum probability of collision $P_{max} = \\frac{v_{r,max}}{<v_{r}>}$. Which means that $\\hat{P}_{i,k} = P_{i,k}/P_{max}$. \n",
    "\n",
    "And thus, selecting $M_{cand} = P_{max} M_{coll}$ candidate pairs per unit of time yields in average to the same number of computed collisions : \n",
    "\n",
    "$$<\\hat{M}_{coll}> = <\\sum_{k=0}^{M_{cand}}  \\frac{v_{r,k}}{v_{r,max}}> = \\frac{\\sum_{k=0}^{M_{cand}}}{v_{r,max}}  <v_{r,k}> = \\frac{M_{cand}}{v_{r,max}}  <v_r> = M_{coll}$$\n"
   ]
  },
  {
   "cell_type": "markdown",
   "id": "broken-insulin",
   "metadata": {},
   "source": [
    "However, the hypothesis was that $M_{cand}$ remains the same. Even if we suppose $P_{max}$ was fixed by the user to the maximum value it can encounter (which would not be the optimal value), then $M_{coll}$ can still change. \n",
    "\n",
    "Let's first find a better expression for $M_{coll} = \\frac{1}{2} \\nu_c N dt$.\n",
    "\n",
    "We have : $\\nu_c = \\frac{1}{\\tau} = \\frac{<v_r>}{\\lambda} = <v_r> \\frac{N}{V} \\sigma$ with $\\sigma = \\pi d^2$ the cross section (which can be simplify for a Maxwellian distribution).\n",
    "\n",
    "Thus, $M_{coll} = \\frac{1}{2} <v_r> \\sigma \\frac{N^2}{V} dt$.\n",
    "\n",
    "If now, we apply it for the simulation, where : \n",
    "* $V = V_c$, the volume of a cell ;\n",
    "* $N = N_c$, the number of particle in one cell.\n",
    "\n",
    "We have : \n",
    "\n",
    " $$ M_{coll} =  \\frac{1}{2} <v_r> \\sigma \\frac{N_c^2}{V_c} dt $$\n"
   ]
  },
  {
   "cell_type": "markdown",
   "id": "removed-sleep",
   "metadata": {
    "slideshow": {
     "slide_type": "skip"
    }
   },
   "source": [
    "# Probability of collision\n",
    "\n",
    "For a given cell containing $N_c$ particles, the number of pairs selected is :\n",
    "\n",
    "$$M_{cand} = \\frac{ \\pi N_c \\bar{N_c} d^2 v_{r,max} N_e}{2V_c} \\Delta t$$ \n",
    "\n",
    "Where : \n",
    "* $\\bar{N_c}$ is, for now, set at the start of the simulation and equals to : $\\frac{\\text{number of particles}}{\\text{number of cells}}$ ;\n",
    "* $d$ is the effective diameter (here : $4\\times10^{-10}$ m) ;\n",
    "* $v_{r,max}$ is the estimation of the maximum relative norm speed, here $600$ $m.s^{-1}$;\n",
    "* $N_e$ is the number of real particles a simulated particle represents, here roughly $2 \\times 10^{14}$ ;\n",
    "* $V_c$ is the volume of the cell. \n",
    "* $\\Delta t$ the time step.\n",
    "\n",
    "The probability of collision for a given pair $(i,j)$ is then equals to : $\\frac{v_{r, norm}}{v_{r,max}}$ where : $v_{r, norm} = \\|v_j - v_i\\|$.\n"
   ]
  },
  {
   "cell_type": "markdown",
   "id": "third-aurora",
   "metadata": {
    "slideshow": {
     "slide_type": "skip"
    }
   },
   "source": [
    "# Simulation parameters\n",
    "* $[I] = 10^{20}$ $m^{-3}$\n",
    "* $ d = 4\\times10^{-10}$ $m$\n",
    "* $v_{mean} = 3\\times 10^2$ $m.s^{-1}$ and $v_{r,max} = 2v_{mean}$\n",
    "\n",
    "This allows to compute the **mean free time** and the **mean free path**.\n",
    "\n",
    "\n",
    "* $dt = 0.25 \\times MeanFreeTime = 1.17 \\times 10^{-5}$ $s$.\n",
    "* Mean number of particles per cell : $100$ or $200$.\n",
    "* Number of cells : $N_{c,x} = 3$ ; $N_{c,y} = 3$ which makes $9$ cells. The size of the grid is then computed using the **mean free path** $\\lambda$: $(\\lambda N_{c,x},\\lambda N_{c,y}, l_z)$ where $l_z = 0.1$ m. The total volume is thus : $0.042 \\times 0.042 \\times 0.1 = 1.7 \\times 10^{-5}$ $m^{-3}$.\n"
   ]
  },
  {
   "cell_type": "markdown",
   "id": "faced-graham",
   "metadata": {
    "slideshow": {
     "slide_type": "skip"
    }
   },
   "source": [
    "\n",
    "## Three types of initialization for speed :\n",
    "* Uniform  : each $v_x$, $v_y$ and $v_z$ is choosen uniform on $[-m,M]$, $m=M$. The law of  $V = \\sqrt{{v_x}^2+{v_y}^2+{v_z}^2}$ can be obtained with geometric arguments (more below).\n",
    "* Uniform on speed norm : $V = \\sqrt{{v_x}^2+{v_y}^2+{v_z}^2}$ is choosen uniformy on $[m,M]$.\n",
    "* Gaussian : each $v_x$, $v_y$ and $v_z$ is choosen along a gaussian distribution with $\\sigma = \\sqrt{\\frac{k_bT}{m_i}}$ (where $m_i$ is the mass of the particle, here they are all the same) and $\\mu = 0$. The distribution of  $V = \\sqrt{{v_x}^2+{v_y}^2+{v_z}^2}$ is a maxwellian one.\n"
   ]
  },
  {
   "cell_type": "markdown",
   "id": "korean-warren",
   "metadata": {
    "slideshow": {
     "slide_type": "skip"
    }
   },
   "source": [
    "# Explaination - law of  $V = \\sqrt{{v_x}^2+{v_y}^2+{v_z}^2}$\n",
    "\n",
    "\n",
    "For instance, \n",
    "* $\\mathbb{P}(V < v) = 0$ for $v<0$.  \n",
    "* $\\mathbb{P}(V < v) = \\frac{\\text{Volume of the sphere of radius }v \\text{ centered in }0}{m^3} = \\frac{\\frac{4}{3}\\pi v^3}{m^3}$ for $0 \\leq v \\leq m$. \n",
    "* $\\mathbb{P}(V < v) = ...  $ for $\\sqrt{3}m > v > m$.\n",
    "* $\\mathbb{P}(V < v) = 1$ for $\\sqrt{3}m < v$.\n",
    "\n",
    "This yields : $\\mathbb{E}(V)=$"
   ]
  },
  {
   "cell_type": "markdown",
   "id": "modular-republican",
   "metadata": {
    "slideshow": {
     "slide_type": "skip"
    }
   },
   "source": [
    "# Results"
   ]
  },
  {
   "cell_type": "markdown",
   "id": "horizontal-deposit",
   "metadata": {
    "slideshow": {
     "slide_type": "skip"
    }
   },
   "source": [
    "### Maxwellian norm init\n",
    "Once the norm $V$ has been choosen, we randomly select $\\phi$ and $\\theta$ in $[0,2\\pi[$ and then :\n",
    "* $v_x = V sin(\\theta) cos(\\phi) $\n",
    "* $v_x = V sin(\\theta) sin(\\phi) $\n",
    "* $v_x = V cos(\\theta) $"
   ]
  },
  {
   "cell_type": "markdown",
   "id": "integral-order",
   "metadata": {
    "slideshow": {
     "slide_type": "skip"
    }
   },
   "source": [
    "# Collision frequency\n",
    "\n",
    "* Number of collisions during simulation : $20089$ collisions ; \n",
    "* $N_e \\approx 9.9 \\times 10^{11}$ particles ;\n",
    "Which yields : $2.0 \\times 10^{17}$ 'real' collisions during the simulation.\n",
    "\n",
    "Then, the number of collisions per unit of time, per unit of volume in theory is given by : $z = \\frac{n}{2} \\frac{\\bar{v}}{\\lambda}$.\n",
    "\n",
    "We have : \n",
    "* $n = 10^{20}$ $m^{-3}$ ;\n",
    "* $\\bar{v} = 276.64$ $m.s^{-1}$ at the beginning of the simulation. It remains the same as the system is conservative ;\n",
    "* $\\lambda = 1.4 \\times 10^{-2}$ $m$ ;\n",
    "\n",
    "Which yields for a volume of $1.8 \\times 10^{-4}$ $m^3$ and a elapsed time of $3.51 \\times 10^{-3}$ $s$ to $6.2 \\times 10^{17}$ collisions."
   ]
  },
  {
   "cell_type": "markdown",
   "id": "moving-treat",
   "metadata": {
    "slideshow": {
     "slide_type": "skip"
    }
   },
   "source": [
    "\n",
    "##  Modelization of temperature evolution for non maxwellian initializations\n",
    "\n",
    "We are looking to modelize the standard deviation of the temperature distribution with the relation :\n",
    "$$\\sigma^2(t) = (\\sigma^2(0) - \\sigma^2_{eq})e^{-t/\\tau}+\\sigma^2_{eq}$$\n",
    "\n",
    "Evolution fo temperature in the simulation, for each time step $n$: \n",
    "1. We define $w_n = v_n - <v_n>$\n",
    "2. Which yields : $\\sigma^2_n = <w_n^2>$ which is an approximaton of the variance of the random variable $V_n$ by definition.\n",
    "\n",
    "Since the system is a conservative one, we can compute $<v_{0}^2>$, an approximation of the 2nd order moment of the random variable $V_0$ by definition. Then, if we suppose the thermal equilibrium, we can compute the scale parameter in the Maxwell distribution : $a = \\sqrt{\\frac{kT}{m}} =  \\sqrt{\\frac{<v_{0}^2>}{3}}$ for dimension thre. Which yields the variance :  $\\sigma_{eq} = \\frac{a^2(3\\pi-8)}{\\pi}$.\n",
    "\n",
    "Then we minimize $|\\sigma^2_n -\\big[(\\sigma^2(0) - \\sigma^2_{eq})e^{-t/\\tau}+\\sigma^2_{eq}\\big]|$ w.r.t. to $\\tau$."
   ]
  },
  {
   "cell_type": "markdown",
   "id": "adjusted-story",
   "metadata": {
    "slideshow": {
     "slide_type": "skip"
    }
   },
   "source": [
    "## Flux injection\n",
    "\n",
    "### Normal distribution :\n",
    "\n",
    "\n",
    "- For the case of ions / electrons that have been accelerated using electric fields in the direction $x_1$, then $x_2$ and $x_3$ should be treated as 'normal' maxwellian distribution and $x_1$ should be "
   ]
  },
  {
   "cell_type": "markdown",
   "id": "pharmaceutical-sharp",
   "metadata": {
    "slideshow": {
     "slide_type": "slide"
    }
   },
   "source": [
    "## Maxwellian flux"
   ]
  },
  {
   "cell_type": "markdown",
   "id": "negative-module",
   "metadata": {
    "slideshow": {
     "slide_type": "slide"
    }
   },
   "source": [
    "Value taken :\n",
    "* Flux speed : $v_{flux} = 50$ $m.s^{-1}$\n",
    "* Flux is computed using : $\\Gamma = \\frac{1}{4} n S_{in} \\bar{v} + n S_{in} v_{flux}$ with : $\\bar{v} = \\sqrt{\\frac{8kT}{\\pi m}}$\n",
    "* temperature : 300 K\n",
    "* $n = 3.2 \\times 10^{19}$ $m^{-3}$\n",
    "* $S_{in}$ = $l_{\\text{in-wall}} \\times l_z$ with $l_z = 1$ $mm$. \n",
    "\n",
    "For the tube system : $l_{\\text{in-wall}} = 1$ $mm$."
   ]
  },
  {
   "cell_type": "markdown",
   "id": "behavioral-accreditation",
   "metadata": {
    "slideshow": {
     "slide_type": "slide"
    }
   },
   "source": [
    "### Speed init "
   ]
  },
  {
   "cell_type": "code",
   "execution_count": null,
   "id": "incredible-blind",
   "metadata": {
    "slideshow": {
     "slide_type": "slide"
    }
   },
   "outputs": [],
   "source": [
    "import matplotlib.pyplot as plt\n",
    "import scipy.stats as ss\n",
    "import numpy as np\n",
    "from main import get_maxwellian_mean_speed_from_temperature, get_mass_part, get_gaussian_params_maxwellian, get_maxwellian_params\n",
    "\n",
    "from scipy.stats import maxwell, norm\n",
    "from random import gauss, random\n",
    "\n",
    "n=200000\n",
    "list_vx = []\n",
    "list_vy = []\n",
    "list_vz = []\n",
    "drift = 50 # m/s\n",
    "T=300 # K\n",
    "v_mean = get_maxwellian_mean_speed_from_temperature(T, m = get_mass_part(53, 53, 88))\n",
    "sigma = get_gaussian_params_maxwellian(T, m = get_mass_part(53, 53, 88))\n",
    "\n",
    "list_norm = []\n",
    "for k in range(n):\n",
    "    vx = sigma * np.sqrt(-2*np.log10((1-random()))) + drift\n",
    "    vy = norm.rvs(0, sigma)\n",
    "    vz = norm.rvs(0, sigma)\n",
    "    list_vx.append(vy)\n",
    "    list_vy.append(-vx)\n",
    "    list_vz.append(vz)\n",
    "    list_norm.append(np.sqrt(vx*vx+vy*vy+vz*vz))\n",
    "\n",
    "fig, axes = plt.subplots(2,2, figsize = (15,10))\n",
    "\n",
    "axes[0,0].hist(list_vx, bins = 'auto', density=True, range = None, color = 'r')\n",
    "axes[0,1].hist(list_vy, bins = 'auto', density=True, range = None, color = 'g')\n",
    "axes[1,0].hist(list_vz, bins = 'auto', density=True, range = None, color = 'b')\n",
    "axes[1,1].hist(list_norm, bins = 'auto', density=True, range = None, color = 'k')\n",
    "\n",
    "x = np.linspace(-1.5*sigma, 3*sigma, n)\n",
    "#axes[0,0].plot(x, norm.pdf(x, loc=drift, scale=sigma)/(1-norm.cdf(x=0, loc=drift, scale=sigma)), 'k-', lw=2, alpha=0.6, label='norm pdf')\n",
    "axes[0,0].plot(x, norm.pdf(x, loc=0, scale=sigma), 'k-', lw=2, alpha=0.6, label='norm pdf')\n",
    "axes[1,0].plot(x, norm.pdf(x, loc=0, scale=sigma), 'k-', lw=2, alpha=0.6, label='norm pdf')\n",
    "\n",
    "#rv = norm()\n",
    "#ax.plot(x, rv.pdf(x), 'k-', lw=2, label='frozen pdf')\n",
    "\n",
    "col=np.array(list_norm)\n",
    "min_ = np.min(col)\n",
    "max_ = np.max(col)\n",
    "X = np.linspace(min_, max_, 1000)\n",
    "loc, a = get_maxwellian_params(np.mean(col), np.std(col))\n",
    "Y = ss.maxwell.pdf(X, loc=loc, scale = a)\n",
    "axes[1,1].plot(X,Y, label = 'maxwellian pdf')\n",
    "\n",
    "plt.xticks(fontsize=14)\n",
    "plt.yticks(fontsize=14)\n",
    "axes[0,0].set_xlabel('$v_x$', fontsize=14)\n",
    "axes[0,1].set_xlabel('$v_y$', fontsize=14)\n",
    "axes[1,0].set_xlabel('$v_z$', fontsize=14)\n",
    "axes[1,1].set_xlabel('$V$', fontsize=14)\n",
    "\n",
    "plt.savefig('injecting_y_negative.png', dpi = 400, bbox_inches = 'tight', pad_inches = 0)"
   ]
  },
  {
   "cell_type": "markdown",
   "id": "rental-designation",
   "metadata": {},
   "source": [
    "# Speed init - uniform\n"
   ]
  },
  {
   "cell_type": "code",
   "execution_count": null,
   "id": "spatial-passport",
   "metadata": {},
   "outputs": [],
   "source": [
    "from main import init_particles_flux, MyVector, init_particles_flux_naive\n",
    "from random import random\n",
    "\n",
    "min_speed_uniform_distribution = -200\n",
    "max_speed_uniform_distribution = 200\n",
    "N = 50000\n",
    "VX, VY, VZ, V = [], [], [], []\n",
    "for k in range(N):\n",
    "    vx = min_speed_uniform_distribution+random()*(max_speed_uniform_distribution-min_speed_uniform_distribution)\n",
    "    vy = min_speed_uniform_distribution+random()*(max_speed_uniform_distribution-min_speed_uniform_distribution)\n",
    "    vz = min_speed_uniform_distribution+random()*(max_speed_uniform_distribution-min_speed_uniform_distribution)\n",
    "    VX.append(vx)\n",
    "    VY.append(vy)\n",
    "    VZ.append(vz)\n",
    "    V.append(np.sqrt(vx*vx+vy*vy+vz*vz))\n",
    "fig, axes = plt.subplots(2,2, figsize = (15,10))\n",
    "axes[0,0].hist(VX, bins = 'auto', density=True, range = None, color = 'r')\n",
    "axes[0,1].hist(VY, bins = 'auto', density=True, range = None, color = 'g')\n",
    "axes[1,0].hist(VZ, bins = 'auto', density=True, range = None, color = 'b')\n",
    "axes[1,1].hist(V, bins = 'auto', density=True, range = None, color = 'k')\n",
    "plt.xticks(fontsize=14)\n",
    "plt.yticks(fontsize=14)\n",
    "axes[0,0].set_xlabel('$v_x$', fontsize=14)\n",
    "axes[0,1].set_xlabel('$v_y$', fontsize=14)\n",
    "axes[1,0].set_xlabel('$v_z$', fontsize=14)\n",
    "axes[1,1].set_xlabel('$V$', fontsize=14)\n",
    "\n",
    "plt.savefig('init_uniform_speed.png', dpi = 400, bbox_inches = 'tight', pad_inches = 0)"
   ]
  },
  {
   "cell_type": "markdown",
   "id": "detected-jamaica",
   "metadata": {},
   "source": [
    "## Initialization of particules - position and speed"
   ]
  },
  {
   "cell_type": "code",
   "execution_count": null,
   "id": "approved-suite",
   "metadata": {},
   "outputs": [],
   "source": [
    "from main import init_particles_flux, MyVector, init_particles_flux_naive\n",
    "# typical initializations\n",
    "def init_list_particles(N = 10000, naive = False, factor = 10):\n",
    "    \n",
    "    walls = [[0,0,0.01,0],[0,0,0,-0.005],[0.01,0.0,0.01,-0.005]]\n",
    "    wall = walls[0]\n",
    "    direction = MyVector(0,-1)\n",
    "    nb_particles_to_inject = [N]\n",
    "    particles_types = ['I']\n",
    "    temperatures = [300] # K\n",
    "    drifts = [30]\n",
    "    dt = 2e-6\n",
    "    if(naive):\n",
    "        list_particles = init_particles_flux_naive(wall, direction, nb_particles_to_inject, particles_types, temperatures, drifts, dt, factor = factor)\n",
    "    else:\n",
    "        list_particles = init_particles_flux(wall, direction, nb_particles_to_inject, particles_types, temperatures, drifts, dt)\n",
    "    return list_particles, walls, dt    \n",
    "    "
   ]
  },
  {
   "cell_type": "code",
   "execution_count": null,
   "id": "smoking-retrieval",
   "metadata": {},
   "outputs": [],
   "source": [
    "def get_speed_pos(list_particles):\n",
    "    X, Y, Z = [],[],[]\n",
    "    VX, VY, VZ = [],[],[]\n",
    "    V = []\n",
    "    for part in list_particles:\n",
    "        pos = part.get_pos()\n",
    "        speed = part.get_speed()\n",
    "        x, y, z = pos.x, pos.y, pos.z\n",
    "        vx, vy, vz = speed.x, speed.y, speed.z\n",
    "\n",
    "        # appending to lists\n",
    "        X.append(x)\n",
    "        Y.append(y)\n",
    "        Z.append(z)\n",
    "        VX.append(vx)\n",
    "        VY.append(vy)\n",
    "        VZ.append(vz)\n",
    "        V.append(speed.norm())\n",
    "    return X,Y,Z,VX,VY,VZ,V\n",
    "\n"
   ]
  },
  {
   "cell_type": "code",
   "execution_count": null,
   "id": "moving-antenna",
   "metadata": {},
   "outputs": [],
   "source": [
    "import matplotlib.pyplot as plt\n",
    "import scipy.stats as ss\n",
    "import numpy as np\n",
    "from random import gauss, random\n",
    "from main import get_maxwellian_mean_speed_from_temperature, get_mass_part, get_gaussian_params_maxwellian, get_maxwellian_params\n",
    "\n",
    "def hist(ax, arr, x_name, color, density, pdf = None):\n",
    "    if(ax != None):\n",
    "        ax.hist(arr, bins = 'auto', density=density, color = color)\n",
    "        ax.set_xlabel(x_name, fontsize =12)\n",
    "    else:\n",
    "        plt.hist(arr, bins = 'auto', density=density, color = color)\n",
    "        plt.xlabel(x_name, fontsize =12)\n",
    "    if(pdf == 'maxwellian'):\n",
    "        col=np.array(arr)\n",
    "        min_ = np.min(col)\n",
    "        max_ = np.max(col)\n",
    "        X = np.linspace(min_, max_, 1000)\n",
    "        loc, a = get_maxwellian_params(np.mean(col), np.std(col))\n",
    "        Y = ss.maxwell.pdf(X, loc=loc, scale = a)\n",
    "        ax.plot(X,Y, label = 'gaussian pdf')\n",
    "    elif(pdf == 'gaussian'):\n",
    "        col=np.array(arr)\n",
    "        min_ = np.min(col)\n",
    "        max_ = np.max(col)\n",
    "        X = np.linspace(min_, max_, 1000)\n",
    "        Y = ss.norm.pdf(X, loc=np.mean(col), scale = np.std(col))\n",
    "        ax.plot(X,Y, label = 'maxwellian pdf')\n"
   ]
  },
  {
   "cell_type": "code",
   "execution_count": null,
   "id": "indirect-writing",
   "metadata": {},
   "outputs": [],
   "source": [
    "# position\n",
    "naive = False\n",
    "factor = 1\n",
    "N = 500000\n",
    "list_particles, walls, dt = init_list_particles(N=N, naive = naive, factor = factor)\n",
    "X,Y,Z,VX,VY,VZ,V= get_speed_pos(list_particles)"
   ]
  },
  {
   "cell_type": "code",
   "execution_count": null,
   "id": "israeli-plastic",
   "metadata": {},
   "outputs": [],
   "source": [
    "fig, axes = plt.subplots(1,2, figsize = (15,5))\n",
    "hist(axes[0], X, 'x', color = 'r', density = True)\n",
    "hist(axes[1], Y, 'y', color = 'g', density = True)\n",
    "plt.savefig('position_init_flux_thruster', dpi=400, bbox_inches = 'tight', pad_inches = 0)"
   ]
  },
  {
   "cell_type": "code",
   "execution_count": null,
   "id": "large-missouri",
   "metadata": {},
   "outputs": [],
   "source": [
    "def plot_walls(ax, walls):\n",
    "    for wall in walls:\n",
    "        if(ax != None):\n",
    "            ax.plot([wall[0],wall[2]],[wall[1],wall[3]], color = 'k')\n",
    "        else:\n",
    "            plt.plot([wall[0],wall[2]],[wall[1],wall[3]], color = 'k')\n",
    "\n",
    "def plot_system(X,Y, walls, color = 'b'):\n",
    "    fig, ax = plt.subplots(figsize = (15,15))\n",
    "    plt.scatter(X,Y, s = 0.02, color = color)\n",
    "    plot_walls(ax,walls)\n",
    "\n",
    "\n",
    "plot_system(X,Y, walls)    \n",
    "plt.show()"
   ]
  },
  {
   "cell_type": "code",
   "execution_count": null,
   "id": "moderate-nurse",
   "metadata": {},
   "outputs": [],
   "source": [
    "# plotting first iterations\n",
    "\n",
    "\n",
    "# TODO:  faire ce plot pour une système arrivé en phase final (pour vraiment voir si l'initialisation est continu ou pas)\n",
    "\n",
    "def plot(iterations = 10, N=10000, naive = False, factor = 10):\n",
    "    fig, ax = plt.subplots(figsize = (15,15))\n",
    "    colors = ['r','g','b','y','k']*5# plt.cm.coolwarm(np.linspace(0.1,0.9,iterations)) # This returns RGBA; convert:\n",
    "    walls = []\n",
    "    lists_particles = []\n",
    "    for it in range(iterations):\n",
    "        list_particles, walls, dt = init_list_particles(N, naive, factor)\n",
    "        lists_particles.append(list_particles)\n",
    "        \n",
    "        for i in range(it):\n",
    "            for part in lists_particles[i]:\n",
    "                part.set_pos(part.get_pos()+dt*part.get_speed())\n",
    "    XX, YY = [], []\n",
    "    for it in range(iterations):\n",
    "        X,Y,Z,VX,VY,VZ,V = get_speed_pos(lists_particles[it]) \n",
    "        plt.scatter(X,Y, s = 2.0, color = colors[it])\n",
    "        for x,y in zip(X,Y):\n",
    "            XX.append(x)\n",
    "            YY.append(y)\n",
    "            \n",
    "    plot_walls(ax,walls)\n",
    "    return XX,YY\n",
    "\n",
    "\n",
    "XX, YY = plot(iterations = 5, N=40000, naive = naive, factor = factor)\n",
    "axes = plt.gca()\n",
    "axes.set_xlim([-0.004,0.014])\n",
    "axes.set_ylim([-0.005,0.0001])\n",
    "plt.savefig('spatial_init_flux_thruster_5it', dpi=400)"
   ]
  },
  {
   "cell_type": "code",
   "execution_count": null,
   "id": "behind-modification",
   "metadata": {},
   "outputs": [],
   "source": [
    "\n",
    "fig, axes = plt.subplots(1,2, figsize = (15,5))\n",
    "hist(axes[0], XX, 'x', color = 'r', density = True)\n",
    "hist(axes[1], YY, 'y', color = 'g', density = True)\n",
    "#hist(axes[1], Y, 'x', color = 'k', density = True)\n",
    "plt.plot()\n",
    "plt.savefig('position_init_flux_thruster_after_5it', dpi=400)"
   ]
  },
  {
   "cell_type": "code",
   "execution_count": null,
   "id": "burning-alpha",
   "metadata": {},
   "outputs": [],
   "source": [
    "fig, axes = plt.subplots(2,2, figsize = (15,10))\n",
    "hist(axes[0,0], VX, 'vx', color = 'r', density = True, pdf = 'gaussian')\n",
    "hist(axes[0,1], VY, 'vy', color = 'g', density = True)\n",
    "hist(axes[1,0], VZ, 'vz', color = 'b', density = True, pdf = 'gaussian')\n",
    "hist(axes[1,1], V, 'norm v', color = 'k', density = True, pdf = 'maxwellian')\n",
    "plt.plot()\n",
    "plt.savefig('speed_init_flux_thruster', dpi=400)"
   ]
  },
  {
   "cell_type": "markdown",
   "id": "stuck-latex",
   "metadata": {
    "slideshow": {
     "slide_type": "slide"
    }
   },
   "source": [
    "\n",
    "<table><tr>\n",
    "<td> <img src=\"pictures/thruster.png\" alt=\"Drawing\" style=\"width: 30%;\"/> </td>\n",
    "</tr></table>"
   ]
  },
  {
   "cell_type": "markdown",
   "id": "posted-sword",
   "metadata": {
    "slideshow": {
     "slide_type": "slide"
    }
   },
   "source": [
    "Previously :\n",
    "* $ x = U(x_{min}, x_{max}) $\n",
    "* $ y = y_{init}$\n",
    "\n",
    "Sometimes we had results like that : \n",
    "<table><tr>\n",
    "<td> <img src=\"results/square_2/figures/density_bins15_frames298_x_y.png\" alt=\"Drawing\" style=\"width: 50%;\"/> </td>\n",
    "</tr></table>\n",
    "\n",
    "Consequence : non continuous flux. However, it is hard to know if it matters for this system beforehand."
   ]
  },
  {
   "cell_type": "markdown",
   "id": "suspended-timeline",
   "metadata": {
    "slideshow": {
     "slide_type": "slide"
    }
   },
   "source": [
    "Now for a particle initialized with speed ($v_x, v_y, v_z$), $v_y < 0$:\n",
    "* $ x = U(x_{min}, x_{max}) + U(0,1) \\times v_x \\times dt $\n",
    "* $ y = y_{init} +  U(0,1) \\times v_y \\times dt $\n",
    "\n",
    "In practice, because of issues with initializing particles outside of the system : \n",
    "* $ x = U(x_{min}, x_{max}) $\n",
    "* $ y = y_{init} +  U(0,1) \\times v_y \\times dt $"
   ]
  },
  {
   "cell_type": "code",
   "execution_count": null,
   "id": "supported-rhythm",
   "metadata": {},
   "outputs": [],
   "source": []
  },
  {
   "cell_type": "markdown",
   "id": "worse-organic",
   "metadata": {
    "slideshow": {
     "slide_type": "slide"
    }
   },
   "source": [
    "<table><tr>\n",
    "<td> <img src=\"results/tube_1/figures/density_bins30_frames240_directionx.png\" alt=\"Drawing\" style=\"width: 300px;\"/> </td>\n",
    "<td> <img src=\"results/tube_2/figures/density_bins30_frames240_directionx.png\" alt=\"Drawing\" style=\"width: 300px;\"/> </td>\n",
    "<td> <img src=\"results/tube_6/figures/density_bins30_frames240_directionx.png\" alt=\"Drawing\" style=\"width: 300px;\"/> </td>\n",
    "</tr></table>\n",
    "\n",
    "From left to right ($l_x, l_y$) : (10, 1), (10, 2), (5, 1)  $mm$."
   ]
  },
  {
   "cell_type": "markdown",
   "id": "sealed-sunrise",
   "metadata": {
    "slideshow": {
     "slide_type": "slide"
    }
   },
   "source": [
    "<table><tr>\n",
    "<td> <img src=\"results/tube_5/figures/density_bins30_frames240_directionx.png\" alt=\"Drawing\" style=\"width: 500px;\"/> </td>\n",
    "<td> <img src=\"results/tube_4/figures/density_bins30_frames240_directionx.png\" alt=\"Drawing\" style=\"width: 500px;\"/> </td>\n",
    "</tr></table>\n",
    "\n",
    "From left to right ($l_x, l_y$) : (100, 1), (10, 10)  $mm$."
   ]
  },
  {
   "cell_type": "markdown",
   "id": "hungry-improvement",
   "metadata": {
    "slideshow": {
     "slide_type": "slide"
    }
   },
   "source": [
    "### Thruster\n",
    "<table><tr>\n",
    "<td> <img src=\"results/thruster/figures/1_vy_spatial_distribution_it_21_240frames.png\" alt=\"Drawing\" style=\"width: 500px;\"/> </td>\n",
    "<td> <img src=\"results/thruster/figures/density_bins10_frames240_directiony.png\" alt=\"Drawing\" style=\"width: 500px;\"/> </td>\n",
    "</tr></table>"
   ]
  },
  {
   "cell_type": "code",
   "execution_count": null,
   "id": "exciting-somerset",
   "metadata": {},
   "outputs": [],
   "source": [
    "\n",
    "# to compare some results with :\n",
    "# http://fisica.ufpr.br/sharipov/tube.html\n",
    "\n",
    "from main import get_maxwellian_mean_speed_from_temperature\n",
    "from main import available_particles\n",
    "import numpy as np\n",
    "\n",
    "R = 8.314 # J/mol.K\n",
    "\n",
    "def speed_of_sound(gamma,T,M):\n",
    "    \"\"\"Return the speed of sound.\n",
    "\n",
    "    Args:\n",
    "        gamma (float): adiabatic constant \n",
    "        T (float): absolute temperature (K)\n",
    "        M (float): molecular weight (kg/mol)\n",
    "\n",
    "    Returns:\n",
    "        float: c - speed of sound\n",
    "    \"\"\"\n",
    "    return np.sqrt(gamma*R*T/M)\n",
    "\n",
    "def flux(n, Sin, T, m, drift):\n",
    "    v_mean = get_maxwellian_mean_speed_from_temperature(T,m)\n",
    "    return n*Sin*(0.25*v_mean+drift)\n",
    "\n",
    "def Cp(Cv):\n",
    "    return Cv+R\n",
    "\n",
    "def gamma(Cv):\n",
    "    return Cp(Cv)/Cv\n",
    "\n",
    "\n",
    "# http://hyperphysics.phy-astr.gsu.edu/hbase/Kinetic/shegas.html#c5\n",
    "Cv_monoatomic = 12.5\n",
    "gamma = gamma(Cv_monoatomic)\n",
    "print('Gamma motoatomic : {} '.format(gamma))\n",
    "\n",
    "# Xe\n",
    "M_Xe = 0.131 # kg/mol\n",
    "m_Xe = available_particles['Xe']['mass']\n",
    "\n",
    "# I\n",
    "M_I = 0.12690447 # kg/mol\n",
    "m_I = available_particles['I']['mass']"
   ]
  },
  {
   "cell_type": "markdown",
   "id": "impaired-talent",
   "metadata": {},
   "source": [
    "### Comparing with other simulation\n",
    "[Link](http://fisica.ufpr.br/sharipov/tube.html)"
   ]
  },
  {
   "cell_type": "code",
   "execution_count": null,
   "id": "marine-tumor",
   "metadata": {},
   "outputs": [],
   "source": [
    "T = 300 \n",
    "c_Xe = speed_of_sound(gamma,T,M_Xe) # may be we are using the wrong T...\n",
    "c_I = speed_of_sound(gamma,T,M_I)\n",
    "drift = 50 # m/s\n",
    "\n",
    "n_out = 1.75e19 # m-3, output\n",
    "\n",
    "lx,ly,lz = 0.01,0.001,0.001\n",
    "Sin = ly*lz # m2\n",
    "\n",
    "flux_out_Xe = flux(n_out, Sin, T, m_Xe, drift)\n",
    "flux_out_I = flux(n_out, Sin, T, m_I, drift)\n",
    "\n",
    "# From : http://fisica.ufpr.br/sharipov/tube.html\n",
    "# for previous value, and for Xenon\n",
    "mass_flow_rate, mach = 3.08e-10, 0.0832\n",
    "\n",
    "mass_flow_rate_simu = m_I*flux_out_I\n",
    "v_out = 191 # m/s\n",
    "mach_simu = v_out/c_I\n",
    "\n",
    "print('RAREFIED GAS FLOW THROUGH A LONG CYLINDRICAL TUBE - RESULTS')\n",
    "print('Mass flow rate : {:e} kg/s - mach number : {:e}'.format(mass_flow_rate, mach))\n",
    "print('\\n')\n",
    "print('SIMULATION - RESULTS')\n",
    "print('Mass flow rate : {:e} kg/s - mach number : {:e}'.format(mass_flow_rate_simu, mach_simu))\n"
   ]
  },
  {
   "cell_type": "markdown",
   "id": "restricted-appearance",
   "metadata": {},
   "source": [
    "# TODO : add tab"
   ]
  },
  {
   "cell_type": "markdown",
   "id": "acute-romance",
   "metadata": {
    "slideshow": {
     "slide_type": "slide"
    }
   },
   "source": [
    "## Thruster "
   ]
  },
  {
   "cell_type": "markdown",
   "id": "spatial-composer",
   "metadata": {
    "slideshow": {
     "slide_type": "slide"
    }
   },
   "source": [
    "#### Density - 1 & 2\n",
    "<table><tr>\n",
    "<td> <img src=\"results/thruster_1/figures/1_density_spatial_distribution_it_200_100frames.png\" alt=\"Drawing\" style=\"width: 500px;\"/> </td>\n",
    "<td> <img src=\"results/thruster_2/figures/1_density_spatial_distribution_it_200_100frames.png\" alt=\"Drawing\" style=\"width: 500px;\"/> </td>\n",
    "</tr></table>"
   ]
  },
  {
   "cell_type": "markdown",
   "id": "improving-gasoline",
   "metadata": {},
   "source": [
    "### Density - 3 & 4\n",
    "<table><tr>\n",
    "<td> <img src=\"results/thruster_3/figures/1_density_spatial_distribution_it_200_100frames.png\" alt=\"Drawing\" style=\"width: 500px;\"/> </td>\n",
    "<td> <img src=\"results/thruster_4/figures/1_density_spatial_distribution_it_200_100frames.png\" alt=\"Drawing\" style=\"width: 500px;\"/> </td>\n",
    "</tr></table>"
   ]
  },
  {
   "cell_type": "markdown",
   "id": "endless-journey",
   "metadata": {
    "slideshow": {
     "slide_type": "slide"
    }
   },
   "source": [
    "### Evolution of the number of particles in the system - 1 & 2\n",
    "\n",
    "<table><tr>\n",
    "<td> <img src=\"results/thruster_1/figures/_number_part_evolution.png\" alt=\"Drawing\" style=\"width: 500px;\"/> </td>\n",
    "<td> <img src=\"results/thruster_2/figures/_number_part_evolution.png\" alt=\"Drawing\" style=\"width: 500px;\"/> </td>\n",
    "</tr></table>"
   ]
  },
  {
   "cell_type": "markdown",
   "id": "together-tribe",
   "metadata": {},
   "source": [
    "### Evolution of the number of particles in the system - 1 & 2 \n",
    "<table><tr>\n",
    "<td> <img src=\"results/thruster_3/figures/_number_part_evolution.png\" alt=\"Drawing\" style=\"width: 500px;\"/> </td>\n",
    "<td> <img src=\"results/thruster_4/figures/_number_part_evolution.png\" alt=\"Drawing\" style=\"width: 500px;\"/> </td>\n",
    "</tr></table>"
   ]
  },
  {
   "cell_type": "markdown",
   "id": "cultural-vegetation",
   "metadata": {
    "slideshow": {
     "slide_type": "slide"
    }
   },
   "source": [
    "### Speed - $V_y$ - 1 & 2\n",
    "<table><tr> \n",
    "<td> <img src=\"results/thruster_1/figures/1_vy_spatial_distribution_it_200_100frames.png\" alt=\"Drawing\" style=\"width: 500px;\"/> </td>\n",
    "<td> <img src=\"results/thruster_2/figures/1_vy_spatial_distribution_it_200_100frames.png\" alt=\"Drawing\" style=\"width: 500px;\"/> </td>\n",
    "\n",
    "</tr></table>"
   ]
  },
  {
   "cell_type": "markdown",
   "id": "antique-joining",
   "metadata": {},
   "source": [
    "### Speed - $V_y$ - 3 & 4\n",
    "<table><tr>\n",
    "<td> <img src=\"results/thruster_3/figures/1_vy_spatial_distribution_it_200_100frames.png\" alt=\"Drawing\" style=\"width: 500px;\"/> </td>\n",
    "<td> <img src=\"results/thruster_4/figures/1_vy_spatial_distribution_it_200_100frames.png\" alt=\"Drawing\" style=\"width: 500px;\"/> </td>\n",
    "</tr></table>"
   ]
  },
  {
   "cell_type": "markdown",
   "id": "raising-practitioner",
   "metadata": {
    "slideshow": {
     "slide_type": "slide"
    }
   },
   "source": [
    "### Speed - $Vx$ - 1 & 2\n",
    "<table><tr>\n",
    "<td> <img src=\"results/thruster_1/figures/1_vx_spatial_distribution_it_200_100frames.png\" alt=\"Drawing\" style=\"width: 500px;\"/> </td>\n",
    "<td> <img src=\"results/thruster_2/figures/1_vx_spatial_distribution_it_200_100frames.png\" alt=\"Drawing\" style=\"width: 500px;\"/> </td>\n",
    "\n",
    "</tr></table>"
   ]
  },
  {
   "cell_type": "markdown",
   "id": "surgical-interest",
   "metadata": {},
   "source": [
    "### Speed - $Vx$ - 3 & 4\n",
    "<table><tr>\n",
    "<td> <img src=\"results/thruster_3/figures/1_vx_spatial_distribution_it_200_100frames.png\" alt=\"Drawing\" style=\"width: 500px;\"/> </td>\n",
    "<td> <img src=\"results/thruster_4/figures/1_vx_spatial_distribution_it_200_100frames.png\" alt=\"Drawing\" style=\"width: 500px;\"/> </td>\n",
    "</tr></table>"
   ]
  },
  {
   "cell_type": "markdown",
   "id": "personalized-venice",
   "metadata": {
    "slideshow": {
     "slide_type": "skip"
    }
   },
   "source": [
    "### Injection\n",
    "\n",
    "Grosse question : pourquoi leap frog algo => je pense que je peux l'adapter à mes besoins, en réfléchissant vraiment bien (bien comprendre le principe).\n",
    "\n",
    "Concernant l'injection, l'important est d'avoir un schéma qui préserve l'ordre. Ex : j'ai un RK4 (ordre4), je voudrais une injection d'ordre 4. En pratiques, ils utilisent le leap frog algo. xn, vn-1/2...\n",
    "\n",
    "Je vais considérer ici, comme c'est ce qu'ils m'ont demandé, uniquement l'iode $[I]$, ce qui me permet de ne pas considérer de champ. Et donc de pouvoir injecter comme je le veux, quasiment : Modified fractional time step Boris push.\n",
    "\n",
    "Si un jour je rajoute les ions etc. => champ non uniforme (il devient important dans la modélisation)."
   ]
  },
  {
   "cell_type": "markdown",
   "id": "acquired-medline",
   "metadata": {
    "slideshow": {
     "slide_type": "skip"
    }
   },
   "source": [
    "# Modelization results\n",
    "<table><tr>\n",
    "<td> <img src=\"results_tests/uniform/2_temperature_evolution.png\" alt=\"Drawing\" style=\"width: 400px;\"/> </td>\n",
    "<td> <img src=\"results_tests/uniform_norm/3_temperature_evolution.png\" alt=\"Drawing\" style=\"width: 400px;\"/> </td>\n",
    "</tr></table>"
   ]
  },
  {
   "cell_type": "markdown",
   "id": "solar-offense",
   "metadata": {
    "slideshow": {
     "slide_type": "skip"
    }
   },
   "source": [
    "## Sources \n",
    "* https://mathworld.wolfram.com/MaxwellDistribution.html\n",
    "* Francis J. Alexander and Alejandro L. Garcia (1997). The Direct Simulation Monte Carlo Method.\n",
    "* Bird, G. (1994). Molecular Gas Dynamics and the Direct Simulation of Gas Flows.\n",
    "* https://scicomp.stackexchange.com/questions/19969/how-do-i-generate-maxwell-boltzmann-variates-using-a-uniform-distribution-random\n",
    "\n",
    "\n",
    "Conclusion : \n",
    "* https://www.mech.kth.se/~lhs/Danielsson_Birgersson.pdf Heat Transfer Between Two Plates (boundaries conditions)\n",
    "* http://fisica.ufpr.br/sharipov/tube.html # to compare with one tube simulation and the paper : https://avs.scitation.org/doi/10.1116/1.578969 \n",
    "* https://citeseerx.ist.psu.edu/viewdoc/download?doi=10.1.1.566.8427&rep=rep1&type=pdf injection of maxwellian distribution (how to do it)\n",
    "\n",
    "TODO : \n",
    " * clean le code (cfg etc.)\n",
    " * increase by 10/100 the number of particles for the simulation and see if the error remains\n",
    " * OPT : initialisation avec deux gaussiennes / boundary conditions (comment les gérer, en fixant la température etc. voir les liens au-dessus).\n",
    " * Simulation sur le vrai système : géométrie qui fit le système, commencer par une seule grille (une tube) puis faire deux (système réel). Les liens précédents peuvent être utiles concernant cela (pour comparer mes résultats etc.). On peut seulement sauver les indices pour la deuxième grille (et du coup on va voir dans la première grille uniquement les cases qui nous intéresse).\n",
    " \n",
    "L'objectif de ce que je dois faire : comprendre et connaître la densité de neutre (le flux de neutres) dans le système réel. On simule ainsi uniquement le flux de I !! (pas de deuxième espèce nécessaire) Ensuite on utilise l'algo de Edouard.\n",
    "\n",
    "Autre : \n",
    "* OS - CYS (code pour lancer à partir de python du code en C).\n",
    " "
   ]
  },
  {
   "cell_type": "markdown",
   "id": "discrete-jefferson",
   "metadata": {
    "slideshow": {
     "slide_type": "skip"
    }
   },
   "source": [
    "\n",
    "On cherche à modélisation par la relation suivant:\n",
    "\n",
    "$$T(t) = (T_0 - T_{eq})e^{-t/\\tau}+T_{eq}$$\n",
    "\n",
    "Evolution de la température dans l'expérience, à chaque temps $n$: \n",
    "1. On définit $w_n = v_n - <v_n>$\n",
    "2. Puis on calcule : $<w_n^2>$ qui est une approximation de la variance de la variable aléatoire $V_n$ par définition.\n",
    "3. Et enfin : $T_{n} = \\frac{m}{3k}<w_n^2>$.\n",
    "\n",
    "Etant donné que le système est conservatif, on calcule $T_{eq} = \\frac{m}{3k}<v_{0}^2>$ où $<v_{0}^2>$ est une approximation du moment d'ordre 2 de la variable aléatoire $V_0$ (par définition).\n",
    "\n",
    "Puis on minimise $|T_{exp,n}-\\big[(T_0 - T_{eq})e^{-t/\\tau}+T_{eq}\\big]|$ par rapport à $\\tau$."
   ]
  },
  {
   "cell_type": "markdown",
   "id": "diverse-yesterday",
   "metadata": {
    "slideshow": {
     "slide_type": "skip"
    }
   },
   "source": [
    "## Image du propulseur et de ses grilles\n"
   ]
  },
  {
   "cell_type": "code",
   "execution_count": null,
   "id": "golden-sound",
   "metadata": {},
   "outputs": [],
   "source": [
    "from main import simulate, processing_only\n",
    "\n",
    "system_cfg_path = 'cfg_files/tests/test_thruster.cfg'\n",
    "simulation_cfg_path = 'cfg_files/tests/simulation_thruster_test.cfg'\n",
    "processing_simulation_path = 'cfg_files/tests/processing_thruster_test.cfg'\n",
    "\n",
    "simulate(system_cfg_path, simulation_cfg_path, processing_simulation_path, verbose = True)"
   ]
  }
 ],
 "metadata": {
  "celltoolbar": "Slideshow",
  "kernelspec": {
   "display_name": "Python 3",
   "language": "python",
   "name": "python3"
  },
  "language_info": {
   "codemirror_mode": {
    "name": "ipython",
    "version": 3
   },
   "file_extension": ".py",
   "mimetype": "text/x-python",
   "name": "python",
   "nbconvert_exporter": "python",
   "pygments_lexer": "ipython3",
   "version": "3.7.9"
  }
 },
 "nbformat": 4,
 "nbformat_minor": 5
}
