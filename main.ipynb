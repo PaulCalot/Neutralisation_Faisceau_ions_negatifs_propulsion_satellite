{
 "cells": [
  {
   "cell_type": "code",
   "execution_count": 1,
   "id": "committed-software",
   "metadata": {},
   "outputs": [],
   "source": [
    "from pprint import pprint\n",
    "# importing functions and modules\n",
    "from main import get_options"
   ]
  },
  {
   "cell_type": "code",
   "execution_count": 2,
   "id": "abroad-resistance",
   "metadata": {},
   "outputs": [],
   "source": [
    "debug = True"
   ]
  },
  {
   "cell_type": "code",
   "execution_count": 3,
   "id": "secure-playlist",
   "metadata": {},
   "outputs": [],
   "source": [
    "# defining paths to cfg \n",
    "main = 'cfg_files/main.cfg'\n",
    "system = 'cfg_files/square.cfg'\n",
    "saving = 'cfg_files/saving.cfg'\n",
    "simulation = 'cfg_files/simulation.cfg'\n",
    "\n",
    "cfg_path_dict = {\n",
    "    'main':main,\n",
    "    'system':system,\n",
    "    'saving':saving,\n",
    "    'simulation':simulation\n",
    "}"
   ]
  },
  {
   "cell_type": "code",
   "execution_count": 4,
   "id": "confident-economy",
   "metadata": {},
   "outputs": [
    {
     "name": "stdout",
     "output_type": "stream",
     "text": [
      "{'main': {'id_test': 1,\n",
      "          'particles_densities': [1e+20],\n",
      "          'particles_mean_number_per_cell': [100],\n",
      "          'particles_radius': [2e-10],\n",
      "          'particles_types': ['I'],\n",
      "          'speed_param1': [300.0],\n",
      "          'speed_param2': [30.0],\n",
      "          'speed_type': ['gaussian'],\n",
      "          'system_type': 'square'},\n",
      " 'saving': {'path': PosixPath('/home/paul/Documents/projects/Neutralisation_Faisceau_ions_negatifs_propulsion_satellite/results'),\n",
      "            'period': 10},\n",
      " 'simulation': {'dt': 0.25, 'number_of_steps': 300, 'scheme': 'euler_explicit'},\n",
      " 'square': {'factor': 1.0, 'lz': 0.1, 'size': [3, 3]}}\n"
     ]
    }
   ],
   "source": [
    "options = get_options(cfg_path_dict)\n",
    "if(debug): pprint(options)"
   ]
  },
  {
   "cell_type": "code",
   "execution_count": null,
   "id": "unavailable-constitution",
   "metadata": {},
   "outputs": [],
   "source": []
  }
 ],
 "metadata": {
  "kernelspec": {
   "display_name": "Python 3",
   "language": "python",
   "name": "python3"
  },
  "language_info": {
   "codemirror_mode": {
    "name": "ipython",
    "version": 3
   },
   "file_extension": ".py",
   "mimetype": "text/x-python",
   "name": "python",
   "nbconvert_exporter": "python",
   "pygments_lexer": "ipython3",
   "version": "3.7.9"
  }
 },
 "nbformat": 4,
 "nbformat_minor": 5
}
