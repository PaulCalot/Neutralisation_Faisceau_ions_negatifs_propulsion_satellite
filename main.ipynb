{
 "cells": [
  {
   "cell_type": "code",
   "execution_count": 1,
   "id": "portable-memory",
   "metadata": {},
   "outputs": [
    {
     "name": "stdout",
     "output_type": "stream",
     "text": [
      "{'L_1': 0.002,\n",
      " 'L_2': 0.004,\n",
      " 'L_mot': 0.005,\n",
      " 'L_vacuum': 0.005,\n",
      " 'delta_vert_12': 0.001,\n",
      " 'l_1': 0.001,\n",
      " 'l_2': 0.01,\n",
      " 'l_mot': 0.001,\n",
      " 'l_vacuum': 0.001,\n",
      " 'res_x': 28,\n",
      " 'res_y': 5}\n"
     ]
    }
   ],
   "source": [
    "from pprint import pprint\n",
    "\n",
    "dx = 0.001\n",
    "dy = 0.001\n",
    "n = 10\n",
    "\n",
    "def get_size(dx, dy, n):\n",
    "    return {\n",
    "        'L_mot' : 5*dx,\n",
    "        'l_mot' : dy,\n",
    "        'L_1' :  2*dx,\n",
    "        'l_1' : dy,\n",
    "        'L_2' : 4*dx,\n",
    "        'l_2' : n*dy,\n",
    "        'delta_vert_12' : dy,\n",
    "        'L_vacuum' : 5*dx,\n",
    "        'l_vacuum' : dy,\n",
    "        'res_x': 2*(n+4),\n",
    "        'res_y': 5\n",
    "    }\n",
    "\n",
    "pprint(get_size(dx,dy,n))xxxx\n"
   ]
  },
  {
   "cell_type": "code",
   "execution_count": null,
   "id": "dominant-surname",
   "metadata": {},
   "outputs": [
    {
     "name": "stderr",
     "output_type": "stream",
     "text": [
      "/home/paul/anaconda3/envs/NIRN/lib/python3.7/site-packages/numpy/lib/arraysetops.py:522: FutureWarning: elementwise comparison failed; returning scalar instead, but in the future will perform elementwise comparison\n",
      "  mask |= (ar1 == a)\n"
     ]
    },
    {
     "name": "stdout",
     "output_type": "stream",
     "text": [
      "First time test 1 is loaded. Computing speed norm and saving it back.\n"
     ]
    },
    {
     "name": "stderr",
     "output_type": "stream",
     "text": [
      "No handles with labels found to put in legend.\n",
      "No handles with labels found to put in legend.\n"
     ]
    },
    {
     "name": "stdout",
     "output_type": "stream",
     "text": [
      "For test 1, N_e = 7.694080e+12 vs N_t = 4.160000e+12.\n"
     ]
    },
    {
     "name": "stderr",
     "output_type": "stream",
     "text": [
      "No handles with labels found to put in legend.\n",
      "No handles with labels found to put in legend.\n",
      "No handles with labels found to put in legend.\n"
     ]
    }
   ],
   "source": [
    "from main import simulate, processing_only\n",
    "\n",
    "system_cfg_path = 'results/serie2/thruster/cfg_files/thruster.cfg'\n",
    "simulation_cfg_path = 'results/serie2/thruster/cfg_files/simulation_thruster.cfg'\n",
    "processing_simulation_path = 'results/serie2/thruster/cfg_files/processing_thruster.cfg'\n",
    "\n",
    "processing_only(system_cfg_path, simulation_cfg_path, processing_simulation_path, recompute = True)"
   ]
  },
  {
   "cell_type": "code",
   "execution_count": 1,
   "id": "buried-marks",
   "metadata": {},
   "outputs": [
    {
     "ename": "KeyboardInterrupt",
     "evalue": "",
     "output_type": "error",
     "traceback": [
      "\u001b[0;31m---------------------------------------------------------------------------\u001b[0m",
      "\u001b[0;31mKeyboardInterrupt\u001b[0m                         Traceback (most recent call last)",
      "\u001b[0;32m<ipython-input-1-e8117ba293db>\u001b[0m in \u001b[0;36m<module>\u001b[0;34m\u001b[0m\n\u001b[1;32m      6\u001b[0m \u001b[0;32mwith\u001b[0m \u001b[0mopen\u001b[0m\u001b[0;34m(\u001b[0m\u001b[0;34m\"results/thruster/1.csv\"\u001b[0m\u001b[0;34m,\u001b[0m \u001b[0;34m'r'\u001b[0m\u001b[0;34m)\u001b[0m \u001b[0;32mas\u001b[0m \u001b[0mtextfile\u001b[0m\u001b[0;34m:\u001b[0m\u001b[0;34m\u001b[0m\u001b[0;34m\u001b[0m\u001b[0m\n\u001b[1;32m      7\u001b[0m     \u001b[0mreader\u001b[0m \u001b[0;34m=\u001b[0m \u001b[0mcsv\u001b[0m\u001b[0;34m.\u001b[0m\u001b[0mreader\u001b[0m\u001b[0;34m(\u001b[0m\u001b[0mreversed_lines\u001b[0m\u001b[0;34m(\u001b[0m\u001b[0mtextfile\u001b[0m\u001b[0;34m)\u001b[0m\u001b[0;34m)\u001b[0m\u001b[0;34m\u001b[0m\u001b[0;34m\u001b[0m\u001b[0m\n\u001b[0;32m----> 8\u001b[0;31m     \u001b[0;32mfor\u001b[0m \u001b[0mi\u001b[0m\u001b[0;34m,\u001b[0m \u001b[0mrow\u001b[0m \u001b[0;32min\u001b[0m \u001b[0menumerate\u001b[0m\u001b[0;34m(\u001b[0m\u001b[0mreader\u001b[0m\u001b[0;34m)\u001b[0m\u001b[0;34m:\u001b[0m\u001b[0;34m\u001b[0m\u001b[0;34m\u001b[0m\u001b[0m\n\u001b[0m\u001b[1;32m      9\u001b[0m         \u001b[0;32mif\u001b[0m\u001b[0;34m(\u001b[0m\u001b[0mlen\u001b[0m\u001b[0;34m(\u001b[0m\u001b[0mrow\u001b[0m\u001b[0;34m)\u001b[0m\u001b[0;34m<\u001b[0m\u001b[0mexpected_lenght\u001b[0m\u001b[0;34m)\u001b[0m\u001b[0;34m:\u001b[0m\u001b[0;34m\u001b[0m\u001b[0;34m\u001b[0m\u001b[0m\n\u001b[1;32m     10\u001b[0m             \u001b[0ml\u001b[0m\u001b[0;34m[\u001b[0m\u001b[0;36m0\u001b[0m\u001b[0;34m]\u001b[0m\u001b[0;34m+=\u001b[0m\u001b[0;36m1\u001b[0m\u001b[0;34m\u001b[0m\u001b[0;34m\u001b[0m\u001b[0m\n",
      "\u001b[0;32m~/Documents/projects/Neutralisation_Faisceau_ions_negatifs_propulsion_satellite/main/utils/split_csv.py\u001b[0m in \u001b[0;36mreversed_lines\u001b[0;34m(file)\u001b[0m\n\u001b[1;32m     14\u001b[0m                 \u001b[0;32myield\u001b[0m \u001b[0mpart\u001b[0m\u001b[0;34m[\u001b[0m\u001b[0;34m:\u001b[0m\u001b[0;34m:\u001b[0m\u001b[0;34m-\u001b[0m\u001b[0;36m1\u001b[0m\u001b[0;34m]\u001b[0m\u001b[0;34m\u001b[0m\u001b[0;34m\u001b[0m\u001b[0m\n\u001b[1;32m     15\u001b[0m                 \u001b[0mpart\u001b[0m \u001b[0;34m=\u001b[0m \u001b[0;34m''\u001b[0m\u001b[0;34m\u001b[0m\u001b[0;34m\u001b[0m\u001b[0m\n\u001b[0;32m---> 16\u001b[0;31m             \u001b[0mpart\u001b[0m \u001b[0;34m+=\u001b[0m \u001b[0mc\u001b[0m\u001b[0;34m\u001b[0m\u001b[0;34m\u001b[0m\u001b[0m\n\u001b[0m\u001b[1;32m     17\u001b[0m     \u001b[0;32mif\u001b[0m \u001b[0mpart\u001b[0m\u001b[0;34m:\u001b[0m \u001b[0;32myield\u001b[0m \u001b[0mpart\u001b[0m\u001b[0;34m[\u001b[0m\u001b[0;34m:\u001b[0m\u001b[0;34m:\u001b[0m\u001b[0;34m-\u001b[0m\u001b[0;36m1\u001b[0m\u001b[0;34m]\u001b[0m\u001b[0;34m\u001b[0m\u001b[0;34m\u001b[0m\u001b[0m\n\u001b[1;32m     18\u001b[0m \u001b[0;34m\u001b[0m\u001b[0m\n",
      "\u001b[0;31mKeyboardInterrupt\u001b[0m: "
     ]
    }
   ],
   "source": [
    "from main import split, reversed_lines\n",
    "import csv\n",
    "\n",
    "l = [0,0,0,0,0,0]\n",
    "expected_lenght=9\n",
    "with open(\"results/thruster/1.csv\", 'r') as textfile:\n",
    "    reader = csv.reader(reversed_lines(textfile))\n",
    "    for i, row in enumerate(reader):\n",
    "        if(len(row)<expected_lenght):\n",
    "            l[0]+=1\n",
    "            continue\n",
    "        elif(len(row)==expected_lenght+1):\n",
    "            l[1]+=1\n",
    "            row = [row[r] for r in range(len(row)) if r not in [5]]\n",
    "        elif(len(row)==expected_lenght+2):\n",
    "            l[2]+=1\n",
    "            row = [row[r] for r in range(len(row)) if r not in [5,6]]\n",
    "        elif(len(row)==expected_lenght+3):\n",
    "            l[3]+=1\n",
    "            row = [row[r] for r in range(len(row)) if r not in [1,2,3]]\n",
    "        elif(len(row)!=expected_lenght):\n",
    "            l[4]+=1\n",
    "            print(row)\n",
    "        else :\n",
    "            l[5]+=1\n",
    "print('Under / +1 / +2 / +3 / else / normal : {}'.format(l))"
   ]
  },
  {
   "cell_type": "code",
   "execution_count": 1,
   "id": "appointed-statistics",
   "metadata": {},
   "outputs": [
    {
     "name": "stdout",
     "output_type": "stream",
     "text": [
      "1999\n",
      "Under / +1 / +2 / +3 / else / normal : [211790, 355354, 324365, 25574, 0, 27246164]\n"
     ]
    }
   ],
   "source": [
    "from main import split, reversed_lines\n",
    "import csv\n",
    "split(open(\"results/thruster/1.csv\", 'r'), iterations = 500, index = -1, expected_lenght = 9, idx_to_delete = [5,6], output_name_template='output_%s.csv', output_path='results/thruster/')"
   ]
  },
  {
   "cell_type": "code",
   "execution_count": 35,
   "id": "precious-morrison",
   "metadata": {},
   "outputs": [],
   "source": [
    "N_perma = 25000 # number of particles in the system in steady flow\n",
    "target_space = 1000 # number of Mo to use for saving the given test\n",
    "\n",
    "def size_one_save(N, target_space = None, nb_iterations = None, saving_period = None, with_processing = False, as_csv = True):\n",
    "    from pprint import pprint\n",
    "    V = 6\n",
    "    if(as_csv):\n",
    "        W = (6*22+1+2)/6 # if float32 are saved as str, which is the case in csv, then, we can expect something of this magniture. \n",
    "        # I should maybe make sure I am using scientific notation..\n",
    "        if(with_processing): # for norm and norm squared\n",
    "            W+=22*2/6\n",
    "    else:\n",
    "        W = (6*4+1+2)/6\n",
    "        if(with_processing):\n",
    "            W+=4*2/6\n",
    "    # which yields :\n",
    "    size = N*(V*W+4)/1024**2\n",
    "    \n",
    "    out = {\n",
    "        'N':N,\n",
    "        'Size one save (MB)':size\n",
    "    }\n",
    "    \n",
    "    if(nb_iterations != None):\n",
    "        if(saving_period != None):\n",
    "            size *= nb_iterations//saving_period\n",
    "            out['Nb iterations']=nb_iterations\n",
    "            out['Saving period']=saving_period\n",
    "            out['Nb saves (induced)']=nb_iterations//saving_period\n",
    "            out['Total size (induced)(MB)']=size\n",
    "        else:\n",
    "            size *= nb_iterations\n",
    "            out['Nb iterations']=nb_iterations\n",
    "            out['Saving period']=1\n",
    "            out['Nb saves (induced)']=nb_iterations\n",
    "            out['Total size (induced) (MB)']=size\n",
    "    else:\n",
    "        if(saving_period != None and target_space != None):\n",
    "            nb_saves = int(target_space/size)\n",
    "            nb_iterations = nb_saves*saving_period\n",
    "            out['Nb iterations (induced)']=nb_iterations\n",
    "            out['Saving period']=saving_period\n",
    "            out['Nb saves (induced)']=nb_saves\n",
    "            out['Total size (MB)']=target_space\n",
    "    pprint(out)\n",
    "    return out\n",
    "\n"
   ]
  },
  {
   "cell_type": "code",
   "execution_count": 43,
   "id": "funky-harvest",
   "metadata": {},
   "outputs": [
    {
     "name": "stdout",
     "output_type": "stream",
     "text": [
      "{'N': 25000,\n",
      " 'Nb iterations': 20000,\n",
      " 'Nb saves (induced)': 400,\n",
      " 'Saving period': 50,\n",
      " 'Size one save (MB)': 3.3140182495117188,\n",
      " 'Total size (induced)(MB)': 1325.6072998046875}\n"
     ]
    },
    {
     "data": {
      "text/plain": [
       "{'N': 25000,\n",
       " 'Size one save (MB)': 3.3140182495117188,\n",
       " 'Nb iterations': 20000,\n",
       " 'Saving period': 50,\n",
       " 'Nb saves (induced)': 400,\n",
       " 'Total size (induced)(MB)': 1325.6072998046875}"
      ]
     },
     "execution_count": 43,
     "metadata": {},
     "output_type": "execute_result"
    }
   ],
   "source": [
    "# thruster 1 - steady state\n",
    "size_one_save(N=25000, nb_iterations = 20000, saving_period = 50) # per day : 5000"
   ]
  },
  {
   "cell_type": "code",
   "execution_count": 50,
   "id": "surprising-admission",
   "metadata": {},
   "outputs": [
    {
     "name": "stdout",
     "output_type": "stream",
     "text": [
      "{'N': 100000,\n",
      " 'Nb iterations': 2000,\n",
      " 'Nb saves (induced)': 200,\n",
      " 'Saving period': 10,\n",
      " 'Size one save (MB)': 13.256072998046875,\n",
      " 'Total size (induced)(MB)': 2651.214599609375}\n"
     ]
    },
    {
     "data": {
      "text/plain": [
       "{'N': 100000,\n",
       " 'Size one save (MB)': 13.256072998046875,\n",
       " 'Nb iterations': 2000,\n",
       " 'Saving period': 10,\n",
       " 'Nb saves (induced)': 200,\n",
       " 'Total size (induced)(MB)': 2651.214599609375}"
      ]
     },
     "execution_count": 50,
     "metadata": {},
     "output_type": "execute_result"
    }
   ],
   "source": [
    "# thruster 1 - x4 cells\n",
    "size_one_save(N=100000, nb_iterations = 2000, saving_period = 10) # per day : 500"
   ]
  },
  {
   "cell_type": "code",
   "execution_count": 45,
   "id": "intimate-wrapping",
   "metadata": {},
   "outputs": [
    {
     "name": "stdout",
     "output_type": "stream",
     "text": [
      "{'N': 11000,\n",
      " 'Nb iterations': 20000,\n",
      " 'Nb saves (induced)': 400,\n",
      " 'Saving period': 50,\n",
      " 'Size one save (MB)': 1.4581680297851562,\n",
      " 'Total size (induced)(MB)': 583.2672119140625}\n"
     ]
    },
    {
     "data": {
      "text/plain": [
       "{'N': 11000,\n",
       " 'Size one save (MB)': 1.4581680297851562,\n",
       " 'Nb iterations': 20000,\n",
       " 'Saving period': 50,\n",
       " 'Nb saves (induced)': 400,\n",
       " 'Total size (induced)(MB)': 583.2672119140625}"
      ]
     },
     "execution_count": 45,
     "metadata": {},
     "output_type": "execute_result"
    }
   ],
   "source": [
    "# tube 1 - steady state\n",
    "size_one_save(N=11000, nb_iterations = 20000, saving_period = 50) # per day : 20000"
   ]
  },
  {
   "cell_type": "code",
   "execution_count": 39,
   "id": "brutal-background",
   "metadata": {},
   "outputs": [
    {
     "name": "stdout",
     "output_type": "stream",
     "text": [
      "{'N': 11000,\n",
      " 'Nb iterations': 2000,\n",
      " 'Nb saves (induced)': 500,\n",
      " 'Saving period': 4,\n",
      " 'Size one save (MB)': 1.9197463989257812,\n",
      " 'Total size (induced)(MB)': 959.8731994628906}\n"
     ]
    },
    {
     "data": {
      "text/plain": [
       "{'N': 11000,\n",
       " 'Size one save (MB)': 1.9197463989257812,\n",
       " 'Nb iterations': 2000,\n",
       " 'Saving period': 4,\n",
       " 'Nb saves (induced)': 500,\n",
       " 'Total size (induced)(MB)': 959.8731994628906}"
      ]
     },
     "execution_count": 39,
     "metadata": {},
     "output_type": "execute_result"
    }
   ],
   "source": [
    "size_one_save(N=11000, nb_iterations = 2000, saving_period = 4, with_processing=True)"
   ]
  },
  {
   "cell_type": "code",
   "execution_count": null,
   "id": "molecular-korea",
   "metadata": {},
   "outputs": [],
   "source": []
  }
 ],
 "metadata": {
  "kernelspec": {
   "display_name": "Python 3",
   "language": "python",
   "name": "python3"
  },
  "language_info": {
   "codemirror_mode": {
    "name": "ipython",
    "version": 3
   },
   "file_extension": ".py",
   "mimetype": "text/x-python",
   "name": "python",
   "nbconvert_exporter": "python",
   "pygments_lexer": "ipython3",
   "version": "3.7.9"
  }
 },
 "nbformat": 4,
 "nbformat_minor": 5
}
